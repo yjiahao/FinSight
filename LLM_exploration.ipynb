{
 "cells": [
  {
   "cell_type": "code",
   "execution_count": 50,
   "metadata": {},
   "outputs": [],
   "source": [
    "from langchain_core.prompts import ChatPromptTemplate, MessagesPlaceholder\n",
    "from langchain_groq import ChatGroq\n",
    "from langchain_community.chat_message_histories import ChatMessageHistory\n",
    "from langchain_core.chat_history import BaseChatMessageHistory\n",
    "from langchain_core.runnables.history import RunnableWithMessageHistory\n",
    "\n",
    "from dotenv import load_dotenv"
   ]
  },
  {
   "cell_type": "code",
   "execution_count": 51,
   "metadata": {},
   "outputs": [
    {
     "data": {
      "text/plain": [
       "True"
      ]
     },
     "execution_count": 51,
     "metadata": {},
     "output_type": "execute_result"
    }
   ],
   "source": [
    "load_dotenv()"
   ]
  },
  {
   "cell_type": "code",
   "execution_count": 58,
   "metadata": {},
   "outputs": [],
   "source": [
    "chat = ChatGroq(\n",
    "    temperature=0,\n",
    "    model='llama-3.1-70b-versatile'\n",
    ")"
   ]
  },
  {
   "cell_type": "code",
   "execution_count": 60,
   "metadata": {},
   "outputs": [],
   "source": [
    "system = \"\"\"\n",
    "You are an investing professional, specializing in stock-picking. Answer the user's questions on investing in detail.\n",
    "Given a chat history and the latest user question which might reference context in the chat history, answer the question\n",
    "to the best of your ability. If you do not know the answer, just return \"I don't know\".\n",
    "\"\"\"\n",
    "store = {}\n",
    "\n",
    "def get_session_history(session_id: str) -> BaseChatMessageHistory:\n",
    "    if session_id not in store:\n",
    "        store[session_id] = ChatMessageHistory()\n",
    "    return store[session_id]\n",
    "\n",
    "prompt = ChatPromptTemplate.from_messages(\n",
    "    [\n",
    "        (\"system\", system),\n",
    "        MessagesPlaceholder(variable_name=\"history\"),\n",
    "        (\"human\", \"{input}\")\n",
    "    ]\n",
    ")\n",
    "\n",
    "chain = prompt | chat"
   ]
  },
  {
   "cell_type": "code",
   "execution_count": 61,
   "metadata": {},
   "outputs": [],
   "source": [
    "with_message_history = RunnableWithMessageHistory(\n",
    "    chain,\n",
    "    get_session_history,\n",
    "    input_messages_key=\"input\",\n",
    "    history_messages_key=\"history\",\n",
    ")"
   ]
  },
  {
   "cell_type": "code",
   "execution_count": 63,
   "metadata": {},
   "outputs": [
    {
     "name": "stdout",
     "output_type": "stream",
     "text": [
      "You're looking to improve your investing skills! I'd like to build upon my previous response and provide more specific advice.\n",
      "\n",
      "To get better at investing, consider the following:\n",
      "\n",
      "1. **Develop a stock selection framework**: Create a systematic approach to evaluating stocks, including factors such as:\n",
      "\t* Financial health (e.g., debt, profitability, cash flow)\n",
      "\t* Competitive advantage (e.g., moat, market position)\n",
      "\t* Growth prospects (e.g., industry trends, management team)\n",
      "\t* Valuation (e.g., price-to-earnings ratio, dividend yield)\n",
      "2. **Improve your financial statement analysis skills**: Learn to read and analyze financial statements, including:\n",
      "\t* Income statements\n",
      "\t* Balance sheets\n",
      "\t* Cash flow statements\n",
      "\t* Footnotes and management's discussion and analysis (MD&A)\n",
      "3. **Enhance your understanding of accounting and financial concepts**: Study topics such as:\n",
      "\t* Accounting principles (e.g., GAAP, IFRS)\n",
      "\t* Financial ratios and metrics (e.g., return on equity, debt-to-equity)\n",
      "\t* Industry-specific accounting and financial issues\n",
      "4. **Stay up-to-date with market trends and news**: Follow reputable sources, such as:\n",
      "\t* Financial news websites and publications\n",
      "\t* Industry reports and research studies\n",
      "\t* Company announcements and press releases\n",
      "5. **Practice critical thinking and skepticism**: Develop a healthy dose of skepticism when evaluating investment opportunities. Ask yourself:\n",
      "\t* What are the potential risks and downsides?\n",
      "\t* Are the company's financials and growth prospects sustainable?\n",
      "\t* Is the valuation reasonable?\n",
      "6. **Learn from others**: Study the investment strategies and philosophies of successful investors, such as:\n",
      "\t* Warren Buffett's value investing approach\n",
      "\t* Peter Lynch's growth investing strategy\n",
      "\t* Charlie Munger's emphasis on business quality and moats\n",
      "7. **Join a community of investors**: Connect with other investors through online forums, social media groups, or local investing clubs to:\n",
      "\t* Share ideas and insights\n",
      "\t* Learn from others' experiences\n",
      "\t* Get feedback on your investment decisions\n",
      "8. **Continuously reflect and improve**: Regularly review your investment decisions and outcomes. Ask yourself:\n",
      "\t* What did I do well?\n",
      "\t* What could I have done better?\n",
      "\t* What can I improve on in the future?\n",
      "\n",
      "Additionally, consider the following resources to help you improve your investing skills:\n",
      "\n",
      "* **Books**: \"The Intelligent Investor\" by Benjamin Graham, \"Security Analysis\" by Benjamin Graham and David Dodd, and \"The Little Book of Common Sense Investing\" by John C. Bogle\n",
      "* **Online courses**: Websites like Coursera, edX, and Udemy offer courses on investing and finance\n",
      "* **Podcasts**: \"The Tim Ferriss Show\", \"The Dave Ramsey Show\", and \"Planet Money\" offer insights and interviews with successful investors and financial experts\n",
      "* **Investing apps**: Utilize apps like Robinhood, Fidelity, or Vanguard to practice investing and track your performance\n",
      "\n",
      "Remember, improving your investing skills takes time, effort, and dedication. By following these tips and staying committed to your goals, you'll become a more informed and effective investor.\n",
      "\n",
      "Do you have any specific questions or areas you'd like me to expand on?\n"
     ]
    }
   ],
   "source": [
    "response = with_message_history.invoke(\n",
    "        {\"input\": \"How can I get better at investing?\"},\n",
    "        config={\"configurable\": {\"session_id\": \"abc123\"}}\n",
    "    )\n",
    "\n",
    "print(response.content)"
   ]
  },
  {
   "cell_type": "code",
   "execution_count": 64,
   "metadata": {},
   "outputs": [
    {
     "name": "stdout",
     "output_type": "stream",
     "text": [
      "Financial statement analysis is a crucial skill for investors to evaluate a company's financial health, performance, and potential for future growth. Here's a breakdown of the key aspects of financial statement analysis:\n",
      "\n",
      "**Financial Statements:**\n",
      "\n",
      "1. **Income Statement (IS)**: Also known as the Profit & Loss Statement, it shows a company's revenues, expenses, and net income over a specific period.\n",
      "2. **Balance Sheet (BS)**: Provides a snapshot of a company's financial position at a specific point in time, including assets, liabilities, and equity.\n",
      "3. **Cash Flow Statement (CFS)**: Shows the inflows and outflows of cash and cash equivalents over a specific period.\n",
      "\n",
      "**Key Financial Ratios and Metrics:**\n",
      "\n",
      "1. **Profitability Ratios:**\n",
      "\t* Gross Margin Ratio (GMR) = Gross Profit / Revenue\n",
      "\t* Operating Margin Ratio (OMR) = Operating Income / Revenue\n",
      "\t* Net Profit Margin Ratio (NPMR) = Net Income / Revenue\n",
      "2. **Efficiency Ratios:**\n",
      "\t* Asset Turnover Ratio (ATR) = Revenue / Total Assets\n",
      "\t* Inventory Turnover Ratio (ITR) = Cost of Goods Sold / Average Inventory\n",
      "\t* Accounts Receivable Turnover Ratio (ART) = Revenue / Average Accounts Receivable\n",
      "3. **Liquidity Ratios:**\n",
      "\t* Current Ratio (CR) = Current Assets / Current Liabilities\n",
      "\t* Quick Ratio (QR) = (Current Assets - Inventory) / Current Liabilities\n",
      "4. **Solvency Ratios:**\n",
      "\t* Debt-to-Equity Ratio (DER) = Total Debt / Total Equity\n",
      "\t* Interest Coverage Ratio (ICR) = Earnings Before Interest and Taxes (EBIT) / Interest Expenses\n",
      "5. **Valuation Ratios:**\n",
      "\t* Price-to-Earnings Ratio (P/E) = Market Price / Earnings Per Share (EPS)\n",
      "\t* Price-to-Book Ratio (P/B) = Market Price / Book Value Per Share (BVPS)\n",
      "\n",
      "**Financial Statement Analysis Techniques:**\n",
      "\n",
      "1. **Horizontal Analysis:** Compare a company's financial statements over time to identify trends and changes.\n",
      "2. **Vertical Analysis:** Analyze a company's financial statements as a percentage of a base figure, such as revenue or total assets.\n",
      "3. **Ratio Analysis:** Calculate and compare financial ratios to industry averages, competitors, or the company's own historical performance.\n",
      "4. **Trend Analysis:** Identify patterns and trends in a company's financial performance over time.\n",
      "\n",
      "**Red Flags to Watch Out For:**\n",
      "\n",
      "1. **Declining Revenue or Profitability:** A consistent decline in revenue or profitability may indicate a company's struggles to compete or adapt to changing market conditions.\n",
      "2. **Increasing Debt or Leverage:** High levels of debt or leverage can increase a company's risk of default or bankruptcy.\n",
      "3. **Low Cash Flow or Liquidity:** Insufficient cash flow or liquidity can make it difficult for a company to meet its short-term obligations.\n",
      "4. **Aggressive Accounting Practices:** Be cautious of companies that use aggressive accounting practices, such as revenue recognition or expense manipulation.\n",
      "\n",
      "By mastering financial statement analysis, you'll be better equipped to evaluate a company's financial health, identify potential risks and opportunities, and make more informed investment decisions.\n",
      "\n",
      "Do you have any specific questions about financial statement analysis or would you like me to elaborate on any of these points?\n"
     ]
    }
   ],
   "source": [
    "response = with_message_history.invoke(\n",
    "        {\"input\": \"Referring to point 2, can you explain to me about the financial analysis skills?\"},\n",
    "        config={\"configurable\": {\"session_id\": \"abc123\"}}\n",
    "    )\n",
    "\n",
    "print(response.content)"
   ]
  },
  {
   "cell_type": "code",
   "execution_count": 65,
   "metadata": {},
   "outputs": [
    {
     "name": "stdout",
     "output_type": "stream",
     "text": [
      "I'd be happy to elaborate on financial statement analysis.\n",
      "\n",
      "**Income Statement (IS) Analysis:**\n",
      "\n",
      "1. **Revenue Growth:** Look for consistent revenue growth over time. A declining revenue trend may indicate a company's struggles to compete or adapt to changing market conditions.\n",
      "2. **Gross Margin:** Analyze the gross margin ratio (GMR) to understand a company's ability to maintain pricing power and control costs. A declining GMR may indicate increasing competition or rising costs.\n",
      "3. **Operating Expenses:** Examine the operating expense ratio (OER) to understand a company's ability to manage its operating costs. A high OER may indicate inefficiencies or poor cost control.\n",
      "4. **Net Income:** Analyze the net income trend to understand a company's ability to generate profits. A declining net income trend may indicate a company's struggles to maintain profitability.\n",
      "\n",
      "**Balance Sheet (BS) Analysis:**\n",
      "\n",
      "1. **Asset Quality:** Evaluate the quality of a company's assets, such as accounts receivable, inventory, and property, plant, and equipment (PP&E). A high percentage of low-quality assets may indicate a company's struggles to manage its working capital.\n",
      "2. **Liability Structure:** Analyze the liability structure to understand a company's debt levels and interest expenses. A high debt-to-equity ratio (DER) may indicate a company's increased risk of default or bankruptcy.\n",
      "3. **Equity:** Evaluate the equity section to understand a company's ownership structure and retained earnings. A high percentage of retained earnings may indicate a company's ability to generate profits and reinvest in its business.\n",
      "\n",
      "**Cash Flow Statement (CFS) Analysis:**\n",
      "\n",
      "1. **Operating Cash Flow:** Analyze the operating cash flow trend to understand a company's ability to generate cash from its core operations. A declining operating cash flow trend may indicate a company's struggles to manage its working capital.\n",
      "2. **Investing Cash Flow:** Evaluate the investing cash flow section to understand a company's capital expenditures and investments in its business. A high percentage of investing cash flow may indicate a company's growth initiatives or expansion plans.\n",
      "3. **Financing Cash Flow:** Analyze the financing cash flow section to understand a company's debt issuance, repayment, and dividend payments. A high percentage of financing cash flow may indicate a company's increased reliance on debt or equity financing.\n",
      "\n",
      "**Ratio Analysis:**\n",
      "\n",
      "1. **Current Ratio (CR):** A CR of 1.5 or higher may indicate a company's ability to meet its short-term obligations.\n",
      "2. **Debt-to-Equity Ratio (DER):** A DER of 0.5 or lower may indicate a company's conservative debt management.\n",
      "3. **Return on Equity (ROE):** A ROE of 15% or higher may indicate a company's ability to generate profits from its equity.\n",
      "4. **Price-to-Earnings Ratio (P/E):** A P/E ratio of 15 or lower may indicate a company's undervaluation relative to its earnings.\n",
      "\n",
      "**Red Flags:**\n",
      "\n",
      "1. **Declining Revenue or Profitability:** A consistent decline in revenue or profitability may indicate a company's struggles to compete or adapt to changing market conditions.\n",
      "2. **Increasing Debt or Leverage:** High levels of debt or leverage may increase a company's risk of default or bankruptcy.\n",
      "3. **Low Cash Flow or Liquidity:** Insufficient cash flow or liquidity may make it difficult for a company to meet its short-term obligations.\n",
      "4. **Aggressive Accounting Practices:** Be cautious of companies that use aggressive accounting practices, such as revenue recognition or expense manipulation.\n",
      "\n",
      "By analyzing these key areas, you'll be better equipped to evaluate a company's financial health, identify potential risks and opportunities, and make more informed investment decisions.\n",
      "\n",
      "Do you have any specific questions about financial statement analysis or would you like me to elaborate on any of these points?\n"
     ]
    }
   ],
   "source": [
    "response = with_message_history.invoke(\n",
    "        {\"input\": \"Can you elaborate more?\"},\n",
    "        config={\"configurable\": {\"session_id\": \"abc123\"}}\n",
    "    )\n",
    "\n",
    "print(response.content)"
   ]
  },
  {
   "cell_type": "code",
   "execution_count": 67,
   "metadata": {},
   "outputs": [
    {
     "name": "stdout",
     "output_type": "stream",
     "text": [
      "I'd be happy to elaborate on the key areas of financial statement analysis.\n",
      "\n",
      "**Income Statement (IS) Analysis:**\n",
      "\n",
      "1. **Revenue Growth:** When analyzing revenue growth, consider the following:\n",
      "\t* Is revenue growth consistent over time?\n",
      "\t* Is revenue growth driven by an increase in sales volume or price increases?\n",
      "\t* Are there any seasonal or cyclical fluctuations in revenue?\n",
      "2. **Gross Margin:** When analyzing gross margin, consider the following:\n",
      "\t* Is the gross margin ratio (GMR) consistent over time?\n",
      "\t* Is the GMR higher or lower than industry averages?\n",
      "\t* Are there any changes in the cost of goods sold (COGS) or revenue that may impact the GMR?\n",
      "3. **Operating Expenses:** When analyzing operating expenses, consider the following:\n",
      "\t* Are operating expenses increasing or decreasing over time?\n",
      "\t* Are operating expenses as a percentage of revenue increasing or decreasing?\n",
      "\t* Are there any changes in the operating expense structure that may impact profitability?\n",
      "4. **Net Income:** When analyzing net income, consider the following:\n",
      "\t* Is net income increasing or decreasing over time?\n",
      "\t* Is net income as a percentage of revenue increasing or decreasing?\n",
      "\t* Are there any changes in the tax rate or interest expenses that may impact net income?\n",
      "\n",
      "**Balance Sheet (BS) Analysis:**\n",
      "\n",
      "1. **Asset Quality:** When analyzing asset quality, consider the following:\n",
      "\t* Are accounts receivable and inventory increasing or decreasing over time?\n",
      "\t* Are there any changes in the days sales outstanding (DSO) or inventory turnover ratio?\n",
      "\t* Are there any changes in the quality of assets, such as an increase in bad debt or obsolete inventory?\n",
      "2. **Liability Structure:** When analyzing liability structure, consider the following:\n",
      "\t* Is the debt-to-equity ratio (DER) increasing or decreasing over time?\n",
      "\t* Are there any changes in the interest expenses or debt repayment schedule?\n",
      "\t* Are there any changes in the liability structure that may impact the company's ability to meet its obligations?\n",
      "3. **Equity:** When analyzing equity, consider the following:\n",
      "\t* Is the equity balance increasing or decreasing over time?\n",
      "\t* Are there any changes in the ownership structure or retained earnings?\n",
      "\t* Are there any changes in the dividend payout ratio or share repurchase activity?\n",
      "\n",
      "**Cash Flow Statement (CFS) Analysis:**\n",
      "\n",
      "1. **Operating Cash Flow:** When analyzing operating cash flow, consider the following:\n",
      "\t* Is operating cash flow increasing or decreasing over time?\n",
      "\t* Are there any changes in the operating cash flow margin or return on assets (ROA)?\n",
      "\t* Are there any changes in the working capital requirements or cash conversion cycle?\n",
      "2. **Investing Cash Flow:** When analyzing investing cash flow, consider the following:\n",
      "\t* Are capital expenditures increasing or decreasing over time?\n",
      "\t* Are there any changes in the investing cash flow margin or return on investment (ROI)?\n",
      "\t* Are there any changes in the company's growth initiatives or expansion plans?\n",
      "3. **Financing Cash Flow:** When analyzing financing cash flow, consider the following:\n",
      "\t* Are debt issuance or repayment increasing or decreasing over time?\n",
      "\t* Are there any changes in the financing cash flow margin or cost of capital?\n",
      "\t* Are there any changes in the dividend payout ratio or share repurchase activity?\n",
      "\n",
      "**Ratio Analysis:**\n",
      "\n",
      "1. **Current Ratio (CR):** A CR of 1.5 or higher may indicate a company's ability to meet its short-term obligations.\n",
      "2. **Debt-to-Equity Ratio (DER):** A DER of 0.5 or lower may indicate a company's conservative debt management.\n",
      "3. **Return on Equity (ROE):** A ROE of 15% or higher may indicate a company's ability to generate profits from its equity.\n",
      "4. **Price-to-Earnings Ratio (P/E):** A P/E ratio of 15 or lower may indicate a company's undervaluation relative to its earnings.\n",
      "\n",
      "**Red Flags:**\n",
      "\n",
      "1. **Declining Revenue or Profitability:** A consistent decline in revenue or profitability may indicate a company's struggles to compete or adapt to changing market conditions.\n",
      "2. **Increasing Debt or Leverage:** High levels of debt or leverage may increase a company's risk of default or bankruptcy.\n",
      "3. **Low Cash Flow or Liquidity:** Insufficient cash flow or liquidity may make it difficult for a company to meet its short-term obligations.\n",
      "4. **Aggressive Accounting Practices:** Be cautious of companies that use aggressive accounting practices, such as revenue recognition or expense manipulation.\n",
      "\n",
      "By analyzing these key areas, you'll be better equipped to evaluate a company's financial health, identify potential risks and opportunities, and make more informed investment decisions.\n",
      "\n",
      "Do you have any specific questions about financial statement analysis or would you like me to elaborate on any of these points?"
     ]
    }
   ],
   "source": [
    "# streaming output\n",
    "for chunk in with_message_history.stream({\"input\": \"Can you elaborate more?\"}, config={\"configurable\": {\"session_id\": \"abc123\"}}):\n",
    "    print(chunk.content, end=\"\", flush=True)"
   ]
  },
  {
   "cell_type": "code",
   "execution_count": null,
   "metadata": {},
   "outputs": [],
   "source": []
  }
 ],
 "metadata": {
  "kernelspec": {
   "display_name": "venv",
   "language": "python",
   "name": "python3"
  },
  "language_info": {
   "codemirror_mode": {
    "name": "ipython",
    "version": 3
   },
   "file_extension": ".py",
   "mimetype": "text/x-python",
   "name": "python",
   "nbconvert_exporter": "python",
   "pygments_lexer": "ipython3",
   "version": "3.12.1"
  }
 },
 "nbformat": 4,
 "nbformat_minor": 2
}
