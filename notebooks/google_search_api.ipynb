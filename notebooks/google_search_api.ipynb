{
 "cells": [
  {
   "cell_type": "code",
   "execution_count": 6,
   "metadata": {},
   "outputs": [],
   "source": [
    "from dotenv import load_dotenv\n",
    "from langchain_google_community import GoogleSearchAPIWrapper"
   ]
  },
  {
   "cell_type": "code",
   "execution_count": 7,
   "metadata": {},
   "outputs": [
    {
     "name": "stderr",
     "output_type": "stream",
     "text": [
      "Python-dotenv could not parse statement starting at line 4\n",
      "Python-dotenv could not parse statement starting at line 8\n"
     ]
    },
    {
     "data": {
      "text/plain": [
       "True"
      ]
     },
     "execution_count": 7,
     "metadata": {},
     "output_type": "execute_result"
    }
   ],
   "source": [
    "load_dotenv()"
   ]
  },
  {
   "cell_type": "code",
   "execution_count": 9,
   "metadata": {},
   "outputs": [
    {
     "name": "stdout",
     "output_type": "stream",
     "text": [
      "Find the latest Alphabet Inc. (GOOG) stock quote, history, news and other vital information to help you with your stock trading and investing. Google Finance provides real-time market quotes, international exchanges, up-to-date financial news, and analytics to help you make more informed trading ... GOOG and GOOGL are stock ticker symbols for Alphabet (the company formerly known as Google). The main difference between the GOOG and GOOGL stock ticker ... Alphabet Class A GOOGL:NASDAQ · Open168.68 · Day High170.61 · Day Low166.77 · Prev Close168.50 · 52 Week High207.05 · 52 Week High Date02/04/25 · 52 Week Low130.66 · 52 ... Dec 12, 2024 ... This is a trillion dollar opportunity for Google. They are already doing 100s of thousands of fairs a month. Then there is Gemini Flash 2.0. A small model that ... Fetches current or historical securities information from Google Finance. Sample Usage GOOGLEFINANCE(\"NASDAQ:GOOG\", \"price ... stock dividends and fixed ... Key Data · Open $170.30 · Day Range 168.39 - 172.50 · 52 Week Range 131.55 - 208.70 · Market Cap $2.09T · Shares Outstanding 5.5B · Public Float 5.1B · Beta ... View Alphabet Inc. Class C GOOG stock quote prices, financial information, real-time forecasts, and company news from CNN. to predict the stock price change, I needed to train it with a training set. ... USING SENTIMENT ANALYSIS TO PREDICT GOOGLE STOCK PRICES individual companies, ... Feb 4, 2009 ... We present the evidence that the GOOGLE stock, one of the most important stocks in the 21st century, may have been illegally controlled by ...\n"
     ]
    }
   ],
   "source": [
    "search = GoogleSearchAPIWrapper()\n",
    "result = search.run(\"Google Stock price\")\n",
    "print(result)"
   ]
  },
  {
   "cell_type": "code",
   "execution_count": null,
   "metadata": {},
   "outputs": [],
   "source": [
    "# TODO: integrate this with the LLM\n",
    "# or if cannot use: https://python.langchain.com/docs/integrations/providers/searchapi/ "
   ]
  }
 ],
 "metadata": {
  "kernelspec": {
   "display_name": ".venv",
   "language": "python",
   "name": "python3"
  },
  "language_info": {
   "codemirror_mode": {
    "name": "ipython",
    "version": 3
   },
   "file_extension": ".py",
   "mimetype": "text/x-python",
   "name": "python",
   "nbconvert_exporter": "python",
   "pygments_lexer": "ipython3",
   "version": "3.12.1"
  }
 },
 "nbformat": 4,
 "nbformat_minor": 2
}
