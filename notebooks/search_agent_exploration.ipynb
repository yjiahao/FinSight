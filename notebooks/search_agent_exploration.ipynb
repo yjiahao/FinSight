{
 "cells": [
  {
   "cell_type": "code",
   "execution_count": 4,
   "metadata": {},
   "outputs": [],
   "source": [
    "# an agent to help perform searches: for financial news, sentiment, etc.\n",
    "\n",
    "from langchain_core.prompts import ChatPromptTemplate, MessagesPlaceholder\n",
    "from langchain_groq import ChatGroq\n",
    "from langchain_community.chat_message_histories import ChatMessageHistory\n",
    "from langchain_core.chat_history import BaseChatMessageHistory\n",
    "from langchain_core.runnables.history import RunnableWithMessageHistory\n",
    "from langchain_community.chat_message_histories import RedisChatMessageHistory\n",
    "from langchain.agents import AgentExecutor, create_tool_calling_agent\n",
    "from langchain_tavily import TavilySearch\n",
    "\n",
    "from dotenv import load_dotenv"
   ]
  },
  {
   "cell_type": "code",
   "execution_count": 5,
   "metadata": {},
   "outputs": [
    {
     "data": {
      "text/plain": [
       "True"
      ]
     },
     "execution_count": 5,
     "metadata": {},
     "output_type": "execute_result"
    }
   ],
   "source": [
    "load_dotenv()"
   ]
  },
  {
   "cell_type": "code",
   "execution_count": 6,
   "metadata": {},
   "outputs": [],
   "source": [
    "tool = TavilySearch(\n",
    "    api_key=\"TAVILY_API_KEY\",\n",
    "    search_type=\"news\",\n",
    "    language=\"en\",\n",
    "    max_results=5,\n",
    "    sort_by=\"relevancy\",\n",
    ")"
   ]
  },
  {
   "cell_type": "code",
   "execution_count": 29,
   "metadata": {},
   "outputs": [],
   "source": [
    "chat = ChatGroq(\n",
    "    temperature=0.5,\n",
    "    model='deepseek-r1-distill-llama-70b'\n",
    ")\n",
    "\n",
    "prompt = ChatPromptTemplate.from_messages(\n",
    "    messages=[\n",
    "        (\n",
    "            \"system\", '''\n",
    "                        You are a stock and financial analyst, who helps with financial news searches, and helps to analyze the sentiment of the news you find.\n",
    "                        You can search for news articles, and then analyze the sentiment of the articles you find using the tools given to you.\n",
    "                        You can also use the search results to help answer questions about the news articles you find.\n",
    "\n",
    "                        You may use news sources like Yahoo Finance, Google Finance, MarketWatch, Wall Street Journal, and others.\n",
    "\n",
    "                        Provide your analysis in a clear and concise manner, and make sure to include the most relevant information from the articles you find, and always link to the sources you use.\n",
    "                    '''\n",
    "        ),\n",
    "        (\"user\", \"I want to search for financial news about {search_term}\"),\n",
    "        (\"placeholder\", \"{agent_scratchpad}\"),\n",
    "    ]\n",
    ")\n",
    "\n",
    "agent = create_tool_calling_agent(\n",
    "    llm=chat,\n",
    "    tools=[tool],\n",
    "    prompt=prompt\n",
    ")\n",
    "\n",
    "agent_executor = AgentExecutor(agent=agent, tools=[tool], verbose=True)"
   ]
  },
  {
   "cell_type": "code",
   "execution_count": 30,
   "metadata": {},
   "outputs": [
    {
     "name": "stdout",
     "output_type": "stream",
     "text": [
      "\n",
      "\n",
      "\u001b[1m> Entering new AgentExecutor chain...\u001b[0m\n",
      "\u001b[32;1m\u001b[1;3m\n",
      "Invoking: `tavily_search` with `{'query': 'financial news about Apple', 'search_depth': 'advanced', 'topic': 'finance'}`\n",
      "\n",
      "\n",
      "\u001b[0m\u001b[36;1m\u001b[1;3m{'query': 'financial news about Apple', 'follow_up_questions': None, 'answer': None, 'images': [], 'results': [{'url': 'https://finance.yahoo.com/quote/AAPL/news/', 'title': 'Apple Inc. (AAPL)', 'content': \"Breaking News • 22 hours ago Stocks resume slide after two-day rally with Fed in focus News • 3 days ago A Fed meeting and retail sales data greet a flailing stock market: What to know this week News • 3 days ago How Trump has talked about stock market gyrations since his election win Breaking News • 4 days ago The S&P 500 jumped nearly 2% after it entered into a correction, as stocks were set to end another volatile week on a high note. Breaking News • 4 days ago Dow, S&P 500, Nasdaq jump but stocks head for sharp weekly losses Breaking News • 5 days ago The S&P 500 headed for correction territory as stocks sank amid President Trump's latest tariff threats.\", 'score': 0.98575, 'raw_content': None}, {'url': 'https://finance.yahoo.com/news/apple-stock-rout-shaves-nearly-700-billion-from-market-cap-since-record-close-170617877.html', 'title': 'Apple stock rout shaves nearly $700 billion from market ...', 'content': \"Apple (AAPL) stock has fallen roughly 18% from its record close in December, shedding more than $700 billion off the iPhone maker's market\", 'score': 0.98407, 'raw_content': None}, {'url': 'https://finance.yahoo.com/news/trump-tariffs-could-blow-apple-094514913.html', 'title': \"'Trump Tariffs Could Blow Up Apple': Analyst Estimates ...\", 'content': \"Tigress Financial analyst Ivan Feinseth reiterated a Strong Buy rating on Apple and raised the price target from $295 to $300. Don't Miss:\", 'score': 0.97808, 'raw_content': None}, {'url': 'https://finance.yahoo.com/news/apple-aapl-stock-trades-down-190857457.html', 'title': 'Apple (AAPL) Stock Trades Down, Here Is Why', 'content': 'Apple is down 22.8% since the beginning of the year, and at $188.26 per share, it is trading 27.3% below its 52-week high of $259.02 from', 'score': 0.97337, 'raw_content': None}, {'url': 'https://finance.yahoo.com/news/apple-sheds-300-billion-in-tariff-fueled-sell-off-on-track-for-worst-drop-since-march-2020-175727479.html', 'title': 'Apple sheds $300 billion in tariff-fueled sell-off, on track for ...', 'content': 'Shares of Apple, on track for their worst day since March 2020, cratered over 8% in afternoon trade as the stock erased $300 billion from its', 'score': 0.96757, 'raw_content': None}], 'response_time': 1.67}\u001b[0m\u001b[32;1m\u001b[1;3mBased on the search results, here is a concise analysis of the financial news about Apple:\n",
      "\n",
      "1. **Stock Performance**: Apple's stock (AAPL) has experienced a significant decline, shedding nearly $700 billion in market value since its record high in December. The stock has dropped approximately 18% from its peak and is currently trading around $188.26 per share, which is 27.3% below its 52-week high of $259.02.\n",
      "\n",
      "2. **Market Impact**: The recent sell-off, partly fueled by tariff concerns, has led to Apple's stock being on track for its worst performance since March 2020. The stock plummeted over 8% in afternoon trade, erasing $300 billion from its market capitalization.\n",
      "\n",
      "3. **Analyst Insights**: Despite the downturn, Tigress Financial analyst Ivan Feinseth has maintained a \"Strong Buy\" rating on Apple and raised the price target from $295 to $300, indicating optimism about the company's long-term prospects.\n",
      "\n",
      "For more detailed information, you can visit the following sources:\n",
      "\n",
      "- [Apple Stock Rout Shaves Nearly $700 Billion From Market Cap](https://finance.yahoo.com/news/apple-stock-rout-shaves-nearly-700-billion-from-market-cap-since-record-close-170617877.html)\n",
      "- [Apple (AAPL) Stock Trades Down, Here Is Why](https://finance.yahoo.com/news/apple-aapl-stock-trades-down-190857457.html)\n",
      "- [Apple sheds $300 billion in tariff-fueled sell-off](https://finance.yahoo.com/news/apple-sheds-300-billion-in-tariff-fueled-sell-off-on-track-for-worst-drop-since-march-2020-175727479.html)\u001b[0m\n",
      "\n",
      "\u001b[1m> Finished chain.\u001b[0m\n"
     ]
    }
   ],
   "source": [
    "response = agent_executor.invoke(\n",
    "    {\"search_term\": \"financial news about Apple\"},\n",
    "    run_name=\"financial-news-search\",\n",
    ")"
   ]
  },
  {
   "cell_type": "code",
   "execution_count": 31,
   "metadata": {},
   "outputs": [
    {
     "data": {
      "text/plain": [
       "'Based on the search results, here is a concise analysis of the financial news about Apple:\\n\\n1. **Stock Performance**: Apple\\'s stock (AAPL) has experienced a significant decline, shedding nearly $700 billion in market value since its record high in December. The stock has dropped approximately 18% from its peak and is currently trading around $188.26 per share, which is 27.3% below its 52-week high of $259.02.\\n\\n2. **Market Impact**: The recent sell-off, partly fueled by tariff concerns, has led to Apple\\'s stock being on track for its worst performance since March 2020. The stock plummeted over 8% in afternoon trade, erasing $300 billion from its market capitalization.\\n\\n3. **Analyst Insights**: Despite the downturn, Tigress Financial analyst Ivan Feinseth has maintained a \"Strong Buy\" rating on Apple and raised the price target from $295 to $300, indicating optimism about the company\\'s long-term prospects.\\n\\nFor more detailed information, you can visit the following sources:\\n\\n- [Apple Stock Rout Shaves Nearly $700 Billion From Market Cap](https://finance.yahoo.com/news/apple-stock-rout-shaves-nearly-700-billion-from-market-cap-since-record-close-170617877.html)\\n- [Apple (AAPL) Stock Trades Down, Here Is Why](https://finance.yahoo.com/news/apple-aapl-stock-trades-down-190857457.html)\\n- [Apple sheds $300 billion in tariff-fueled sell-off](https://finance.yahoo.com/news/apple-sheds-300-billion-in-tariff-fueled-sell-off-on-track-for-worst-drop-since-march-2020-175727479.html)'"
      ]
     },
     "execution_count": 31,
     "metadata": {},
     "output_type": "execute_result"
    }
   ],
   "source": [
    "response['output']"
   ]
  }
 ],
 "metadata": {
  "kernelspec": {
   "display_name": ".venv",
   "language": "python",
   "name": "python3"
  },
  "language_info": {
   "codemirror_mode": {
    "name": "ipython",
    "version": 3
   },
   "file_extension": ".py",
   "mimetype": "text/x-python",
   "name": "python",
   "nbconvert_exporter": "python",
   "pygments_lexer": "ipython3",
   "version": "3.12.1"
  }
 },
 "nbformat": 4,
 "nbformat_minor": 2
}
