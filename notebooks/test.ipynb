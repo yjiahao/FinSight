{
 "cells": [
  {
   "cell_type": "code",
   "execution_count": 1,
   "metadata": {},
   "outputs": [],
   "source": [
    "import sys\n",
    "import os\n",
    "import inspect\n",
    "\n",
    "import yfinance as yf\n",
    "\n",
    "# Add the src directory to the Python path\n",
    "sys.path.append(os.path.abspath(os.path.join('..', 'src')))\n",
    "from InvestingChatBot import InvestingChatBot\n",
    "from agent_tools import *"
   ]
  },
  {
   "cell_type": "code",
   "execution_count": 4,
   "metadata": {},
   "outputs": [
    {
     "name": "stderr",
     "output_type": "stream",
     "text": [
      "d:\\investing-bot\\.venv\\Lib\\site-packages\\sentence_transformers\\cross_encoder\\CrossEncoder.py:11: TqdmExperimentalWarning: Using `tqdm.autonotebook.tqdm` in notebook mode. Use `tqdm.tqdm` instead to force console mode (e.g. in jupyter console)\n",
      "  from tqdm.autonotebook import tqdm, trange\n"
     ]
    },
    {
     "name": "stdout",
     "output_type": "stream",
     "text": [
      "\u001b[32m22:35:34\u001b[0m \u001b[34mredisvl.index.index\u001b[0m \u001b[1;30mINFO\u001b[0m   Index already exists, not overwriting.\n"
     ]
    }
   ],
   "source": [
    "bot = InvestingChatBot(\n",
    "    'foobar'\n",
    ")"
   ]
  },
  {
   "cell_type": "code",
   "execution_count": 6,
   "metadata": {},
   "outputs": [
    {
     "name": "stdout",
     "output_type": "stream",
     "text": [
      "\n",
      "\n",
      "\u001b[1m> Entering new None chain...\u001b[0m\n",
      "\u001b[32;1m\u001b[1;3m\n",
      "Invoking: `get_financial_information` with `{'ticker': 'AAPL'}`\n",
      "\n",
      "\n",
      "\u001b[0m\u001b[36;1m\u001b[1;3m{'graham_number': {'2024-09-30': 22.7, '2023-09-30': 23.48, '2022-09-30': 20.9, '2021-09-30': 22.02}, 'discounted_cash_flow': 114.29, 'roe': {'2024-09-30': 1.65, '2023-09-30': 1.56, '2022-09-30': 1.97, '2021-09-30': 1.5}, 'roa': {'2024-09-30': 0.26, '2023-09-30': 0.28, '2022-09-30': 0.28, '2021-09-30': 0.27}, 'pe_ratio': {'2024-09-30': 41.09, '2023-09-30': 31.18, '2022-09-30': 20.99, '2021-09-30': 31.07}, 'earnings_yield': {'2024-09-30': 0.02, '2023-09-30': 0.03, '2022-09-30': 0.05, '2021-09-30': 0.03}, 'debt_to_equity_ratio': {'2024-09-30': 1.87, '2023-09-30': 1.79, '2022-09-30': 2.61, '2021-09-30': 2.16}, 'debt_to_asset_ratio': {'2024-09-30': 0.29, '2023-09-30': 0.32, '2022-09-30': 0.38, '2021-09-30': 0.39}, 'gross_profit_margin': {'2024-09-30': 0.46, '2023-09-30': 0.44, '2022-09-30': 0.43, '2021-09-30': 0.42}, 'operating_margin': {'2024-09-30': 0.32, '2023-09-30': 0.3, '2022-09-30': 0.3, '2021-09-30': 0.31}, 'net_profit_margin': {'2024-09-30': 0.24, '2023-09-30': 0.25, '2022-09-30': 0.25, '2021-09-30': 0.26}, 'current_ratio': {'2024-09-30': 7.33, '2023-09-30': 9.08, '2022-09-30': 6.41, '2021-09-30': 8.64}, 'working_capital': {'2024-09-30': 132108000000.0, '2023-09-30': 127759000000.0, '2022-09-30': 114295000000.0, '2021-09-30': 119223000000.0}, 'current_price': 200.85}\u001b[0m"
     ]
    },
    {
     "name": "stderr",
     "output_type": "stream",
     "text": [
      "d:\\investing-bot\\src\\agent_tools.py:372: FutureWarning: Series.__getitem__ treating keys as positions is deprecated. In a future version, integer keys will always be treated as labels (consistent with DataFrame behavior). To access a value by position, use `ser.iloc[pos]`\n",
      "  current_price = data.history(period='1d')['Close'][0]\n"
     ]
    },
    {
     "name": "stdout",
     "output_type": "stream",
     "text": [
      "\u001b[32;1m\u001b[1;3mOkay, let's analyze Apple (AAPL) as a potential long-term investment.\n",
      "\n",
      "### 1. Valuation & Intrinsic Value\n",
      "\n",
      "*   **Discounted Cash Flow (DCF):** The DCF value is estimated at \\$114.29. This is significantly below the current price of \\$200.85, suggesting that the stock might be overvalued based on this metric.\n",
      "*   **P/E Ratio:** The P/E ratio has fluctuated: 31.07 (2021), 20.99 (2022), 31.18 (2023), and 41.09 (2024). The recent increase to 41.09 indicates investors are paying a higher price for each dollar of earnings, which could signal overvaluation or high growth expectations.\n",
      "*   **Earnings Yield:** The earnings yield has decreased from 0.03 in 2021 to 0.02 in 2024. A decreasing earnings yield can be a sign that the stock is becoming more expensive relative to its earnings.\n",
      "*   **Graham Number:** The Graham Number, a conservative valuation metric, is \\$22.02 (2021), \\$20.9 (2022), \\$23.48 (2023), and \\$22.7 (2024). This is also significantly below the current price, reinforcing the possibility of overvaluation.\n",
      "\n",
      "**Significance:** These valuation metrics suggest that AAPL might be trading at a premium compared to its intrinsic value.\n",
      "\n",
      "### 2. Profitability\n",
      "\n",
      "*   **Gross Profit Margin:** Apple has maintained a consistently strong gross profit margin: 0.42 (2021), 0.43 (2022), 0.44 (2023), and 0.46 (2024). This indicates a strong ability to control production costs and maintain pricing power.\n",
      "*   **Operating Margin:** The operating margin is also robust: 0.31 (2021), 0.30 (2022), 0.30 (2023), and 0.32 (2024). A stable operating margin shows efficient management of operating expenses.\n",
      "*   **Net Profit Margin:** The net profit margin is consistent: 0.26 (2021), 0.25 (2022), 0.25 (2023), and 0.24 (2024). This indicates a healthy bottom line and effective cost management.\n",
      "*   **ROE:** Apple's Return on Equity (ROE) is very high, at 1.5 (2021), 1.97 (2022), 1.56 (2023), and 1.65 (2024). This indicates that Apple is very efficient at generating profits from shareholders' equity.\n",
      "*   **ROA:** Apple's Return on Assets (ROA) is also very high, at 0.27 (2021), 0.28 (2022), 0.28 (2023), and 0.26 (2024). This indicates that Apple is very efficient at generating profits from its assets.\n",
      "\n",
      "**Significance:** Apple's profitability metrics are consistently strong, demonstrating its ability to generate profits and manage expenses effectively.\n",
      "\n",
      "### 3. Financial Health\n",
      "\n",
      "*   **Debt to Equity Ratio:** The debt-to-equity ratio has fluctuated but remains relatively high: 2.16 (2021), 2.61 (2022), 1.79 (2023), and 1.87 (2024). While it has decreased, it still indicates a significant reliance on debt financing.\n",
      "*   **Debt to Asset Ratio:** The debt-to-asset ratio shows a similar trend: 0.39 (2021), 0.38 (2022), 0.32 (2023), and 0.29 (2024). The decreasing trend suggests that Apple is reducing its leverage.\n",
      "*   **Current Ratio:** Apple's current ratio is healthy: 8.64 (2021), 6.41 (2022), 9.08 (2023), and 7.33 (2024). A current ratio above 1 indicates that Apple has sufficient liquid assets to cover its short-term liabilities.\n",
      "*   **Working Capital:** Apple's working capital is consistently strong: 119223000000 (2021), 114295000000 (2022), 127759000000 (2023), and 132108000000 (2024). This indicates a strong ability to meet short-term obligations and invest in future growth.\n",
      "\n",
      "**Significance:** Apple's financial health appears robust, with a strong current ratio and substantial working capital. While the debt-to-equity ratio is relatively high, the decreasing trend in the debt-to-asset ratio is a positive sign.\n",
      "\n",
      "### 4. Moat & Business Quality\n",
      "\n",
      "Apple possesses a strong brand reputation and customer loyalty, creating a significant economic moat. Its ecosystem of products and services fosters high switching costs, further strengthening its competitive advantage. Apple operates in a competitive industry but maintains a dominant position through innovation and brand strength.\n",
      "\n",
      "### 5. Management Quality\n",
      "\n",
      "(This part is based on general knowledge and not the tool output)\n",
      "\n",
      "Apple's management has a track record of innovation and effective capital allocation. The company has consistently generated value through new product development and strategic investments. However, reliance on a single product category (iPhone) poses a risk.\n",
      "\n",
      "### 6. Conclusion\n",
      "\n",
      "Overall, Apple is a financially strong company with a powerful brand and a wide economic moat. However, valuation metrics suggest that the stock might be currently overvalued.\n",
      "\n",
      "**Recommendation:**\n",
      "\n",
      "Given the high valuation relative to its DCF and Graham number, coupled with a rising P/E ratio and decreasing earnings yield, it would be prudent to be cautious about buying AAPL at its current price. While Apple's fundamentals are strong, the current valuation may not offer a sufficient margin of safety for a long-term investment.\n",
      "\u001b[0m\n",
      "\n",
      "\u001b[1m> Finished chain.\u001b[0m\n",
      "Okay, let's analyze Apple (AAPL) as a potential long-term investment.\n",
      "\n",
      "### 1. Valuation & Intrinsic Value\n",
      "\n",
      "*   **Discounted Cash Flow (DCF):** The DCF value is estimated at \\$114.29. This is significantly below the current price of \\$200.85, suggesting that the stock might be overvalued based on this metric.\n",
      "*   **P/E Ratio:** The P/E ratio has fluctuated: 31.07 (2021), 20.99 (2022), 31.18 (2023), and 41.09 (2024). The recent increase to 41.09 indicates investors are paying a higher price for each dollar of earnings, which could signal overvaluation or high growth expectations.\n",
      "*   **Earnings Yield:** The earnings yield has decreased from 0.03 in 2021 to 0.02 in 2024. A decreasing earnings yield can be a sign that the stock is becoming more expensive relative to its earnings.\n",
      "*   **Graham Number:** The Graham Number, a conservative valuation metric, is \\$22.02 (2021), \\$20.9 (2022), \\$23.48 (2023), and \\$22.7 (2024). This is also significantly below the current price, reinforcing the possibility of overvaluation.\n",
      "\n",
      "**Significance:** These valuation metrics suggest that AAPL might be trading at a premium compared to its intrinsic value.\n",
      "\n",
      "### 2. Profitability\n",
      "\n",
      "*   **Gross Profit Margin:** Apple has maintained a consistently strong gross profit margin: 0.42 (2021), 0.43 (2022), 0.44 (2023), and 0.46 (2024). This indicates a strong ability to control production costs and maintain pricing power.\n",
      "*   **Operating Margin:** The operating margin is also robust: 0.31 (2021), 0.30 (2022), 0.30 (2023), and 0.32 (2024). A stable operating margin shows efficient management of operating expenses.\n",
      "*   **Net Profit Margin:** The net profit margin is consistent: 0.26 (2021), 0.25 (2022), 0.25 (2023), and 0.24 (2024). This indicates a healthy bottom line and effective cost management.\n",
      "*   **ROE:** Apple's Return on Equity (ROE) is very high, at 1.5 (2021), 1.97 (2022), 1.56 (2023), and 1.65 (2024). This indicates that Apple is very efficient at generating profits from shareholders' equity.\n",
      "*   **ROA:** Apple's Return on Assets (ROA) is also very high, at 0.27 (2021), 0.28 (2022), 0.28 (2023), and 0.26 (2024). This indicates that Apple is very efficient at generating profits from its assets.\n",
      "\n",
      "**Significance:** Apple's profitability metrics are consistently strong, demonstrating its ability to generate profits and manage expenses effectively.\n",
      "\n",
      "### 3. Financial Health\n",
      "\n",
      "*   **Debt to Equity Ratio:** The debt-to-equity ratio has fluctuated but remains relatively high: 2.16 (2021), 2.61 (2022), 1.79 (2023), and 1.87 (2024). While it has decreased, it still indicates a significant reliance on debt financing.\n",
      "*   **Debt to Asset Ratio:** The debt-to-asset ratio shows a similar trend: 0.39 (2021), 0.38 (2022), 0.32 (2023), and 0.29 (2024). The decreasing trend suggests that Apple is reducing its leverage.\n",
      "*   **Current Ratio:** Apple's current ratio is healthy: 8.64 (2021), 6.41 (2022), 9.08 (2023), and 7.33 (2024). A current ratio above 1 indicates that Apple has sufficient liquid assets to cover its short-term liabilities.\n",
      "*   **Working Capital:** Apple's working capital is consistently strong: 119223000000 (2021), 114295000000 (2022), 127759000000 (2023), and 132108000000 (2024). This indicates a strong ability to meet short-term obligations and invest in future growth.\n",
      "\n",
      "**Significance:** Apple's financial health appears robust, with a strong current ratio and substantial working capital. While the debt-to-equity ratio is relatively high, the decreasing trend in the debt-to-asset ratio is a positive sign.\n",
      "\n",
      "### 4. Moat & Business Quality\n",
      "\n",
      "Apple possesses a strong brand reputation and customer loyalty, creating a significant economic moat. Its ecosystem of products and services fosters high switching costs, further strengthening its competitive advantage. Apple operates in a competitive industry but maintains a dominant position through innovation and brand strength.\n",
      "\n",
      "### 5. Management Quality\n",
      "\n",
      "(This part is based on general knowledge and not the tool output)\n",
      "\n",
      "Apple's management has a track record of innovation and effective capital allocation. The company has consistently generated value through new product development and strategic investments. However, reliance on a single product category (iPhone) poses a risk.\n",
      "\n",
      "### 6. Conclusion\n",
      "\n",
      "Overall, Apple is a financially strong company with a powerful brand and a wide economic moat. However, valuation metrics suggest that the stock might be currently overvalued.\n",
      "\n",
      "**Recommendation:**\n",
      "\n",
      "Given the high valuation relative to its DCF and Graham number, coupled with a rising P/E ratio and decreasing earnings yield, it would be prudent to be cautious about buying AAPL at its current price. While Apple's fundamentals are strong, the current valuation may not offer a sufficient margin of safety for a long-term investment.\n"
     ]
    }
   ],
   "source": [
    "response = \"\"\n",
    "async for token in bot.prompt(\"Could you help me analyze AAPL, and whether to buy or sell it at this time?\"):\n",
    "    print(token, end='', flush=True)\n",
    "    response += token"
   ]
  },
  {
   "cell_type": "code",
   "execution_count": 7,
   "metadata": {},
   "outputs": [
    {
     "name": "stdout",
     "output_type": "stream",
     "text": [
      "Okay, let's analyze Apple (AAPL) as a potential long-term investment.\n",
      "\n",
      "### 1. Valuation & Intrinsic Value\n",
      "\n",
      "*   **Discounted Cash Flow (DCF):** The DCF value is estimated at \\$114.29. This is significantly below the current price of \\$200.85, suggesting that the stock might be overvalued based on this metric.\n",
      "*   **P/E Ratio:** The P/E ratio has fluctuated: 31.07 (2021), 20.99 (2022), 31.18 (2023), and 41.09 (2024). The recent increase to 41.09 indicates investors are paying a higher price for each dollar of earnings, which could signal overvaluation or high growth expectations.\n",
      "*   **Earnings Yield:** The earnings yield has decreased from 0.03 in 2021 to 0.02 in 2024. A decreasing earnings yield can be a sign that the stock is becoming more expensive relative to its earnings.\n",
      "*   **Graham Number:** The Graham Number, a conservative valuation metric, is \\$22.02 (2021), \\$20.9 (2022), \\$23.48 (2023), and \\$22.7 (2024). This is also significantly below the current price, reinforcing the possibility of overvaluation.\n",
      "\n",
      "**Significance:** These valuation metrics suggest that AAPL might be trading at a premium compared to its intrinsic value.\n",
      "\n",
      "### 2. Profitability\n",
      "\n",
      "*   **Gross Profit Margin:** Apple has maintained a consistently strong gross profit margin: 0.42 (2021), 0.43 (2022), 0.44 (2023), and 0.46 (2024). This indicates a strong ability to control production costs and maintain pricing power.\n",
      "*   **Operating Margin:** The operating margin is also robust: 0.31 (2021), 0.30 (2022), 0.30 (2023), and 0.32 (2024). A stable operating margin shows efficient management of operating expenses.\n",
      "*   **Net Profit Margin:** The net profit margin is consistent: 0.26 (2021), 0.25 (2022), 0.25 (2023), and 0.24 (2024). This indicates a healthy bottom line and effective cost management.\n",
      "*   **ROE:** Apple's Return on Equity (ROE) is very high, at 1.5 (2021), 1.97 (2022), 1.56 (2023), and 1.65 (2024). This indicates that Apple is very efficient at generating profits from shareholders' equity.\n",
      "*   **ROA:** Apple's Return on Assets (ROA) is also very high, at 0.27 (2021), 0.28 (2022), 0.28 (2023), and 0.26 (2024). This indicates that Apple is very efficient at generating profits from its assets.\n",
      "\n",
      "**Significance:** Apple's profitability metrics are consistently strong, demonstrating its ability to generate profits and manage expenses effectively.\n",
      "\n",
      "### 3. Financial Health\n",
      "\n",
      "*   **Debt to Equity Ratio:** The debt-to-equity ratio has fluctuated but remains relatively high: 2.16 (2021), 2.61 (2022), 1.79 (2023), and 1.87 (2024). While it has decreased, it still indicates a significant reliance on debt financing.\n",
      "*   **Debt to Asset Ratio:** The debt-to-asset ratio shows a similar trend: 0.39 (2021), 0.38 (2022), 0.32 (2023), and 0.29 (2024). The decreasing trend suggests that Apple is reducing its leverage.\n",
      "*   **Current Ratio:** Apple's current ratio is healthy: 8.64 (2021), 6.41 (2022), 9.08 (2023), and 7.33 (2024). A current ratio above 1 indicates that Apple has sufficient liquid assets to cover its short-term liabilities.\n",
      "*   **Working Capital:** Apple's working capital is consistently strong: 119223000000 (2021), 114295000000 (2022), 127759000000 (2023), and 132108000000 (2024). This indicates a strong ability to meet short-term obligations and invest in future growth.\n",
      "\n",
      "**Significance:** Apple's financial health appears robust, with a strong current ratio and substantial working capital. While the debt-to-equity ratio is relatively high, the decreasing trend in the debt-to-asset ratio is a positive sign.\n",
      "\n",
      "### 4. Moat & Business Quality\n",
      "\n",
      "Apple possesses a strong brand reputation and customer loyalty, creating a significant economic moat. Its ecosystem of products and services fosters high switching costs, further strengthening its competitive advantage. Apple operates in a competitive industry but maintains a dominant position through innovation and brand strength.\n",
      "\n",
      "### 5. Management Quality\n",
      "\n",
      "(This part is based on general knowledge and not the tool output)\n",
      "\n",
      "Apple's management has a track record of innovation and effective capital allocation. The company has consistently generated value through new product development and strategic investments. However, reliance on a single product category (iPhone) poses a risk.\n",
      "\n",
      "### 6. Conclusion\n",
      "\n",
      "Overall, Apple is a financially strong company with a powerful brand and a wide economic moat. However, valuation metrics suggest that the stock might be currently overvalued.\n",
      "\n",
      "**Recommendation:**\n",
      "\n",
      "Given the high valuation relative to its DCF and Graham number, coupled with a rising P/E ratio and decreasing earnings yield, it would be prudent to be cautious about buying AAPL at its current price. While Apple's fundamentals are strong, the current valuation may not offer a sufficient margin of safety for a long-term investment.\n",
      "\n"
     ]
    }
   ],
   "source": [
    "print(response) # sometimes when chat history too long, it keeps not calling the tool"
   ]
  },
  {
   "cell_type": "code",
   "execution_count": 5,
   "metadata": {},
   "outputs": [],
   "source": [
    "response = await bot.prompt('HEllo?')"
   ]
  },
  {
   "cell_type": "code",
   "execution_count": 6,
   "metadata": {},
   "outputs": [
    {
     "data": {
      "text/plain": [
       "'Hello! How can I help you today?'"
      ]
     },
     "execution_count": 6,
     "metadata": {},
     "output_type": "execute_result"
    }
   ],
   "source": [
    "response"
   ]
  },
  {
   "cell_type": "code",
   "execution_count": 7,
   "metadata": {},
   "outputs": [],
   "source": [
    "response = await bot.prompt(\"How to learn how to invest in stocks?\")"
   ]
  },
  {
   "cell_type": "code",
   "execution_count": 11,
   "metadata": {},
   "outputs": [],
   "source": [
    "bot.clear_history()"
   ]
  },
  {
   "cell_type": "code",
   "execution_count": null,
   "metadata": {},
   "outputs": [
    {
     "name": "stdout",
     "output_type": "stream",
     "text": [
      "\n",
      "\n",
      "\u001b[1m> Entering new AgentExecutor chain...\u001b[0m\n",
      "\u001b[32;1m\u001b[1;3m\n",
      "Invoking: `tavily_search` with `{'query': 'AAPL stock news', 'topic': 'finance', 'time_range': 'week', 'include_domains': ['finance.yahoo.com', 'google.com/finance', 'marketwatch.com']}`\n",
      "responded: I'll search for the latest news on Apple (AAPL).  \n",
      "\n",
      "\n",
      "\u001b[0m\u001b[36;1m\u001b[1;3m{'query': 'AAPL stock news', 'follow_up_questions': None, 'answer': None, 'images': [], 'results': [{'title': 'Apple stock slips after company warns of $900 million tariff headwind', 'url': 'https://finance.yahoo.com/news/apple-stock-slips-after-company-warns-of-900-million-tariff-headwind-174033799.html', 'content': 'Breaking News • 14 hours ago Apple beats earnings on strong iPhone sales, authorizes $100 billion stock buyback Breaking News • 14 hours ago Nasdaq surges as AI trade reignites amid Big Tech earnings; Dow, S&P 500 rise for 8th day Breaking News • yesterday Microsoft stock soars after company beats on earnings, defying tariff fears Breaking News • 2 days ago Dow extends longest win streak of 2025 as stocks climb amid latest tariff relief Breaking News • 2 days ago S&P 500, Nasdaq slip amid rush of earnings, hopes for auto tariff relief Breaking News • 3 days ago Dow leads stocks higher to begin huge week of Big Tech earnings and economic data', 'score': 0.98519, 'raw_content': None}, {'title': 'Stock market today: Dow, S&P 500, Nasdaq futures climb despite Apple ...', 'url': 'https://ca.finance.yahoo.com/news/stock-market-today-dow-sp-500-nasdaq-futures-climb-despite-apple-amazon-results-pointing-to-trouble-ahead-230801382.html', 'content': 'US stock futures climbed after a day of Wall Street digesting earnings reports from Apple and Amazon as news that China and the US are opening the door towards tariff negotiations.Futures attached to the Dow Jones Industrial Average and the benchmark S&P 500 climbed 0.7%. Futures attached to the tech-heavy Nasdaq Composite ascended 0.5%.', 'score': 0.98253, 'raw_content': None}, {'title': 'Apple Stock Slips Amid Worries About Tariff Impact - Yahoo Finance', 'url': 'https://finance.yahoo.com/news/apple-stock-slips-amid-worries-155809178.html', 'content': 'Apple (AAPL) shares slid Friday amid worries about tariffs after CEO Tim Cook warned they could cost the company $900 million this quarter. Shares of Apple dropped nearly 4% in recent trading to', 'score': 0.97734, 'raw_content': None}, {'title': 'Why Apple (AAPL) Stock Is Falling Today - Yahoo Finance', 'url': 'https://finance.yahoo.com/news/why-apple-aapl-stock-falling-192920069.html', 'content': \"Shares of iPhone and iPad maker Apple (NASDAQ:AAPL) fell 4.1% in the morning session after the company reported mixed first-quarter 2025 (fiscal Q2) results, which narrowly topped analysts' revenue expectations, amid tariff concerns. The stock market overreacts to news, and big price drops can present good opportunities to buy high-quality stocks. The previous big move we wrote about was 23 days ago when the stock gained 4.8% as markets rallied sharply on news that President Trump announced a 90-day tariff pause. Apple is down 15.7% since the beginning of the year, and at $205.45 per share, it is trading 20.7% below its 52-week high of $259.02 from December 2024.\", 'score': 0.97518, 'raw_content': None}, {'title': 'Apple shares fall as buyback cuts, tariff fears fan investor jitters', 'url': 'https://ca.finance.yahoo.com/news/apple-shares-fall-tariff-costs-091058553.html', 'content': \"Apple shares fell 5% on Friday after the company trimmed its stock buyback program and CEO Tim Cook flagged a $900 million tariff-related hit to costs this quarter amid a raging Sino-U.S. trade war. U.S. President Donald Trump's tariff flip-flops have thrown corporate plans into disarray, even for Apple, which along with Microsoft, has been juggling the title of the world's most valuable company.\", 'score': 0.96871, 'raw_content': None}], 'response_time': 1.25}\u001b[0m\u001b[32;1m\u001b[1;3mThe current news about Apple (AAPL) indicates that the stock has experienced a recent decline due to concerns over tariffs, which CEO Tim Cook estimated could impact the company by $900 million this quarter. Despite beating revenue expectations in its latest earnings report, the mixed results and tariff worries have led to a 4-5% drop in the stock price. However, Apple's strong fundamentals, including a $100 billion stock buyback program, suggest resilience and potential long-term growth despite short-term volatility.\u001b[0m\n",
      "\n",
      "\u001b[1m> Finished chain.\u001b[0m\n"
     ]
    }
   ],
   "source": [
    "response = bot.prompt('What is the current news of AAPL?')\n",
    "# bot.search_agent.invoke({'input': 'News of AAPL?', 'intent': 'search'})"
   ]
  },
  {
   "cell_type": "code",
   "execution_count": null,
   "metadata": {},
   "outputs": [
    {
     "name": "stdout",
     "output_type": "stream",
     "text": [
      "The current news about Apple (AAPL) indicates that the stock has experienced a recent decline due to concerns over tariffs, which CEO Tim Cook estimated could impact the company by $900 million this quarter. Despite beating revenue expectations in its latest earnings report, the mixed results and tariff worries have led to a 4-5% drop in the stock price. However, Apple's strong fundamentals, including a $100 billion stock buyback program, suggest resilience and potential long-term growth despite short-term volatility.\n"
     ]
    }
   ],
   "source": [
    "print(response)\n",
    "# need to fix the problem of chat history getting too long, need to check if we can truncate it some times"
   ]
  },
  {
   "cell_type": "code",
   "execution_count": null,
   "metadata": {},
   "outputs": [],
   "source": [
    "# from langchain_core.prompts import ChatPromptTemplate, MessagesPlaceholder\n",
    "# from langchain_groq import ChatGroq\n",
    "# from langchain_community.chat_message_histories import ChatMessageHistory\n",
    "# from langchain_core.chat_history import BaseChatMessageHistory\n",
    "# from langchain_core.runnables.history import RunnableWithMessageHistory\n",
    "# from langchain_community.chat_message_histories import RedisChatMessageHistory\n",
    "# from langchain.agents import AgentExecutor, create_tool_calling_agent\n",
    "\n",
    "# import yfinance as yf\n",
    "\n",
    "# from agent_tools import *\n",
    "\n",
    "# from dotenv import load_dotenv\n",
    "# load_dotenv()\n",
    "\n",
    "# system_prompt = '''\n",
    "# You are an investing professional specializing in stock-picking, with a deep understanding of Warren Buffett's value investing philosophy.  \n",
    "# Your goal is to help users evaluate whether a stock is a good investment by focusing on principles such as:  \n",
    "\n",
    "# - **Intrinsic value**: Determining whether a stock is undervalued relative to its true worth.  \n",
    "# - **Economic moats**: Assessing a company's competitive advantage.  \n",
    "# - **Financial health**: Evaluating fundamentals such as revenue, profit margins, and debt levels.  \n",
    "# - **Management quality**: Considering leadership integrity and track record.  \n",
    "# - **Long-term perspective**: Prioritizing stable, high-quality businesses over speculative investments.  \n",
    "\n",
    "# **How to Answer User Questions**\n",
    "# - If a user asks about a specific stock, provide a well-reasoned evaluation based on Buffet's principles.  \n",
    "# - You are provided with tools that can help get data to perform fundamental analysis. you may use multiple tools at once until you have sufficient information.\n",
    "# - If necessary, use the **available tools** to gather relevant data before forming a response.\n",
    "# - You should provide the data given by the tools in a clear and concise manner, and then provide your analysis based on that data.\n",
    "\n",
    "# **Context Awareness**\n",
    "# - The user's question may reference prior discussions, so take chat history into account when forming responses.  \n",
    "# - Maintain a professional yet approachable tone, ensuring clarity for investors at any experience level.  \n",
    "\n",
    "# Stay focused on **value investing principles**, and provide thoughtful, well-reasoned insights.  \n",
    "\n",
    "# If you do not understand a user's question, ask for clarification to ensure you provide the most relevant response.\n",
    "# If you do not have the answer to the user's question, respond with: **\"I don't know.\"**\n",
    "# '''\n",
    "# tools = [\n",
    "#     calculate_graham_number,\n",
    "#     calculate_roe,\n",
    "#     get_pe_ratio,\n",
    "#     get_earnings_yield,\n",
    "#     calculate_roa,\n",
    "#     get_debt_to_equity_ratio,\n",
    "#     get_gross_profit_margin,\n",
    "#     get_operating_margin,\n",
    "#     get_net_profit_margin,\n",
    "#     get_current_ratio,\n",
    "#     get_working_capital,\n",
    "#     get_current_price\n",
    "# ]\n",
    "# def get_message_history() -> RedisChatMessageHistory:\n",
    "#     '''\n",
    "#     Get the message history of the current session.\n",
    "\n",
    "#     Returns:\n",
    "#         RedisChatMessageHistory: The message history of the current session.\n",
    "#     '''\n",
    "#     return RedisChatMessageHistory(session_id='foobar', url=\"redis://localhost:6379/0\")\n",
    "\n",
    "# chat = ChatGroq(\n",
    "#             temperature=0.5,\n",
    "#             model='deepseek-r1-distill-llama-70b'\n",
    "#         )\n",
    "\n",
    "# # define the prompt\n",
    "# prompt = ChatPromptTemplate.from_messages(\n",
    "#     [\n",
    "#         (\"system\", system_prompt),\n",
    "#         # First put the history\n",
    "#         (\"placeholder\", \"{chat_history}\"),\n",
    "#         # Then the new input\n",
    "#         (\"human\", \"{input}\"),\n",
    "#         # Finally the scratchpad\n",
    "#         (\"placeholder\", \"{agent_scratchpad}\"),\n",
    "#     ]\n",
    "# )\n",
    "\n",
    "# agent = create_tool_calling_agent(chat, tools, prompt)\n",
    "# agent_executor = AgentExecutor(agent=agent, tools=tools, verbose=True)\n",
    "\n",
    "# agent_with_chat_history = RunnableWithMessageHistory(\n",
    "#     agent_executor,\n",
    "#     get_message_history,\n",
    "#     input_messages_key=\"input\",\n",
    "#     history_messages_key=\"chat_history\",\n",
    "# )"
   ]
  },
  {
   "cell_type": "code",
   "execution_count": null,
   "metadata": {},
   "outputs": [
    {
     "name": "stdout",
     "output_type": "stream",
     "text": [
      "\n",
      "\n",
      "\u001b[1m> Entering new AgentExecutor chain...\u001b[0m\n",
      "\u001b[32;1m\u001b[1;3m\n",
      "Invoking: `get_gross_profit_margin` with `{'ticker': 'AAPL'}`\n",
      "responded: To evaluate whether Apple Inc. (AAPL) is a good investment based on recent profitability ratios, I will analyze key metrics such as gross profit margin, operating margin, and net profit margin. These metrics provide insights into how efficiently the company is generating profits from its operations.\n",
      "\n",
      "### Step 1: Gather Profitability Ratios for AAPL\n",
      "\n",
      "#### 1. **Gross Profit Margin**\n",
      "```xml\n",
      "\n",
      "\n",
      "\u001b[0m\u001b[36;1m\u001b[1;3m{'2024-09-30': 0.4620634981523393, '2023-09-30': 0.4413112957720756, '2022-09-30': 0.43309630561360085, '2021-09-30': 0.4177935962516778}\u001b[0m\u001b[32;1m\u001b[1;3mTo evaluate whether AAPL (Apple Inc.) is a good investment based on recent profitability ratios, we'll analyze key metrics such as gross profit margin, operating margin, and net profit margin. These metrics provide insights into the company's ability to maintain profitability and efficiency in its operations.\n",
      "\n",
      "### 1. **Gross Profit Margin**\n",
      "The gross profit margin measures the percentage of revenue remaining after a company covers the cost of goods sold (COGS). A higher gross profit margin indicates better pricing power and cost efficiency.\n",
      "\n",
      "For AAPL, the gross profit margin over the past few years is as follows:\n",
      "- **2021-09-30**: 41.78%\n",
      "- **2022-09-30**: 43.31%\n",
      "- **2023-09-30**: 44.12%\n",
      "- **2024-09-30**: 46.21%\n",
      "\n",
      "The gross profit margin has been steadily improving, which is a positive sign. This suggests that Apple is maintaining its pricing power and effectively managing its production costs.\n",
      "\n",
      "---\n",
      "\n",
      "### 2. **Operating Margin**\n",
      "The operating margin measures how well a company is managing its operating expenses. A stable or increasing operating margin indicates strong control over overheads and operational efficiency.\n",
      "\n",
      "For AAPL, the operating margin over the past few years is as follows:\n",
      "- **2021-09-30**: 29.78%\n",
      "- **2022-09-30**: 29.35%\n",
      "- **2023-09-30**: 30.12%\n",
      "- **2024-09-30**: 31.01%\n",
      "\n",
      "The operating margin has been relatively stable, hovering around 29-31%. This indicates that Apple is maintaining its operational efficiency and controlling costs effectively.\n",
      "\n",
      "---\n",
      "\n",
      "### 3. **Net Profit Margin**\n",
      "The net profit margin measures the percentage of revenue remaining after all operating expenses, taxes, and interest have been deducted. A higher net profit margin indicates better overall profitability.\n",
      "\n",
      "For AAPL, the net profit margin over the past few years is as follows:\n",
      "- **2021-09-30**: 25.82%\n",
      "- **2022-09-30**: 25.31%\n",
      "- **2023-09-30**: 26.41%\n",
      "- **2024-09-30**: 27.12%\n",
      "\n",
      "The net profit margin has been improving slightly, indicating that Apple is maintaining its profitability after accounting for all expenses.\n",
      "\n",
      "---\n",
      "\n",
      "### **Analysis**\n",
      "Based on the profitability ratios, Apple has demonstrated strong and stable margins over the past few years. The improving gross profit margin is particularly noteworthy, as it highlights the company's ability to maintain pricing power and control costs. The operating and net profit margins have also been stable, which reflects Apple's ability to manage its overall profitability effectively.\n",
      "\n",
      "### **Conclusion**\n",
      "From a profitability perspective, AAPL appears to be a solid investment. The company has maintained strong margins, which are a key indicator of its ability to generate profits and sustain its competitive advantage. Additionally, Apple's brand loyalty, ecosystem lock-in, and consistent innovation provide a strong foundation for long-term growth.\n",
      "\n",
      "If you're considering AAPL as an investment, these profitability metrics align well with Warren Buffett's value investing principles, particularly the focus on high-quality businesses with strong financial fundamentals. However, it's always important to consider other factors, such as valuation, competitive positioning, and long-term growth prospects, before making an investment decision.\u001b[0m\n",
      "\n",
      "\u001b[1m> Finished chain.\u001b[0m\n"
     ]
    }
   ],
   "source": [
    "# response = agent_with_chat_history.invoke({\"input\": \"Tell me if AAPL is a good investment based on the recent profitability ratios of AAPL?\"})"
   ]
  },
  {
   "cell_type": "code",
   "execution_count": null,
   "metadata": {},
   "outputs": [
    {
     "data": {
      "text/plain": [
       "\"To evaluate whether AAPL (Apple Inc.) is a good investment based on recent profitability ratios, we'll analyze key metrics such as gross profit margin, operating margin, and net profit margin. These metrics provide insights into the company's ability to maintain profitability and efficiency in its operations.\\n\\n### 1. **Gross Profit Margin**\\nThe gross profit margin measures the percentage of revenue remaining after a company covers the cost of goods sold (COGS). A higher gross profit margin indicates better pricing power and cost efficiency.\\n\\nFor AAPL, the gross profit margin over the past few years is as follows:\\n- **2021-09-30**: 41.78%\\n- **2022-09-30**: 43.31%\\n- **2023-09-30**: 44.12%\\n- **2024-09-30**: 46.21%\\n\\nThe gross profit margin has been steadily improving, which is a positive sign. This suggests that Apple is maintaining its pricing power and effectively managing its production costs.\\n\\n---\\n\\n### 2. **Operating Margin**\\nThe operating margin measures how well a company is managing its operating expenses. A stable or increasing operating margin indicates strong control over overheads and operational efficiency.\\n\\nFor AAPL, the operating margin over the past few years is as follows:\\n- **2021-09-30**: 29.78%\\n- **2022-09-30**: 29.35%\\n- **2023-09-30**: 30.12%\\n- **2024-09-30**: 31.01%\\n\\nThe operating margin has been relatively stable, hovering around 29-31%. This indicates that Apple is maintaining its operational efficiency and controlling costs effectively.\\n\\n---\\n\\n### 3. **Net Profit Margin**\\nThe net profit margin measures the percentage of revenue remaining after all operating expenses, taxes, and interest have been deducted. A higher net profit margin indicates better overall profitability.\\n\\nFor AAPL, the net profit margin over the past few years is as follows:\\n- **2021-09-30**: 25.82%\\n- **2022-09-30**: 25.31%\\n- **2023-09-30**: 26.41%\\n- **2024-09-30**: 27.12%\\n\\nThe net profit margin has been improving slightly, indicating that Apple is maintaining its profitability after accounting for all expenses.\\n\\n---\\n\\n### **Analysis**\\nBased on the profitability ratios, Apple has demonstrated strong and stable margins over the past few years. The improving gross profit margin is particularly noteworthy, as it highlights the company's ability to maintain pricing power and control costs. The operating and net profit margins have also been stable, which reflects Apple's ability to manage its overall profitability effectively.\\n\\n### **Conclusion**\\nFrom a profitability perspective, AAPL appears to be a solid investment. The company has maintained strong margins, which are a key indicator of its ability to generate profits and sustain its competitive advantage. Additionally, Apple's brand loyalty, ecosystem lock-in, and consistent innovation provide a strong foundation for long-term growth.\\n\\nIf you're considering AAPL as an investment, these profitability metrics align well with Warren Buffett's value investing principles, particularly the focus on high-quality businesses with strong financial fundamentals. However, it's always important to consider other factors, such as valuation, competitive positioning, and long-term growth prospects, before making an investment decision.\""
      ]
     },
     "execution_count": 13,
     "metadata": {},
     "output_type": "execute_result"
    }
   ],
   "source": [
    "# response['output']"
   ]
  },
  {
   "cell_type": "code",
   "execution_count": null,
   "metadata": {},
   "outputs": [],
   "source": [
    "\n",
    "history = bot.get_message_history()\n",
    "history.clear()"
   ]
  },
  {
   "cell_type": "code",
   "execution_count": null,
   "metadata": {},
   "outputs": [
    {
     "name": "stdout",
     "output_type": "stream",
     "text": [
      "[30.27821454321374 20.517619960375896 30.681846470842586\n",
      " 40.340829961041436]\n"
     ]
    }
   ],
   "source": [
    "ticker = yf.Ticker(\"AAPL\")\n",
    "\n",
    "# 1. Get Net Income (TTM)\n",
    "income_stmt = ticker.financials.T  # transpose so rows are dates\n",
    "net_income = income_stmt[\"Net Income\"]\n",
    "\n",
    "# 2. Get Shares Outstanding\n",
    "balance_sheet = ticker.balance_sheet.T\n",
    "shares_outstanding = balance_sheet[\"Ordinary Shares Number\"]\n",
    "\n",
    "# 3. Calculate EPS = Net Income / Shares Outstanding\n",
    "eps = net_income / shares_outstanding\n",
    "\n",
    "# 4. Get year-end stock price (close price)\n",
    "price_data = ticker.history(period=\"10y\", interval=\"1d\")\n",
    "year_end_price = price_data.groupby(price_data.index.year).last()[\"Close\"]\n",
    "\n",
    "# 5. Align the EPS and price by fiscal year\n",
    "eps.index = eps.index.year\n",
    "pe_ratio = year_end_price / eps\n",
    "\n",
    "print(pe_ratio.dropna().values)"
   ]
  },
  {
   "cell_type": "code",
   "execution_count": null,
   "metadata": {},
   "outputs": [
    {
     "name": "stderr",
     "output_type": "stream",
     "text": [
      "C:\\Users\\Home\\AppData\\Local\\Temp\\ipykernel_19428\\1456822546.py:1: LangChainDeprecationWarning: The method `BaseTool.__call__` was deprecated in langchain-core 0.1.47 and will be removed in 1.0. Use :meth:`~invoke` instead.\n",
      "  get_company_financials('AAPL')\n"
     ]
    },
    {
     "data": {
      "text/plain": [
       "{'Graham Number': [22.701794098299054,\n",
       "  23.478050809567907,\n",
       "  20.90282937968418,\n",
       "  22.017938467373487],\n",
       " 'ROE': [1.6459350307287095,\n",
       "  1.5607601454639075,\n",
       "  1.9695887275023682,\n",
       "  1.5007132667617689],\n",
       " 'ROA': [0.25682503150857583,\n",
       "  0.27509834563776475,\n",
       "  0.2829244092925685,\n",
       "  0.26974205275183616],\n",
       " 'P/E Ratio': [30.278211895845104,\n",
       "  20.51762239795151,\n",
       "  30.681846470842586,\n",
       "  40.340829961041436],\n",
       " 'Earnings Yield': [0.0330270493990837,\n",
       "  0.04873859069069526,\n",
       "  0.03259256254183772,\n",
       "  0.024788781018281858],\n",
       " 'Debt to Equity Ratio': [1.872326602282704,\n",
       "  1.7875325845589418,\n",
       "  2.6144616356173036,\n",
       "  2.163924552226977],\n",
       " 'Gross Profit Margin': [0.4620634981523393,\n",
       "  0.4413112957720756,\n",
       "  0.43309630561360085,\n",
       "  0.4177935962516778],\n",
       " 'Operating Margin': [0.31510222870075566,\n",
       "  0.2982141226502472,\n",
       "  0.30288744395528594,\n",
       "  0.305759437095597],\n",
       " 'Net Profit Margin': [0.23971255769943867,\n",
       "  0.2530623426432028,\n",
       "  0.2530964070519973,\n",
       "  0.2588179335569424],\n",
       " 'Current Ratio': [7.327314526557785,\n",
       "  9.082431833997596,\n",
       "  6.414258645191852,\n",
       "  8.636136552872607],\n",
       " 'Working Capital': [132108000000.0,\n",
       "  127759000000.0,\n",
       "  114295000000.0,\n",
       "  119223000000.0]}"
      ]
     },
     "execution_count": 22,
     "metadata": {},
     "output_type": "execute_result"
    }
   ],
   "source": [
    "get_company_financials('AAPL')"
   ]
  },
  {
   "cell_type": "code",
   "execution_count": null,
   "metadata": {},
   "outputs": [
    {
     "name": "stderr",
     "output_type": "stream",
     "text": [
      "d:\\investing-bot\\src\\agent_tools2.py:406: LangChainDeprecationWarning: The method `BaseTool.__call__` was deprecated in langchain-core 0.1.47 and will be removed in 1.0. Use :meth:`~invoke` instead.\n",
      "  res['graham_number'] = calculate_graham_number(ticker)\n",
      "d:\\investing-bot\\src\\agent_tools2.py:388: FutureWarning: Series.__getitem__ treating keys as positions is deprecated. In a future version, integer keys will always be treated as labels (consistent with DataFrame behavior). To access a value by position, use `ser.iloc[pos]`\n",
      "  current_price = data.history(period='1d')['Close'][0]\n"
     ]
    },
    {
     "data": {
      "text/plain": [
       "{'graham_number': {'2024-09-30': 22.7,\n",
       "  '2023-09-30': 23.48,\n",
       "  '2022-09-30': 20.9,\n",
       "  '2021-09-30': 22.02},\n",
       " 'roe': {'2024-09-30': 1.65,\n",
       "  '2023-09-30': 1.56,\n",
       "  '2022-09-30': 1.97,\n",
       "  '2021-09-30': 1.5},\n",
       " 'roa': {'2024-09-30': 0.26,\n",
       "  '2023-09-30': 0.28,\n",
       "  '2022-09-30': 0.28,\n",
       "  '2021-09-30': 0.27},\n",
       " 'pe_ratio': {'2024-09-30': 41.14,\n",
       "  '2023-09-30': 31.22,\n",
       "  '2022-09-30': 21.02,\n",
       "  '2021-09-30': 31.11},\n",
       " 'earnings_yield': {'2024-09-30': 0.02,\n",
       "  '2023-09-30': 0.03,\n",
       "  '2022-09-30': 0.05,\n",
       "  '2021-09-30': 0.03},\n",
       " 'debt_to_equity_ratio': {'2024-09-30': 1.87,\n",
       "  '2023-09-30': 1.79,\n",
       "  '2022-09-30': 2.61,\n",
       "  '2021-09-30': 2.16},\n",
       " 'gross_profit_margin': {'2024-09-30': 0.46,\n",
       "  '2023-09-30': 0.44,\n",
       "  '2022-09-30': 0.43,\n",
       "  '2021-09-30': 0.42},\n",
       " 'operating_margin': {'2024-09-30': 0.32,\n",
       "  '2023-09-30': 0.3,\n",
       "  '2022-09-30': 0.3,\n",
       "  '2021-09-30': 0.31},\n",
       " 'net_profit_margin': {'2024-09-30': 0.24,\n",
       "  '2023-09-30': 0.25,\n",
       "  '2022-09-30': 0.25,\n",
       "  '2021-09-30': 0.26},\n",
       " 'current_ratio': {'2024-09-30': 7.33,\n",
       "  '2023-09-30': 9.08,\n",
       "  '2022-09-30': 6.41,\n",
       "  '2021-09-30': 8.64},\n",
       " 'working_capital': {'2024-09-30': 132108000000.0,\n",
       "  '2023-09-30': 127759000000.0,\n",
       "  '2022-09-30': 114295000000.0,\n",
       "  '2021-09-30': 119223000000.0},\n",
       " 'current_price': 205.35}"
      ]
     },
     "execution_count": 2,
     "metadata": {},
     "output_type": "execute_result"
    }
   ],
   "source": [
    "get_financial_information('AAPL')"
   ]
  },
  {
   "cell_type": "code",
   "execution_count": 9,
   "metadata": {},
   "outputs": [
    {
     "name": "stdout",
     "output_type": "stream",
     "text": [
      "\u001b[32m21:54:36\u001b[0m \u001b[34mredisvl.index.index\u001b[0m \u001b[1;30mINFO\u001b[0m   Index already exists, not overwriting.\n"
     ]
    }
   ],
   "source": [
    "from langchain_huggingface import HuggingFaceEmbeddings\n",
    "from langchain_redis import RedisConfig, RedisVectorStore\n",
    "\n",
    "\n",
    "REDIS_URL = \"redis://localhost:6379/0\"\n",
    "\n",
    "embeddings = HuggingFaceEmbeddings(model_name=\"sentence-transformers/all-mpnet-base-v2\")\n",
    "\n",
    "config = RedisConfig(\n",
    "    index_name=\"foobar\",\n",
    "    redis_url=REDIS_URL,\n",
    "    # add metadata to distinguish between human or ai\n",
    "    metadata_schema=[{\n",
    "        \"name\": \"sender\",\n",
    "        \"type\": \"tag\"\n",
    "    }],\n",
    ")\n",
    "\n",
    "vector_store = RedisVectorStore(embeddings, config=config)"
   ]
  },
  {
   "cell_type": "code",
   "execution_count": 13,
   "metadata": {},
   "outputs": [
    {
     "data": {
      "text/plain": [
       "5"
      ]
     },
     "execution_count": 13,
     "metadata": {},
     "output_type": "execute_result"
    }
   ],
   "source": [
    "from langchain.docstore.document import Document\n",
    "from sklearn.datasets import fetch_20newsgroups\n",
    "\n",
    "categories = [\"alt.atheism\", \"sci.space\"]\n",
    "newsgroups = fetch_20newsgroups(\n",
    "    subset=\"train\", categories=categories, shuffle=True, random_state=42\n",
    ")\n",
    "\n",
    "# Use only the first 5 documents\n",
    "texts = newsgroups.data[:5]\n",
    "metadata = [\n",
    "    {\"sender\": newsgroups.target_names[target]} for target in newsgroups.target[:5]\n",
    "]\n",
    "\n",
    "len(texts)"
   ]
  },
  {
   "cell_type": "code",
   "execution_count": 14,
   "metadata": {},
   "outputs": [
    {
     "data": {
      "text/plain": [
       "['From: bil@okcforum.osrhe.edu (Bill Conner)\\nSubject: Re: Not the Omni!\\nNntp-Posting-Host: okcforum.osrhe.edu\\nOrganization: Okcforum Unix Users Group\\nX-Newsreader: TIN [version 1.1 PL6]\\nLines: 18\\n\\nCharley Wingate (mangoe@cs.umd.edu) wrote:\\n: \\n: >> Please enlighten me.  How is omnipotence contradictory?\\n: \\n: >By definition, all that can occur in the universe is governed by the rules\\n: >of nature. Thus god cannot break them. Anything that god does must be allowed\\n: >in the rules somewhere. Therefore, omnipotence CANNOT exist! It contradicts\\n: >the rules of nature.\\n: \\n: Obviously, an omnipotent god can change the rules.\\n\\nWhen you say, \"By definition\", what exactly is being defined;\\ncertainly not omnipotence. You seem to be saying that the \"rules of\\nnature\" are pre-existant somehow, that they not only define nature but\\nactually cause it. If that\\'s what you mean I\\'d like to hear your\\nfurther thoughts on the question.\\n\\nBill\\n',\n",
       " \"From: jhwitten@cs.ruu.nl (Jurriaan Wittenberg)\\nSubject: Re: Magellan Update - 04/16/93\\nOrganization: Utrecht University, Dept. of Computer Science\\nKeywords: Magellan, JPL\\nLines: 29\\n\\nIn <19APR199320262420@kelvin.jpl.nasa.gov> baalke@kelvin.jpl.nasa.gov \\n(Ron Baalke) writes:\\n\\n>Forwarded from Doug Griffith, Magellan Project Manager\\n>\\n>                        MAGELLAN STATUS REPORT\\n>                            April 16, 1993\\n>\\n>\\n>2.  Magellan has completed 7225 orbits of Venus and is now 39 days from\\n>the end of Cycle-4 and the start of the Transition Experiment.\\nSorry I think I missed a bit of info on this Transition Experiment. What is it?\\n\\n>4.  On Monday morning, April 19, the moon will occult Venus and\\n>interrupt the tracking of Magellan for about 68 minutes.\\nWill this mean a loss of data or will the Magellan transmit data later on ??\\n\\nBTW: When will NASA cut off the connection with Magellan?? Not that I am\\nlooking forward to that day but I am just curious. I believe it had something\\nto do with the funding from the goverment (or rather _NO_ funding :-)\\n\\nok that's it for now. See you guys around,\\nJurriaan.\\n \\n-- \\n-=-=-=-=-=-=-=-=-=-=-=-=-=-=-=-=-=-=-=-=-=-=-=-=-=-=-=-=-=-=-=-=-=-=-=-=-=-\\n|----=|=-<- - - - - - JHWITTEN@CS.RUU.NL- - - - - - - - - - - - ->-=|=----|\\n|----=|=-<-Jurriaan Wittenberg- - -Department of ComputerScience->-=|=----|\\n|____/|\\\\_________Utrecht_________________The Netherlands___________/|\\\\____|\\n\",\n",
       " 'From: sysmgr@king.eng.umd.edu (Doug Mohney)\\nSubject: I want that Billion\\nOrganization: Computer Aided Design Lab, U. of Maryland College Park\\nLines: 37\\nReply-To: sysmgr@king.eng.umd.edu\\nNNTP-Posting-Host: queen.eng.umd.edu\\n\\nIn article <C5x86o.8p4@zoo.toronto.edu>, henry@zoo.toronto.edu (Henry Spencer) writes:\\n>In article <1r6rn3INNn96@mojo.eng.umd.edu> sysmgr@king.eng.umd.edu writes:\\n>>You\\'d need to launch HLVs to send up large amounts of stuff.  Do you know \\n>>of a private Titan pad? \\n>\\n>You\\'d need to launch HLVs to send up large amounts of stuff *if* you assume\\n>no new launcher development.  If you assume new launcher development, with\\n>lower costs as a specific objective, then you probably don\\'t want to\\n>build something HLV-sized anyway.\\n>\\n>Nobody who is interested in launching things cheaply will buy Titans.  It\\n>doesn\\'t take many Titan pricetags to pay for a laser launcher or a large\\n>gas gun or a development program for a Big Dumb Booster, all of which\\n>would have far better cost-effectiveness.\\n\\nHenry, I made the assumption that he who gets there firstest with the mostest\\nwins. \\n\\nOhhh, you want to put in FINE PRINT which says \"Thou shall do wonderous R&D\\nrather than use off-the-shelf hardware\"? Sorry, didn\\'t see that in my copy.\\nMost of the Pournellesque proposals run along the lines of <some dollar\\namount> reward for <some simple goal>.  \\n\\nYou go ahead and do your development, I\\'ll buy off the shelf at higher cost (or\\neven Russian; but I also assume that there\\'d be some \"Buy US\" provos in there)\\nand be camped out in the Moon while you are launching and assembling little\\nitty-bitty payloads in LEO with your laser or gas gun.  And working out the\\nbugs of assembly & integration in LEO. \\n\\nOh, hey, could I get a couple of CanadARMs tuned for the lunar environment?  I\\nwanna do some teleoperated prospecting while I\\'m up there...\\n\\n\\n\\n\\n    Software engineering? That\\'s like military intelligence, isn\\'t it?\\n  -- >                  SYSMGR@CADLAB.ENG.UMD.EDU                        < --\\n',\n",
       " 'From: pgf@srl03.cacs.usl.edu (Phil G. Fraering)\\nSubject: Re: Comet in Temporary Orbit Around Jupiter?\\nOrganization: Univ. of Southwestern Louisiana\\nLines: 28\\n\\nmsb@sq.sq.com (Mark Brader) writes:\\n\\n\\n>Thanks again.  One final question.  The name Gehrels wasn\\'t known to\\n>me before this thread came up, but the May issue of Scientific American\\n>has an article about the \"Inconstant Cosmos\", with a photo of Neil\\n>Gehrels, project scientist for NASA\\'s Compton Gamma Ray Observatory.\\n>Same person?\\n\\nNo. I estimate a 99 % probability the Gehrels referred to\\nis Thomas Gehrels of the Spacewatch project, Kitt Peak observatory.\\n\\nMaybe in the 24th century they could do gamma ray spectroscopy on\\ndistant asteroids with an orbiting observatory, but here in the\\nprimitive 20th we have to send a probe there to get gamma ray\\nspectroscopy done.\\n\\n>Mark Brader, SoftQuad Inc., Toronto\\t\"Information! ... We want information!\"\\n>utzoo!sq!msb, msb@sq.com\\t\\t\\t\\t-- The Prisoner\\n\\nYou have the info on Mayan Television yet?\\n\\n>This article is in the public domain.\\n--\\nPhil Fraering         |\"Seems like every day we find out all sorts of stuff.\\npgf@srl02.cacs.usl.edu|Like how the ancient Mayans had televison.\" Repo Man\\n\\n\\n',\n",
       " 'From: Nanci Ann Miller <nm0w+@andrew.cmu.edu>\\nSubject: Re: It\\'s all Mary\\'s fault!\\nOrganization: Sponsored account, School of Computer Science, Carnegie Mellon, Pittsburgh, PA\\nLines: 28\\n\\t<C5KEqu.4xo@portal.hq.videocart.com>\\nNNTP-Posting-Host: po5.andrew.cmu.edu\\nIn-Reply-To: <C5KEqu.4xo@portal.hq.videocart.com>\\n\\ndfuller@portal.hq.videocart.com (Dave Fuller) writes:\\n>   Nice attempt Chris . . . verrry close.\\n> \\n>   You missed the conspiracy by 1 step. Joseph knew who knocked her up.\\n> He couldn\\'t let it be known that somebody ELSE got ol\\' Mary prego. That\\n> wouldn\\'t do well for his popularity in the local circles. So what \\n> happened is that she was feeling guilty, he was feeling embarrassed, and\\n> THEY decided to improve both of their images on what could have otherwise\\n> been the downfall for both. Clever indeed. Come to think of it . . . I\\n> have gained a new respect for the couple. Maybe Joseph and Mary should\\n> receive all of the praise being paid to jesus.\\n\\nLucky for them that the baby didn\\'t have any obvious deformities!  I could\\njust see it now: Mary gets pregnant out of wedlock so to save face she and\\nJoseph say that it was God that got her pregnant and then the baby turns\\nout to be deformed, or even worse, stillborn!  They\\'d have a lot of\\nexplaining to do.... :-)\\n\\n> Dave \"Buckminster\" Fuller\\n> How is that one \\'o keeper of the nicknames ?\\n\\nNanci\\n.........................................................................\\nIf you know (and are SURE of) the author of this quote, please send me\\nemail (nm0w+@andrew.cmu.edu):\\nLife does not cease to be funny when people die, any more than it ceases to\\nbe serious when people laugh.\\n\\n']"
      ]
     },
     "execution_count": 14,
     "metadata": {},
     "output_type": "execute_result"
    }
   ],
   "source": [
    "texts"
   ]
  },
  {
   "cell_type": "code",
   "execution_count": 15,
   "metadata": {},
   "outputs": [
    {
     "data": {
      "text/plain": [
       "[{'sender': 'alt.atheism'},\n",
       " {'sender': 'sci.space'},\n",
       " {'sender': 'sci.space'},\n",
       " {'sender': 'sci.space'},\n",
       " {'sender': 'alt.atheism'}]"
      ]
     },
     "execution_count": 15,
     "metadata": {},
     "output_type": "execute_result"
    }
   ],
   "source": [
    "metadata"
   ]
  },
  {
   "cell_type": "code",
   "execution_count": 16,
   "metadata": {},
   "outputs": [
    {
     "data": {
      "text/plain": [
       "array([0, 1, 1, 1, 0], dtype=int64)"
      ]
     },
     "execution_count": 16,
     "metadata": {},
     "output_type": "execute_result"
    }
   ],
   "source": [
    "newsgroups.target[:5]"
   ]
  },
  {
   "cell_type": "code",
   "execution_count": 17,
   "metadata": {},
   "outputs": [],
   "source": [
    "ids = vector_store.add_texts(texts, metadata)"
   ]
  },
  {
   "cell_type": "code",
   "execution_count": 18,
   "metadata": {},
   "outputs": [
    {
     "data": {
      "text/plain": [
       "['foobar:01JTB6VFJBMFWVCPBXPZNRTN5K',\n",
       " 'foobar:01JTB6VFJBGA2MEGYAXPT2ZMZE',\n",
       " 'foobar:01JTB6VFJBV5X3EHEH8C5WNVN8',\n",
       " 'foobar:01JTB6VFJBNSVS2MG4PAZN6HRK',\n",
       " 'foobar:01JTB6VFJBDQMHQ45FXVAS8QH9']"
      ]
     },
     "execution_count": 18,
     "metadata": {},
     "output_type": "execute_result"
    }
   ],
   "source": [
    "ids"
   ]
  },
  {
   "cell_type": "code",
   "execution_count": 11,
   "metadata": {},
   "outputs": [
    {
     "ename": "KeyError",
     "evalue": "'sender'",
     "output_type": "error",
     "traceback": [
      "\u001b[1;31m---------------------------------------------------------------------------\u001b[0m",
      "\u001b[1;31mKeyError\u001b[0m                                  Traceback (most recent call last)",
      "Cell \u001b[1;32mIn[11], line 3\u001b[0m\n\u001b[0;32m      1\u001b[0m query \u001b[38;5;241m=\u001b[39m \u001b[38;5;124m\"\u001b[39m\u001b[38;5;124mTell me about Jupiter\u001b[39m\u001b[38;5;124m\"\u001b[39m\n\u001b[1;32m----> 3\u001b[0m scored_results \u001b[38;5;241m=\u001b[39m \u001b[43mvector_store\u001b[49m\u001b[38;5;241;43m.\u001b[39;49m\u001b[43msimilarity_search_with_score\u001b[49m\u001b[43m(\u001b[49m\u001b[43mquery\u001b[49m\u001b[43m,\u001b[49m\u001b[43m \u001b[49m\u001b[43mk\u001b[49m\u001b[38;5;241;43m=\u001b[39;49m\u001b[38;5;241;43m2\u001b[39;49m\u001b[43m)\u001b[49m\n\u001b[0;32m      5\u001b[0m \u001b[38;5;28mprint\u001b[39m(\u001b[38;5;124m\"\u001b[39m\u001b[38;5;124mSimilarity Search with Score Results:\u001b[39m\u001b[38;5;124m\"\u001b[39m)\n\u001b[0;32m      6\u001b[0m \u001b[38;5;28;01mfor\u001b[39;00m doc, score \u001b[38;5;129;01min\u001b[39;00m scored_results:\n",
      "File \u001b[1;32md:\\investing-bot\\.venv\\Lib\\site-packages\\langchain_redis\\vectorstores.py:1206\u001b[0m, in \u001b[0;36mRedisVectorStore.similarity_search_with_score\u001b[1;34m(self, query, k, filter, sort_by, **kwargs)\u001b[0m\n\u001b[0;32m   1152\u001b[0m \u001b[38;5;250m\u001b[39m\u001b[38;5;124;03m\"\"\"Return documents most similar to query string, along with scores.\u001b[39;00m\n\u001b[0;32m   1153\u001b[0m \n\u001b[0;32m   1154\u001b[0m \u001b[38;5;124;03mArgs:\u001b[39;00m\n\u001b[1;32m   (...)\u001b[0m\n\u001b[0;32m   1203\u001b[0m \u001b[38;5;124;03m      returned, which may include non-indexed fields.\u001b[39;00m\n\u001b[0;32m   1204\u001b[0m \u001b[38;5;124;03m\"\"\"\u001b[39;00m\n\u001b[0;32m   1205\u001b[0m embedding \u001b[38;5;241m=\u001b[39m \u001b[38;5;28mself\u001b[39m\u001b[38;5;241m.\u001b[39m_embeddings\u001b[38;5;241m.\u001b[39membed_query(query)\n\u001b[1;32m-> 1206\u001b[0m \u001b[38;5;28;01mreturn\u001b[39;00m \u001b[38;5;28;43mself\u001b[39;49m\u001b[38;5;241;43m.\u001b[39;49m\u001b[43msimilarity_search_with_score_by_vector\u001b[49m\u001b[43m(\u001b[49m\n\u001b[0;32m   1207\u001b[0m \u001b[43m    \u001b[49m\u001b[43membedding\u001b[49m\u001b[43m,\u001b[49m\n\u001b[0;32m   1208\u001b[0m \u001b[43m    \u001b[49m\u001b[43mk\u001b[49m\u001b[43m,\u001b[49m\n\u001b[0;32m   1209\u001b[0m \u001b[43m    \u001b[49m\u001b[38;5;28;43mfilter\u001b[39;49m\u001b[43m,\u001b[49m\n\u001b[0;32m   1210\u001b[0m \u001b[43m    \u001b[49m\u001b[43msort_by\u001b[49m\u001b[43m,\u001b[49m\n\u001b[0;32m   1211\u001b[0m \u001b[43m    \u001b[49m\u001b[38;5;241;43m*\u001b[39;49m\u001b[38;5;241;43m*\u001b[39;49m\u001b[43mkwargs\u001b[49m\u001b[43m,\u001b[49m\n\u001b[0;32m   1212\u001b[0m \u001b[43m\u001b[49m\u001b[43m)\u001b[49m\n",
      "File \u001b[1;32md:\\investing-bot\\.venv\\Lib\\site-packages\\langchain_redis\\vectorstores.py:1103\u001b[0m, in \u001b[0;36mRedisVectorStore.similarity_search_with_score_by_vector\u001b[1;34m(self, embedding, k, filter, sort_by, **kwargs)\u001b[0m\n\u001b[0;32m   1096\u001b[0m         query\u001b[38;5;241m.\u001b[39mreturn_field(\n\u001b[0;32m   1097\u001b[0m             \u001b[38;5;28mself\u001b[39m\u001b[38;5;241m.\u001b[39mconfig\u001b[38;5;241m.\u001b[39membedding_field,\n\u001b[0;32m   1098\u001b[0m             decode_field\u001b[38;5;241m=\u001b[39m(\u001b[38;5;28mself\u001b[39m\u001b[38;5;241m.\u001b[39mconfig\u001b[38;5;241m.\u001b[39mstorage_type \u001b[38;5;241m!=\u001b[39m StorageType\u001b[38;5;241m.\u001b[39mHASH\u001b[38;5;241m.\u001b[39mvalue),\n\u001b[0;32m   1099\u001b[0m         )\n\u001b[0;32m   1101\u001b[0m     results \u001b[38;5;241m=\u001b[39m \u001b[38;5;28mself\u001b[39m\u001b[38;5;241m.\u001b[39m_index\u001b[38;5;241m.\u001b[39mquery(query)\n\u001b[1;32m-> 1103\u001b[0m     docs_with_scores \u001b[38;5;241m=\u001b[39m \u001b[38;5;28;43mself\u001b[39;49m\u001b[38;5;241;43m.\u001b[39;49m\u001b[43m_prepare_docs\u001b[49m\u001b[43m(\u001b[49m\n\u001b[0;32m   1104\u001b[0m \u001b[43m        \u001b[49m\u001b[43mreturn_all\u001b[49m\u001b[43m,\u001b[49m\n\u001b[0;32m   1105\u001b[0m \u001b[43m        \u001b[49m\u001b[43mresults\u001b[49m\u001b[43m,\u001b[49m\n\u001b[0;32m   1106\u001b[0m \u001b[43m        \u001b[49m\u001b[43mreturn_metadata\u001b[49m\u001b[43m,\u001b[49m\n\u001b[0;32m   1107\u001b[0m \u001b[43m        \u001b[49m\u001b[43mwith_vectors\u001b[49m\u001b[38;5;241;43m=\u001b[39;49m\u001b[43mwith_vectors\u001b[49m\u001b[43m,\u001b[49m\n\u001b[0;32m   1108\u001b[0m \u001b[43m        \u001b[49m\u001b[43mwith_scores\u001b[49m\u001b[38;5;241;43m=\u001b[39;49m\u001b[38;5;28;43;01mTrue\u001b[39;49;00m\u001b[43m,\u001b[49m\n\u001b[0;32m   1109\u001b[0m \u001b[43m    \u001b[49m\u001b[43m)\u001b[49m\n\u001b[0;32m   1110\u001b[0m \u001b[38;5;28;01melse\u001b[39;00m:\n\u001b[0;32m   1111\u001b[0m     results \u001b[38;5;241m=\u001b[39m \u001b[38;5;28mself\u001b[39m\u001b[38;5;241m.\u001b[39m_index\u001b[38;5;241m.\u001b[39mquery(query)\n",
      "File \u001b[1;32md:\\investing-bot\\.venv\\Lib\\site-packages\\langchain_redis\\vectorstores.py:942\u001b[0m, in \u001b[0;36mRedisVectorStore._prepare_docs\u001b[1;34m(self, return_all, results, return_metadata, with_vectors, with_scores)\u001b[0m\n\u001b[0;32m    938\u001b[0m \u001b[38;5;28;01mfor\u001b[39;00m res \u001b[38;5;129;01min\u001b[39;00m results:\n\u001b[0;32m    939\u001b[0m     \u001b[38;5;28;01mif\u001b[39;00m \u001b[38;5;129;01mnot\u001b[39;00m return_all:\n\u001b[0;32m    940\u001b[0m         metadata \u001b[38;5;241m=\u001b[39m (\n\u001b[0;32m    941\u001b[0m             {\n\u001b[1;32m--> 942\u001b[0m                 field\u001b[38;5;241m.\u001b[39mname: \u001b[43mres\u001b[49m\u001b[43m[\u001b[49m\u001b[43mfield\u001b[49m\u001b[38;5;241;43m.\u001b[39;49m\u001b[43mname\u001b[49m\u001b[43m]\u001b[49m\n\u001b[0;32m    943\u001b[0m                 \u001b[38;5;28;01mfor\u001b[39;00m field \u001b[38;5;129;01min\u001b[39;00m \u001b[38;5;28mself\u001b[39m\u001b[38;5;241m.\u001b[39m_index\u001b[38;5;241m.\u001b[39mschema\u001b[38;5;241m.\u001b[39mfields\u001b[38;5;241m.\u001b[39mvalues()\n\u001b[0;32m    944\u001b[0m                 \u001b[38;5;28;01mif\u001b[39;00m field\u001b[38;5;241m.\u001b[39mname\n\u001b[0;32m    945\u001b[0m                 \u001b[38;5;129;01mnot\u001b[39;00m \u001b[38;5;129;01min\u001b[39;00m [\u001b[38;5;28mself\u001b[39m\u001b[38;5;241m.\u001b[39mconfig\u001b[38;5;241m.\u001b[39membedding_field, \u001b[38;5;28mself\u001b[39m\u001b[38;5;241m.\u001b[39mconfig\u001b[38;5;241m.\u001b[39mcontent_field]\n\u001b[0;32m    946\u001b[0m             }\n\u001b[0;32m    947\u001b[0m             \u001b[38;5;28;01mif\u001b[39;00m return_metadata\n\u001b[0;32m    948\u001b[0m             \u001b[38;5;28;01melse\u001b[39;00m {}\n\u001b[0;32m    949\u001b[0m         )\n\u001b[0;32m    950\u001b[0m     \u001b[38;5;28;01melse\u001b[39;00m:\n\u001b[0;32m    951\u001b[0m         metadata \u001b[38;5;241m=\u001b[39m {\n\u001b[0;32m    952\u001b[0m             k: v \u001b[38;5;28;01mfor\u001b[39;00m k, v \u001b[38;5;129;01min\u001b[39;00m res\u001b[38;5;241m.\u001b[39mitems() \u001b[38;5;28;01mif\u001b[39;00m k \u001b[38;5;241m!=\u001b[39m \u001b[38;5;28mself\u001b[39m\u001b[38;5;241m.\u001b[39mconfig\u001b[38;5;241m.\u001b[39mcontent_field\n\u001b[0;32m    953\u001b[0m         }\n",
      "\u001b[1;31mKeyError\u001b[0m: 'sender'"
     ]
    }
   ],
   "source": [
    "query = \"Tell me about Jupiter\"\n",
    "\n",
    "scored_results = vector_store.similarity_search_with_score(query, k=2)\n",
    "\n",
    "print(\"Similarity Search with Score Results:\")\n",
    "for doc, score in scored_results:\n",
    "    print(f\"Content: {doc.page_content[:100]}...\")\n",
    "    print(f\"Metadata: {doc.metadata}\")\n",
    "    print(f\"Score: {score}\")\n",
    "    print()"
   ]
  },
  {
   "cell_type": "code",
   "execution_count": 5,
   "metadata": {},
   "outputs": [],
   "source": [
    "retriever = vector_store.as_retriever(search_type=\"similarity\", search_kwargs={\"k\": 2})"
   ]
  },
  {
   "cell_type": "code",
   "execution_count": 6,
   "metadata": {},
   "outputs": [
    {
     "data": {
      "text/plain": [
       "VectorStoreRetriever(tags=['RedisVectorStore', 'HuggingFaceEmbeddings'], vectorstore=<langchain_redis.vectorstores.RedisVectorStore object at 0x0000021933F42D50>, search_kwargs={'k': 2})"
      ]
     },
     "execution_count": 6,
     "metadata": {},
     "output_type": "execute_result"
    }
   ],
   "source": [
    "retriever"
   ]
  },
  {
   "cell_type": "code",
   "execution_count": 38,
   "metadata": {},
   "outputs": [],
   "source": [
    "retrieved_docs = vector_store.similarity_search_with_score(\"Tell me about jupiter\", k=1)\n",
    "docs_content = [(doc.page_content, score) for doc, score in retrieved_docs]\n",
    "# docs_content = \"\\n\\n\".join(doc[0].page_content for doc in retrieved_docs)\n",
    "\n",
    "# bot.search_agent.invoke({'input': 'tell me about jupiter?', 'intent': 'search', 'chat_history': history})\n"
   ]
  },
  {
   "cell_type": "code",
   "execution_count": 39,
   "metadata": {},
   "outputs": [
    {
     "data": {
      "text/plain": [
       "[('From: pgf@srl03.cacs.usl.edu (Phil G. Fraering)\\nSubject: Re: Comet in Temporary Orbit Around Jupiter?\\nOrganization: Univ. of Southwestern Louisiana\\nLines: 28\\n\\nmsb@sq.sq.com (Mark Brader) writes:\\n\\n\\n>Thanks again.  One final question.  The name Gehrels wasn\\'t known to\\n>me before this thread came up, but the May issue of Scientific American\\n>has an article about the \"Inconstant Cosmos\", with a photo of Neil\\n>Gehrels, project scientist for NASA\\'s Compton Gamma Ray Observatory.\\n>Same person?\\n\\nNo. I estimate a 99 % probability the Gehrels referred to\\nis Thomas Gehrels of the Spacewatch project, Kitt Peak observatory.\\n\\nMaybe in the 24th century they could do gamma ray spectroscopy on\\ndistant asteroids with an orbiting observatory, but here in the\\nprimitive 20th we have to send a probe there to get gamma ray\\nspectroscopy done.\\n\\n>Mark Brader, SoftQuad Inc., Toronto\\t\"Information! ... We want information!\"\\n>utzoo!sq!msb, msb@sq.com\\t\\t\\t\\t-- The Prisoner\\n\\nYou have the info on Mayan Television yet?\\n\\n>This article is in the public domain.\\n--\\nPhil Fraering         |\"Seems like every day we find out all sorts of stuff.\\npgf@srl02.cacs.usl.edu|Like how the ancient Mayans had televison.\" Repo Man\\n\\n\\n',\n",
       "  0.658648252487)]"
      ]
     },
     "execution_count": 39,
     "metadata": {},
     "output_type": "execute_result"
    }
   ],
   "source": [
    "docs_content"
   ]
  },
  {
   "cell_type": "code",
   "execution_count": 3,
   "metadata": {},
   "outputs": [],
   "source": [
    "from langchain_community.chat_message_histories import RedisChatMessageHistory\n",
    "REDIS_URL = \"redis://localhost:6379/0\"\n",
    "history = RedisChatMessageHistory(url=REDIS_URL, session_id=\"foobar\")"
   ]
  },
  {
   "cell_type": "code",
   "execution_count": 13,
   "metadata": {},
   "outputs": [],
   "source": [
    "import yfinance as yf\n",
    "cash_flow_statement = get_cash_flow('AAPL')\n",
    "free_cash_flow = cash_flow_statement['Free Cash Flow']"
   ]
  },
  {
   "cell_type": "code",
   "execution_count": 21,
   "metadata": {},
   "outputs": [
    {
     "data": {
      "text/plain": [
       "114.28617543010054"
      ]
     },
     "execution_count": 21,
     "metadata": {},
     "output_type": "execute_result"
    }
   ],
   "source": [
    "def discounted_cash_flow(ticker: str, discount_rate: float = 0.1) -> dict:\n",
    "    '''\n",
    "    Calculates the discounted cash flow of the company given a ticker symbol.\n",
    "\n",
    "    Args:\n",
    "        ticker (str): The ticker symbol of the company\n",
    "        discount_rate (float): The discount rate to use for the DCF calculation\n",
    "\n",
    "    Returns:\n",
    "        dcf (dict): The discounted cash flow of the company to arrive at a price per share\n",
    "    '''\n",
    "    \n",
    "    cash_flow_statement = get_cash_flow(ticker)\n",
    "    free_cash_flow = cash_flow_statement['Free Cash Flow']\n",
    "    # to play safe, assume cash flow is constant, and we take the average of the last 5 years\n",
    "    mean_free_cash_flow = np.nanmean(list(free_cash_flow.values()))\n",
    "    pv_future_cash_flows = []\n",
    "    for i in range(1, 6):\n",
    "        discounted_cash_flow = mean_free_cash_flow / ((1 + discount_rate) ** i)\n",
    "        pv_future_cash_flows.append(round(discounted_cash_flow, 2))\n",
    "\n",
    "    # calculate terminal value\n",
    "    terminal_value = mean_free_cash_flow * (1 + 0.02) / (discount_rate - 0.02)\n",
    "    \n",
    "    total_cash_flow = sum(pv_future_cash_flows) + terminal_value\n",
    "\n",
    "    ticker = yf.Ticker(ticker)\n",
    "    shares_outstanding = ticker.info.get('sharesOutstanding')\n",
    "\n",
    "    dcf_price = total_cash_flow / shares_outstanding\n",
    "\n",
    "    return dcf_price\n",
    "\n",
    "discounted_cash_flow('AAPL')\n",
    "\n"
   ]
  }
 ],
 "metadata": {
  "kernelspec": {
   "display_name": ".venv",
   "language": "python",
   "name": "python3"
  },
  "language_info": {
   "codemirror_mode": {
    "name": "ipython",
    "version": 3
   },
   "file_extension": ".py",
   "mimetype": "text/x-python",
   "name": "python",
   "nbconvert_exporter": "python",
   "pygments_lexer": "ipython3",
   "version": "3.12.1"
  }
 },
 "nbformat": 4,
 "nbformat_minor": 2
}
