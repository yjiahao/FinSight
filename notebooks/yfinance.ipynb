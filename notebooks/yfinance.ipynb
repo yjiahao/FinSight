{
 "cells": [
  {
   "cell_type": "markdown",
   "metadata": {},
   "source": [
    "## Purpose of notebook\n",
    "\n",
    "1. To explore how to use yfinance potentially to get data for fundamental analysis\n",
    "2. Also to explore for model training (the time series forecasting models)"
   ]
  },
  {
   "cell_type": "code",
   "execution_count": 1,
   "metadata": {},
   "outputs": [],
   "source": [
    "import yfinance as yf\n",
    "import pandas as pd\n",
    "import numpy as np"
   ]
  },
  {
   "cell_type": "code",
   "execution_count": 52,
   "metadata": {},
   "outputs": [],
   "source": [
    "# get S&P 500 data and export to csv\n",
    "data = yf.Ticker(\"^SPX\")\n",
    "data.history(period='max').to_csv('../data/sp500.csv')"
   ]
  },
  {
   "cell_type": "code",
   "execution_count": 53,
   "metadata": {},
   "outputs": [],
   "source": [
    "# load list of companies in S&P 500\n",
    "def load_data(url):\n",
    "    html = pd.read_html(url, header=0)\n",
    "    return html\n",
    "\n",
    "url = 'https://en.wikipedia.org/wiki/List_of_S%26P_500_companies'\n",
    "df = load_data(url)[0]"
   ]
  },
  {
   "cell_type": "code",
   "execution_count": 67,
   "metadata": {},
   "outputs": [],
   "source": [
    "# export df as a csv file as well so that we can perform clustering analysis (using the industrial and sub industry data)\n",
    "df.to_csv('../data/sp500_companies_sector.csv')"
   ]
  },
  {
   "cell_type": "code",
   "execution_count": 54,
   "metadata": {},
   "outputs": [],
   "source": [
    "companies = df['Symbol'].tolist()\n",
    "# replace fullstops with dashes instead\n",
    "companies = [c.replace('.', '-') for c in companies]"
   ]
  },
  {
   "cell_type": "markdown",
   "metadata": {},
   "source": [
    "## Get the price data of all stocks in S&P 500"
   ]
  },
  {
   "cell_type": "code",
   "execution_count": null,
   "metadata": {},
   "outputs": [],
   "source": [
    "data = yf.Tickers(companies)"
   ]
  },
  {
   "cell_type": "code",
   "execution_count": 57,
   "metadata": {},
   "outputs": [
    {
     "name": "stderr",
     "output_type": "stream",
     "text": [
      "[*********************100%***********************]  503 of 503 completed\n"
     ]
    }
   ],
   "source": [
    "all_data = data.history(period='10y')\n",
    "all_data.to_csv('../data/sp500_all_companies.csv')"
   ]
  },
  {
   "cell_type": "markdown",
   "metadata": {},
   "source": [
    "## Get fundamental data for a specific company"
   ]
  },
  {
   "cell_type": "code",
   "execution_count": 2,
   "metadata": {},
   "outputs": [],
   "source": [
    "data = yf.Ticker(\"AAPL\")"
   ]
  },
  {
   "cell_type": "code",
   "execution_count": null,
   "metadata": {},
   "outputs": [
    {
     "data": {
      "text/plain": [
       "{'2024-09-30': 22.701794098299054,\n",
       " '2023-09-30': 23.478050809567907,\n",
       " '2022-09-30': 20.90282937968418,\n",
       " '2021-09-30': 22.017938467373487}"
      ]
     },
     "execution_count": 46,
     "metadata": {},
     "output_type": "execute_result"
    }
   ],
   "source": [
    "bs = data.balance_sheet.transpose()\n",
    "bs.index = bs.index.strftime('%Y-%m-%d')\n",
    "bs = bs.to_dict()\n",
    "\n",
    "income_statement = data.income_stmt.transpose()\n",
    "income_statement.index = income_statement.index.strftime('%Y-%m-%d')\n",
    "income_statement = income_statement.to_dict()\n",
    "\n",
    "diluted_eps = income_statement['Diluted EPS']\n",
    "book_value = bs['Stockholders Equity']\n",
    "shares_outstanding = bs['Ordinary Shares Number']\n",
    "\n",
    "# convert into format we can use\n",
    "graham_numbers = {}\n",
    "\n",
    "for date, eps, book_value, shares_outstanding in zip(diluted_eps.keys(), diluted_eps.values(), book_value.values(), shares_outstanding.values()):\n",
    "    if np.isnan(eps) or np.isnan(book_value) or np.isnan(shares_outstanding):\n",
    "        continue\n",
    "    graham_numbers[date] = {}\n",
    "    book_value_ps = book_value / shares_outstanding\n",
    "    graham_numbers[date] = (22.5 * eps * book_value_ps) ** 0.5\n",
    "\n",
    "graham_numbers\n",
    "\n",
    "# book_value_ps = book_value / shares_outstanding\n",
    "# (22.5 * diluted_eps * book_value_ps) ** 0.5"
   ]
  },
  {
   "cell_type": "code",
   "execution_count": 50,
   "metadata": {},
   "outputs": [
    {
     "data": {
      "text/plain": [
       "{'2024-09-30': 1.6459350307287095,\n",
       " '2023-09-30': 1.5607601454639075,\n",
       " '2022-09-30': 1.9695887275023682,\n",
       " '2021-09-30': 1.5007132667617689}"
      ]
     },
     "execution_count": 50,
     "metadata": {},
     "output_type": "execute_result"
    }
   ],
   "source": [
    "# calculate roe\n",
    "bs = data.balance_sheet.transpose()\n",
    "bs.index = bs.index.strftime('%Y-%m-%d')\n",
    "bs = bs.to_dict()\n",
    "\n",
    "income_statement = data.income_stmt.transpose()\n",
    "income_statement.index = income_statement.index.strftime('%Y-%m-%d')\n",
    "income_statement = income_statement.to_dict()\n",
    "\n",
    "net_income = income_statement['Net Income']\n",
    "shareholders = bs['Stockholders Equity']\n",
    "\n",
    "roe = {}\n",
    "for date, net_income, shareholders in zip(net_income.keys(), net_income.values(), shareholders.values()):\n",
    "    if np.isnan(net_income) or np.isnan(shareholders):\n",
    "        continue\n",
    "    roe[date] = {}\n",
    "    roe[date] = net_income / shareholders\n",
    "roe"
   ]
  },
  {
   "cell_type": "code",
   "execution_count": 59,
   "metadata": {},
   "outputs": [
    {
     "data": {
      "text/plain": [
       "{'address1': 'One Apple Park Way',\n",
       " 'city': 'Cupertino',\n",
       " 'state': 'CA',\n",
       " 'zip': '95014',\n",
       " 'country': 'United States',\n",
       " 'phone': '(408) 996-1010',\n",
       " 'website': 'https://www.apple.com',\n",
       " 'industry': 'Consumer Electronics',\n",
       " 'industryKey': 'consumer-electronics',\n",
       " 'industryDisp': 'Consumer Electronics',\n",
       " 'sector': 'Technology',\n",
       " 'sectorKey': 'technology',\n",
       " 'sectorDisp': 'Technology',\n",
       " 'longBusinessSummary': 'Apple Inc. designs, manufactures, and markets smartphones, personal computers, tablets, wearables, and accessories worldwide. The company offers iPhone, a line of smartphones; Mac, a line of personal computers; iPad, a line of multi-purpose tablets; and wearables, home, and accessories comprising AirPods, Apple TV, Apple Watch, Beats products, and HomePod. It also provides AppleCare support and cloud services; and operates various platforms, including the App Store that allow customers to discover and download applications and digital content, such as books, music, video, games, and podcasts, as well as advertising services include third-party licensing arrangements and its own advertising platforms. In addition, the company offers various subscription-based services, such as Apple Arcade, a game subscription service; Apple Fitness+, a personalized fitness service; Apple Music, which offers users a curated listening experience with on-demand radio stations; Apple News+, a subscription news and magazine service; Apple TV+, which offers exclusive original content; Apple Card, a co-branded credit card; and Apple Pay, a cashless payment service, as well as licenses its intellectual property. The company serves consumers, and small and mid-sized businesses; and the education, enterprise, and government markets. It distributes third-party applications for its products through the App Store. The company also sells its products through its retail and online stores, and direct sales force; and third-party cellular network carriers, wholesalers, retailers, and resellers. Apple Inc. was founded in 1976 and is headquartered in Cupertino, California.',\n",
       " 'fullTimeEmployees': 150000,\n",
       " 'companyOfficers': [{'maxAge': 1,\n",
       "   'name': 'Mr. Timothy D. Cook',\n",
       "   'age': 63,\n",
       "   'title': 'CEO & Director',\n",
       "   'yearBorn': 1961,\n",
       "   'fiscalYear': 2023,\n",
       "   'totalPay': 16239562,\n",
       "   'exercisedValue': 0,\n",
       "   'unexercisedValue': 0},\n",
       "  {'maxAge': 1,\n",
       "   'name': 'Mr. Jeffrey E. Williams',\n",
       "   'age': 60,\n",
       "   'title': 'Chief Operating Officer',\n",
       "   'yearBorn': 1964,\n",
       "   'fiscalYear': 2023,\n",
       "   'totalPay': 4637585,\n",
       "   'exercisedValue': 0,\n",
       "   'unexercisedValue': 0},\n",
       "  {'maxAge': 1,\n",
       "   'name': 'Ms. Katherine L. Adams',\n",
       "   'age': 60,\n",
       "   'title': 'Senior VP, General Counsel & Secretary',\n",
       "   'yearBorn': 1964,\n",
       "   'fiscalYear': 2023,\n",
       "   'totalPay': 4618064,\n",
       "   'exercisedValue': 0,\n",
       "   'unexercisedValue': 0},\n",
       "  {'maxAge': 1,\n",
       "   'name': \"Ms. Deirdre  O'Brien\",\n",
       "   'age': 57,\n",
       "   'title': 'Chief People Officer & Senior VP of Retail',\n",
       "   'yearBorn': 1967,\n",
       "   'fiscalYear': 2023,\n",
       "   'totalPay': 4613369,\n",
       "   'exercisedValue': 0,\n",
       "   'unexercisedValue': 0},\n",
       "  {'maxAge': 1,\n",
       "   'name': 'Mr. Kevan  Parekh',\n",
       "   'age': 52,\n",
       "   'title': 'Senior VP & CFO',\n",
       "   'yearBorn': 1972,\n",
       "   'fiscalYear': 2023,\n",
       "   'exercisedValue': 0,\n",
       "   'unexercisedValue': 0},\n",
       "  {'maxAge': 1,\n",
       "   'name': 'Mr. Chris  Kondo',\n",
       "   'title': 'Senior Director of Corporate Accounting',\n",
       "   'fiscalYear': 2023,\n",
       "   'exercisedValue': 0,\n",
       "   'unexercisedValue': 0},\n",
       "  {'maxAge': 1,\n",
       "   'name': 'Suhasini  Chandramouli',\n",
       "   'title': 'Director of Investor Relations',\n",
       "   'fiscalYear': 2023,\n",
       "   'exercisedValue': 0,\n",
       "   'unexercisedValue': 0},\n",
       "  {'maxAge': 1,\n",
       "   'name': 'Ms. Kristin Huguet Quayle',\n",
       "   'title': 'Vice President of Worldwide Communications',\n",
       "   'fiscalYear': 2023,\n",
       "   'exercisedValue': 0,\n",
       "   'unexercisedValue': 0},\n",
       "  {'maxAge': 1,\n",
       "   'name': 'Mr. Greg  Joswiak',\n",
       "   'title': 'Senior Vice President of Worldwide Marketing',\n",
       "   'fiscalYear': 2023,\n",
       "   'exercisedValue': 0,\n",
       "   'unexercisedValue': 0},\n",
       "  {'maxAge': 1,\n",
       "   'name': 'Mr. Adrian  Perica',\n",
       "   'age': 50,\n",
       "   'title': 'Vice President of Corporate Development',\n",
       "   'yearBorn': 1974,\n",
       "   'fiscalYear': 2023,\n",
       "   'exercisedValue': 0,\n",
       "   'unexercisedValue': 0}],\n",
       " 'auditRisk': 7,\n",
       " 'boardRisk': 1,\n",
       " 'compensationRisk': 3,\n",
       " 'shareHolderRightsRisk': 1,\n",
       " 'overallRisk': 1,\n",
       " 'governanceEpochDate': 1740787200,\n",
       " 'compensationAsOfEpochDate': 1703980800,\n",
       " 'irWebsite': 'http://investor.apple.com/',\n",
       " 'executiveTeam': [],\n",
       " 'maxAge': 86400,\n",
       " 'priceHint': 2,\n",
       " 'previousClose': 223.85,\n",
       " 'open': 221.649,\n",
       " 'dayLow': 217.68,\n",
       " 'dayHigh': 223.8,\n",
       " 'regularMarketPreviousClose': 223.85,\n",
       " 'regularMarketOpen': 221.649,\n",
       " 'regularMarketDayLow': 217.68,\n",
       " 'regularMarketDayHigh': 223.8,\n",
       " 'dividendRate': 1.0,\n",
       " 'dividendYield': 0.46,\n",
       " 'exDividendDate': 1739145600,\n",
       " 'payoutRatio': 0.1571,\n",
       " 'fiveYearAvgDividendYield': 0.59,\n",
       " 'beta': 1.178,\n",
       " 'trailingPE': 34.5873,\n",
       " 'forwardPE': 26.221418,\n",
       " 'volume': 39525987,\n",
       " 'regularMarketVolume': 39525987,\n",
       " 'averageVolume': 52532506,\n",
       " 'averageVolume10days': 47802000,\n",
       " 'averageDailyVolume10Day': 47802000,\n",
       " 'bid': 217.76,\n",
       " 'ask': 217.84,\n",
       " 'bidSize': 4,\n",
       " 'askSize': 2,\n",
       " 'marketCap': 3273315581952,\n",
       " 'fiftyTwoWeekLow': 164.08,\n",
       " 'fiftyTwoWeekHigh': 260.1,\n",
       " 'priceToSalesTrailing12Months': 8.270961,\n",
       " 'fiftyDayAverage': 230.3722,\n",
       " 'twoHundredDayAverage': 229.0202,\n",
       " 'trailingAnnualDividendRate': 0.99,\n",
       " 'trailingAnnualDividendYield': 0.0044226046,\n",
       " 'currency': 'USD',\n",
       " 'tradeable': False,\n",
       " 'enterpriseValue': 3316333674496,\n",
       " 'profitMargins': 0.24295,\n",
       " 'floatShares': 14998187904,\n",
       " 'sharesOutstanding': 15022100480,\n",
       " 'sharesShort': 129678474,\n",
       " 'sharesShortPriorMonth': 127893856,\n",
       " 'sharesShortPreviousMonthDate': 1739491200,\n",
       " 'dateShortInterest': 1741910400,\n",
       " 'sharesPercentSharesOut': 0.0086,\n",
       " 'heldPercentInsiders': 0.0207,\n",
       " 'heldPercentInstitutions': 0.62836,\n",
       " 'shortRatio': 2.54,\n",
       " 'shortPercentOfFloat': 0.0086,\n",
       " 'impliedSharesOutstanding': 15172599808,\n",
       " 'bookValue': 4.438,\n",
       " 'priceToBook': 49.09869,\n",
       " 'lastFiscalYearEnd': 1727481600,\n",
       " 'nextFiscalYearEnd': 1759017600,\n",
       " 'mostRecentQuarter': 1735344000,\n",
       " 'earningsQuarterlyGrowth': 0.071,\n",
       " 'netIncomeToCommon': 96150003712,\n",
       " 'trailingEps': 6.3,\n",
       " 'forwardEps': 8.31,\n",
       " 'lastSplitFactor': '4:1',\n",
       " 'lastSplitDate': 1598832000,\n",
       " 'enterpriseToRevenue': 8.38,\n",
       " 'enterpriseToEbitda': 24.145,\n",
       " '52WeekChange': 0.2815386,\n",
       " 'SandP52WeekChange': 0.06429911,\n",
       " 'lastDividendValue': 0.25,\n",
       " 'lastDividendDate': 1739145600,\n",
       " 'quoteType': 'EQUITY',\n",
       " 'currentPrice': 217.9,\n",
       " 'targetHighPrice': 325.0,\n",
       " 'targetLowPrice': 197.0,\n",
       " 'targetMeanPrice': 252.59052,\n",
       " 'targetMedianPrice': 255.0,\n",
       " 'recommendationMean': 2.02222,\n",
       " 'recommendationKey': 'buy',\n",
       " 'numberOfAnalystOpinions': 39,\n",
       " 'totalCash': 53774999552,\n",
       " 'totalCashPerShare': 3.58,\n",
       " 'ebitda': 137352003584,\n",
       " 'totalDebt': 96798998528,\n",
       " 'quickRatio': 0.783,\n",
       " 'currentRatio': 0.923,\n",
       " 'totalRevenue': 395760009216,\n",
       " 'debtToEquity': 145.0,\n",
       " 'revenuePerShare': 25.974,\n",
       " 'returnOnAssets': 0.22518998,\n",
       " 'returnOnEquity': 1.3652,\n",
       " 'grossProfits': 184102993920,\n",
       " 'freeCashflow': 93833871360,\n",
       " 'operatingCashflow': 108293996544,\n",
       " 'earningsGrowth': 0.101,\n",
       " 'revenueGrowth': 0.04,\n",
       " 'grossMargins': 0.46519002,\n",
       " 'ebitdaMargins': 0.34706002,\n",
       " 'operatingMargins': 0.34459,\n",
       " 'financialCurrency': 'USD',\n",
       " 'symbol': 'AAPL',\n",
       " 'language': 'en-US',\n",
       " 'region': 'US',\n",
       " 'typeDisp': 'Equity',\n",
       " 'quoteSourceName': 'Nasdaq Real Time Price',\n",
       " 'triggerable': True,\n",
       " 'customPriceAlertConfidence': 'HIGH',\n",
       " 'shortName': 'Apple Inc.',\n",
       " 'corporateActions': [],\n",
       " 'postMarketTime': 1743206395,\n",
       " 'regularMarketTime': 1743192001,\n",
       " 'exchange': 'NMS',\n",
       " 'messageBoardId': 'finmb_24937',\n",
       " 'exchangeTimezoneName': 'America/New_York',\n",
       " 'exchangeTimezoneShortName': 'EDT',\n",
       " 'gmtOffSetMilliseconds': -14400000,\n",
       " 'market': 'us_market',\n",
       " 'esgPopulated': False,\n",
       " 'longName': 'Apple Inc.',\n",
       " 'hasPrePostMarketData': True,\n",
       " 'firstTradeDateMilliseconds': 345479400000,\n",
       " 'postMarketChangePercent': -0.312066,\n",
       " 'postMarketPrice': 217.22,\n",
       " 'postMarketChange': -0.679993,\n",
       " 'regularMarketChange': -5.950012,\n",
       " 'regularMarketDayRange': '217.68 - 223.8',\n",
       " 'fullExchangeName': 'NasdaqGS',\n",
       " 'averageDailyVolume3Month': 52532506,\n",
       " 'fiftyTwoWeekLowChange': 53.819992,\n",
       " 'fiftyTwoWeekLowChangePercent': 0.32801068,\n",
       " 'fiftyTwoWeekRange': '164.08 - 260.1',\n",
       " 'fiftyTwoWeekHighChange': -42.200012,\n",
       " 'fiftyTwoWeekHighChangePercent': -0.16224533,\n",
       " 'fiftyTwoWeekChangePercent': 28.15386,\n",
       " 'dividendDate': 1739404800,\n",
       " 'earningsTimestamp': 1738272600,\n",
       " 'earningsTimestampStart': 1746010740,\n",
       " 'earningsTimestampEnd': 1746446400,\n",
       " 'earningsCallTimestampStart': 1738274400,\n",
       " 'earningsCallTimestampEnd': 1738274400,\n",
       " 'isEarningsDateEstimate': True,\n",
       " 'epsTrailingTwelveMonths': 6.3,\n",
       " 'epsForward': 8.31,\n",
       " 'epsCurrentYear': 7.32671,\n",
       " 'priceEpsCurrentYear': 29.740496,\n",
       " 'fiftyDayAverageChange': -12.4721985,\n",
       " 'fiftyDayAverageChangePercent': -0.05413934,\n",
       " 'twoHundredDayAverageChange': -11.120209,\n",
       " 'twoHundredDayAverageChangePercent': -0.04855558,\n",
       " 'sourceInterval': 15,\n",
       " 'exchangeDataDelayedBy': 0,\n",
       " 'averageAnalystRating': '2.0 - Buy',\n",
       " 'cryptoTradeable': False,\n",
       " 'regularMarketChangePercent': -2.6580353,\n",
       " 'regularMarketPrice': 217.9,\n",
       " 'marketState': 'CLOSED',\n",
       " 'displayName': 'Apple',\n",
       " 'trailingPegRatio': 2.0223}"
      ]
     },
     "execution_count": 59,
     "metadata": {},
     "output_type": "execute_result"
    }
   ],
   "source": [
    "# calculate P/E ratio\n",
    "data.info"
   ]
  },
  {
   "cell_type": "code",
   "execution_count": 10,
   "metadata": {},
   "outputs": [
    {
     "data": {
      "text/plain": [
       "dict_values([6.08, 6.13, 6.11, 5.61, nan])"
      ]
     },
     "execution_count": 10,
     "metadata": {},
     "output_type": "execute_result"
    }
   ],
   "source": [
    "d = data.income_stmt.to_dict(orient='index')\n",
    "d['Diluted EPS'].values()"
   ]
  },
  {
   "cell_type": "code",
   "execution_count": 55,
   "metadata": {},
   "outputs": [
    {
     "data": {
      "text/plain": [
       "Index(['Treasury Shares Number', 'Ordinary Shares Number', 'Share Issued',\n",
       "       'Net Debt', 'Total Debt', 'Tangible Book Value', 'Invested Capital',\n",
       "       'Working Capital', 'Net Tangible Assets', 'Capital Lease Obligations',\n",
       "       'Common Stock Equity', 'Total Capitalization',\n",
       "       'Total Equity Gross Minority Interest', 'Stockholders Equity',\n",
       "       'Gains Losses Not Affecting Retained Earnings',\n",
       "       'Other Equity Adjustments', 'Retained Earnings', 'Capital Stock',\n",
       "       'Common Stock', 'Total Liabilities Net Minority Interest',\n",
       "       'Total Non Current Liabilities Net Minority Interest',\n",
       "       'Other Non Current Liabilities', 'Tradeand Other Payables Non Current',\n",
       "       'Long Term Debt And Capital Lease Obligation',\n",
       "       'Long Term Capital Lease Obligation', 'Long Term Debt',\n",
       "       'Current Liabilities', 'Other Current Liabilities',\n",
       "       'Current Deferred Liabilities', 'Current Deferred Revenue',\n",
       "       'Current Debt And Capital Lease Obligation',\n",
       "       'Current Capital Lease Obligation', 'Current Debt',\n",
       "       'Other Current Borrowings', 'Commercial Paper',\n",
       "       'Payables And Accrued Expenses', 'Payables', 'Total Tax Payable',\n",
       "       'Income Tax Payable', 'Accounts Payable', 'Total Assets',\n",
       "       'Total Non Current Assets', 'Other Non Current Assets',\n",
       "       'Non Current Deferred Assets', 'Non Current Deferred Taxes Assets',\n",
       "       'Investments And Advances', 'Other Investments',\n",
       "       'Investmentin Financial Assets', 'Available For Sale Securities',\n",
       "       'Net PPE', 'Accumulated Depreciation', 'Gross PPE', 'Leases',\n",
       "       'Other Properties', 'Machinery Furniture Equipment',\n",
       "       'Land And Improvements', 'Properties', 'Current Assets',\n",
       "       'Other Current Assets', 'Inventory', 'Receivables', 'Other Receivables',\n",
       "       'Accounts Receivable',\n",
       "       'Cash Cash Equivalents And Short Term Investments',\n",
       "       'Other Short Term Investments', 'Cash And Cash Equivalents',\n",
       "       'Cash Equivalents', 'Cash Financial'],\n",
       "      dtype='object')"
      ]
     },
     "execution_count": 55,
     "metadata": {},
     "output_type": "execute_result"
    }
   ],
   "source": [
    "data.balance_sheet.index"
   ]
  },
  {
   "cell_type": "code",
   "execution_count": null,
   "metadata": {},
   "outputs": [
    {
     "data": {
      "text/plain": [
       "2024-09-30   -19154000000.0\n",
       "2023-09-30     -214000000.0\n",
       "2022-09-30    -3068000000.0\n",
       "2021-09-30     5562000000.0\n",
       "2020-09-30              NaN\n",
       "Name: Retained Earnings, dtype: object"
      ]
     },
     "execution_count": 56,
     "metadata": {},
     "output_type": "execute_result"
    }
   ],
   "source": [
    "net_income = data.income_stmt.loc['Net Income']\n",
    "equity = data.balance_sheet.loc['Stockholders Equity']"
   ]
  },
  {
   "cell_type": "code",
   "execution_count": 41,
   "metadata": {},
   "outputs": [
    {
     "data": {
      "text/plain": [
       "2024-09-30    56950000000.0\n",
       "2023-09-30    62146000000.0\n",
       "2022-09-30    50672000000.0\n",
       "2021-09-30    63090000000.0\n",
       "2020-09-30              NaN\n",
       "Name: Stockholders Equity, dtype: object"
      ]
     },
     "execution_count": 41,
     "metadata": {},
     "output_type": "execute_result"
    }
   ],
   "source": [
    "equity"
   ]
  },
  {
   "cell_type": "code",
   "execution_count": 44,
   "metadata": {},
   "outputs": [
    {
     "data": {
      "text/plain": [
       "2024-09-30    1.645935\n",
       "2023-09-30     1.56076\n",
       "2022-09-30    1.969589\n",
       "2021-09-30    1.500713\n",
       "dtype: object"
      ]
     },
     "execution_count": 44,
     "metadata": {},
     "output_type": "execute_result"
    }
   ],
   "source": [
    "(net_income / equity).dropna()"
   ]
  },
  {
   "cell_type": "code",
   "execution_count": 82,
   "metadata": {},
   "outputs": [
    {
     "data": {
      "text/plain": [
       "'https://finance.yahoo.com/news/tech-support-apples-macbook-air-is-100-cheaper-and-still-among-the-best-laptops-you-can-buy-143011864.html'"
      ]
     },
     "execution_count": 82,
     "metadata": {},
     "output_type": "execute_result"
    }
   ],
   "source": [
    "# could maybe write a function to get news about the company, then get the LLM to link it in its response\n",
    "news = data.news\n",
    "\n",
    "news[1]['content']['clickThroughUrl']['url']"
   ]
  },
  {
   "cell_type": "code",
   "execution_count": null,
   "metadata": {},
   "outputs": [],
   "source": [
    "# TODO: need to figure out what to look out for when investing, to know what data to extract and create functions for the LLM\n",
    "# TODO: function to link latest news for the user to read in LLM response"
   ]
  }
 ],
 "metadata": {
  "kernelspec": {
   "display_name": ".venv",
   "language": "python",
   "name": "python3"
  },
  "language_info": {
   "codemirror_mode": {
    "name": "ipython",
    "version": 3
   },
   "file_extension": ".py",
   "mimetype": "text/x-python",
   "name": "python",
   "nbconvert_exporter": "python",
   "pygments_lexer": "ipython3",
   "version": "3.12.1"
  }
 },
 "nbformat": 4,
 "nbformat_minor": 2
}
