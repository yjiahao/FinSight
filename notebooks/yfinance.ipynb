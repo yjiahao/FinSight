{
 "cells": [
  {
   "cell_type": "markdown",
   "metadata": {},
   "source": [
    "## Purpose of notebook\n",
    "\n",
    "1. To explore how to use yfinance potentially to get data for fundamental analysis\n",
    "2. Also to explore for model training (the time series forecasting models)"
   ]
  },
  {
   "cell_type": "code",
   "execution_count": 1,
   "metadata": {},
   "outputs": [],
   "source": [
    "import yfinance as yf\n",
    "import pandas as pd\n",
    "import numpy as np"
   ]
  },
  {
   "cell_type": "code",
   "execution_count": 52,
   "metadata": {},
   "outputs": [],
   "source": [
    "# get S&P 500 data and export to csv\n",
    "data = yf.Ticker(\"^SPX\")\n",
    "data.history(period='max').to_csv('../data/sp500.csv')"
   ]
  },
  {
   "cell_type": "code",
   "execution_count": 53,
   "metadata": {},
   "outputs": [],
   "source": [
    "# load list of companies in S&P 500\n",
    "def load_data(url):\n",
    "    html = pd.read_html(url, header=0)\n",
    "    return html\n",
    "\n",
    "url = 'https://en.wikipedia.org/wiki/List_of_S%26P_500_companies'\n",
    "df = load_data(url)[0]"
   ]
  },
  {
   "cell_type": "code",
   "execution_count": 67,
   "metadata": {},
   "outputs": [],
   "source": [
    "# export df as a csv file as well so that we can perform clustering analysis (using the industrial and sub industry data)\n",
    "df.to_csv('../data/sp500_companies_sector.csv')"
   ]
  },
  {
   "cell_type": "code",
   "execution_count": 54,
   "metadata": {},
   "outputs": [],
   "source": [
    "companies = df['Symbol'].tolist()\n",
    "# replace fullstops with dashes instead\n",
    "companies = [c.replace('.', '-') for c in companies]"
   ]
  },
  {
   "cell_type": "markdown",
   "metadata": {},
   "source": [
    "## Get the price data of all stocks in S&P 500"
   ]
  },
  {
   "cell_type": "code",
   "execution_count": null,
   "metadata": {},
   "outputs": [],
   "source": [
    "data = yf.Tickers(companies)"
   ]
  },
  {
   "cell_type": "code",
   "execution_count": 57,
   "metadata": {},
   "outputs": [
    {
     "name": "stderr",
     "output_type": "stream",
     "text": [
      "[*********************100%***********************]  503 of 503 completed\n"
     ]
    }
   ],
   "source": [
    "all_data = data.history(period='10y')\n",
    "all_data.to_csv('../data/sp500_all_companies.csv')"
   ]
  },
  {
   "cell_type": "markdown",
   "metadata": {},
   "source": [
    "## Get fundamental data for a specific company"
   ]
  },
  {
   "cell_type": "code",
   "execution_count": 2,
   "metadata": {},
   "outputs": [],
   "source": [
    "data = yf.Ticker(\"AAPL\")"
   ]
  },
  {
   "cell_type": "code",
   "execution_count": 3,
   "metadata": {},
   "outputs": [
    {
     "data": {
      "text/plain": [
       "2024-09-30    22.701794\n",
       "2023-09-30    23.478051\n",
       "2022-09-30    20.902829\n",
       "2021-09-30    22.017938\n",
       "2020-09-30          NaN\n",
       "dtype: object"
      ]
     },
     "execution_count": 3,
     "metadata": {},
     "output_type": "execute_result"
    }
   ],
   "source": [
    "# get balance sheet, we can have some way to extract some of the data\n",
    "# balance sheet data\n",
    "diluted_eps = data.income_stmt.loc['Diluted EPS']\n",
    "book_value = data.balance_sheet.loc['Stockholders Equity']\n",
    "shares_outstanding = data.balance_sheet.loc['Ordinary Shares Number']\n",
    "\n",
    "book_value_ps = book_value / shares_outstanding\n",
    "(22.5 * diluted_eps * book_value_ps) ** 0.5"
   ]
  },
  {
   "cell_type": "code",
   "execution_count": 10,
   "metadata": {},
   "outputs": [
    {
     "data": {
      "text/plain": [
       "dict_values([6.08, 6.13, 6.11, 5.61, nan])"
      ]
     },
     "execution_count": 10,
     "metadata": {},
     "output_type": "execute_result"
    }
   ],
   "source": [
    "d = data.income_stmt.to_dict(orient='index')\n",
    "d['Diluted EPS'].values()"
   ]
  },
  {
   "cell_type": "code",
   "execution_count": 55,
   "metadata": {},
   "outputs": [
    {
     "data": {
      "text/plain": [
       "Index(['Treasury Shares Number', 'Ordinary Shares Number', 'Share Issued',\n",
       "       'Net Debt', 'Total Debt', 'Tangible Book Value', 'Invested Capital',\n",
       "       'Working Capital', 'Net Tangible Assets', 'Capital Lease Obligations',\n",
       "       'Common Stock Equity', 'Total Capitalization',\n",
       "       'Total Equity Gross Minority Interest', 'Stockholders Equity',\n",
       "       'Gains Losses Not Affecting Retained Earnings',\n",
       "       'Other Equity Adjustments', 'Retained Earnings', 'Capital Stock',\n",
       "       'Common Stock', 'Total Liabilities Net Minority Interest',\n",
       "       'Total Non Current Liabilities Net Minority Interest',\n",
       "       'Other Non Current Liabilities', 'Tradeand Other Payables Non Current',\n",
       "       'Long Term Debt And Capital Lease Obligation',\n",
       "       'Long Term Capital Lease Obligation', 'Long Term Debt',\n",
       "       'Current Liabilities', 'Other Current Liabilities',\n",
       "       'Current Deferred Liabilities', 'Current Deferred Revenue',\n",
       "       'Current Debt And Capital Lease Obligation',\n",
       "       'Current Capital Lease Obligation', 'Current Debt',\n",
       "       'Other Current Borrowings', 'Commercial Paper',\n",
       "       'Payables And Accrued Expenses', 'Payables', 'Total Tax Payable',\n",
       "       'Income Tax Payable', 'Accounts Payable', 'Total Assets',\n",
       "       'Total Non Current Assets', 'Other Non Current Assets',\n",
       "       'Non Current Deferred Assets', 'Non Current Deferred Taxes Assets',\n",
       "       'Investments And Advances', 'Other Investments',\n",
       "       'Investmentin Financial Assets', 'Available For Sale Securities',\n",
       "       'Net PPE', 'Accumulated Depreciation', 'Gross PPE', 'Leases',\n",
       "       'Other Properties', 'Machinery Furniture Equipment',\n",
       "       'Land And Improvements', 'Properties', 'Current Assets',\n",
       "       'Other Current Assets', 'Inventory', 'Receivables', 'Other Receivables',\n",
       "       'Accounts Receivable',\n",
       "       'Cash Cash Equivalents And Short Term Investments',\n",
       "       'Other Short Term Investments', 'Cash And Cash Equivalents',\n",
       "       'Cash Equivalents', 'Cash Financial'],\n",
       "      dtype='object')"
      ]
     },
     "execution_count": 55,
     "metadata": {},
     "output_type": "execute_result"
    }
   ],
   "source": [
    "data.balance_sheet.index"
   ]
  },
  {
   "cell_type": "code",
   "execution_count": null,
   "metadata": {},
   "outputs": [
    {
     "data": {
      "text/plain": [
       "2024-09-30   -19154000000.0\n",
       "2023-09-30     -214000000.0\n",
       "2022-09-30    -3068000000.0\n",
       "2021-09-30     5562000000.0\n",
       "2020-09-30              NaN\n",
       "Name: Retained Earnings, dtype: object"
      ]
     },
     "execution_count": 56,
     "metadata": {},
     "output_type": "execute_result"
    }
   ],
   "source": [
    "net_income = data.income_stmt.loc['Net Income']\n",
    "equity = data.balance_sheet.loc['Stockholders Equity']"
   ]
  },
  {
   "cell_type": "code",
   "execution_count": 41,
   "metadata": {},
   "outputs": [
    {
     "data": {
      "text/plain": [
       "2024-09-30    56950000000.0\n",
       "2023-09-30    62146000000.0\n",
       "2022-09-30    50672000000.0\n",
       "2021-09-30    63090000000.0\n",
       "2020-09-30              NaN\n",
       "Name: Stockholders Equity, dtype: object"
      ]
     },
     "execution_count": 41,
     "metadata": {},
     "output_type": "execute_result"
    }
   ],
   "source": [
    "equity"
   ]
  },
  {
   "cell_type": "code",
   "execution_count": 44,
   "metadata": {},
   "outputs": [
    {
     "data": {
      "text/plain": [
       "2024-09-30    1.645935\n",
       "2023-09-30     1.56076\n",
       "2022-09-30    1.969589\n",
       "2021-09-30    1.500713\n",
       "dtype: object"
      ]
     },
     "execution_count": 44,
     "metadata": {},
     "output_type": "execute_result"
    }
   ],
   "source": [
    "(net_income / equity).dropna()"
   ]
  },
  {
   "cell_type": "code",
   "execution_count": 82,
   "metadata": {},
   "outputs": [
    {
     "data": {
      "text/plain": [
       "'https://finance.yahoo.com/news/tech-support-apples-macbook-air-is-100-cheaper-and-still-among-the-best-laptops-you-can-buy-143011864.html'"
      ]
     },
     "execution_count": 82,
     "metadata": {},
     "output_type": "execute_result"
    }
   ],
   "source": [
    "# could maybe write a function to get news about the company, then get the LLM to link it in its response\n",
    "news = data.news\n",
    "\n",
    "news[1]['content']['clickThroughUrl']['url']"
   ]
  },
  {
   "cell_type": "code",
   "execution_count": null,
   "metadata": {},
   "outputs": [],
   "source": [
    "# TODO: need to figure out what to look out for when investing, to know what data to extract and create functions for the LLM\n",
    "# TODO: function to link latest news for the user to read in LLM response"
   ]
  }
 ],
 "metadata": {
  "kernelspec": {
   "display_name": ".venv",
   "language": "python",
   "name": "python3"
  },
  "language_info": {
   "codemirror_mode": {
    "name": "ipython",
    "version": 3
   },
   "file_extension": ".py",
   "mimetype": "text/x-python",
   "name": "python",
   "nbconvert_exporter": "python",
   "pygments_lexer": "ipython3",
   "version": "3.12.1"
  }
 },
 "nbformat": 4,
 "nbformat_minor": 2
}
