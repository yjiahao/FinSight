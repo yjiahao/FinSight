{
 "cells": [
  {
   "cell_type": "code",
   "execution_count": 1,
   "metadata": {},
   "outputs": [],
   "source": [
    "from dotenv import load_dotenv\n",
    "from langchain_google_community import GoogleSearchAPIWrapper\n",
    "from langchain_community.utilities.alpha_vantage import AlphaVantageAPIWrapper\n",
    "from langchain_core.tools import Tool\n",
    "from langchain_core.messages import HumanMessage, AIMessage\n",
    "from langchain_groq import ChatGroq\n",
    "from langchain_core.runnables.history import RunnableWithMessageHistory\n",
    "from langchain_community.chat_message_histories import RedisChatMessageHistory\n",
    "from langchain_core.prompts import ChatPromptTemplate, MessagesPlaceholder\n",
    "from langchain_core.tools.structured import StructuredTool\n",
    "from langchain.agents import AgentExecutor, create_tool_calling_agent\n",
    "from langchain_core.prompts import ChatPromptTemplate\n",
    "from langchain_core.runnables.history import RunnableWithMessageHistory\n",
    "from langchain_core.tools import tool\n",
    "\n",
    "import sys\n",
    "import os\n",
    "\n",
    "# Add the src directory to the Python path\n",
    "sys.path.append(os.path.abspath(os.path.join('..', 'src')))\n",
    "from InvestingChatBot import InvestingChatBot\n",
    "\n",
    "from langchain.chat_models import init_chat_model"
   ]
  },
  {
   "cell_type": "code",
   "execution_count": 2,
   "metadata": {},
   "outputs": [],
   "source": [
    "REDIS_URL = \"redis://localhost:6379/0\""
   ]
  },
  {
   "cell_type": "code",
   "execution_count": 3,
   "metadata": {},
   "outputs": [
    {
     "data": {
      "text/plain": [
       "True"
      ]
     },
     "execution_count": 3,
     "metadata": {},
     "output_type": "execute_result"
    }
   ],
   "source": [
    "load_dotenv()"
   ]
  },
  {
   "cell_type": "code",
   "execution_count": 4,
   "metadata": {},
   "outputs": [],
   "source": [
    "def prompt_llm_tools(llm, tools: list, query: str):\n",
    "    '''\n",
    "    Prompts an LLM given a list of tools and a query\n",
    "    '''\n",
    "    llm_with_tools = llm.bind_tools(tools)\n",
    "    messages = [HumanMessage(query)]\n",
    "    ai_msg = llm_with_tools.invoke(query)\n",
    "\n",
    "    messages.append(ai_msg)\n",
    "    d = {tool.name: tool for tool in tools}\n",
    "\n",
    "    for tool_call in ai_msg.tool_calls:\n",
    "        selected_tool = d[tool_call[\"name\"].lower()]\n",
    "        tool_msg = selected_tool.invoke(tool_call)\n",
    "        messages.append(tool_msg)\n",
    "\n",
    "    response = llm_with_tools.invoke(messages)\n",
    "    return response"
   ]
  },
  {
   "cell_type": "code",
   "execution_count": 5,
   "metadata": {},
   "outputs": [
    {
     "data": {
      "text/plain": [
       "AIMessage(content='The current weather in Singapore is mostly cloudy with scattered thunderstorms and a high of 87F (30C) and a low of 77F (25C). There is a 70% chance of rain.', additional_kwargs={}, response_metadata={'token_usage': {'completion_tokens': 45, 'prompt_tokens': 1108, 'total_tokens': 1153, 'completion_time': 0.163636364, 'prompt_time': 0.04398784, 'queue_time': 0.26532203, 'total_time': 0.207624204}, 'model_name': 'llama-3.3-70b-versatile', 'system_fingerprint': 'fp_6507bcfb6f', 'finish_reason': 'stop', 'logprobs': None}, id='run-b42f04f6-50bb-434a-b383-5f3e23e5ad00-0', usage_metadata={'input_tokens': 1108, 'output_tokens': 45, 'total_tokens': 1153})"
      ]
     },
     "execution_count": 5,
     "metadata": {},
     "output_type": "execute_result"
    }
   ],
   "source": [
    "# example usage with the Google Search API\n",
    "# Define the search function\n",
    "def topk_results(query):\n",
    "    search = GoogleSearchAPIWrapper(k=10)  \n",
    "    return search.results(query, 10)\n",
    "\n",
    "# Create the tool\n",
    "search_tool = Tool(\n",
    "    name=\"google_search\",\n",
    "    description=\"Search Google for recent results.\",\n",
    "    func=topk_results,\n",
    ")\n",
    "\n",
    "# Initialize LLM from Groq\n",
    "llm = ChatGroq(\n",
    "    temperature=0,\n",
    "    model='llama-3.3-70b-versatile'\n",
    ")\n",
    "\n",
    "tools = [search_tool]\n",
    "prompt_llm_tools(llm, tools, \"What is the weather today in Singapore?\")"
   ]
  },
  {
   "cell_type": "code",
   "execution_count": 6,
   "metadata": {},
   "outputs": [],
   "source": [
    "# TODO: add more tools for calculations and integrate with LLM\n",
    "# TODO: update the class file for the LLM to include the tools and agent?\n",
    "# NOTE: agent is not needed maybe, can just use RAG or something like that, then we just scrape the web for financial data and put into vector store\n",
    "# TODO: any way to do fundamental analysis on the stock we are interested in?"
   ]
  },
  {
   "cell_type": "markdown",
   "metadata": {},
   "source": [
    "## Building the agent with the tools"
   ]
  },
  {
   "cell_type": "code",
   "execution_count": 7,
   "metadata": {},
   "outputs": [],
   "source": [
    "# define the tools for the LLM\n",
    "@tool\n",
    "def magic_function(a: int, b: int) -> int:\n",
    "    \"\"\"Applies a magic function to an input.\"\"\"\n",
    "    return a + b * 10\n",
    "\n",
    "@tool\n",
    "def get_prices(symbol: str, date: str):\n",
    "    '''\n",
    "    Gets the prices of a stock symbol\n",
    "\n",
    "    Args:\n",
    "        symbol (str): The stock symbol\n",
    "        date (str): The date of the stock price in ISO format\n",
    "\n",
    "    Returns:\n",
    "        float: The stock price given a particular day\n",
    "    '''\n",
    "    av = AlphaVantageAPIWrapper()\n",
    "    prices = av._get_time_series_daily(symbol)\n",
    "    prices = prices['Time Series (Daily)']\n",
    "    return prices[date]['4. close']\n",
    "\n",
    "@tool\n",
    "def get_news_sentiment(symbol: str):\n",
    "    '''\n",
    "    Gets the sentiment of news articles for a stock symbol\n",
    "\n",
    "    Args:\n",
    "        symbol (str): The stock symbol\n",
    "\n",
    "    Returns:\n",
    "        float: The sentiment of news articles\n",
    "    '''\n",
    "    av = AlphaVantageAPIWrapper()\n",
    "    news = av._get_market_news_sentiment(symbol)\n",
    "    return news\n",
    "\n",
    "@tool\n",
    "def calculate_graham_number(earnings_per_share: float, book_value_per_share: float):\n",
    "    '''\n",
    "    Calculates the Graham Number\n",
    "\n",
    "    Args:\n",
    "        earnings_per_share (float): The earnings per share of the stock\n",
    "        book_value_per_share (float): The book value per share of the stock\n",
    "\n",
    "    Returns:\n",
    "        float: The Graham Number\n",
    "    '''\n",
    "    return (22.5 * earnings_per_share * book_value_per_share) ** 0.5\n",
    "\n",
    "@tool\n",
    "def calculate_roe(net_income: float, shareholders_equity: float):\n",
    "    '''\n",
    "    Calculates the Return on Equity\n",
    "\n",
    "    Args:\n",
    "        net_income (float): The net income of the company\n",
    "        shareholders_equity (float): The shareholders equity of the company\n",
    "\n",
    "    Returns:\n",
    "        float: The Return on Equity\n",
    "    '''\n",
    "    return net_income / shareholders_equity"
   ]
  },
  {
   "cell_type": "code",
   "execution_count": 8,
   "metadata": {},
   "outputs": [
    {
     "name": "stdout",
     "output_type": "stream",
     "text": [
      "The ROE of the stock is 1000.0. This means that for every dollar of shareholders' equity, the company generated $1000 in net income.\n",
      "---\n",
      "Your name is Jia Hao. The ROE of the stock is 1000.0. This means that for every dollar of shareholders' equity, the company generated $1000 in net income.\n",
      "---\n",
      "The ROE of the stock is 1000.0. This means that for every dollar of shareholders' equity, the company generated $1000 in net income.\n"
     ]
    }
   ],
   "source": [
    "def get_message_history(session_id: str) -> RedisChatMessageHistory:\n",
    "    return RedisChatMessageHistory(session_id, url=REDIS_URL)\n",
    "\n",
    "model = ChatGroq(\n",
    "    temperature=0,\n",
    "    model='llama-3.3-70b-versatile'\n",
    ")\n",
    "memory = RedisChatMessageHistory(session_id=\"foobar\", url=REDIS_URL)\n",
    "\n",
    "# Define the system prompt\n",
    "system_prompt = \"\"\"\n",
    "You are an investing professional, specializing in stock-picking. You follow Warren Buffett's stock-picking style and strategies.\n",
    "Answer the user's questions on investing in detail.\n",
    "You may also be asked to perform fundamental analysis on a stock.\n",
    "\n",
    "Given a chat history and the latest user question which might reference context in the chat history, answer the question\n",
    "to the best of your ability. If you do not know the answer, just return \"I don't know\".\n",
    "\"\"\"\n",
    "\n",
    "prompt = ChatPromptTemplate.from_messages(\n",
    "    [\n",
    "        (\"system\", system_prompt),\n",
    "        # First put the history\n",
    "        (\"placeholder\", \"{chat_history}\"),\n",
    "        # Then the new input\n",
    "        (\"human\", \"{input}\"),\n",
    "        # Finally the scratchpad\n",
    "        (\"placeholder\", \"{agent_scratchpad}\"),\n",
    "    ]\n",
    ")\n",
    "# dont use now since we hit the api limit for AlphaVantage\n",
    "# tools = [magic_function, get_prices, get_news_sentiment]\n",
    "tools = [calculate_graham_number, calculate_roe]\n",
    "\n",
    "\n",
    "agent = create_tool_calling_agent(model, tools, prompt)\n",
    "agent_executor = AgentExecutor(agent=agent, tools=tools)\n",
    "\n",
    "agent_with_chat_history = RunnableWithMessageHistory(\n",
    "    agent_executor,\n",
    "    get_message_history,\n",
    "    input_messages_key=\"input\",\n",
    "    history_messages_key=\"chat_history\",\n",
    ")\n",
    "\n",
    "config = {\"configurable\": {\"session_id\": \"foobar\"}}\n",
    "print(\n",
    "    agent_with_chat_history.invoke(\n",
    "        {\"input\": \"Hi, I'm Jia Hao! What's the ROE of a stock with net income of 1000 and shareholders equity of 1?\"}, config\n",
    "    )[\"output\"]\n",
    ")\n",
    "print(\"---\")\n",
    "print(agent_with_chat_history.invoke({\"input\": \"Remember my name?\"}, config)[\"output\"])\n",
    "print(\"---\")\n",
    "print(\n",
    "    agent_with_chat_history.invoke({\"input\": \"what was that output again?\"}, config)[\n",
    "        \"output\"\n",
    "    ]\n",
    ")"
   ]
  },
  {
   "cell_type": "code",
   "execution_count": 9,
   "metadata": {},
   "outputs": [],
   "source": [
    "history = get_message_history(\"foobar\")\n",
    "history.clear()"
   ]
  },
  {
   "cell_type": "code",
   "execution_count": 10,
   "metadata": {},
   "outputs": [],
   "source": [
    "# example usage\n",
    "model = ChatGroq(\n",
    "    temperature=0,\n",
    "    model='llama-3.3-70b-versatile'\n",
    ")\n",
    "\n",
    "tools = [calculate_graham_number, calculate_roe]\n",
    "\n",
    "session_id = \"foobar\""
   ]
  },
  {
   "cell_type": "code",
   "execution_count": 11,
   "metadata": {},
   "outputs": [],
   "source": [
    "bot = InvestingChatBot(\n",
    "    'llama-3.3-70b-versatile',\n",
    "    0,\n",
    "    tools,\n",
    "    session_id\n",
    ")"
   ]
  },
  {
   "cell_type": "code",
   "execution_count": 12,
   "metadata": {},
   "outputs": [],
   "source": [
    "bot.clear_history()"
   ]
  },
  {
   "cell_type": "code",
   "execution_count": 14,
   "metadata": {},
   "outputs": [
    {
     "data": {
      "text/plain": [
       "\"The Return on Equity (ROE) of the stock is 1000.0. This means that for every dollar of shareholders' equity, the company generated $1000 in net income.\""
      ]
     },
     "execution_count": 14,
     "metadata": {},
     "output_type": "execute_result"
    }
   ],
   "source": [
    "bot.prompt(\"Hi, I'm Jia Hao! What's the ROE of a stock with net income of 1000 and shareholders equity of 1?\")"
   ]
  },
  {
   "cell_type": "code",
   "execution_count": 15,
   "metadata": {},
   "outputs": [
    {
     "data": {
      "text/plain": [
       "\"Your name is Jia Hao. I remember you asked about the ROE of a stock with a net income of 1000 and shareholders' equity of 1. The ROE is 1000.0.\""
      ]
     },
     "execution_count": 15,
     "metadata": {},
     "output_type": "execute_result"
    }
   ],
   "source": [
    "bot.prompt(\"Remember my name?\")"
   ]
  }
 ],
 "metadata": {
  "kernelspec": {
   "display_name": ".venv",
   "language": "python",
   "name": "python3"
  },
  "language_info": {
   "codemirror_mode": {
    "name": "ipython",
    "version": 3
   },
   "file_extension": ".py",
   "mimetype": "text/x-python",
   "name": "python",
   "nbconvert_exporter": "python",
   "pygments_lexer": "ipython3",
   "version": "3.12.1"
  }
 },
 "nbformat": 4,
 "nbformat_minor": 2
}
