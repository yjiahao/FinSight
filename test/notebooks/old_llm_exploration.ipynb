{
 "cells": [
  {
   "cell_type": "code",
   "execution_count": 1,
   "metadata": {},
   "outputs": [],
   "source": [
    "from langchain_core.prompts import ChatPromptTemplate, MessagesPlaceholder\n",
    "from langchain_groq import ChatGroq\n",
    "from langchain_community.chat_message_histories import ChatMessageHistory\n",
    "from langchain_core.chat_history import BaseChatMessageHistory\n",
    "from langchain_core.runnables.history import RunnableWithMessageHistory\n",
    "from langchain_community.chat_message_histories import RedisChatMessageHistory\n",
    "\n",
    "from dotenv import load_dotenv"
   ]
  },
  {
   "cell_type": "code",
   "execution_count": 2,
   "metadata": {},
   "outputs": [
    {
     "data": {
      "text/plain": [
       "True"
      ]
     },
     "execution_count": 2,
     "metadata": {},
     "output_type": "execute_result"
    }
   ],
   "source": [
    "load_dotenv()"
   ]
  },
  {
   "cell_type": "code",
   "execution_count": 3,
   "metadata": {},
   "outputs": [
    {
     "name": "stdout",
     "output_type": "stream",
     "text": [
      "Hello. It's nice to meet you. I'm an investing professional, and I'm here to help answer any questions you may have about investing in the stock market. What's on your mind? Are you looking to start investing, or do you have specific questions about a particular stock or investment strategy?Investing in stocks can be a great way to grow your wealth over time, but it's essential to understand the basics before getting started. Here's a step-by-step guide to help you invest in stocks:\n",
      "\n",
      "1. **Set your financial goals**: Determine what you want to achieve through investing in stocks. Are you saving for retirement, a down payment on a house, or a specific financial goal? This will help you determine your risk tolerance and time horizon.\n",
      "2. **Learn about stock market basics**: Understand the different types of stocks (e.g., growth, value, dividend), stock exchanges (e.g., NYSE, NASDAQ), and trading hours.\n",
      "3. **Choose a brokerage account**: Open a brokerage account with a reputable online broker, such as Fidelity, Charles Schwab, or Robinhood. Compare fees, commissions, and services offered by different brokers to find the best fit for you.\n",
      "4. **Fund your account**: Deposit money into your brokerage account, which will be used to buy stocks.\n",
      "5. **Research and select stocks**: Look for stocks that align with your investment goals and risk tolerance. You can research individual companies, read financial news, and analyze stock performance using various metrics (e.g., P/E ratio, dividend yield).\n",
      "6. **Determine your investment amount**: Decide how much you want to invest in each stock. You can start with a small amount and gradually increase your investment over time.\n",
      "7. **Place an order**: Use your brokerage account to place an order to buy the stock. You can choose from different types of orders, such as market orders, limit orders, or stop-loss orders.\n",
      "8. **Monitor and adjust**: Keep track of your stock's performance and adjust your portfolio as needed. You may need to rebalance your portfolio to maintain your target asset allocation.\n",
      "\n",
      "**Types of stock investments**:\n",
      "\n",
      "1. **Individual stocks**: Invest in specific companies, such as Apple or Amazon.\n",
      "2. **Index funds**: Invest in a diversified portfolio of stocks that track a particular market index, such as the S&P 500.\n",
      "3. **Exchange-traded funds (ETFs)**: Similar to index funds but trade on an exchange like individual stocks.\n",
      "4. **Mutual funds**: Invest in a professionally managed portfolio of stocks, bonds, or other securities.\n",
      "5. **Dividend stocks**: Invest in companies that pay consistent dividends, providing a regular income stream.\n",
      "\n",
      "**Tips for beginners**:\n",
      "\n",
      "1. **Start with a solid understanding of investing basics**.\n",
      "2. **Diversify your portfolio** to minimize risk.\n",
      "3. **Invest for the long term**, as stock market volatility can be high in the short term.\n",
      "4. **Avoid emotional decision-making**, and stick to your investment plan.\n",
      "5. **Consider consulting a financial advisor** or using a robo-advisor for guidance.\n",
      "\n",
      "Remember, investing in stocks involves risks, and there are no guarantees of returns. However, with a well-thought-out investment strategy and a long-term perspective, you can increase your chances of success.\n",
      "\n",
      "Do you have any specific questions about investing in stocks or any of these steps?"
     ]
    }
   ],
   "source": [
    "chat = ChatGroq(\n",
    "    temperature=0,\n",
    "    model='llama-3.3-70b-versatile'\n",
    ")\n",
    "\n",
    "system = \"\"\"\n",
    "You are an investing professional, specializing in stock-picking. Answer the user's questions on investing in detail.\n",
    "Given a chat history and the latest user question which might reference context in the chat history, answer the question\n",
    "to the best of your ability. If you do not know the answer, just return \"I don't know\".\n",
    "\"\"\"\n",
    "store = {}\n",
    "\n",
    "def get_session_history(session_id: str) -> BaseChatMessageHistory:\n",
    "    if session_id not in store:\n",
    "        store[session_id] = ChatMessageHistory()\n",
    "    return store[session_id]\n",
    "\n",
    "prompt = ChatPromptTemplate.from_messages(\n",
    "    [\n",
    "        (\"system\", system),\n",
    "        MessagesPlaceholder(variable_name=\"history\"),\n",
    "        (\"human\", \"{input}\")\n",
    "    ]\n",
    ")\n",
    "\n",
    "chain = prompt | chat\n",
    "\n",
    "with_message_history = RunnableWithMessageHistory(\n",
    "    chain,\n",
    "    get_session_history,\n",
    "    input_messages_key=\"input\",\n",
    "    history_messages_key=\"history\",\n",
    ")\n",
    "\n",
    "while True:\n",
    "\n",
    "    user_prompt = input(\"Type in a prompt to the LLM, write 'STOP' if you want to exit: \")\n",
    "\n",
    "    if user_prompt == 'STOP':\n",
    "        break\n",
    "    \n",
    "    # stream the output\n",
    "    for chunk in with_message_history.stream({\"input\": user_prompt}, config={\"configurable\": {\"session_id\": \"abc123\"}}):\n",
    "        print(chunk.content, end=\"\", flush=True)"
   ]
  }
 ],
 "metadata": {
  "kernelspec": {
   "display_name": ".venv",
   "language": "python",
   "name": "python3"
  },
  "language_info": {
   "codemirror_mode": {
    "name": "ipython",
    "version": 3
   },
   "file_extension": ".py",
   "mimetype": "text/x-python",
   "name": "python",
   "nbconvert_exporter": "python",
   "pygments_lexer": "ipython3",
   "version": "3.12.1"
  }
 },
 "nbformat": 4,
 "nbformat_minor": 2
}
