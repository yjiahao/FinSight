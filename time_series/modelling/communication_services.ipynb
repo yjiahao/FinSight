{
 "cells": [
  {
   "cell_type": "markdown",
   "id": "a132de14",
   "metadata": {},
   "source": [
    "## Model training and tuning for the energy sector"
   ]
  },
  {
   "cell_type": "code",
   "execution_count": 1,
   "id": "d74fe196",
   "metadata": {},
   "outputs": [
    {
     "name": "stderr",
     "output_type": "stream",
     "text": [
      "Importing plotly failed. Interactive plots will not work.\n",
      "d:\\investing-bot\\.venv\\Lib\\site-packages\\fs\\__init__.py:4: UserWarning: pkg_resources is deprecated as an API. See https://setuptools.pypa.io/en/latest/pkg_resources.html. The pkg_resources package is slated for removal as early as 2025-11-30. Refrain from using this package or pin to Setuptools<81.\n",
      "  __import__(\"pkg_resources\").declare_namespace(__name__)  # type: ignore\n"
     ]
    }
   ],
   "source": [
    "import pandas as pd\n",
    "import numpy as np\n",
    "\n",
    "import time\n",
    "\n",
    "from darts import TimeSeries, concatenate\n",
    "from darts.utils.model_selection import train_test_split\n",
    "from darts.models.forecasting.xgboost import XGBModel\n",
    "from darts.dataprocessing.transformers.scaler import Scaler\n",
    "from darts.metrics.metrics import mape, mae\n",
    "from darts.models.forecasting.prophet_model import Prophet\n",
    "from darts.models.forecasting.sf_auto_theta import AutoTheta\n",
    "from darts.models.forecasting.linear_regression_model import LinearRegressionModel\n",
    "from darts.dataprocessing.transformers import StaticCovariatesTransformer\n",
    "from darts.models.forecasting.sf_auto_arima import AutoARIMA\n",
    "from darts.dataprocessing.transformers.boxcox import BoxCox"
   ]
  },
  {
   "cell_type": "code",
   "execution_count": 2,
   "id": "8c7af10f",
   "metadata": {},
   "outputs": [],
   "source": [
    "df = pd.read_csv('../../data/processed/sp500_all_companies_cleaned_with_sector.csv')\n",
    "df['date'] = pd.to_datetime(df['date'])\n",
    "\n",
    "df_communication = df[df['GICS Sector'] == 'Communication Services'].sort_values(by=['ticker', 'date']).reset_index(drop=True)"
   ]
  },
  {
   "cell_type": "code",
   "execution_count": 3,
   "id": "ece8cf77",
   "metadata": {},
   "outputs": [
    {
     "data": {
      "text/plain": [
       "GICS Sector\n",
       "Industrials               193459\n",
       "Financials                190485\n",
       "Information Technology    177149\n",
       "Health Care               151348\n",
       "Consumer Discretionary    130185\n",
       "Consumer Staples           96649\n",
       "Real Estate                79757\n",
       "Utilities                  78786\n",
       "Materials                  63394\n",
       "Energy                     58523\n",
       "Communication Services     58017\n",
       "Name: count, dtype: int64"
      ]
     },
     "execution_count": 3,
     "metadata": {},
     "output_type": "execute_result"
    }
   ],
   "source": [
    "df['GICS Sector'].value_counts()"
   ]
  },
  {
   "cell_type": "code",
   "execution_count": 4,
   "id": "3a82775d",
   "metadata": {},
   "outputs": [
    {
     "data": {
      "text/plain": [
       "array(['CHTR', 'CMCSA', 'DIS', 'EA', 'FOX', 'FOXA', 'GOOG', 'GOOGL',\n",
       "       'IPG', 'LYV', 'META', 'MTCH', 'NFLX', 'NWS', 'NWSA', 'OMC', 'PARA',\n",
       "       'T', 'TKO', 'TMUS', 'TTWO', 'VZ', 'WBD'], dtype=object)"
      ]
     },
     "execution_count": 4,
     "metadata": {},
     "output_type": "execute_result"
    }
   ],
   "source": [
    "df_communication['ticker'].unique()"
   ]
  },
  {
   "cell_type": "code",
   "execution_count": 5,
   "id": "92847a29",
   "metadata": {},
   "outputs": [],
   "source": [
    "data = {}\n",
    "static_covs = pd.DataFrame({'ticker': df_communication['ticker'].unique()})\n",
    "\n",
    "for ticker, group in df_communication.groupby('ticker'):\n",
    "    series = TimeSeries.from_dataframe(\n",
    "        group,\n",
    "        time_col='date',\n",
    "        value_cols=['close', 'high', 'low', 'open', 'volume'],\n",
    "        freq='B',\n",
    "        static_covariates=pd.Series(ticker)\n",
    "    )\n",
    "    data[ticker] = series"
   ]
  },
  {
   "cell_type": "code",
   "execution_count": 6,
   "id": "64b0d57f",
   "metadata": {},
   "outputs": [],
   "source": [
    "# encode each ticker as a static covariate\n",
    "transformer = StaticCovariatesTransformer()\n",
    "ts = [d for d in data.values()]\n",
    "transformer.fit(ts)\n",
    "\n",
    "for ticker, series in data.items():\n",
    "    data[ticker] = transformer.transform(series)"
   ]
  },
  {
   "cell_type": "code",
   "execution_count": 7,
   "id": "8ebc137c",
   "metadata": {},
   "outputs": [],
   "source": [
    "train = {}\n",
    "test = {}\n",
    "\n",
    "for ticker, series in data.items():\n",
    "    train[ticker], test[ticker] = train_test_split(series, test_size=0.1)\n",
    "    last_train = train[ticker][-1:]\n",
    "    test_with_context = last_train.append(test[ticker]) # append last point of train to test as our forecast requires it\n",
    "    test[ticker] = test_with_context"
   ]
  },
  {
   "cell_type": "markdown",
   "id": "2ff40656",
   "metadata": {},
   "source": [
    "## Gradient Boosting"
   ]
  },
  {
   "cell_type": "markdown",
   "id": "ab5a6a61",
   "metadata": {},
   "source": [
    "### Train a local model first"
   ]
  },
  {
   "cell_type": "code",
   "execution_count": 8,
   "id": "630b92e0",
   "metadata": {},
   "outputs": [
    {
     "name": "stdout",
     "output_type": "stream",
     "text": [
      "Training model for CHTR\n",
      "Model for CHTR trained in 0.31 seconds\n",
      "**************************************************\n",
      "Training model for CMCSA\n",
      "Model for CMCSA trained in 0.37 seconds\n",
      "**************************************************\n",
      "Training model for DIS\n",
      "Model for DIS trained in 0.35 seconds\n",
      "**************************************************\n",
      "Training model for EA\n",
      "Model for EA trained in 0.34 seconds\n",
      "**************************************************\n",
      "Training model for FOX\n",
      "Model for FOX trained in 0.29 seconds\n",
      "**************************************************\n",
      "Training model for FOXA\n",
      "Model for FOXA trained in 0.31 seconds\n",
      "**************************************************\n",
      "Training model for GOOG\n",
      "Model for GOOG trained in 0.32 seconds\n",
      "**************************************************\n",
      "Training model for GOOGL\n",
      "Model for GOOGL trained in 0.30 seconds\n",
      "**************************************************\n",
      "Training model for IPG\n",
      "Model for IPG trained in 0.40 seconds\n",
      "**************************************************\n",
      "Training model for LYV\n",
      "Model for LYV trained in 0.36 seconds\n",
      "**************************************************\n",
      "Training model for META\n",
      "Model for META trained in 0.33 seconds\n",
      "**************************************************\n",
      "Training model for MTCH\n",
      "Model for MTCH trained in 0.33 seconds\n",
      "**************************************************\n",
      "Training model for NFLX\n",
      "Model for NFLX trained in 0.36 seconds\n",
      "**************************************************\n",
      "Training model for NWS\n",
      "Model for NWS trained in 0.40 seconds\n",
      "**************************************************\n",
      "Training model for NWSA\n",
      "Model for NWSA trained in 0.33 seconds\n",
      "**************************************************\n",
      "Training model for OMC\n",
      "Model for OMC trained in 0.38 seconds\n",
      "**************************************************\n",
      "Training model for PARA\n",
      "Model for PARA trained in 0.36 seconds\n",
      "**************************************************\n",
      "Training model for T\n",
      "Model for T trained in 0.36 seconds\n",
      "**************************************************\n",
      "Training model for TKO\n",
      "Model for TKO trained in 0.34 seconds\n",
      "**************************************************\n",
      "Training model for TMUS\n",
      "Model for TMUS trained in 0.32 seconds\n",
      "**************************************************\n",
      "Training model for TTWO\n",
      "Model for TTWO trained in 0.35 seconds\n",
      "**************************************************\n",
      "Training model for VZ\n",
      "Model for VZ trained in 0.34 seconds\n",
      "**************************************************\n",
      "Training model for WBD\n",
      "Model for WBD trained in 0.34 seconds\n",
      "**************************************************\n"
     ]
    }
   ],
   "source": [
    "models = {}\n",
    "\n",
    "for ticker in data.keys():\n",
    "    print(f\"Training model for {ticker}\")\n",
    "    start = time.time()\n",
    "    model = XGBModel(\n",
    "        lags=15,\n",
    "        lags_past_covariates=1,\n",
    "        lags_future_covariates=[0],\n",
    "        output_chunk_length=1,\n",
    "        random_state=42,\n",
    "        add_encoders={\n",
    "            'datetime_attribute': {\n",
    "                'future': ['month', 'day', 'dayofweek', 'dayofyear', 'quarter', 'year'] # automatically generate future covariates from time series\n",
    "            }\n",
    "        }\n",
    "    )\n",
    "\n",
    "    model.fit(\n",
    "        train[ticker]['close'],\n",
    "        past_covariates=train[ticker][['high', 'low', 'volume', 'open']],\n",
    "    )\n",
    "\n",
    "    end = time.time()\n",
    "    print(f\"Model for {ticker} trained in {end - start:.2f} seconds\")\n",
    "    print(\"*\" * 50)\n",
    "\n",
    "    models[ticker] = model"
   ]
  },
  {
   "cell_type": "code",
   "execution_count": 9,
   "id": "b9f91c14",
   "metadata": {},
   "outputs": [
    {
     "name": "stdout",
     "output_type": "stream",
     "text": [
      "Ticker: CHTR, MAPE: 5.18, MAE: 18.22\n",
      "**************************************************\n",
      "Ticker: CMCSA, MAPE: 3.25, MAE: 1.25\n",
      "**************************************************\n",
      "Ticker: DIS, MAPE: 4.56, MAE: 4.29\n",
      "**************************************************\n",
      "Ticker: EA, MAPE: 11.27, MAE: 16.71\n",
      "**************************************************\n",
      "Ticker: FOX, MAPE: 21.25, MAE: 10.07\n",
      "**************************************************\n",
      "Ticker: FOXA, MAPE: 17.39, MAE: 8.80\n",
      "**************************************************\n",
      "Ticker: GOOG, MAPE: 8.53, MAE: 15.56\n",
      "**************************************************\n",
      "Ticker: GOOGL, MAPE: 7.91, MAE: 14.37\n",
      "**************************************************\n",
      "Ticker: IPG, MAPE: 2.37, MAE: 0.67\n",
      "**************************************************\n",
      "Ticker: LYV, MAPE: 8.33, MAE: 10.67\n",
      "**************************************************\n",
      "Ticker: META, MAPE: 16.98, MAE: 100.50\n",
      "**************************************************\n",
      "Ticker: MTCH, MAPE: 21.52, MAE: 6.99\n",
      "**************************************************\n",
      "Ticker: NFLX, MAPE: 22.07, MAE: 196.80\n",
      "**************************************************\n",
      "Ticker: NWS, MAPE: 11.72, MAE: 3.55\n",
      "**************************************************\n",
      "Ticker: NWSA, MAPE: 6.39, MAE: 1.78\n",
      "**************************************************\n",
      "Ticker: OMC, MAPE: 6.69, MAE: 6.22\n",
      "**************************************************\n",
      "Ticker: PARA, MAPE: 10.72, MAE: 1.14\n",
      "**************************************************\n",
      "Ticker: T, MAPE: 11.76, MAE: 2.84\n",
      "**************************************************\n",
      "Ticker: TKO, MAPE: 22.43, MAE: 31.45\n",
      "**************************************************\n",
      "Ticker: TMUS, MAPE: 23.91, MAE: 55.34\n",
      "**************************************************\n",
      "Ticker: TTWO, MAPE: 13.89, MAE: 27.50\n",
      "**************************************************\n",
      "Ticker: VZ, MAPE: 1.79, MAE: 0.73\n",
      "**************************************************\n",
      "Ticker: WBD, MAPE: 5.24, MAE: 0.46\n",
      "**************************************************\n"
     ]
    }
   ],
   "source": [
    "mapes = {}\n",
    "maes = {}\n",
    "\n",
    "for ticker in data.keys():\n",
    "    y_test = test[ticker]['close']\n",
    "    y_pred = models[ticker].predict(\n",
    "        n=len(y_test),\n",
    "        past_covariates=test[ticker][['high', 'low', 'volume', 'open']],\n",
    "        show_warnings=False\n",
    "    )\n",
    "    mape_ = mape(y_test, y_pred)\n",
    "    mae_ = mae(y_test, y_pred)\n",
    "    mapes[ticker] = mape_\n",
    "    maes[ticker] = mae_\n",
    "    print(f\"Ticker: {ticker}, MAPE: {mape_:.2f}, MAE: {mae_:.2f}\")\n",
    "    print(\"*\" * 50)"
   ]
  },
  {
   "cell_type": "code",
   "execution_count": 10,
   "id": "225f2cf2",
   "metadata": {},
   "outputs": [
    {
     "data": {
      "text/plain": [
       "(11.528449102259483, 23.301251696859143)"
      ]
     },
     "execution_count": 10,
     "metadata": {},
     "output_type": "execute_result"
    }
   ],
   "source": [
    "np.mean(list(mapes.values())), np.mean(list(maes.values()))"
   ]
  },
  {
   "cell_type": "markdown",
   "id": "cdb475a9",
   "metadata": {},
   "source": [
    "### Global model"
   ]
  },
  {
   "cell_type": "code",
   "execution_count": 11,
   "id": "47343a36",
   "metadata": {},
   "outputs": [
    {
     "name": "stdout",
     "output_type": "stream",
     "text": [
      "Training global model\n",
      "Global model trained in 10.34 seconds\n",
      "**************************************************\n"
     ]
    }
   ],
   "source": [
    "print(f\"Training global model\")\n",
    "start = time.time()\n",
    "model = XGBModel(\n",
    "    lags=15,\n",
    "    lags_past_covariates=1,\n",
    "    lags_future_covariates=[0],\n",
    "    output_chunk_length=1,\n",
    "    random_state=42,\n",
    "    add_encoders={\n",
    "        'datetime_attribute': {\n",
    "            'future': ['month', 'day', 'dayofweek', 'dayofyear', 'quarter', 'year'] # automatically generate future covariates from time series\n",
    "        }\n",
    "    },\n",
    "    use_static_covariates=True,\n",
    "    n_estimators=1000,\n",
    "    eta=0.01,\n",
    "    max_depth=8,\n",
    "    subsample=0.8\n",
    ")\n",
    "\n",
    "model.fit(\n",
    "    [ts['close'] for ts in train.values()],\n",
    "    past_covariates=[ts[['high', 'low', 'volume', 'open']] for ts in train.values()],\n",
    ")\n",
    "\n",
    "end = time.time()\n",
    "print(f\"Global model trained in {end - start:.2f} seconds\")\n",
    "print(\"*\" * 50)"
   ]
  },
  {
   "cell_type": "code",
   "execution_count": 12,
   "id": "e80265b5",
   "metadata": {},
   "outputs": [
    {
     "name": "stdout",
     "output_type": "stream",
     "text": [
      "Global model for CHTR, MAPE: 2.70, MAE: 9.38\n",
      "**************************************************\n",
      "Global model for CMCSA, MAPE: 2.86, MAE: 1.05\n",
      "**************************************************\n",
      "Global model for DIS, MAPE: 3.36, MAE: 3.47\n",
      "**************************************************\n",
      "Global model for EA, MAPE: 2.96, MAE: 4.14\n",
      "**************************************************\n",
      "Global model for FOX, MAPE: 2.53, MAE: 1.15\n",
      "**************************************************\n",
      "Global model for FOXA, MAPE: 2.31, MAE: 1.15\n",
      "**************************************************\n",
      "Global model for GOOG, MAPE: 2.95, MAE: 5.17\n",
      "**************************************************\n",
      "Global model for GOOGL, MAPE: 3.50, MAE: 6.11\n",
      "**************************************************\n",
      "Global model for IPG, MAPE: 4.39, MAE: 1.19\n",
      "**************************************************\n",
      "Global model for LYV, MAPE: 4.06, MAE: 4.88\n",
      "**************************************************\n",
      "Global model for META, MAPE: 8.26, MAE: 50.09\n",
      "**************************************************\n",
      "Global model for MTCH, MAPE: 7.16, MAE: 2.28\n",
      "**************************************************\n",
      "Global model for NFLX, MAPE: 17.77, MAE: 162.15\n",
      "**************************************************\n",
      "Global model for NWS, MAPE: 4.45, MAE: 1.30\n",
      "**************************************************\n",
      "Global model for NWSA, MAPE: 4.34, MAE: 1.18\n",
      "**************************************************\n",
      "Global model for OMC, MAPE: 2.54, MAE: 2.23\n",
      "**************************************************\n",
      "Global model for PARA, MAPE: 5.19, MAE: 0.56\n",
      "**************************************************\n",
      "Global model for T, MAPE: 2.87, MAE: 0.66\n",
      "**************************************************\n",
      "Global model for TKO, MAPE: 2.82, MAE: 3.79\n",
      "**************************************************\n",
      "Global model for TMUS, MAPE: 4.67, MAE: 10.44\n",
      "**************************************************\n",
      "Global model for TTWO, MAPE: 3.50, MAE: 6.33\n",
      "**************************************************\n",
      "Global model for VZ, MAPE: 2.41, MAE: 0.96\n",
      "**************************************************\n",
      "Global model for WBD, MAPE: 11.15, MAE: 0.91\n",
      "**************************************************\n"
     ]
    }
   ],
   "source": [
    "mapes = {}\n",
    "maes = {}\n",
    "\n",
    "for ticker in data.keys():\n",
    "    y_pred = model.predict(\n",
    "        n=len(test[ticker]['close']),\n",
    "        series=train[ticker]['close'],\n",
    "        past_covariates=test[ticker][['high', 'low', 'volume', 'open']],\n",
    "        show_warnings=False\n",
    "    )\n",
    "    y_test = test[ticker]['close']\n",
    "    mape_ = mape(y_test, y_pred)\n",
    "    mae_ = mae(y_test, y_pred)\n",
    "\n",
    "    mapes[ticker] = mape_\n",
    "    maes[ticker] = mae_\n",
    "\n",
    "    print(f\"Global model for {ticker}, MAPE: {mape_:.2f}, MAE: {mae_:.2f}\")\n",
    "    print(\"*\" * 50)"
   ]
  },
  {
   "cell_type": "code",
   "execution_count": 13,
   "id": "954892bf",
   "metadata": {},
   "outputs": [
    {
     "data": {
      "text/plain": [
       "(4.728725208920787, 12.19891751713104)"
      ]
     },
     "execution_count": 13,
     "metadata": {},
     "output_type": "execute_result"
    }
   ],
   "source": [
    "np.mean(list(mapes.values())), np.mean(list(maes.values()))"
   ]
  },
  {
   "cell_type": "markdown",
   "id": "954b34fb",
   "metadata": {},
   "source": [
    "## Prophet model"
   ]
  },
  {
   "cell_type": "code",
   "execution_count": 14,
   "id": "0ca95853",
   "metadata": {},
   "outputs": [
    {
     "name": "stdout",
     "output_type": "stream",
     "text": [
      "Training model for CHTR\n"
     ]
    },
    {
     "name": "stderr",
     "output_type": "stream",
     "text": [
      "22:14:35 - cmdstanpy - INFO - Chain [1] start processing\n",
      "22:14:38 - cmdstanpy - INFO - Chain [1] done processing\n"
     ]
    },
    {
     "name": "stdout",
     "output_type": "stream",
     "text": [
      "Model for CHTR trained in 3.34 seconds\n",
      "**************************************************\n",
      "Training model for CMCSA\n"
     ]
    },
    {
     "name": "stderr",
     "output_type": "stream",
     "text": [
      "22:14:38 - cmdstanpy - INFO - Chain [1] start processing\n",
      "22:14:41 - cmdstanpy - INFO - Chain [1] done processing\n"
     ]
    },
    {
     "name": "stdout",
     "output_type": "stream",
     "text": [
      "Model for CMCSA trained in 3.22 seconds\n",
      "**************************************************\n",
      "Training model for DIS\n"
     ]
    },
    {
     "name": "stderr",
     "output_type": "stream",
     "text": [
      "22:14:42 - cmdstanpy - INFO - Chain [1] start processing\n",
      "22:14:44 - cmdstanpy - INFO - Chain [1] done processing\n"
     ]
    },
    {
     "name": "stdout",
     "output_type": "stream",
     "text": [
      "Model for DIS trained in 3.14 seconds\n",
      "**************************************************\n",
      "Training model for EA\n"
     ]
    },
    {
     "name": "stderr",
     "output_type": "stream",
     "text": [
      "22:14:45 - cmdstanpy - INFO - Chain [1] start processing\n",
      "22:14:47 - cmdstanpy - INFO - Chain [1] done processing\n"
     ]
    },
    {
     "name": "stdout",
     "output_type": "stream",
     "text": [
      "Model for EA trained in 2.79 seconds\n",
      "**************************************************\n",
      "Training model for FOX\n"
     ]
    },
    {
     "name": "stderr",
     "output_type": "stream",
     "text": [
      "22:14:47 - cmdstanpy - INFO - Chain [1] start processing\n",
      "22:14:49 - cmdstanpy - INFO - Chain [1] done processing\n"
     ]
    },
    {
     "name": "stdout",
     "output_type": "stream",
     "text": [
      "Model for FOX trained in 2.05 seconds\n",
      "**************************************************\n",
      "Training model for FOXA\n"
     ]
    },
    {
     "name": "stderr",
     "output_type": "stream",
     "text": [
      "22:14:50 - cmdstanpy - INFO - Chain [1] start processing\n",
      "22:14:51 - cmdstanpy - INFO - Chain [1] done processing\n"
     ]
    },
    {
     "name": "stdout",
     "output_type": "stream",
     "text": [
      "Model for FOXA trained in 1.93 seconds\n",
      "**************************************************\n",
      "Training model for GOOG\n"
     ]
    },
    {
     "name": "stderr",
     "output_type": "stream",
     "text": [
      "22:14:52 - cmdstanpy - INFO - Chain [1] start processing\n",
      "22:14:54 - cmdstanpy - INFO - Chain [1] done processing\n"
     ]
    },
    {
     "name": "stdout",
     "output_type": "stream",
     "text": [
      "Model for GOOG trained in 3.24 seconds\n",
      "**************************************************\n",
      "Training model for GOOGL\n"
     ]
    },
    {
     "name": "stderr",
     "output_type": "stream",
     "text": [
      "22:14:55 - cmdstanpy - INFO - Chain [1] start processing\n",
      "22:14:57 - cmdstanpy - INFO - Chain [1] done processing\n"
     ]
    },
    {
     "name": "stdout",
     "output_type": "stream",
     "text": [
      "Model for GOOGL trained in 2.61 seconds\n",
      "**************************************************\n",
      "Training model for IPG\n"
     ]
    },
    {
     "name": "stderr",
     "output_type": "stream",
     "text": [
      "22:14:57 - cmdstanpy - INFO - Chain [1] start processing\n",
      "22:15:00 - cmdstanpy - INFO - Chain [1] done processing\n"
     ]
    },
    {
     "name": "stdout",
     "output_type": "stream",
     "text": [
      "Model for IPG trained in 3.08 seconds\n",
      "**************************************************\n",
      "Training model for LYV\n"
     ]
    },
    {
     "name": "stderr",
     "output_type": "stream",
     "text": [
      "22:15:00 - cmdstanpy - INFO - Chain [1] start processing\n",
      "22:15:03 - cmdstanpy - INFO - Chain [1] done processing\n"
     ]
    },
    {
     "name": "stdout",
     "output_type": "stream",
     "text": [
      "Model for LYV trained in 2.79 seconds\n",
      "**************************************************\n",
      "Training model for META\n"
     ]
    },
    {
     "name": "stderr",
     "output_type": "stream",
     "text": [
      "22:15:03 - cmdstanpy - INFO - Chain [1] start processing\n",
      "22:15:06 - cmdstanpy - INFO - Chain [1] done processing\n"
     ]
    },
    {
     "name": "stdout",
     "output_type": "stream",
     "text": [
      "Model for META trained in 2.74 seconds\n",
      "**************************************************\n",
      "Training model for MTCH\n"
     ]
    },
    {
     "name": "stderr",
     "output_type": "stream",
     "text": [
      "22:15:06 - cmdstanpy - INFO - Chain [1] start processing\n",
      "22:15:09 - cmdstanpy - INFO - Chain [1] done processing\n"
     ]
    },
    {
     "name": "stdout",
     "output_type": "stream",
     "text": [
      "Model for MTCH trained in 2.99 seconds\n",
      "**************************************************\n",
      "Training model for NFLX\n"
     ]
    },
    {
     "name": "stderr",
     "output_type": "stream",
     "text": [
      "22:15:09 - cmdstanpy - INFO - Chain [1] start processing\n",
      "22:15:12 - cmdstanpy - INFO - Chain [1] done processing\n"
     ]
    },
    {
     "name": "stdout",
     "output_type": "stream",
     "text": [
      "Model for NFLX trained in 3.05 seconds\n",
      "**************************************************\n",
      "Training model for NWS\n"
     ]
    },
    {
     "name": "stderr",
     "output_type": "stream",
     "text": [
      "22:15:12 - cmdstanpy - INFO - Chain [1] start processing\n",
      "22:15:15 - cmdstanpy - INFO - Chain [1] done processing\n"
     ]
    },
    {
     "name": "stdout",
     "output_type": "stream",
     "text": [
      "Model for NWS trained in 3.22 seconds\n",
      "**************************************************\n",
      "Training model for NWSA\n"
     ]
    },
    {
     "name": "stderr",
     "output_type": "stream",
     "text": [
      "22:15:15 - cmdstanpy - INFO - Chain [1] start processing\n",
      "22:15:18 - cmdstanpy - INFO - Chain [1] done processing\n"
     ]
    },
    {
     "name": "stdout",
     "output_type": "stream",
     "text": [
      "Model for NWSA trained in 3.08 seconds\n",
      "**************************************************\n",
      "Training model for OMC\n"
     ]
    },
    {
     "name": "stderr",
     "output_type": "stream",
     "text": [
      "22:15:18 - cmdstanpy - INFO - Chain [1] start processing\n",
      "22:15:21 - cmdstanpy - INFO - Chain [1] done processing\n"
     ]
    },
    {
     "name": "stdout",
     "output_type": "stream",
     "text": [
      "Model for OMC trained in 3.23 seconds\n",
      "**************************************************\n",
      "Training model for PARA\n"
     ]
    },
    {
     "name": "stderr",
     "output_type": "stream",
     "text": [
      "22:15:22 - cmdstanpy - INFO - Chain [1] start processing\n",
      "22:15:24 - cmdstanpy - INFO - Chain [1] done processing\n"
     ]
    },
    {
     "name": "stdout",
     "output_type": "stream",
     "text": [
      "Model for PARA trained in 2.97 seconds\n",
      "**************************************************\n",
      "Training model for T\n"
     ]
    },
    {
     "name": "stderr",
     "output_type": "stream",
     "text": [
      "22:15:25 - cmdstanpy - INFO - Chain [1] start processing\n",
      "22:15:27 - cmdstanpy - INFO - Chain [1] done processing\n"
     ]
    },
    {
     "name": "stdout",
     "output_type": "stream",
     "text": [
      "Model for T trained in 3.14 seconds\n",
      "**************************************************\n",
      "Training model for TKO\n"
     ]
    },
    {
     "name": "stderr",
     "output_type": "stream",
     "text": [
      "22:15:28 - cmdstanpy - INFO - Chain [1] start processing\n",
      "22:15:31 - cmdstanpy - INFO - Chain [1] done processing\n"
     ]
    },
    {
     "name": "stdout",
     "output_type": "stream",
     "text": [
      "Model for TKO trained in 3.29 seconds\n",
      "**************************************************\n",
      "Training model for TMUS\n"
     ]
    },
    {
     "name": "stderr",
     "output_type": "stream",
     "text": [
      "22:15:31 - cmdstanpy - INFO - Chain [1] start processing\n",
      "22:15:34 - cmdstanpy - INFO - Chain [1] done processing\n"
     ]
    },
    {
     "name": "stdout",
     "output_type": "stream",
     "text": [
      "Model for TMUS trained in 2.86 seconds\n",
      "**************************************************\n",
      "Training model for TTWO\n"
     ]
    },
    {
     "name": "stderr",
     "output_type": "stream",
     "text": [
      "22:15:34 - cmdstanpy - INFO - Chain [1] start processing\n",
      "22:15:37 - cmdstanpy - INFO - Chain [1] done processing\n"
     ]
    },
    {
     "name": "stdout",
     "output_type": "stream",
     "text": [
      "Model for TTWO trained in 3.17 seconds\n",
      "**************************************************\n",
      "Training model for VZ\n"
     ]
    },
    {
     "name": "stderr",
     "output_type": "stream",
     "text": [
      "22:15:37 - cmdstanpy - INFO - Chain [1] start processing\n",
      "22:15:39 - cmdstanpy - INFO - Chain [1] done processing\n"
     ]
    },
    {
     "name": "stdout",
     "output_type": "stream",
     "text": [
      "Model for VZ trained in 2.20 seconds\n",
      "**************************************************\n",
      "Training model for WBD\n"
     ]
    },
    {
     "name": "stderr",
     "output_type": "stream",
     "text": [
      "22:15:39 - cmdstanpy - INFO - Chain [1] start processing\n",
      "22:15:42 - cmdstanpy - INFO - Chain [1] done processing\n"
     ]
    },
    {
     "name": "stdout",
     "output_type": "stream",
     "text": [
      "Model for WBD trained in 2.75 seconds\n",
      "**************************************************\n"
     ]
    }
   ],
   "source": [
    "models_prophet = {}\n",
    "\n",
    "for ticker in data.keys():\n",
    "    print(f\"Training model for {ticker}\")\n",
    "    start = time.time()\n",
    "    model = Prophet(\n",
    "        add_encoders={\n",
    "            'datetime_attribute': {\n",
    "                'future': ['month', 'day', 'dayofweek', 'dayofyear', 'quarter', 'year']  # automatically generate future covariates from time series\n",
    "            }\n",
    "        },\n",
    "        seasonality_mode='multiplicative',\n",
    "    )\n",
    "\n",
    "    model.fit(\n",
    "        train[ticker]['close']\n",
    "    )\n",
    "\n",
    "    end = time.time()\n",
    "    print(f\"Model for {ticker} trained in {end - start:.2f} seconds\")\n",
    "    print(\"*\" * 50)\n",
    "\n",
    "    models_prophet[ticker] = model"
   ]
  },
  {
   "cell_type": "code",
   "execution_count": 15,
   "id": "2ff81861",
   "metadata": {},
   "outputs": [
    {
     "name": "stdout",
     "output_type": "stream",
     "text": [
      "Ticker: CHTR, MAPE: 19.13, MAE: 66.45\n",
      "**************************************************\n",
      "Ticker: CMCSA, MAPE: 18.90, MAE: 6.96\n",
      "**************************************************\n",
      "Ticker: DIS, MAPE: 11.93, MAE: 12.41\n",
      "**************************************************\n",
      "Ticker: EA, MAPE: 6.08, MAE: 8.87\n",
      "**************************************************\n",
      "Ticker: FOX, MAPE: 29.66, MAE: 13.88\n",
      "**************************************************\n",
      "Ticker: FOXA, MAPE: 28.44, MAE: 14.18\n",
      "**************************************************\n",
      "Ticker: GOOG, MAPE: 8.72, MAE: 15.13\n",
      "**************************************************\n",
      "Ticker: GOOGL, MAPE: 8.91, MAE: 15.33\n",
      "**************************************************\n",
      "Ticker: IPG, MAPE: 49.38, MAE: 13.89\n",
      "**************************************************\n",
      "Ticker: LYV, MAPE: 17.00, MAE: 21.60\n",
      "**************************************************\n",
      "Ticker: META, MAPE: 9.00, MAE: 49.77\n",
      "**************************************************\n",
      "Ticker: MTCH, MAPE: 23.76, MAE: 7.81\n",
      "**************************************************\n",
      "Ticker: NFLX, MAPE: 14.00, MAE: 122.24\n",
      "**************************************************\n",
      "Ticker: NWS, MAPE: 5.07, MAE: 1.49\n",
      "**************************************************\n",
      "Ticker: NWSA, MAPE: 6.60, MAE: 1.79\n",
      "**************************************************\n",
      "Ticker: OMC, MAPE: 32.99, MAE: 30.30\n",
      "**************************************************\n",
      "Ticker: PARA, MAPE: 35.21, MAE: 3.85\n",
      "**************************************************\n",
      "Ticker: T, MAPE: 37.63, MAE: 8.44\n",
      "**************************************************\n",
      "Ticker: TKO, MAPE: 56.79, MAE: 78.30\n",
      "**************************************************\n",
      "Ticker: TMUS, MAPE: 26.55, MAE: 60.04\n",
      "**************************************************\n",
      "Ticker: TTWO, MAPE: 11.85, MAE: 20.22\n",
      "**************************************************\n",
      "Ticker: VZ, MAPE: 20.52, MAE: 8.36\n",
      "**************************************************\n",
      "Ticker: WBD, MAPE: 21.45, MAE: 2.03\n",
      "**************************************************\n"
     ]
    }
   ],
   "source": [
    "mapes_prophet = {}\n",
    "maes_prophet = {}\n",
    "\n",
    "for ticker in data.keys():\n",
    "    y_test = test[ticker]['close']\n",
    "    y_pred = models_prophet[ticker].predict(\n",
    "        n=len(y_test),\n",
    "        show_warnings=False\n",
    "    )\n",
    "    mape_ = mape(y_test, y_pred)\n",
    "    mae_ = mae(y_test, y_pred)\n",
    "    mapes_prophet[ticker] = mape_\n",
    "    maes_prophet[ticker] = mae_\n",
    "    print(f\"Ticker: {ticker}, MAPE: {mape_:.2f}, MAE: {mae_:.2f}\")\n",
    "    print(\"*\" * 50)"
   ]
  },
  {
   "cell_type": "code",
   "execution_count": 16,
   "id": "1f4600c3",
   "metadata": {},
   "outputs": [
    {
     "data": {
      "text/plain": [
       "(21.720190647304413, 25.362521014161793)"
      ]
     },
     "execution_count": 16,
     "metadata": {},
     "output_type": "execute_result"
    }
   ],
   "source": [
    "np.mean(list(mapes_prophet.values())), np.mean(list(maes_prophet.values()))"
   ]
  },
  {
   "cell_type": "markdown",
   "id": "5e177a24",
   "metadata": {},
   "source": [
    "## Theta model"
   ]
  },
  {
   "cell_type": "code",
   "execution_count": 17,
   "id": "92b8127c",
   "metadata": {},
   "outputs": [
    {
     "name": "stdout",
     "output_type": "stream",
     "text": [
      "Training model for CHTR\n",
      "Model for CHTR trained in 0.66 seconds\n",
      "**************************************************\n",
      "Training model for CMCSA\n",
      "Model for CMCSA trained in 1.02 seconds\n",
      "**************************************************\n",
      "Training model for DIS\n",
      "Model for DIS trained in 0.68 seconds\n",
      "**************************************************\n",
      "Training model for EA\n",
      "Model for EA trained in 0.73 seconds\n",
      "**************************************************\n",
      "Training model for FOX\n",
      "Model for FOX trained in 0.27 seconds\n",
      "**************************************************\n",
      "Training model for FOXA\n",
      "Model for FOXA trained in 0.27 seconds\n",
      "**************************************************\n",
      "Training model for GOOG\n",
      "Model for GOOG trained in 0.99 seconds\n",
      "**************************************************\n",
      "Training model for GOOGL\n",
      "Model for GOOGL trained in 1.05 seconds\n",
      "**************************************************\n",
      "Training model for IPG\n",
      "Model for IPG trained in 0.57 seconds\n",
      "**************************************************\n",
      "Training model for LYV\n",
      "Model for LYV trained in 0.66 seconds\n",
      "**************************************************\n",
      "Training model for META\n",
      "Model for META trained in 1.00 seconds\n",
      "**************************************************\n",
      "Training model for MTCH\n",
      "Model for MTCH trained in 1.26 seconds\n",
      "**************************************************\n",
      "Training model for NFLX\n",
      "Model for NFLX trained in 1.02 seconds\n",
      "**************************************************\n",
      "Training model for NWS\n",
      "Model for NWS trained in 0.64 seconds\n",
      "**************************************************\n",
      "Training model for NWSA\n",
      "Model for NWSA trained in 0.62 seconds\n",
      "**************************************************\n",
      "Training model for OMC\n",
      "Model for OMC trained in 0.68 seconds\n",
      "**************************************************\n",
      "Training model for PARA\n",
      "Model for PARA trained in 0.56 seconds\n",
      "**************************************************\n",
      "Training model for T\n",
      "Model for T trained in 0.86 seconds\n",
      "**************************************************\n",
      "Training model for TKO\n",
      "Model for TKO trained in 0.86 seconds\n",
      "**************************************************\n",
      "Training model for TMUS\n",
      "Model for TMUS trained in 1.41 seconds\n",
      "**************************************************\n",
      "Training model for TTWO\n",
      "Model for TTWO trained in 0.88 seconds\n",
      "**************************************************\n",
      "Training model for VZ\n",
      "Model for VZ trained in 0.66 seconds\n",
      "**************************************************\n",
      "Training model for WBD\n",
      "Model for WBD trained in 0.62 seconds\n",
      "**************************************************\n"
     ]
    }
   ],
   "source": [
    "models_theta = {}\n",
    "\n",
    "for ticker in data.keys():\n",
    "    print(f\"Training model for {ticker}\")\n",
    "    start = time.time()\n",
    "    model = AutoTheta(\n",
    "        season_length=30\n",
    "    )\n",
    "\n",
    "    model.fit(\n",
    "        series=train[ticker]['close']\n",
    "    )\n",
    "\n",
    "    end = time.time()\n",
    "    print(f\"Model for {ticker} trained in {end - start:.2f} seconds\")\n",
    "    print(\"*\" * 50)\n",
    "\n",
    "    models_theta[ticker] = model"
   ]
  },
  {
   "cell_type": "code",
   "execution_count": 18,
   "id": "d466fb13",
   "metadata": {},
   "outputs": [
    {
     "name": "stdout",
     "output_type": "stream",
     "text": [
      "Ticker: CHTR, MAPE: 20.73, MAE: 73.41\n",
      "**************************************************\n",
      "Ticker: CMCSA, MAPE: 5.59, MAE: 2.12\n",
      "**************************************************\n",
      "Ticker: DIS, MAPE: 13.36, MAE: 12.49\n",
      "**************************************************\n",
      "Ticker: EA, MAPE: 8.75, MAE: 12.90\n",
      "**************************************************\n",
      "Ticker: FOX, MAPE: 17.40, MAE: 8.28\n",
      "**************************************************\n",
      "Ticker: FOXA, MAPE: 16.65, MAE: 8.46\n",
      "**************************************************\n",
      "Ticker: GOOG, MAPE: 6.28, MAE: 11.15\n",
      "**************************************************\n",
      "Ticker: GOOGL, MAPE: 6.38, MAE: 11.23\n",
      "**************************************************\n",
      "Ticker: IPG, MAPE: 7.12, MAE: 1.91\n",
      "**************************************************\n",
      "Ticker: LYV, MAPE: 19.22, MAE: 24.72\n",
      "**************************************************\n",
      "Ticker: META, MAPE: 19.24, MAE: 113.75\n",
      "**************************************************\n",
      "Ticker: MTCH, MAPE: 6.92, MAE: 2.32\n",
      "**************************************************\n",
      "Ticker: NFLX, MAPE: 25.44, MAE: 221.09\n",
      "**************************************************\n",
      "Ticker: NWS, MAPE: 15.00, MAE: 4.53\n",
      "**************************************************\n",
      "Ticker: NWSA, MAPE: 11.25, MAE: 3.11\n",
      "**************************************************\n",
      "Ticker: OMC, MAPE: 8.50, MAE: 7.37\n",
      "**************************************************\n",
      "Ticker: PARA, MAPE: 15.48, MAE: 1.65\n",
      "**************************************************\n",
      "Ticker: T, MAPE: 24.00, MAE: 5.59\n",
      "**************************************************\n",
      "Ticker: TKO, MAPE: 21.75, MAE: 30.15\n",
      "**************************************************\n",
      "Ticker: TMUS, MAPE: 19.65, MAE: 45.74\n",
      "**************************************************\n",
      "Ticker: TTWO, MAPE: 14.94, MAE: 28.62\n",
      "**************************************************\n",
      "Ticker: VZ, MAPE: 8.21, MAE: 3.40\n",
      "**************************************************\n",
      "Ticker: WBD, MAPE: 15.62, MAE: 1.54\n",
      "**************************************************\n"
     ]
    }
   ],
   "source": [
    "mapes_theta = {}\n",
    "maes_theta = {}\n",
    "\n",
    "for ticker in data.keys():\n",
    "    y_test = test[ticker]['close']\n",
    "    y_pred = models_theta[ticker].predict(\n",
    "        n=len(y_test),\n",
    "        show_warnings=False\n",
    "    )\n",
    "    mape_ = mape(y_test, y_pred)\n",
    "    mae_ = mae(y_test, y_pred)\n",
    "    mapes_theta[ticker] = mape_\n",
    "    maes_theta[ticker] = mae_\n",
    "    print(f\"Ticker: {ticker}, MAPE: {mape_:.2f}, MAE: {mae_:.2f}\")\n",
    "    print(\"*\" * 50)"
   ]
  },
  {
   "cell_type": "code",
   "execution_count": 19,
   "id": "25979024",
   "metadata": {},
   "outputs": [
    {
     "data": {
      "text/plain": [
       "(14.238836069726121, 27.631980046268737)"
      ]
     },
     "execution_count": 19,
     "metadata": {},
     "output_type": "execute_result"
    }
   ],
   "source": [
    "np.mean(list(mapes_theta.values())), np.mean(list(maes_theta.values()))"
   ]
  },
  {
   "cell_type": "markdown",
   "id": "d147b846",
   "metadata": {},
   "source": [
    "## Linear Regression"
   ]
  },
  {
   "cell_type": "markdown",
   "id": "6df2f493",
   "metadata": {},
   "source": [
    "### Local model"
   ]
  },
  {
   "cell_type": "code",
   "execution_count": 20,
   "id": "a98d2d26",
   "metadata": {},
   "outputs": [
    {
     "name": "stdout",
     "output_type": "stream",
     "text": [
      "Training model for CHTR\n",
      "Model for CHTR trained in 0.13 seconds\n",
      "**************************************************\n",
      "Training model for CMCSA\n",
      "Model for CMCSA trained in 0.13 seconds\n",
      "**************************************************\n",
      "Training model for DIS\n",
      "Model for DIS trained in 0.12 seconds\n",
      "**************************************************\n",
      "Training model for EA\n",
      "Model for EA trained in 0.12 seconds\n",
      "**************************************************\n",
      "Training model for FOX\n",
      "Model for FOX trained in 0.10 seconds\n",
      "**************************************************\n",
      "Training model for FOXA\n",
      "Model for FOXA trained in 0.09 seconds\n",
      "**************************************************\n",
      "Training model for GOOG\n",
      "Model for GOOG trained in 0.12 seconds\n",
      "**************************************************\n",
      "Training model for GOOGL\n",
      "Model for GOOGL trained in 0.12 seconds\n",
      "**************************************************\n",
      "Training model for IPG\n",
      "Model for IPG trained in 0.12 seconds\n",
      "**************************************************\n",
      "Training model for LYV\n",
      "Model for LYV trained in 0.12 seconds\n",
      "**************************************************\n",
      "Training model for META\n",
      "Model for META trained in 0.13 seconds\n",
      "**************************************************\n",
      "Training model for MTCH\n",
      "Model for MTCH trained in 0.12 seconds\n",
      "**************************************************\n",
      "Training model for NFLX\n",
      "Model for NFLX trained in 0.12 seconds\n",
      "**************************************************\n",
      "Training model for NWS\n",
      "Model for NWS trained in 0.12 seconds\n",
      "**************************************************\n",
      "Training model for NWSA\n",
      "Model for NWSA trained in 0.12 seconds\n",
      "**************************************************\n",
      "Training model for OMC\n",
      "Model for OMC trained in 0.12 seconds\n",
      "**************************************************\n",
      "Training model for PARA\n",
      "Model for PARA trained in 0.12 seconds\n",
      "**************************************************\n",
      "Training model for T\n",
      "Model for T trained in 0.12 seconds\n",
      "**************************************************\n",
      "Training model for TKO\n",
      "Model for TKO trained in 0.12 seconds\n",
      "**************************************************\n",
      "Training model for TMUS\n",
      "Model for TMUS trained in 0.12 seconds\n",
      "**************************************************\n",
      "Training model for TTWO\n",
      "Model for TTWO trained in 0.12 seconds\n",
      "**************************************************\n",
      "Training model for VZ\n",
      "Model for VZ trained in 0.12 seconds\n",
      "**************************************************\n",
      "Training model for WBD\n",
      "Model for WBD trained in 0.13 seconds\n",
      "**************************************************\n"
     ]
    }
   ],
   "source": [
    "models_lr = {}\n",
    "\n",
    "for ticker in data.keys():\n",
    "    print(f\"Training model for {ticker}\")\n",
    "    start = time.time()\n",
    "    model = LinearRegressionModel(\n",
    "        lags=15,\n",
    "        lags_past_covariates=1,\n",
    "        lags_future_covariates=[0],\n",
    "        output_chunk_length=1,\n",
    "        random_state=42,\n",
    "        add_encoders={\n",
    "            'datetime_attribute': {\n",
    "                'future': ['month', 'day', 'dayofweek', 'dayofyear', 'quarter', 'year'] # automatically generate future covariates from time series\n",
    "            }\n",
    "        }\n",
    "    )\n",
    "\n",
    "    model.fit(\n",
    "        train[ticker]['close'],\n",
    "        past_covariates=train[ticker][['high', 'low', 'volume', 'open']],\n",
    "    )\n",
    "\n",
    "    end = time.time()\n",
    "    print(f\"Model for {ticker} trained in {end - start:.2f} seconds\")\n",
    "    print(\"*\" * 50)\n",
    "\n",
    "    models_lr[ticker] = model"
   ]
  },
  {
   "cell_type": "code",
   "execution_count": 21,
   "id": "79a5002a",
   "metadata": {},
   "outputs": [
    {
     "name": "stdout",
     "output_type": "stream",
     "text": [
      "Ticker: CHTR, MAPE: 2.36, MAE: 8.22\n",
      "**************************************************\n",
      "Ticker: CMCSA, MAPE: 3.72, MAE: 1.37\n",
      "**************************************************\n",
      "Ticker: DIS, MAPE: 1870.68, MAE: 1805.00\n",
      "**************************************************\n",
      "Ticker: EA, MAPE: 1.98, MAE: 2.79\n",
      "**************************************************\n",
      "Ticker: FOX, MAPE: 596.26, MAE: 282.68\n",
      "**************************************************\n",
      "Ticker: FOXA, MAPE: 502080.58, MAE: 250106.02\n",
      "**************************************************\n",
      "Ticker: GOOG, MAPE: 2.83, MAE: 4.91\n",
      "**************************************************\n",
      "Ticker: GOOGL, MAPE: 2.78, MAE: 4.77\n",
      "**************************************************\n",
      "Ticker: IPG, MAPE: 3.02, MAE: 0.83\n",
      "**************************************************\n",
      "Ticker: LYV, MAPE: 3.31, MAE: 3.98\n",
      "**************************************************\n",
      "Ticker: META, MAPE: 3.08, MAE: 17.46\n",
      "**************************************************\n",
      "Ticker: MTCH, MAPE: 326.51, MAE: 98.81\n",
      "**************************************************\n",
      "Ticker: NFLX, MAPE: 2.64, MAE: 22.20\n",
      "**************************************************\n",
      "Ticker: NWS, MAPE: 2.97, MAE: 0.89\n",
      "**************************************************\n",
      "Ticker: NWSA, MAPE: 2.57, MAE: 0.70\n",
      "**************************************************\n",
      "Ticker: OMC, MAPE: 30.57, MAE: 25.98\n",
      "**************************************************\n",
      "Ticker: PARA, MAPE: 13.66, MAE: 1.48\n",
      "**************************************************\n",
      "Ticker: T, MAPE: 2.22, MAE: 0.50\n",
      "**************************************************\n",
      "Ticker: TKO, MAPE: 4.09, MAE: 5.52\n",
      "**************************************************\n",
      "Ticker: TMUS, MAPE: 2.19, MAE: 4.88\n",
      "**************************************************\n",
      "Ticker: TTWO, MAPE: 2.93, MAE: 5.32\n",
      "**************************************************\n",
      "Ticker: VZ, MAPE: 2.14, MAE: 0.87\n",
      "**************************************************\n",
      "Ticker: WBD, MAPE: 10.84, MAE: 0.92\n",
      "**************************************************\n"
     ]
    }
   ],
   "source": [
    "mapes_lr = {}\n",
    "maes_lr = {}\n",
    "\n",
    "for ticker in data.keys():\n",
    "    y_test = test[ticker]['close']\n",
    "    y_pred = models_lr[ticker].predict(\n",
    "        n=len(y_test),\n",
    "        past_covariates=test[ticker][['high', 'low', 'volume', 'open']],\n",
    "        show_warnings=False\n",
    "    )\n",
    "    mape_ = mape(y_test, y_pred)\n",
    "    mae_ = mae(y_test, y_pred)\n",
    "    mapes_lr[ticker] = mape_\n",
    "    maes_lr[ticker] = mae_\n",
    "    print(f\"Ticker: {ticker}, MAPE: {mape_:.2f}, MAE: {mae_:.2f}\")\n",
    "    print(\"*\" * 50)"
   ]
  },
  {
   "cell_type": "code",
   "execution_count": 22,
   "id": "1a3fbd8d",
   "metadata": {},
   "outputs": [
    {
     "data": {
      "text/plain": [
       "(21955.389564011555, 10974.178714378988)"
      ]
     },
     "execution_count": 22,
     "metadata": {},
     "output_type": "execute_result"
    }
   ],
   "source": [
    "np.mean(list(mapes_lr.values())), np.mean(list(maes_lr.values()))"
   ]
  },
  {
   "cell_type": "markdown",
   "id": "1f27462f",
   "metadata": {},
   "source": [
    "### Global model"
   ]
  },
  {
   "cell_type": "code",
   "execution_count": 23,
   "id": "3879adfb",
   "metadata": {},
   "outputs": [
    {
     "name": "stdout",
     "output_type": "stream",
     "text": [
      "Training global model\n",
      "Global model trained in 2.76 seconds\n",
      "**************************************************\n"
     ]
    }
   ],
   "source": [
    "print(f\"Training global model\")\n",
    "start = time.time()\n",
    "model = LinearRegressionModel(\n",
    "    lags=15,\n",
    "    lags_past_covariates=1,\n",
    "    lags_future_covariates=[0],\n",
    "    output_chunk_length=1,\n",
    "    random_state=42,\n",
    "    add_encoders={\n",
    "        'datetime_attribute': {\n",
    "            'future': ['month', 'day', 'dayofweek', 'dayofyear', 'quarter', 'year'] # automatically generate future covariates from time series\n",
    "        }\n",
    "    }\n",
    ")\n",
    "\n",
    "model.fit(\n",
    "    [ts['close'] for ts in train.values()],\n",
    "    past_covariates=[ts[['high', 'low', 'volume', 'open']] for ts in train.values()],\n",
    ")\n",
    "\n",
    "end = time.time()\n",
    "print(f\"Global model trained in {end - start:.2f} seconds\")\n",
    "print(\"*\" * 50)"
   ]
  },
  {
   "cell_type": "code",
   "execution_count": 24,
   "id": "545bdc45",
   "metadata": {},
   "outputs": [
    {
     "name": "stdout",
     "output_type": "stream",
     "text": [
      "Global model for CHTR, MAPE: 2.59, MAE: 9.03\n",
      "**************************************************\n",
      "Global model for CMCSA, MAPE: 1.69, MAE: 0.63\n",
      "**************************************************\n",
      "Global model for DIS, MAPE: 2.21, MAE: 2.18\n",
      "**************************************************\n",
      "Global model for EA, MAPE: 1.96, MAE: 2.74\n",
      "**************************************************\n",
      "Global model for FOX, MAPE: 2.17, MAE: 1.00\n",
      "**************************************************\n",
      "Global model for FOXA, MAPE: 2.17, MAE: 1.07\n",
      "**************************************************\n",
      "Global model for GOOG, MAPE: 2.22, MAE: 3.84\n",
      "**************************************************\n",
      "Global model for GOOGL, MAPE: 2.24, MAE: 3.84\n",
      "**************************************************\n",
      "Global model for IPG, MAPE: 1.87, MAE: 0.52\n",
      "**************************************************\n",
      "Global model for LYV, MAPE: 2.56, MAE: 3.01\n",
      "**************************************************\n",
      "Global model for META, MAPE: 2.80, MAE: 15.76\n",
      "**************************************************\n",
      "Global model for MTCH, MAPE: 2.59, MAE: 0.84\n",
      "**************************************************\n",
      "Global model for NFLX, MAPE: 2.69, MAE: 22.52\n",
      "**************************************************\n",
      "Global model for NWS, MAPE: 1.80, MAE: 0.53\n",
      "**************************************************\n",
      "Global model for NWSA, MAPE: 1.72, MAE: 0.46\n",
      "**************************************************\n",
      "Global model for OMC, MAPE: 1.84, MAE: 1.62\n",
      "**************************************************\n",
      "Global model for PARA, MAPE: 2.95, MAE: 0.32\n",
      "**************************************************\n",
      "Global model for T, MAPE: 1.71, MAE: 0.38\n",
      "**************************************************\n",
      "Global model for TKO, MAPE: 2.46, MAE: 3.32\n",
      "**************************************************\n",
      "Global model for TMUS, MAPE: 1.84, MAE: 4.09\n",
      "**************************************************\n",
      "Global model for TTWO, MAPE: 2.16, MAE: 3.87\n",
      "**************************************************\n",
      "Global model for VZ, MAPE: 1.66, MAE: 0.67\n",
      "**************************************************\n",
      "Global model for WBD, MAPE: 4.39, MAE: 0.38\n",
      "**************************************************\n"
     ]
    }
   ],
   "source": [
    "mapes_lr_global = {}\n",
    "maes_lr_global = {}\n",
    "\n",
    "for ticker in data.keys():\n",
    "    y_pred = model.predict(\n",
    "        n=len(test[ticker]['close']),\n",
    "        series=train[ticker]['close'],\n",
    "        past_covariates=test[ticker][['high', 'low', 'volume', 'open']],\n",
    "        show_warnings=False\n",
    "    )\n",
    "    y_test = test[ticker]['close']\n",
    "    mape_ = mape(y_test, y_pred)\n",
    "    mae_ = mae(y_test, y_pred)\n",
    "\n",
    "    mapes_lr_global[ticker] = mape_\n",
    "    maes_lr_global[ticker] = mae_\n",
    "\n",
    "    print(f\"Global model for {ticker}, MAPE: {mape_:.2f}, MAE: {mae_:.2f}\")\n",
    "    print(\"*\" * 50)"
   ]
  },
  {
   "cell_type": "code",
   "execution_count": 25,
   "id": "40364019",
   "metadata": {},
   "outputs": [
    {
     "data": {
      "text/plain": [
       "(2.273185437737936, 3.593161854991359)"
      ]
     },
     "execution_count": 25,
     "metadata": {},
     "output_type": "execute_result"
    }
   ],
   "source": [
    "np.mean(list(mapes_lr_global.values())), np.mean(list(maes_lr_global.values()))"
   ]
  },
  {
   "cell_type": "markdown",
   "id": "aa41ad7a",
   "metadata": {},
   "source": [
    "## ARIMA"
   ]
  },
  {
   "cell_type": "code",
   "execution_count": 26,
   "id": "135ba2a8",
   "metadata": {},
   "outputs": [
    {
     "name": "stdout",
     "output_type": "stream",
     "text": [
      "Training model for CHTR\n",
      "Model for CHTR trained in 0.20 seconds\n",
      "**************************************************\n",
      "Training model for CMCSA\n",
      "Model for CMCSA trained in 0.43 seconds\n",
      "**************************************************\n",
      "Training model for DIS\n",
      "Model for DIS trained in 0.42 seconds\n",
      "**************************************************\n",
      "Training model for EA\n",
      "Model for EA trained in 0.20 seconds\n",
      "**************************************************\n",
      "Training model for FOX\n",
      "Model for FOX trained in 0.15 seconds\n",
      "**************************************************\n",
      "Training model for FOXA\n",
      "Model for FOXA trained in 0.14 seconds\n",
      "**************************************************\n",
      "Training model for GOOG\n",
      "Model for GOOG trained in 0.51 seconds\n",
      "**************************************************\n",
      "Training model for GOOGL\n",
      "Model for GOOGL trained in 0.44 seconds\n",
      "**************************************************\n",
      "Training model for IPG\n",
      "Model for IPG trained in 1.31 seconds\n",
      "**************************************************\n",
      "Training model for LYV\n",
      "Model for LYV trained in 0.21 seconds\n",
      "**************************************************\n",
      "Training model for META\n",
      "Model for META trained in 0.43 seconds\n",
      "**************************************************\n",
      "Training model for MTCH\n",
      "Model for MTCH trained in 1.53 seconds\n",
      "**************************************************\n",
      "Training model for NFLX\n",
      "Model for NFLX trained in 1.34 seconds\n",
      "**************************************************\n",
      "Training model for NWS\n",
      "Model for NWS trained in 0.20 seconds\n",
      "**************************************************\n",
      "Training model for NWSA\n",
      "Model for NWSA trained in 0.17 seconds\n",
      "**************************************************\n",
      "Training model for OMC\n",
      "Model for OMC trained in 0.19 seconds\n",
      "**************************************************\n",
      "Training model for PARA\n",
      "Model for PARA trained in 2.77 seconds\n",
      "**************************************************\n",
      "Training model for T\n",
      "Model for T trained in 0.38 seconds\n",
      "**************************************************\n",
      "Training model for TKO\n",
      "Model for TKO trained in 1.50 seconds\n",
      "**************************************************\n",
      "Training model for TMUS\n",
      "Model for TMUS trained in 3.06 seconds\n",
      "**************************************************\n",
      "Training model for TTWO\n",
      "Model for TTWO trained in 0.88 seconds\n",
      "**************************************************\n",
      "Training model for VZ\n",
      "Model for VZ trained in 3.91 seconds\n",
      "**************************************************\n",
      "Training model for WBD\n",
      "Model for WBD trained in 1.28 seconds\n",
      "**************************************************\n"
     ]
    }
   ],
   "source": [
    "models_arima = {}\n",
    "\n",
    "for ticker in data.keys():\n",
    "    print(f\"Training model for {ticker}\")\n",
    "    start = time.time()\n",
    "    model = AutoARIMA()\n",
    "\n",
    "    model.fit(\n",
    "        series=train[ticker]['close'],\n",
    "    )\n",
    "\n",
    "    end = time.time()\n",
    "    print(f\"Model for {ticker} trained in {end - start:.2f} seconds\")\n",
    "    print(\"*\" * 50)\n",
    "\n",
    "    models_arima[ticker] = model"
   ]
  },
  {
   "cell_type": "code",
   "execution_count": 27,
   "id": "64a5ed9e",
   "metadata": {},
   "outputs": [
    {
     "name": "stdout",
     "output_type": "stream",
     "text": [
      "Ticker: CHTR, MAPE: 22.05, MAE: 78.03\n",
      "**************************************************\n",
      "Ticker: CMCSA, MAPE: 5.19, MAE: 2.00\n",
      "**************************************************\n",
      "Ticker: DIS, MAPE: 12.90, MAE: 12.06\n",
      "**************************************************\n",
      "Ticker: EA, MAPE: 10.50, MAE: 15.52\n",
      "**************************************************\n",
      "Ticker: FOX, MAPE: 17.53, MAE: 8.34\n",
      "**************************************************\n",
      "Ticker: FOXA, MAPE: 16.86, MAE: 8.56\n",
      "**************************************************\n",
      "Ticker: GOOG, MAPE: 6.76, MAE: 11.73\n",
      "**************************************************\n",
      "Ticker: GOOGL, MAPE: 6.85, MAE: 11.78\n",
      "**************************************************\n",
      "Ticker: IPG, MAPE: 5.77, MAE: 1.56\n",
      "**************************************************\n",
      "Ticker: LYV, MAPE: 22.01, MAE: 28.16\n",
      "**************************************************\n",
      "Ticker: META, MAPE: 17.01, MAE: 100.74\n",
      "**************************************************\n",
      "Ticker: MTCH, MAPE: 7.21, MAE: 2.48\n",
      "**************************************************\n",
      "Ticker: NFLX, MAPE: 27.23, MAE: 237.18\n",
      "**************************************************\n",
      "Ticker: NWS, MAPE: 16.10, MAE: 4.87\n",
      "**************************************************\n",
      "Ticker: NWSA, MAPE: 12.40, MAE: 3.43\n",
      "**************************************************\n",
      "Ticker: OMC, MAPE: 7.80, MAE: 6.89\n",
      "**************************************************\n",
      "Ticker: PARA, MAPE: 30.99, MAE: 3.34\n",
      "**************************************************\n",
      "Ticker: T, MAPE: 24.11, MAE: 5.62\n",
      "**************************************************\n",
      "Ticker: TKO, MAPE: 24.96, MAE: 34.56\n",
      "**************************************************\n",
      "Ticker: TMUS, MAPE: 19.65, MAE: 45.71\n",
      "**************************************************\n",
      "Ticker: TTWO, MAPE: 16.89, MAE: 32.25\n",
      "**************************************************\n",
      "Ticker: VZ, MAPE: 9.22, MAE: 3.81\n",
      "**************************************************\n",
      "Ticker: WBD, MAPE: 12.39, MAE: 1.21\n",
      "**************************************************\n"
     ]
    }
   ],
   "source": [
    "mapes_arima = {}\n",
    "maes_arima = {}\n",
    "\n",
    "for ticker in data.keys():\n",
    "    y_test = test[ticker]['close']\n",
    "    y_pred = models_arima[ticker].predict(\n",
    "        n=len(y_test),\n",
    "        show_warnings=False\n",
    "    )\n",
    "    mape_ = mape(y_test, y_pred)\n",
    "    mae_ = mae(y_test, y_pred)\n",
    "    mapes_arima[ticker] = mape_\n",
    "    maes_arima[ticker] = mae_\n",
    "    print(f\"Ticker: {ticker}, MAPE: {mape_:.2f}, MAE: {mae_:.2f}\")\n",
    "    print(\"*\" * 50)"
   ]
  },
  {
   "cell_type": "code",
   "execution_count": 28,
   "id": "3540f772",
   "metadata": {},
   "outputs": [
    {
     "data": {
      "text/plain": [
       "(15.321454476582323, 28.68816789027297)"
      ]
     },
     "execution_count": 28,
     "metadata": {},
     "output_type": "execute_result"
    }
   ],
   "source": [
    "np.mean(list(mapes_arima.values())), np.mean(list(maes_arima.values()))"
   ]
  }
 ],
 "metadata": {
  "kernelspec": {
   "display_name": ".venv",
   "language": "python",
   "name": "python3"
  },
  "language_info": {
   "codemirror_mode": {
    "name": "ipython",
    "version": 3
   },
   "file_extension": ".py",
   "mimetype": "text/x-python",
   "name": "python",
   "nbconvert_exporter": "python",
   "pygments_lexer": "ipython3",
   "version": "3.12.1"
  }
 },
 "nbformat": 4,
 "nbformat_minor": 5
}
