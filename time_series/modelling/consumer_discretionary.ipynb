{
 "cells": [
  {
   "cell_type": "markdown",
   "id": "a132de14",
   "metadata": {},
   "source": [
    "## Model training and tuning for the consumer discretionary sector"
   ]
  },
  {
   "cell_type": "code",
   "execution_count": 27,
   "id": "d74fe196",
   "metadata": {},
   "outputs": [],
   "source": [
    "import pandas as pd\n",
    "import numpy as np\n",
    "\n",
    "import time\n",
    "\n",
    "from darts import TimeSeries, concatenate\n",
    "from darts.utils.model_selection import train_test_split\n",
    "from darts.models.forecasting.xgboost import XGBModel\n",
    "from darts.dataprocessing.transformers.scaler import Scaler\n",
    "from darts.metrics.metrics import mape, mae\n",
    "from darts.models.forecasting.prophet_model import Prophet\n",
    "from darts.models.forecasting.sf_auto_theta import AutoTheta\n",
    "from darts.models.forecasting.linear_regression_model import LinearRegressionModel\n",
    "from darts.dataprocessing.transformers import StaticCovariatesTransformer\n",
    "from darts.dataprocessing.transformers.boxcox import BoxCox\n",
    "from darts.models.forecasting.sf_auto_arima import AutoARIMA"
   ]
  },
  {
   "cell_type": "code",
   "execution_count": null,
   "id": "8c7af10f",
   "metadata": {},
   "outputs": [],
   "source": [
    "df = pd.read_csv('../../data/processed/sp500_all_companies_cleaned_with_sector.csv')\n",
    "df['date'] = pd.to_datetime(df['date'])\n",
    "\n",
    "df_discretionary = df[df['GICS Sector'] == 'Consumer Discretionary'].sort_values(by=['ticker', 'date']).reset_index(drop=True)"
   ]
  },
  {
   "cell_type": "code",
   "execution_count": 3,
   "id": "ece8cf77",
   "metadata": {},
   "outputs": [
    {
     "data": {
      "text/plain": [
       "GICS Sector\n",
       "Industrials               193459\n",
       "Financials                190485\n",
       "Information Technology    177149\n",
       "Health Care               151348\n",
       "Consumer Discretionary    130185\n",
       "Consumer Staples           96649\n",
       "Real Estate                79757\n",
       "Utilities                  78786\n",
       "Materials                  63394\n",
       "Energy                     58523\n",
       "Communication Services     58017\n",
       "Name: count, dtype: int64"
      ]
     },
     "execution_count": 3,
     "metadata": {},
     "output_type": "execute_result"
    }
   ],
   "source": [
    "df['GICS Sector'].value_counts()"
   ]
  },
  {
   "cell_type": "code",
   "execution_count": 4,
   "id": "3a82775d",
   "metadata": {},
   "outputs": [
    {
     "data": {
      "text/plain": [
       "array(['ABNB', 'AMZN', 'APTV', 'AZO', 'BBY', 'BKNG', 'CCL', 'CMG', 'CZR',\n",
       "       'DASH', 'DECK', 'DHI', 'DPZ', 'DRI', 'EBAY', 'EXPE', 'F', 'GM',\n",
       "       'GPC', 'GRMN', 'HAS', 'HD', 'HLT', 'KMX', 'LEN', 'LKQ', 'LOW',\n",
       "       'LULU', 'LVS', 'MAR', 'MCD', 'MGM', 'MHK', 'NCLH', 'NKE', 'NVR',\n",
       "       'ORLY', 'PHM', 'POOL', 'RCL', 'RL', 'ROST', 'SBUX', 'TJX', 'TPR',\n",
       "       'TSCO', 'TSLA', 'ULTA', 'WSM', 'WYNN', 'YUM'], dtype=object)"
      ]
     },
     "execution_count": 4,
     "metadata": {},
     "output_type": "execute_result"
    }
   ],
   "source": [
    "df_discretionary['ticker'].unique()"
   ]
  },
  {
   "cell_type": "code",
   "execution_count": null,
   "id": "92847a29",
   "metadata": {},
   "outputs": [],
   "source": [
    "data = {}\n",
    "static_covs = pd.DataFrame({'ticker': df_discretionary['ticker'].unique()})\n",
    "\n",
    "for ticker, group in df_discretionary.groupby('ticker'):\n",
    "    series = TimeSeries.from_dataframe(\n",
    "        group,\n",
    "        time_col='date',\n",
    "        value_cols=['close', 'high', 'low', 'open', 'volume'],\n",
    "        freq='B',\n",
    "        static_covariates=pd.Series(ticker)\n",
    "    )\n",
    "    data[ticker] = series"
   ]
  },
  {
   "cell_type": "code",
   "execution_count": 6,
   "id": "64b0d57f",
   "metadata": {},
   "outputs": [],
   "source": [
    "# encode each ticker as a static covariate\n",
    "transformer = StaticCovariatesTransformer()\n",
    "ts = [d for d in data.values()]\n",
    "transformer.fit(ts)\n",
    "\n",
    "for ticker, series in data.items():\n",
    "    data[ticker] = transformer.transform(series)"
   ]
  },
  {
   "cell_type": "code",
   "execution_count": 7,
   "id": "8ebc137c",
   "metadata": {},
   "outputs": [],
   "source": [
    "train = {}\n",
    "test = {}\n",
    "\n",
    "for ticker, series in data.items():\n",
    "    train[ticker], test[ticker] = train_test_split(series, test_size=0.1)\n",
    "    last_train = train[ticker][-1:]\n",
    "    test_with_context = last_train.append(test[ticker]) # append last point of train to test as our forecast requires it\n",
    "    test[ticker] = test_with_context"
   ]
  },
  {
   "cell_type": "markdown",
   "id": "2ff40656",
   "metadata": {},
   "source": [
    "## Gradient Boosting"
   ]
  },
  {
   "cell_type": "markdown",
   "id": "ab5a6a61",
   "metadata": {},
   "source": [
    "### Train a local model first"
   ]
  },
  {
   "cell_type": "code",
   "execution_count": 8,
   "id": "630b92e0",
   "metadata": {},
   "outputs": [
    {
     "name": "stdout",
     "output_type": "stream",
     "text": [
      "Training model for ABNB\n",
      "Model for ABNB trained in 0.29 seconds\n",
      "**************************************************\n",
      "Training model for AMZN\n",
      "Model for AMZN trained in 0.34 seconds\n",
      "**************************************************\n",
      "Training model for APTV\n",
      "Model for APTV trained in 0.29 seconds\n",
      "**************************************************\n",
      "Training model for AZO\n",
      "Model for AZO trained in 0.30 seconds\n",
      "**************************************************\n",
      "Training model for BBY\n",
      "Model for BBY trained in 0.28 seconds\n",
      "**************************************************\n",
      "Training model for BKNG\n",
      "Model for BKNG trained in 0.32 seconds\n",
      "**************************************************\n",
      "Training model for CCL\n",
      "Model for CCL trained in 0.32 seconds\n",
      "**************************************************\n",
      "Training model for CMG\n",
      "Model for CMG trained in 0.32 seconds\n",
      "**************************************************\n",
      "Training model for CZR\n",
      "Model for CZR trained in 0.36 seconds\n",
      "**************************************************\n",
      "Training model for DASH\n",
      "Model for DASH trained in 0.26 seconds\n",
      "**************************************************\n",
      "Training model for DECK\n",
      "Model for DECK trained in 0.27 seconds\n",
      "**************************************************\n",
      "Training model for DHI\n",
      "Model for DHI trained in 0.26 seconds\n",
      "**************************************************\n",
      "Training model for DPZ\n",
      "Model for DPZ trained in 0.33 seconds\n",
      "**************************************************\n",
      "Training model for DRI\n",
      "Model for DRI trained in 0.30 seconds\n",
      "**************************************************\n",
      "Training model for EBAY\n",
      "Model for EBAY trained in 0.33 seconds\n",
      "**************************************************\n",
      "Training model for EXPE\n",
      "Model for EXPE trained in 0.32 seconds\n",
      "**************************************************\n",
      "Training model for F\n",
      "Model for F trained in 0.28 seconds\n",
      "**************************************************\n",
      "Training model for GM\n",
      "Model for GM trained in 0.30 seconds\n",
      "**************************************************\n",
      "Training model for GPC\n",
      "Model for GPC trained in 0.27 seconds\n",
      "**************************************************\n",
      "Training model for GRMN\n",
      "Model for GRMN trained in 0.34 seconds\n",
      "**************************************************\n",
      "Training model for HAS\n",
      "Model for HAS trained in 0.34 seconds\n",
      "**************************************************\n",
      "Training model for HD\n",
      "Model for HD trained in 0.26 seconds\n",
      "**************************************************\n",
      "Training model for HLT\n",
      "Model for HLT trained in 0.35 seconds\n",
      "**************************************************\n",
      "Training model for KMX\n",
      "Model for KMX trained in 0.29 seconds\n",
      "**************************************************\n",
      "Training model for LEN\n",
      "Model for LEN trained in 0.30 seconds\n",
      "**************************************************\n",
      "Training model for LKQ\n",
      "Model for LKQ trained in 0.31 seconds\n",
      "**************************************************\n",
      "Training model for LOW\n",
      "Model for LOW trained in 0.34 seconds\n",
      "**************************************************\n",
      "Training model for LULU\n",
      "Model for LULU trained in 0.28 seconds\n",
      "**************************************************\n",
      "Training model for LVS\n",
      "Model for LVS trained in 0.35 seconds\n",
      "**************************************************\n",
      "Training model for MAR\n",
      "Model for MAR trained in 0.28 seconds\n",
      "**************************************************\n",
      "Training model for MCD\n",
      "Model for MCD trained in 0.33 seconds\n",
      "**************************************************\n",
      "Training model for MGM\n",
      "Model for MGM trained in 0.30 seconds\n",
      "**************************************************\n",
      "Training model for MHK\n",
      "Model for MHK trained in 0.40 seconds\n",
      "**************************************************\n",
      "Training model for NCLH\n",
      "Model for NCLH trained in 0.28 seconds\n",
      "**************************************************\n",
      "Training model for NKE\n",
      "Model for NKE trained in 0.29 seconds\n",
      "**************************************************\n",
      "Training model for NVR\n",
      "Model for NVR trained in 0.30 seconds\n",
      "**************************************************\n",
      "Training model for ORLY\n",
      "Model for ORLY trained in 0.27 seconds\n",
      "**************************************************\n",
      "Training model for PHM\n",
      "Model for PHM trained in 0.30 seconds\n",
      "**************************************************\n",
      "Training model for POOL\n",
      "Model for POOL trained in 0.37 seconds\n",
      "**************************************************\n",
      "Training model for RCL\n",
      "Model for RCL trained in 0.29 seconds\n",
      "**************************************************\n",
      "Training model for RL\n",
      "Model for RL trained in 0.30 seconds\n",
      "**************************************************\n",
      "Training model for ROST\n",
      "Model for ROST trained in 0.29 seconds\n",
      "**************************************************\n",
      "Training model for SBUX\n",
      "Model for SBUX trained in 0.23 seconds\n",
      "**************************************************\n",
      "Training model for TJX\n",
      "Model for TJX trained in 0.41 seconds\n",
      "**************************************************\n",
      "Training model for TPR\n",
      "Model for TPR trained in 0.34 seconds\n",
      "**************************************************\n",
      "Training model for TSCO\n",
      "Model for TSCO trained in 0.32 seconds\n",
      "**************************************************\n",
      "Training model for TSLA\n",
      "Model for TSLA trained in 0.44 seconds\n",
      "**************************************************\n",
      "Training model for ULTA\n",
      "Model for ULTA trained in 0.48 seconds\n",
      "**************************************************\n",
      "Training model for WSM\n",
      "Model for WSM trained in 0.35 seconds\n",
      "**************************************************\n",
      "Training model for WYNN\n",
      "Model for WYNN trained in 0.27 seconds\n",
      "**************************************************\n",
      "Training model for YUM\n",
      "Model for YUM trained in 0.27 seconds\n",
      "**************************************************\n"
     ]
    }
   ],
   "source": [
    "models = {}\n",
    "\n",
    "for ticker in data.keys():\n",
    "    print(f\"Training model for {ticker}\")\n",
    "    start = time.time()\n",
    "    model = XGBModel(\n",
    "        lags=15,\n",
    "        lags_past_covariates=1,\n",
    "        lags_future_covariates=[0],\n",
    "        output_chunk_length=1,\n",
    "        random_state=42,\n",
    "        add_encoders={\n",
    "            'datetime_attribute': {\n",
    "                'future': ['month', 'day', 'dayofweek', 'dayofyear', 'quarter', 'year'] # automatically generate future covariates from time series\n",
    "            }\n",
    "        }\n",
    "    )\n",
    "\n",
    "    model.fit(\n",
    "        train[ticker]['close'],\n",
    "        past_covariates=train[ticker][['high', 'low', 'volume', 'open']],\n",
    "    )\n",
    "\n",
    "    end = time.time()\n",
    "    print(f\"Model for {ticker} trained in {end - start:.2f} seconds\")\n",
    "    print(\"*\" * 50)\n",
    "\n",
    "    models[ticker] = model"
   ]
  },
  {
   "cell_type": "code",
   "execution_count": 9,
   "id": "b9f91c14",
   "metadata": {},
   "outputs": [
    {
     "name": "stdout",
     "output_type": "stream",
     "text": [
      "Ticker: ABNB, MAPE: 12.26, MAE: 15.15\n",
      "**************************************************\n",
      "Ticker: AMZN, MAPE: 11.26, MAE: 23.57\n",
      "**************************************************\n",
      "Ticker: APTV, MAPE: 5.56, MAE: 3.52\n",
      "**************************************************\n",
      "Ticker: AZO, MAPE: 6.23, MAE: 209.84\n",
      "**************************************************\n",
      "Ticker: BBY, MAPE: 12.55, MAE: 10.84\n",
      "**************************************************\n",
      "Ticker: BKNG, MAPE: 18.15, MAE: 845.43\n",
      "**************************************************\n",
      "Ticker: CCL, MAPE: 6.10, MAE: 1.29\n",
      "**************************************************\n",
      "Ticker: CMG, MAPE: 7.27, MAE: 3.92\n",
      "**************************************************\n",
      "Ticker: CZR, MAPE: 6.23, MAE: 2.18\n",
      "**************************************************\n",
      "Ticker: DASH, MAPE: 5.74, MAE: 10.31\n",
      "**************************************************\n",
      "Ticker: DECK, MAPE: 14.57, MAE: 24.28\n",
      "**************************************************\n",
      "Ticker: DHI, MAPE: 12.23, MAE: 19.48\n",
      "**************************************************\n",
      "Ticker: DPZ, MAPE: 5.05, MAE: 22.20\n",
      "**************************************************\n",
      "Ticker: DRI, MAPE: 14.77, MAE: 26.85\n",
      "**************************************************\n",
      "Ticker: EBAY, MAPE: 6.48, MAE: 3.87\n",
      "**************************************************\n",
      "Ticker: EXPE, MAPE: 7.37, MAE: 11.09\n",
      "**************************************************\n",
      "Ticker: F, MAPE: 4.38, MAE: 0.46\n",
      "**************************************************\n",
      "Ticker: GM, MAPE: 3.65, MAE: 1.77\n",
      "**************************************************\n",
      "Ticker: GPC, MAPE: 2.56, MAE: 3.22\n",
      "**************************************************\n",
      "Ticker: GRMN, MAPE: 15.87, MAE: 32.45\n",
      "**************************************************\n",
      "Ticker: HAS, MAPE: 4.39, MAE: 2.68\n",
      "**************************************************\n",
      "Ticker: HD, MAPE: 9.52, MAE: 37.49\n",
      "**************************************************\n",
      "Ticker: HLT, MAPE: 11.91, MAE: 28.66\n",
      "**************************************************\n",
      "Ticker: KMX, MAPE: 3.40, MAE: 2.59\n",
      "**************************************************\n",
      "Ticker: LEN, MAPE: 8.46, MAE: 12.74\n",
      "**************************************************\n",
      "Ticker: LKQ, MAPE: 3.87, MAE: 1.52\n",
      "**************************************************\n",
      "Ticker: LOW, MAPE: 6.13, MAE: 15.49\n",
      "**************************************************\n",
      "Ticker: LULU, MAPE: 6.98, MAE: 21.99\n",
      "**************************************************\n",
      "Ticker: LVS, MAPE: 4.40, MAE: 1.89\n",
      "**************************************************\n",
      "Ticker: MAR, MAPE: 10.67, MAE: 28.70\n",
      "**************************************************\n",
      "Ticker: MCD, MAPE: 9.23, MAE: 27.43\n",
      "**************************************************\n",
      "Ticker: MGM, MAPE: 7.15, MAE: 2.52\n",
      "**************************************************\n",
      "Ticker: MHK, MAPE: 6.93, MAE: 9.80\n",
      "**************************************************\n",
      "Ticker: NCLH, MAPE: 9.19, MAE: 1.80\n",
      "**************************************************\n",
      "Ticker: NKE, MAPE: 4.69, MAE: 3.22\n",
      "**************************************************\n",
      "Ticker: NVR, MAPE: 9.55, MAE: 852.71\n",
      "**************************************************\n",
      "Ticker: ORLY, MAPE: 9.82, MAE: 123.79\n",
      "**************************************************\n",
      "Ticker: PHM, MAPE: 7.15, MAE: 9.07\n",
      "**************************************************\n",
      "Ticker: POOL, MAPE: 8.07, MAE: 27.28\n",
      "**************************************************\n",
      "Ticker: RCL, MAPE: 28.30, MAE: 60.89\n",
      "**************************************************\n",
      "Ticker: RL, MAPE: 14.88, MAE: 33.86\n",
      "**************************************************\n",
      "Ticker: ROST, MAPE: 4.96, MAE: 7.15\n",
      "**************************************************\n",
      "Ticker: SBUX, MAPE: 7.24, MAE: 6.98\n",
      "**************************************************\n",
      "Ticker: TJX, MAPE: 19.02, MAE: 22.57\n",
      "**************************************************\n",
      "Ticker: TPR, MAPE: 23.75, MAE: 15.28\n",
      "**************************************************\n",
      "Ticker: TSCO, MAPE: 5.54, MAE: 3.08\n",
      "**************************************************\n",
      "Ticker: TSLA, MAPE: 7.18, MAE: 21.86\n",
      "**************************************************\n",
      "Ticker: ULTA, MAPE: 4.51, MAE: 16.61\n",
      "**************************************************\n",
      "Ticker: WSM, MAPE: 10.59, MAE: 18.90\n",
      "**************************************************\n",
      "Ticker: WYNN, MAPE: 5.25, MAE: 4.35\n",
      "**************************************************\n",
      "Ticker: YUM, MAPE: 6.21, MAE: 8.82\n",
      "**************************************************\n"
     ]
    }
   ],
   "source": [
    "mapes = {}\n",
    "maes = {}\n",
    "\n",
    "for ticker in data.keys():\n",
    "    y_test = test[ticker]['close']\n",
    "    y_pred = models[ticker].predict(\n",
    "        n=len(y_test),\n",
    "        past_covariates=test[ticker][['high', 'low', 'volume', 'open']],\n",
    "        show_warnings=False\n",
    "    )\n",
    "    mape_ = mape(y_test, y_pred)\n",
    "    mae_ = mae(y_test, y_pred)\n",
    "    mapes[ticker] = mape_\n",
    "    maes[ticker] = mae_\n",
    "    print(f\"Ticker: {ticker}, MAPE: {mape_:.2f}, MAE: {mae_:.2f}\")\n",
    "    print(\"*\" * 50)"
   ]
  },
  {
   "cell_type": "code",
   "execution_count": 10,
   "id": "225f2cf2",
   "metadata": {},
   "outputs": [
    {
     "data": {
      "text/plain": [
       "(8.964565327142548, 53.00893140968817)"
      ]
     },
     "execution_count": 10,
     "metadata": {},
     "output_type": "execute_result"
    }
   ],
   "source": [
    "np.mean(list(mapes.values())), np.mean(list(maes.values()))"
   ]
  },
  {
   "cell_type": "markdown",
   "id": "cdb475a9",
   "metadata": {},
   "source": [
    "### Global model"
   ]
  },
  {
   "cell_type": "code",
   "execution_count": 11,
   "id": "47343a36",
   "metadata": {},
   "outputs": [
    {
     "name": "stdout",
     "output_type": "stream",
     "text": [
      "Training global model\n",
      "Global model trained in 16.18 seconds\n",
      "**************************************************\n"
     ]
    }
   ],
   "source": [
    "print(f\"Training global model\")\n",
    "start = time.time()\n",
    "model = XGBModel(\n",
    "    lags=15,\n",
    "    lags_past_covariates=1,\n",
    "    lags_future_covariates=[0],\n",
    "    output_chunk_length=1,\n",
    "    random_state=42,\n",
    "    add_encoders={\n",
    "        'datetime_attribute': {\n",
    "            'future': ['month', 'day', 'dayofweek', 'dayofyear', 'quarter', 'year'] # automatically generate future covariates from time series\n",
    "        }\n",
    "    },\n",
    "    use_static_covariates=True,\n",
    "    n_estimators=1000,\n",
    "    eta=0.01,\n",
    "    max_depth=8,\n",
    "    subsample=0.8\n",
    ")\n",
    "\n",
    "model.fit(\n",
    "    [ts['close'] for ts in train.values()],\n",
    "    past_covariates=[ts[['high', 'low', 'volume', 'open']] for ts in train.values()],\n",
    ")\n",
    "\n",
    "end = time.time()\n",
    "print(f\"Global model trained in {end - start:.2f} seconds\")\n",
    "print(\"*\" * 50)"
   ]
  },
  {
   "cell_type": "code",
   "execution_count": 12,
   "id": "e80265b5",
   "metadata": {},
   "outputs": [
    {
     "name": "stdout",
     "output_type": "stream",
     "text": [
      "Global model for ABNB, MAPE: 4.15, MAE: 5.35\n",
      "**************************************************\n",
      "Global model for AMZN, MAPE: 2.78, MAE: 5.59\n",
      "**************************************************\n",
      "Global model for APTV, MAPE: 5.92, MAE: 3.77\n",
      "**************************************************\n",
      "Global model for AZO, MAPE: 5.55, MAE: 182.32\n",
      "**************************************************\n",
      "Global model for BBY, MAPE: 4.51, MAE: 3.60\n",
      "**************************************************\n",
      "Global model for BKNG, MAPE: 23.82, MAE: 1108.36\n",
      "**************************************************\n",
      "Global model for CCL, MAPE: 3.60, MAE: 0.71\n",
      "**************************************************\n",
      "Global model for CMG, MAPE: 4.59, MAE: 2.53\n",
      "**************************************************\n",
      "Global model for CZR, MAPE: 5.88, MAE: 2.00\n",
      "**************************************************\n",
      "Global model for DASH, MAPE: 2.72, MAE: 5.08\n",
      "**************************************************\n",
      "Global model for DECK, MAPE: 4.13, MAE: 6.30\n",
      "**************************************************\n",
      "Global model for DHI, MAPE: 2.65, MAE: 3.98\n",
      "**************************************************\n",
      "Global model for DPZ, MAPE: 3.08, MAE: 13.74\n",
      "**************************************************\n",
      "Global model for DRI, MAPE: 2.05, MAE: 3.47\n",
      "**************************************************\n",
      "Global model for EBAY, MAPE: 2.82, MAE: 1.70\n",
      "**************************************************\n",
      "Global model for EXPE, MAPE: 3.60, MAE: 5.31\n",
      "**************************************************\n",
      "Global model for F, MAPE: 5.45, MAE: 0.55\n",
      "**************************************************\n",
      "Global model for GM, MAPE: 5.00, MAE: 2.39\n",
      "**************************************************\n",
      "Global model for GPC, MAPE: 2.75, MAE: 3.41\n",
      "**************************************************\n",
      "Global model for GRMN, MAPE: 2.19, MAE: 4.17\n",
      "**************************************************\n",
      "Global model for HAS, MAPE: 3.97, MAE: 2.37\n",
      "**************************************************\n",
      "Global model for HD, MAPE: 2.75, MAE: 10.45\n",
      "**************************************************\n",
      "Global model for HLT, MAPE: 2.19, MAE: 4.95\n",
      "**************************************************\n",
      "Global model for KMX, MAPE: 4.50, MAE: 3.39\n",
      "**************************************************\n",
      "Global model for LEN, MAPE: 3.18, MAE: 4.36\n",
      "**************************************************\n",
      "Global model for LKQ, MAPE: 3.99, MAE: 1.58\n",
      "**************************************************\n",
      "Global model for LOW, MAPE: 1.94, MAE: 4.66\n",
      "**************************************************\n",
      "Global model for LULU, MAPE: 3.24, MAE: 9.99\n",
      "**************************************************\n",
      "Global model for LVS, MAPE: 7.72, MAE: 3.25\n",
      "**************************************************\n",
      "Global model for MAR, MAPE: 2.27, MAE: 5.71\n",
      "**************************************************\n",
      "Global model for MCD, MAPE: 1.77, MAE: 5.07\n",
      "**************************************************\n",
      "Global model for MGM, MAPE: 5.16, MAE: 1.83\n",
      "**************************************************\n",
      "Global model for MHK, MAPE: 3.94, MAE: 4.94\n",
      "**************************************************\n",
      "Global model for NCLH, MAPE: 4.17, MAE: 0.87\n",
      "**************************************************\n",
      "Global model for NKE, MAPE: 6.09, MAE: 4.39\n",
      "**************************************************\n",
      "Global model for NVR, MAPE: 10.64, MAE: 928.83\n",
      "**************************************************\n",
      "Global model for ORLY, MAPE: 9.44, MAE: 117.44\n",
      "**************************************************\n",
      "Global model for PHM, MAPE: 4.20, MAE: 4.82\n",
      "**************************************************\n",
      "Global model for POOL, MAPE: 2.32, MAE: 7.81\n",
      "**************************************************\n",
      "Global model for RCL, MAPE: 3.24, MAE: 6.34\n",
      "**************************************************\n",
      "Global model for RL, MAPE: 3.14, MAE: 6.59\n",
      "**************************************************\n",
      "Global model for ROST, MAPE: 2.21, MAE: 3.10\n",
      "**************************************************\n",
      "Global model for SBUX, MAPE: 4.51, MAE: 4.15\n",
      "**************************************************\n",
      "Global model for TJX, MAPE: 3.13, MAE: 3.60\n",
      "**************************************************\n",
      "Global model for TPR, MAPE: 5.39, MAE: 3.13\n",
      "**************************************************\n",
      "Global model for TSCO, MAPE: 3.84, MAE: 2.06\n",
      "**************************************************\n",
      "Global model for TSLA, MAPE: 4.94, MAE: 14.08\n",
      "**************************************************\n",
      "Global model for ULTA, MAPE: 2.57, MAE: 9.70\n",
      "**************************************************\n",
      "Global model for WSM, MAPE: 3.46, MAE: 5.41\n",
      "**************************************************\n",
      "Global model for WYNN, MAPE: 5.76, MAE: 4.91\n",
      "**************************************************\n",
      "Global model for YUM, MAPE: 2.09, MAE: 2.88\n",
      "**************************************************\n"
     ]
    }
   ],
   "source": [
    "mapes = {}\n",
    "maes = {}\n",
    "\n",
    "for ticker in data.keys():\n",
    "    y_pred = model.predict(\n",
    "        n=len(test[ticker]['close']),\n",
    "        series=train[ticker]['close'],\n",
    "        past_covariates=test[ticker][['high', 'low', 'volume', 'open']],\n",
    "        show_warnings=False\n",
    "    )\n",
    "    y_test = test[ticker]['close']\n",
    "    mape_ = mape(y_test, y_pred)\n",
    "    mae_ = mae(y_test, y_pred)\n",
    "\n",
    "    mapes[ticker] = mape_\n",
    "    maes[ticker] = mae_\n",
    "\n",
    "    print(f\"Global model for {ticker}, MAPE: {mape_:.2f}, MAE: {mae_:.2f}\")\n",
    "    print(\"*\" * 50)"
   ]
  },
  {
   "cell_type": "code",
   "execution_count": 13,
   "id": "954892bf",
   "metadata": {},
   "outputs": [
    {
     "data": {
      "text/plain": [
       "(4.411186524068468, 50.137823727677194)"
      ]
     },
     "execution_count": 13,
     "metadata": {},
     "output_type": "execute_result"
    }
   ],
   "source": [
    "np.mean(list(mapes.values())), np.mean(list(maes.values()))"
   ]
  },
  {
   "cell_type": "markdown",
   "id": "954b34fb",
   "metadata": {},
   "source": [
    "## Prophet model"
   ]
  },
  {
   "cell_type": "code",
   "execution_count": 14,
   "id": "0ca95853",
   "metadata": {},
   "outputs": [
    {
     "name": "stdout",
     "output_type": "stream",
     "text": [
      "Training model for ABNB\n"
     ]
    },
    {
     "name": "stderr",
     "output_type": "stream",
     "text": [
      "21:35:01 - cmdstanpy - INFO - Chain [1] start processing\n",
      "21:35:03 - cmdstanpy - INFO - Chain [1] done processing\n"
     ]
    },
    {
     "name": "stdout",
     "output_type": "stream",
     "text": [
      "Model for ABNB trained in 1.83 seconds\n",
      "**************************************************\n",
      "Training model for AMZN\n"
     ]
    },
    {
     "name": "stderr",
     "output_type": "stream",
     "text": [
      "21:35:03 - cmdstanpy - INFO - Chain [1] start processing\n",
      "21:35:06 - cmdstanpy - INFO - Chain [1] done processing\n"
     ]
    },
    {
     "name": "stdout",
     "output_type": "stream",
     "text": [
      "Model for AMZN trained in 2.84 seconds\n",
      "**************************************************\n",
      "Training model for APTV\n"
     ]
    },
    {
     "name": "stderr",
     "output_type": "stream",
     "text": [
      "21:35:06 - cmdstanpy - INFO - Chain [1] start processing\n",
      "21:35:08 - cmdstanpy - INFO - Chain [1] done processing\n"
     ]
    },
    {
     "name": "stdout",
     "output_type": "stream",
     "text": [
      "Model for APTV trained in 2.66 seconds\n",
      "**************************************************\n",
      "Training model for AZO\n"
     ]
    },
    {
     "name": "stderr",
     "output_type": "stream",
     "text": [
      "21:35:09 - cmdstanpy - INFO - Chain [1] start processing\n",
      "21:35:11 - cmdstanpy - INFO - Chain [1] done processing\n"
     ]
    },
    {
     "name": "stdout",
     "output_type": "stream",
     "text": [
      "Model for AZO trained in 2.25 seconds\n",
      "**************************************************\n",
      "Training model for BBY\n"
     ]
    },
    {
     "name": "stderr",
     "output_type": "stream",
     "text": [
      "21:35:11 - cmdstanpy - INFO - Chain [1] start processing\n",
      "21:35:13 - cmdstanpy - INFO - Chain [1] done processing\n"
     ]
    },
    {
     "name": "stdout",
     "output_type": "stream",
     "text": [
      "Model for BBY trained in 2.66 seconds\n",
      "**************************************************\n",
      "Training model for BKNG\n"
     ]
    },
    {
     "name": "stderr",
     "output_type": "stream",
     "text": [
      "21:35:14 - cmdstanpy - INFO - Chain [1] start processing\n",
      "21:35:15 - cmdstanpy - INFO - Chain [1] done processing\n"
     ]
    },
    {
     "name": "stdout",
     "output_type": "stream",
     "text": [
      "Model for BKNG trained in 1.85 seconds\n",
      "**************************************************\n",
      "Training model for CCL\n"
     ]
    },
    {
     "name": "stderr",
     "output_type": "stream",
     "text": [
      "21:35:16 - cmdstanpy - INFO - Chain [1] start processing\n",
      "21:35:18 - cmdstanpy - INFO - Chain [1] done processing\n"
     ]
    },
    {
     "name": "stdout",
     "output_type": "stream",
     "text": [
      "Model for CCL trained in 2.64 seconds\n",
      "**************************************************\n",
      "Training model for CMG\n"
     ]
    },
    {
     "name": "stderr",
     "output_type": "stream",
     "text": [
      "21:35:18 - cmdstanpy - INFO - Chain [1] start processing\n",
      "21:35:21 - cmdstanpy - INFO - Chain [1] done processing\n"
     ]
    },
    {
     "name": "stdout",
     "output_type": "stream",
     "text": [
      "Model for CMG trained in 3.13 seconds\n",
      "**************************************************\n",
      "Training model for CZR\n"
     ]
    },
    {
     "name": "stderr",
     "output_type": "stream",
     "text": [
      "21:35:21 - cmdstanpy - INFO - Chain [1] start processing\n",
      "21:35:23 - cmdstanpy - INFO - Chain [1] done processing\n"
     ]
    },
    {
     "name": "stdout",
     "output_type": "stream",
     "text": [
      "Model for CZR trained in 2.01 seconds\n",
      "**************************************************\n",
      "Training model for DASH\n"
     ]
    },
    {
     "name": "stderr",
     "output_type": "stream",
     "text": [
      "21:35:23 - cmdstanpy - INFO - Chain [1] start processing\n",
      "21:35:24 - cmdstanpy - INFO - Chain [1] done processing\n"
     ]
    },
    {
     "name": "stdout",
     "output_type": "stream",
     "text": [
      "Model for DASH trained in 0.88 seconds\n",
      "**************************************************\n",
      "Training model for DECK\n"
     ]
    },
    {
     "name": "stderr",
     "output_type": "stream",
     "text": [
      "21:35:24 - cmdstanpy - INFO - Chain [1] start processing\n",
      "21:35:26 - cmdstanpy - INFO - Chain [1] done processing\n"
     ]
    },
    {
     "name": "stdout",
     "output_type": "stream",
     "text": [
      "Model for DECK trained in 2.58 seconds\n",
      "**************************************************\n",
      "Training model for DHI\n"
     ]
    },
    {
     "name": "stderr",
     "output_type": "stream",
     "text": [
      "21:35:27 - cmdstanpy - INFO - Chain [1] start processing\n",
      "21:35:30 - cmdstanpy - INFO - Chain [1] done processing\n"
     ]
    },
    {
     "name": "stdout",
     "output_type": "stream",
     "text": [
      "Model for DHI trained in 3.18 seconds\n",
      "**************************************************\n",
      "Training model for DPZ\n"
     ]
    },
    {
     "name": "stderr",
     "output_type": "stream",
     "text": [
      "21:35:30 - cmdstanpy - INFO - Chain [1] start processing\n",
      "21:35:32 - cmdstanpy - INFO - Chain [1] done processing\n"
     ]
    },
    {
     "name": "stdout",
     "output_type": "stream",
     "text": [
      "Model for DPZ trained in 2.56 seconds\n",
      "**************************************************\n",
      "Training model for DRI\n"
     ]
    },
    {
     "name": "stderr",
     "output_type": "stream",
     "text": [
      "21:35:33 - cmdstanpy - INFO - Chain [1] start processing\n",
      "21:35:34 - cmdstanpy - INFO - Chain [1] done processing\n"
     ]
    },
    {
     "name": "stdout",
     "output_type": "stream",
     "text": [
      "Model for DRI trained in 2.15 seconds\n",
      "**************************************************\n",
      "Training model for EBAY\n"
     ]
    },
    {
     "name": "stderr",
     "output_type": "stream",
     "text": [
      "21:35:35 - cmdstanpy - INFO - Chain [1] start processing\n",
      "21:35:37 - cmdstanpy - INFO - Chain [1] done processing\n"
     ]
    },
    {
     "name": "stdout",
     "output_type": "stream",
     "text": [
      "Model for EBAY trained in 2.72 seconds\n",
      "**************************************************\n",
      "Training model for EXPE\n"
     ]
    },
    {
     "name": "stderr",
     "output_type": "stream",
     "text": [
      "21:35:37 - cmdstanpy - INFO - Chain [1] start processing\n",
      "21:35:40 - cmdstanpy - INFO - Chain [1] done processing\n"
     ]
    },
    {
     "name": "stdout",
     "output_type": "stream",
     "text": [
      "Model for EXPE trained in 3.33 seconds\n",
      "**************************************************\n",
      "Training model for F\n"
     ]
    },
    {
     "name": "stderr",
     "output_type": "stream",
     "text": [
      "21:35:41 - cmdstanpy - INFO - Chain [1] start processing\n",
      "21:35:44 - cmdstanpy - INFO - Chain [1] done processing\n"
     ]
    },
    {
     "name": "stdout",
     "output_type": "stream",
     "text": [
      "Model for F trained in 3.14 seconds\n",
      "**************************************************\n",
      "Training model for GM\n"
     ]
    },
    {
     "name": "stderr",
     "output_type": "stream",
     "text": [
      "21:35:44 - cmdstanpy - INFO - Chain [1] start processing\n",
      "21:35:47 - cmdstanpy - INFO - Chain [1] done processing\n"
     ]
    },
    {
     "name": "stdout",
     "output_type": "stream",
     "text": [
      "Model for GM trained in 3.33 seconds\n",
      "**************************************************\n",
      "Training model for GPC\n"
     ]
    },
    {
     "name": "stderr",
     "output_type": "stream",
     "text": [
      "21:35:47 - cmdstanpy - INFO - Chain [1] start processing\n",
      "21:35:50 - cmdstanpy - INFO - Chain [1] done processing\n"
     ]
    },
    {
     "name": "stdout",
     "output_type": "stream",
     "text": [
      "Model for GPC trained in 3.13 seconds\n",
      "**************************************************\n",
      "Training model for GRMN\n"
     ]
    },
    {
     "name": "stderr",
     "output_type": "stream",
     "text": [
      "21:35:50 - cmdstanpy - INFO - Chain [1] start processing\n",
      "21:35:53 - cmdstanpy - INFO - Chain [1] done processing\n"
     ]
    },
    {
     "name": "stdout",
     "output_type": "stream",
     "text": [
      "Model for GRMN trained in 3.46 seconds\n",
      "**************************************************\n",
      "Training model for HAS\n"
     ]
    },
    {
     "name": "stderr",
     "output_type": "stream",
     "text": [
      "21:35:54 - cmdstanpy - INFO - Chain [1] start processing\n",
      "21:35:56 - cmdstanpy - INFO - Chain [1] done processing\n"
     ]
    },
    {
     "name": "stdout",
     "output_type": "stream",
     "text": [
      "Model for HAS trained in 2.51 seconds\n",
      "**************************************************\n",
      "Training model for HD\n"
     ]
    },
    {
     "name": "stderr",
     "output_type": "stream",
     "text": [
      "21:35:56 - cmdstanpy - INFO - Chain [1] start processing\n",
      "21:35:59 - cmdstanpy - INFO - Chain [1] done processing\n"
     ]
    },
    {
     "name": "stdout",
     "output_type": "stream",
     "text": [
      "Model for HD trained in 3.17 seconds\n",
      "**************************************************\n",
      "Training model for HLT\n"
     ]
    },
    {
     "name": "stderr",
     "output_type": "stream",
     "text": [
      "21:36:00 - cmdstanpy - INFO - Chain [1] start processing\n",
      "21:36:02 - cmdstanpy - INFO - Chain [1] done processing\n"
     ]
    },
    {
     "name": "stdout",
     "output_type": "stream",
     "text": [
      "Model for HLT trained in 2.99 seconds\n",
      "**************************************************\n",
      "Training model for KMX\n"
     ]
    },
    {
     "name": "stderr",
     "output_type": "stream",
     "text": [
      "21:36:02 - cmdstanpy - INFO - Chain [1] start processing\n",
      "21:36:05 - cmdstanpy - INFO - Chain [1] done processing\n"
     ]
    },
    {
     "name": "stdout",
     "output_type": "stream",
     "text": [
      "Model for KMX trained in 3.05 seconds\n",
      "**************************************************\n",
      "Training model for LEN\n"
     ]
    },
    {
     "name": "stderr",
     "output_type": "stream",
     "text": [
      "21:36:06 - cmdstanpy - INFO - Chain [1] start processing\n",
      "21:36:07 - cmdstanpy - INFO - Chain [1] done processing\n"
     ]
    },
    {
     "name": "stdout",
     "output_type": "stream",
     "text": [
      "Model for LEN trained in 1.99 seconds\n",
      "**************************************************\n",
      "Training model for LKQ\n"
     ]
    },
    {
     "name": "stderr",
     "output_type": "stream",
     "text": [
      "21:36:07 - cmdstanpy - INFO - Chain [1] start processing\n",
      "21:36:10 - cmdstanpy - INFO - Chain [1] done processing\n"
     ]
    },
    {
     "name": "stdout",
     "output_type": "stream",
     "text": [
      "Model for LKQ trained in 3.20 seconds\n",
      "**************************************************\n",
      "Training model for LOW\n"
     ]
    },
    {
     "name": "stderr",
     "output_type": "stream",
     "text": [
      "21:36:11 - cmdstanpy - INFO - Chain [1] start processing\n",
      "21:36:14 - cmdstanpy - INFO - Chain [1] done processing\n"
     ]
    },
    {
     "name": "stdout",
     "output_type": "stream",
     "text": [
      "Model for LOW trained in 3.15 seconds\n",
      "**************************************************\n",
      "Training model for LULU\n"
     ]
    },
    {
     "name": "stderr",
     "output_type": "stream",
     "text": [
      "21:36:14 - cmdstanpy - INFO - Chain [1] start processing\n",
      "21:36:16 - cmdstanpy - INFO - Chain [1] done processing\n"
     ]
    },
    {
     "name": "stdout",
     "output_type": "stream",
     "text": [
      "Model for LULU trained in 2.38 seconds\n",
      "**************************************************\n",
      "Training model for LVS\n"
     ]
    },
    {
     "name": "stderr",
     "output_type": "stream",
     "text": [
      "21:36:16 - cmdstanpy - INFO - Chain [1] start processing\n",
      "21:36:19 - cmdstanpy - INFO - Chain [1] done processing\n"
     ]
    },
    {
     "name": "stdout",
     "output_type": "stream",
     "text": [
      "Model for LVS trained in 3.10 seconds\n",
      "**************************************************\n",
      "Training model for MAR\n"
     ]
    },
    {
     "name": "stderr",
     "output_type": "stream",
     "text": [
      "21:36:19 - cmdstanpy - INFO - Chain [1] start processing\n",
      "21:36:21 - cmdstanpy - INFO - Chain [1] done processing\n"
     ]
    },
    {
     "name": "stdout",
     "output_type": "stream",
     "text": [
      "Model for MAR trained in 1.98 seconds\n",
      "**************************************************\n",
      "Training model for MCD\n"
     ]
    },
    {
     "name": "stderr",
     "output_type": "stream",
     "text": [
      "21:36:21 - cmdstanpy - INFO - Chain [1] start processing\n",
      "21:36:24 - cmdstanpy - INFO - Chain [1] done processing\n"
     ]
    },
    {
     "name": "stdout",
     "output_type": "stream",
     "text": [
      "Model for MCD trained in 2.99 seconds\n",
      "**************************************************\n",
      "Training model for MGM\n"
     ]
    },
    {
     "name": "stderr",
     "output_type": "stream",
     "text": [
      "21:36:24 - cmdstanpy - INFO - Chain [1] start processing\n",
      "21:36:27 - cmdstanpy - INFO - Chain [1] done processing\n"
     ]
    },
    {
     "name": "stdout",
     "output_type": "stream",
     "text": [
      "Model for MGM trained in 2.90 seconds\n",
      "**************************************************\n",
      "Training model for MHK\n"
     ]
    },
    {
     "name": "stderr",
     "output_type": "stream",
     "text": [
      "21:36:27 - cmdstanpy - INFO - Chain [1] start processing\n",
      "21:36:29 - cmdstanpy - INFO - Chain [1] done processing\n"
     ]
    },
    {
     "name": "stdout",
     "output_type": "stream",
     "text": [
      "Model for MHK trained in 2.46 seconds\n",
      "**************************************************\n",
      "Training model for NCLH\n"
     ]
    },
    {
     "name": "stderr",
     "output_type": "stream",
     "text": [
      "21:36:30 - cmdstanpy - INFO - Chain [1] start processing\n",
      "21:36:33 - cmdstanpy - INFO - Chain [1] done processing\n"
     ]
    },
    {
     "name": "stdout",
     "output_type": "stream",
     "text": [
      "Model for NCLH trained in 3.16 seconds\n",
      "**************************************************\n",
      "Training model for NKE\n"
     ]
    },
    {
     "name": "stderr",
     "output_type": "stream",
     "text": [
      "21:36:33 - cmdstanpy - INFO - Chain [1] start processing\n",
      "21:36:36 - cmdstanpy - INFO - Chain [1] done processing\n"
     ]
    },
    {
     "name": "stdout",
     "output_type": "stream",
     "text": [
      "Model for NKE trained in 3.60 seconds\n",
      "**************************************************\n",
      "Training model for NVR\n"
     ]
    },
    {
     "name": "stderr",
     "output_type": "stream",
     "text": [
      "21:36:36 - cmdstanpy - INFO - Chain [1] start processing\n",
      "21:36:39 - cmdstanpy - INFO - Chain [1] done processing\n"
     ]
    },
    {
     "name": "stdout",
     "output_type": "stream",
     "text": [
      "Model for NVR trained in 3.17 seconds\n",
      "**************************************************\n",
      "Training model for ORLY\n"
     ]
    },
    {
     "name": "stderr",
     "output_type": "stream",
     "text": [
      "21:36:40 - cmdstanpy - INFO - Chain [1] start processing\n",
      "21:36:42 - cmdstanpy - INFO - Chain [1] done processing\n"
     ]
    },
    {
     "name": "stdout",
     "output_type": "stream",
     "text": [
      "Model for ORLY trained in 3.05 seconds\n",
      "**************************************************\n",
      "Training model for PHM\n"
     ]
    },
    {
     "name": "stderr",
     "output_type": "stream",
     "text": [
      "21:36:43 - cmdstanpy - INFO - Chain [1] start processing\n",
      "21:36:44 - cmdstanpy - INFO - Chain [1] done processing\n"
     ]
    },
    {
     "name": "stdout",
     "output_type": "stream",
     "text": [
      "Model for PHM trained in 2.14 seconds\n",
      "**************************************************\n",
      "Training model for POOL\n"
     ]
    },
    {
     "name": "stderr",
     "output_type": "stream",
     "text": [
      "21:36:45 - cmdstanpy - INFO - Chain [1] start processing\n",
      "21:36:47 - cmdstanpy - INFO - Chain [1] done processing\n"
     ]
    },
    {
     "name": "stdout",
     "output_type": "stream",
     "text": [
      "Model for POOL trained in 2.09 seconds\n",
      "**************************************************\n",
      "Training model for RCL\n"
     ]
    },
    {
     "name": "stderr",
     "output_type": "stream",
     "text": [
      "21:36:47 - cmdstanpy - INFO - Chain [1] start processing\n",
      "21:36:50 - cmdstanpy - INFO - Chain [1] done processing\n"
     ]
    },
    {
     "name": "stdout",
     "output_type": "stream",
     "text": [
      "Model for RCL trained in 3.29 seconds\n",
      "**************************************************\n",
      "Training model for RL\n"
     ]
    },
    {
     "name": "stderr",
     "output_type": "stream",
     "text": [
      "21:36:50 - cmdstanpy - INFO - Chain [1] start processing\n",
      "21:36:53 - cmdstanpy - INFO - Chain [1] done processing\n"
     ]
    },
    {
     "name": "stdout",
     "output_type": "stream",
     "text": [
      "Model for RL trained in 3.04 seconds\n",
      "**************************************************\n",
      "Training model for ROST\n"
     ]
    },
    {
     "name": "stderr",
     "output_type": "stream",
     "text": [
      "21:36:53 - cmdstanpy - INFO - Chain [1] start processing\n",
      "21:36:56 - cmdstanpy - INFO - Chain [1] done processing\n"
     ]
    },
    {
     "name": "stdout",
     "output_type": "stream",
     "text": [
      "Model for ROST trained in 2.65 seconds\n",
      "**************************************************\n",
      "Training model for SBUX\n"
     ]
    },
    {
     "name": "stderr",
     "output_type": "stream",
     "text": [
      "21:36:56 - cmdstanpy - INFO - Chain [1] start processing\n",
      "21:36:59 - cmdstanpy - INFO - Chain [1] done processing\n"
     ]
    },
    {
     "name": "stdout",
     "output_type": "stream",
     "text": [
      "Model for SBUX trained in 3.06 seconds\n",
      "**************************************************\n",
      "Training model for TJX\n"
     ]
    },
    {
     "name": "stderr",
     "output_type": "stream",
     "text": [
      "21:36:59 - cmdstanpy - INFO - Chain [1] start processing\n",
      "21:37:02 - cmdstanpy - INFO - Chain [1] done processing\n"
     ]
    },
    {
     "name": "stdout",
     "output_type": "stream",
     "text": [
      "Model for TJX trained in 3.04 seconds\n",
      "**************************************************\n",
      "Training model for TPR\n"
     ]
    },
    {
     "name": "stderr",
     "output_type": "stream",
     "text": [
      "21:37:02 - cmdstanpy - INFO - Chain [1] start processing\n",
      "21:37:05 - cmdstanpy - INFO - Chain [1] done processing\n"
     ]
    },
    {
     "name": "stdout",
     "output_type": "stream",
     "text": [
      "Model for TPR trained in 3.03 seconds\n",
      "**************************************************\n",
      "Training model for TSCO\n"
     ]
    },
    {
     "name": "stderr",
     "output_type": "stream",
     "text": [
      "21:37:05 - cmdstanpy - INFO - Chain [1] start processing\n",
      "21:37:08 - cmdstanpy - INFO - Chain [1] done processing\n"
     ]
    },
    {
     "name": "stdout",
     "output_type": "stream",
     "text": [
      "Model for TSCO trained in 3.11 seconds\n",
      "**************************************************\n",
      "Training model for TSLA\n"
     ]
    },
    {
     "name": "stderr",
     "output_type": "stream",
     "text": [
      "21:37:08 - cmdstanpy - INFO - Chain [1] start processing\n",
      "21:37:10 - cmdstanpy - INFO - Chain [1] done processing\n"
     ]
    },
    {
     "name": "stdout",
     "output_type": "stream",
     "text": [
      "Model for TSLA trained in 2.25 seconds\n",
      "**************************************************\n",
      "Training model for ULTA\n"
     ]
    },
    {
     "name": "stderr",
     "output_type": "stream",
     "text": [
      "21:37:10 - cmdstanpy - INFO - Chain [1] start processing\n",
      "21:37:13 - cmdstanpy - INFO - Chain [1] done processing\n"
     ]
    },
    {
     "name": "stdout",
     "output_type": "stream",
     "text": [
      "Model for ULTA trained in 2.69 seconds\n",
      "**************************************************\n",
      "Training model for WSM\n"
     ]
    },
    {
     "name": "stderr",
     "output_type": "stream",
     "text": [
      "21:37:13 - cmdstanpy - INFO - Chain [1] start processing\n",
      "21:37:14 - cmdstanpy - INFO - Chain [1] done processing\n"
     ]
    },
    {
     "name": "stdout",
     "output_type": "stream",
     "text": [
      "Model for WSM trained in 1.70 seconds\n",
      "**************************************************\n",
      "Training model for WYNN\n"
     ]
    },
    {
     "name": "stderr",
     "output_type": "stream",
     "text": [
      "21:37:15 - cmdstanpy - INFO - Chain [1] start processing\n",
      "21:37:18 - cmdstanpy - INFO - Chain [1] done processing\n"
     ]
    },
    {
     "name": "stdout",
     "output_type": "stream",
     "text": [
      "Model for WYNN trained in 3.19 seconds\n",
      "**************************************************\n",
      "Training model for YUM\n"
     ]
    },
    {
     "name": "stderr",
     "output_type": "stream",
     "text": [
      "21:37:18 - cmdstanpy - INFO - Chain [1] start processing\n",
      "21:37:21 - cmdstanpy - INFO - Chain [1] done processing\n"
     ]
    },
    {
     "name": "stdout",
     "output_type": "stream",
     "text": [
      "Model for YUM trained in 3.26 seconds\n",
      "**************************************************\n"
     ]
    }
   ],
   "source": [
    "models_prophet = {}\n",
    "\n",
    "for ticker in data.keys():\n",
    "    print(f\"Training model for {ticker}\")\n",
    "    start = time.time()\n",
    "    model = Prophet(\n",
    "        add_encoders={\n",
    "            'datetime_attribute': {\n",
    "                'future': ['month', 'day', 'dayofweek', 'dayofyear', 'quarter', 'year']  # automatically generate future covariates from time series\n",
    "            }\n",
    "        },\n",
    "        seasonality_mode='multiplicative',\n",
    "    )\n",
    "\n",
    "    model.fit(\n",
    "        train[ticker]['close']\n",
    "    )\n",
    "\n",
    "    end = time.time()\n",
    "    print(f\"Model for {ticker} trained in {end - start:.2f} seconds\")\n",
    "    print(\"*\" * 50)\n",
    "\n",
    "    models_prophet[ticker] = model"
   ]
  },
  {
   "cell_type": "code",
   "execution_count": 15,
   "id": "2ff81861",
   "metadata": {},
   "outputs": [
    {
     "name": "stdout",
     "output_type": "stream",
     "text": [
      "Ticker: ABNB, MAPE: 7.50, MAE: 9.32\n",
      "**************************************************\n",
      "Ticker: AMZN, MAPE: 9.25, MAE: 18.52\n",
      "**************************************************\n",
      "Ticker: APTV, MAPE: 17.36, MAE: 10.62\n",
      "**************************************************\n",
      "Ticker: AZO, MAPE: 8.81, MAE: 290.54\n",
      "**************************************************\n",
      "Ticker: BBY, MAPE: 15.48, MAE: 13.27\n",
      "**************************************************\n",
      "Ticker: BKNG, MAPE: 8.03, MAE: 369.48\n",
      "**************************************************\n",
      "Ticker: CCL, MAPE: 15.54, MAE: 3.38\n",
      "**************************************************\n",
      "Ticker: CMG, MAPE: 14.00, MAE: 7.51\n",
      "**************************************************\n",
      "Ticker: CZR, MAPE: 29.23, MAE: 9.44\n",
      "**************************************************\n",
      "Ticker: DASH, MAPE: 17.92, MAE: 33.40\n",
      "**************************************************\n",
      "Ticker: DECK, MAPE: 23.14, MAE: 32.26\n",
      "**************************************************\n",
      "Ticker: DHI, MAPE: 22.56, MAE: 31.95\n",
      "**************************************************\n",
      "Ticker: DPZ, MAPE: 7.20, MAE: 33.32\n",
      "**************************************************\n",
      "Ticker: DRI, MAPE: 19.67, MAE: 35.21\n",
      "**************************************************\n",
      "Ticker: EBAY, MAPE: 24.36, MAE: 15.22\n",
      "**************************************************\n",
      "Ticker: EXPE, MAPE: 9.89, MAE: 16.27\n",
      "**************************************************\n",
      "Ticker: F, MAPE: 9.23, MAE: 0.93\n",
      "**************************************************\n",
      "Ticker: GM, MAPE: 26.84, MAE: 13.16\n",
      "**************************************************\n",
      "Ticker: GPC, MAPE: 41.56, MAE: 51.92\n",
      "**************************************************\n",
      "Ticker: GRMN, MAPE: 21.92, MAE: 42.43\n",
      "**************************************************\n",
      "Ticker: HAS, MAPE: 24.22, MAE: 15.03\n",
      "**************************************************\n",
      "Ticker: HD, MAPE: 6.53, MAE: 25.60\n",
      "**************************************************\n",
      "Ticker: HLT, MAPE: 10.12, MAE: 23.56\n",
      "**************************************************\n",
      "Ticker: KMX, MAPE: 11.37, MAE: 8.99\n",
      "**************************************************\n",
      "Ticker: LEN, MAPE: 25.93, MAE: 32.57\n",
      "**************************************************\n",
      "Ticker: LKQ, MAPE: 21.87, MAE: 8.60\n",
      "**************************************************\n",
      "Ticker: LOW, MAPE: 8.09, MAE: 20.48\n",
      "**************************************************\n",
      "Ticker: LULU, MAPE: 60.66, MAE: 180.91\n",
      "**************************************************\n",
      "Ticker: LVS, MAPE: 71.11, MAE: 31.76\n",
      "**************************************************\n",
      "Ticker: MAR, MAPE: 9.21, MAE: 21.95\n",
      "**************************************************\n",
      "Ticker: MCD, MAPE: 14.30, MAE: 41.87\n",
      "**************************************************\n",
      "Ticker: MGM, MAPE: 20.69, MAE: 7.61\n",
      "**************************************************\n",
      "Ticker: MHK, MAPE: 26.06, MAE: 35.62\n",
      "**************************************************\n",
      "Ticker: NCLH, MAPE: 17.16, MAE: 3.95\n",
      "**************************************************\n",
      "Ticker: NKE, MAPE: 28.50, MAE: 21.55\n",
      "**************************************************\n",
      "Ticker: NVR, MAPE: 15.05, MAE: 1198.05\n",
      "**************************************************\n",
      "Ticker: ORLY, MAPE: 11.53, MAE: 144.08\n",
      "**************************************************\n",
      "Ticker: PHM, MAPE: 21.99, MAE: 23.84\n",
      "**************************************************\n",
      "Ticker: POOL, MAPE: 14.72, MAE: 48.54\n",
      "**************************************************\n",
      "Ticker: RCL, MAPE: 15.93, MAE: 35.13\n",
      "**************************************************\n",
      "Ticker: RL, MAPE: 19.18, MAE: 40.88\n",
      "**************************************************\n",
      "Ticker: ROST, MAPE: 10.21, MAE: 14.40\n",
      "**************************************************\n",
      "Ticker: SBUX, MAPE: 51.72, MAE: 49.08\n",
      "**************************************************\n",
      "Ticker: TJX, MAPE: 14.35, MAE: 16.90\n",
      "**************************************************\n",
      "Ticker: TPR, MAPE: 50.01, MAE: 29.62\n",
      "**************************************************\n",
      "Ticker: TSCO, MAPE: 26.52, MAE: 14.57\n",
      "**************************************************\n",
      "Ticker: TSLA, MAPE: 26.22, MAE: 81.40\n",
      "**************************************************\n",
      "Ticker: ULTA, MAPE: 26.99, MAE: 103.86\n",
      "**************************************************\n",
      "Ticker: WSM, MAPE: 22.66, MAE: 37.79\n",
      "**************************************************\n",
      "Ticker: WYNN, MAPE: 63.36, MAE: 54.88\n",
      "**************************************************\n",
      "Ticker: YUM, MAPE: 13.68, MAE: 19.31\n",
      "**************************************************\n"
     ]
    }
   ],
   "source": [
    "mapes_prophet = {}\n",
    "maes_prophet = {}\n",
    "\n",
    "for ticker in data.keys():\n",
    "    y_test = test[ticker]['close']\n",
    "    y_pred = models_prophet[ticker].predict(\n",
    "        n=len(y_test),\n",
    "        show_warnings=False\n",
    "    )\n",
    "    mape_ = mape(y_test, y_pred)\n",
    "    mae_ = mae(y_test, y_pred)\n",
    "    mapes_prophet[ticker] = mape_\n",
    "    maes_prophet[ticker] = mae_\n",
    "    print(f\"Ticker: {ticker}, MAPE: {mape_:.2f}, MAE: {mae_:.2f}\")\n",
    "    print(\"*\" * 50)"
   ]
  },
  {
   "cell_type": "code",
   "execution_count": 16,
   "id": "1f4600c3",
   "metadata": {},
   "outputs": [
    {
     "data": {
      "text/plain": [
       "(21.753373068911202, 67.2655245439751)"
      ]
     },
     "execution_count": 16,
     "metadata": {},
     "output_type": "execute_result"
    }
   ],
   "source": [
    "np.mean(list(mapes_prophet.values())), np.mean(list(maes_prophet.values()))"
   ]
  },
  {
   "cell_type": "markdown",
   "id": "5e177a24",
   "metadata": {},
   "source": [
    "## Theta model"
   ]
  },
  {
   "cell_type": "code",
   "execution_count": 17,
   "id": "92b8127c",
   "metadata": {},
   "outputs": [
    {
     "name": "stdout",
     "output_type": "stream",
     "text": [
      "Training model for ABNB\n",
      "Model for ABNB trained in 0.21 seconds\n",
      "**************************************************\n",
      "Training model for AMZN\n",
      "Model for AMZN trained in 1.05 seconds\n",
      "**************************************************\n",
      "Training model for APTV\n",
      "Model for APTV trained in 0.90 seconds\n",
      "**************************************************\n",
      "Training model for AZO\n",
      "Model for AZO trained in 1.27 seconds\n",
      "**************************************************\n",
      "Training model for BBY\n",
      "Model for BBY trained in 0.81 seconds\n",
      "**************************************************\n",
      "Training model for BKNG\n",
      "Model for BKNG trained in 0.74 seconds\n",
      "**************************************************\n",
      "Training model for CCL\n",
      "Model for CCL trained in 0.62 seconds\n",
      "**************************************************\n",
      "Training model for CMG\n",
      "Model for CMG trained in 1.06 seconds\n",
      "**************************************************\n",
      "Training model for CZR\n",
      "Model for CZR trained in 0.71 seconds\n",
      "**************************************************\n",
      "Training model for DASH\n",
      "Model for DASH trained in 0.18 seconds\n",
      "**************************************************\n",
      "Training model for DECK\n",
      "Model for DECK trained in 1.33 seconds\n",
      "**************************************************\n",
      "Training model for DHI\n",
      "Model for DHI trained in 1.14 seconds\n",
      "**************************************************\n",
      "Training model for DPZ\n",
      "Model for DPZ trained in 2.48 seconds\n",
      "**************************************************\n",
      "Training model for DRI\n",
      "Model for DRI trained in 0.83 seconds\n",
      "**************************************************\n",
      "Training model for EBAY\n",
      "Model for EBAY trained in 0.80 seconds\n",
      "**************************************************\n",
      "Training model for EXPE\n",
      "Model for EXPE trained in 0.84 seconds\n",
      "**************************************************\n",
      "Training model for F\n",
      "Model for F trained in 0.66 seconds\n",
      "**************************************************\n",
      "Training model for GM\n",
      "Model for GM trained in 0.74 seconds\n",
      "**************************************************\n",
      "Training model for GPC\n",
      "Model for GPC trained in 0.62 seconds\n",
      "**************************************************\n",
      "Training model for GRMN\n",
      "Model for GRMN trained in 1.02 seconds\n",
      "**************************************************\n",
      "Training model for HAS\n",
      "Model for HAS trained in 0.66 seconds\n",
      "**************************************************\n",
      "Training model for HD\n",
      "Model for HD trained in 0.85 seconds\n",
      "**************************************************\n",
      "Training model for HLT\n",
      "Model for HLT trained in 1.04 seconds\n",
      "**************************************************\n",
      "Training model for KMX\n",
      "Model for KMX trained in 0.70 seconds\n",
      "**************************************************\n",
      "Training model for LEN\n",
      "Model for LEN trained in 1.04 seconds\n",
      "**************************************************\n",
      "Training model for LKQ\n",
      "Model for LKQ trained in 0.66 seconds\n",
      "**************************************************\n",
      "Training model for LOW\n",
      "Model for LOW trained in 0.85 seconds\n",
      "**************************************************\n",
      "Training model for LULU\n",
      "Model for LULU trained in 0.77 seconds\n",
      "**************************************************\n",
      "Training model for LVS\n",
      "Model for LVS trained in 0.78 seconds\n",
      "**************************************************\n",
      "Training model for MAR\n",
      "Model for MAR trained in 0.88 seconds\n",
      "**************************************************\n",
      "Training model for MCD\n",
      "Model for MCD trained in 1.21 seconds\n",
      "**************************************************\n",
      "Training model for MGM\n",
      "Model for MGM trained in 0.66 seconds\n",
      "**************************************************\n",
      "Training model for MHK\n",
      "Model for MHK trained in 0.60 seconds\n",
      "**************************************************\n",
      "Training model for NCLH\n",
      "Model for NCLH trained in 0.65 seconds\n",
      "**************************************************\n",
      "Training model for NKE\n",
      "Model for NKE trained in 0.66 seconds\n",
      "**************************************************\n",
      "Training model for NVR\n",
      "Model for NVR trained in 1.27 seconds\n",
      "**************************************************\n",
      "Training model for ORLY\n",
      "Model for ORLY trained in 1.37 seconds\n",
      "**************************************************\n",
      "Training model for PHM\n",
      "Model for PHM trained in 1.21 seconds\n",
      "**************************************************\n",
      "Training model for POOL\n",
      "Model for POOL trained in 0.75 seconds\n",
      "**************************************************\n",
      "Training model for RCL\n",
      "Model for RCL trained in 0.69 seconds\n",
      "**************************************************\n",
      "Training model for RL\n",
      "Model for RL trained in 0.70 seconds\n",
      "**************************************************\n",
      "Training model for ROST\n",
      "Model for ROST trained in 0.78 seconds\n",
      "**************************************************\n",
      "Training model for SBUX\n",
      "Model for SBUX trained in 1.10 seconds\n",
      "**************************************************\n",
      "Training model for TJX\n",
      "Model for TJX trained in 0.93 seconds\n",
      "**************************************************\n",
      "Training model for TPR\n",
      "Model for TPR trained in 0.61 seconds\n",
      "**************************************************\n",
      "Training model for TSCO\n",
      "Model for TSCO trained in 0.58 seconds\n",
      "**************************************************\n",
      "Training model for TSLA\n",
      "Model for TSLA trained in 0.72 seconds\n",
      "**************************************************\n",
      "Training model for ULTA\n",
      "Model for ULTA trained in 0.73 seconds\n",
      "**************************************************\n",
      "Training model for WSM\n",
      "Model for WSM trained in 1.19 seconds\n",
      "**************************************************\n",
      "Training model for WYNN\n",
      "Model for WYNN trained in 0.67 seconds\n",
      "**************************************************\n",
      "Training model for YUM\n",
      "Model for YUM trained in 0.70 seconds\n",
      "**************************************************\n"
     ]
    }
   ],
   "source": [
    "models_theta = {}\n",
    "\n",
    "for ticker in data.keys():\n",
    "    print(f\"Training model for {ticker}\")\n",
    "    start = time.time()\n",
    "    model = AutoTheta(\n",
    "        season_length=30\n",
    "    )\n",
    "\n",
    "    model.fit(\n",
    "        series=train[ticker]['close']\n",
    "    )\n",
    "\n",
    "    end = time.time()\n",
    "    print(f\"Model for {ticker} trained in {end - start:.2f} seconds\")\n",
    "    print(\"*\" * 50)\n",
    "\n",
    "    models_theta[ticker] = model"
   ]
  },
  {
   "cell_type": "code",
   "execution_count": 18,
   "id": "d466fb13",
   "metadata": {},
   "outputs": [
    {
     "name": "stdout",
     "output_type": "stream",
     "text": [
      "Ticker: ABNB, MAPE: 8.42, MAE: 10.52\n",
      "**************************************************\n",
      "Ticker: AMZN, MAPE: 6.86, MAE: 14.03\n",
      "**************************************************\n",
      "Ticker: APTV, MAPE: 22.95, MAE: 13.97\n",
      "**************************************************\n",
      "Ticker: AZO, MAPE: 5.15, MAE: 172.76\n",
      "**************************************************\n",
      "Ticker: BBY, MAPE: 14.63, MAE: 12.49\n",
      "**************************************************\n",
      "Ticker: BKNG, MAPE: 19.32, MAE: 896.22\n",
      "**************************************************\n",
      "Ticker: CCL, MAPE: 32.07, MAE: 7.11\n",
      "**************************************************\n",
      "Ticker: CMG, MAPE: 15.24, MAE: 8.17\n",
      "**************************************************\n",
      "Ticker: CZR, MAPE: 13.13, MAE: 4.14\n",
      "**************************************************\n",
      "Ticker: DASH, MAPE: 5.08, MAE: 9.63\n",
      "**************************************************\n",
      "Ticker: DECK, MAPE: 17.03, MAE: 27.98\n",
      "**************************************************\n",
      "Ticker: DHI, MAPE: 13.41, MAE: 20.56\n",
      "**************************************************\n",
      "Ticker: DPZ, MAPE: 16.82, MAE: 73.09\n",
      "**************************************************\n",
      "Ticker: DRI, MAPE: 10.91, MAE: 19.94\n",
      "**************************************************\n",
      "Ticker: EBAY, MAPE: 16.94, MAE: 10.72\n",
      "**************************************************\n",
      "Ticker: EXPE, MAPE: 16.01, MAE: 26.43\n",
      "**************************************************\n",
      "Ticker: F, MAPE: 14.84, MAE: 1.48\n",
      "**************************************************\n",
      "Ticker: GM, MAPE: 7.74, MAE: 3.93\n",
      "**************************************************\n",
      "Ticker: GPC, MAPE: 21.30, MAE: 26.02\n",
      "**************************************************\n",
      "Ticker: GRMN, MAPE: 10.64, MAE: 21.92\n",
      "**************************************************\n",
      "Ticker: HAS, MAPE: 6.49, MAE: 4.08\n",
      "**************************************************\n",
      "Ticker: HD, MAPE: 8.32, MAE: 32.72\n",
      "**************************************************\n",
      "Ticker: HLT, MAPE: 10.81, MAE: 26.10\n",
      "**************************************************\n",
      "Ticker: KMX, MAPE: 12.00, MAE: 9.63\n",
      "**************************************************\n",
      "Ticker: LEN, MAPE: 15.96, MAE: 21.08\n",
      "**************************************************\n",
      "Ticker: LKQ, MAPE: 9.04, MAE: 3.48\n",
      "**************************************************\n",
      "Ticker: LOW, MAPE: 6.62, MAE: 16.30\n",
      "**************************************************\n",
      "Ticker: LULU, MAPE: 20.83, MAE: 58.84\n",
      "**************************************************\n",
      "Ticker: LVS, MAPE: 11.45, MAE: 4.78\n",
      "**************************************************\n",
      "Ticker: MAR, MAPE: 7.64, MAE: 20.20\n",
      "**************************************************\n",
      "Ticker: MCD, MAPE: 6.78, MAE: 19.63\n",
      "**************************************************\n",
      "Ticker: MGM, MAPE: 14.98, MAE: 5.05\n",
      "**************************************************\n",
      "Ticker: MHK, MAPE: 12.82, MAE: 18.11\n",
      "**************************************************\n",
      "Ticker: NCLH, MAPE: 29.69, MAE: 6.94\n",
      "**************************************************\n",
      "Ticker: NKE, MAPE: 24.49, MAE: 17.20\n",
      "**************************************************\n",
      "Ticker: NVR, MAPE: 9.55, MAE: 817.97\n",
      "**************************************************\n",
      "Ticker: ORLY, MAPE: 11.33, MAE: 142.70\n",
      "**************************************************\n",
      "Ticker: PHM, MAPE: 10.32, MAE: 12.14\n",
      "**************************************************\n",
      "Ticker: POOL, MAPE: 9.21, MAE: 29.97\n",
      "**************************************************\n",
      "Ticker: RCL, MAPE: 27.70, MAE: 59.74\n",
      "**************************************************\n",
      "Ticker: RL, MAPE: 17.74, MAE: 40.20\n",
      "**************************************************\n",
      "Ticker: ROST, MAPE: 9.13, MAE: 13.32\n",
      "**************************************************\n",
      "Ticker: SBUX, MAPE: 16.32, MAE: 15.92\n",
      "**************************************************\n",
      "Ticker: TJX, MAPE: 16.01, MAE: 18.99\n",
      "**************************************************\n",
      "Ticker: TPR, MAPE: 25.67, MAE: 16.87\n",
      "**************************************************\n",
      "Ticker: TSCO, MAPE: 3.72, MAE: 2.03\n",
      "**************************************************\n",
      "Ticker: TSLA, MAPE: 26.68, MAE: 86.72\n",
      "**************************************************\n",
      "Ticker: ULTA, MAPE: 9.11, MAE: 33.16\n",
      "**************************************************\n",
      "Ticker: WSM, MAPE: 11.04, MAE: 19.28\n",
      "**************************************************\n",
      "Ticker: WYNN, MAPE: 11.02, MAE: 8.94\n",
      "**************************************************\n",
      "Ticker: YUM, MAPE: 4.18, MAE: 5.84\n",
      "**************************************************\n"
     ]
    }
   ],
   "source": [
    "mapes_theta = {}\n",
    "maes_theta = {}\n",
    "\n",
    "for ticker in data.keys():\n",
    "    y_test = test[ticker]['close']\n",
    "    y_pred = models_theta[ticker].predict(\n",
    "        n=len(y_test),\n",
    "        show_warnings=False\n",
    "    )\n",
    "    mape_ = mape(y_test, y_pred)\n",
    "    mae_ = mae(y_test, y_pred)\n",
    "    mapes_theta[ticker] = mape_\n",
    "    maes_theta[ticker] = mae_\n",
    "    print(f\"Ticker: {ticker}, MAPE: {mape_:.2f}, MAE: {mae_:.2f}\")\n",
    "    print(\"*\" * 50)"
   ]
  },
  {
   "cell_type": "code",
   "execution_count": 19,
   "id": "25979024",
   "metadata": {},
   "outputs": [
    {
     "data": {
      "text/plain": [
       "(13.825863013585836, 58.21607323540278)"
      ]
     },
     "execution_count": 19,
     "metadata": {},
     "output_type": "execute_result"
    }
   ],
   "source": [
    "np.mean(list(mapes_theta.values())), np.mean(list(maes_theta.values()))"
   ]
  },
  {
   "cell_type": "markdown",
   "id": "d147b846",
   "metadata": {},
   "source": [
    "## Linear Regression"
   ]
  },
  {
   "cell_type": "markdown",
   "id": "6df2f493",
   "metadata": {},
   "source": [
    "### Local model"
   ]
  },
  {
   "cell_type": "code",
   "execution_count": 20,
   "id": "a98d2d26",
   "metadata": {},
   "outputs": [
    {
     "name": "stdout",
     "output_type": "stream",
     "text": [
      "Training model for ABNB\n",
      "Model for ABNB trained in 0.08 seconds\n",
      "**************************************************\n",
      "Training model for AMZN\n",
      "Model for AMZN trained in 0.12 seconds\n",
      "**************************************************\n",
      "Training model for APTV\n",
      "Model for APTV trained in 0.12 seconds\n",
      "**************************************************\n",
      "Training model for AZO\n",
      "Model for AZO trained in 0.12 seconds\n",
      "**************************************************\n",
      "Training model for BBY\n",
      "Model for BBY trained in 0.12 seconds\n",
      "**************************************************\n",
      "Training model for BKNG\n",
      "Model for BKNG trained in 0.17 seconds\n",
      "**************************************************\n",
      "Training model for CCL\n",
      "Model for CCL trained in 0.12 seconds\n",
      "**************************************************\n",
      "Training model for CMG\n",
      "Model for CMG trained in 0.12 seconds\n",
      "**************************************************\n",
      "Training model for CZR\n",
      "Model for CZR trained in 0.12 seconds\n",
      "**************************************************\n",
      "Training model for DASH\n",
      "Model for DASH trained in 0.08 seconds\n",
      "**************************************************\n",
      "Training model for DECK\n",
      "Model for DECK trained in 0.12 seconds\n",
      "**************************************************\n",
      "Training model for DHI\n",
      "Model for DHI trained in 0.12 seconds\n",
      "**************************************************\n",
      "Training model for DPZ\n",
      "Model for DPZ trained in 0.12 seconds\n",
      "**************************************************\n",
      "Training model for DRI\n",
      "Model for DRI trained in 0.12 seconds\n",
      "**************************************************\n",
      "Training model for EBAY\n",
      "Model for EBAY trained in 0.12 seconds\n",
      "**************************************************\n",
      "Training model for EXPE\n",
      "Model for EXPE trained in 0.12 seconds\n",
      "**************************************************\n",
      "Training model for F\n",
      "Model for F trained in 0.12 seconds\n",
      "**************************************************\n",
      "Training model for GM\n",
      "Model for GM trained in 0.12 seconds\n",
      "**************************************************\n",
      "Training model for GPC\n",
      "Model for GPC trained in 0.12 seconds\n",
      "**************************************************\n",
      "Training model for GRMN\n",
      "Model for GRMN trained in 0.12 seconds\n",
      "**************************************************\n",
      "Training model for HAS\n",
      "Model for HAS trained in 0.14 seconds\n",
      "**************************************************\n",
      "Training model for HD\n",
      "Model for HD trained in 0.13 seconds\n",
      "**************************************************\n",
      "Training model for HLT\n",
      "Model for HLT trained in 0.13 seconds\n",
      "**************************************************\n",
      "Training model for KMX\n",
      "Model for KMX trained in 0.12 seconds\n",
      "**************************************************\n",
      "Training model for LEN\n",
      "Model for LEN trained in 0.12 seconds\n",
      "**************************************************\n",
      "Training model for LKQ\n",
      "Model for LKQ trained in 0.12 seconds\n",
      "**************************************************\n",
      "Training model for LOW\n",
      "Model for LOW trained in 0.12 seconds\n",
      "**************************************************\n",
      "Training model for LULU\n",
      "Model for LULU trained in 0.12 seconds\n",
      "**************************************************\n",
      "Training model for LVS\n",
      "Model for LVS trained in 0.12 seconds\n",
      "**************************************************\n",
      "Training model for MAR\n",
      "Model for MAR trained in 0.12 seconds\n",
      "**************************************************\n",
      "Training model for MCD\n",
      "Model for MCD trained in 0.13 seconds\n",
      "**************************************************\n",
      "Training model for MGM\n",
      "Model for MGM trained in 0.12 seconds\n",
      "**************************************************\n",
      "Training model for MHK\n",
      "Model for MHK trained in 0.12 seconds\n",
      "**************************************************\n",
      "Training model for NCLH\n",
      "Model for NCLH trained in 0.12 seconds\n",
      "**************************************************\n",
      "Training model for NKE\n",
      "Model for NKE trained in 0.14 seconds\n",
      "**************************************************\n",
      "Training model for NVR\n",
      "Model for NVR trained in 0.12 seconds\n",
      "**************************************************\n",
      "Training model for ORLY\n",
      "Model for ORLY trained in 0.12 seconds\n",
      "**************************************************\n",
      "Training model for PHM\n",
      "Model for PHM trained in 0.12 seconds\n",
      "**************************************************\n",
      "Training model for POOL\n",
      "Model for POOL trained in 0.12 seconds\n",
      "**************************************************\n",
      "Training model for RCL\n",
      "Model for RCL trained in 0.12 seconds\n",
      "**************************************************\n",
      "Training model for RL\n",
      "Model for RL trained in 0.12 seconds\n",
      "**************************************************\n",
      "Training model for ROST\n",
      "Model for ROST trained in 0.12 seconds\n",
      "**************************************************\n",
      "Training model for SBUX\n",
      "Model for SBUX trained in 0.24 seconds\n",
      "**************************************************\n",
      "Training model for TJX\n",
      "Model for TJX trained in 0.14 seconds\n",
      "**************************************************\n",
      "Training model for TPR\n",
      "Model for TPR trained in 0.12 seconds\n",
      "**************************************************\n",
      "Training model for TSCO\n",
      "Model for TSCO trained in 0.12 seconds\n",
      "**************************************************\n",
      "Training model for TSLA\n",
      "Model for TSLA trained in 0.12 seconds\n",
      "**************************************************\n",
      "Training model for ULTA\n",
      "Model for ULTA trained in 0.12 seconds\n",
      "**************************************************\n",
      "Training model for WSM\n",
      "Model for WSM trained in 0.12 seconds\n",
      "**************************************************\n",
      "Training model for WYNN\n",
      "Model for WYNN trained in 0.12 seconds\n",
      "**************************************************\n",
      "Training model for YUM\n",
      "Model for YUM trained in 0.15 seconds\n",
      "**************************************************\n"
     ]
    }
   ],
   "source": [
    "models_lr = {}\n",
    "\n",
    "for ticker in data.keys():\n",
    "    print(f\"Training model for {ticker}\")\n",
    "    start = time.time()\n",
    "    model = LinearRegressionModel(\n",
    "        lags=15,\n",
    "        lags_past_covariates=1,\n",
    "        lags_future_covariates=[0],\n",
    "        output_chunk_length=1,\n",
    "        random_state=42,\n",
    "        add_encoders={\n",
    "            'datetime_attribute': {\n",
    "                'future': ['month', 'day', 'dayofweek', 'dayofyear', 'quarter', 'year'] # automatically generate future covariates from time series\n",
    "            }\n",
    "        }\n",
    "    )\n",
    "\n",
    "    model.fit(\n",
    "        train[ticker]['close'],\n",
    "        past_covariates=train[ticker][['high', 'low', 'volume', 'open']],\n",
    "    )\n",
    "\n",
    "    end = time.time()\n",
    "    print(f\"Model for {ticker} trained in {end - start:.2f} seconds\")\n",
    "    print(\"*\" * 50)\n",
    "\n",
    "    models_lr[ticker] = model"
   ]
  },
  {
   "cell_type": "code",
   "execution_count": 21,
   "id": "79a5002a",
   "metadata": {},
   "outputs": [
    {
     "name": "stdout",
     "output_type": "stream",
     "text": [
      "Ticker: ABNB, MAPE: 7.43, MAE: 9.48\n",
      "**************************************************\n",
      "Ticker: AMZN, MAPE: 2.38, MAE: 4.64\n",
      "**************************************************\n",
      "Ticker: APTV, MAPE: 4.35, MAE: 2.70\n",
      "**************************************************\n",
      "Ticker: AZO, MAPE: 2.87, MAE: 94.43\n",
      "**************************************************\n",
      "Ticker: BBY, MAPE: 142861.87, MAE: 97222.34\n",
      "**************************************************\n",
      "Ticker: BKNG, MAPE: 16.05, MAE: 738.83\n",
      "**************************************************\n",
      "Ticker: CCL, MAPE: 3.65, MAE: 0.72\n",
      "**************************************************\n",
      "Ticker: CMG, MAPE: 4.55, MAE: 2.50\n",
      "**************************************************\n",
      "Ticker: CZR, MAPE: 273692.53, MAE: 73975.93\n",
      "**************************************************\n",
      "Ticker: DASH, MAPE: 3.67, MAE: 6.89\n",
      "**************************************************\n",
      "Ticker: DECK, MAPE: 223808992068.49, MAE: 246600283839.76\n",
      "**************************************************\n",
      "Ticker: DHI, MAPE: 6.70, MAE: 10.35\n",
      "**************************************************\n",
      "Ticker: DPZ, MAPE: 4.66, MAE: 20.35\n",
      "**************************************************\n",
      "Ticker: DRI, MAPE: 2.39, MAE: 4.14\n",
      "**************************************************\n",
      "Ticker: EBAY, MAPE: 2.65, MAE: 1.64\n",
      "**************************************************\n",
      "Ticker: EXPE, MAPE: 3.72, MAE: 5.66\n",
      "**************************************************\n",
      "Ticker: F, MAPE: 2560497.68, MAE: 250359.51\n",
      "**************************************************\n",
      "Ticker: GM, MAPE: 10.05, MAE: 5.02\n",
      "**************************************************\n",
      "Ticker: GPC, MAPE: 4.51, MAE: 5.53\n",
      "**************************************************\n",
      "Ticker: GRMN, MAPE: 5.67, MAE: 11.33\n",
      "**************************************************\n",
      "Ticker: HAS, MAPE: 4.01, MAE: 2.43\n",
      "**************************************************\n",
      "Ticker: HD, MAPE: 2.20, MAE: 8.30\n",
      "**************************************************\n",
      "Ticker: HLT, MAPE: 120.26, MAE: 282.87\n",
      "**************************************************\n",
      "Ticker: KMX, MAPE: 5.84, MAE: 4.40\n",
      "**************************************************\n",
      "Ticker: LEN, MAPE: 3.49, MAE: 4.98\n",
      "**************************************************\n",
      "Ticker: LKQ, MAPE: 37.84, MAE: 14.81\n",
      "**************************************************\n",
      "Ticker: LOW, MAPE: 2.94, MAE: 7.07\n",
      "**************************************************\n",
      "Ticker: LULU, MAPE: 11.81, MAE: 33.78\n",
      "**************************************************\n",
      "Ticker: LVS, MAPE: 3.08, MAE: 1.32\n",
      "**************************************************\n",
      "Ticker: MAR, MAPE: 3.57, MAE: 8.98\n",
      "**************************************************\n",
      "Ticker: MCD, MAPE: 1.97, MAE: 5.53\n",
      "**************************************************\n",
      "Ticker: MGM, MAPE: 3.39, MAE: 1.20\n",
      "**************************************************\n",
      "Ticker: MHK, MAPE: 8.13, MAE: 11.55\n",
      "**************************************************\n",
      "Ticker: NCLH, MAPE: 6.32, MAE: 1.37\n",
      "**************************************************\n",
      "Ticker: NKE, MAPE: 55071042.78, MAE: 32305952.55\n",
      "**************************************************\n",
      "Ticker: NVR, MAPE: 2.00, MAE: 166.10\n",
      "**************************************************\n",
      "Ticker: ORLY, MAPE: 1.68, MAE: 20.35\n",
      "**************************************************\n",
      "Ticker: PHM, MAPE: 3.39, MAE: 3.97\n",
      "**************************************************\n",
      "Ticker: POOL, MAPE: 193.03, MAE: 628.16\n",
      "**************************************************\n",
      "Ticker: RCL, MAPE: 4.33, MAE: 8.72\n",
      "**************************************************\n",
      "Ticker: RL, MAPE: 3.76, MAE: 7.96\n",
      "**************************************************\n",
      "Ticker: ROST, MAPE: 2.63, MAE: 3.73\n",
      "**************************************************\n",
      "Ticker: SBUX, MAPE: 4.48, MAE: 4.11\n",
      "**************************************************\n",
      "Ticker: TJX, MAPE: 2.16, MAE: 2.53\n",
      "**************************************************\n",
      "Ticker: TPR, MAPE: 6.80, MAE: 4.12\n",
      "**************************************************\n",
      "Ticker: TSCO, MAPE: 132.54, MAE: 70.32\n",
      "**************************************************\n",
      "Ticker: TSLA, MAPE: 6.56, MAE: 18.44\n",
      "**************************************************\n",
      "Ticker: ULTA, MAPE: 3.84, MAE: 14.22\n",
      "**************************************************\n",
      "Ticker: WSM, MAPE: 5.24, MAE: 8.36\n",
      "**************************************************\n",
      "Ticker: WYNN, MAPE: 3.17, MAE: 2.70\n",
      "**************************************************\n",
      "Ticker: YUM, MAPE: 2.01, MAE: 2.78\n",
      "**************************************************\n"
     ]
    }
   ],
   "source": [
    "mapes_lr = {}\n",
    "maes_lr = {}\n",
    "\n",
    "for ticker in data.keys():\n",
    "    y_test = test[ticker]['close']\n",
    "    y_pred = models_lr[ticker].predict(\n",
    "        n=len(y_test),\n",
    "        past_covariates=test[ticker][['high', 'low', 'volume', 'open']],\n",
    "        show_warnings=False\n",
    "    )\n",
    "    mape_ = mape(y_test, y_pred)\n",
    "    mae_ = mae(y_test, y_pred)\n",
    "    mapes_lr[ticker] = mape_\n",
    "    maes_lr[ticker] = mae_\n",
    "    print(f\"Ticker: {ticker}, MAPE: {mape_:.2f}, MAE: {mae_:.2f}\")\n",
    "    print(\"*\" * 50)"
   ]
  },
  {
   "cell_type": "code",
   "execution_count": 22,
   "id": "1a3fbd8d",
   "metadata": {},
   "outputs": [
    {
     "data": {
      "text/plain": [
       "(4389549820.414343, 4835941443.714583)"
      ]
     },
     "execution_count": 22,
     "metadata": {},
     "output_type": "execute_result"
    }
   ],
   "source": [
    "np.mean(list(mapes_lr.values())), np.mean(list(maes_lr.values()))"
   ]
  },
  {
   "cell_type": "markdown",
   "id": "1f27462f",
   "metadata": {},
   "source": [
    "### Global model"
   ]
  },
  {
   "cell_type": "code",
   "execution_count": 23,
   "id": "3879adfb",
   "metadata": {},
   "outputs": [
    {
     "name": "stdout",
     "output_type": "stream",
     "text": [
      "Training global model\n",
      "Global model trained in 6.17 seconds\n",
      "**************************************************\n"
     ]
    }
   ],
   "source": [
    "print(f\"Training global model\")\n",
    "start = time.time()\n",
    "model = LinearRegressionModel(\n",
    "    lags=15,\n",
    "    lags_past_covariates=1,\n",
    "    lags_future_covariates=[0],\n",
    "    output_chunk_length=1,\n",
    "    random_state=42,\n",
    "    add_encoders={\n",
    "        'datetime_attribute': {\n",
    "            'future': ['month', 'day', 'dayofweek', 'dayofyear', 'quarter', 'year'] # automatically generate future covariates from time series\n",
    "        }\n",
    "    }\n",
    ")\n",
    "\n",
    "model.fit(\n",
    "    [ts['close'] for ts in train.values()],\n",
    "    past_covariates=[ts[['high', 'low', 'volume', 'open']] for ts in train.values()],\n",
    ")\n",
    "\n",
    "end = time.time()\n",
    "print(f\"Global model trained in {end - start:.2f} seconds\")\n",
    "print(\"*\" * 50)"
   ]
  },
  {
   "cell_type": "code",
   "execution_count": 24,
   "id": "545bdc45",
   "metadata": {},
   "outputs": [
    {
     "name": "stdout",
     "output_type": "stream",
     "text": [
      "Global model for ABNB, MAPE: 3.31, MAE: 4.30\n",
      "**************************************************\n",
      "Global model for AMZN, MAPE: 2.75, MAE: 5.35\n",
      "**************************************************\n",
      "Global model for APTV, MAPE: 3.63, MAE: 2.27\n",
      "**************************************************\n",
      "Global model for AZO, MAPE: 1.67, MAE: 53.72\n",
      "**************************************************\n",
      "Global model for BBY, MAPE: 3.60, MAE: 2.90\n",
      "**************************************************\n",
      "Global model for BKNG, MAPE: 2.77, MAE: 120.58\n",
      "**************************************************\n",
      "Global model for CCL, MAPE: 4.34, MAE: 0.82\n",
      "**************************************************\n",
      "Global model for CMG, MAPE: 2.82, MAE: 1.58\n",
      "**************************************************\n",
      "Global model for CZR, MAPE: 4.62, MAE: 1.61\n",
      "**************************************************\n",
      "Global model for DASH, MAPE: 3.12, MAE: 5.79\n",
      "**************************************************\n",
      "Global model for DECK, MAPE: 4.63, MAE: 7.13\n",
      "**************************************************\n",
      "Global model for DHI, MAPE: 3.22, MAE: 4.91\n",
      "**************************************************\n",
      "Global model for DPZ, MAPE: 2.62, MAE: 11.63\n",
      "**************************************************\n",
      "Global model for DRI, MAPE: 2.12, MAE: 3.59\n",
      "**************************************************\n",
      "Global model for EBAY, MAPE: 2.16, MAE: 1.32\n",
      "**************************************************\n",
      "Global model for EXPE, MAPE: 3.78, MAE: 5.67\n",
      "**************************************************\n",
      "Global model for F, MAPE: 8.02, MAE: 0.81\n",
      "**************************************************\n",
      "Global model for GM, MAPE: 3.07, MAE: 1.47\n",
      "**************************************************\n",
      "Global model for GPC, MAPE: 2.48, MAE: 3.08\n",
      "**************************************************\n",
      "Global model for GRMN, MAPE: 2.49, MAE: 4.71\n",
      "**************************************************\n",
      "Global model for HAS, MAPE: 3.26, MAE: 1.97\n",
      "**************************************************\n",
      "Global model for HD, MAPE: 2.12, MAE: 7.92\n",
      "**************************************************\n",
      "Global model for HLT, MAPE: 2.04, MAE: 4.64\n",
      "**************************************************\n",
      "Global model for KMX, MAPE: 3.24, MAE: 2.46\n",
      "**************************************************\n",
      "Global model for LEN, MAPE: 3.24, MAE: 4.64\n",
      "**************************************************\n",
      "Global model for LKQ, MAPE: 3.08, MAE: 1.20\n",
      "**************************************************\n",
      "Global model for LOW, MAPE: 2.22, MAE: 5.33\n",
      "**************************************************\n",
      "Global model for LULU, MAPE: 4.10, MAE: 12.56\n",
      "**************************************************\n",
      "Global model for LVS, MAPE: 3.83, MAE: 1.64\n",
      "**************************************************\n",
      "Global model for MAR, MAPE: 2.44, MAE: 6.03\n",
      "**************************************************\n",
      "Global model for MCD, MAPE: 1.73, MAE: 4.90\n",
      "**************************************************\n",
      "Global model for MGM, MAPE: 3.89, MAE: 1.40\n",
      "**************************************************\n",
      "Global model for MHK, MAPE: 3.34, MAE: 4.33\n",
      "**************************************************\n",
      "Global model for NCLH, MAPE: 4.78, MAE: 0.95\n",
      "**************************************************\n",
      "Global model for NKE, MAPE: 4.11, MAE: 3.00\n",
      "**************************************************\n",
      "Global model for NVR, MAPE: 2.31, MAE: 189.45\n",
      "**************************************************\n",
      "Global model for ORLY, MAPE: 1.66, MAE: 19.85\n",
      "**************************************************\n",
      "Global model for PHM, MAPE: 3.27, MAE: 3.84\n",
      "**************************************************\n",
      "Global model for POOL, MAPE: 2.58, MAE: 8.68\n",
      "**************************************************\n",
      "Global model for RCL, MAPE: 3.50, MAE: 7.00\n",
      "**************************************************\n",
      "Global model for RL, MAPE: 3.18, MAE: 6.61\n",
      "**************************************************\n",
      "Global model for ROST, MAPE: 2.27, MAE: 3.21\n",
      "**************************************************\n",
      "Global model for SBUX, MAPE: 3.26, MAE: 2.97\n",
      "**************************************************\n",
      "Global model for TJX, MAPE: 1.68, MAE: 1.94\n",
      "**************************************************\n",
      "Global model for TPR, MAPE: 3.59, MAE: 2.07\n",
      "**************************************************\n",
      "Global model for TSCO, MAPE: 2.70, MAE: 1.45\n",
      "**************************************************\n",
      "Global model for TSLA, MAPE: 6.28, MAE: 17.91\n",
      "**************************************************\n",
      "Global model for ULTA, MAPE: 3.23, MAE: 12.05\n",
      "**************************************************\n",
      "Global model for WSM, MAPE: 4.33, MAE: 6.89\n",
      "**************************************************\n",
      "Global model for WYNN, MAPE: 3.73, MAE: 3.17\n",
      "**************************************************\n",
      "Global model for YUM, MAPE: 2.23, MAE: 3.07\n",
      "**************************************************\n"
     ]
    }
   ],
   "source": [
    "mapes = {}\n",
    "maes = {}\n",
    "\n",
    "for ticker in data.keys():\n",
    "    y_pred = model.predict(\n",
    "        n=len(test[ticker]['close']),\n",
    "        series=train[ticker]['close'],\n",
    "        past_covariates=test[ticker][['high', 'low', 'volume', 'open']],\n",
    "        show_warnings=False\n",
    "    )\n",
    "    y_test = test[ticker]['close']\n",
    "    mape_ = mape(y_test, y_pred)\n",
    "    mae_ = mae(y_test, y_pred)\n",
    "\n",
    "    mapes[ticker] = mape_\n",
    "    maes[ticker] = mae_\n",
    "\n",
    "    print(f\"Global model for {ticker}, MAPE: {mape_:.2f}, MAE: {mae_:.2f}\")\n",
    "    print(\"*\" * 50)"
   ]
  },
  {
   "cell_type": "code",
   "execution_count": 25,
   "id": "40364019",
   "metadata": {},
   "outputs": [
    {
     "data": {
      "text/plain": [
       "(3.2243200478544516, 11.6941244901704)"
      ]
     },
     "execution_count": 25,
     "metadata": {},
     "output_type": "execute_result"
    }
   ],
   "source": [
    "np.mean(list(mapes.values())), np.mean(list(maes.values()))"
   ]
  },
  {
   "cell_type": "markdown",
   "id": "2f8b2494",
   "metadata": {},
   "source": [
    "## ARIMA"
   ]
  },
  {
   "cell_type": "code",
   "execution_count": 32,
   "id": "607d5755",
   "metadata": {},
   "outputs": [
    {
     "name": "stdout",
     "output_type": "stream",
     "text": [
      "Training model for ABNB\n",
      "Model for ABNB trained in 0.13 seconds\n",
      "**************************************************\n",
      "Training model for AMZN\n",
      "Model for AMZN trained in 0.21 seconds\n",
      "**************************************************\n",
      "Training model for APTV\n",
      "Model for APTV trained in 0.23 seconds\n",
      "**************************************************\n",
      "Training model for AZO\n",
      "Model for AZO trained in 0.21 seconds\n",
      "**************************************************\n",
      "Training model for BBY\n",
      "Model for BBY trained in 0.24 seconds\n",
      "**************************************************\n",
      "Training model for BKNG\n",
      "Model for BKNG trained in 0.19 seconds\n",
      "**************************************************\n",
      "Training model for CCL\n",
      "Model for CCL trained in 0.21 seconds\n",
      "**************************************************\n",
      "Training model for CMG\n",
      "Model for CMG trained in 0.39 seconds\n",
      "**************************************************\n",
      "Training model for CZR\n",
      "Model for CZR trained in 1.46 seconds\n",
      "**************************************************\n",
      "Training model for DASH\n",
      "Model for DASH trained in 0.14 seconds\n",
      "**************************************************\n",
      "Training model for DECK\n",
      "Model for DECK trained in 0.54 seconds\n",
      "**************************************************\n",
      "Training model for DHI\n",
      "Model for DHI trained in 0.94 seconds\n",
      "**************************************************\n",
      "Training model for DPZ\n",
      "Model for DPZ trained in 0.91 seconds\n",
      "**************************************************\n",
      "Training model for DRI\n",
      "Model for DRI trained in 3.80 seconds\n",
      "**************************************************\n",
      "Training model for EBAY\n",
      "Model for EBAY trained in 0.18 seconds\n",
      "**************************************************\n",
      "Training model for EXPE\n",
      "Model for EXPE trained in 1.50 seconds\n",
      "**************************************************\n",
      "Training model for F\n",
      "Model for F trained in 0.20 seconds\n",
      "**************************************************\n",
      "Training model for GM\n",
      "Model for GM trained in 0.20 seconds\n",
      "**************************************************\n",
      "Training model for GPC\n",
      "Model for GPC trained in 3.23 seconds\n",
      "**************************************************\n",
      "Training model for GRMN\n",
      "Model for GRMN trained in 1.61 seconds\n",
      "**************************************************\n",
      "Training model for HAS\n",
      "Model for HAS trained in 0.18 seconds\n",
      "**************************************************\n",
      "Training model for HD\n",
      "Model for HD trained in 0.22 seconds\n",
      "**************************************************\n",
      "Training model for HLT\n",
      "Model for HLT trained in 0.94 seconds\n",
      "**************************************************\n",
      "Training model for KMX\n",
      "Model for KMX trained in 0.22 seconds\n",
      "**************************************************\n",
      "Training model for LEN\n",
      "Model for LEN trained in 0.86 seconds\n",
      "**************************************************\n",
      "Training model for LKQ\n",
      "Model for LKQ trained in 0.24 seconds\n",
      "**************************************************\n",
      "Training model for LOW\n",
      "Model for LOW trained in 0.69 seconds\n",
      "**************************************************\n",
      "Training model for LULU\n",
      "Model for LULU trained in 1.31 seconds\n",
      "**************************************************\n",
      "Training model for LVS\n",
      "Model for LVS trained in 0.19 seconds\n",
      "**************************************************\n",
      "Training model for MAR\n",
      "Model for MAR trained in 1.37 seconds\n",
      "**************************************************\n",
      "Training model for MCD\n",
      "Model for MCD trained in 0.95 seconds\n",
      "**************************************************\n",
      "Training model for MGM\n",
      "Model for MGM trained in 0.19 seconds\n",
      "**************************************************\n",
      "Training model for MHK\n",
      "Model for MHK trained in 0.20 seconds\n",
      "**************************************************\n",
      "Training model for NCLH\n",
      "Model for NCLH trained in 0.99 seconds\n",
      "**************************************************\n",
      "Training model for NKE\n",
      "Model for NKE trained in 0.21 seconds\n",
      "**************************************************\n",
      "Training model for NVR\n",
      "Model for NVR trained in 1.31 seconds\n",
      "**************************************************\n",
      "Training model for ORLY\n",
      "Model for ORLY trained in 0.57 seconds\n",
      "**************************************************\n",
      "Training model for PHM\n",
      "Model for PHM trained in 0.28 seconds\n",
      "**************************************************\n",
      "Training model for POOL\n",
      "Model for POOL trained in 0.19 seconds\n",
      "**************************************************\n",
      "Training model for RCL\n",
      "Model for RCL trained in 0.68 seconds\n",
      "**************************************************\n",
      "Training model for RL\n",
      "Model for RL trained in 1.42 seconds\n",
      "**************************************************\n",
      "Training model for ROST\n",
      "Model for ROST trained in 0.21 seconds\n",
      "**************************************************\n",
      "Training model for SBUX\n",
      "Model for SBUX trained in 0.40 seconds\n",
      "**************************************************\n",
      "Training model for TJX\n",
      "Model for TJX trained in 0.72 seconds\n",
      "**************************************************\n",
      "Training model for TPR\n",
      "Model for TPR trained in 0.24 seconds\n",
      "**************************************************\n",
      "Training model for TSCO\n",
      "Model for TSCO trained in 2.01 seconds\n",
      "**************************************************\n",
      "Training model for TSLA\n",
      "Model for TSLA trained in 0.20 seconds\n",
      "**************************************************\n",
      "Training model for ULTA\n",
      "Model for ULTA trained in 0.20 seconds\n",
      "**************************************************\n",
      "Training model for WSM\n",
      "Model for WSM trained in 1.51 seconds\n",
      "**************************************************\n",
      "Training model for WYNN\n",
      "Model for WYNN trained in 0.18 seconds\n",
      "**************************************************\n",
      "Training model for YUM\n",
      "Model for YUM trained in 0.22 seconds\n",
      "**************************************************\n"
     ]
    }
   ],
   "source": [
    "models_arima = {}\n",
    "\n",
    "for ticker in data.keys():\n",
    "    print(f\"Training model for {ticker}\")\n",
    "    start = time.time()\n",
    "    model = AutoARIMA()\n",
    "\n",
    "    model.fit(\n",
    "        series=train[ticker]['close'],\n",
    "    )\n",
    "\n",
    "    end = time.time()\n",
    "    print(f\"Model for {ticker} trained in {end - start:.2f} seconds\")\n",
    "    print(\"*\" * 50)\n",
    "\n",
    "    models_arima[ticker] = model"
   ]
  },
  {
   "cell_type": "code",
   "execution_count": 33,
   "id": "5a6f841e",
   "metadata": {},
   "outputs": [
    {
     "name": "stdout",
     "output_type": "stream",
     "text": [
      "Ticker: ABNB, MAPE: 9.66, MAE: 12.02\n",
      "**************************************************\n",
      "Ticker: AMZN, MAPE: 6.86, MAE: 13.93\n",
      "**************************************************\n",
      "Ticker: APTV, MAPE: 20.94, MAE: 12.74\n",
      "**************************************************\n",
      "Ticker: AZO, MAPE: 5.16, MAE: 173.28\n",
      "**************************************************\n",
      "Ticker: BBY, MAPE: 16.77, MAE: 14.50\n",
      "**************************************************\n",
      "Ticker: BKNG, MAPE: 20.15, MAE: 934.94\n",
      "**************************************************\n",
      "Ticker: CCL, MAPE: 25.71, MAE: 5.77\n",
      "**************************************************\n",
      "Ticker: CMG, MAPE: 29.17, MAE: 15.82\n",
      "**************************************************\n",
      "Ticker: CZR, MAPE: 11.60, MAE: 3.86\n",
      "**************************************************\n",
      "Ticker: DASH, MAPE: 5.04, MAE: 9.52\n",
      "**************************************************\n",
      "Ticker: DECK, MAPE: 17.47, MAE: 25.43\n",
      "**************************************************\n",
      "Ticker: DHI, MAPE: 13.66, MAE: 20.84\n",
      "**************************************************\n",
      "Ticker: DPZ, MAPE: 17.52, MAE: 76.21\n",
      "**************************************************\n",
      "Ticker: DRI, MAPE: 13.45, MAE: 24.60\n",
      "**************************************************\n",
      "Ticker: EBAY, MAPE: 19.45, MAE: 12.30\n",
      "**************************************************\n",
      "Ticker: EXPE, MAPE: 16.32, MAE: 26.93\n",
      "**************************************************\n",
      "Ticker: F, MAPE: 13.95, MAE: 1.39\n",
      "**************************************************\n",
      "Ticker: GM, MAPE: 8.44, MAE: 4.28\n",
      "**************************************************\n",
      "Ticker: GPC, MAPE: 19.81, MAE: 24.23\n",
      "**************************************************\n",
      "Ticker: GRMN, MAPE: 10.02, MAE: 20.61\n",
      "**************************************************\n",
      "Ticker: HAS, MAPE: 6.51, MAE: 4.10\n",
      "**************************************************\n",
      "Ticker: HD, MAPE: 8.55, MAE: 33.62\n",
      "**************************************************\n",
      "Ticker: HLT, MAPE: 10.42, MAE: 25.18\n",
      "**************************************************\n",
      "Ticker: KMX, MAPE: 11.70, MAE: 9.39\n",
      "**************************************************\n",
      "Ticker: LEN, MAPE: 16.42, MAE: 21.52\n",
      "**************************************************\n",
      "Ticker: LKQ, MAPE: 7.00, MAE: 2.68\n",
      "**************************************************\n",
      "Ticker: LOW, MAPE: 8.10, MAE: 20.50\n",
      "**************************************************\n",
      "Ticker: LULU, MAPE: 18.54, MAE: 53.31\n",
      "**************************************************\n",
      "Ticker: LVS, MAPE: 11.36, MAE: 4.75\n",
      "**************************************************\n",
      "Ticker: MAR, MAPE: 8.74, MAE: 23.52\n",
      "**************************************************\n",
      "Ticker: MCD, MAPE: 5.54, MAE: 15.87\n",
      "**************************************************\n",
      "Ticker: MGM, MAPE: 13.66, MAE: 4.60\n",
      "**************************************************\n",
      "Ticker: MHK, MAPE: 11.32, MAE: 15.99\n",
      "**************************************************\n",
      "Ticker: NCLH, MAPE: 24.21, MAE: 5.75\n",
      "**************************************************\n",
      "Ticker: NKE, MAPE: 20.44, MAE: 14.32\n",
      "**************************************************\n",
      "Ticker: NVR, MAPE: 9.58, MAE: 814.29\n",
      "**************************************************\n",
      "Ticker: ORLY, MAPE: 11.39, MAE: 143.53\n",
      "**************************************************\n",
      "Ticker: PHM, MAPE: 14.31, MAE: 15.70\n",
      "**************************************************\n",
      "Ticker: POOL, MAPE: 5.82, MAE: 19.00\n",
      "**************************************************\n",
      "Ticker: RCL, MAPE: 27.72, MAE: 59.78\n",
      "**************************************************\n",
      "Ticker: RL, MAPE: 18.56, MAE: 41.94\n",
      "**************************************************\n",
      "Ticker: ROST, MAPE: 11.38, MAE: 16.62\n",
      "**************************************************\n",
      "Ticker: SBUX, MAPE: 18.27, MAE: 17.77\n",
      "**************************************************\n",
      "Ticker: TJX, MAPE: 16.12, MAE: 19.11\n",
      "**************************************************\n",
      "Ticker: TPR, MAPE: 26.46, MAE: 17.32\n",
      "**************************************************\n",
      "Ticker: TSCO, MAPE: 4.25, MAE: 2.28\n",
      "**************************************************\n",
      "Ticker: TSLA, MAPE: 29.59, MAE: 95.09\n",
      "**************************************************\n",
      "Ticker: ULTA, MAPE: 6.62, MAE: 24.38\n",
      "**************************************************\n",
      "Ticker: WSM, MAPE: 10.80, MAE: 18.71\n",
      "**************************************************\n",
      "Ticker: WYNN, MAPE: 11.28, MAE: 9.14\n",
      "**************************************************\n",
      "Ticker: YUM, MAPE: 4.61, MAE: 6.67\n",
      "**************************************************\n"
     ]
    }
   ],
   "source": [
    "mapes_arima = {}\n",
    "maes_arima = {}\n",
    "\n",
    "for ticker in data.keys():\n",
    "    y_test = test[ticker]['close']\n",
    "    y_pred = models_arima[ticker].predict(\n",
    "        n=len(y_test),\n",
    "        show_warnings=False\n",
    "    )\n",
    "    mape_ = mape(y_test, y_pred)\n",
    "    mae_ = mae(y_test, y_pred)\n",
    "    mapes_arima[ticker] = mape_\n",
    "    maes_arima[ticker] = mae_\n",
    "    print(f\"Ticker: {ticker}, MAPE: {mape_:.2f}, MAE: {mae_:.2f}\")\n",
    "    print(\"*\" * 50)"
   ]
  },
  {
   "cell_type": "code",
   "execution_count": 34,
   "id": "bad97313",
   "metadata": {},
   "outputs": [
    {
     "data": {
      "text/plain": [
       "(13.930011477783392, 59.01241972004467)"
      ]
     },
     "execution_count": 34,
     "metadata": {},
     "output_type": "execute_result"
    }
   ],
   "source": [
    "np.mean(list(mapes_arima.values())), np.mean(list(maes_arima.values()))"
   ]
  }
 ],
 "metadata": {
  "kernelspec": {
   "display_name": ".venv",
   "language": "python",
   "name": "python3"
  },
  "language_info": {
   "codemirror_mode": {
    "name": "ipython",
    "version": 3
   },
   "file_extension": ".py",
   "mimetype": "text/x-python",
   "name": "python",
   "nbconvert_exporter": "python",
   "pygments_lexer": "ipython3",
   "version": "3.12.1"
  }
 },
 "nbformat": 4,
 "nbformat_minor": 5
}
