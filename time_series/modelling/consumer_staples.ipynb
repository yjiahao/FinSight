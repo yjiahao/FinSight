{
 "cells": [
  {
   "cell_type": "markdown",
   "id": "a132de14",
   "metadata": {},
   "source": [
    "## Model training and tuning for the consumer discretionary sector"
   ]
  },
  {
   "cell_type": "code",
   "execution_count": 27,
   "id": "d74fe196",
   "metadata": {},
   "outputs": [],
   "source": [
    "import pandas as pd\n",
    "import numpy as np\n",
    "\n",
    "import time\n",
    "\n",
    "from darts import TimeSeries, concatenate\n",
    "from darts.utils.model_selection import train_test_split\n",
    "from darts.models.forecasting.xgboost import XGBModel\n",
    "from darts.dataprocessing.transformers.scaler import Scaler\n",
    "from darts.metrics.metrics import mape, mae\n",
    "from darts.models.forecasting.prophet_model import Prophet\n",
    "from darts.models.forecasting.sf_auto_theta import AutoTheta\n",
    "from darts.models.forecasting.linear_regression_model import LinearRegressionModel\n",
    "from darts.dataprocessing.transformers import StaticCovariatesTransformer\n",
    "from darts.models.forecasting.sf_auto_arima import AutoARIMA\n",
    "from darts.dataprocessing.transformers.boxcox import BoxCox"
   ]
  },
  {
   "cell_type": "code",
   "execution_count": 2,
   "id": "8c7af10f",
   "metadata": {},
   "outputs": [],
   "source": [
    "df = pd.read_csv('../../data/processed/sp500_all_companies_cleaned_with_sector.csv')\n",
    "df['date'] = pd.to_datetime(df['date'])\n",
    "\n",
    "df_staples = df[df['GICS Sector'] == 'Consumer Staples'].sort_values(by=['ticker', 'date']).reset_index(drop=True)"
   ]
  },
  {
   "cell_type": "code",
   "execution_count": 3,
   "id": "ece8cf77",
   "metadata": {},
   "outputs": [
    {
     "data": {
      "text/plain": [
       "GICS Sector\n",
       "Industrials               193459\n",
       "Financials                190485\n",
       "Information Technology    177149\n",
       "Health Care               151348\n",
       "Consumer Discretionary    130185\n",
       "Consumer Staples           96649\n",
       "Real Estate                79757\n",
       "Utilities                  78786\n",
       "Materials                  63394\n",
       "Energy                     58523\n",
       "Communication Services     58017\n",
       "Name: count, dtype: int64"
      ]
     },
     "execution_count": 3,
     "metadata": {},
     "output_type": "execute_result"
    }
   ],
   "source": [
    "df['GICS Sector'].value_counts()"
   ]
  },
  {
   "cell_type": "code",
   "execution_count": 4,
   "id": "3a82775d",
   "metadata": {},
   "outputs": [
    {
     "data": {
      "text/plain": [
       "array(['ADM', 'BF-B', 'BG', 'CAG', 'CHD', 'CL', 'CLX', 'COST', 'CPB',\n",
       "       'DG', 'DLTR', 'EL', 'GIS', 'HRL', 'HSY', 'K', 'KDP', 'KHC', 'KMB',\n",
       "       'KO', 'KR', 'KVUE', 'LW', 'MDLZ', 'MKC', 'MNST', 'MO', 'PEP', 'PG',\n",
       "       'PM', 'SJM', 'STZ', 'SYY', 'TAP', 'TGT', 'TSN', 'WBA', 'WMT'],\n",
       "      dtype=object)"
      ]
     },
     "execution_count": 4,
     "metadata": {},
     "output_type": "execute_result"
    }
   ],
   "source": [
    "df_staples['ticker'].unique()"
   ]
  },
  {
   "cell_type": "code",
   "execution_count": 5,
   "id": "92847a29",
   "metadata": {},
   "outputs": [],
   "source": [
    "data = {}\n",
    "static_covs = pd.DataFrame({'ticker': df_staples['ticker'].unique()})\n",
    "\n",
    "for ticker, group in df_staples.groupby('ticker'):\n",
    "    series = TimeSeries.from_dataframe(\n",
    "        group,\n",
    "        time_col='date',\n",
    "        value_cols=['close', 'high', 'low', 'open', 'volume'],\n",
    "        freq='B',\n",
    "        static_covariates=pd.Series(ticker)\n",
    "    )\n",
    "    data[ticker] = series"
   ]
  },
  {
   "cell_type": "code",
   "execution_count": 6,
   "id": "64b0d57f",
   "metadata": {},
   "outputs": [],
   "source": [
    "# encode each ticker as a static covariate\n",
    "transformer = StaticCovariatesTransformer()\n",
    "ts = [d for d in data.values()]\n",
    "transformer.fit(ts)\n",
    "\n",
    "for ticker, series in data.items():\n",
    "    data[ticker] = transformer.transform(series)"
   ]
  },
  {
   "cell_type": "code",
   "execution_count": 7,
   "id": "8ebc137c",
   "metadata": {},
   "outputs": [],
   "source": [
    "train = {}\n",
    "test = {}\n",
    "\n",
    "for ticker, series in data.items():\n",
    "    train[ticker], test[ticker] = train_test_split(series, test_size=0.1)\n",
    "    last_train = train[ticker][-1:]\n",
    "    test_with_context = last_train.append(test[ticker]) # append last point of train to test as our forecast requires it\n",
    "    test[ticker] = test_with_context"
   ]
  },
  {
   "cell_type": "markdown",
   "id": "2ff40656",
   "metadata": {},
   "source": [
    "## Gradient Boosting"
   ]
  },
  {
   "cell_type": "markdown",
   "id": "ab5a6a61",
   "metadata": {},
   "source": [
    "### Train a local model first"
   ]
  },
  {
   "cell_type": "code",
   "execution_count": 8,
   "id": "630b92e0",
   "metadata": {},
   "outputs": [
    {
     "name": "stdout",
     "output_type": "stream",
     "text": [
      "Training model for ADM\n",
      "Model for ADM trained in 0.28 seconds\n",
      "**************************************************\n",
      "Training model for BF-B\n",
      "Model for BF-B trained in 0.31 seconds\n",
      "**************************************************\n",
      "Training model for BG\n",
      "Model for BG trained in 0.32 seconds\n",
      "**************************************************\n",
      "Training model for CAG\n",
      "Model for CAG trained in 0.30 seconds\n",
      "**************************************************\n",
      "Training model for CHD\n",
      "Model for CHD trained in 0.32 seconds\n",
      "**************************************************\n",
      "Training model for CL\n",
      "Model for CL trained in 0.38 seconds\n",
      "**************************************************\n",
      "Training model for CLX\n",
      "Model for CLX trained in 0.33 seconds\n",
      "**************************************************\n",
      "Training model for COST\n",
      "Model for COST trained in 0.50 seconds\n",
      "**************************************************\n",
      "Training model for CPB\n",
      "Model for CPB trained in 0.34 seconds\n",
      "**************************************************\n",
      "Training model for DG\n",
      "Model for DG trained in 0.27 seconds\n",
      "**************************************************\n",
      "Training model for DLTR\n",
      "Model for DLTR trained in 0.34 seconds\n",
      "**************************************************\n",
      "Training model for EL\n",
      "Model for EL trained in 0.36 seconds\n",
      "**************************************************\n",
      "Training model for GIS\n",
      "Model for GIS trained in 0.34 seconds\n",
      "**************************************************\n",
      "Training model for HRL\n",
      "Model for HRL trained in 0.32 seconds\n",
      "**************************************************\n",
      "Training model for HSY\n",
      "Model for HSY trained in 0.31 seconds\n",
      "**************************************************\n",
      "Training model for K\n",
      "Model for K trained in 0.33 seconds\n",
      "**************************************************\n",
      "Training model for KDP\n",
      "Model for KDP trained in 0.28 seconds\n",
      "**************************************************\n",
      "Training model for KHC\n",
      "Model for KHC trained in 0.28 seconds\n",
      "**************************************************\n",
      "Training model for KMB\n",
      "Model for KMB trained in 0.30 seconds\n",
      "**************************************************\n",
      "Training model for KO\n",
      "Model for KO trained in 0.35 seconds\n",
      "**************************************************\n",
      "Training model for KR\n",
      "Model for KR trained in 0.30 seconds\n",
      "**************************************************\n",
      "Training model for KVUE\n",
      "Model for KVUE trained in 0.21 seconds\n",
      "**************************************************\n",
      "Training model for LW\n",
      "Model for LW trained in 0.30 seconds\n",
      "**************************************************\n",
      "Training model for MDLZ\n",
      "Model for MDLZ trained in 0.29 seconds\n",
      "**************************************************\n",
      "Training model for MKC\n",
      "Model for MKC trained in 0.30 seconds\n",
      "**************************************************\n",
      "Training model for MNST\n",
      "Model for MNST trained in 0.32 seconds\n",
      "**************************************************\n",
      "Training model for MO\n",
      "Model for MO trained in 0.31 seconds\n",
      "**************************************************\n",
      "Training model for PEP\n",
      "Model for PEP trained in 0.34 seconds\n",
      "**************************************************\n",
      "Training model for PG\n",
      "Model for PG trained in 0.32 seconds\n",
      "**************************************************\n",
      "Training model for PM\n",
      "Model for PM trained in 0.31 seconds\n",
      "**************************************************\n",
      "Training model for SJM\n",
      "Model for SJM trained in 0.30 seconds\n",
      "**************************************************\n",
      "Training model for STZ\n",
      "Model for STZ trained in 0.32 seconds\n",
      "**************************************************\n",
      "Training model for SYY\n",
      "Model for SYY trained in 0.26 seconds\n",
      "**************************************************\n",
      "Training model for TAP\n",
      "Model for TAP trained in 0.28 seconds\n",
      "**************************************************\n",
      "Training model for TGT\n",
      "Model for TGT trained in 0.26 seconds\n",
      "**************************************************\n",
      "Training model for TSN\n",
      "Model for TSN trained in 0.26 seconds\n",
      "**************************************************\n",
      "Training model for WBA\n",
      "Model for WBA trained in 0.28 seconds\n",
      "**************************************************\n",
      "Training model for WMT\n",
      "Model for WMT trained in 0.28 seconds\n",
      "**************************************************\n"
     ]
    }
   ],
   "source": [
    "models = {}\n",
    "\n",
    "for ticker in data.keys():\n",
    "    print(f\"Training model for {ticker}\")\n",
    "    start = time.time()\n",
    "    model = XGBModel(\n",
    "        lags=15,\n",
    "        lags_past_covariates=1,\n",
    "        lags_future_covariates=[0],\n",
    "        output_chunk_length=1,\n",
    "        random_state=42,\n",
    "        add_encoders={\n",
    "            'datetime_attribute': {\n",
    "                'future': ['month', 'day', 'dayofweek', 'dayofyear', 'quarter', 'year'] # automatically generate future covariates from time series\n",
    "            }\n",
    "        }\n",
    "    )\n",
    "\n",
    "    model.fit(\n",
    "        train[ticker]['close'],\n",
    "        past_covariates=train[ticker][['high', 'low', 'volume', 'open']],\n",
    "    )\n",
    "\n",
    "    end = time.time()\n",
    "    print(f\"Model for {ticker} trained in {end - start:.2f} seconds\")\n",
    "    print(\"*\" * 50)\n",
    "\n",
    "    models[ticker] = model"
   ]
  },
  {
   "cell_type": "code",
   "execution_count": 9,
   "id": "b9f91c14",
   "metadata": {},
   "outputs": [
    {
     "name": "stdout",
     "output_type": "stream",
     "text": [
      "Ticker: ADM, MAPE: 4.11, MAE: 2.23\n",
      "**************************************************\n",
      "Ticker: BF-B, MAPE: 8.14, MAE: 3.30\n",
      "**************************************************\n",
      "Ticker: BG, MAPE: 7.33, MAE: 6.05\n",
      "**************************************************\n",
      "Ticker: CAG, MAPE: 2.84, MAE: 0.76\n",
      "**************************************************\n",
      "Ticker: CHD, MAPE: 2.68, MAE: 2.82\n",
      "**************************************************\n",
      "Ticker: CL, MAPE: 6.82, MAE: 6.61\n",
      "**************************************************\n",
      "Ticker: CLX, MAPE: 4.29, MAE: 6.59\n",
      "**************************************************\n",
      "Ticker: COST, MAPE: 20.05, MAE: 186.49\n",
      "**************************************************\n",
      "Ticker: CPB, MAPE: 5.99, MAE: 2.49\n",
      "**************************************************\n",
      "Ticker: DG, MAPE: 5.65, MAE: 5.16\n",
      "**************************************************\n",
      "Ticker: DLTR, MAPE: 19.09, MAE: 13.61\n",
      "**************************************************\n",
      "Ticker: EL, MAPE: 25.14, MAE: 17.93\n",
      "**************************************************\n",
      "Ticker: GIS, MAPE: 1.78, MAE: 1.13\n",
      "**************************************************\n",
      "Ticker: HRL, MAPE: 22.81, MAE: 6.87\n",
      "**************************************************\n",
      "Ticker: HSY, MAPE: 2.56, MAE: 4.53\n",
      "**************************************************\n",
      "Ticker: K, MAPE: 23.53, MAE: 18.79\n",
      "**************************************************\n",
      "Ticker: KDP, MAPE: 4.25, MAE: 1.45\n",
      "**************************************************\n",
      "Ticker: KHC, MAPE: 3.41, MAE: 1.05\n",
      "**************************************************\n",
      "Ticker: KMB, MAPE: 4.34, MAE: 5.93\n",
      "**************************************************\n",
      "Ticker: KO, MAPE: 11.92, MAE: 8.05\n",
      "**************************************************\n",
      "Ticker: KR, MAPE: 10.66, MAE: 6.56\n",
      "**************************************************\n",
      "Ticker: KVUE, MAPE: 3.03, MAE: 0.70\n",
      "**************************************************\n",
      "Ticker: LW, MAPE: 5.16, MAE: 3.19\n",
      "**************************************************\n",
      "Ticker: MDLZ, MAPE: 4.20, MAE: 2.84\n",
      "**************************************************\n",
      "Ticker: MKC, MAPE: 2.68, MAE: 2.06\n",
      "**************************************************\n",
      "Ticker: MNST, MAPE: 3.10, MAE: 1.58\n",
      "**************************************************\n",
      "Ticker: MO, MAPE: 16.17, MAE: 8.53\n",
      "**************************************************\n",
      "Ticker: PEP, MAPE: 2.08, MAE: 3.28\n",
      "**************************************************\n",
      "Ticker: PG, MAPE: 5.11, MAE: 8.59\n",
      "**************************************************\n",
      "Ticker: PM, MAPE: 27.21, MAE: 35.96\n",
      "**************************************************\n",
      "Ticker: SJM, MAPE: 3.34, MAE: 3.72\n",
      "**************************************************\n",
      "Ticker: STZ, MAPE: 2.69, MAE: 5.67\n",
      "**************************************************\n",
      "Ticker: SYY, MAPE: 2.94, MAE: 2.17\n",
      "**************************************************\n",
      "Ticker: TAP, MAPE: 7.79, MAE: 4.11\n",
      "**************************************************\n",
      "Ticker: TGT, MAPE: 3.73, MAE: 4.73\n",
      "**************************************************\n",
      "Ticker: TSN, MAPE: 3.86, MAE: 2.33\n",
      "**************************************************\n",
      "Ticker: WBA, MAPE: 59.83, MAE: 5.91\n",
      "**************************************************\n",
      "Ticker: WMT, MAPE: 26.13, MAE: 22.76\n",
      "**************************************************\n"
     ]
    }
   ],
   "source": [
    "mapes = {}\n",
    "maes = {}\n",
    "\n",
    "for ticker in data.keys():\n",
    "    y_test = test[ticker]['close']\n",
    "    y_pred = models[ticker].predict(\n",
    "        n=len(y_test),\n",
    "        past_covariates=test[ticker][['high', 'low', 'volume', 'open']],\n",
    "        show_warnings=False\n",
    "    )\n",
    "    mape_ = mape(y_test, y_pred)\n",
    "    mae_ = mae(y_test, y_pred)\n",
    "    mapes[ticker] = mape_\n",
    "    maes[ticker] = mae_\n",
    "    print(f\"Ticker: {ticker}, MAPE: {mape_:.2f}, MAE: {mae_:.2f}\")\n",
    "    print(\"*\" * 50)"
   ]
  },
  {
   "cell_type": "code",
   "execution_count": 10,
   "id": "225f2cf2",
   "metadata": {},
   "outputs": [
    {
     "data": {
      "text/plain": [
       "(9.905617179092381, 11.2246734320959)"
      ]
     },
     "execution_count": 10,
     "metadata": {},
     "output_type": "execute_result"
    }
   ],
   "source": [
    "np.mean(list(mapes.values())), np.mean(list(maes.values()))"
   ]
  },
  {
   "cell_type": "markdown",
   "id": "cdb475a9",
   "metadata": {},
   "source": [
    "### Global model"
   ]
  },
  {
   "cell_type": "code",
   "execution_count": 11,
   "id": "47343a36",
   "metadata": {},
   "outputs": [
    {
     "name": "stdout",
     "output_type": "stream",
     "text": [
      "Training global model\n",
      "Global model trained in 15.85 seconds\n",
      "**************************************************\n"
     ]
    }
   ],
   "source": [
    "print(f\"Training global model\")\n",
    "start = time.time()\n",
    "model = XGBModel(\n",
    "    lags=15,\n",
    "    lags_past_covariates=1,\n",
    "    lags_future_covariates=[0],\n",
    "    output_chunk_length=1,\n",
    "    random_state=42,\n",
    "    add_encoders={\n",
    "        'datetime_attribute': {\n",
    "            'future': ['month', 'day', 'dayofweek', 'dayofyear', 'quarter', 'year'] # automatically generate future covariates from time series\n",
    "        }\n",
    "    },\n",
    "    use_static_covariates=True,\n",
    "    n_estimators=1000,\n",
    "    eta=0.01,\n",
    "    max_depth=8,\n",
    "    subsample=0.8\n",
    ")\n",
    "\n",
    "model.fit(\n",
    "    [ts['close'] for ts in train.values()],\n",
    "    past_covariates=[ts[['high', 'low', 'volume', 'open']] for ts in train.values()],\n",
    ")\n",
    "\n",
    "end = time.time()\n",
    "print(f\"Global model trained in {end - start:.2f} seconds\")\n",
    "print(\"*\" * 50)"
   ]
  },
  {
   "cell_type": "code",
   "execution_count": 12,
   "id": "e80265b5",
   "metadata": {},
   "outputs": [
    {
     "name": "stdout",
     "output_type": "stream",
     "text": [
      "Global model for ADM, MAPE: 3.38, MAE: 1.72\n",
      "**************************************************\n",
      "Global model for BF-B, MAPE: 15.80, MAE: 5.56\n",
      "**************************************************\n",
      "Global model for BG, MAPE: 3.03, MAE: 2.59\n",
      "**************************************************\n",
      "Global model for CAG, MAPE: 2.20, MAE: 0.60\n",
      "**************************************************\n",
      "Global model for CHD, MAPE: 1.46, MAE: 1.52\n",
      "**************************************************\n",
      "Global model for CL, MAPE: 4.81, MAE: 4.65\n",
      "**************************************************\n",
      "Global model for CLX, MAPE: 2.61, MAE: 3.93\n",
      "**************************************************\n",
      "Global model for COST, MAPE: 21.16, MAE: 196.30\n",
      "**************************************************\n",
      "Global model for CPB, MAPE: 8.83, MAE: 3.51\n",
      "**************************************************\n",
      "Global model for DG, MAPE: 4.12, MAE: 3.67\n",
      "**************************************************\n",
      "Global model for DLTR, MAPE: 3.61, MAE: 2.85\n",
      "**************************************************\n",
      "Global model for EL, MAPE: 4.80, MAE: 3.71\n",
      "**************************************************\n",
      "Global model for GIS, MAPE: 2.76, MAE: 1.74\n",
      "**************************************************\n",
      "Global model for HRL, MAPE: 2.24, MAE: 0.68\n",
      "**************************************************\n",
      "Global model for HSY, MAPE: 2.46, MAE: 4.31\n",
      "**************************************************\n",
      "Global model for K, MAPE: 2.30, MAE: 1.70\n",
      "**************************************************\n",
      "Global model for KDP, MAPE: 2.55, MAE: 0.86\n",
      "**************************************************\n",
      "Global model for KHC, MAPE: 2.90, MAE: 0.91\n",
      "**************************************************\n",
      "Global model for KMB, MAPE: 2.08, MAE: 2.82\n",
      "**************************************************\n",
      "Global model for KO, MAPE: 2.08, MAE: 1.37\n",
      "**************************************************\n",
      "Global model for KR, MAPE: 2.05, MAE: 1.20\n",
      "**************************************************\n",
      "Global model for KVUE, MAPE: 1.94, MAE: 0.45\n",
      "**************************************************\n",
      "Global model for LW, MAPE: 4.72, MAE: 2.89\n",
      "**************************************************\n",
      "Global model for MDLZ, MAPE: 2.70, MAE: 1.74\n",
      "**************************************************\n",
      "Global model for MKC, MAPE: 2.28, MAE: 1.73\n",
      "**************************************************\n",
      "Global model for MNST, MAPE: 2.78, MAE: 1.43\n",
      "**************************************************\n",
      "Global model for MO, MAPE: 2.18, MAE: 1.10\n",
      "**************************************************\n",
      "Global model for PEP, MAPE: 1.68, MAE: 2.64\n",
      "**************************************************\n",
      "Global model for PG, MAPE: 1.73, MAE: 2.87\n",
      "**************************************************\n",
      "Global model for PM, MAPE: 3.19, MAE: 4.00\n",
      "**************************************************\n",
      "Global model for SJM, MAPE: 1.93, MAE: 2.15\n",
      "**************************************************\n",
      "Global model for STZ, MAPE: 2.42, MAE: 5.23\n",
      "**************************************************\n",
      "Global model for SYY, MAPE: 2.11, MAE: 1.54\n",
      "**************************************************\n",
      "Global model for TAP, MAPE: 2.96, MAE: 1.65\n",
      "**************************************************\n",
      "Global model for TGT, MAPE: 2.89, MAE: 3.74\n",
      "**************************************************\n",
      "Global model for TSN, MAPE: 3.38, MAE: 1.96\n",
      "**************************************************\n",
      "Global model for WBA, MAPE: 57.84, MAE: 5.72\n",
      "**************************************************\n",
      "Global model for WMT, MAPE: 4.05, MAE: 3.61\n",
      "**************************************************\n"
     ]
    }
   ],
   "source": [
    "mapes = {}\n",
    "maes = {}\n",
    "\n",
    "for ticker in data.keys():\n",
    "    y_pred = model.predict(\n",
    "        n=len(test[ticker]['close']),\n",
    "        series=train[ticker]['close'],\n",
    "        past_covariates=test[ticker][['high', 'low', 'volume', 'open']],\n",
    "        show_warnings=False\n",
    "    )\n",
    "    y_test = test[ticker]['close']\n",
    "    mape_ = mape(y_test, y_pred)\n",
    "    mae_ = mae(y_test, y_pred)\n",
    "\n",
    "    mapes[ticker] = mape_\n",
    "    maes[ticker] = mae_\n",
    "\n",
    "    print(f\"Global model for {ticker}, MAPE: {mape_:.2f}, MAE: {mae_:.2f}\")\n",
    "    print(\"*\" * 50)"
   ]
  },
  {
   "cell_type": "code",
   "execution_count": 13,
   "id": "954892bf",
   "metadata": {},
   "outputs": [
    {
     "data": {
      "text/plain": [
       "(5.210549585712213, 7.648513957262321)"
      ]
     },
     "execution_count": 13,
     "metadata": {},
     "output_type": "execute_result"
    }
   ],
   "source": [
    "np.mean(list(mapes.values())), np.mean(list(maes.values()))"
   ]
  },
  {
   "cell_type": "markdown",
   "id": "954b34fb",
   "metadata": {},
   "source": [
    "## Prophet model"
   ]
  },
  {
   "cell_type": "code",
   "execution_count": 14,
   "id": "0ca95853",
   "metadata": {},
   "outputs": [
    {
     "name": "stdout",
     "output_type": "stream",
     "text": [
      "Training model for ADM\n"
     ]
    },
    {
     "name": "stderr",
     "output_type": "stream",
     "text": [
      "21:45:42 - cmdstanpy - INFO - Chain [1] start processing\n",
      "21:45:45 - cmdstanpy - INFO - Chain [1] done processing\n"
     ]
    },
    {
     "name": "stdout",
     "output_type": "stream",
     "text": [
      "Model for ADM trained in 3.19 seconds\n",
      "**************************************************\n",
      "Training model for BF-B\n"
     ]
    },
    {
     "name": "stderr",
     "output_type": "stream",
     "text": [
      "21:45:46 - cmdstanpy - INFO - Chain [1] start processing\n",
      "21:45:48 - cmdstanpy - INFO - Chain [1] done processing\n"
     ]
    },
    {
     "name": "stdout",
     "output_type": "stream",
     "text": [
      "Model for BF-B trained in 2.66 seconds\n",
      "**************************************************\n",
      "Training model for BG\n"
     ]
    },
    {
     "name": "stderr",
     "output_type": "stream",
     "text": [
      "21:45:48 - cmdstanpy - INFO - Chain [1] start processing\n",
      "21:45:51 - cmdstanpy - INFO - Chain [1] done processing\n"
     ]
    },
    {
     "name": "stdout",
     "output_type": "stream",
     "text": [
      "Model for BG trained in 3.11 seconds\n",
      "**************************************************\n",
      "Training model for CAG\n"
     ]
    },
    {
     "name": "stderr",
     "output_type": "stream",
     "text": [
      "21:45:51 - cmdstanpy - INFO - Chain [1] start processing\n",
      "21:45:54 - cmdstanpy - INFO - Chain [1] done processing\n"
     ]
    },
    {
     "name": "stdout",
     "output_type": "stream",
     "text": [
      "Model for CAG trained in 3.12 seconds\n",
      "**************************************************\n",
      "Training model for CHD\n"
     ]
    },
    {
     "name": "stderr",
     "output_type": "stream",
     "text": [
      "21:45:54 - cmdstanpy - INFO - Chain [1] start processing\n",
      "21:45:57 - cmdstanpy - INFO - Chain [1] done processing\n"
     ]
    },
    {
     "name": "stdout",
     "output_type": "stream",
     "text": [
      "Model for CHD trained in 2.67 seconds\n",
      "**************************************************\n",
      "Training model for CL\n"
     ]
    },
    {
     "name": "stderr",
     "output_type": "stream",
     "text": [
      "21:45:57 - cmdstanpy - INFO - Chain [1] start processing\n",
      "21:46:00 - cmdstanpy - INFO - Chain [1] done processing\n"
     ]
    },
    {
     "name": "stdout",
     "output_type": "stream",
     "text": [
      "Model for CL trained in 3.19 seconds\n",
      "**************************************************\n",
      "Training model for CLX\n"
     ]
    },
    {
     "name": "stderr",
     "output_type": "stream",
     "text": [
      "21:46:00 - cmdstanpy - INFO - Chain [1] start processing\n",
      "21:46:03 - cmdstanpy - INFO - Chain [1] done processing\n"
     ]
    },
    {
     "name": "stdout",
     "output_type": "stream",
     "text": [
      "Model for CLX trained in 3.08 seconds\n",
      "**************************************************\n",
      "Training model for COST\n"
     ]
    },
    {
     "name": "stderr",
     "output_type": "stream",
     "text": [
      "21:46:03 - cmdstanpy - INFO - Chain [1] start processing\n",
      "21:46:05 - cmdstanpy - INFO - Chain [1] done processing\n"
     ]
    },
    {
     "name": "stdout",
     "output_type": "stream",
     "text": [
      "Model for COST trained in 2.35 seconds\n",
      "**************************************************\n",
      "Training model for CPB\n"
     ]
    },
    {
     "name": "stderr",
     "output_type": "stream",
     "text": [
      "21:46:06 - cmdstanpy - INFO - Chain [1] start processing\n",
      "21:46:08 - cmdstanpy - INFO - Chain [1] done processing\n"
     ]
    },
    {
     "name": "stdout",
     "output_type": "stream",
     "text": [
      "Model for CPB trained in 3.05 seconds\n",
      "**************************************************\n",
      "Training model for DG\n"
     ]
    },
    {
     "name": "stderr",
     "output_type": "stream",
     "text": [
      "21:46:09 - cmdstanpy - INFO - Chain [1] start processing\n",
      "21:46:12 - cmdstanpy - INFO - Chain [1] done processing\n"
     ]
    },
    {
     "name": "stdout",
     "output_type": "stream",
     "text": [
      "Model for DG trained in 3.36 seconds\n",
      "**************************************************\n",
      "Training model for DLTR\n"
     ]
    },
    {
     "name": "stderr",
     "output_type": "stream",
     "text": [
      "21:46:12 - cmdstanpy - INFO - Chain [1] start processing\n",
      "21:46:14 - cmdstanpy - INFO - Chain [1] done processing\n"
     ]
    },
    {
     "name": "stdout",
     "output_type": "stream",
     "text": [
      "Model for DLTR trained in 2.51 seconds\n",
      "**************************************************\n",
      "Training model for EL\n"
     ]
    },
    {
     "name": "stderr",
     "output_type": "stream",
     "text": [
      "21:46:15 - cmdstanpy - INFO - Chain [1] start processing\n",
      "21:46:17 - cmdstanpy - INFO - Chain [1] done processing\n"
     ]
    },
    {
     "name": "stdout",
     "output_type": "stream",
     "text": [
      "Model for EL trained in 3.09 seconds\n",
      "**************************************************\n",
      "Training model for GIS\n"
     ]
    },
    {
     "name": "stderr",
     "output_type": "stream",
     "text": [
      "21:46:18 - cmdstanpy - INFO - Chain [1] start processing\n",
      "21:46:20 - cmdstanpy - INFO - Chain [1] done processing\n"
     ]
    },
    {
     "name": "stdout",
     "output_type": "stream",
     "text": [
      "Model for GIS trained in 2.95 seconds\n",
      "**************************************************\n",
      "Training model for HRL\n"
     ]
    },
    {
     "name": "stderr",
     "output_type": "stream",
     "text": [
      "21:46:21 - cmdstanpy - INFO - Chain [1] start processing\n",
      "21:46:24 - cmdstanpy - INFO - Chain [1] done processing\n"
     ]
    },
    {
     "name": "stdout",
     "output_type": "stream",
     "text": [
      "Model for HRL trained in 3.22 seconds\n",
      "**************************************************\n",
      "Training model for HSY\n"
     ]
    },
    {
     "name": "stderr",
     "output_type": "stream",
     "text": [
      "21:46:24 - cmdstanpy - INFO - Chain [1] start processing\n",
      "21:46:27 - cmdstanpy - INFO - Chain [1] done processing\n"
     ]
    },
    {
     "name": "stdout",
     "output_type": "stream",
     "text": [
      "Model for HSY trained in 3.15 seconds\n",
      "**************************************************\n",
      "Training model for K\n"
     ]
    },
    {
     "name": "stderr",
     "output_type": "stream",
     "text": [
      "21:46:27 - cmdstanpy - INFO - Chain [1] start processing\n",
      "21:46:30 - cmdstanpy - INFO - Chain [1] done processing\n"
     ]
    },
    {
     "name": "stdout",
     "output_type": "stream",
     "text": [
      "Model for K trained in 3.27 seconds\n",
      "**************************************************\n",
      "Training model for KDP\n"
     ]
    },
    {
     "name": "stderr",
     "output_type": "stream",
     "text": [
      "21:46:30 - cmdstanpy - INFO - Chain [1] start processing\n",
      "21:46:33 - cmdstanpy - INFO - Chain [1] done processing\n"
     ]
    },
    {
     "name": "stdout",
     "output_type": "stream",
     "text": [
      "Model for KDP trained in 3.09 seconds\n",
      "**************************************************\n",
      "Training model for KHC\n"
     ]
    },
    {
     "name": "stderr",
     "output_type": "stream",
     "text": [
      "21:46:33 - cmdstanpy - INFO - Chain [1] start processing\n",
      "21:46:36 - cmdstanpy - INFO - Chain [1] done processing\n"
     ]
    },
    {
     "name": "stdout",
     "output_type": "stream",
     "text": [
      "Model for KHC trained in 3.17 seconds\n",
      "**************************************************\n",
      "Training model for KMB\n"
     ]
    },
    {
     "name": "stderr",
     "output_type": "stream",
     "text": [
      "21:46:37 - cmdstanpy - INFO - Chain [1] start processing\n",
      "21:46:39 - cmdstanpy - INFO - Chain [1] done processing\n"
     ]
    },
    {
     "name": "stdout",
     "output_type": "stream",
     "text": [
      "Model for KMB trained in 3.22 seconds\n",
      "**************************************************\n",
      "Training model for KO\n"
     ]
    },
    {
     "name": "stderr",
     "output_type": "stream",
     "text": [
      "21:46:40 - cmdstanpy - INFO - Chain [1] start processing\n",
      "21:46:43 - cmdstanpy - INFO - Chain [1] done processing\n"
     ]
    },
    {
     "name": "stdout",
     "output_type": "stream",
     "text": [
      "Model for KO trained in 3.19 seconds\n",
      "**************************************************\n",
      "Training model for KR\n"
     ]
    },
    {
     "name": "stderr",
     "output_type": "stream",
     "text": [
      "21:46:43 - cmdstanpy - INFO - Chain [1] start processing\n",
      "21:46:45 - cmdstanpy - INFO - Chain [1] done processing\n",
      "21:46:45 - cmdstanpy - INFO - Chain [1] start processing\n"
     ]
    },
    {
     "name": "stdout",
     "output_type": "stream",
     "text": [
      "Model for KR trained in 2.23 seconds\n",
      "**************************************************\n",
      "Training model for KVUE\n"
     ]
    },
    {
     "name": "stderr",
     "output_type": "stream",
     "text": [
      "21:46:45 - cmdstanpy - INFO - Chain [1] done processing\n"
     ]
    },
    {
     "name": "stdout",
     "output_type": "stream",
     "text": [
      "Model for KVUE trained in 0.50 seconds\n",
      "**************************************************\n",
      "Training model for LW\n"
     ]
    },
    {
     "name": "stderr",
     "output_type": "stream",
     "text": [
      "21:46:46 - cmdstanpy - INFO - Chain [1] start processing\n",
      "21:46:48 - cmdstanpy - INFO - Chain [1] done processing\n"
     ]
    },
    {
     "name": "stdout",
     "output_type": "stream",
     "text": [
      "Model for LW trained in 2.65 seconds\n",
      "**************************************************\n",
      "Training model for MDLZ\n"
     ]
    },
    {
     "name": "stderr",
     "output_type": "stream",
     "text": [
      "21:46:48 - cmdstanpy - INFO - Chain [1] start processing\n",
      "21:46:51 - cmdstanpy - INFO - Chain [1] done processing\n"
     ]
    },
    {
     "name": "stdout",
     "output_type": "stream",
     "text": [
      "Model for MDLZ trained in 3.10 seconds\n",
      "**************************************************\n",
      "Training model for MKC\n"
     ]
    },
    {
     "name": "stderr",
     "output_type": "stream",
     "text": [
      "21:46:51 - cmdstanpy - INFO - Chain [1] start processing\n",
      "21:46:54 - cmdstanpy - INFO - Chain [1] done processing\n"
     ]
    },
    {
     "name": "stdout",
     "output_type": "stream",
     "text": [
      "Model for MKC trained in 3.13 seconds\n",
      "**************************************************\n",
      "Training model for MNST\n"
     ]
    },
    {
     "name": "stderr",
     "output_type": "stream",
     "text": [
      "21:46:55 - cmdstanpy - INFO - Chain [1] start processing\n",
      "21:46:57 - cmdstanpy - INFO - Chain [1] done processing\n"
     ]
    },
    {
     "name": "stdout",
     "output_type": "stream",
     "text": [
      "Model for MNST trained in 3.14 seconds\n",
      "**************************************************\n",
      "Training model for MO\n"
     ]
    },
    {
     "name": "stderr",
     "output_type": "stream",
     "text": [
      "21:46:58 - cmdstanpy - INFO - Chain [1] start processing\n",
      "21:47:01 - cmdstanpy - INFO - Chain [1] done processing\n"
     ]
    },
    {
     "name": "stdout",
     "output_type": "stream",
     "text": [
      "Model for MO trained in 3.15 seconds\n",
      "**************************************************\n",
      "Training model for PEP\n"
     ]
    },
    {
     "name": "stderr",
     "output_type": "stream",
     "text": [
      "21:47:01 - cmdstanpy - INFO - Chain [1] start processing\n",
      "21:47:04 - cmdstanpy - INFO - Chain [1] done processing\n"
     ]
    },
    {
     "name": "stdout",
     "output_type": "stream",
     "text": [
      "Model for PEP trained in 2.98 seconds\n",
      "**************************************************\n",
      "Training model for PG\n"
     ]
    },
    {
     "name": "stderr",
     "output_type": "stream",
     "text": [
      "21:47:04 - cmdstanpy - INFO - Chain [1] start processing\n",
      "21:47:07 - cmdstanpy - INFO - Chain [1] done processing\n"
     ]
    },
    {
     "name": "stdout",
     "output_type": "stream",
     "text": [
      "Model for PG trained in 3.09 seconds\n",
      "**************************************************\n",
      "Training model for PM\n"
     ]
    },
    {
     "name": "stderr",
     "output_type": "stream",
     "text": [
      "21:47:07 - cmdstanpy - INFO - Chain [1] start processing\n",
      "21:47:10 - cmdstanpy - INFO - Chain [1] done processing\n"
     ]
    },
    {
     "name": "stdout",
     "output_type": "stream",
     "text": [
      "Model for PM trained in 3.25 seconds\n",
      "**************************************************\n",
      "Training model for SJM\n"
     ]
    },
    {
     "name": "stderr",
     "output_type": "stream",
     "text": [
      "21:47:10 - cmdstanpy - INFO - Chain [1] start processing\n",
      "21:47:13 - cmdstanpy - INFO - Chain [1] done processing\n"
     ]
    },
    {
     "name": "stdout",
     "output_type": "stream",
     "text": [
      "Model for SJM trained in 3.14 seconds\n",
      "**************************************************\n",
      "Training model for STZ\n"
     ]
    },
    {
     "name": "stderr",
     "output_type": "stream",
     "text": [
      "21:47:13 - cmdstanpy - INFO - Chain [1] start processing\n",
      "21:47:16 - cmdstanpy - INFO - Chain [1] done processing\n"
     ]
    },
    {
     "name": "stdout",
     "output_type": "stream",
     "text": [
      "Model for STZ trained in 3.23 seconds\n",
      "**************************************************\n",
      "Training model for SYY\n"
     ]
    },
    {
     "name": "stderr",
     "output_type": "stream",
     "text": [
      "21:47:17 - cmdstanpy - INFO - Chain [1] start processing\n",
      "21:47:19 - cmdstanpy - INFO - Chain [1] done processing\n"
     ]
    },
    {
     "name": "stdout",
     "output_type": "stream",
     "text": [
      "Model for SYY trained in 3.15 seconds\n",
      "**************************************************\n",
      "Training model for TAP\n"
     ]
    },
    {
     "name": "stderr",
     "output_type": "stream",
     "text": [
      "21:47:20 - cmdstanpy - INFO - Chain [1] start processing\n",
      "21:47:21 - cmdstanpy - INFO - Chain [1] done processing\n"
     ]
    },
    {
     "name": "stdout",
     "output_type": "stream",
     "text": [
      "Model for TAP trained in 1.62 seconds\n",
      "**************************************************\n",
      "Training model for TGT\n"
     ]
    },
    {
     "name": "stderr",
     "output_type": "stream",
     "text": [
      "21:47:21 - cmdstanpy - INFO - Chain [1] start processing\n",
      "21:47:24 - cmdstanpy - INFO - Chain [1] done processing\n"
     ]
    },
    {
     "name": "stdout",
     "output_type": "stream",
     "text": [
      "Model for TGT trained in 3.14 seconds\n",
      "**************************************************\n",
      "Training model for TSN\n"
     ]
    },
    {
     "name": "stderr",
     "output_type": "stream",
     "text": [
      "21:47:24 - cmdstanpy - INFO - Chain [1] start processing\n",
      "21:47:26 - cmdstanpy - INFO - Chain [1] done processing\n"
     ]
    },
    {
     "name": "stdout",
     "output_type": "stream",
     "text": [
      "Model for TSN trained in 2.30 seconds\n",
      "**************************************************\n",
      "Training model for WBA\n"
     ]
    },
    {
     "name": "stderr",
     "output_type": "stream",
     "text": [
      "21:47:27 - cmdstanpy - INFO - Chain [1] start processing\n",
      "21:47:29 - cmdstanpy - INFO - Chain [1] done processing\n"
     ]
    },
    {
     "name": "stdout",
     "output_type": "stream",
     "text": [
      "Model for WBA trained in 2.84 seconds\n",
      "**************************************************\n",
      "Training model for WMT\n"
     ]
    },
    {
     "name": "stderr",
     "output_type": "stream",
     "text": [
      "21:47:30 - cmdstanpy - INFO - Chain [1] start processing\n",
      "21:47:32 - cmdstanpy - INFO - Chain [1] done processing\n"
     ]
    },
    {
     "name": "stdout",
     "output_type": "stream",
     "text": [
      "Model for WMT trained in 3.09 seconds\n",
      "**************************************************\n"
     ]
    }
   ],
   "source": [
    "models_prophet = {}\n",
    "\n",
    "for ticker in data.keys():\n",
    "    print(f\"Training model for {ticker}\")\n",
    "    start = time.time()\n",
    "    model = Prophet(\n",
    "        add_encoders={\n",
    "            'datetime_attribute': {\n",
    "                'future': ['month', 'day', 'dayofweek', 'dayofyear', 'quarter', 'year']  # automatically generate future covariates from time series\n",
    "            }\n",
    "        },\n",
    "        seasonality_mode='multiplicative',\n",
    "    )\n",
    "\n",
    "    model.fit(\n",
    "        train[ticker]['close']\n",
    "    )\n",
    "\n",
    "    end = time.time()\n",
    "    print(f\"Model for {ticker} trained in {end - start:.2f} seconds\")\n",
    "    print(\"*\" * 50)\n",
    "\n",
    "    models_prophet[ticker] = model"
   ]
  },
  {
   "cell_type": "code",
   "execution_count": 15,
   "id": "2ff81861",
   "metadata": {},
   "outputs": [
    {
     "name": "stdout",
     "output_type": "stream",
     "text": [
      "Ticker: ADM, MAPE: 47.05, MAE: 24.23\n",
      "**************************************************\n",
      "Ticker: BF-B, MAPE: 12.79, MAE: 5.20\n",
      "**************************************************\n",
      "Ticker: BG, MAPE: 14.41, MAE: 12.01\n",
      "**************************************************\n",
      "Ticker: CAG, MAPE: 52.60, MAE: 14.26\n",
      "**************************************************\n",
      "Ticker: CHD, MAPE: 5.45, MAE: 5.61\n",
      "**************************************************\n",
      "Ticker: CL, MAPE: 13.50, MAE: 13.00\n",
      "**************************************************\n",
      "Ticker: CLX, MAPE: 23.77, MAE: 36.59\n",
      "**************************************************\n",
      "Ticker: COST, MAPE: 17.64, MAE: 161.16\n",
      "**************************************************\n",
      "Ticker: CPB, MAPE: 47.94, MAE: 20.57\n",
      "**************************************************\n",
      "Ticker: DG, MAPE: 48.35, MAE: 44.62\n",
      "**************************************************\n",
      "Ticker: DLTR, MAPE: 28.32, MAE: 21.14\n",
      "**************************************************\n",
      "Ticker: EL, MAPE: 91.87, MAE: 72.34\n",
      "**************************************************\n",
      "Ticker: GIS, MAPE: 57.08, MAE: 35.99\n",
      "**************************************************\n",
      "Ticker: HRL, MAPE: 24.12, MAE: 7.33\n",
      "**************************************************\n",
      "Ticker: HSY, MAPE: 61.11, MAE: 105.86\n",
      "**************************************************\n",
      "Ticker: K, MAPE: 36.21, MAE: 28.40\n",
      "**************************************************\n",
      "Ticker: KDP, MAPE: 19.62, MAE: 6.63\n",
      "**************************************************\n",
      "Ticker: KHC, MAPE: 8.65, MAE: 2.84\n",
      "**************************************************\n",
      "Ticker: KMB, MAPE: 21.27, MAE: 28.90\n",
      "**************************************************\n",
      "Ticker: KO, MAPE: 15.58, MAE: 10.49\n",
      "**************************************************\n",
      "Ticker: KR, MAPE: 17.22, MAE: 10.45\n",
      "**************************************************\n",
      "Ticker: KVUE, MAPE: 22.81, MAE: 5.28\n",
      "**************************************************\n",
      "Ticker: LW, MAPE: 71.94, MAE: 44.38\n",
      "**************************************************\n",
      "Ticker: MDLZ, MAPE: 9.17, MAE: 6.03\n",
      "**************************************************\n",
      "Ticker: MKC, MAPE: 33.31, MAE: 25.91\n",
      "**************************************************\n",
      "Ticker: MNST, MAPE: 11.50, MAE: 5.98\n",
      "**************************************************\n",
      "Ticker: MO, MAPE: 29.85, MAE: 15.45\n",
      "**************************************************\n",
      "Ticker: PEP, MAPE: 15.30, MAE: 24.08\n",
      "**************************************************\n",
      "Ticker: PG, MAPE: 5.71, MAE: 9.56\n",
      "**************************************************\n",
      "Ticker: PM, MAPE: 30.79, MAE: 40.56\n",
      "**************************************************\n",
      "Ticker: SJM, MAPE: 62.72, MAE: 70.23\n",
      "**************************************************\n",
      "Ticker: STZ, MAPE: 19.23, MAE: 37.37\n",
      "**************************************************\n",
      "Ticker: SYY, MAPE: 9.43, MAE: 7.02\n",
      "**************************************************\n",
      "Ticker: TAP, MAPE: 24.14, MAE: 13.23\n",
      "**************************************************\n",
      "Ticker: TGT, MAPE: 23.84, MAE: 32.81\n",
      "**************************************************\n",
      "Ticker: TSN, MAPE: 34.79, MAE: 20.62\n",
      "**************************************************\n",
      "Ticker: WBA, MAPE: 54.39, MAE: 5.62\n",
      "**************************************************\n",
      "Ticker: WMT, MAPE: 23.67, MAE: 20.46\n",
      "**************************************************\n"
     ]
    }
   ],
   "source": [
    "mapes_prophet = {}\n",
    "maes_prophet = {}\n",
    "\n",
    "for ticker in data.keys():\n",
    "    y_test = test[ticker]['close']\n",
    "    y_pred = models_prophet[ticker].predict(\n",
    "        n=len(y_test),\n",
    "        show_warnings=False\n",
    "    )\n",
    "    mape_ = mape(y_test, y_pred)\n",
    "    mae_ = mae(y_test, y_pred)\n",
    "    mapes_prophet[ticker] = mape_\n",
    "    maes_prophet[ticker] = mae_\n",
    "    print(f\"Ticker: {ticker}, MAPE: {mape_:.2f}, MAE: {mae_:.2f}\")\n",
    "    print(\"*\" * 50)"
   ]
  },
  {
   "cell_type": "code",
   "execution_count": 16,
   "id": "1f4600c3",
   "metadata": {},
   "outputs": [
    {
     "data": {
      "text/plain": [
       "(30.188116587585785, 27.689945705883773)"
      ]
     },
     "execution_count": 16,
     "metadata": {},
     "output_type": "execute_result"
    }
   ],
   "source": [
    "np.mean(list(mapes_prophet.values())), np.mean(list(maes_prophet.values()))"
   ]
  },
  {
   "cell_type": "markdown",
   "id": "5e177a24",
   "metadata": {},
   "source": [
    "## Theta model"
   ]
  },
  {
   "cell_type": "code",
   "execution_count": 17,
   "id": "92b8127c",
   "metadata": {},
   "outputs": [
    {
     "name": "stdout",
     "output_type": "stream",
     "text": [
      "Training model for ADM\n",
      "Model for ADM trained in 0.74 seconds\n",
      "**************************************************\n",
      "Training model for BF-B\n",
      "Model for BF-B trained in 0.72 seconds\n",
      "**************************************************\n",
      "Training model for BG\n",
      "Model for BG trained in 0.79 seconds\n",
      "**************************************************\n",
      "Training model for CAG\n",
      "Model for CAG trained in 0.69 seconds\n",
      "**************************************************\n",
      "Training model for CHD\n",
      "Model for CHD trained in 1.07 seconds\n",
      "**************************************************\n",
      "Training model for CL\n",
      "Model for CL trained in 1.10 seconds\n",
      "**************************************************\n",
      "Training model for CLX\n",
      "Model for CLX trained in 0.69 seconds\n",
      "**************************************************\n",
      "Training model for COST\n",
      "Model for COST trained in 1.26 seconds\n",
      "**************************************************\n",
      "Training model for CPB\n",
      "Model for CPB trained in 0.62 seconds\n",
      "**************************************************\n",
      "Training model for DG\n",
      "Model for DG trained in 0.62 seconds\n",
      "**************************************************\n",
      "Training model for DLTR\n",
      "Model for DLTR trained in 0.64 seconds\n",
      "**************************************************\n",
      "Training model for EL\n",
      "Model for EL trained in 1.28 seconds\n",
      "**************************************************\n",
      "Training model for GIS\n",
      "Model for GIS trained in 0.73 seconds\n",
      "**************************************************\n",
      "Training model for HRL\n",
      "Model for HRL trained in 0.72 seconds\n",
      "**************************************************\n",
      "Training model for HSY\n",
      "Model for HSY trained in 1.26 seconds\n",
      "**************************************************\n",
      "Training model for K\n",
      "Model for K trained in 0.64 seconds\n",
      "**************************************************\n",
      "Training model for KDP\n",
      "Model for KDP trained in 0.74 seconds\n",
      "**************************************************\n",
      "Training model for KHC\n",
      "Model for KHC trained in 0.63 seconds\n",
      "**************************************************\n",
      "Training model for KMB\n",
      "Model for KMB trained in 0.77 seconds\n",
      "**************************************************\n",
      "Training model for KO\n",
      "Model for KO trained in 0.72 seconds\n",
      "**************************************************\n",
      "Training model for KR\n",
      "Model for KR trained in 0.62 seconds\n",
      "**************************************************\n",
      "Training model for KVUE\n",
      "Model for KVUE trained in 0.05 seconds\n",
      "**************************************************\n",
      "Training model for LW\n",
      "Model for LW trained in 0.62 seconds\n",
      "**************************************************\n",
      "Training model for MDLZ\n",
      "Model for MDLZ trained in 1.11 seconds\n",
      "**************************************************\n",
      "Training model for MKC\n",
      "Model for MKC trained in 0.72 seconds\n",
      "**************************************************\n",
      "Training model for MNST\n",
      "Model for MNST trained in 1.17 seconds\n",
      "**************************************************\n",
      "Training model for MO\n",
      "Model for MO trained in 0.67 seconds\n",
      "**************************************************\n",
      "Training model for PEP\n",
      "Model for PEP trained in 1.04 seconds\n",
      "**************************************************\n",
      "Training model for PG\n",
      "Model for PG trained in 1.17 seconds\n",
      "**************************************************\n",
      "Training model for PM\n",
      "Model for PM trained in 0.86 seconds\n",
      "**************************************************\n",
      "Training model for SJM\n",
      "Model for SJM trained in 0.62 seconds\n",
      "**************************************************\n",
      "Training model for STZ\n",
      "Model for STZ trained in 0.59 seconds\n",
      "**************************************************\n",
      "Training model for SYY\n",
      "Model for SYY trained in 0.73 seconds\n",
      "**************************************************\n",
      "Training model for TAP\n",
      "Model for TAP trained in 0.65 seconds\n",
      "**************************************************\n",
      "Training model for TGT\n",
      "Model for TGT trained in 0.65 seconds\n",
      "**************************************************\n",
      "Training model for TSN\n",
      "Model for TSN trained in 0.76 seconds\n",
      "**************************************************\n",
      "Training model for WBA\n",
      "Model for WBA trained in 0.75 seconds\n",
      "**************************************************\n",
      "Training model for WMT\n",
      "Model for WMT trained in 0.83 seconds\n",
      "**************************************************\n"
     ]
    }
   ],
   "source": [
    "models_theta = {}\n",
    "\n",
    "for ticker in data.keys():\n",
    "    print(f\"Training model for {ticker}\")\n",
    "    start = time.time()\n",
    "    model = AutoTheta(\n",
    "        season_length=30\n",
    "    )\n",
    "\n",
    "    model.fit(\n",
    "        series=train[ticker]['close']\n",
    "    )\n",
    "\n",
    "    end = time.time()\n",
    "    print(f\"Model for {ticker} trained in {end - start:.2f} seconds\")\n",
    "    print(\"*\" * 50)\n",
    "\n",
    "    models_theta[ticker] = model"
   ]
  },
  {
   "cell_type": "code",
   "execution_count": 18,
   "id": "d466fb13",
   "metadata": {},
   "outputs": [
    {
     "name": "stdout",
     "output_type": "stream",
     "text": [
      "Ticker: ADM, MAPE: 12.35, MAE: 6.13\n",
      "**************************************************\n",
      "Ticker: BF-B, MAPE: 20.82, MAE: 7.46\n",
      "**************************************************\n",
      "Ticker: BG, MAPE: 17.59, MAE: 14.04\n",
      "**************************************************\n",
      "Ticker: CAG, MAPE: 9.36, MAE: 2.45\n",
      "**************************************************\n",
      "Ticker: CHD, MAPE: 3.27, MAE: 3.36\n",
      "**************************************************\n",
      "Ticker: CL, MAPE: 4.47, MAE: 4.32\n",
      "**************************************************\n",
      "Ticker: CLX, MAPE: 8.63, MAE: 13.30\n",
      "**************************************************\n",
      "Ticker: COST, MAPE: 15.98, MAE: 148.59\n",
      "**************************************************\n",
      "Ticker: CPB, MAPE: 8.41, MAE: 3.46\n",
      "**************************************************\n",
      "Ticker: DG, MAPE: 56.09, MAE: 45.05\n",
      "**************************************************\n",
      "Ticker: DLTR, MAPE: 54.53, MAE: 39.91\n",
      "**************************************************\n",
      "Ticker: EL, MAPE: 70.06, MAE: 51.78\n",
      "**************************************************\n",
      "Ticker: GIS, MAPE: 10.26, MAE: 6.22\n",
      "**************************************************\n",
      "Ticker: HRL, MAPE: 14.58, MAE: 4.37\n",
      "**************************************************\n",
      "Ticker: HSY, MAPE: 11.12, MAE: 18.56\n",
      "**************************************************\n",
      "Ticker: K, MAPE: 20.23, MAE: 16.07\n",
      "**************************************************\n",
      "Ticker: KDP, MAPE: 5.10, MAE: 1.69\n",
      "**************************************************\n",
      "Ticker: KHC, MAPE: 6.56, MAE: 2.00\n",
      "**************************************************\n",
      "Ticker: KMB, MAPE: 3.41, MAE: 4.64\n",
      "**************************************************\n",
      "Ticker: KO, MAPE: 5.83, MAE: 4.02\n",
      "**************************************************\n",
      "Ticker: KR, MAPE: 8.23, MAE: 5.11\n",
      "**************************************************\n",
      "Ticker: KVUE, MAPE: 3.84, MAE: 0.90\n",
      "**************************************************\n",
      "Ticker: LW, MAPE: 36.14, MAE: 21.06\n",
      "**************************************************\n",
      "Ticker: MDLZ, MAPE: 8.15, MAE: 5.06\n",
      "**************************************************\n",
      "Ticker: MKC, MAPE: 4.29, MAE: 3.26\n",
      "**************************************************\n",
      "Ticker: MNST, MAPE: 6.65, MAE: 3.35\n",
      "**************************************************\n",
      "Ticker: MO, MAPE: 18.02, MAE: 9.45\n",
      "**************************************************\n",
      "Ticker: PEP, MAPE: 10.11, MAE: 15.14\n",
      "**************************************************\n",
      "Ticker: PG, MAPE: 2.16, MAE: 3.58\n",
      "**************************************************\n",
      "Ticker: PM, MAPE: 22.72, MAE: 30.59\n",
      "**************************************************\n",
      "Ticker: SJM, MAPE: 3.97, MAE: 4.46\n",
      "**************************************************\n",
      "Ticker: STZ, MAPE: 17.19, MAE: 32.64\n",
      "**************************************************\n",
      "Ticker: SYY, MAPE: 3.40, MAE: 2.46\n",
      "**************************************************\n",
      "Ticker: TAP, MAPE: 6.01, MAE: 3.29\n",
      "**************************************************\n",
      "Ticker: TGT, MAPE: 20.55, MAE: 24.10\n",
      "**************************************************\n",
      "Ticker: TSN, MAPE: 3.90, MAE: 2.25\n",
      "**************************************************\n",
      "Ticker: WBA, MAPE: 36.42, MAE: 3.53\n",
      "**************************************************\n",
      "Ticker: WMT, MAPE: 24.90, MAE: 21.65\n",
      "**************************************************\n"
     ]
    }
   ],
   "source": [
    "mapes_theta = {}\n",
    "maes_theta = {}\n",
    "\n",
    "for ticker in data.keys():\n",
    "    y_test = test[ticker]['close']\n",
    "    y_pred = models_theta[ticker].predict(\n",
    "        n=len(y_test),\n",
    "        show_warnings=False\n",
    "    )\n",
    "    mape_ = mape(y_test, y_pred)\n",
    "    mae_ = mae(y_test, y_pred)\n",
    "    mapes_theta[ticker] = mape_\n",
    "    maes_theta[ticker] = mae_\n",
    "    print(f\"Ticker: {ticker}, MAPE: {mape_:.2f}, MAE: {mae_:.2f}\")\n",
    "    print(\"*\" * 50)"
   ]
  },
  {
   "cell_type": "code",
   "execution_count": 19,
   "id": "25979024",
   "metadata": {},
   "outputs": [
    {
     "data": {
      "text/plain": [
       "(15.666385109203825, 15.507690227460156)"
      ]
     },
     "execution_count": 19,
     "metadata": {},
     "output_type": "execute_result"
    }
   ],
   "source": [
    "np.mean(list(mapes_theta.values())), np.mean(list(maes_theta.values()))"
   ]
  },
  {
   "cell_type": "markdown",
   "id": "d147b846",
   "metadata": {},
   "source": [
    "## Linear Regression"
   ]
  },
  {
   "cell_type": "markdown",
   "id": "6df2f493",
   "metadata": {},
   "source": [
    "### Local model"
   ]
  },
  {
   "cell_type": "code",
   "execution_count": 20,
   "id": "a98d2d26",
   "metadata": {},
   "outputs": [
    {
     "name": "stdout",
     "output_type": "stream",
     "text": [
      "Training model for ADM\n",
      "Model for ADM trained in 0.13 seconds\n",
      "**************************************************\n",
      "Training model for BF-B\n",
      "Model for BF-B trained in 0.12 seconds\n",
      "**************************************************\n",
      "Training model for BG\n",
      "Model for BG trained in 0.12 seconds\n",
      "**************************************************\n",
      "Training model for CAG\n",
      "Model for CAG trained in 0.12 seconds\n",
      "**************************************************\n",
      "Training model for CHD\n",
      "Model for CHD trained in 0.12 seconds\n",
      "**************************************************\n",
      "Training model for CL\n",
      "Model for CL trained in 0.12 seconds\n",
      "**************************************************\n",
      "Training model for CLX\n",
      "Model for CLX trained in 0.12 seconds\n",
      "**************************************************\n",
      "Training model for COST\n",
      "Model for COST trained in 0.12 seconds\n",
      "**************************************************\n",
      "Training model for CPB\n",
      "Model for CPB trained in 0.12 seconds\n",
      "**************************************************\n",
      "Training model for DG\n",
      "Model for DG trained in 0.12 seconds\n",
      "**************************************************\n",
      "Training model for DLTR\n",
      "Model for DLTR trained in 0.12 seconds\n",
      "**************************************************\n",
      "Training model for EL\n",
      "Model for EL trained in 0.12 seconds\n",
      "**************************************************\n",
      "Training model for GIS\n",
      "Model for GIS trained in 0.12 seconds\n",
      "**************************************************\n",
      "Training model for HRL\n",
      "Model for HRL trained in 0.12 seconds\n",
      "**************************************************\n",
      "Training model for HSY\n",
      "Model for HSY trained in 0.12 seconds\n",
      "**************************************************\n",
      "Training model for K\n",
      "Model for K trained in 0.12 seconds\n",
      "**************************************************\n",
      "Training model for KDP\n",
      "Model for KDP trained in 0.12 seconds\n",
      "**************************************************\n",
      "Training model for KHC\n",
      "Model for KHC trained in 0.12 seconds\n",
      "**************************************************\n",
      "Training model for KMB\n",
      "Model for KMB trained in 0.12 seconds\n",
      "**************************************************\n",
      "Training model for KO\n",
      "Model for KO trained in 0.12 seconds\n",
      "**************************************************\n",
      "Training model for KR\n",
      "Model for KR trained in 0.12 seconds\n",
      "**************************************************\n",
      "Training model for KVUE\n",
      "Model for KVUE trained in 0.06 seconds\n",
      "**************************************************\n",
      "Training model for LW\n",
      "Model for LW trained in 0.11 seconds\n",
      "**************************************************\n",
      "Training model for MDLZ\n",
      "Model for MDLZ trained in 0.14 seconds\n",
      "**************************************************\n",
      "Training model for MKC\n",
      "Model for MKC trained in 0.12 seconds\n",
      "**************************************************\n",
      "Training model for MNST\n",
      "Model for MNST trained in 0.12 seconds\n",
      "**************************************************\n",
      "Training model for MO\n",
      "Model for MO trained in 0.12 seconds\n",
      "**************************************************\n",
      "Training model for PEP\n",
      "Model for PEP trained in 0.12 seconds\n",
      "**************************************************\n",
      "Training model for PG\n",
      "Model for PG trained in 0.12 seconds\n",
      "**************************************************\n",
      "Training model for PM\n",
      "Model for PM trained in 0.12 seconds\n",
      "**************************************************\n",
      "Training model for SJM\n",
      "Model for SJM trained in 0.12 seconds\n",
      "**************************************************\n",
      "Training model for STZ\n",
      "Model for STZ trained in 0.12 seconds\n",
      "**************************************************\n",
      "Training model for SYY\n",
      "Model for SYY trained in 0.12 seconds\n",
      "**************************************************\n",
      "Training model for TAP\n",
      "Model for TAP trained in 0.12 seconds\n",
      "**************************************************\n",
      "Training model for TGT\n",
      "Model for TGT trained in 0.12 seconds\n",
      "**************************************************\n",
      "Training model for TSN\n",
      "Model for TSN trained in 0.12 seconds\n",
      "**************************************************\n",
      "Training model for WBA\n",
      "Model for WBA trained in 0.12 seconds\n",
      "**************************************************\n",
      "Training model for WMT\n",
      "Model for WMT trained in 0.12 seconds\n",
      "**************************************************\n"
     ]
    }
   ],
   "source": [
    "models_lr = {}\n",
    "\n",
    "for ticker in data.keys():\n",
    "    print(f\"Training model for {ticker}\")\n",
    "    start = time.time()\n",
    "    model = LinearRegressionModel(\n",
    "        lags=15,\n",
    "        lags_past_covariates=1,\n",
    "        lags_future_covariates=[0],\n",
    "        output_chunk_length=1,\n",
    "        random_state=42,\n",
    "        add_encoders={\n",
    "            'datetime_attribute': {\n",
    "                'future': ['month', 'day', 'dayofweek', 'dayofyear', 'quarter', 'year'] # automatically generate future covariates from time series\n",
    "            }\n",
    "        }\n",
    "    )\n",
    "\n",
    "    model.fit(\n",
    "        train[ticker]['close'],\n",
    "        past_covariates=train[ticker][['high', 'low', 'volume', 'open']],\n",
    "    )\n",
    "\n",
    "    end = time.time()\n",
    "    print(f\"Model for {ticker} trained in {end - start:.2f} seconds\")\n",
    "    print(\"*\" * 50)\n",
    "\n",
    "    models_lr[ticker] = model"
   ]
  },
  {
   "cell_type": "code",
   "execution_count": 21,
   "id": "79a5002a",
   "metadata": {},
   "outputs": [
    {
     "name": "stdout",
     "output_type": "stream",
     "text": [
      "Ticker: ADM, MAPE: 2.42, MAE: 1.26\n",
      "**************************************************\n",
      "Ticker: BF-B, MAPE: 4.97, MAE: 1.89\n",
      "**************************************************\n",
      "Ticker: BG, MAPE: 406650594.14, MAE: 316128195.45\n",
      "**************************************************\n",
      "Ticker: CAG, MAPE: 2.70, MAE: 0.73\n",
      "**************************************************\n",
      "Ticker: CHD, MAPE: 2423675457.13, MAE: 2441418390.13\n",
      "**************************************************\n",
      "Ticker: CL, MAPE: 2.06, MAE: 1.96\n",
      "**************************************************\n",
      "Ticker: CLX, MAPE: 17445009.72, MAE: 24546607.73\n",
      "**************************************************\n",
      "Ticker: COST, MAPE: 2.75, MAE: 25.30\n",
      "**************************************************\n",
      "Ticker: CPB, MAPE: 975199.46, MAE: 365300.30\n",
      "**************************************************\n",
      "Ticker: DG, MAPE: 3.52, MAE: 3.20\n",
      "**************************************************\n",
      "Ticker: DLTR, MAPE: 5.87, MAE: 4.49\n",
      "**************************************************\n",
      "Ticker: EL, MAPE: 4.99, MAE: 3.91\n",
      "**************************************************\n",
      "Ticker: GIS, MAPE: 3.41, MAE: 2.13\n",
      "**************************************************\n",
      "Ticker: HRL, MAPE: 588203.71, MAE: 175381.61\n",
      "**************************************************\n",
      "Ticker: HSY, MAPE: 5.64, MAE: 9.55\n",
      "**************************************************\n",
      "Ticker: K, MAPE: 64.14, MAE: 51.95\n",
      "**************************************************\n",
      "Ticker: KDP, MAPE: 6.82, MAE: 2.25\n",
      "**************************************************\n",
      "Ticker: KHC, MAPE: 2.70, MAE: 0.86\n",
      "**************************************************\n",
      "Ticker: KMB, MAPE: 2.16, MAE: 2.91\n",
      "**************************************************\n",
      "Ticker: KO, MAPE: 1.20, MAE: 0.80\n",
      "**************************************************\n",
      "Ticker: KR, MAPE: 2.49, MAE: 1.48\n",
      "**************************************************\n",
      "Ticker: KVUE, MAPE: 1.90, MAE: 0.43\n",
      "**************************************************\n",
      "Ticker: LW, MAPE: 28.75, MAE: 16.95\n",
      "**************************************************\n",
      "Ticker: MDLZ, MAPE: 2.14, MAE: 1.37\n",
      "**************************************************\n",
      "Ticker: MKC, MAPE: 3.86, MAE: 2.88\n",
      "**************************************************\n",
      "Ticker: MNST, MAPE: 3.47, MAE: 1.77\n",
      "**************************************************\n",
      "Ticker: MO, MAPE: 5.51, MAE: 2.86\n",
      "**************************************************\n",
      "Ticker: PEP, MAPE: 1.94, MAE: 2.99\n",
      "**************************************************\n",
      "Ticker: PG, MAPE: 1.81, MAE: 3.00\n",
      "**************************************************\n",
      "Ticker: PM, MAPE: 3.29, MAE: 4.39\n",
      "**************************************************\n",
      "Ticker: SJM, MAPE: 6.29, MAE: 6.90\n",
      "**************************************************\n",
      "Ticker: STZ, MAPE: 2.75, MAE: 5.58\n",
      "**************************************************\n",
      "Ticker: SYY, MAPE: 4.07, MAE: 2.94\n",
      "**************************************************\n",
      "Ticker: TAP, MAPE: 268128513.38, MAE: 156903626.74\n",
      "**************************************************\n",
      "Ticker: TGT, MAPE: 2.95, MAE: 3.79\n",
      "**************************************************\n",
      "Ticker: TSN, MAPE: 2.71, MAE: 1.59\n",
      "**************************************************\n",
      "Ticker: WBA, MAPE: 30.44, MAE: 2.97\n",
      "**************************************************\n",
      "Ticker: WMT, MAPE: 5.02, MAE: 4.27\n",
      "**************************************************\n"
     ]
    }
   ],
   "source": [
    "mapes_lr = {}\n",
    "maes_lr = {}\n",
    "\n",
    "for ticker in data.keys():\n",
    "    y_test = test[ticker]['close']\n",
    "    y_pred = models_lr[ticker].predict(\n",
    "        n=len(y_test),\n",
    "        past_covariates=test[ticker][['high', 'low', 'volume', 'open']],\n",
    "        show_warnings=False\n",
    "    )\n",
    "    mape_ = mape(y_test, y_pred)\n",
    "    mae_ = mae(y_test, y_pred)\n",
    "    mapes_lr[ticker] = mape_\n",
    "    maes_lr[ticker] = mae_\n",
    "    print(f\"Ticker: {ticker}, MAPE: {mape_:.2f}, MAE: {mae_:.2f}\")\n",
    "    print(\"*\" * 50)"
   ]
  },
  {
   "cell_type": "code",
   "execution_count": 22,
   "id": "1a3fbd8d",
   "metadata": {},
   "outputs": [
    {
     "data": {
      "text/plain": [
       "(82038505.32314461, 77356254.77204046)"
      ]
     },
     "execution_count": 22,
     "metadata": {},
     "output_type": "execute_result"
    }
   ],
   "source": [
    "np.mean(list(mapes_lr.values())), np.mean(list(maes_lr.values()))"
   ]
  },
  {
   "cell_type": "markdown",
   "id": "1f27462f",
   "metadata": {},
   "source": [
    "### Global model"
   ]
  },
  {
   "cell_type": "code",
   "execution_count": 23,
   "id": "3879adfb",
   "metadata": {},
   "outputs": [
    {
     "name": "stdout",
     "output_type": "stream",
     "text": [
      "Training global model\n",
      "Global model trained in 4.64 seconds\n",
      "**************************************************\n"
     ]
    }
   ],
   "source": [
    "print(f\"Training global model\")\n",
    "start = time.time()\n",
    "model = LinearRegressionModel(\n",
    "    lags=15,\n",
    "    lags_past_covariates=1,\n",
    "    lags_future_covariates=[0],\n",
    "    output_chunk_length=1,\n",
    "    random_state=42,\n",
    "    add_encoders={\n",
    "        'datetime_attribute': {\n",
    "            'future': ['month', 'day', 'dayofweek', 'dayofyear', 'quarter', 'year'] # automatically generate future covariates from time series\n",
    "        }\n",
    "    }\n",
    ")\n",
    "\n",
    "model.fit(\n",
    "    [ts['close'] for ts in train.values()],\n",
    "    past_covariates=[ts[['high', 'low', 'volume', 'open']] for ts in train.values()],\n",
    ")\n",
    "\n",
    "end = time.time()\n",
    "print(f\"Global model trained in {end - start:.2f} seconds\")\n",
    "print(\"*\" * 50)"
   ]
  },
  {
   "cell_type": "code",
   "execution_count": 24,
   "id": "545bdc45",
   "metadata": {},
   "outputs": [
    {
     "name": "stdout",
     "output_type": "stream",
     "text": [
      "Global model for ADM, MAPE: 2.33, MAE: 1.22\n",
      "**************************************************\n",
      "Global model for BF-B, MAPE: 3.36, MAE: 1.31\n",
      "**************************************************\n",
      "Global model for BG, MAPE: 2.90, MAE: 2.51\n",
      "**************************************************\n",
      "Global model for CAG, MAPE: 2.18, MAE: 0.60\n",
      "**************************************************\n",
      "Global model for CHD, MAPE: 1.88, MAE: 1.96\n",
      "**************************************************\n",
      "Global model for CL, MAPE: 1.95, MAE: 1.83\n",
      "**************************************************\n",
      "Global model for CLX, MAPE: 2.20, MAE: 3.22\n",
      "**************************************************\n",
      "Global model for COST, MAPE: 2.55, MAE: 23.26\n",
      "**************************************************\n",
      "Global model for CPB, MAPE: 2.49, MAE: 1.06\n",
      "**************************************************\n",
      "Global model for DG, MAPE: 4.35, MAE: 3.88\n",
      "**************************************************\n",
      "Global model for DLTR, MAPE: 4.46, MAE: 3.50\n",
      "**************************************************\n",
      "Global model for EL, MAPE: 5.56, MAE: 4.41\n",
      "**************************************************\n",
      "Global model for GIS, MAPE: 2.34, MAE: 1.49\n",
      "**************************************************\n",
      "Global model for HRL, MAPE: 2.05, MAE: 0.62\n",
      "**************************************************\n",
      "Global model for HSY, MAPE: 2.85, MAE: 4.98\n",
      "**************************************************\n",
      "Global model for K, MAPE: 1.61, MAE: 1.16\n",
      "**************************************************\n",
      "Global model for KDP, MAPE: 2.14, MAE: 0.72\n",
      "**************************************************\n",
      "Global model for KHC, MAPE: 2.06, MAE: 0.65\n",
      "**************************************************\n",
      "Global model for KMB, MAPE: 1.96, MAE: 2.64\n",
      "**************************************************\n",
      "Global model for KO, MAPE: 1.88, MAE: 1.25\n",
      "**************************************************\n",
      "Global model for KR, MAPE: 2.01, MAE: 1.19\n",
      "**************************************************\n",
      "Global model for KVUE, MAPE: 2.60, MAE: 0.60\n",
      "**************************************************\n",
      "Global model for LW, MAPE: 4.91, MAE: 3.04\n",
      "**************************************************\n",
      "Global model for MDLZ, MAPE: 2.36, MAE: 1.53\n",
      "**************************************************\n",
      "Global model for MKC, MAPE: 2.26, MAE: 1.71\n",
      "**************************************************\n",
      "Global model for MNST, MAPE: 2.57, MAE: 1.34\n",
      "**************************************************\n",
      "Global model for MO, MAPE: 2.19, MAE: 1.12\n",
      "**************************************************\n",
      "Global model for PEP, MAPE: 2.11, MAE: 3.28\n",
      "**************************************************\n",
      "Global model for PG, MAPE: 1.57, MAE: 2.60\n",
      "**************************************************\n",
      "Global model for PM, MAPE: 2.78, MAE: 3.64\n",
      "**************************************************\n",
      "Global model for SJM, MAPE: 2.06, MAE: 2.29\n",
      "**************************************************\n",
      "Global model for STZ, MAPE: 2.78, MAE: 5.74\n",
      "**************************************************\n",
      "Global model for SYY, MAPE: 1.83, MAE: 1.35\n",
      "**************************************************\n",
      "Global model for TAP, MAPE: 2.42, MAE: 1.36\n",
      "**************************************************\n",
      "Global model for TGT, MAPE: 3.54, MAE: 4.49\n",
      "**************************************************\n",
      "Global model for TSN, MAPE: 2.36, MAE: 1.40\n",
      "**************************************************\n",
      "Global model for WBA, MAPE: 5.28, MAE: 0.57\n",
      "**************************************************\n",
      "Global model for WMT, MAPE: 3.02, MAE: 2.52\n",
      "**************************************************\n"
     ]
    }
   ],
   "source": [
    "mapes_lr_global = {}\n",
    "maes_lr_global = {}\n",
    "\n",
    "for ticker in data.keys():\n",
    "    y_pred = model.predict(\n",
    "        n=len(test[ticker]['close']),\n",
    "        series=train[ticker]['close'],\n",
    "        past_covariates=test[ticker][['high', 'low', 'volume', 'open']],\n",
    "        show_warnings=False\n",
    "    )\n",
    "    y_test = test[ticker]['close']\n",
    "    mape_ = mape(y_test, y_pred)\n",
    "    mae_ = mae(y_test, y_pred)\n",
    "\n",
    "    mapes_lr_global[ticker] = mape_\n",
    "    maes_lr_global[ticker] = mae_\n",
    "\n",
    "    print(f\"Global model for {ticker}, MAPE: {mape_:.2f}, MAE: {mae_:.2f}\")\n",
    "    print(\"*\" * 50)"
   ]
  },
  {
   "cell_type": "code",
   "execution_count": 25,
   "id": "40364019",
   "metadata": {},
   "outputs": [
    {
     "data": {
      "text/plain": [
       "(2.677161687275213, 2.684651877776074)"
      ]
     },
     "execution_count": 25,
     "metadata": {},
     "output_type": "execute_result"
    }
   ],
   "source": [
    "np.mean(list(mapes_lr_global.values())), np.mean(list(maes_lr_global.values()))"
   ]
  },
  {
   "cell_type": "markdown",
   "id": "aa41ad7a",
   "metadata": {},
   "source": [
    "## ARIMA"
   ]
  },
  {
   "cell_type": "code",
   "execution_count": 28,
   "id": "135ba2a8",
   "metadata": {},
   "outputs": [
    {
     "name": "stdout",
     "output_type": "stream",
     "text": [
      "Training model for ADM\n",
      "Model for ADM trained in 0.19 seconds\n",
      "**************************************************\n",
      "Training model for BF-B\n",
      "Model for BF-B trained in 0.22 seconds\n",
      "**************************************************\n",
      "Training model for BG\n",
      "Model for BG trained in 1.35 seconds\n",
      "**************************************************\n",
      "Training model for CAG\n",
      "Model for CAG trained in 0.79 seconds\n",
      "**************************************************\n",
      "Training model for CHD\n",
      "Model for CHD trained in 0.33 seconds\n",
      "**************************************************\n",
      "Training model for CL\n",
      "Model for CL trained in 0.76 seconds\n",
      "**************************************************\n",
      "Training model for CLX\n",
      "Model for CLX trained in 1.42 seconds\n",
      "**************************************************\n",
      "Training model for COST\n",
      "Model for COST trained in 1.67 seconds\n",
      "**************************************************\n",
      "Training model for CPB\n",
      "Model for CPB trained in 0.21 seconds\n",
      "**************************************************\n",
      "Training model for DG\n",
      "Model for DG trained in 2.51 seconds\n",
      "**************************************************\n",
      "Training model for DLTR\n",
      "Model for DLTR trained in 0.22 seconds\n",
      "**************************************************\n",
      "Training model for EL\n",
      "Model for EL trained in 0.42 seconds\n",
      "**************************************************\n",
      "Training model for GIS\n",
      "Model for GIS trained in 1.33 seconds\n",
      "**************************************************\n",
      "Training model for HRL\n",
      "Model for HRL trained in 2.01 seconds\n",
      "**************************************************\n",
      "Training model for HSY\n",
      "Model for HSY trained in 0.66 seconds\n",
      "**************************************************\n",
      "Training model for K\n",
      "Model for K trained in 1.41 seconds\n",
      "**************************************************\n",
      "Training model for KDP\n",
      "Model for KDP trained in 2.64 seconds\n",
      "**************************************************\n",
      "Training model for KHC\n",
      "Model for KHC trained in 0.21 seconds\n",
      "**************************************************\n",
      "Training model for KMB\n",
      "Model for KMB trained in 4.48 seconds\n",
      "**************************************************\n",
      "Training model for KO\n",
      "Model for KO trained in 0.21 seconds\n",
      "**************************************************\n",
      "Training model for KR\n",
      "Model for KR trained in 1.40 seconds\n",
      "**************************************************\n",
      "Training model for KVUE\n",
      "Model for KVUE trained in 0.11 seconds\n",
      "**************************************************\n",
      "Training model for LW\n",
      "Model for LW trained in 1.43 seconds\n",
      "**************************************************\n",
      "Training model for MDLZ\n",
      "Model for MDLZ trained in 0.43 seconds\n",
      "**************************************************\n",
      "Training model for MKC\n",
      "Model for MKC trained in 0.44 seconds\n",
      "**************************************************\n",
      "Training model for MNST\n",
      "Model for MNST trained in 0.65 seconds\n",
      "**************************************************\n",
      "Training model for MO\n",
      "Model for MO trained in 0.21 seconds\n",
      "**************************************************\n",
      "Training model for PEP\n",
      "Model for PEP trained in 0.31 seconds\n",
      "**************************************************\n",
      "Training model for PG\n",
      "Model for PG trained in 0.34 seconds\n",
      "**************************************************\n",
      "Training model for PM\n",
      "Model for PM trained in 0.72 seconds\n",
      "**************************************************\n",
      "Training model for SJM\n",
      "Model for SJM trained in 1.18 seconds\n",
      "**************************************************\n",
      "Training model for STZ\n",
      "Model for STZ trained in 0.21 seconds\n",
      "**************************************************\n",
      "Training model for SYY\n",
      "Model for SYY trained in 1.47 seconds\n",
      "**************************************************\n",
      "Training model for TAP\n",
      "Model for TAP trained in 1.67 seconds\n",
      "**************************************************\n",
      "Training model for TGT\n",
      "Model for TGT trained in 0.76 seconds\n",
      "**************************************************\n",
      "Training model for TSN\n",
      "Model for TSN trained in 1.38 seconds\n",
      "**************************************************\n",
      "Training model for WBA\n",
      "Model for WBA trained in 0.22 seconds\n",
      "**************************************************\n",
      "Training model for WMT\n",
      "Model for WMT trained in 0.93 seconds\n",
      "**************************************************\n"
     ]
    }
   ],
   "source": [
    "models_arima = {}\n",
    "\n",
    "for ticker in data.keys():\n",
    "    print(f\"Training model for {ticker}\")\n",
    "    start = time.time()\n",
    "    model = AutoARIMA()\n",
    "\n",
    "    model.fit(\n",
    "        series=train[ticker]['close'],\n",
    "    )\n",
    "\n",
    "    end = time.time()\n",
    "    print(f\"Model for {ticker} trained in {end - start:.2f} seconds\")\n",
    "    print(\"*\" * 50)\n",
    "\n",
    "    models_arima[ticker] = model"
   ]
  },
  {
   "cell_type": "code",
   "execution_count": 29,
   "id": "64a5ed9e",
   "metadata": {},
   "outputs": [
    {
     "name": "stdout",
     "output_type": "stream",
     "text": [
      "Ticker: ADM, MAPE: 10.29, MAE: 5.15\n",
      "**************************************************\n",
      "Ticker: BF-B, MAPE: 17.54, MAE: 6.26\n",
      "**************************************************\n",
      "Ticker: BG, MAPE: 15.84, MAE: 12.68\n",
      "**************************************************\n",
      "Ticker: CAG, MAPE: 8.89, MAE: 2.33\n",
      "**************************************************\n",
      "Ticker: CHD, MAPE: 4.34, MAE: 4.46\n",
      "**************************************************\n",
      "Ticker: CL, MAPE: 4.59, MAE: 4.47\n",
      "**************************************************\n",
      "Ticker: CLX, MAPE: 9.30, MAE: 14.31\n",
      "**************************************************\n",
      "Ticker: COST, MAPE: 15.89, MAE: 147.64\n",
      "**************************************************\n",
      "Ticker: CPB, MAPE: 8.38, MAE: 3.45\n",
      "**************************************************\n",
      "Ticker: DG, MAPE: 50.12, MAE: 40.17\n",
      "**************************************************\n",
      "Ticker: DLTR, MAPE: 50.56, MAE: 36.93\n",
      "**************************************************\n",
      "Ticker: EL, MAPE: 62.52, MAE: 46.28\n",
      "**************************************************\n",
      "Ticker: GIS, MAPE: 8.52, MAE: 5.20\n",
      "**************************************************\n",
      "Ticker: HRL, MAPE: 12.17, MAE: 3.65\n",
      "**************************************************\n",
      "Ticker: HSY, MAPE: 8.68, MAE: 14.49\n",
      "**************************************************\n",
      "Ticker: K, MAPE: 20.79, MAE: 16.54\n",
      "**************************************************\n",
      "Ticker: KDP, MAPE: 4.45, MAE: 1.51\n",
      "**************************************************\n",
      "Ticker: KHC, MAPE: 8.54, MAE: 2.57\n",
      "**************************************************\n",
      "Ticker: KMB, MAPE: 3.66, MAE: 5.02\n",
      "**************************************************\n",
      "Ticker: KO, MAPE: 8.06, MAE: 5.52\n",
      "**************************************************\n",
      "Ticker: KR, MAPE: 8.94, MAE: 5.56\n",
      "**************************************************\n",
      "Ticker: KVUE, MAPE: 4.10, MAE: 0.96\n",
      "**************************************************\n",
      "Ticker: LW, MAPE: 30.54, MAE: 17.70\n",
      "**************************************************\n",
      "Ticker: MDLZ, MAPE: 6.84, MAE: 4.25\n",
      "**************************************************\n",
      "Ticker: MKC, MAPE: 5.48, MAE: 4.21\n",
      "**************************************************\n",
      "Ticker: MNST, MAPE: 5.71, MAE: 2.93\n",
      "**************************************************\n",
      "Ticker: MO, MAPE: 18.24, MAE: 9.56\n",
      "**************************************************\n",
      "Ticker: PEP, MAPE: 11.31, MAE: 16.95\n",
      "**************************************************\n",
      "Ticker: PG, MAPE: 2.23, MAE: 3.71\n",
      "**************************************************\n",
      "Ticker: PM, MAPE: 22.84, MAE: 30.81\n",
      "**************************************************\n",
      "Ticker: SJM, MAPE: 4.27, MAE: 4.82\n",
      "**************************************************\n",
      "Ticker: STZ, MAPE: 15.39, MAE: 29.02\n",
      "**************************************************\n",
      "Ticker: SYY, MAPE: 3.06, MAE: 2.27\n",
      "**************************************************\n",
      "Ticker: TAP, MAPE: 6.22, MAE: 3.38\n",
      "**************************************************\n",
      "Ticker: TGT, MAPE: 16.21, MAE: 18.71\n",
      "**************************************************\n",
      "Ticker: TSN, MAPE: 3.86, MAE: 2.26\n",
      "**************************************************\n",
      "Ticker: WBA, MAPE: 56.37, MAE: 5.56\n",
      "**************************************************\n",
      "Ticker: WMT, MAPE: 23.97, MAE: 20.83\n",
      "**************************************************\n"
     ]
    }
   ],
   "source": [
    "mapes_arima = {}\n",
    "maes_arima = {}\n",
    "\n",
    "for ticker in data.keys():\n",
    "    y_test = test[ticker]['close']\n",
    "    y_pred = models_arima[ticker].predict(\n",
    "        n=len(y_test),\n",
    "        show_warnings=False\n",
    "    )\n",
    "    mape_ = mape(y_test, y_pred)\n",
    "    mae_ = mae(y_test, y_pred)\n",
    "    mapes_arima[ticker] = mape_\n",
    "    maes_arima[ticker] = mae_\n",
    "    print(f\"Ticker: {ticker}, MAPE: {mape_:.2f}, MAE: {mae_:.2f}\")\n",
    "    print(\"*\" * 50)"
   ]
  },
  {
   "cell_type": "code",
   "execution_count": 30,
   "id": "3540f772",
   "metadata": {},
   "outputs": [
    {
     "data": {
      "text/plain": [
       "(15.228659909266556, 14.79272391872359)"
      ]
     },
     "execution_count": 30,
     "metadata": {},
     "output_type": "execute_result"
    }
   ],
   "source": [
    "np.mean(list(mapes_arima.values())), np.mean(list(maes_arima.values()))"
   ]
  }
 ],
 "metadata": {
  "kernelspec": {
   "display_name": ".venv",
   "language": "python",
   "name": "python3"
  },
  "language_info": {
   "codemirror_mode": {
    "name": "ipython",
    "version": 3
   },
   "file_extension": ".py",
   "mimetype": "text/x-python",
   "name": "python",
   "nbconvert_exporter": "python",
   "pygments_lexer": "ipython3",
   "version": "3.12.1"
  }
 },
 "nbformat": 4,
 "nbformat_minor": 5
}
