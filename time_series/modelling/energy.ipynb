{
 "cells": [
  {
   "cell_type": "markdown",
   "id": "a132de14",
   "metadata": {},
   "source": [
    "## Model training and tuning for the energy sector"
   ]
  },
  {
   "cell_type": "code",
   "execution_count": 1,
   "id": "d74fe196",
   "metadata": {},
   "outputs": [
    {
     "name": "stderr",
     "output_type": "stream",
     "text": [
      "Importing plotly failed. Interactive plots will not work.\n",
      "d:\\investing-bot\\.venv\\Lib\\site-packages\\fs\\__init__.py:4: UserWarning: pkg_resources is deprecated as an API. See https://setuptools.pypa.io/en/latest/pkg_resources.html. The pkg_resources package is slated for removal as early as 2025-11-30. Refrain from using this package or pin to Setuptools<81.\n",
      "  __import__(\"pkg_resources\").declare_namespace(__name__)  # type: ignore\n"
     ]
    }
   ],
   "source": [
    "import pandas as pd\n",
    "import numpy as np\n",
    "\n",
    "import time\n",
    "\n",
    "from darts import TimeSeries, concatenate\n",
    "from darts.utils.model_selection import train_test_split\n",
    "from darts.models.forecasting.xgboost import XGBModel\n",
    "from darts.dataprocessing.transformers.scaler import Scaler\n",
    "from darts.metrics.metrics import mape, mae\n",
    "from darts.models.forecasting.prophet_model import Prophet\n",
    "from darts.models.forecasting.sf_auto_theta import AutoTheta\n",
    "from darts.models.forecasting.linear_regression_model import LinearRegressionModel\n",
    "from darts.dataprocessing.transformers import StaticCovariatesTransformer\n",
    "from darts.models.forecasting.sf_auto_arima import AutoARIMA\n",
    "from darts.dataprocessing.transformers.boxcox import BoxCox"
   ]
  },
  {
   "cell_type": "code",
   "execution_count": 2,
   "id": "8c7af10f",
   "metadata": {},
   "outputs": [],
   "source": [
    "df = pd.read_csv('../../data/processed/sp500_all_companies_cleaned_with_sector.csv')\n",
    "df['date'] = pd.to_datetime(df['date'])\n",
    "\n",
    "df_energy = df[df['GICS Sector'] == 'Energy'].sort_values(by=['ticker', 'date']).reset_index(drop=True)"
   ]
  },
  {
   "cell_type": "code",
   "execution_count": 3,
   "id": "ece8cf77",
   "metadata": {},
   "outputs": [
    {
     "data": {
      "text/plain": [
       "GICS Sector\n",
       "Industrials               193459\n",
       "Financials                190485\n",
       "Information Technology    177149\n",
       "Health Care               151348\n",
       "Consumer Discretionary    130185\n",
       "Consumer Staples           96649\n",
       "Real Estate                79757\n",
       "Utilities                  78786\n",
       "Materials                  63394\n",
       "Energy                     58523\n",
       "Communication Services     58017\n",
       "Name: count, dtype: int64"
      ]
     },
     "execution_count": 3,
     "metadata": {},
     "output_type": "execute_result"
    }
   ],
   "source": [
    "df['GICS Sector'].value_counts()"
   ]
  },
  {
   "cell_type": "code",
   "execution_count": 4,
   "id": "3a82775d",
   "metadata": {},
   "outputs": [
    {
     "data": {
      "text/plain": [
       "array(['APA', 'BKR', 'COP', 'CTRA', 'CVX', 'DVN', 'EOG', 'EQT', 'EXE',\n",
       "       'FANG', 'HAL', 'HES', 'KMI', 'MPC', 'OKE', 'OXY', 'PSX', 'SLB',\n",
       "       'TPL', 'TRGP', 'VLO', 'WMB', 'XOM'], dtype=object)"
      ]
     },
     "execution_count": 4,
     "metadata": {},
     "output_type": "execute_result"
    }
   ],
   "source": [
    "df_energy['ticker'].unique()"
   ]
  },
  {
   "cell_type": "code",
   "execution_count": 5,
   "id": "92847a29",
   "metadata": {},
   "outputs": [],
   "source": [
    "data = {}\n",
    "static_covs = pd.DataFrame({'ticker': df_energy['ticker'].unique()})\n",
    "\n",
    "for ticker, group in df_energy.groupby('ticker'):\n",
    "    series = TimeSeries.from_dataframe(\n",
    "        group,\n",
    "        time_col='date',\n",
    "        value_cols=['close', 'high', 'low', 'open', 'volume'],\n",
    "        freq='B',\n",
    "        static_covariates=pd.Series(ticker)\n",
    "    )\n",
    "    data[ticker] = series"
   ]
  },
  {
   "cell_type": "code",
   "execution_count": 6,
   "id": "64b0d57f",
   "metadata": {},
   "outputs": [],
   "source": [
    "# encode each ticker as a static covariate\n",
    "transformer = StaticCovariatesTransformer()\n",
    "ts = [d for d in data.values()]\n",
    "transformer.fit(ts)\n",
    "\n",
    "for ticker, series in data.items():\n",
    "    data[ticker] = transformer.transform(series)"
   ]
  },
  {
   "cell_type": "code",
   "execution_count": 7,
   "id": "8ebc137c",
   "metadata": {},
   "outputs": [],
   "source": [
    "train = {}\n",
    "test = {}\n",
    "\n",
    "for ticker, series in data.items():\n",
    "    train[ticker], test[ticker] = train_test_split(series, test_size=0.1)\n",
    "    last_train = train[ticker][-1:]\n",
    "    test_with_context = last_train.append(test[ticker]) # append last point of train to test as our forecast requires it\n",
    "    test[ticker] = test_with_context"
   ]
  },
  {
   "cell_type": "markdown",
   "id": "2ff40656",
   "metadata": {},
   "source": [
    "## Gradient Boosting"
   ]
  },
  {
   "cell_type": "markdown",
   "id": "ab5a6a61",
   "metadata": {},
   "source": [
    "### Train a local model first"
   ]
  },
  {
   "cell_type": "code",
   "execution_count": 8,
   "id": "630b92e0",
   "metadata": {},
   "outputs": [
    {
     "name": "stdout",
     "output_type": "stream",
     "text": [
      "Training model for APA\n",
      "Model for APA trained in 0.35 seconds\n",
      "**************************************************\n",
      "Training model for BKR\n",
      "Model for BKR trained in 0.36 seconds\n",
      "**************************************************\n",
      "Training model for COP\n",
      "Model for COP trained in 0.35 seconds\n",
      "**************************************************\n",
      "Training model for CTRA\n",
      "Model for CTRA trained in 0.42 seconds\n",
      "**************************************************\n",
      "Training model for CVX\n",
      "Model for CVX trained in 0.36 seconds\n",
      "**************************************************\n",
      "Training model for DVN\n",
      "Model for DVN trained in 0.40 seconds\n",
      "**************************************************\n",
      "Training model for EOG\n",
      "Model for EOG trained in 0.34 seconds\n",
      "**************************************************\n",
      "Training model for EQT\n",
      "Model for EQT trained in 0.34 seconds\n",
      "**************************************************\n",
      "Training model for EXE\n",
      "Model for EXE trained in 0.30 seconds\n",
      "**************************************************\n",
      "Training model for FANG\n",
      "Model for FANG trained in 0.35 seconds\n",
      "**************************************************\n",
      "Training model for HAL\n",
      "Model for HAL trained in 0.44 seconds\n",
      "**************************************************\n",
      "Training model for HES\n",
      "Model for HES trained in 0.41 seconds\n",
      "**************************************************\n",
      "Training model for KMI\n",
      "Model for KMI trained in 0.50 seconds\n",
      "**************************************************\n",
      "Training model for MPC\n",
      "Model for MPC trained in 0.41 seconds\n",
      "**************************************************\n",
      "Training model for OKE\n",
      "Model for OKE trained in 0.35 seconds\n",
      "**************************************************\n",
      "Training model for OXY\n",
      "Model for OXY trained in 0.34 seconds\n",
      "**************************************************\n",
      "Training model for PSX\n",
      "Model for PSX trained in 0.33 seconds\n",
      "**************************************************\n",
      "Training model for SLB\n",
      "Model for SLB trained in 0.33 seconds\n",
      "**************************************************\n",
      "Training model for TPL\n",
      "Model for TPL trained in 0.41 seconds\n",
      "**************************************************\n",
      "Training model for TRGP\n",
      "Model for TRGP trained in 0.39 seconds\n",
      "**************************************************\n",
      "Training model for VLO\n",
      "Model for VLO trained in 0.36 seconds\n",
      "**************************************************\n",
      "Training model for WMB\n",
      "Model for WMB trained in 0.38 seconds\n",
      "**************************************************\n",
      "Training model for XOM\n",
      "Model for XOM trained in 0.33 seconds\n",
      "**************************************************\n"
     ]
    }
   ],
   "source": [
    "models = {}\n",
    "\n",
    "for ticker in data.keys():\n",
    "    print(f\"Training model for {ticker}\")\n",
    "    start = time.time()\n",
    "    model = XGBModel(\n",
    "        lags=15,\n",
    "        lags_past_covariates=1,\n",
    "        lags_future_covariates=[0],\n",
    "        output_chunk_length=1,\n",
    "        random_state=42,\n",
    "        add_encoders={\n",
    "            'datetime_attribute': {\n",
    "                'future': ['month', 'day', 'dayofweek', 'dayofyear', 'quarter', 'year'] # automatically generate future covariates from time series\n",
    "            }\n",
    "        }\n",
    "    )\n",
    "\n",
    "    model.fit(\n",
    "        train[ticker]['close'],\n",
    "        past_covariates=train[ticker][['high', 'low', 'volume', 'open']],\n",
    "    )\n",
    "\n",
    "    end = time.time()\n",
    "    print(f\"Model for {ticker} trained in {end - start:.2f} seconds\")\n",
    "    print(\"*\" * 50)\n",
    "\n",
    "    models[ticker] = model"
   ]
  },
  {
   "cell_type": "code",
   "execution_count": 9,
   "id": "b9f91c14",
   "metadata": {},
   "outputs": [
    {
     "name": "stdout",
     "output_type": "stream",
     "text": [
      "Ticker: APA, MAPE: 15.14, MAE: 3.44\n",
      "**************************************************\n",
      "Ticker: BKR, MAPE: 9.30, MAE: 3.90\n",
      "**************************************************\n",
      "Ticker: COP, MAPE: 3.54, MAE: 3.60\n",
      "**************************************************\n",
      "Ticker: CTRA, MAPE: 2.84, MAE: 0.72\n",
      "**************************************************\n",
      "Ticker: CVX, MAPE: 2.58, MAE: 3.86\n",
      "**************************************************\n",
      "Ticker: DVN, MAPE: 8.52, MAE: 2.99\n",
      "**************************************************\n",
      "Ticker: EOG, MAPE: 3.69, MAE: 4.57\n",
      "**************************************************\n",
      "Ticker: EQT, MAPE: 11.03, MAE: 5.19\n",
      "**************************************************\n",
      "Ticker: EXE, MAPE: 15.80, MAE: 16.42\n",
      "**************************************************\n",
      "Ticker: FANG, MAPE: 13.25, MAE: 20.78\n",
      "**************************************************\n",
      "Ticker: HAL, MAPE: 9.48, MAE: 2.63\n",
      "**************************************************\n",
      "Ticker: HES, MAPE: 3.30, MAE: 4.58\n",
      "**************************************************\n",
      "Ticker: KMI, MAPE: 15.01, MAE: 3.64\n",
      "**************************************************\n",
      "Ticker: MPC, MAPE: 18.46, MAE: 27.18\n",
      "**************************************************\n",
      "Ticker: OKE, MAPE: 15.80, MAE: 15.43\n",
      "**************************************************\n",
      "Ticker: OXY, MAPE: 6.66, MAE: 3.62\n",
      "**************************************************\n",
      "Ticker: PSX, MAPE: 5.88, MAE: 6.65\n",
      "**************************************************\n",
      "Ticker: SLB, MAPE: 4.12, MAE: 1.64\n",
      "**************************************************\n",
      "Ticker: TPL, MAPE: 26.81, MAE: 323.27\n",
      "**************************************************\n",
      "Ticker: TRGP, MAPE: 28.34, MAE: 50.43\n",
      "**************************************************\n",
      "Ticker: VLO, MAPE: 5.38, MAE: 7.22\n",
      "**************************************************\n",
      "Ticker: WMB, MAPE: 23.48, MAE: 12.56\n",
      "**************************************************\n",
      "Ticker: XOM, MAPE: 2.56, MAE: 2.89\n",
      "**************************************************\n"
     ]
    }
   ],
   "source": [
    "mapes = {}\n",
    "maes = {}\n",
    "\n",
    "for ticker in data.keys():\n",
    "    y_test = test[ticker]['close']\n",
    "    y_pred = models[ticker].predict(\n",
    "        n=len(y_test),\n",
    "        past_covariates=test[ticker][['high', 'low', 'volume', 'open']],\n",
    "        show_warnings=False\n",
    "    )\n",
    "    mape_ = mape(y_test, y_pred)\n",
    "    mae_ = mae(y_test, y_pred)\n",
    "    mapes[ticker] = mape_\n",
    "    maes[ticker] = mae_\n",
    "    print(f\"Ticker: {ticker}, MAPE: {mape_:.2f}, MAE: {mae_:.2f}\")\n",
    "    print(\"*\" * 50)"
   ]
  },
  {
   "cell_type": "code",
   "execution_count": 10,
   "id": "225f2cf2",
   "metadata": {},
   "outputs": [
    {
     "data": {
      "text/plain": [
       "(10.91087322333438, 22.92285567658511)"
      ]
     },
     "execution_count": 10,
     "metadata": {},
     "output_type": "execute_result"
    }
   ],
   "source": [
    "np.mean(list(mapes.values())), np.mean(list(maes.values()))"
   ]
  },
  {
   "cell_type": "markdown",
   "id": "cdb475a9",
   "metadata": {},
   "source": [
    "### Global model"
   ]
  },
  {
   "cell_type": "code",
   "execution_count": 11,
   "id": "47343a36",
   "metadata": {},
   "outputs": [
    {
     "name": "stdout",
     "output_type": "stream",
     "text": [
      "Training global model\n",
      "Global model trained in 10.15 seconds\n",
      "**************************************************\n"
     ]
    }
   ],
   "source": [
    "print(f\"Training global model\")\n",
    "start = time.time()\n",
    "model = XGBModel(\n",
    "    lags=15,\n",
    "    lags_past_covariates=1,\n",
    "    lags_future_covariates=[0],\n",
    "    output_chunk_length=1,\n",
    "    random_state=42,\n",
    "    add_encoders={\n",
    "        'datetime_attribute': {\n",
    "            'future': ['month', 'day', 'dayofweek', 'dayofyear', 'quarter', 'year'] # automatically generate future covariates from time series\n",
    "        }\n",
    "    },\n",
    "    use_static_covariates=True,\n",
    "    n_estimators=1000,\n",
    "    eta=0.01,\n",
    "    max_depth=8,\n",
    "    subsample=0.8\n",
    ")\n",
    "\n",
    "model.fit(\n",
    "    [ts['close'] for ts in train.values()],\n",
    "    past_covariates=[ts[['high', 'low', 'volume', 'open']] for ts in train.values()],\n",
    ")\n",
    "\n",
    "end = time.time()\n",
    "print(f\"Global model trained in {end - start:.2f} seconds\")\n",
    "print(\"*\" * 50)"
   ]
  },
  {
   "cell_type": "code",
   "execution_count": 12,
   "id": "e80265b5",
   "metadata": {},
   "outputs": [
    {
     "name": "stdout",
     "output_type": "stream",
     "text": [
      "Global model for APA, MAPE: 6.70, MAE: 1.40\n",
      "**************************************************\n",
      "Global model for BKR, MAPE: 4.26, MAE: 1.67\n",
      "**************************************************\n",
      "Global model for COP, MAPE: 2.86, MAE: 2.90\n",
      "**************************************************\n",
      "Global model for CTRA, MAPE: 3.79, MAE: 0.98\n",
      "**************************************************\n",
      "Global model for CVX, MAPE: 1.91, MAE: 2.85\n",
      "**************************************************\n",
      "Global model for DVN, MAPE: 5.19, MAE: 1.84\n",
      "**************************************************\n",
      "Global model for EOG, MAPE: 2.52, MAE: 3.09\n",
      "**************************************************\n",
      "Global model for EQT, MAPE: 4.44, MAE: 1.81\n",
      "**************************************************\n",
      "Global model for EXE, MAPE: 2.62, MAE: 2.69\n",
      "**************************************************\n",
      "Global model for FANG, MAPE: 3.17, MAE: 5.37\n",
      "**************************************************\n",
      "Global model for HAL, MAPE: 9.53, MAE: 2.60\n",
      "**************************************************\n",
      "Global model for HES, MAPE: 2.11, MAE: 2.92\n",
      "**************************************************\n",
      "Global model for KMI, MAPE: 3.76, MAE: 0.93\n",
      "**************************************************\n",
      "Global model for MPC, MAPE: 2.57, MAE: 3.86\n",
      "**************************************************\n",
      "Global model for OKE, MAPE: 3.78, MAE: 3.44\n",
      "**************************************************\n",
      "Global model for OXY, MAPE: 3.37, MAE: 1.67\n",
      "**************************************************\n",
      "Global model for PSX, MAPE: 2.51, MAE: 3.02\n",
      "**************************************************\n",
      "Global model for SLB, MAPE: 4.68, MAE: 1.82\n",
      "**************************************************\n",
      "Global model for TPL, MAPE: 39.42, MAE: 463.96\n",
      "**************************************************\n",
      "Global model for TRGP, MAPE: 3.23, MAE: 5.40\n",
      "**************************************************\n",
      "Global model for VLO, MAPE: 2.68, MAE: 3.52\n",
      "**************************************************\n",
      "Global model for WMB, MAPE: 3.03, MAE: 1.52\n",
      "**************************************************\n",
      "Global model for XOM, MAPE: 1.96, MAE: 2.18\n",
      "**************************************************\n"
     ]
    }
   ],
   "source": [
    "mapes = {}\n",
    "maes = {}\n",
    "\n",
    "for ticker in data.keys():\n",
    "    y_pred = model.predict(\n",
    "        n=len(test[ticker]['close']),\n",
    "        series=train[ticker]['close'],\n",
    "        past_covariates=test[ticker][['high', 'low', 'volume', 'open']],\n",
    "        show_warnings=False\n",
    "    )\n",
    "    y_test = test[ticker]['close']\n",
    "    mape_ = mape(y_test, y_pred)\n",
    "    mae_ = mae(y_test, y_pred)\n",
    "\n",
    "    mapes[ticker] = mape_\n",
    "    maes[ticker] = mae_\n",
    "\n",
    "    print(f\"Global model for {ticker}, MAPE: {mape_:.2f}, MAE: {mae_:.2f}\")\n",
    "    print(\"*\" * 50)"
   ]
  },
  {
   "cell_type": "code",
   "execution_count": 13,
   "id": "954892bf",
   "metadata": {},
   "outputs": [
    {
     "data": {
      "text/plain": [
       "(5.22117487188746, 22.670671761947055)"
      ]
     },
     "execution_count": 13,
     "metadata": {},
     "output_type": "execute_result"
    }
   ],
   "source": [
    "np.mean(list(mapes.values())), np.mean(list(maes.values()))"
   ]
  },
  {
   "cell_type": "markdown",
   "id": "954b34fb",
   "metadata": {},
   "source": [
    "## Prophet model"
   ]
  },
  {
   "cell_type": "code",
   "execution_count": 14,
   "id": "0ca95853",
   "metadata": {},
   "outputs": [
    {
     "name": "stdout",
     "output_type": "stream",
     "text": [
      "Training model for APA\n"
     ]
    },
    {
     "name": "stderr",
     "output_type": "stream",
     "text": [
      "22:11:37 - cmdstanpy - INFO - Chain [1] start processing\n",
      "22:11:40 - cmdstanpy - INFO - Chain [1] done processing\n"
     ]
    },
    {
     "name": "stdout",
     "output_type": "stream",
     "text": [
      "Model for APA trained in 3.41 seconds\n",
      "**************************************************\n",
      "Training model for BKR\n"
     ]
    },
    {
     "name": "stderr",
     "output_type": "stream",
     "text": [
      "22:11:40 - cmdstanpy - INFO - Chain [1] start processing\n",
      "22:11:43 - cmdstanpy - INFO - Chain [1] done processing\n"
     ]
    },
    {
     "name": "stdout",
     "output_type": "stream",
     "text": [
      "Model for BKR trained in 3.34 seconds\n",
      "**************************************************\n",
      "Training model for COP\n"
     ]
    },
    {
     "name": "stderr",
     "output_type": "stream",
     "text": [
      "22:11:44 - cmdstanpy - INFO - Chain [1] start processing\n",
      "22:11:45 - cmdstanpy - INFO - Chain [1] done processing\n"
     ]
    },
    {
     "name": "stdout",
     "output_type": "stream",
     "text": [
      "Model for COP trained in 1.98 seconds\n",
      "**************************************************\n",
      "Training model for CTRA\n"
     ]
    },
    {
     "name": "stderr",
     "output_type": "stream",
     "text": [
      "22:11:46 - cmdstanpy - INFO - Chain [1] start processing\n",
      "22:11:48 - cmdstanpy - INFO - Chain [1] done processing\n"
     ]
    },
    {
     "name": "stdout",
     "output_type": "stream",
     "text": [
      "Model for CTRA trained in 2.31 seconds\n",
      "**************************************************\n",
      "Training model for CVX\n"
     ]
    },
    {
     "name": "stderr",
     "output_type": "stream",
     "text": [
      "22:11:48 - cmdstanpy - INFO - Chain [1] start processing\n",
      "22:11:51 - cmdstanpy - INFO - Chain [1] done processing\n"
     ]
    },
    {
     "name": "stdout",
     "output_type": "stream",
     "text": [
      "Model for CVX trained in 3.15 seconds\n",
      "**************************************************\n",
      "Training model for DVN\n"
     ]
    },
    {
     "name": "stderr",
     "output_type": "stream",
     "text": [
      "22:11:51 - cmdstanpy - INFO - Chain [1] start processing\n",
      "22:11:52 - cmdstanpy - INFO - Chain [1] done processing\n"
     ]
    },
    {
     "name": "stdout",
     "output_type": "stream",
     "text": [
      "Model for DVN trained in 1.59 seconds\n",
      "**************************************************\n",
      "Training model for EOG\n"
     ]
    },
    {
     "name": "stderr",
     "output_type": "stream",
     "text": [
      "22:11:53 - cmdstanpy - INFO - Chain [1] start processing\n",
      "22:11:56 - cmdstanpy - INFO - Chain [1] done processing\n"
     ]
    },
    {
     "name": "stdout",
     "output_type": "stream",
     "text": [
      "Model for EOG trained in 3.48 seconds\n",
      "**************************************************\n",
      "Training model for EQT\n"
     ]
    },
    {
     "name": "stderr",
     "output_type": "stream",
     "text": [
      "22:11:56 - cmdstanpy - INFO - Chain [1] start processing\n",
      "22:11:59 - cmdstanpy - INFO - Chain [1] done processing\n"
     ]
    },
    {
     "name": "stdout",
     "output_type": "stream",
     "text": [
      "Model for EQT trained in 2.72 seconds\n",
      "**************************************************\n",
      "Training model for EXE\n"
     ]
    },
    {
     "name": "stderr",
     "output_type": "stream",
     "text": [
      "22:11:59 - cmdstanpy - INFO - Chain [1] start processing\n",
      "22:12:00 - cmdstanpy - INFO - Chain [1] done processing\n"
     ]
    },
    {
     "name": "stdout",
     "output_type": "stream",
     "text": [
      "Model for EXE trained in 1.27 seconds\n",
      "**************************************************\n",
      "Training model for FANG\n"
     ]
    },
    {
     "name": "stderr",
     "output_type": "stream",
     "text": [
      "22:12:00 - cmdstanpy - INFO - Chain [1] start processing\n",
      "22:12:02 - cmdstanpy - INFO - Chain [1] done processing\n"
     ]
    },
    {
     "name": "stdout",
     "output_type": "stream",
     "text": [
      "Model for FANG trained in 2.36 seconds\n",
      "**************************************************\n",
      "Training model for HAL\n"
     ]
    },
    {
     "name": "stderr",
     "output_type": "stream",
     "text": [
      "22:12:03 - cmdstanpy - INFO - Chain [1] start processing\n",
      "22:12:05 - cmdstanpy - INFO - Chain [1] done processing\n"
     ]
    },
    {
     "name": "stdout",
     "output_type": "stream",
     "text": [
      "Model for HAL trained in 2.92 seconds\n",
      "**************************************************\n",
      "Training model for HES\n"
     ]
    },
    {
     "name": "stderr",
     "output_type": "stream",
     "text": [
      "22:12:05 - cmdstanpy - INFO - Chain [1] start processing\n",
      "22:12:08 - cmdstanpy - INFO - Chain [1] done processing\n"
     ]
    },
    {
     "name": "stdout",
     "output_type": "stream",
     "text": [
      "Model for HES trained in 2.62 seconds\n",
      "**************************************************\n",
      "Training model for KMI\n"
     ]
    },
    {
     "name": "stderr",
     "output_type": "stream",
     "text": [
      "22:12:08 - cmdstanpy - INFO - Chain [1] start processing\n",
      "22:12:11 - cmdstanpy - INFO - Chain [1] done processing\n"
     ]
    },
    {
     "name": "stdout",
     "output_type": "stream",
     "text": [
      "Model for KMI trained in 3.23 seconds\n",
      "**************************************************\n",
      "Training model for MPC\n"
     ]
    },
    {
     "name": "stderr",
     "output_type": "stream",
     "text": [
      "22:12:11 - cmdstanpy - INFO - Chain [1] start processing\n",
      "22:12:13 - cmdstanpy - INFO - Chain [1] done processing\n"
     ]
    },
    {
     "name": "stdout",
     "output_type": "stream",
     "text": [
      "Model for MPC trained in 2.24 seconds\n",
      "**************************************************\n",
      "Training model for OKE\n"
     ]
    },
    {
     "name": "stderr",
     "output_type": "stream",
     "text": [
      "22:12:14 - cmdstanpy - INFO - Chain [1] start processing\n",
      "22:12:16 - cmdstanpy - INFO - Chain [1] done processing\n"
     ]
    },
    {
     "name": "stdout",
     "output_type": "stream",
     "text": [
      "Model for OKE trained in 2.44 seconds\n",
      "**************************************************\n",
      "Training model for OXY\n"
     ]
    },
    {
     "name": "stderr",
     "output_type": "stream",
     "text": [
      "22:12:16 - cmdstanpy - INFO - Chain [1] start processing\n",
      "22:12:18 - cmdstanpy - INFO - Chain [1] done processing\n"
     ]
    },
    {
     "name": "stdout",
     "output_type": "stream",
     "text": [
      "Model for OXY trained in 2.55 seconds\n",
      "**************************************************\n",
      "Training model for PSX\n"
     ]
    },
    {
     "name": "stderr",
     "output_type": "stream",
     "text": [
      "22:12:19 - cmdstanpy - INFO - Chain [1] start processing\n",
      "22:12:21 - cmdstanpy - INFO - Chain [1] done processing\n"
     ]
    },
    {
     "name": "stdout",
     "output_type": "stream",
     "text": [
      "Model for PSX trained in 2.75 seconds\n",
      "**************************************************\n",
      "Training model for SLB\n"
     ]
    },
    {
     "name": "stderr",
     "output_type": "stream",
     "text": [
      "22:12:21 - cmdstanpy - INFO - Chain [1] start processing\n",
      "22:12:23 - cmdstanpy - INFO - Chain [1] done processing\n"
     ]
    },
    {
     "name": "stdout",
     "output_type": "stream",
     "text": [
      "Model for SLB trained in 2.19 seconds\n",
      "**************************************************\n",
      "Training model for TPL\n"
     ]
    },
    {
     "name": "stderr",
     "output_type": "stream",
     "text": [
      "22:12:23 - cmdstanpy - INFO - Chain [1] start processing\n",
      "22:12:26 - cmdstanpy - INFO - Chain [1] done processing\n"
     ]
    },
    {
     "name": "stdout",
     "output_type": "stream",
     "text": [
      "Model for TPL trained in 2.63 seconds\n",
      "**************************************************\n",
      "Training model for TRGP\n"
     ]
    },
    {
     "name": "stderr",
     "output_type": "stream",
     "text": [
      "22:12:26 - cmdstanpy - INFO - Chain [1] start processing\n",
      "22:12:28 - cmdstanpy - INFO - Chain [1] done processing\n"
     ]
    },
    {
     "name": "stdout",
     "output_type": "stream",
     "text": [
      "Model for TRGP trained in 2.52 seconds\n",
      "**************************************************\n",
      "Training model for VLO\n"
     ]
    },
    {
     "name": "stderr",
     "output_type": "stream",
     "text": [
      "22:12:29 - cmdstanpy - INFO - Chain [1] start processing\n",
      "22:12:31 - cmdstanpy - INFO - Chain [1] done processing\n"
     ]
    },
    {
     "name": "stdout",
     "output_type": "stream",
     "text": [
      "Model for VLO trained in 2.47 seconds\n",
      "**************************************************\n",
      "Training model for WMB\n"
     ]
    },
    {
     "name": "stderr",
     "output_type": "stream",
     "text": [
      "22:12:31 - cmdstanpy - INFO - Chain [1] start processing\n",
      "22:12:33 - cmdstanpy - INFO - Chain [1] done processing\n"
     ]
    },
    {
     "name": "stdout",
     "output_type": "stream",
     "text": [
      "Model for WMB trained in 2.51 seconds\n",
      "**************************************************\n",
      "Training model for XOM\n"
     ]
    },
    {
     "name": "stderr",
     "output_type": "stream",
     "text": [
      "22:12:34 - cmdstanpy - INFO - Chain [1] start processing\n",
      "22:12:36 - cmdstanpy - INFO - Chain [1] done processing\n"
     ]
    },
    {
     "name": "stdout",
     "output_type": "stream",
     "text": [
      "Model for XOM trained in 3.09 seconds\n",
      "**************************************************\n"
     ]
    }
   ],
   "source": [
    "models_prophet = {}\n",
    "\n",
    "for ticker in data.keys():\n",
    "    print(f\"Training model for {ticker}\")\n",
    "    start = time.time()\n",
    "    model = Prophet(\n",
    "        add_encoders={\n",
    "            'datetime_attribute': {\n",
    "                'future': ['month', 'day', 'dayofweek', 'dayofyear', 'quarter', 'year']  # automatically generate future covariates from time series\n",
    "            }\n",
    "        },\n",
    "        seasonality_mode='multiplicative',\n",
    "    )\n",
    "\n",
    "    model.fit(\n",
    "        train[ticker]['close']\n",
    "    )\n",
    "\n",
    "    end = time.time()\n",
    "    print(f\"Model for {ticker} trained in {end - start:.2f} seconds\")\n",
    "    print(\"*\" * 50)\n",
    "\n",
    "    models_prophet[ticker] = model"
   ]
  },
  {
   "cell_type": "code",
   "execution_count": 15,
   "id": "2ff81861",
   "metadata": {},
   "outputs": [
    {
     "name": "stdout",
     "output_type": "stream",
     "text": [
      "Ticker: APA, MAPE: 14.07, MAE: 3.22\n",
      "**************************************************\n",
      "Ticker: BKR, MAPE: 14.07, MAE: 5.84\n",
      "**************************************************\n",
      "Ticker: COP, MAPE: 17.22, MAE: 17.25\n",
      "**************************************************\n",
      "Ticker: CTRA, MAPE: 8.99, MAE: 2.29\n",
      "**************************************************\n",
      "Ticker: CVX, MAPE: 17.48, MAE: 26.55\n",
      "**************************************************\n",
      "Ticker: DVN, MAPE: 10.55, MAE: 4.35\n",
      "**************************************************\n",
      "Ticker: EOG, MAPE: 5.41, MAE: 6.63\n",
      "**************************************************\n",
      "Ticker: EQT, MAPE: 21.60, MAE: 9.46\n",
      "**************************************************\n",
      "Ticker: EXE, MAPE: 4.50, MAE: 4.57\n",
      "**************************************************\n",
      "Ticker: FANG, MAPE: 16.01, MAE: 26.07\n",
      "**************************************************\n",
      "Ticker: HAL, MAPE: 27.60, MAE: 7.33\n",
      "**************************************************\n",
      "Ticker: HES, MAPE: 9.66, MAE: 14.02\n",
      "**************************************************\n",
      "Ticker: KMI, MAPE: 28.15, MAE: 7.04\n",
      "**************************************************\n",
      "Ticker: MPC, MAPE: 26.99, MAE: 39.13\n",
      "**************************************************\n",
      "Ticker: OKE, MAPE: 18.93, MAE: 17.94\n",
      "**************************************************\n",
      "Ticker: OXY, MAPE: 14.23, MAE: 6.83\n",
      "**************************************************\n",
      "Ticker: PSX, MAPE: 23.69, MAE: 27.75\n",
      "**************************************************\n",
      "Ticker: SLB, MAPE: 21.90, MAE: 8.90\n",
      "**************************************************\n",
      "Ticker: TPL, MAPE: 56.11, MAE: 628.30\n",
      "**************************************************\n",
      "Ticker: TRGP, MAPE: 32.98, MAE: 56.49\n",
      "**************************************************\n",
      "Ticker: VLO, MAPE: 13.16, MAE: 17.09\n",
      "**************************************************\n",
      "Ticker: WMB, MAPE: 22.78, MAE: 12.04\n",
      "**************************************************\n",
      "Ticker: XOM, MAPE: 27.92, MAE: 31.31\n",
      "**************************************************\n"
     ]
    }
   ],
   "source": [
    "mapes_prophet = {}\n",
    "maes_prophet = {}\n",
    "\n",
    "for ticker in data.keys():\n",
    "    y_test = test[ticker]['close']\n",
    "    y_pred = models_prophet[ticker].predict(\n",
    "        n=len(y_test),\n",
    "        show_warnings=False\n",
    "    )\n",
    "    mape_ = mape(y_test, y_pred)\n",
    "    mae_ = mae(y_test, y_pred)\n",
    "    mapes_prophet[ticker] = mape_\n",
    "    maes_prophet[ticker] = mae_\n",
    "    print(f\"Ticker: {ticker}, MAPE: {mape_:.2f}, MAE: {mae_:.2f}\")\n",
    "    print(\"*\" * 50)"
   ]
  },
  {
   "cell_type": "code",
   "execution_count": 16,
   "id": "1f4600c3",
   "metadata": {},
   "outputs": [
    {
     "data": {
      "text/plain": [
       "(19.740006349173587, 42.625915129539024)"
      ]
     },
     "execution_count": 16,
     "metadata": {},
     "output_type": "execute_result"
    }
   ],
   "source": [
    "np.mean(list(mapes_prophet.values())), np.mean(list(maes_prophet.values()))"
   ]
  },
  {
   "cell_type": "markdown",
   "id": "5e177a24",
   "metadata": {},
   "source": [
    "## Theta model"
   ]
  },
  {
   "cell_type": "code",
   "execution_count": 17,
   "id": "92b8127c",
   "metadata": {},
   "outputs": [
    {
     "name": "stdout",
     "output_type": "stream",
     "text": [
      "Training model for APA\n",
      "Model for APA trained in 0.67 seconds\n",
      "**************************************************\n",
      "Training model for BKR\n",
      "Model for BKR trained in 0.57 seconds\n",
      "**************************************************\n",
      "Training model for COP\n",
      "Model for COP trained in 0.64 seconds\n",
      "**************************************************\n",
      "Training model for CTRA\n",
      "Model for CTRA trained in 0.56 seconds\n",
      "**************************************************\n",
      "Training model for CVX\n",
      "Model for CVX trained in 0.72 seconds\n",
      "**************************************************\n",
      "Training model for DVN\n",
      "Model for DVN trained in 0.59 seconds\n",
      "**************************************************\n",
      "Training model for EOG\n",
      "Model for EOG trained in 0.62 seconds\n",
      "**************************************************\n",
      "Training model for EQT\n",
      "Model for EQT trained in 0.59 seconds\n",
      "**************************************************\n",
      "Training model for EXE\n",
      "Model for EXE trained in 0.13 seconds\n",
      "**************************************************\n",
      "Training model for FANG\n",
      "Model for FANG trained in 0.61 seconds\n",
      "**************************************************\n",
      "Training model for HAL\n",
      "Model for HAL trained in 0.63 seconds\n",
      "**************************************************\n",
      "Training model for HES\n",
      "Model for HES trained in 0.60 seconds\n",
      "**************************************************\n",
      "Training model for KMI\n",
      "Model for KMI trained in 0.63 seconds\n",
      "**************************************************\n",
      "Training model for MPC\n",
      "Model for MPC trained in 0.83 seconds\n",
      "**************************************************\n",
      "Training model for OKE\n",
      "Model for OKE trained in 0.68 seconds\n",
      "**************************************************\n",
      "Training model for OXY\n",
      "Model for OXY trained in 0.61 seconds\n",
      "**************************************************\n",
      "Training model for PSX\n",
      "Model for PSX trained in 0.77 seconds\n",
      "**************************************************\n",
      "Training model for SLB\n",
      "Model for SLB trained in 0.59 seconds\n",
      "**************************************************\n",
      "Training model for TPL\n",
      "Model for TPL trained in 1.29 seconds\n",
      "**************************************************\n",
      "Training model for TRGP\n",
      "Model for TRGP trained in 0.63 seconds\n",
      "**************************************************\n",
      "Training model for VLO\n",
      "Model for VLO trained in 0.84 seconds\n",
      "**************************************************\n",
      "Training model for WMB\n",
      "Model for WMB trained in 0.57 seconds\n",
      "**************************************************\n",
      "Training model for XOM\n",
      "Model for XOM trained in 0.78 seconds\n",
      "**************************************************\n"
     ]
    }
   ],
   "source": [
    "models_theta = {}\n",
    "\n",
    "for ticker in data.keys():\n",
    "    print(f\"Training model for {ticker}\")\n",
    "    start = time.time()\n",
    "    model = AutoTheta(\n",
    "        season_length=30\n",
    "    )\n",
    "\n",
    "    model.fit(\n",
    "        series=train[ticker]['close']\n",
    "    )\n",
    "\n",
    "    end = time.time()\n",
    "    print(f\"Model for {ticker} trained in {end - start:.2f} seconds\")\n",
    "    print(\"*\" * 50)\n",
    "\n",
    "    models_theta[ticker] = model"
   ]
  },
  {
   "cell_type": "code",
   "execution_count": 18,
   "id": "d466fb13",
   "metadata": {},
   "outputs": [
    {
     "name": "stdout",
     "output_type": "stream",
     "text": [
      "Ticker: APA, MAPE: 22.20, MAE: 4.48\n",
      "**************************************************\n",
      "Ticker: BKR, MAPE: 16.94, MAE: 6.99\n",
      "**************************************************\n",
      "Ticker: COP, MAPE: 17.23, MAE: 17.18\n",
      "**************************************************\n",
      "Ticker: CTRA, MAPE: 6.94, MAE: 1.71\n",
      "**************************************************\n",
      "Ticker: CVX, MAPE: 6.80, MAE: 9.82\n",
      "**************************************************\n",
      "Ticker: DVN, MAPE: 29.26, MAE: 10.39\n",
      "**************************************************\n",
      "Ticker: EOG, MAPE: 6.27, MAE: 7.43\n",
      "**************************************************\n",
      "Ticker: EQT, MAPE: 14.72, MAE: 6.49\n",
      "**************************************************\n",
      "Ticker: EXE, MAPE: 3.70, MAE: 3.87\n",
      "**************************************************\n",
      "Ticker: FANG, MAPE: 14.01, MAE: 21.67\n",
      "**************************************************\n",
      "Ticker: HAL, MAPE: 26.24, MAE: 6.89\n",
      "**************************************************\n",
      "Ticker: HES, MAPE: 13.56, MAE: 18.59\n",
      "**************************************************\n",
      "Ticker: KMI, MAPE: 23.30, MAE: 5.94\n",
      "**************************************************\n",
      "Ticker: MPC, MAPE: 20.43, MAE: 29.91\n",
      "**************************************************\n",
      "Ticker: OKE, MAPE: 15.80, MAE: 15.37\n",
      "**************************************************\n",
      "Ticker: OXY, MAPE: 25.57, MAE: 12.30\n",
      "**************************************************\n",
      "Ticker: PSX, MAPE: 13.76, MAE: 16.11\n",
      "**************************************************\n",
      "Ticker: SLB, MAPE: 10.71, MAE: 4.20\n",
      "**************************************************\n",
      "Ticker: TPL, MAPE: 42.27, MAE: 496.86\n",
      "**************************************************\n",
      "Ticker: TRGP, MAPE: 28.53, MAE: 50.63\n",
      "**************************************************\n",
      "Ticker: VLO, MAPE: 17.44, MAE: 22.26\n",
      "**************************************************\n",
      "Ticker: WMB, MAPE: 22.88, MAE: 12.22\n",
      "**************************************************\n",
      "Ticker: XOM, MAPE: 4.44, MAE: 4.85\n",
      "**************************************************\n"
     ]
    }
   ],
   "source": [
    "mapes_theta = {}\n",
    "maes_theta = {}\n",
    "\n",
    "for ticker in data.keys():\n",
    "    y_test = test[ticker]['close']\n",
    "    y_pred = models_theta[ticker].predict(\n",
    "        n=len(y_test),\n",
    "        show_warnings=False\n",
    "    )\n",
    "    mape_ = mape(y_test, y_pred)\n",
    "    mae_ = mae(y_test, y_pred)\n",
    "    mapes_theta[ticker] = mape_\n",
    "    maes_theta[ticker] = mae_\n",
    "    print(f\"Ticker: {ticker}, MAPE: {mape_:.2f}, MAE: {mae_:.2f}\")\n",
    "    print(\"*\" * 50)"
   ]
  },
  {
   "cell_type": "code",
   "execution_count": 19,
   "id": "25979024",
   "metadata": {},
   "outputs": [
    {
     "data": {
      "text/plain": [
       "(17.520389607814526, 34.180697366954945)"
      ]
     },
     "execution_count": 19,
     "metadata": {},
     "output_type": "execute_result"
    }
   ],
   "source": [
    "np.mean(list(mapes_theta.values())), np.mean(list(maes_theta.values()))"
   ]
  },
  {
   "cell_type": "markdown",
   "id": "d147b846",
   "metadata": {},
   "source": [
    "## Linear Regression"
   ]
  },
  {
   "cell_type": "markdown",
   "id": "6df2f493",
   "metadata": {},
   "source": [
    "### Local model"
   ]
  },
  {
   "cell_type": "code",
   "execution_count": 20,
   "id": "a98d2d26",
   "metadata": {},
   "outputs": [
    {
     "name": "stdout",
     "output_type": "stream",
     "text": [
      "Training model for APA\n",
      "Model for APA trained in 0.13 seconds\n",
      "**************************************************\n",
      "Training model for BKR\n",
      "Model for BKR trained in 0.12 seconds\n",
      "**************************************************\n",
      "Training model for COP\n",
      "Model for COP trained in 0.12 seconds\n",
      "**************************************************\n",
      "Training model for CTRA\n",
      "Model for CTRA trained in 0.12 seconds\n",
      "**************************************************\n",
      "Training model for CVX\n",
      "Model for CVX trained in 0.12 seconds\n",
      "**************************************************\n",
      "Training model for DVN\n",
      "Model for DVN trained in 0.12 seconds\n",
      "**************************************************\n",
      "Training model for EOG\n",
      "Model for EOG trained in 0.12 seconds\n",
      "**************************************************\n",
      "Training model for EQT\n",
      "Model for EQT trained in 0.12 seconds\n",
      "**************************************************\n",
      "Training model for EXE\n",
      "Model for EXE trained in 0.08 seconds\n",
      "**************************************************\n",
      "Training model for FANG\n",
      "Model for FANG trained in 0.12 seconds\n",
      "**************************************************\n",
      "Training model for HAL\n",
      "Model for HAL trained in 0.12 seconds\n",
      "**************************************************\n",
      "Training model for HES\n",
      "Model for HES trained in 0.12 seconds\n",
      "**************************************************\n",
      "Training model for KMI\n",
      "Model for KMI trained in 0.12 seconds\n",
      "**************************************************\n",
      "Training model for MPC\n",
      "Model for MPC trained in 0.12 seconds\n",
      "**************************************************\n",
      "Training model for OKE\n",
      "Model for OKE trained in 0.12 seconds\n",
      "**************************************************\n",
      "Training model for OXY\n",
      "Model for OXY trained in 0.12 seconds\n",
      "**************************************************\n",
      "Training model for PSX\n",
      "Model for PSX trained in 0.12 seconds\n",
      "**************************************************\n",
      "Training model for SLB\n",
      "Model for SLB trained in 0.12 seconds\n",
      "**************************************************\n",
      "Training model for TPL\n",
      "Model for TPL trained in 0.12 seconds\n",
      "**************************************************\n",
      "Training model for TRGP\n",
      "Model for TRGP trained in 0.12 seconds\n",
      "**************************************************\n",
      "Training model for VLO\n",
      "Model for VLO trained in 0.12 seconds\n",
      "**************************************************\n",
      "Training model for WMB\n",
      "Model for WMB trained in 0.12 seconds\n",
      "**************************************************\n",
      "Training model for XOM\n",
      "Model for XOM trained in 0.12 seconds\n",
      "**************************************************\n"
     ]
    }
   ],
   "source": [
    "models_lr = {}\n",
    "\n",
    "for ticker in data.keys():\n",
    "    print(f\"Training model for {ticker}\")\n",
    "    start = time.time()\n",
    "    model = LinearRegressionModel(\n",
    "        lags=15,\n",
    "        lags_past_covariates=1,\n",
    "        lags_future_covariates=[0],\n",
    "        output_chunk_length=1,\n",
    "        random_state=42,\n",
    "        add_encoders={\n",
    "            'datetime_attribute': {\n",
    "                'future': ['month', 'day', 'dayofweek', 'dayofyear', 'quarter', 'year'] # automatically generate future covariates from time series\n",
    "            }\n",
    "        }\n",
    "    )\n",
    "\n",
    "    model.fit(\n",
    "        train[ticker]['close'],\n",
    "        past_covariates=train[ticker][['high', 'low', 'volume', 'open']],\n",
    "    )\n",
    "\n",
    "    end = time.time()\n",
    "    print(f\"Model for {ticker} trained in {end - start:.2f} seconds\")\n",
    "    print(\"*\" * 50)\n",
    "\n",
    "    models_lr[ticker] = model"
   ]
  },
  {
   "cell_type": "code",
   "execution_count": 21,
   "id": "79a5002a",
   "metadata": {},
   "outputs": [
    {
     "name": "stdout",
     "output_type": "stream",
     "text": [
      "Ticker: APA, MAPE: 4239.77, MAE: 752.50\n",
      "**************************************************\n",
      "Ticker: BKR, MAPE: 6.91, MAE: 2.80\n",
      "**************************************************\n",
      "Ticker: COP, MAPE: 3.07, MAE: 3.08\n",
      "**************************************************\n",
      "Ticker: CTRA, MAPE: 3.17, MAE: 0.82\n",
      "**************************************************\n",
      "Ticker: CVX, MAPE: 2.49, MAE: 3.68\n",
      "**************************************************\n",
      "Ticker: DVN, MAPE: 497.30, MAE: 164.19\n",
      "**************************************************\n",
      "Ticker: EOG, MAPE: 4.00, MAE: 4.77\n",
      "**************************************************\n",
      "Ticker: EQT, MAPE: 6.04, MAE: 2.58\n",
      "**************************************************\n",
      "Ticker: EXE, MAPE: 3.62, MAE: 3.78\n",
      "**************************************************\n",
      "Ticker: FANG, MAPE: 5251.24, MAE: 7464.78\n",
      "**************************************************\n",
      "Ticker: HAL, MAPE: 46603428021.60, MAE: 9843473835.75\n",
      "**************************************************\n",
      "Ticker: HES, MAPE: 4.20, MAE: 5.76\n",
      "**************************************************\n",
      "Ticker: KMI, MAPE: 3.50, MAE: 0.86\n",
      "**************************************************\n",
      "Ticker: MPC, MAPE: 349640440.97, MAE: 470233361.86\n",
      "**************************************************\n",
      "Ticker: OKE, MAPE: 4.20, MAE: 3.99\n",
      "**************************************************\n",
      "Ticker: OXY, MAPE: 7.27, MAE: 3.50\n",
      "**************************************************\n",
      "Ticker: PSX, MAPE: 2182.86, MAE: 2414.50\n",
      "**************************************************\n",
      "Ticker: SLB, MAPE: 10.51, MAE: 4.12\n",
      "**************************************************\n",
      "Ticker: TPL, MAPE: 4.59, MAE: 51.15\n",
      "**************************************************\n",
      "Ticker: TRGP, MAPE: 6.16, MAE: 10.53\n",
      "**************************************************\n",
      "Ticker: VLO, MAPE: 10.23, MAE: 12.69\n",
      "**************************************************\n",
      "Ticker: WMB, MAPE: 4.41, MAE: 2.28\n",
      "**************************************************\n",
      "Ticker: XOM, MAPE: 2.55, MAE: 2.82\n",
      "**************************************************\n"
     ]
    }
   ],
   "source": [
    "mapes_lr = {}\n",
    "maes_lr = {}\n",
    "\n",
    "for ticker in data.keys():\n",
    "    y_test = test[ticker]['close']\n",
    "    y_pred = models_lr[ticker].predict(\n",
    "        n=len(y_test),\n",
    "        past_covariates=test[ticker][['high', 'low', 'volume', 'open']],\n",
    "        show_warnings=False\n",
    "    )\n",
    "    mape_ = mape(y_test, y_pred)\n",
    "    mae_ = mae(y_test, y_pred)\n",
    "    mapes_lr[ticker] = mape_\n",
    "    maes_lr[ticker] = mae_\n",
    "    print(f\"Ticker: {ticker}, MAPE: {mape_:.2f}, MAE: {mae_:.2f}\")\n",
    "    print(\"*\" * 50)"
   ]
  },
  {
   "cell_type": "code",
   "execution_count": 22,
   "id": "1a3fbd8d",
   "metadata": {},
   "outputs": [
    {
     "data": {
      "text/plain": [
       "(2041438292.2030005, 448422526.6429812)"
      ]
     },
     "execution_count": 22,
     "metadata": {},
     "output_type": "execute_result"
    }
   ],
   "source": [
    "np.mean(list(mapes_lr.values())), np.mean(list(maes_lr.values()))"
   ]
  },
  {
   "cell_type": "markdown",
   "id": "1f27462f",
   "metadata": {},
   "source": [
    "### Global model"
   ]
  },
  {
   "cell_type": "code",
   "execution_count": 23,
   "id": "3879adfb",
   "metadata": {},
   "outputs": [
    {
     "name": "stdout",
     "output_type": "stream",
     "text": [
      "Training global model\n",
      "Global model trained in 2.82 seconds\n",
      "**************************************************\n"
     ]
    }
   ],
   "source": [
    "print(f\"Training global model\")\n",
    "start = time.time()\n",
    "model = LinearRegressionModel(\n",
    "    lags=15,\n",
    "    lags_past_covariates=1,\n",
    "    lags_future_covariates=[0],\n",
    "    output_chunk_length=1,\n",
    "    random_state=42,\n",
    "    add_encoders={\n",
    "        'datetime_attribute': {\n",
    "            'future': ['month', 'day', 'dayofweek', 'dayofyear', 'quarter', 'year'] # automatically generate future covariates from time series\n",
    "        }\n",
    "    }\n",
    ")\n",
    "\n",
    "model.fit(\n",
    "    [ts['close'] for ts in train.values()],\n",
    "    past_covariates=[ts[['high', 'low', 'volume', 'open']] for ts in train.values()],\n",
    ")\n",
    "\n",
    "end = time.time()\n",
    "print(f\"Global model trained in {end - start:.2f} seconds\")\n",
    "print(\"*\" * 50)"
   ]
  },
  {
   "cell_type": "code",
   "execution_count": 24,
   "id": "545bdc45",
   "metadata": {},
   "outputs": [
    {
     "name": "stdout",
     "output_type": "stream",
     "text": [
      "Global model for APA, MAPE: 4.50, MAE: 0.97\n",
      "**************************************************\n",
      "Global model for BKR, MAPE: 2.86, MAE: 1.10\n",
      "**************************************************\n",
      "Global model for COP, MAPE: 2.69, MAE: 2.72\n",
      "**************************************************\n",
      "Global model for CTRA, MAPE: 3.03, MAE: 0.77\n",
      "**************************************************\n",
      "Global model for CVX, MAPE: 2.34, MAE: 3.46\n",
      "**************************************************\n",
      "Global model for DVN, MAPE: 3.54, MAE: 1.28\n",
      "**************************************************\n",
      "Global model for EOG, MAPE: 2.51, MAE: 3.06\n",
      "**************************************************\n",
      "Global model for EQT, MAPE: 3.08, MAE: 1.30\n",
      "**************************************************\n",
      "Global model for EXE, MAPE: 2.37, MAE: 2.43\n",
      "**************************************************\n",
      "Global model for FANG, MAPE: 3.16, MAE: 5.20\n",
      "**************************************************\n",
      "Global model for HAL, MAPE: 3.79, MAE: 1.03\n",
      "**************************************************\n",
      "Global model for HES, MAPE: 2.61, MAE: 3.63\n",
      "**************************************************\n",
      "Global model for KMI, MAPE: 2.18, MAE: 0.53\n",
      "**************************************************\n",
      "Global model for MPC, MAPE: 2.84, MAE: 4.21\n",
      "**************************************************\n",
      "Global model for OKE, MAPE: 2.64, MAE: 2.43\n",
      "**************************************************\n",
      "Global model for OXY, MAPE: 2.74, MAE: 1.34\n",
      "**************************************************\n",
      "Global model for PSX, MAPE: 2.79, MAE: 3.32\n",
      "**************************************************\n",
      "Global model for SLB, MAPE: 3.11, MAE: 1.25\n",
      "**************************************************\n",
      "Global model for TPL, MAPE: 4.82, MAE: 53.26\n",
      "**************************************************\n",
      "Global model for TRGP, MAPE: 3.23, MAE: 5.45\n",
      "**************************************************\n",
      "Global model for VLO, MAPE: 2.93, MAE: 3.85\n",
      "**************************************************\n",
      "Global model for WMB, MAPE: 1.97, MAE: 1.01\n",
      "**************************************************\n",
      "Global model for XOM, MAPE: 1.91, MAE: 2.13\n",
      "**************************************************\n"
     ]
    }
   ],
   "source": [
    "mapes_lr_global = {}\n",
    "maes_lr_global = {}\n",
    "\n",
    "for ticker in data.keys():\n",
    "    y_pred = model.predict(\n",
    "        n=len(test[ticker]['close']),\n",
    "        series=train[ticker]['close'],\n",
    "        past_covariates=test[ticker][['high', 'low', 'volume', 'open']],\n",
    "        show_warnings=False\n",
    "    )\n",
    "    y_test = test[ticker]['close']\n",
    "    mape_ = mape(y_test, y_pred)\n",
    "    mae_ = mae(y_test, y_pred)\n",
    "\n",
    "    mapes_lr_global[ticker] = mape_\n",
    "    maes_lr_global[ticker] = mae_\n",
    "\n",
    "    print(f\"Global model for {ticker}, MAPE: {mape_:.2f}, MAE: {mae_:.2f}\")\n",
    "    print(\"*\" * 50)"
   ]
  },
  {
   "cell_type": "code",
   "execution_count": 25,
   "id": "40364019",
   "metadata": {},
   "outputs": [
    {
     "data": {
      "text/plain": [
       "(2.940330709259289, 4.5979221883562635)"
      ]
     },
     "execution_count": 25,
     "metadata": {},
     "output_type": "execute_result"
    }
   ],
   "source": [
    "np.mean(list(mapes_lr_global.values())), np.mean(list(maes_lr_global.values()))"
   ]
  },
  {
   "cell_type": "markdown",
   "id": "aa41ad7a",
   "metadata": {},
   "source": [
    "## ARIMA"
   ]
  },
  {
   "cell_type": "code",
   "execution_count": 26,
   "id": "135ba2a8",
   "metadata": {},
   "outputs": [
    {
     "name": "stdout",
     "output_type": "stream",
     "text": [
      "Training model for APA\n",
      "Model for APA trained in 0.22 seconds\n",
      "**************************************************\n",
      "Training model for BKR\n",
      "Model for BKR trained in 0.17 seconds\n",
      "**************************************************\n",
      "Training model for COP\n",
      "Model for COP trained in 0.88 seconds\n",
      "**************************************************\n",
      "Training model for CTRA\n",
      "Model for CTRA trained in 0.19 seconds\n",
      "**************************************************\n",
      "Training model for CVX\n",
      "Model for CVX trained in 1.39 seconds\n",
      "**************************************************\n",
      "Training model for DVN\n",
      "Model for DVN trained in 1.82 seconds\n",
      "**************************************************\n",
      "Training model for EOG\n",
      "Model for EOG trained in 0.20 seconds\n",
      "**************************************************\n",
      "Training model for EQT\n",
      "Model for EQT trained in 0.22 seconds\n",
      "**************************************************\n",
      "Training model for EXE\n",
      "Model for EXE trained in 0.16 seconds\n",
      "**************************************************\n",
      "Training model for FANG\n",
      "Model for FANG trained in 1.56 seconds\n",
      "**************************************************\n",
      "Training model for HAL\n",
      "Model for HAL trained in 0.43 seconds\n",
      "**************************************************\n",
      "Training model for HES\n",
      "Model for HES trained in 0.19 seconds\n",
      "**************************************************\n",
      "Training model for KMI\n",
      "Model for KMI trained in 0.50 seconds\n",
      "**************************************************\n",
      "Training model for MPC\n",
      "Model for MPC trained in 0.28 seconds\n",
      "**************************************************\n",
      "Training model for OKE\n",
      "Model for OKE trained in 0.42 seconds\n",
      "**************************************************\n",
      "Training model for OXY\n",
      "Model for OXY trained in 0.21 seconds\n",
      "**************************************************\n",
      "Training model for PSX\n",
      "Model for PSX trained in 0.76 seconds\n",
      "**************************************************\n",
      "Training model for SLB\n",
      "Model for SLB trained in 0.44 seconds\n",
      "**************************************************\n",
      "Training model for TPL\n",
      "Model for TPL trained in 1.16 seconds\n",
      "**************************************************\n",
      "Training model for TRGP\n",
      "Model for TRGP trained in 0.42 seconds\n",
      "**************************************************\n",
      "Training model for VLO\n",
      "Model for VLO trained in 0.19 seconds\n",
      "**************************************************\n",
      "Training model for WMB\n",
      "Model for WMB trained in 0.18 seconds\n",
      "**************************************************\n",
      "Training model for XOM\n",
      "Model for XOM trained in 2.32 seconds\n",
      "**************************************************\n"
     ]
    }
   ],
   "source": [
    "models_arima = {}\n",
    "\n",
    "for ticker in data.keys():\n",
    "    print(f\"Training model for {ticker}\")\n",
    "    start = time.time()\n",
    "    model = AutoARIMA()\n",
    "\n",
    "    model.fit(\n",
    "        series=train[ticker]['close'],\n",
    "    )\n",
    "\n",
    "    end = time.time()\n",
    "    print(f\"Model for {ticker} trained in {end - start:.2f} seconds\")\n",
    "    print(\"*\" * 50)\n",
    "\n",
    "    models_arima[ticker] = model"
   ]
  },
  {
   "cell_type": "code",
   "execution_count": 27,
   "id": "64a5ed9e",
   "metadata": {},
   "outputs": [
    {
     "name": "stdout",
     "output_type": "stream",
     "text": [
      "Ticker: APA, MAPE: 22.56, MAE: 4.55\n",
      "**************************************************\n",
      "Ticker: BKR, MAPE: 17.35, MAE: 7.15\n",
      "**************************************************\n",
      "Ticker: COP, MAPE: 18.24, MAE: 18.18\n",
      "**************************************************\n",
      "Ticker: CTRA, MAPE: 6.36, MAE: 1.59\n",
      "**************************************************\n",
      "Ticker: CVX, MAPE: 4.71, MAE: 6.84\n",
      "**************************************************\n",
      "Ticker: DVN, MAPE: 27.44, MAE: 9.72\n",
      "**************************************************\n",
      "Ticker: EOG, MAPE: 5.08, MAE: 6.03\n",
      "**************************************************\n",
      "Ticker: EQT, MAPE: 14.73, MAE: 6.54\n",
      "**************************************************\n",
      "Ticker: EXE, MAPE: 4.71, MAE: 4.94\n",
      "**************************************************\n",
      "Ticker: FANG, MAPE: 12.77, MAE: 19.74\n",
      "**************************************************\n",
      "Ticker: HAL, MAPE: 26.48, MAE: 6.94\n",
      "**************************************************\n",
      "Ticker: HES, MAPE: 11.01, MAE: 15.05\n",
      "**************************************************\n",
      "Ticker: KMI, MAPE: 24.96, MAE: 6.36\n",
      "**************************************************\n",
      "Ticker: MPC, MAPE: 31.66, MAE: 46.44\n",
      "**************************************************\n",
      "Ticker: OKE, MAPE: 17.44, MAE: 16.89\n",
      "**************************************************\n",
      "Ticker: OXY, MAPE: 23.76, MAE: 11.38\n",
      "**************************************************\n",
      "Ticker: PSX, MAPE: 10.30, MAE: 11.91\n",
      "**************************************************\n",
      "Ticker: SLB, MAPE: 11.91, MAE: 4.68\n",
      "**************************************************\n",
      "Ticker: TPL, MAPE: 44.64, MAE: 523.21\n",
      "**************************************************\n",
      "Ticker: TRGP, MAPE: 13.04, MAE: 23.58\n",
      "**************************************************\n",
      "Ticker: VLO, MAPE: 13.49, MAE: 17.16\n",
      "**************************************************\n",
      "Ticker: WMB, MAPE: 23.82, MAE: 12.71\n",
      "**************************************************\n",
      "Ticker: XOM, MAPE: 3.43, MAE: 3.82\n",
      "**************************************************\n"
     ]
    }
   ],
   "source": [
    "mapes_arima = {}\n",
    "maes_arima = {}\n",
    "\n",
    "for ticker in data.keys():\n",
    "    y_test = test[ticker]['close']\n",
    "    y_pred = models_arima[ticker].predict(\n",
    "        n=len(y_test),\n",
    "        show_warnings=False\n",
    "    )\n",
    "    mape_ = mape(y_test, y_pred)\n",
    "    mae_ = mae(y_test, y_pred)\n",
    "    mapes_arima[ticker] = mape_\n",
    "    maes_arima[ticker] = mae_\n",
    "    print(f\"Ticker: {ticker}, MAPE: {mape_:.2f}, MAE: {mae_:.2f}\")\n",
    "    print(\"*\" * 50)"
   ]
  },
  {
   "cell_type": "code",
   "execution_count": 28,
   "id": "3540f772",
   "metadata": {},
   "outputs": [
    {
     "data": {
      "text/plain": [
       "(16.951430424435262, 34.148155106253554)"
      ]
     },
     "execution_count": 28,
     "metadata": {},
     "output_type": "execute_result"
    }
   ],
   "source": [
    "np.mean(list(mapes_arima.values())), np.mean(list(maes_arima.values()))"
   ]
  }
 ],
 "metadata": {
  "kernelspec": {
   "display_name": ".venv",
   "language": "python",
   "name": "python3"
  },
  "language_info": {
   "codemirror_mode": {
    "name": "ipython",
    "version": 3
   },
   "file_extension": ".py",
   "mimetype": "text/x-python",
   "name": "python",
   "nbconvert_exporter": "python",
   "pygments_lexer": "ipython3",
   "version": "3.12.1"
  }
 },
 "nbformat": 4,
 "nbformat_minor": 5
}
