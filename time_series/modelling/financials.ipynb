{
 "cells": [
  {
   "cell_type": "markdown",
   "id": "a132de14",
   "metadata": {},
   "source": [
    "## Model training and tuning for the financials sector"
   ]
  },
  {
   "cell_type": "code",
   "execution_count": 1,
   "id": "d74fe196",
   "metadata": {},
   "outputs": [
    {
     "name": "stderr",
     "output_type": "stream",
     "text": [
      "Importing plotly failed. Interactive plots will not work.\n",
      "d:\\investing-bot\\.venv\\Lib\\site-packages\\fs\\__init__.py:4: UserWarning: pkg_resources is deprecated as an API. See https://setuptools.pypa.io/en/latest/pkg_resources.html. The pkg_resources package is slated for removal as early as 2025-11-30. Refrain from using this package or pin to Setuptools<81.\n",
      "  __import__(\"pkg_resources\").declare_namespace(__name__)  # type: ignore\n"
     ]
    }
   ],
   "source": [
    "import pandas as pd\n",
    "import numpy as np\n",
    "\n",
    "import time\n",
    "\n",
    "from darts import TimeSeries, concatenate\n",
    "from darts.utils.model_selection import train_test_split\n",
    "from darts.models.forecasting.xgboost import XGBModel\n",
    "from darts.dataprocessing.transformers.scaler import Scaler\n",
    "from darts.metrics.metrics import mape, mae\n",
    "from darts.models.forecasting.prophet_model import Prophet\n",
    "from darts.models.forecasting.sf_auto_theta import AutoTheta\n",
    "from darts.models.forecasting.linear_regression_model import LinearRegressionModel\n",
    "from darts.dataprocessing.transformers import StaticCovariatesTransformer\n",
    "from darts.dataprocessing.transformers.boxcox import BoxCox"
   ]
  },
  {
   "cell_type": "code",
   "execution_count": 2,
   "id": "8c7af10f",
   "metadata": {},
   "outputs": [],
   "source": [
    "df = pd.read_csv('../../data/processed/sp500_all_companies_cleaned_with_sector.csv')\n",
    "df['date'] = pd.to_datetime(df['date'])\n",
    "\n",
    "df_financials = df[df['GICS Sector'] == 'Financials'].sort_values(by=['ticker', 'date']).reset_index(drop=True)"
   ]
  },
  {
   "cell_type": "code",
   "execution_count": 30,
   "id": "ece8cf77",
   "metadata": {},
   "outputs": [
    {
     "data": {
      "text/plain": [
       "GICS Sector\n",
       "Industrials               193459\n",
       "Financials                190485\n",
       "Information Technology    177149\n",
       "Health Care               151348\n",
       "Consumer Discretionary    130185\n",
       "Consumer Staples           96649\n",
       "Real Estate                79757\n",
       "Utilities                  78786\n",
       "Materials                  63394\n",
       "Energy                     58523\n",
       "Communication Services     58017\n",
       "Name: count, dtype: int64"
      ]
     },
     "execution_count": 30,
     "metadata": {},
     "output_type": "execute_result"
    }
   ],
   "source": [
    "df['GICS Sector'].value_counts()"
   ]
  },
  {
   "cell_type": "code",
   "execution_count": 3,
   "id": "3a82775d",
   "metadata": {},
   "outputs": [
    {
     "data": {
      "text/plain": [
       "array(['ACGL', 'AFL', 'AIG', 'AIZ', 'AJG', 'ALL', 'AMP', 'AON', 'APO',\n",
       "       'AXP', 'BAC', 'BEN', 'BK', 'BLK', 'BRK-B', 'BRO', 'BX', 'C', 'CB',\n",
       "       'CBOE', 'CFG', 'CINF', 'CME', 'COF', 'CPAY', 'DFS', 'EG', 'ERIE',\n",
       "       'FDS', 'FI', 'FIS', 'FITB', 'GL', 'GPN', 'GS', 'HBAN', 'HIG',\n",
       "       'ICE', 'IVZ', 'JKHY', 'JPM', 'KEY', 'KKR', 'L', 'MA', 'MCO', 'MET',\n",
       "       'MKTX', 'MMC', 'MS', 'MSCI', 'MTB', 'NDAQ', 'NTRS', 'PFG', 'PGR',\n",
       "       'PNC', 'PRU', 'PYPL', 'RF', 'RJF', 'SCHW', 'SPGI', 'STT', 'SYF',\n",
       "       'TFC', 'TROW', 'TRV', 'USB', 'V', 'WFC', 'WRB', 'WTW'],\n",
       "      dtype=object)"
      ]
     },
     "execution_count": 3,
     "metadata": {},
     "output_type": "execute_result"
    }
   ],
   "source": [
    "df_financials['ticker'].unique()"
   ]
  },
  {
   "cell_type": "code",
   "execution_count": 4,
   "id": "92847a29",
   "metadata": {},
   "outputs": [],
   "source": [
    "data = {}\n",
    "static_covs = pd.DataFrame({'ticker': df_financials['ticker'].unique()})\n",
    "\n",
    "for ticker, group in df_financials.groupby('ticker'):\n",
    "    series = TimeSeries.from_dataframe(\n",
    "        group,\n",
    "        time_col='date',\n",
    "        value_cols=['close', 'high', 'low', 'open', 'volume'],\n",
    "        freq='B',\n",
    "        static_covariates=pd.Series(ticker)\n",
    "    )\n",
    "    data[ticker] = series"
   ]
  },
  {
   "cell_type": "code",
   "execution_count": 5,
   "id": "64b0d57f",
   "metadata": {},
   "outputs": [],
   "source": [
    "# encode each ticker as a static covariate\n",
    "transformer = StaticCovariatesTransformer()\n",
    "ts = [d for d in data.values()]\n",
    "transformer.fit(ts)\n",
    "\n",
    "for ticker, series in data.items():\n",
    "    data[ticker] = transformer.transform(series)"
   ]
  },
  {
   "cell_type": "code",
   "execution_count": 6,
   "id": "8ebc137c",
   "metadata": {},
   "outputs": [],
   "source": [
    "train = {}\n",
    "test = {}\n",
    "\n",
    "for ticker, series in data.items():\n",
    "    train[ticker], test[ticker] = train_test_split(series, test_size=0.1)\n",
    "    last_train = train[ticker][-1:]\n",
    "    test_with_context = last_train.append(test[ticker]) # append last point of train to test as our forecast requires it\n",
    "    test[ticker] = test_with_context"
   ]
  },
  {
   "cell_type": "markdown",
   "id": "2ff40656",
   "metadata": {},
   "source": [
    "## Gradient Boosting"
   ]
  },
  {
   "cell_type": "markdown",
   "id": "ab5a6a61",
   "metadata": {},
   "source": [
    "### Train a local model first"
   ]
  },
  {
   "cell_type": "code",
   "execution_count": 7,
   "id": "630b92e0",
   "metadata": {},
   "outputs": [
    {
     "name": "stdout",
     "output_type": "stream",
     "text": [
      "Training model for ACGL\n",
      "Model for ACGL trained in 0.30 seconds\n",
      "**************************************************\n",
      "Training model for AFL\n",
      "Model for AFL trained in 0.33 seconds\n",
      "**************************************************\n",
      "Training model for AIG\n",
      "Model for AIG trained in 0.34 seconds\n",
      "**************************************************\n",
      "Training model for AIZ\n",
      "Model for AIZ trained in 0.37 seconds\n",
      "**************************************************\n",
      "Training model for AJG\n",
      "Model for AJG trained in 0.31 seconds\n",
      "**************************************************\n",
      "Training model for ALL\n",
      "Model for ALL trained in 0.34 seconds\n",
      "**************************************************\n",
      "Training model for AMP\n",
      "Model for AMP trained in 0.35 seconds\n",
      "**************************************************\n",
      "Training model for AON\n",
      "Model for AON trained in 0.31 seconds\n",
      "**************************************************\n",
      "Training model for APO\n",
      "Model for APO trained in 0.32 seconds\n",
      "**************************************************\n",
      "Training model for AXP\n",
      "Model for AXP trained in 0.30 seconds\n",
      "**************************************************\n",
      "Training model for BAC\n",
      "Model for BAC trained in 0.31 seconds\n",
      "**************************************************\n",
      "Training model for BEN\n",
      "Model for BEN trained in 0.35 seconds\n",
      "**************************************************\n",
      "Training model for BK\n",
      "Model for BK trained in 0.31 seconds\n",
      "**************************************************\n",
      "Training model for BLK\n",
      "Model for BLK trained in 0.34 seconds\n",
      "**************************************************\n",
      "Training model for BRK-B\n",
      "Model for BRK-B trained in 0.33 seconds\n",
      "**************************************************\n",
      "Training model for BRO\n",
      "Model for BRO trained in 0.31 seconds\n",
      "**************************************************\n",
      "Training model for BX\n",
      "Model for BX trained in 0.30 seconds\n",
      "**************************************************\n",
      "Training model for C\n",
      "Model for C trained in 0.31 seconds\n",
      "**************************************************\n",
      "Training model for CB\n",
      "Model for CB trained in 0.34 seconds\n",
      "**************************************************\n",
      "Training model for CBOE\n",
      "Model for CBOE trained in 0.32 seconds\n",
      "**************************************************\n",
      "Training model for CFG\n",
      "Model for CFG trained in 0.31 seconds\n",
      "**************************************************\n",
      "Training model for CINF\n",
      "Model for CINF trained in 0.32 seconds\n",
      "**************************************************\n",
      "Training model for CME\n",
      "Model for CME trained in 0.30 seconds\n",
      "**************************************************\n",
      "Training model for COF\n",
      "Model for COF trained in 0.30 seconds\n",
      "**************************************************\n",
      "Training model for CPAY\n",
      "Model for CPAY trained in 0.36 seconds\n",
      "**************************************************\n",
      "Training model for DFS\n",
      "Model for DFS trained in 0.31 seconds\n",
      "**************************************************\n",
      "Training model for EG\n",
      "Model for EG trained in 0.33 seconds\n",
      "**************************************************\n",
      "Training model for ERIE\n",
      "Model for ERIE trained in 0.30 seconds\n",
      "**************************************************\n",
      "Training model for FDS\n",
      "Model for FDS trained in 0.31 seconds\n",
      "**************************************************\n",
      "Training model for FI\n",
      "Model for FI trained in 0.33 seconds\n",
      "**************************************************\n",
      "Training model for FIS\n",
      "Model for FIS trained in 0.30 seconds\n",
      "**************************************************\n",
      "Training model for FITB\n",
      "Model for FITB trained in 0.29 seconds\n",
      "**************************************************\n",
      "Training model for GL\n",
      "Model for GL trained in 0.30 seconds\n",
      "**************************************************\n",
      "Training model for GPN\n",
      "Model for GPN trained in 0.34 seconds\n",
      "**************************************************\n",
      "Training model for GS\n",
      "Model for GS trained in 0.32 seconds\n",
      "**************************************************\n",
      "Training model for HBAN\n",
      "Model for HBAN trained in 0.30 seconds\n",
      "**************************************************\n",
      "Training model for HIG\n",
      "Model for HIG trained in 0.36 seconds\n",
      "**************************************************\n",
      "Training model for ICE\n",
      "Model for ICE trained in 0.34 seconds\n",
      "**************************************************\n",
      "Training model for IVZ\n",
      "Model for IVZ trained in 0.35 seconds\n",
      "**************************************************\n",
      "Training model for JKHY\n",
      "Model for JKHY trained in 0.35 seconds\n",
      "**************************************************\n",
      "Training model for JPM\n",
      "Model for JPM trained in 0.30 seconds\n",
      "**************************************************\n",
      "Training model for KEY\n",
      "Model for KEY trained in 0.31 seconds\n",
      "**************************************************\n",
      "Training model for KKR\n",
      "Model for KKR trained in 0.32 seconds\n",
      "**************************************************\n",
      "Training model for L\n",
      "Model for L trained in 0.28 seconds\n",
      "**************************************************\n",
      "Training model for MA\n",
      "Model for MA trained in 0.30 seconds\n",
      "**************************************************\n",
      "Training model for MCO\n",
      "Model for MCO trained in 0.32 seconds\n",
      "**************************************************\n",
      "Training model for MET\n",
      "Model for MET trained in 0.34 seconds\n",
      "**************************************************\n",
      "Training model for MKTX\n",
      "Model for MKTX trained in 0.33 seconds\n",
      "**************************************************\n",
      "Training model for MMC\n",
      "Model for MMC trained in 0.32 seconds\n",
      "**************************************************\n",
      "Training model for MS\n",
      "Model for MS trained in 0.32 seconds\n",
      "**************************************************\n",
      "Training model for MSCI\n",
      "Model for MSCI trained in 0.42 seconds\n",
      "**************************************************\n",
      "Training model for MTB\n",
      "Model for MTB trained in 0.36 seconds\n",
      "**************************************************\n",
      "Training model for NDAQ\n",
      "Model for NDAQ trained in 0.31 seconds\n",
      "**************************************************\n",
      "Training model for NTRS\n",
      "Model for NTRS trained in 0.32 seconds\n",
      "**************************************************\n",
      "Training model for PFG\n",
      "Model for PFG trained in 0.28 seconds\n",
      "**************************************************\n",
      "Training model for PGR\n",
      "Model for PGR trained in 0.26 seconds\n",
      "**************************************************\n",
      "Training model for PNC\n",
      "Model for PNC trained in 0.30 seconds\n",
      "**************************************************\n",
      "Training model for PRU\n",
      "Model for PRU trained in 0.34 seconds\n",
      "**************************************************\n",
      "Training model for PYPL\n",
      "Model for PYPL trained in 0.32 seconds\n",
      "**************************************************\n",
      "Training model for RF\n",
      "Model for RF trained in 0.30 seconds\n",
      "**************************************************\n",
      "Training model for RJF\n",
      "Model for RJF trained in 0.34 seconds\n",
      "**************************************************\n",
      "Training model for SCHW\n",
      "Model for SCHW trained in 0.33 seconds\n",
      "**************************************************\n",
      "Training model for SPGI\n",
      "Model for SPGI trained in 0.37 seconds\n",
      "**************************************************\n",
      "Training model for STT\n",
      "Model for STT trained in 0.34 seconds\n",
      "**************************************************\n",
      "Training model for SYF\n",
      "Model for SYF trained in 0.30 seconds\n",
      "**************************************************\n",
      "Training model for TFC\n",
      "Model for TFC trained in 0.33 seconds\n",
      "**************************************************\n",
      "Training model for TROW\n",
      "Model for TROW trained in 0.31 seconds\n",
      "**************************************************\n",
      "Training model for TRV\n",
      "Model for TRV trained in 0.33 seconds\n",
      "**************************************************\n",
      "Training model for USB\n",
      "Model for USB trained in 0.34 seconds\n",
      "**************************************************\n",
      "Training model for V\n",
      "Model for V trained in 0.35 seconds\n",
      "**************************************************\n",
      "Training model for WFC\n",
      "Model for WFC trained in 0.35 seconds\n",
      "**************************************************\n",
      "Training model for WRB\n",
      "Model for WRB trained in 0.31 seconds\n",
      "**************************************************\n",
      "Training model for WTW\n",
      "Model for WTW trained in 0.32 seconds\n",
      "**************************************************\n"
     ]
    }
   ],
   "source": [
    "models = {}\n",
    "\n",
    "for ticker in data.keys():\n",
    "    print(f\"Training model for {ticker}\")\n",
    "    start = time.time()\n",
    "    model = XGBModel(\n",
    "        lags=15,\n",
    "        lags_past_covariates=1,\n",
    "        lags_future_covariates=[0],\n",
    "        output_chunk_length=1,\n",
    "        random_state=42,\n",
    "        add_encoders={\n",
    "            'datetime_attribute': {\n",
    "                'future': ['month', 'day', 'dayofweek', 'dayofyear', 'quarter', 'year'] # automatically generate future covariates from time series\n",
    "            }\n",
    "        }\n",
    "    )\n",
    "\n",
    "    model.fit(\n",
    "        train[ticker]['close'],\n",
    "        past_covariates=train[ticker][['high', 'low', 'volume', 'open']],\n",
    "    )\n",
    "\n",
    "    end = time.time()\n",
    "    print(f\"Model for {ticker} trained in {end - start:.2f} seconds\")\n",
    "    print(\"*\" * 50)\n",
    "\n",
    "    models[ticker] = model"
   ]
  },
  {
   "cell_type": "code",
   "execution_count": 8,
   "id": "b9f91c14",
   "metadata": {},
   "outputs": [
    {
     "name": "stdout",
     "output_type": "stream",
     "text": [
      "Ticker: ACGL, MAPE: 7.81, MAE: 7.75\n",
      "**************************************************\n",
      "Ticker: AFL, MAPE: 32.77, MAE: 34.09\n",
      "**************************************************\n",
      "Ticker: AIG, MAPE: 2.96, MAE: 2.34\n",
      "**************************************************\n",
      "Ticker: AIZ, MAPE: 18.79, MAE: 37.93\n",
      "**************************************************\n",
      "Ticker: AJG, MAPE: 15.83, MAE: 48.01\n",
      "**************************************************\n",
      "Ticker: ALL, MAPE: 10.08, MAE: 19.28\n",
      "**************************************************\n",
      "Ticker: AMP, MAPE: 13.20, MAE: 67.99\n",
      "**************************************************\n",
      "Ticker: AON, MAPE: 12.24, MAE: 45.14\n",
      "**************************************************\n",
      "Ticker: APO, MAPE: 16.88, MAE: 25.89\n",
      "**************************************************\n",
      "Ticker: AXP, MAPE: 14.37, MAE: 40.93\n",
      "**************************************************\n",
      "Ticker: BAC, MAPE: 12.76, MAE: 5.49\n",
      "**************************************************\n",
      "Ticker: BEN, MAPE: 13.99, MAE: 2.73\n",
      "**************************************************\n",
      "Ticker: BK, MAPE: 23.62, MAE: 18.16\n",
      "**************************************************\n",
      "Ticker: BLK, MAPE: 9.30, MAE: 90.01\n",
      "**************************************************\n",
      "Ticker: BRK-B, MAPE: 11.52, MAE: 55.26\n",
      "**************************************************\n",
      "Ticker: BRO, MAPE: 19.15, MAE: 20.63\n",
      "**************************************************\n",
      "Ticker: BX, MAPE: 29.49, MAE: 45.95\n",
      "**************************************************\n",
      "Ticker: C, MAPE: 5.45, MAE: 3.89\n",
      "**************************************************\n",
      "Ticker: CB, MAPE: 9.62, MAE: 26.96\n",
      "**************************************************\n",
      "Ticker: CBOE, MAPE: 8.64, MAE: 17.96\n",
      "**************************************************\n",
      "Ticker: CFG, MAPE: 4.03, MAE: 1.62\n",
      "**************************************************\n",
      "Ticker: CINF, MAPE: 12.54, MAE: 17.54\n",
      "**************************************************\n",
      "Ticker: CME, MAPE: 8.22, MAE: 19.88\n",
      "**************************************************\n",
      "Ticker: COF, MAPE: 11.15, MAE: 19.98\n",
      "**************************************************\n",
      "Ticker: CPAY, MAPE: 16.59, MAE: 57.02\n",
      "**************************************************\n",
      "Ticker: DFS, MAPE: 19.13, MAE: 32.85\n",
      "**************************************************\n",
      "Ticker: EG, MAPE: 2.35, MAE: 8.45\n",
      "**************************************************\n",
      "Ticker: ERIE, MAPE: 9.87, MAE: 45.23\n",
      "**************************************************\n",
      "Ticker: FDS, MAPE: 5.23, MAE: 23.46\n",
      "**************************************************\n",
      "Ticker: FI, MAPE: 18.57, MAE: 38.36\n",
      "**************************************************\n",
      "Ticker: FIS, MAPE: 4.32, MAE: 3.46\n",
      "**************************************************\n",
      "Ticker: FITB, MAPE: 5.26, MAE: 2.22\n",
      "**************************************************\n",
      "Ticker: GL, MAPE: 18.50, MAE: 21.24\n",
      "**************************************************\n",
      "Ticker: GPN, MAPE: 6.30, MAE: 6.19\n",
      "**************************************************\n",
      "Ticker: GS, MAPE: 19.89, MAE: 110.67\n",
      "**************************************************\n",
      "Ticker: HBAN, MAPE: 15.11, MAE: 2.37\n",
      "**************************************************\n",
      "Ticker: HIG, MAPE: 11.33, MAE: 13.02\n",
      "**************************************************\n",
      "Ticker: ICE, MAPE: 12.93, MAE: 20.62\n",
      "**************************************************\n",
      "Ticker: IVZ, MAPE: 6.69, MAE: 1.08\n",
      "**************************************************\n",
      "Ticker: JKHY, MAPE: 5.99, MAE: 10.36\n",
      "**************************************************\n",
      "Ticker: JPM, MAPE: 19.35, MAE: 45.61\n",
      "**************************************************\n",
      "Ticker: KEY, MAPE: 10.00, MAE: 1.70\n",
      "**************************************************\n",
      "Ticker: KKR, MAPE: 22.36, MAE: 30.71\n",
      "**************************************************\n",
      "Ticker: L, MAPE: 6.02, MAE: 5.07\n",
      "**************************************************\n",
      "Ticker: MA, MAPE: 8.82, MAE: 45.93\n",
      "**************************************************\n",
      "Ticker: MCO, MAPE: 15.65, MAE: 73.67\n",
      "**************************************************\n",
      "Ticker: MET, MAPE: 8.77, MAE: 7.15\n",
      "**************************************************\n",
      "Ticker: MKTX, MAPE: 7.04, MAE: 16.40\n",
      "**************************************************\n",
      "Ticker: MMC, MAPE: 8.94, MAE: 19.99\n",
      "**************************************************\n",
      "Ticker: MS, MAPE: 32.10, MAE: 37.32\n",
      "**************************************************\n",
      "Ticker: MSCI, MAPE: 22.46, MAE: 129.30\n",
      "**************************************************\n",
      "Ticker: MTB, MAPE: 16.19, MAE: 30.46\n",
      "**************************************************\n",
      "Ticker: NDAQ, MAPE: 12.19, MAE: 9.20\n",
      "**************************************************\n",
      "Ticker: NTRS, MAPE: 9.68, MAE: 9.69\n",
      "**************************************************\n",
      "Ticker: PFG, MAPE: 4.62, MAE: 3.71\n",
      "**************************************************\n",
      "Ticker: PGR, MAPE: 14.56, MAE: 37.27\n",
      "**************************************************\n",
      "Ticker: PNC, MAPE: 12.04, MAE: 22.51\n",
      "**************************************************\n",
      "Ticker: PRU, MAPE: 7.53, MAE: 8.86\n",
      "**************************************************\n",
      "Ticker: PYPL, MAPE: 3.90, MAE: 2.70\n",
      "**************************************************\n",
      "Ticker: RF, MAPE: 8.68, MAE: 2.03\n",
      "**************************************************\n",
      "Ticker: RJF, MAPE: 12.75, MAE: 19.24\n",
      "**************************************************\n",
      "Ticker: SCHW, MAPE: 3.99, MAE: 2.89\n",
      "**************************************************\n",
      "Ticker: SPGI, MAPE: 8.89, MAE: 44.78\n",
      "**************************************************\n",
      "Ticker: STT, MAPE: 10.54, MAE: 9.58\n",
      "**************************************************\n",
      "Ticker: SYF, MAPE: 15.70, MAE: 9.58\n",
      "**************************************************\n",
      "Ticker: TFC, MAPE: 5.17, MAE: 2.20\n",
      "**************************************************\n",
      "Ticker: TROW, MAPE: 5.95, MAE: 5.75\n",
      "**************************************************\n",
      "Ticker: TRV, MAPE: 8.08, MAE: 19.90\n",
      "**************************************************\n",
      "Ticker: USB, MAPE: 5.51, MAE: 2.49\n",
      "**************************************************\n",
      "Ticker: V, MAPE: 8.29, MAE: 27.03\n",
      "**************************************************\n",
      "Ticker: WFC, MAPE: 12.73, MAE: 9.05\n",
      "**************************************************\n",
      "Ticker: WRB, MAPE: 6.71, MAE: 4.18\n",
      "**************************************************\n",
      "Ticker: WTW, MAPE: 10.77, MAE: 33.53\n",
      "**************************************************\n"
     ]
    }
   ],
   "source": [
    "mapes = {}\n",
    "maes = {}\n",
    "\n",
    "for ticker in data.keys():\n",
    "    y_test = test[ticker]['close']\n",
    "    y_pred = models[ticker].predict(\n",
    "        n=len(y_test),\n",
    "        past_covariates=test[ticker][['high', 'low', 'volume', 'open']],\n",
    "        show_warnings=False\n",
    "    )\n",
    "    mape_ = mape(y_test, y_pred)\n",
    "    mae_ = mae(y_test, y_pred)\n",
    "    mapes[ticker] = mape_\n",
    "    maes[ticker] = mae_\n",
    "    print(f\"Ticker: {ticker}, MAPE: {mape_:.2f}, MAE: {mae_:.2f}\")\n",
    "    print(\"*\" * 50)"
   ]
  },
  {
   "cell_type": "code",
   "execution_count": 9,
   "id": "225f2cf2",
   "metadata": {},
   "outputs": [
    {
     "data": {
      "text/plain": [
       "(11.895948727266521, 24.677879089768687)"
      ]
     },
     "execution_count": 9,
     "metadata": {},
     "output_type": "execute_result"
    }
   ],
   "source": [
    "np.mean(list(mapes.values())), np.mean(list(maes.values()))"
   ]
  },
  {
   "cell_type": "markdown",
   "id": "cdb475a9",
   "metadata": {},
   "source": [
    "### Global model"
   ]
  },
  {
   "cell_type": "code",
   "execution_count": 10,
   "id": "47343a36",
   "metadata": {},
   "outputs": [
    {
     "name": "stdout",
     "output_type": "stream",
     "text": [
      "Training global model\n",
      "Global model trained in 22.04 seconds\n",
      "**************************************************\n"
     ]
    }
   ],
   "source": [
    "print(f\"Training global model\")\n",
    "start = time.time()\n",
    "model = XGBModel(\n",
    "    lags=15,\n",
    "    lags_past_covariates=1,\n",
    "    lags_future_covariates=[0],\n",
    "    output_chunk_length=1,\n",
    "    random_state=42,\n",
    "    add_encoders={\n",
    "        'datetime_attribute': {\n",
    "            'future': ['month', 'day', 'dayofweek', 'dayofyear', 'quarter', 'year'] # automatically generate future covariates from time series\n",
    "        }\n",
    "    },\n",
    "    use_static_covariates=True,\n",
    "    n_estimators=1000,\n",
    "    eta=0.01,\n",
    "    max_depth=8,\n",
    "    subsample=0.8\n",
    ")\n",
    "\n",
    "model.fit(\n",
    "    [ts['close'] for ts in train.values()],\n",
    "    past_covariates=[ts[['high', 'low', 'volume', 'open']] for ts in train.values()],\n",
    ")\n",
    "\n",
    "end = time.time()\n",
    "print(f\"Global model trained in {end - start:.2f} seconds\")\n",
    "print(\"*\" * 50)"
   ]
  },
  {
   "cell_type": "code",
   "execution_count": 11,
   "id": "e80265b5",
   "metadata": {},
   "outputs": [
    {
     "name": "stdout",
     "output_type": "stream",
     "text": [
      "Global model for ACGL, MAPE: 2.28, MAE: 2.19\n",
      "**************************************************\n",
      "Global model for AFL, MAPE: 2.88, MAE: 2.94\n",
      "**************************************************\n",
      "Global model for AIG, MAPE: 2.04, MAE: 1.54\n",
      "**************************************************\n",
      "Global model for AIZ, MAPE: 1.91, MAE: 3.70\n",
      "**************************************************\n",
      "Global model for AJG, MAPE: 1.78, MAE: 5.24\n",
      "**************************************************\n",
      "Global model for ALL, MAPE: 1.76, MAE: 3.24\n",
      "**************************************************\n",
      "Global model for AMP, MAPE: 8.00, MAE: 39.88\n",
      "**************************************************\n",
      "Global model for AON, MAPE: 1.75, MAE: 6.09\n",
      "**************************************************\n",
      "Global model for APO, MAPE: 5.57, MAE: 7.41\n",
      "**************************************************\n",
      "Global model for AXP, MAPE: 2.01, MAE: 5.31\n",
      "**************************************************\n",
      "Global model for BAC, MAPE: 2.41, MAE: 0.98\n",
      "**************************************************\n",
      "Global model for BEN, MAPE: 2.02, MAE: 0.41\n",
      "**************************************************\n",
      "Global model for BK, MAPE: 2.46, MAE: 1.77\n",
      "**************************************************\n",
      "Global model for BLK, MAPE: 15.60, MAE: 148.93\n",
      "**************************************************\n",
      "Global model for BRK-B, MAPE: 3.20, MAE: 15.27\n",
      "**************************************************\n",
      "Global model for BRO, MAPE: 2.57, MAE: 2.68\n",
      "**************************************************\n",
      "Global model for BX, MAPE: 4.00, MAE: 5.87\n",
      "**************************************************\n",
      "Global model for C, MAPE: 3.02, MAE: 2.02\n",
      "**************************************************\n",
      "Global model for CB, MAPE: 1.49, MAE: 4.13\n",
      "**************************************************\n",
      "Global model for CBOE, MAPE: 1.79, MAE: 3.59\n",
      "**************************************************\n",
      "Global model for CFG, MAPE: 2.74, MAE: 1.10\n",
      "**************************************************\n",
      "Global model for CINF, MAPE: 4.14, MAE: 5.65\n",
      "**************************************************\n",
      "Global model for CME, MAPE: 1.45, MAE: 3.26\n",
      "**************************************************\n",
      "Global model for COF, MAPE: 2.90, MAE: 4.73\n",
      "**************************************************\n",
      "Global model for CPAY, MAPE: 2.48, MAE: 7.91\n",
      "**************************************************\n",
      "Global model for DFS, MAPE: 4.48, MAE: 6.95\n",
      "**************************************************\n",
      "Global model for EG, MAPE: 1.86, MAE: 6.73\n",
      "**************************************************\n",
      "Global model for ERIE, MAPE: 3.81, MAE: 16.69\n",
      "**************************************************\n",
      "Global model for FDS, MAPE: 2.53, MAE: 11.19\n",
      "**************************************************\n",
      "Global model for FI, MAPE: 2.12, MAE: 4.04\n",
      "**************************************************\n",
      "Global model for FIS, MAPE: 3.05, MAE: 2.39\n",
      "**************************************************\n",
      "Global model for FITB, MAPE: 2.46, MAE: 0.98\n",
      "**************************************************\n",
      "Global model for GL, MAPE: 2.63, MAE: 2.75\n",
      "**************************************************\n",
      "Global model for GPN, MAPE: 3.73, MAE: 3.68\n",
      "**************************************************\n",
      "Global model for GS, MAPE: 8.61, MAE: 47.79\n",
      "**************************************************\n",
      "Global model for HBAN, MAPE: 2.52, MAE: 0.37\n",
      "**************************************************\n",
      "Global model for HIG, MAPE: 2.55, MAE: 2.85\n",
      "**************************************************\n",
      "Global model for ICE, MAPE: 3.93, MAE: 5.87\n",
      "**************************************************\n",
      "Global model for IVZ, MAPE: 2.84, MAE: 0.45\n",
      "**************************************************\n",
      "Global model for JKHY, MAPE: 1.62, MAE: 2.80\n",
      "**************************************************\n",
      "Global model for JPM, MAPE: 2.05, MAE: 4.64\n",
      "**************************************************\n",
      "Global model for KEY, MAPE: 2.93, MAE: 0.47\n",
      "**************************************************\n",
      "Global model for KKR, MAPE: 5.43, MAE: 6.87\n",
      "**************************************************\n",
      "Global model for L, MAPE: 1.61, MAE: 1.32\n",
      "**************************************************\n",
      "Global model for MA, MAPE: 5.64, MAE: 29.31\n",
      "**************************************************\n",
      "Global model for MCO, MAPE: 3.29, MAE: 15.08\n",
      "**************************************************\n",
      "Global model for MET, MAPE: 2.56, MAE: 1.96\n",
      "**************************************************\n",
      "Global model for MKTX, MAPE: 2.50, MAE: 5.69\n",
      "**************************************************\n",
      "Global model for MMC, MAPE: 1.45, MAE: 3.19\n",
      "**************************************************\n",
      "Global model for MS, MAPE: 4.83, MAE: 5.46\n",
      "**************************************************\n",
      "Global model for MSCI, MAPE: 10.55, MAE: 60.89\n",
      "**************************************************\n",
      "Global model for MTB, MAPE: 2.63, MAE: 4.56\n",
      "**************************************************\n",
      "Global model for NDAQ, MAPE: 2.40, MAE: 1.74\n",
      "**************************************************\n",
      "Global model for NTRS, MAPE: 2.58, MAE: 2.44\n",
      "**************************************************\n",
      "Global model for PFG, MAPE: 2.77, MAE: 2.20\n",
      "**************************************************\n",
      "Global model for PGR, MAPE: 1.97, MAE: 4.82\n",
      "**************************************************\n",
      "Global model for PNC, MAPE: 2.07, MAE: 3.64\n",
      "**************************************************\n",
      "Global model for PRU, MAPE: 3.38, MAE: 3.81\n",
      "**************************************************\n",
      "Global model for PYPL, MAPE: 3.57, MAE: 2.62\n",
      "**************************************************\n",
      "Global model for RF, MAPE: 2.09, MAE: 0.46\n",
      "**************************************************\n",
      "Global model for RJF, MAPE: 3.07, MAE: 4.24\n",
      "**************************************************\n",
      "Global model for SCHW, MAPE: 2.98, MAE: 2.19\n",
      "**************************************************\n",
      "Global model for SPGI, MAPE: 4.98, MAE: 24.84\n",
      "**************************************************\n",
      "Global model for STT, MAPE: 2.75, MAE: 2.33\n",
      "**************************************************\n",
      "Global model for SYF, MAPE: 3.53, MAE: 1.89\n",
      "**************************************************\n",
      "Global model for TFC, MAPE: 2.80, MAE: 1.15\n",
      "**************************************************\n",
      "Global model for TROW, MAPE: 2.69, MAE: 2.82\n",
      "**************************************************\n",
      "Global model for TRV, MAPE: 1.73, MAE: 4.09\n",
      "**************************************************\n",
      "Global model for USB, MAPE: 2.85, MAE: 1.24\n",
      "**************************************************\n",
      "Global model for V, MAPE: 1.64, MAE: 5.02\n",
      "**************************************************\n",
      "Global model for WFC, MAPE: 2.89, MAE: 1.88\n",
      "**************************************************\n",
      "Global model for WRB, MAPE: 2.03, MAE: 1.21\n",
      "**************************************************\n",
      "Global model for WTW, MAPE: 1.33, MAE: 3.99\n",
      "**************************************************\n"
     ]
    }
   ],
   "source": [
    "mapes = {}\n",
    "maes = {}\n",
    "\n",
    "for ticker in data.keys():\n",
    "    y_pred = model.predict(\n",
    "        n=len(test[ticker]['close']),\n",
    "        series=train[ticker]['close'],\n",
    "        past_covariates=test[ticker][['high', 'low', 'volume', 'open']],\n",
    "        show_warnings=False\n",
    "    )\n",
    "    y_test = test[ticker]['close']\n",
    "    mape_ = mape(y_test, y_pred)\n",
    "    mae_ = mae(y_test, y_pred)\n",
    "\n",
    "    mapes[ticker] = mape_\n",
    "    maes[ticker] = mae_\n",
    "\n",
    "    print(f\"Global model for {ticker}, MAPE: {mape_:.2f}, MAE: {mae_:.2f}\")\n",
    "    print(\"*\" * 50)"
   ]
  },
  {
   "cell_type": "code",
   "execution_count": 12,
   "id": "954892bf",
   "metadata": {},
   "outputs": [
    {
     "data": {
      "text/plain": [
       "(3.1863993367901537, 8.485099203952252)"
      ]
     },
     "execution_count": 12,
     "metadata": {},
     "output_type": "execute_result"
    }
   ],
   "source": [
    "np.mean(list(mapes.values())), np.mean(list(maes.values()))"
   ]
  },
  {
   "cell_type": "markdown",
   "id": "954b34fb",
   "metadata": {},
   "source": [
    "## Prophet model"
   ]
  },
  {
   "cell_type": "code",
   "execution_count": 13,
   "id": "0ca95853",
   "metadata": {},
   "outputs": [
    {
     "name": "stdout",
     "output_type": "stream",
     "text": [
      "Training model for ACGL\n"
     ]
    },
    {
     "name": "stderr",
     "output_type": "stream",
     "text": [
      "21:15:50 - cmdstanpy - INFO - Chain [1] start processing\n",
      "21:15:53 - cmdstanpy - INFO - Chain [1] done processing\n"
     ]
    },
    {
     "name": "stdout",
     "output_type": "stream",
     "text": [
      "Model for ACGL trained in 3.03 seconds\n",
      "**************************************************\n",
      "Training model for AFL\n"
     ]
    },
    {
     "name": "stderr",
     "output_type": "stream",
     "text": [
      "21:15:53 - cmdstanpy - INFO - Chain [1] start processing\n",
      "21:15:55 - cmdstanpy - INFO - Chain [1] done processing\n"
     ]
    },
    {
     "name": "stdout",
     "output_type": "stream",
     "text": [
      "Model for AFL trained in 2.45 seconds\n",
      "**************************************************\n",
      "Training model for AIG\n"
     ]
    },
    {
     "name": "stderr",
     "output_type": "stream",
     "text": [
      "21:15:56 - cmdstanpy - INFO - Chain [1] start processing\n",
      "21:15:58 - cmdstanpy - INFO - Chain [1] done processing\n"
     ]
    },
    {
     "name": "stdout",
     "output_type": "stream",
     "text": [
      "Model for AIG trained in 2.84 seconds\n",
      "**************************************************\n",
      "Training model for AIZ\n"
     ]
    },
    {
     "name": "stderr",
     "output_type": "stream",
     "text": [
      "21:15:59 - cmdstanpy - INFO - Chain [1] start processing\n",
      "21:16:00 - cmdstanpy - INFO - Chain [1] done processing\n"
     ]
    },
    {
     "name": "stdout",
     "output_type": "stream",
     "text": [
      "Model for AIZ trained in 1.93 seconds\n",
      "**************************************************\n",
      "Training model for AJG\n"
     ]
    },
    {
     "name": "stderr",
     "output_type": "stream",
     "text": [
      "21:16:01 - cmdstanpy - INFO - Chain [1] start processing\n",
      "21:16:03 - cmdstanpy - INFO - Chain [1] done processing\n"
     ]
    },
    {
     "name": "stdout",
     "output_type": "stream",
     "text": [
      "Model for AJG trained in 2.88 seconds\n",
      "**************************************************\n",
      "Training model for ALL\n"
     ]
    },
    {
     "name": "stderr",
     "output_type": "stream",
     "text": [
      "21:16:03 - cmdstanpy - INFO - Chain [1] start processing\n",
      "21:16:06 - cmdstanpy - INFO - Chain [1] done processing\n"
     ]
    },
    {
     "name": "stdout",
     "output_type": "stream",
     "text": [
      "Model for ALL trained in 2.71 seconds\n",
      "**************************************************\n",
      "Training model for AMP\n"
     ]
    },
    {
     "name": "stderr",
     "output_type": "stream",
     "text": [
      "21:16:06 - cmdstanpy - INFO - Chain [1] start processing\n",
      "21:16:09 - cmdstanpy - INFO - Chain [1] done processing\n"
     ]
    },
    {
     "name": "stdout",
     "output_type": "stream",
     "text": [
      "Model for AMP trained in 3.05 seconds\n",
      "**************************************************\n",
      "Training model for AON\n"
     ]
    },
    {
     "name": "stderr",
     "output_type": "stream",
     "text": [
      "21:16:09 - cmdstanpy - INFO - Chain [1] start processing\n",
      "21:16:12 - cmdstanpy - INFO - Chain [1] done processing\n"
     ]
    },
    {
     "name": "stdout",
     "output_type": "stream",
     "text": [
      "Model for AON trained in 3.13 seconds\n",
      "**************************************************\n",
      "Training model for APO\n"
     ]
    },
    {
     "name": "stderr",
     "output_type": "stream",
     "text": [
      "21:16:12 - cmdstanpy - INFO - Chain [1] start processing\n",
      "21:16:14 - cmdstanpy - INFO - Chain [1] done processing\n"
     ]
    },
    {
     "name": "stdout",
     "output_type": "stream",
     "text": [
      "Model for APO trained in 2.28 seconds\n",
      "**************************************************\n",
      "Training model for AXP\n"
     ]
    },
    {
     "name": "stderr",
     "output_type": "stream",
     "text": [
      "21:16:15 - cmdstanpy - INFO - Chain [1] start processing\n",
      "21:16:17 - cmdstanpy - INFO - Chain [1] done processing\n"
     ]
    },
    {
     "name": "stdout",
     "output_type": "stream",
     "text": [
      "Model for AXP trained in 2.37 seconds\n",
      "**************************************************\n",
      "Training model for BAC\n"
     ]
    },
    {
     "name": "stderr",
     "output_type": "stream",
     "text": [
      "21:16:17 - cmdstanpy - INFO - Chain [1] start processing\n",
      "21:16:19 - cmdstanpy - INFO - Chain [1] done processing\n"
     ]
    },
    {
     "name": "stdout",
     "output_type": "stream",
     "text": [
      "Model for BAC trained in 2.03 seconds\n",
      "**************************************************\n",
      "Training model for BEN\n"
     ]
    },
    {
     "name": "stderr",
     "output_type": "stream",
     "text": [
      "21:16:19 - cmdstanpy - INFO - Chain [1] start processing\n",
      "21:16:21 - cmdstanpy - INFO - Chain [1] done processing\n"
     ]
    },
    {
     "name": "stdout",
     "output_type": "stream",
     "text": [
      "Model for BEN trained in 2.53 seconds\n",
      "**************************************************\n",
      "Training model for BK\n"
     ]
    },
    {
     "name": "stderr",
     "output_type": "stream",
     "text": [
      "21:16:21 - cmdstanpy - INFO - Chain [1] start processing\n",
      "21:16:24 - cmdstanpy - INFO - Chain [1] done processing\n"
     ]
    },
    {
     "name": "stdout",
     "output_type": "stream",
     "text": [
      "Model for BK trained in 2.53 seconds\n",
      "**************************************************\n",
      "Training model for BLK\n"
     ]
    },
    {
     "name": "stderr",
     "output_type": "stream",
     "text": [
      "21:16:24 - cmdstanpy - INFO - Chain [1] start processing\n",
      "21:16:27 - cmdstanpy - INFO - Chain [1] done processing\n"
     ]
    },
    {
     "name": "stdout",
     "output_type": "stream",
     "text": [
      "Model for BLK trained in 3.22 seconds\n",
      "**************************************************\n",
      "Training model for BRK-B\n"
     ]
    },
    {
     "name": "stderr",
     "output_type": "stream",
     "text": [
      "21:16:27 - cmdstanpy - INFO - Chain [1] start processing\n",
      "21:16:30 - cmdstanpy - INFO - Chain [1] done processing\n"
     ]
    },
    {
     "name": "stdout",
     "output_type": "stream",
     "text": [
      "Model for BRK-B trained in 2.84 seconds\n",
      "**************************************************\n",
      "Training model for BRO\n"
     ]
    },
    {
     "name": "stderr",
     "output_type": "stream",
     "text": [
      "21:16:30 - cmdstanpy - INFO - Chain [1] start processing\n",
      "21:16:32 - cmdstanpy - INFO - Chain [1] done processing\n"
     ]
    },
    {
     "name": "stdout",
     "output_type": "stream",
     "text": [
      "Model for BRO trained in 2.46 seconds\n",
      "**************************************************\n",
      "Training model for BX\n"
     ]
    },
    {
     "name": "stderr",
     "output_type": "stream",
     "text": [
      "21:16:33 - cmdstanpy - INFO - Chain [1] start processing\n",
      "21:16:34 - cmdstanpy - INFO - Chain [1] done processing\n"
     ]
    },
    {
     "name": "stdout",
     "output_type": "stream",
     "text": [
      "Model for BX trained in 1.71 seconds\n",
      "**************************************************\n",
      "Training model for C\n"
     ]
    },
    {
     "name": "stderr",
     "output_type": "stream",
     "text": [
      "21:16:34 - cmdstanpy - INFO - Chain [1] start processing\n",
      "21:16:37 - cmdstanpy - INFO - Chain [1] done processing\n"
     ]
    },
    {
     "name": "stdout",
     "output_type": "stream",
     "text": [
      "Model for C trained in 3.11 seconds\n",
      "**************************************************\n",
      "Training model for CB\n"
     ]
    },
    {
     "name": "stderr",
     "output_type": "stream",
     "text": [
      "21:16:37 - cmdstanpy - INFO - Chain [1] start processing\n",
      "21:16:40 - cmdstanpy - INFO - Chain [1] done processing\n"
     ]
    },
    {
     "name": "stdout",
     "output_type": "stream",
     "text": [
      "Model for CB trained in 2.69 seconds\n",
      "**************************************************\n",
      "Training model for CBOE\n"
     ]
    },
    {
     "name": "stderr",
     "output_type": "stream",
     "text": [
      "21:16:40 - cmdstanpy - INFO - Chain [1] start processing\n",
      "21:16:42 - cmdstanpy - INFO - Chain [1] done processing\n"
     ]
    },
    {
     "name": "stdout",
     "output_type": "stream",
     "text": [
      "Model for CBOE trained in 2.02 seconds\n",
      "**************************************************\n",
      "Training model for CFG\n"
     ]
    },
    {
     "name": "stderr",
     "output_type": "stream",
     "text": [
      "21:16:42 - cmdstanpy - INFO - Chain [1] start processing\n",
      "21:16:45 - cmdstanpy - INFO - Chain [1] done processing\n"
     ]
    },
    {
     "name": "stdout",
     "output_type": "stream",
     "text": [
      "Model for CFG trained in 3.18 seconds\n",
      "**************************************************\n",
      "Training model for CINF\n"
     ]
    },
    {
     "name": "stderr",
     "output_type": "stream",
     "text": [
      "21:16:45 - cmdstanpy - INFO - Chain [1] start processing\n",
      "21:16:48 - cmdstanpy - INFO - Chain [1] done processing\n"
     ]
    },
    {
     "name": "stdout",
     "output_type": "stream",
     "text": [
      "Model for CINF trained in 3.11 seconds\n",
      "**************************************************\n",
      "Training model for CME\n"
     ]
    },
    {
     "name": "stderr",
     "output_type": "stream",
     "text": [
      "21:16:48 - cmdstanpy - INFO - Chain [1] start processing\n",
      "21:16:50 - cmdstanpy - INFO - Chain [1] done processing\n"
     ]
    },
    {
     "name": "stdout",
     "output_type": "stream",
     "text": [
      "Model for CME trained in 2.35 seconds\n",
      "**************************************************\n",
      "Training model for COF\n"
     ]
    },
    {
     "name": "stderr",
     "output_type": "stream",
     "text": [
      "21:16:51 - cmdstanpy - INFO - Chain [1] start processing\n",
      "21:16:54 - cmdstanpy - INFO - Chain [1] done processing\n"
     ]
    },
    {
     "name": "stdout",
     "output_type": "stream",
     "text": [
      "Model for COF trained in 3.20 seconds\n",
      "**************************************************\n",
      "Training model for CPAY\n"
     ]
    },
    {
     "name": "stderr",
     "output_type": "stream",
     "text": [
      "21:16:54 - cmdstanpy - INFO - Chain [1] start processing\n",
      "21:16:57 - cmdstanpy - INFO - Chain [1] done processing\n"
     ]
    },
    {
     "name": "stdout",
     "output_type": "stream",
     "text": [
      "Model for CPAY trained in 3.17 seconds\n",
      "**************************************************\n",
      "Training model for DFS\n"
     ]
    },
    {
     "name": "stderr",
     "output_type": "stream",
     "text": [
      "21:16:57 - cmdstanpy - INFO - Chain [1] start processing\n",
      "21:17:00 - cmdstanpy - INFO - Chain [1] done processing\n"
     ]
    },
    {
     "name": "stdout",
     "output_type": "stream",
     "text": [
      "Model for DFS trained in 3.06 seconds\n",
      "**************************************************\n",
      "Training model for EG\n"
     ]
    },
    {
     "name": "stderr",
     "output_type": "stream",
     "text": [
      "21:17:00 - cmdstanpy - INFO - Chain [1] start processing\n",
      "21:17:03 - cmdstanpy - INFO - Chain [1] done processing\n"
     ]
    },
    {
     "name": "stdout",
     "output_type": "stream",
     "text": [
      "Model for EG trained in 3.18 seconds\n",
      "**************************************************\n",
      "Training model for ERIE\n"
     ]
    },
    {
     "name": "stderr",
     "output_type": "stream",
     "text": [
      "21:17:03 - cmdstanpy - INFO - Chain [1] start processing\n",
      "21:17:05 - cmdstanpy - INFO - Chain [1] done processing\n"
     ]
    },
    {
     "name": "stdout",
     "output_type": "stream",
     "text": [
      "Model for ERIE trained in 1.58 seconds\n",
      "**************************************************\n",
      "Training model for FDS\n"
     ]
    },
    {
     "name": "stderr",
     "output_type": "stream",
     "text": [
      "21:17:05 - cmdstanpy - INFO - Chain [1] start processing\n",
      "21:17:08 - cmdstanpy - INFO - Chain [1] done processing\n"
     ]
    },
    {
     "name": "stdout",
     "output_type": "stream",
     "text": [
      "Model for FDS trained in 3.11 seconds\n",
      "**************************************************\n",
      "Training model for FI\n"
     ]
    },
    {
     "name": "stderr",
     "output_type": "stream",
     "text": [
      "21:17:08 - cmdstanpy - INFO - Chain [1] start processing\n",
      "21:17:10 - cmdstanpy - INFO - Chain [1] done processing\n"
     ]
    },
    {
     "name": "stdout",
     "output_type": "stream",
     "text": [
      "Model for FI trained in 1.91 seconds\n",
      "**************************************************\n",
      "Training model for FIS\n"
     ]
    },
    {
     "name": "stderr",
     "output_type": "stream",
     "text": [
      "21:17:10 - cmdstanpy - INFO - Chain [1] start processing\n",
      "21:17:12 - cmdstanpy - INFO - Chain [1] done processing\n"
     ]
    },
    {
     "name": "stdout",
     "output_type": "stream",
     "text": [
      "Model for FIS trained in 2.31 seconds\n",
      "**************************************************\n",
      "Training model for FITB\n"
     ]
    },
    {
     "name": "stderr",
     "output_type": "stream",
     "text": [
      "21:17:12 - cmdstanpy - INFO - Chain [1] start processing\n",
      "21:17:15 - cmdstanpy - INFO - Chain [1] done processing\n"
     ]
    },
    {
     "name": "stdout",
     "output_type": "stream",
     "text": [
      "Model for FITB trained in 3.36 seconds\n",
      "**************************************************\n",
      "Training model for GL\n"
     ]
    },
    {
     "name": "stderr",
     "output_type": "stream",
     "text": [
      "21:17:16 - cmdstanpy - INFO - Chain [1] start processing\n",
      "21:17:18 - cmdstanpy - INFO - Chain [1] done processing\n"
     ]
    },
    {
     "name": "stdout",
     "output_type": "stream",
     "text": [
      "Model for GL trained in 3.17 seconds\n",
      "**************************************************\n",
      "Training model for GPN\n"
     ]
    },
    {
     "name": "stderr",
     "output_type": "stream",
     "text": [
      "21:17:19 - cmdstanpy - INFO - Chain [1] start processing\n",
      "21:17:22 - cmdstanpy - INFO - Chain [1] done processing\n"
     ]
    },
    {
     "name": "stdout",
     "output_type": "stream",
     "text": [
      "Model for GPN trained in 3.31 seconds\n",
      "**************************************************\n",
      "Training model for GS\n"
     ]
    },
    {
     "name": "stderr",
     "output_type": "stream",
     "text": [
      "21:17:22 - cmdstanpy - INFO - Chain [1] start processing\n",
      "21:17:25 - cmdstanpy - INFO - Chain [1] done processing\n"
     ]
    },
    {
     "name": "stdout",
     "output_type": "stream",
     "text": [
      "Model for GS trained in 3.13 seconds\n",
      "**************************************************\n",
      "Training model for HBAN\n"
     ]
    },
    {
     "name": "stderr",
     "output_type": "stream",
     "text": [
      "21:17:25 - cmdstanpy - INFO - Chain [1] start processing\n",
      "21:17:28 - cmdstanpy - INFO - Chain [1] done processing\n"
     ]
    },
    {
     "name": "stdout",
     "output_type": "stream",
     "text": [
      "Model for HBAN trained in 2.81 seconds\n",
      "**************************************************\n",
      "Training model for HIG\n"
     ]
    },
    {
     "name": "stderr",
     "output_type": "stream",
     "text": [
      "21:17:28 - cmdstanpy - INFO - Chain [1] start processing\n",
      "21:17:29 - cmdstanpy - INFO - Chain [1] done processing\n"
     ]
    },
    {
     "name": "stdout",
     "output_type": "stream",
     "text": [
      "Model for HIG trained in 1.59 seconds\n",
      "**************************************************\n",
      "Training model for ICE\n"
     ]
    },
    {
     "name": "stderr",
     "output_type": "stream",
     "text": [
      "21:17:30 - cmdstanpy - INFO - Chain [1] start processing\n",
      "21:17:32 - cmdstanpy - INFO - Chain [1] done processing\n"
     ]
    },
    {
     "name": "stdout",
     "output_type": "stream",
     "text": [
      "Model for ICE trained in 2.40 seconds\n",
      "**************************************************\n",
      "Training model for IVZ\n"
     ]
    },
    {
     "name": "stderr",
     "output_type": "stream",
     "text": [
      "21:17:32 - cmdstanpy - INFO - Chain [1] start processing\n",
      "21:17:34 - cmdstanpy - INFO - Chain [1] done processing\n"
     ]
    },
    {
     "name": "stdout",
     "output_type": "stream",
     "text": [
      "Model for IVZ trained in 2.41 seconds\n",
      "**************************************************\n",
      "Training model for JKHY\n"
     ]
    },
    {
     "name": "stderr",
     "output_type": "stream",
     "text": [
      "21:17:34 - cmdstanpy - INFO - Chain [1] start processing\n",
      "21:17:37 - cmdstanpy - INFO - Chain [1] done processing\n"
     ]
    },
    {
     "name": "stdout",
     "output_type": "stream",
     "text": [
      "Model for JKHY trained in 3.16 seconds\n",
      "**************************************************\n",
      "Training model for JPM\n"
     ]
    },
    {
     "name": "stderr",
     "output_type": "stream",
     "text": [
      "21:17:38 - cmdstanpy - INFO - Chain [1] start processing\n",
      "21:17:40 - cmdstanpy - INFO - Chain [1] done processing\n"
     ]
    },
    {
     "name": "stdout",
     "output_type": "stream",
     "text": [
      "Model for JPM trained in 3.05 seconds\n",
      "**************************************************\n",
      "Training model for KEY\n"
     ]
    },
    {
     "name": "stderr",
     "output_type": "stream",
     "text": [
      "21:17:41 - cmdstanpy - INFO - Chain [1] start processing\n",
      "21:17:43 - cmdstanpy - INFO - Chain [1] done processing\n"
     ]
    },
    {
     "name": "stdout",
     "output_type": "stream",
     "text": [
      "Model for KEY trained in 2.86 seconds\n",
      "**************************************************\n",
      "Training model for KKR\n"
     ]
    },
    {
     "name": "stderr",
     "output_type": "stream",
     "text": [
      "21:17:43 - cmdstanpy - INFO - Chain [1] start processing\n",
      "21:17:46 - cmdstanpy - INFO - Chain [1] done processing\n"
     ]
    },
    {
     "name": "stdout",
     "output_type": "stream",
     "text": [
      "Model for KKR trained in 2.45 seconds\n",
      "**************************************************\n",
      "Training model for L\n"
     ]
    },
    {
     "name": "stderr",
     "output_type": "stream",
     "text": [
      "21:17:46 - cmdstanpy - INFO - Chain [1] start processing\n",
      "21:17:49 - cmdstanpy - INFO - Chain [1] done processing\n"
     ]
    },
    {
     "name": "stdout",
     "output_type": "stream",
     "text": [
      "Model for L trained in 3.12 seconds\n",
      "**************************************************\n",
      "Training model for MA\n"
     ]
    },
    {
     "name": "stderr",
     "output_type": "stream",
     "text": [
      "21:17:49 - cmdstanpy - INFO - Chain [1] start processing\n",
      "21:17:51 - cmdstanpy - INFO - Chain [1] done processing\n"
     ]
    },
    {
     "name": "stdout",
     "output_type": "stream",
     "text": [
      "Model for MA trained in 2.60 seconds\n",
      "**************************************************\n",
      "Training model for MCO\n"
     ]
    },
    {
     "name": "stderr",
     "output_type": "stream",
     "text": [
      "21:17:52 - cmdstanpy - INFO - Chain [1] start processing\n",
      "21:17:54 - cmdstanpy - INFO - Chain [1] done processing\n"
     ]
    },
    {
     "name": "stdout",
     "output_type": "stream",
     "text": [
      "Model for MCO trained in 2.63 seconds\n",
      "**************************************************\n",
      "Training model for MET\n"
     ]
    },
    {
     "name": "stderr",
     "output_type": "stream",
     "text": [
      "21:17:54 - cmdstanpy - INFO - Chain [1] start processing\n",
      "21:17:55 - cmdstanpy - INFO - Chain [1] done processing\n"
     ]
    },
    {
     "name": "stdout",
     "output_type": "stream",
     "text": [
      "Model for MET trained in 1.10 seconds\n",
      "**************************************************\n",
      "Training model for MKTX\n"
     ]
    },
    {
     "name": "stderr",
     "output_type": "stream",
     "text": [
      "21:17:55 - cmdstanpy - INFO - Chain [1] start processing\n",
      "21:17:58 - cmdstanpy - INFO - Chain [1] done processing\n"
     ]
    },
    {
     "name": "stdout",
     "output_type": "stream",
     "text": [
      "Model for MKTX trained in 3.27 seconds\n",
      "**************************************************\n",
      "Training model for MMC\n"
     ]
    },
    {
     "name": "stderr",
     "output_type": "stream",
     "text": [
      "21:17:59 - cmdstanpy - INFO - Chain [1] start processing\n",
      "21:18:01 - cmdstanpy - INFO - Chain [1] done processing\n"
     ]
    },
    {
     "name": "stdout",
     "output_type": "stream",
     "text": [
      "Model for MMC trained in 2.75 seconds\n",
      "**************************************************\n",
      "Training model for MS\n"
     ]
    },
    {
     "name": "stderr",
     "output_type": "stream",
     "text": [
      "21:18:01 - cmdstanpy - INFO - Chain [1] start processing\n",
      "21:18:04 - cmdstanpy - INFO - Chain [1] done processing\n"
     ]
    },
    {
     "name": "stdout",
     "output_type": "stream",
     "text": [
      "Model for MS trained in 3.02 seconds\n",
      "**************************************************\n",
      "Training model for MSCI\n"
     ]
    },
    {
     "name": "stderr",
     "output_type": "stream",
     "text": [
      "21:18:04 - cmdstanpy - INFO - Chain [1] start processing\n",
      "21:18:07 - cmdstanpy - INFO - Chain [1] done processing\n"
     ]
    },
    {
     "name": "stdout",
     "output_type": "stream",
     "text": [
      "Model for MSCI trained in 3.09 seconds\n",
      "**************************************************\n",
      "Training model for MTB\n"
     ]
    },
    {
     "name": "stderr",
     "output_type": "stream",
     "text": [
      "21:18:08 - cmdstanpy - INFO - Chain [1] start processing\n",
      "21:18:10 - cmdstanpy - INFO - Chain [1] done processing\n"
     ]
    },
    {
     "name": "stdout",
     "output_type": "stream",
     "text": [
      "Model for MTB trained in 3.23 seconds\n",
      "**************************************************\n",
      "Training model for NDAQ\n"
     ]
    },
    {
     "name": "stderr",
     "output_type": "stream",
     "text": [
      "21:18:11 - cmdstanpy - INFO - Chain [1] start processing\n",
      "21:18:13 - cmdstanpy - INFO - Chain [1] done processing\n"
     ]
    },
    {
     "name": "stdout",
     "output_type": "stream",
     "text": [
      "Model for NDAQ trained in 2.94 seconds\n",
      "**************************************************\n",
      "Training model for NTRS\n"
     ]
    },
    {
     "name": "stderr",
     "output_type": "stream",
     "text": [
      "21:18:14 - cmdstanpy - INFO - Chain [1] start processing\n",
      "21:18:16 - cmdstanpy - INFO - Chain [1] done processing\n"
     ]
    },
    {
     "name": "stdout",
     "output_type": "stream",
     "text": [
      "Model for NTRS trained in 2.89 seconds\n",
      "**************************************************\n",
      "Training model for PFG\n"
     ]
    },
    {
     "name": "stderr",
     "output_type": "stream",
     "text": [
      "21:18:17 - cmdstanpy - INFO - Chain [1] start processing\n",
      "21:18:19 - cmdstanpy - INFO - Chain [1] done processing\n"
     ]
    },
    {
     "name": "stdout",
     "output_type": "stream",
     "text": [
      "Model for PFG trained in 3.21 seconds\n",
      "**************************************************\n",
      "Training model for PGR\n"
     ]
    },
    {
     "name": "stderr",
     "output_type": "stream",
     "text": [
      "21:18:20 - cmdstanpy - INFO - Chain [1] start processing\n",
      "21:18:22 - cmdstanpy - INFO - Chain [1] done processing\n"
     ]
    },
    {
     "name": "stdout",
     "output_type": "stream",
     "text": [
      "Model for PGR trained in 2.26 seconds\n",
      "**************************************************\n",
      "Training model for PNC\n"
     ]
    },
    {
     "name": "stderr",
     "output_type": "stream",
     "text": [
      "21:18:22 - cmdstanpy - INFO - Chain [1] start processing\n",
      "21:18:25 - cmdstanpy - INFO - Chain [1] done processing\n"
     ]
    },
    {
     "name": "stdout",
     "output_type": "stream",
     "text": [
      "Model for PNC trained in 3.02 seconds\n",
      "**************************************************\n",
      "Training model for PRU\n"
     ]
    },
    {
     "name": "stderr",
     "output_type": "stream",
     "text": [
      "21:18:25 - cmdstanpy - INFO - Chain [1] start processing\n",
      "21:18:28 - cmdstanpy - INFO - Chain [1] done processing\n"
     ]
    },
    {
     "name": "stdout",
     "output_type": "stream",
     "text": [
      "Model for PRU trained in 3.42 seconds\n",
      "**************************************************\n",
      "Training model for PYPL\n"
     ]
    },
    {
     "name": "stderr",
     "output_type": "stream",
     "text": [
      "21:18:28 - cmdstanpy - INFO - Chain [1] start processing\n",
      "21:18:31 - cmdstanpy - INFO - Chain [1] done processing\n"
     ]
    },
    {
     "name": "stdout",
     "output_type": "stream",
     "text": [
      "Model for PYPL trained in 2.93 seconds\n",
      "**************************************************\n",
      "Training model for RF\n"
     ]
    },
    {
     "name": "stderr",
     "output_type": "stream",
     "text": [
      "21:18:31 - cmdstanpy - INFO - Chain [1] start processing\n",
      "21:18:33 - cmdstanpy - INFO - Chain [1] done processing\n"
     ]
    },
    {
     "name": "stdout",
     "output_type": "stream",
     "text": [
      "Model for RF trained in 1.66 seconds\n",
      "**************************************************\n",
      "Training model for RJF\n"
     ]
    },
    {
     "name": "stderr",
     "output_type": "stream",
     "text": [
      "21:18:33 - cmdstanpy - INFO - Chain [1] start processing\n",
      "21:18:35 - cmdstanpy - INFO - Chain [1] done processing\n"
     ]
    },
    {
     "name": "stdout",
     "output_type": "stream",
     "text": [
      "Model for RJF trained in 2.24 seconds\n",
      "**************************************************\n",
      "Training model for SCHW\n"
     ]
    },
    {
     "name": "stderr",
     "output_type": "stream",
     "text": [
      "21:18:35 - cmdstanpy - INFO - Chain [1] start processing\n",
      "21:18:38 - cmdstanpy - INFO - Chain [1] done processing\n"
     ]
    },
    {
     "name": "stdout",
     "output_type": "stream",
     "text": [
      "Model for SCHW trained in 2.72 seconds\n",
      "**************************************************\n",
      "Training model for SPGI\n"
     ]
    },
    {
     "name": "stderr",
     "output_type": "stream",
     "text": [
      "21:18:38 - cmdstanpy - INFO - Chain [1] start processing\n",
      "21:18:40 - cmdstanpy - INFO - Chain [1] done processing\n"
     ]
    },
    {
     "name": "stdout",
     "output_type": "stream",
     "text": [
      "Model for SPGI trained in 2.46 seconds\n",
      "**************************************************\n",
      "Training model for STT\n"
     ]
    },
    {
     "name": "stderr",
     "output_type": "stream",
     "text": [
      "21:18:41 - cmdstanpy - INFO - Chain [1] start processing\n",
      "21:18:43 - cmdstanpy - INFO - Chain [1] done processing\n"
     ]
    },
    {
     "name": "stdout",
     "output_type": "stream",
     "text": [
      "Model for STT trained in 3.01 seconds\n",
      "**************************************************\n",
      "Training model for SYF\n"
     ]
    },
    {
     "name": "stderr",
     "output_type": "stream",
     "text": [
      "21:18:44 - cmdstanpy - INFO - Chain [1] start processing\n",
      "21:18:46 - cmdstanpy - INFO - Chain [1] done processing\n"
     ]
    },
    {
     "name": "stdout",
     "output_type": "stream",
     "text": [
      "Model for SYF trained in 2.90 seconds\n",
      "**************************************************\n",
      "Training model for TFC\n"
     ]
    },
    {
     "name": "stderr",
     "output_type": "stream",
     "text": [
      "21:18:46 - cmdstanpy - INFO - Chain [1] start processing\n",
      "21:18:49 - cmdstanpy - INFO - Chain [1] done processing\n"
     ]
    },
    {
     "name": "stdout",
     "output_type": "stream",
     "text": [
      "Model for TFC trained in 3.39 seconds\n",
      "**************************************************\n",
      "Training model for TROW\n"
     ]
    },
    {
     "name": "stderr",
     "output_type": "stream",
     "text": [
      "21:18:50 - cmdstanpy - INFO - Chain [1] start processing\n",
      "21:18:52 - cmdstanpy - INFO - Chain [1] done processing\n"
     ]
    },
    {
     "name": "stdout",
     "output_type": "stream",
     "text": [
      "Model for TROW trained in 2.75 seconds\n",
      "**************************************************\n",
      "Training model for TRV\n"
     ]
    },
    {
     "name": "stderr",
     "output_type": "stream",
     "text": [
      "21:18:53 - cmdstanpy - INFO - Chain [1] start processing\n",
      "21:18:55 - cmdstanpy - INFO - Chain [1] done processing\n"
     ]
    },
    {
     "name": "stdout",
     "output_type": "stream",
     "text": [
      "Model for TRV trained in 2.42 seconds\n",
      "**************************************************\n",
      "Training model for USB\n"
     ]
    },
    {
     "name": "stderr",
     "output_type": "stream",
     "text": [
      "21:18:55 - cmdstanpy - INFO - Chain [1] start processing\n",
      "21:18:58 - cmdstanpy - INFO - Chain [1] done processing\n"
     ]
    },
    {
     "name": "stdout",
     "output_type": "stream",
     "text": [
      "Model for USB trained in 3.26 seconds\n",
      "**************************************************\n",
      "Training model for V\n"
     ]
    },
    {
     "name": "stderr",
     "output_type": "stream",
     "text": [
      "21:18:58 - cmdstanpy - INFO - Chain [1] start processing\n",
      "21:19:01 - cmdstanpy - INFO - Chain [1] done processing\n"
     ]
    },
    {
     "name": "stdout",
     "output_type": "stream",
     "text": [
      "Model for V trained in 3.33 seconds\n",
      "**************************************************\n",
      "Training model for WFC\n"
     ]
    },
    {
     "name": "stderr",
     "output_type": "stream",
     "text": [
      "21:19:02 - cmdstanpy - INFO - Chain [1] start processing\n",
      "21:19:04 - cmdstanpy - INFO - Chain [1] done processing\n"
     ]
    },
    {
     "name": "stdout",
     "output_type": "stream",
     "text": [
      "Model for WFC trained in 3.13 seconds\n",
      "**************************************************\n",
      "Training model for WRB\n"
     ]
    },
    {
     "name": "stderr",
     "output_type": "stream",
     "text": [
      "21:19:05 - cmdstanpy - INFO - Chain [1] start processing\n",
      "21:19:06 - cmdstanpy - INFO - Chain [1] done processing\n"
     ]
    },
    {
     "name": "stdout",
     "output_type": "stream",
     "text": [
      "Model for WRB trained in 2.09 seconds\n",
      "**************************************************\n",
      "Training model for WTW\n"
     ]
    },
    {
     "name": "stderr",
     "output_type": "stream",
     "text": [
      "21:19:07 - cmdstanpy - INFO - Chain [1] start processing\n",
      "21:19:10 - cmdstanpy - INFO - Chain [1] done processing\n"
     ]
    },
    {
     "name": "stdout",
     "output_type": "stream",
     "text": [
      "Model for WTW trained in 3.20 seconds\n",
      "**************************************************\n"
     ]
    }
   ],
   "source": [
    "models_prophet = {}\n",
    "\n",
    "for ticker in data.keys():\n",
    "    print(f\"Training model for {ticker}\")\n",
    "    start = time.time()\n",
    "    model = Prophet(\n",
    "        add_encoders={\n",
    "            'datetime_attribute': {\n",
    "                'future': ['month', 'day', 'dayofweek', 'dayofyear', 'quarter', 'year']  # automatically generate future covariates from time series\n",
    "            }\n",
    "        },\n",
    "        seasonality_mode='multiplicative',\n",
    "    )\n",
    "\n",
    "    model.fit(\n",
    "        train[ticker]['close']\n",
    "    )\n",
    "\n",
    "    end = time.time()\n",
    "    print(f\"Model for {ticker} trained in {end - start:.2f} seconds\")\n",
    "    print(\"*\" * 50)\n",
    "\n",
    "    models_prophet[ticker] = model"
   ]
  },
  {
   "cell_type": "code",
   "execution_count": 14,
   "id": "2ff81861",
   "metadata": {},
   "outputs": [
    {
     "name": "stdout",
     "output_type": "stream",
     "text": [
      "Ticker: ACGL, MAPE: 15.04, MAE: 14.68\n",
      "**************************************************\n",
      "Ticker: AFL, MAPE: 11.96, MAE: 12.46\n",
      "**************************************************\n",
      "Ticker: AIG, MAPE: 5.99, MAE: 4.55\n",
      "**************************************************\n",
      "Ticker: AIZ, MAPE: 11.32, MAE: 23.10\n",
      "**************************************************\n",
      "Ticker: AJG, MAPE: 6.90, MAE: 21.35\n",
      "**************************************************\n",
      "Ticker: ALL, MAPE: 22.15, MAE: 41.01\n",
      "**************************************************\n",
      "Ticker: AMP, MAPE: 11.69, MAE: 58.34\n",
      "**************************************************\n",
      "Ticker: AON, MAPE: 26.41, MAE: 97.52\n",
      "**************************************************\n",
      "Ticker: APO, MAPE: 10.73, MAE: 15.62\n",
      "**************************************************\n",
      "Ticker: AXP, MAPE: 23.32, MAE: 63.99\n",
      "**************************************************\n",
      "Ticker: BAC, MAPE: 28.48, MAE: 11.90\n",
      "**************************************************\n",
      "Ticker: BEN, MAPE: 7.54, MAE: 1.51\n",
      "**************************************************\n",
      "Ticker: BK, MAPE: 28.04, MAE: 20.77\n",
      "**************************************************\n",
      "Ticker: BLK, MAPE: 14.93, MAE: 141.58\n",
      "**************************************************\n",
      "Ticker: BRK-B, MAPE: 4.66, MAE: 22.34\n",
      "**************************************************\n",
      "Ticker: BRO, MAPE: 13.43, MAE: 14.38\n",
      "**************************************************\n",
      "Ticker: BX, MAPE: 11.67, MAE: 19.07\n",
      "**************************************************\n",
      "Ticker: C, MAPE: 24.51, MAE: 16.54\n",
      "**************************************************\n",
      "Ticker: CB, MAPE: 12.37, MAE: 34.23\n",
      "**************************************************\n",
      "Ticker: CBOE, MAPE: 7.24, MAE: 14.20\n",
      "**************************************************\n",
      "Ticker: CFG, MAPE: 42.71, MAE: 17.33\n",
      "**************************************************\n",
      "Ticker: CINF, MAPE: 20.35, MAE: 28.00\n",
      "**************************************************\n",
      "Ticker: CME, MAPE: 6.64, MAE: 14.87\n",
      "**************************************************\n",
      "Ticker: COF, MAPE: 17.24, MAE: 29.84\n",
      "**************************************************\n",
      "Ticker: CPAY, MAPE: 10.48, MAE: 33.21\n",
      "**************************************************\n",
      "Ticker: DFS, MAPE: 30.16, MAE: 49.17\n",
      "**************************************************\n",
      "Ticker: EG, MAPE: 20.22, MAE: 73.88\n",
      "**************************************************\n",
      "Ticker: ERIE, MAPE: 12.84, MAE: 56.85\n",
      "**************************************************\n",
      "Ticker: FDS, MAPE: 4.83, MAE: 20.57\n",
      "**************************************************\n",
      "Ticker: FI, MAPE: 15.26, MAE: 31.33\n",
      "**************************************************\n",
      "Ticker: FIS, MAPE: 41.33, MAE: 32.60\n",
      "**************************************************\n",
      "Ticker: FITB, MAPE: 33.30, MAE: 13.55\n",
      "**************************************************\n",
      "Ticker: GL, MAPE: 22.50, MAE: 25.85\n",
      "**************************************************\n",
      "Ticker: GPN, MAPE: 23.65, MAE: 22.77\n",
      "**************************************************\n",
      "Ticker: GS, MAPE: 29.17, MAE: 156.65\n",
      "**************************************************\n",
      "Ticker: HBAN, MAPE: 32.01, MAE: 4.79\n",
      "**************************************************\n",
      "Ticker: HIG, MAPE: 18.74, MAE: 20.95\n",
      "**************************************************\n",
      "Ticker: ICE, MAPE: 10.33, MAE: 16.34\n",
      "**************************************************\n",
      "Ticker: IVZ, MAPE: 24.68, MAE: 4.11\n",
      "**************************************************\n",
      "Ticker: JKHY, MAPE: 16.20, MAE: 28.12\n",
      "**************************************************\n",
      "Ticker: JPM, MAPE: 12.56, MAE: 28.88\n",
      "**************************************************\n",
      "Ticker: KEY, MAPE: 46.13, MAE: 7.40\n",
      "**************************************************\n",
      "Ticker: KKR, MAPE: 21.71, MAE: 28.88\n",
      "**************************************************\n",
      "Ticker: L, MAPE: 3.74, MAE: 3.08\n",
      "**************************************************\n",
      "Ticker: MA, MAPE: 4.58, MAE: 22.66\n",
      "**************************************************\n",
      "Ticker: MCO, MAPE: 9.13, MAE: 42.94\n",
      "**************************************************\n",
      "Ticker: MET, MAPE: 21.23, MAE: 16.61\n",
      "**************************************************\n",
      "Ticker: MKTX, MAPE: 105.26, MAE: 242.93\n",
      "**************************************************\n",
      "Ticker: MMC, MAPE: 2.41, MAE: 5.34\n",
      "**************************************************\n",
      "Ticker: MS, MAPE: 30.65, MAE: 35.52\n",
      "**************************************************\n",
      "Ticker: MSCI, MAPE: 15.06, MAE: 86.11\n",
      "**************************************************\n",
      "Ticker: MTB, MAPE: 38.93, MAE: 69.75\n",
      "**************************************************\n",
      "Ticker: NDAQ, MAPE: 29.53, MAE: 21.63\n",
      "**************************************************\n",
      "Ticker: NTRS, MAPE: 31.71, MAE: 30.65\n",
      "**************************************************\n",
      "Ticker: PFG, MAPE: 16.12, MAE: 13.11\n",
      "**************************************************\n",
      "Ticker: PGR, MAPE: 21.40, MAE: 51.99\n",
      "**************************************************\n",
      "Ticker: PNC, MAPE: 32.01, MAE: 57.11\n",
      "**************************************************\n",
      "Ticker: PRU, MAPE: 12.44, MAE: 14.53\n",
      "**************************************************\n",
      "Ticker: PYPL, MAPE: 31.41, MAE: 24.28\n",
      "**************************************************\n",
      "Ticker: RF, MAPE: 28.92, MAE: 6.49\n",
      "**************************************************\n",
      "Ticker: RJF, MAPE: 17.45, MAE: 25.29\n",
      "**************************************************\n",
      "Ticker: SCHW, MAPE: 28.00, MAE: 20.75\n",
      "**************************************************\n",
      "Ticker: SPGI, MAPE: 6.91, MAE: 34.89\n",
      "**************************************************\n",
      "Ticker: STT, MAPE: 35.02, MAE: 30.79\n",
      "**************************************************\n",
      "Ticker: SYF, MAPE: 28.89, MAE: 16.39\n",
      "**************************************************\n",
      "Ticker: TFC, MAPE: 42.86, MAE: 17.90\n",
      "**************************************************\n",
      "Ticker: TROW, MAPE: 9.66, MAE: 10.34\n",
      "**************************************************\n",
      "Ticker: TRV, MAPE: 16.38, MAE: 39.19\n",
      "**************************************************\n",
      "Ticker: USB, MAPE: 26.43, MAE: 11.76\n",
      "**************************************************\n",
      "Ticker: V, MAPE: 4.91, MAE: 14.88\n",
      "**************************************************\n",
      "Ticker: WFC, MAPE: 21.63, MAE: 14.55\n",
      "**************************************************\n",
      "Ticker: WRB, MAPE: 17.94, MAE: 10.65\n",
      "**************************************************\n",
      "Ticker: WTW, MAPE: 18.51, MAE: 55.73\n",
      "**************************************************\n"
     ]
    }
   ],
   "source": [
    "mapes_prophet = {}\n",
    "maes_prophet = {}\n",
    "\n",
    "for ticker in data.keys():\n",
    "    y_test = test[ticker]['close']\n",
    "    y_pred = models_prophet[ticker].predict(\n",
    "        n=len(y_test),\n",
    "        show_warnings=False\n",
    "    )\n",
    "    mape_ = mape(y_test, y_pred)\n",
    "    mae_ = mae(y_test, y_pred)\n",
    "    mapes_prophet[ticker] = mape_\n",
    "    maes_prophet[ticker] = mae_\n",
    "    print(f\"Ticker: {ticker}, MAPE: {mape_:.2f}, MAE: {mae_:.2f}\")\n",
    "    print(\"*\" * 50)"
   ]
  },
  {
   "cell_type": "code",
   "execution_count": 15,
   "id": "1f4600c3",
   "metadata": {},
   "outputs": [
    {
     "data": {
      "text/plain": [
       "(20.8301610519168, 33.46482449457745)"
      ]
     },
     "execution_count": 15,
     "metadata": {},
     "output_type": "execute_result"
    }
   ],
   "source": [
    "np.mean(list(mapes_prophet.values())), np.mean(list(maes_prophet.values()))"
   ]
  },
  {
   "cell_type": "markdown",
   "id": "5e177a24",
   "metadata": {},
   "source": [
    "## Theta model"
   ]
  },
  {
   "cell_type": "code",
   "execution_count": 16,
   "id": "92b8127c",
   "metadata": {},
   "outputs": [
    {
     "name": "stdout",
     "output_type": "stream",
     "text": [
      "Training model for ACGL\n",
      "Model for ACGL trained in 1.23 seconds\n",
      "**************************************************\n",
      "Training model for AFL\n",
      "Model for AFL trained in 0.98 seconds\n",
      "**************************************************\n",
      "Training model for AIG\n",
      "Model for AIG trained in 0.61 seconds\n",
      "**************************************************\n",
      "Training model for AIZ\n",
      "Model for AIZ trained in 1.18 seconds\n",
      "**************************************************\n",
      "Training model for AJG\n",
      "Model for AJG trained in 2.15 seconds\n",
      "**************************************************\n",
      "Training model for ALL\n",
      "Model for ALL trained in 1.06 seconds\n",
      "**************************************************\n",
      "Training model for AMP\n",
      "Model for AMP trained in 1.34 seconds\n",
      "**************************************************\n",
      "Training model for AON\n",
      "Model for AON trained in 0.70 seconds\n",
      "**************************************************\n",
      "Training model for APO\n",
      "Model for APO trained in 1.19 seconds\n",
      "**************************************************\n",
      "Training model for AXP\n",
      "Model for AXP trained in 0.94 seconds\n",
      "**************************************************\n",
      "Training model for BAC\n",
      "Model for BAC trained in 0.68 seconds\n",
      "**************************************************\n",
      "Training model for BEN\n",
      "Model for BEN trained in 0.61 seconds\n",
      "**************************************************\n",
      "Training model for BK\n",
      "Model for BK trained in 0.84 seconds\n",
      "**************************************************\n",
      "Training model for BLK\n",
      "Model for BLK trained in 0.69 seconds\n",
      "**************************************************\n",
      "Training model for BRK-B\n",
      "Model for BRK-B trained in 1.02 seconds\n",
      "**************************************************\n",
      "Training model for BRO\n",
      "Model for BRO trained in 1.61 seconds\n",
      "**************************************************\n",
      "Training model for BX\n",
      "Model for BX trained in 0.74 seconds\n",
      "**************************************************\n",
      "Training model for C\n",
      "Model for C trained in 0.79 seconds\n",
      "**************************************************\n",
      "Training model for CB\n",
      "Model for CB trained in 1.14 seconds\n",
      "**************************************************\n",
      "Training model for CBOE\n",
      "Model for CBOE trained in 1.75 seconds\n",
      "**************************************************\n",
      "Training model for CFG\n",
      "Model for CFG trained in 0.77 seconds\n",
      "**************************************************\n",
      "Training model for CINF\n",
      "Model for CINF trained in 1.29 seconds\n",
      "**************************************************\n",
      "Training model for CME\n",
      "Model for CME trained in 1.37 seconds\n",
      "**************************************************\n",
      "Training model for COF\n",
      "Model for COF trained in 0.84 seconds\n",
      "**************************************************\n",
      "Training model for CPAY\n",
      "Model for CPAY trained in 0.87 seconds\n",
      "**************************************************\n",
      "Training model for DFS\n",
      "Model for DFS trained in 0.74 seconds\n",
      "**************************************************\n",
      "Training model for EG\n",
      "Model for EG trained in 1.24 seconds\n",
      "**************************************************\n",
      "Training model for ERIE\n",
      "Model for ERIE trained in 1.49 seconds\n",
      "**************************************************\n",
      "Training model for FDS\n",
      "Model for FDS trained in 1.43 seconds\n",
      "**************************************************\n",
      "Training model for FI\n",
      "Model for FI trained in 1.38 seconds\n",
      "**************************************************\n",
      "Training model for FIS\n",
      "Model for FIS trained in 1.40 seconds\n",
      "**************************************************\n",
      "Training model for FITB\n",
      "Model for FITB trained in 0.79 seconds\n",
      "**************************************************\n",
      "Training model for GL\n",
      "Model for GL trained in 1.45 seconds\n",
      "**************************************************\n",
      "Training model for GPN\n",
      "Model for GPN trained in 1.33 seconds\n",
      "**************************************************\n",
      "Training model for GS\n",
      "Model for GS trained in 0.86 seconds\n",
      "**************************************************\n",
      "Training model for HBAN\n",
      "Model for HBAN trained in 0.62 seconds\n",
      "**************************************************\n",
      "Training model for HIG\n",
      "Model for HIG trained in 1.03 seconds\n",
      "**************************************************\n",
      "Training model for ICE\n",
      "Model for ICE trained in 0.91 seconds\n",
      "**************************************************\n",
      "Training model for IVZ\n",
      "Model for IVZ trained in 0.65 seconds\n",
      "**************************************************\n",
      "Training model for JKHY\n",
      "Model for JKHY trained in 0.76 seconds\n",
      "**************************************************\n",
      "Training model for JPM\n",
      "Model for JPM trained in 1.07 seconds\n",
      "**************************************************\n",
      "Training model for KEY\n",
      "Model for KEY trained in 0.71 seconds\n",
      "**************************************************\n",
      "Training model for KKR\n",
      "Model for KKR trained in 1.09 seconds\n",
      "**************************************************\n",
      "Training model for L\n",
      "Model for L trained in 1.12 seconds\n",
      "**************************************************\n",
      "Training model for MA\n",
      "Model for MA trained in 1.00 seconds\n",
      "**************************************************\n",
      "Training model for MCO\n",
      "Model for MCO trained in 1.64 seconds\n",
      "**************************************************\n",
      "Training model for MET\n",
      "Model for MET trained in 0.58 seconds\n",
      "**************************************************\n",
      "Training model for MKTX\n",
      "Model for MKTX trained in 0.71 seconds\n",
      "**************************************************\n",
      "Training model for MMC\n",
      "Model for MMC trained in 2.26 seconds\n",
      "**************************************************\n",
      "Training model for MS\n",
      "Model for MS trained in 0.70 seconds\n",
      "**************************************************\n",
      "Training model for MSCI\n",
      "Model for MSCI trained in 1.38 seconds\n",
      "**************************************************\n",
      "Training model for MTB\n",
      "Model for MTB trained in 0.79 seconds\n",
      "**************************************************\n",
      "Training model for NDAQ\n",
      "Model for NDAQ trained in 0.81 seconds\n",
      "**************************************************\n",
      "Training model for NTRS\n",
      "Model for NTRS trained in 0.72 seconds\n",
      "**************************************************\n",
      "Training model for PFG\n",
      "Model for PFG trained in 0.72 seconds\n",
      "**************************************************\n",
      "Training model for PGR\n",
      "Model for PGR trained in 2.14 seconds\n",
      "**************************************************\n",
      "Training model for PNC\n",
      "Model for PNC trained in 0.81 seconds\n",
      "**************************************************\n",
      "Training model for PRU\n",
      "Model for PRU trained in 0.73 seconds\n",
      "**************************************************\n",
      "Training model for PYPL\n",
      "Model for PYPL trained in 0.68 seconds\n",
      "**************************************************\n",
      "Training model for RF\n",
      "Model for RF trained in 0.69 seconds\n",
      "**************************************************\n",
      "Training model for RJF\n",
      "Model for RJF trained in 0.80 seconds\n",
      "**************************************************\n",
      "Training model for SCHW\n",
      "Model for SCHW trained in 0.75 seconds\n",
      "**************************************************\n",
      "Training model for SPGI\n",
      "Model for SPGI trained in 1.41 seconds\n",
      "**************************************************\n",
      "Training model for STT\n",
      "Model for STT trained in 0.72 seconds\n",
      "**************************************************\n",
      "Training model for SYF\n",
      "Model for SYF trained in 0.63 seconds\n",
      "**************************************************\n",
      "Training model for TFC\n",
      "Model for TFC trained in 0.68 seconds\n",
      "**************************************************\n",
      "Training model for TROW\n",
      "Model for TROW trained in 1.31 seconds\n",
      "**************************************************\n",
      "Training model for TRV\n",
      "Model for TRV trained in 1.34 seconds\n",
      "**************************************************\n",
      "Training model for USB\n",
      "Model for USB trained in 0.67 seconds\n",
      "**************************************************\n",
      "Training model for V\n",
      "Model for V trained in 1.38 seconds\n",
      "**************************************************\n",
      "Training model for WFC\n",
      "Model for WFC trained in 0.69 seconds\n",
      "**************************************************\n",
      "Training model for WRB\n",
      "Model for WRB trained in 1.08 seconds\n",
      "**************************************************\n",
      "Training model for WTW\n",
      "Model for WTW trained in 1.10 seconds\n",
      "**************************************************\n"
     ]
    }
   ],
   "source": [
    "models_theta = {}\n",
    "\n",
    "for ticker in data.keys():\n",
    "    print(f\"Training model for {ticker}\")\n",
    "    start = time.time()\n",
    "    model = AutoTheta(\n",
    "        season_length=30\n",
    "    )\n",
    "\n",
    "    model.fit(\n",
    "        series=train[ticker]['close']\n",
    "    )\n",
    "\n",
    "    end = time.time()\n",
    "    print(f\"Model for {ticker} trained in {end - start:.2f} seconds\")\n",
    "    print(\"*\" * 50)\n",
    "\n",
    "    models_theta[ticker] = model"
   ]
  },
  {
   "cell_type": "code",
   "execution_count": 17,
   "id": "d466fb13",
   "metadata": {},
   "outputs": [
    {
     "name": "stdout",
     "output_type": "stream",
     "text": [
      "Ticker: ACGL, MAPE: 5.13, MAE: 5.09\n",
      "**************************************************\n",
      "Ticker: AFL, MAPE: 15.98, MAE: 16.88\n",
      "**************************************************\n",
      "Ticker: AIG, MAPE: 4.16, MAE: 3.15\n",
      "**************************************************\n",
      "Ticker: AIZ, MAPE: 10.13, MAE: 20.60\n",
      "**************************************************\n",
      "Ticker: AJG, MAPE: 14.51, MAE: 43.73\n",
      "**************************************************\n",
      "Ticker: ALL, MAPE: 8.01, MAE: 15.23\n",
      "**************************************************\n",
      "Ticker: AMP, MAPE: 12.30, MAE: 63.63\n",
      "**************************************************\n",
      "Ticker: AON, MAPE: 16.13, MAE: 59.08\n",
      "**************************************************\n",
      "Ticker: APO, MAPE: 15.06, MAE: 23.07\n",
      "**************************************************\n",
      "Ticker: AXP, MAPE: 10.76, MAE: 30.83\n",
      "**************************************************\n",
      "Ticker: BAC, MAPE: 10.01, MAE: 4.32\n",
      "**************************************************\n",
      "Ticker: BEN, MAPE: 7.76, MAE: 1.51\n",
      "**************************************************\n",
      "Ticker: BK, MAPE: 21.56, MAE: 16.63\n",
      "**************************************************\n",
      "Ticker: BLK, MAPE: 15.30, MAE: 146.81\n",
      "**************************************************\n",
      "Ticker: BRK-B, MAPE: 10.82, MAE: 51.94\n",
      "**************************************************\n",
      "Ticker: BRO, MAPE: 17.01, MAE: 18.29\n",
      "**************************************************\n",
      "Ticker: BX, MAPE: 18.19, MAE: 29.45\n",
      "**************************************************\n",
      "Ticker: C, MAPE: 9.79, MAE: 7.06\n",
      "**************************************************\n",
      "Ticker: CB, MAPE: 8.51, MAE: 23.87\n",
      "**************************************************\n",
      "Ticker: CBOE, MAPE: 10.00, MAE: 20.69\n",
      "**************************************************\n",
      "Ticker: CFG, MAPE: 14.69, MAE: 6.29\n",
      "**************************************************\n",
      "Ticker: CINF, MAPE: 12.76, MAE: 17.88\n",
      "**************************************************\n",
      "Ticker: CME, MAPE: 9.60, MAE: 22.85\n",
      "**************************************************\n",
      "Ticker: COF, MAPE: 12.16, MAE: 21.90\n",
      "**************************************************\n",
      "Ticker: CPAY, MAPE: 10.01, MAE: 33.34\n",
      "**************************************************\n",
      "Ticker: DFS, MAPE: 16.70, MAE: 28.84\n",
      "**************************************************\n",
      "Ticker: EG, MAPE: 4.22, MAE: 15.19\n",
      "**************************************************\n",
      "Ticker: ERIE, MAPE: 9.42, MAE: 43.01\n",
      "**************************************************\n",
      "Ticker: FDS, MAPE: 4.98, MAE: 22.46\n",
      "**************************************************\n",
      "Ticker: FI, MAPE: 18.03, MAE: 37.28\n",
      "**************************************************\n",
      "Ticker: FIS, MAPE: 12.15, MAE: 9.85\n",
      "**************************************************\n",
      "Ticker: FITB, MAPE: 10.20, MAE: 4.29\n",
      "**************************************************\n",
      "Ticker: GL, MAPE: 22.06, MAE: 24.88\n",
      "**************************************************\n",
      "Ticker: GPN, MAPE: 10.68, MAE: 9.77\n",
      "**************************************************\n",
      "Ticker: GS, MAPE: 16.31, MAE: 91.41\n",
      "**************************************************\n",
      "Ticker: HBAN, MAPE: 10.91, MAE: 1.72\n",
      "**************************************************\n",
      "Ticker: HIG, MAPE: 12.32, MAE: 14.08\n",
      "**************************************************\n",
      "Ticker: ICE, MAPE: 16.85, MAE: 26.68\n",
      "**************************************************\n",
      "Ticker: IVZ, MAPE: 15.42, MAE: 2.60\n",
      "**************************************************\n",
      "Ticker: JKHY, MAPE: 4.51, MAE: 7.93\n",
      "**************************************************\n",
      "Ticker: JPM, MAPE: 14.38, MAE: 34.27\n",
      "**************************************************\n",
      "Ticker: KEY, MAPE: 11.43, MAE: 1.92\n",
      "**************************************************\n",
      "Ticker: KKR, MAPE: 19.78, MAE: 27.29\n",
      "**************************************************\n",
      "Ticker: L, MAPE: 5.56, MAE: 4.68\n",
      "**************************************************\n",
      "Ticker: MA, MAPE: 9.68, MAE: 50.73\n",
      "**************************************************\n",
      "Ticker: MCO, MAPE: 15.12, MAE: 70.97\n",
      "**************************************************\n",
      "Ticker: MET, MAPE: 10.06, MAE: 8.18\n",
      "**************************************************\n",
      "Ticker: MKTX, MAPE: 9.13, MAE: 22.39\n",
      "**************************************************\n",
      "Ticker: MMC, MAPE: 6.78, MAE: 15.15\n",
      "**************************************************\n",
      "Ticker: MS, MAPE: 15.28, MAE: 18.53\n",
      "**************************************************\n",
      "Ticker: MSCI, MAPE: 13.38, MAE: 76.93\n",
      "**************************************************\n",
      "Ticker: MTB, MAPE: 17.20, MAE: 32.18\n",
      "**************************************************\n",
      "Ticker: NDAQ, MAPE: 15.00, MAE: 11.40\n",
      "**************************************************\n",
      "Ticker: NTRS, MAPE: 12.32, MAE: 12.55\n",
      "**************************************************\n",
      "Ticker: PFG, MAPE: 4.51, MAE: 3.60\n",
      "**************************************************\n",
      "Ticker: PGR, MAPE: 11.39, MAE: 29.17\n",
      "**************************************************\n",
      "Ticker: PNC, MAPE: 12.84, MAE: 24.01\n",
      "**************************************************\n",
      "Ticker: PRU, MAPE: 6.78, MAE: 7.88\n",
      "**************************************************\n",
      "Ticker: PYPL, MAPE: 12.56, MAE: 9.97\n",
      "**************************************************\n",
      "Ticker: RF, MAPE: 11.85, MAE: 2.76\n",
      "**************************************************\n",
      "Ticker: RJF, MAPE: 10.53, MAE: 15.48\n",
      "**************************************************\n",
      "Ticker: SCHW, MAPE: 8.00, MAE: 5.46\n",
      "**************************************************\n",
      "Ticker: SPGI, MAPE: 11.56, MAE: 58.04\n",
      "**************************************************\n",
      "Ticker: STT, MAPE: 16.55, MAE: 15.11\n",
      "**************************************************\n",
      "Ticker: SYF, MAPE: 16.10, MAE: 9.76\n",
      "**************************************************\n",
      "Ticker: TFC, MAPE: 11.17, MAE: 4.85\n",
      "**************************************************\n",
      "Ticker: TROW, MAPE: 7.19, MAE: 7.15\n",
      "**************************************************\n",
      "Ticker: TRV, MAPE: 9.44, MAE: 23.27\n",
      "**************************************************\n",
      "Ticker: USB, MAPE: 10.61, MAE: 4.91\n",
      "**************************************************\n",
      "Ticker: V, MAPE: 9.37, MAE: 30.36\n",
      "**************************************************\n",
      "Ticker: WFC, MAPE: 11.69, MAE: 8.21\n",
      "**************************************************\n",
      "Ticker: WRB, MAPE: 9.70, MAE: 6.01\n",
      "**************************************************\n",
      "Ticker: WTW, MAPE: 13.31, MAE: 41.36\n",
      "**************************************************\n"
     ]
    }
   ],
   "source": [
    "mapes_theta = {}\n",
    "maes_theta = {}\n",
    "\n",
    "for ticker in data.keys():\n",
    "    y_test = test[ticker]['close']\n",
    "    y_pred = models_theta[ticker].predict(\n",
    "        n=len(y_test),\n",
    "        show_warnings=False\n",
    "    )\n",
    "    mape_ = mape(y_test, y_pred)\n",
    "    mae_ = mae(y_test, y_pred)\n",
    "    mapes_theta[ticker] = mape_\n",
    "    maes_theta[ticker] = mae_\n",
    "    print(f\"Ticker: {ticker}, MAPE: {mape_:.2f}, MAE: {mae_:.2f}\")\n",
    "    print(\"*\" * 50)"
   ]
  },
  {
   "cell_type": "code",
   "execution_count": 18,
   "id": "25979024",
   "metadata": {},
   "outputs": [
    {
     "data": {
      "text/plain": [
       "(11.853871508914272, 23.816626048663643)"
      ]
     },
     "execution_count": 18,
     "metadata": {},
     "output_type": "execute_result"
    }
   ],
   "source": [
    "np.mean(list(mapes_theta.values())), np.mean(list(maes_theta.values()))"
   ]
  },
  {
   "cell_type": "markdown",
   "id": "d147b846",
   "metadata": {},
   "source": [
    "## Linear Regression"
   ]
  },
  {
   "cell_type": "markdown",
   "id": "6df2f493",
   "metadata": {},
   "source": [
    "### Local model"
   ]
  },
  {
   "cell_type": "code",
   "execution_count": 19,
   "id": "a98d2d26",
   "metadata": {},
   "outputs": [
    {
     "name": "stdout",
     "output_type": "stream",
     "text": [
      "Training model for ACGL\n",
      "Model for ACGL trained in 0.13 seconds\n",
      "**************************************************\n",
      "Training model for AFL\n",
      "Model for AFL trained in 0.12 seconds\n",
      "**************************************************\n",
      "Training model for AIG\n",
      "Model for AIG trained in 0.12 seconds\n",
      "**************************************************\n",
      "Training model for AIZ\n",
      "Model for AIZ trained in 0.12 seconds\n",
      "**************************************************\n",
      "Training model for AJG\n",
      "Model for AJG trained in 0.12 seconds\n",
      "**************************************************\n",
      "Training model for ALL\n",
      "Model for ALL trained in 0.12 seconds\n",
      "**************************************************\n",
      "Training model for AMP\n",
      "Model for AMP trained in 0.12 seconds\n",
      "**************************************************\n",
      "Training model for AON\n",
      "Model for AON trained in 0.12 seconds\n",
      "**************************************************\n",
      "Training model for APO\n",
      "Model for APO trained in 0.12 seconds\n",
      "**************************************************\n",
      "Training model for AXP\n",
      "Model for AXP trained in 0.12 seconds\n",
      "**************************************************\n",
      "Training model for BAC\n",
      "Model for BAC trained in 0.12 seconds\n",
      "**************************************************\n",
      "Training model for BEN\n",
      "Model for BEN trained in 0.12 seconds\n",
      "**************************************************\n",
      "Training model for BK\n",
      "Model for BK trained in 0.12 seconds\n",
      "**************************************************\n",
      "Training model for BLK\n",
      "Model for BLK trained in 0.12 seconds\n",
      "**************************************************\n",
      "Training model for BRK-B\n",
      "Model for BRK-B trained in 0.12 seconds\n",
      "**************************************************\n",
      "Training model for BRO\n",
      "Model for BRO trained in 0.12 seconds\n",
      "**************************************************\n",
      "Training model for BX\n",
      "Model for BX trained in 0.12 seconds\n",
      "**************************************************\n",
      "Training model for C\n",
      "Model for C trained in 0.17 seconds\n",
      "**************************************************\n",
      "Training model for CB\n",
      "Model for CB trained in 0.13 seconds\n",
      "**************************************************\n",
      "Training model for CBOE\n",
      "Model for CBOE trained in 0.12 seconds\n",
      "**************************************************\n",
      "Training model for CFG\n",
      "Model for CFG trained in 0.12 seconds\n",
      "**************************************************\n",
      "Training model for CINF\n",
      "Model for CINF trained in 0.12 seconds\n",
      "**************************************************\n",
      "Training model for CME\n",
      "Model for CME trained in 0.13 seconds\n",
      "**************************************************\n",
      "Training model for COF\n",
      "Model for COF trained in 0.13 seconds\n",
      "**************************************************\n",
      "Training model for CPAY\n",
      "Model for CPAY trained in 0.12 seconds\n",
      "**************************************************\n",
      "Training model for DFS\n",
      "Model for DFS trained in 0.12 seconds\n",
      "**************************************************\n",
      "Training model for EG\n",
      "Model for EG trained in 0.12 seconds\n",
      "**************************************************\n",
      "Training model for ERIE\n",
      "Model for ERIE trained in 0.13 seconds\n",
      "**************************************************\n",
      "Training model for FDS\n",
      "Model for FDS trained in 0.12 seconds\n",
      "**************************************************\n",
      "Training model for FI\n",
      "Model for FI trained in 0.12 seconds\n",
      "**************************************************\n",
      "Training model for FIS\n",
      "Model for FIS trained in 0.12 seconds\n",
      "**************************************************\n",
      "Training model for FITB\n",
      "Model for FITB trained in 0.12 seconds\n",
      "**************************************************\n",
      "Training model for GL\n",
      "Model for GL trained in 0.12 seconds\n",
      "**************************************************\n",
      "Training model for GPN\n",
      "Model for GPN trained in 0.12 seconds\n",
      "**************************************************\n",
      "Training model for GS\n",
      "Model for GS trained in 0.12 seconds\n",
      "**************************************************\n",
      "Training model for HBAN\n",
      "Model for HBAN trained in 0.12 seconds\n",
      "**************************************************\n",
      "Training model for HIG\n",
      "Model for HIG trained in 0.12 seconds\n",
      "**************************************************\n",
      "Training model for ICE\n",
      "Model for ICE trained in 0.12 seconds\n",
      "**************************************************\n",
      "Training model for IVZ\n",
      "Model for IVZ trained in 0.15 seconds\n",
      "**************************************************\n",
      "Training model for JKHY\n",
      "Model for JKHY trained in 0.12 seconds\n",
      "**************************************************\n",
      "Training model for JPM\n",
      "Model for JPM trained in 0.12 seconds\n",
      "**************************************************\n",
      "Training model for KEY\n",
      "Model for KEY trained in 0.12 seconds\n",
      "**************************************************\n",
      "Training model for KKR\n",
      "Model for KKR trained in 0.12 seconds\n",
      "**************************************************\n",
      "Training model for L\n",
      "Model for L trained in 0.12 seconds\n",
      "**************************************************\n",
      "Training model for MA\n",
      "Model for MA trained in 0.12 seconds\n",
      "**************************************************\n",
      "Training model for MCO\n",
      "Model for MCO trained in 0.12 seconds\n",
      "**************************************************\n",
      "Training model for MET\n",
      "Model for MET trained in 0.17 seconds\n",
      "**************************************************\n",
      "Training model for MKTX\n",
      "Model for MKTX trained in 0.12 seconds\n",
      "**************************************************\n",
      "Training model for MMC\n",
      "Model for MMC trained in 0.12 seconds\n",
      "**************************************************\n",
      "Training model for MS\n",
      "Model for MS trained in 0.12 seconds\n",
      "**************************************************\n",
      "Training model for MSCI\n",
      "Model for MSCI trained in 0.14 seconds\n",
      "**************************************************\n",
      "Training model for MTB\n",
      "Model for MTB trained in 0.12 seconds\n",
      "**************************************************\n",
      "Training model for NDAQ\n",
      "Model for NDAQ trained in 0.12 seconds\n",
      "**************************************************\n",
      "Training model for NTRS\n",
      "Model for NTRS trained in 0.12 seconds\n",
      "**************************************************\n",
      "Training model for PFG\n",
      "Model for PFG trained in 0.12 seconds\n",
      "**************************************************\n",
      "Training model for PGR\n",
      "Model for PGR trained in 0.22 seconds\n",
      "**************************************************\n",
      "Training model for PNC\n",
      "Model for PNC trained in 0.12 seconds\n",
      "**************************************************\n",
      "Training model for PRU\n",
      "Model for PRU trained in 0.12 seconds\n",
      "**************************************************\n",
      "Training model for PYPL\n",
      "Model for PYPL trained in 0.12 seconds\n",
      "**************************************************\n",
      "Training model for RF\n",
      "Model for RF trained in 0.13 seconds\n",
      "**************************************************\n",
      "Training model for RJF\n",
      "Model for RJF trained in 0.12 seconds\n",
      "**************************************************\n",
      "Training model for SCHW\n",
      "Model for SCHW trained in 0.12 seconds\n",
      "**************************************************\n",
      "Training model for SPGI\n",
      "Model for SPGI trained in 0.12 seconds\n",
      "**************************************************\n",
      "Training model for STT\n",
      "Model for STT trained in 0.12 seconds\n",
      "**************************************************\n",
      "Training model for SYF\n",
      "Model for SYF trained in 0.12 seconds\n",
      "**************************************************\n",
      "Training model for TFC\n",
      "Model for TFC trained in 0.12 seconds\n",
      "**************************************************\n",
      "Training model for TROW\n",
      "Model for TROW trained in 0.12 seconds\n",
      "**************************************************\n",
      "Training model for TRV\n",
      "Model for TRV trained in 0.12 seconds\n",
      "**************************************************\n",
      "Training model for USB\n",
      "Model for USB trained in 0.13 seconds\n",
      "**************************************************\n",
      "Training model for V\n",
      "Model for V trained in 0.12 seconds\n",
      "**************************************************\n",
      "Training model for WFC\n",
      "Model for WFC trained in 0.12 seconds\n",
      "**************************************************\n",
      "Training model for WRB\n",
      "Model for WRB trained in 0.12 seconds\n",
      "**************************************************\n",
      "Training model for WTW\n",
      "Model for WTW trained in 0.12 seconds\n",
      "**************************************************\n"
     ]
    }
   ],
   "source": [
    "models_lr = {}\n",
    "\n",
    "for ticker in data.keys():\n",
    "    print(f\"Training model for {ticker}\")\n",
    "    start = time.time()\n",
    "    model = LinearRegressionModel(\n",
    "        lags=15,\n",
    "        lags_past_covariates=1,\n",
    "        lags_future_covariates=[0],\n",
    "        output_chunk_length=1,\n",
    "        random_state=42,\n",
    "        add_encoders={\n",
    "            'datetime_attribute': {\n",
    "                'future': ['month', 'day', 'dayofweek', 'dayofyear', 'quarter', 'year'] # automatically generate future covariates from time series\n",
    "            }\n",
    "        }\n",
    "    )\n",
    "\n",
    "    model.fit(\n",
    "        train[ticker]['close'],\n",
    "        past_covariates=train[ticker][['high', 'low', 'volume', 'open']],\n",
    "    )\n",
    "\n",
    "    end = time.time()\n",
    "    print(f\"Model for {ticker} trained in {end - start:.2f} seconds\")\n",
    "    print(\"*\" * 50)\n",
    "\n",
    "    models_lr[ticker] = model"
   ]
  },
  {
   "cell_type": "code",
   "execution_count": 20,
   "id": "79a5002a",
   "metadata": {},
   "outputs": [
    {
     "name": "stdout",
     "output_type": "stream",
     "text": [
      "Ticker: ACGL, MAPE: 90.99, MAE: 84.84\n",
      "**************************************************\n",
      "Ticker: AFL, MAPE: 2.49, MAE: 2.57\n",
      "**************************************************\n",
      "Ticker: AIG, MAPE: 3.45, MAE: 2.67\n",
      "**************************************************\n",
      "Ticker: AIZ, MAPE: 3.90, MAE: 7.78\n",
      "**************************************************\n",
      "Ticker: AJG, MAPE: 10.15, MAE: 30.52\n",
      "**************************************************\n",
      "Ticker: ALL, MAPE: 118.23, MAE: 229.78\n",
      "**************************************************\n",
      "Ticker: AMP, MAPE: 2.92, MAE: 14.20\n",
      "**************************************************\n",
      "Ticker: AON, MAPE: 1.33, MAE: 4.66\n",
      "**************************************************\n",
      "Ticker: APO, MAPE: 5247.90, MAE: 7108.36\n",
      "**************************************************\n",
      "Ticker: AXP, MAPE: 5.96, MAE: 16.57\n",
      "**************************************************\n",
      "Ticker: BAC, MAPE: 2.13, MAE: 0.86\n",
      "**************************************************\n",
      "Ticker: BEN, MAPE: 96.84, MAE: 18.51\n",
      "**************************************************\n",
      "Ticker: BK, MAPE: 4.88, MAE: 3.62\n",
      "**************************************************\n",
      "Ticker: BLK, MAPE: 12.93, MAE: 123.73\n",
      "**************************************************\n",
      "Ticker: BRK-B, MAPE: 24.54, MAE: 118.58\n",
      "**************************************************\n",
      "Ticker: BRO, MAPE: 2.60, MAE: 2.76\n",
      "**************************************************\n",
      "Ticker: BX, MAPE: 71.33, MAE: 109.04\n",
      "**************************************************\n",
      "Ticker: C, MAPE: 3.00, MAE: 2.01\n",
      "**************************************************\n",
      "Ticker: CB, MAPE: 1.56, MAE: 4.32\n",
      "**************************************************\n",
      "Ticker: CBOE, MAPE: 1.89, MAE: 3.81\n",
      "**************************************************\n",
      "Ticker: CFG, MAPE: 2.93, MAE: 1.17\n",
      "**************************************************\n",
      "Ticker: CINF, MAPE: 3.35, MAE: 4.61\n",
      "**************************************************\n",
      "Ticker: CME, MAPE: 1.68, MAE: 3.78\n",
      "**************************************************\n",
      "Ticker: COF, MAPE: 2.96, MAE: 4.93\n",
      "**************************************************\n",
      "Ticker: CPAY, MAPE: 22095.70, MAE: 72655.69\n",
      "**************************************************\n",
      "Ticker: DFS, MAPE: 19.97, MAE: 34.32\n",
      "**************************************************\n",
      "Ticker: EG, MAPE: 21677.37, MAE: 76165.50\n",
      "**************************************************\n",
      "Ticker: ERIE, MAPE: 781395300632142544896.00, MAE: 2901642646264819482624.00\n",
      "**************************************************\n",
      "Ticker: FDS, MAPE: 42.67, MAE: 189.40\n",
      "**************************************************\n",
      "Ticker: FI, MAPE: 7.18, MAE: 14.41\n",
      "**************************************************\n",
      "Ticker: FIS, MAPE: 4.16, MAE: 3.26\n",
      "**************************************************\n",
      "Ticker: FITB, MAPE: 3.10, MAE: 1.22\n",
      "**************************************************\n",
      "Ticker: GL, MAPE: 122754058.70, MAE: 150062973.84\n",
      "**************************************************\n",
      "Ticker: GPN, MAPE: 6.82, MAE: 6.41\n",
      "**************************************************\n",
      "Ticker: GS, MAPE: 4.76, MAE: 25.95\n",
      "**************************************************\n",
      "Ticker: HBAN, MAPE: 3.57, MAE: 0.53\n",
      "**************************************************\n",
      "Ticker: HIG, MAPE: 388276.25, MAE: 460269.22\n",
      "**************************************************\n",
      "Ticker: ICE, MAPE: 1.87, MAE: 2.91\n",
      "**************************************************\n",
      "Ticker: IVZ, MAPE: 4.39, MAE: 0.69\n",
      "**************************************************\n",
      "Ticker: JKHY, MAPE: 2.67, MAE: 4.61\n",
      "**************************************************\n",
      "Ticker: JPM, MAPE: 3.40, MAE: 7.89\n",
      "**************************************************\n",
      "Ticker: KEY, MAPE: 2.88, MAE: 0.45\n",
      "**************************************************\n",
      "Ticker: KKR, MAPE: 63524716755168.98, MAE: 69967983666203.39\n",
      "**************************************************\n",
      "Ticker: L, MAPE: 1.83, MAE: 1.52\n",
      "**************************************************\n",
      "Ticker: MA, MAPE: 1.42, MAE: 7.14\n",
      "**************************************************\n",
      "Ticker: MCO, MAPE: 2.11, MAE: 9.60\n",
      "**************************************************\n",
      "Ticker: MET, MAPE: 2.27, MAE: 1.74\n",
      "**************************************************\n",
      "Ticker: MKTX, MAPE: 64254522661.56, MAE: 141372030205.22\n",
      "**************************************************\n",
      "Ticker: MMC, MAPE: 1.58, MAE: 3.49\n",
      "**************************************************\n",
      "Ticker: MS, MAPE: 3.92, MAE: 4.51\n",
      "**************************************************\n",
      "Ticker: MSCI, MAPE: 444638168197.11, MAE: 2412694037185.39\n",
      "**************************************************\n",
      "Ticker: MTB, MAPE: 50.34, MAE: 91.83\n",
      "**************************************************\n",
      "Ticker: NDAQ, MAPE: 2.84, MAE: 2.07\n",
      "**************************************************\n",
      "Ticker: NTRS, MAPE: 7.67, MAE: 7.86\n",
      "**************************************************\n",
      "Ticker: PFG, MAPE: 6.64, MAE: 5.45\n",
      "**************************************************\n",
      "Ticker: PGR, MAPE: 2.29, MAE: 5.58\n",
      "**************************************************\n",
      "Ticker: PNC, MAPE: 3.55, MAE: 6.23\n",
      "**************************************************\n",
      "Ticker: PRU, MAPE: 2.57, MAE: 2.90\n",
      "**************************************************\n",
      "Ticker: PYPL, MAPE: 2.20, MAE: 1.58\n",
      "**************************************************\n",
      "Ticker: RF, MAPE: 4.55, MAE: 1.00\n",
      "**************************************************\n",
      "Ticker: RJF, MAPE: 31846740.93, MAE: 43539120.56\n",
      "**************************************************\n",
      "Ticker: SCHW, MAPE: 4.18, MAE: 2.98\n",
      "**************************************************\n",
      "Ticker: SPGI, MAPE: 1.78, MAE: 8.63\n",
      "**************************************************\n",
      "Ticker: STT, MAPE: 11.40, MAE: 10.42\n",
      "**************************************************\n",
      "Ticker: SYF, MAPE: 141.17, MAE: 78.64\n",
      "**************************************************\n",
      "Ticker: TFC, MAPE: 2.55, MAE: 1.04\n",
      "**************************************************\n",
      "Ticker: TROW, MAPE: 158180.72, MAE: 143027.24\n",
      "**************************************************\n",
      "Ticker: TRV, MAPE: 2.89, MAE: 7.00\n",
      "**************************************************\n",
      "Ticker: USB, MAPE: 2.51, MAE: 1.09\n",
      "**************************************************\n",
      "Ticker: V, MAPE: 1.64, MAE: 5.04\n",
      "**************************************************\n",
      "Ticker: WFC, MAPE: 2.61, MAE: 1.70\n",
      "**************************************************\n",
      "Ticker: WRB, MAPE: 2.60, MAE: 1.60\n",
      "**************************************************\n",
      "Ticker: WTW, MAPE: 6.81, MAE: 21.05\n",
      "**************************************************\n"
     ]
    }
   ],
   "source": [
    "mapes_lr = {}\n",
    "maes_lr = {}\n",
    "\n",
    "for ticker in data.keys():\n",
    "    y_test = test[ticker]['close']\n",
    "    y_pred = models_lr[ticker].predict(\n",
    "        n=len(y_test),\n",
    "        past_covariates=test[ticker][['high', 'low', 'volume', 'open']],\n",
    "        show_warnings=False\n",
    "    )\n",
    "    mape_ = mape(y_test, y_pred)\n",
    "    mae_ = mae(y_test, y_pred)\n",
    "    mapes_lr[ticker] = mape_\n",
    "    maes_lr[ticker] = mae_\n",
    "    print(f\"Ticker: {ticker}, MAPE: {mape_:.2f}, MAE: {mae_:.2f}\")\n",
    "    print(\"*\" * 50)"
   ]
  },
  {
   "cell_type": "code",
   "execution_count": 21,
   "id": "1a3fbd8d",
   "metadata": {},
   "outputs": [
    {
     "data": {
      "text/plain": [
       "(1.0704046091313797e+19, 3.974853039434333e+19)"
      ]
     },
     "execution_count": 21,
     "metadata": {},
     "output_type": "execute_result"
    }
   ],
   "source": [
    "np.mean(list(mapes_lr.values())), np.mean(list(maes_lr.values()))"
   ]
  },
  {
   "cell_type": "markdown",
   "id": "1f27462f",
   "metadata": {},
   "source": [
    "### Global model"
   ]
  },
  {
   "cell_type": "code",
   "execution_count": 22,
   "id": "3879adfb",
   "metadata": {},
   "outputs": [
    {
     "name": "stdout",
     "output_type": "stream",
     "text": [
      "Training global model\n",
      "Global model trained in 8.88 seconds\n",
      "**************************************************\n"
     ]
    }
   ],
   "source": [
    "print(f\"Training global model\")\n",
    "start = time.time()\n",
    "model = LinearRegressionModel(\n",
    "    lags=15,\n",
    "    lags_past_covariates=1,\n",
    "    lags_future_covariates=[0],\n",
    "    output_chunk_length=1,\n",
    "    random_state=42,\n",
    "    add_encoders={\n",
    "        'datetime_attribute': {\n",
    "            'future': ['month', 'day', 'dayofweek', 'dayofyear', 'quarter', 'year'] # automatically generate future covariates from time series\n",
    "        }\n",
    "    }\n",
    ")\n",
    "\n",
    "model.fit(\n",
    "    [ts['close'] for ts in train.values()],\n",
    "    past_covariates=[ts[['high', 'low', 'volume', 'open']] for ts in train.values()],\n",
    ")\n",
    "\n",
    "end = time.time()\n",
    "print(f\"Global model trained in {end - start:.2f} seconds\")\n",
    "print(\"*\" * 50)"
   ]
  },
  {
   "cell_type": "code",
   "execution_count": 23,
   "id": "545bdc45",
   "metadata": {},
   "outputs": [
    {
     "name": "stdout",
     "output_type": "stream",
     "text": [
      "Global model for ACGL, MAPE: 4.94, MAE: 4.70\n",
      "**************************************************\n",
      "Global model for AFL, MAPE: 4.06, MAE: 4.17\n",
      "**************************************************\n",
      "Global model for AIG, MAPE: 4.16, MAE: 3.11\n",
      "**************************************************\n",
      "Global model for AIZ, MAPE: 3.72, MAE: 7.27\n",
      "**************************************************\n",
      "Global model for AJG, MAPE: 4.02, MAE: 11.88\n",
      "**************************************************\n",
      "Global model for ALL, MAPE: 3.21, MAE: 5.99\n",
      "**************************************************\n",
      "Global model for AMP, MAPE: 4.92, MAE: 24.32\n",
      "**************************************************\n",
      "Global model for AON, MAPE: 4.50, MAE: 15.92\n",
      "**************************************************\n",
      "Global model for APO, MAPE: 7.76, MAE: 10.81\n",
      "**************************************************\n",
      "Global model for AXP, MAPE: 4.84, MAE: 13.14\n",
      "**************************************************\n",
      "Global model for BAC, MAPE: 4.03, MAE: 1.61\n",
      "**************************************************\n",
      "Global model for BEN, MAPE: 13.05, MAE: 2.59\n",
      "**************************************************\n",
      "Global model for BK, MAPE: 3.57, MAE: 2.64\n",
      "**************************************************\n",
      "Global model for BLK, MAPE: 5.05, MAE: 46.66\n",
      "**************************************************\n",
      "Global model for BRK-B, MAPE: 3.20, MAE: 15.21\n",
      "**************************************************\n",
      "Global model for BRO, MAPE: 4.07, MAE: 4.25\n",
      "**************************************************\n",
      "Global model for BX, MAPE: 7.11, MAE: 10.67\n",
      "**************************************************\n",
      "Global model for C, MAPE: 4.60, MAE: 3.06\n",
      "**************************************************\n",
      "Global model for CB, MAPE: 3.00, MAE: 8.29\n",
      "**************************************************\n",
      "Global model for CBOE, MAPE: 3.77, MAE: 7.57\n",
      "**************************************************\n",
      "Global model for CFG, MAPE: 5.19, MAE: 2.03\n",
      "**************************************************\n",
      "Global model for CINF, MAPE: 3.78, MAE: 5.16\n",
      "**************************************************\n",
      "Global model for CME, MAPE: 3.52, MAE: 8.09\n",
      "**************************************************\n",
      "Global model for COF, MAPE: 5.21, MAE: 8.92\n",
      "**************************************************\n",
      "Global model for CPAY, MAPE: 5.90, MAE: 18.86\n",
      "**************************************************\n",
      "Global model for DFS, MAPE: 5.85, MAE: 9.66\n",
      "**************************************************\n",
      "Global model for EG, MAPE: 2.92, MAE: 10.48\n",
      "**************************************************\n",
      "Global model for ERIE, MAPE: 7.30, MAE: 31.76\n",
      "**************************************************\n",
      "Global model for FDS, MAPE: 3.62, MAE: 16.03\n",
      "**************************************************\n",
      "Global model for FI, MAPE: 4.81, MAE: 9.46\n",
      "**************************************************\n",
      "Global model for FIS, MAPE: 5.15, MAE: 3.93\n",
      "**************************************************\n",
      "Global model for FITB, MAPE: 5.20, MAE: 2.03\n",
      "**************************************************\n",
      "Global model for GL, MAPE: 4.22, MAE: 4.53\n",
      "**************************************************\n",
      "Global model for GPN, MAPE: 7.10, MAE: 6.63\n",
      "**************************************************\n",
      "Global model for GS, MAPE: 5.56, MAE: 30.29\n",
      "**************************************************\n",
      "Global model for HBAN, MAPE: 8.91, MAE: 1.34\n",
      "**************************************************\n",
      "Global model for HIG, MAPE: 3.31, MAE: 3.71\n",
      "**************************************************\n",
      "Global model for ICE, MAPE: 4.70, MAE: 7.24\n",
      "**************************************************\n",
      "Global model for IVZ, MAPE: 11.33, MAE: 1.82\n",
      "**************************************************\n",
      "Global model for JKHY, MAPE: 2.33, MAE: 4.03\n",
      "**************************************************\n",
      "Global model for JPM, MAPE: 4.13, MAE: 9.63\n",
      "**************************************************\n",
      "Global model for KEY, MAPE: 9.11, MAE: 1.48\n",
      "**************************************************\n",
      "Global model for KKR, MAPE: 8.60, MAE: 10.69\n",
      "**************************************************\n",
      "Global model for L, MAPE: 1.93, MAE: 1.58\n",
      "**************************************************\n",
      "Global model for MA, MAPE: 3.23, MAE: 16.47\n",
      "**************************************************\n",
      "Global model for MCO, MAPE: 4.68, MAE: 21.18\n",
      "**************************************************\n",
      "Global model for MET, MAPE: 3.54, MAE: 2.72\n",
      "**************************************************\n",
      "Global model for MKTX, MAPE: 6.99, MAE: 16.06\n",
      "**************************************************\n",
      "Global model for MMC, MAPE: 2.99, MAE: 6.57\n",
      "**************************************************\n",
      "Global model for MS, MAPE: 5.41, MAE: 6.24\n",
      "**************************************************\n",
      "Global model for MSCI, MAPE: 4.09, MAE: 22.86\n",
      "**************************************************\n",
      "Global model for MTB, MAPE: 5.38, MAE: 9.65\n",
      "**************************************************\n",
      "Global model for NDAQ, MAPE: 3.22, MAE: 2.33\n",
      "**************************************************\n",
      "Global model for NTRS, MAPE: 3.99, MAE: 3.85\n",
      "**************************************************\n",
      "Global model for PFG, MAPE: 4.45, MAE: 3.48\n",
      "**************************************************\n",
      "Global model for PGR, MAPE: 3.92, MAE: 9.84\n",
      "**************************************************\n",
      "Global model for PNC, MAPE: 5.04, MAE: 8.80\n",
      "**************************************************\n",
      "Global model for PRU, MAPE: 4.38, MAE: 4.87\n",
      "**************************************************\n",
      "Global model for PYPL, MAPE: 7.32, MAE: 5.21\n",
      "**************************************************\n",
      "Global model for RF, MAPE: 6.30, MAE: 1.38\n",
      "**************************************************\n",
      "Global model for RJF, MAPE: 5.90, MAE: 8.33\n",
      "**************************************************\n",
      "Global model for SCHW, MAPE: 5.12, MAE: 3.60\n",
      "**************************************************\n",
      "Global model for SPGI, MAPE: 4.02, MAE: 19.58\n",
      "**************************************************\n",
      "Global model for STT, MAPE: 4.08, MAE: 3.48\n",
      "**************************************************\n",
      "Global model for SYF, MAPE: 6.56, MAE: 3.56\n",
      "**************************************************\n",
      "Global model for TFC, MAPE: 4.44, MAE: 1.78\n",
      "**************************************************\n",
      "Global model for TROW, MAPE: 5.33, MAE: 5.34\n",
      "**************************************************\n",
      "Global model for TRV, MAPE: 3.41, MAE: 8.24\n",
      "**************************************************\n",
      "Global model for USB, MAPE: 4.43, MAE: 1.90\n",
      "**************************************************\n",
      "Global model for V, MAPE: 3.40, MAE: 10.57\n",
      "**************************************************\n",
      "Global model for WFC, MAPE: 4.95, MAE: 3.26\n",
      "**************************************************\n",
      "Global model for WRB, MAPE: 2.86, MAE: 1.75\n",
      "**************************************************\n",
      "Global model for WTW, MAPE: 3.18, MAE: 9.57\n",
      "**************************************************\n"
     ]
    }
   ],
   "source": [
    "mapes = {}\n",
    "maes = {}\n",
    "\n",
    "for ticker in data.keys():\n",
    "    y_pred = model.predict(\n",
    "        n=len(test[ticker]['close']),\n",
    "        series=train[ticker]['close'],\n",
    "        past_covariates=test[ticker][['high', 'low', 'volume', 'open']],\n",
    "        show_warnings=False\n",
    "    )\n",
    "    y_test = test[ticker]['close']\n",
    "    mape_ = mape(y_test, y_pred)\n",
    "    mae_ = mae(y_test, y_pred)\n",
    "\n",
    "    mapes[ticker] = mape_\n",
    "    maes[ticker] = mae_\n",
    "\n",
    "    print(f\"Global model for {ticker}, MAPE: {mape_:.2f}, MAE: {mae_:.2f}\")\n",
    "    print(\"*\" * 50)"
   ]
  },
  {
   "cell_type": "code",
   "execution_count": 24,
   "id": "40364019",
   "metadata": {},
   "outputs": [
    {
     "data": {
      "text/plain": [
       "(4.930623811030288, 8.707990625977335)"
      ]
     },
     "execution_count": 24,
     "metadata": {},
     "output_type": "execute_result"
    }
   ],
   "source": [
    "np.mean(list(mapes.values())), np.mean(list(maes.values()))"
   ]
  }
 ],
 "metadata": {
  "kernelspec": {
   "display_name": ".venv",
   "language": "python",
   "name": "python3"
  },
  "language_info": {
   "codemirror_mode": {
    "name": "ipython",
    "version": 3
   },
   "file_extension": ".py",
   "mimetype": "text/x-python",
   "name": "python",
   "nbconvert_exporter": "python",
   "pygments_lexer": "ipython3",
   "version": "3.12.1"
  }
 },
 "nbformat": 4,
 "nbformat_minor": 5
}
