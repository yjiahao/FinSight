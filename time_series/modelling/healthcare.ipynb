{
 "cells": [
  {
   "cell_type": "markdown",
   "id": "a132de14",
   "metadata": {},
   "source": [
    "## Model training and tuning for the healthcare sector"
   ]
  },
  {
   "cell_type": "code",
   "execution_count": 31,
   "id": "d74fe196",
   "metadata": {},
   "outputs": [],
   "source": [
    "import pandas as pd\n",
    "import numpy as np\n",
    "\n",
    "from darts import TimeSeries, concatenate\n",
    "from darts.utils.model_selection import train_test_split\n",
    "from darts.models.forecasting.xgboost import XGBModel\n",
    "from darts.dataprocessing.transformers.scaler import Scaler\n",
    "from darts.metrics.metrics import mape, mae\n",
    "from darts.models.forecasting.prophet_model import Prophet\n",
    "from darts.models.forecasting.sf_auto_theta import AutoTheta\n",
    "from darts.models.forecasting.linear_regression_model import LinearRegressionModel"
   ]
  },
  {
   "cell_type": "code",
   "execution_count": 14,
   "id": "8c7af10f",
   "metadata": {},
   "outputs": [],
   "source": [
    "df = pd.read_csv('../../data/processed/sp500_all_companies_cleaned_with_sector.csv')\n",
    "df['date'] = pd.to_datetime(df['date'])\n",
    "\n",
    "df_healthcare = df[df['GICS Sector'] == 'Health Care'].sort_values(by=['ticker', 'date']).reset_index(drop=True)\n",
    "\n",
    "# lag volume, high, low by 1 day\n",
    "# df_healthcare[['volume', 'high', 'low']] = (\n",
    "#     df_healthcare.groupby('ticker')[['volume', 'high', 'low']].shift(1)\n",
    "# )\n",
    "# df_healthcare = df_healthcare.dropna().reset_index(drop=True)"
   ]
  },
  {
   "cell_type": "code",
   "execution_count": 15,
   "id": "92847a29",
   "metadata": {},
   "outputs": [],
   "source": [
    "data = {}\n",
    "\n",
    "for ticker, group in df_healthcare.groupby('ticker'):\n",
    "    series = TimeSeries.from_dataframe(\n",
    "        group,\n",
    "        time_col='date',\n",
    "        value_cols=['close', 'high', 'low', 'open', 'volume'],\n",
    "        freq='B'\n",
    "    )\n",
    "\n",
    "    # series = series.add_datetime_attribute('day') \\\n",
    "    #     .add_datetime_attribute('month') \\\n",
    "    #     .add_datetime_attribute('year') \\\n",
    "    #     .add_datetime_attribute('dayofweek') \\\n",
    "    #     .add_datetime_attribute('dayofyear') \\\n",
    "    #     .add_datetime_attribute('weekofyear') \\\n",
    "    #     .add_datetime_attribute('quarter')\n",
    "    \n",
    "    data[ticker] = series"
   ]
  },
  {
   "cell_type": "code",
   "execution_count": 16,
   "id": "8ebc137c",
   "metadata": {},
   "outputs": [],
   "source": [
    "train = {}\n",
    "test = {}\n",
    "\n",
    "for ticker, series in data.items():\n",
    "    train[ticker], test[ticker] = train_test_split(series, test_size=0.1)\n",
    "    last_train = train[ticker][-1:]\n",
    "    test_with_context = last_train.append(test[ticker]) # append last point of train to test as our forecast requires it\n",
    "    test[ticker] = test_with_context"
   ]
  },
  {
   "cell_type": "markdown",
   "id": "2ff40656",
   "metadata": {},
   "source": [
    "## Gradient Boosting"
   ]
  },
  {
   "cell_type": "markdown",
   "id": "ab5a6a61",
   "metadata": {},
   "source": [
    "### Train a local model first"
   ]
  },
  {
   "cell_type": "code",
   "execution_count": null,
   "id": "630b92e0",
   "metadata": {},
   "outputs": [
    {
     "name": "stdout",
     "output_type": "stream",
     "text": [
      "Training model for A\n",
      "Model for A trained in 0.30 seconds\n",
      "**************************************************\n",
      "Training model for ABBV\n",
      "Model for ABBV trained in 0.40 seconds\n",
      "**************************************************\n",
      "Training model for ABT\n",
      "Model for ABT trained in 0.36 seconds\n",
      "**************************************************\n",
      "Training model for ALGN\n",
      "Model for ALGN trained in 0.29 seconds\n",
      "**************************************************\n",
      "Training model for AMGN\n",
      "Model for AMGN trained in 0.29 seconds\n",
      "**************************************************\n",
      "Training model for BAX\n",
      "Model for BAX trained in 0.35 seconds\n",
      "**************************************************\n",
      "Training model for BDX\n",
      "Model for BDX trained in 0.27 seconds\n",
      "**************************************************\n",
      "Training model for BIIB\n",
      "Model for BIIB trained in 0.37 seconds\n",
      "**************************************************\n",
      "Training model for BMY\n",
      "Model for BMY trained in 0.31 seconds\n",
      "**************************************************\n",
      "Training model for BSX\n",
      "Model for BSX trained in 0.33 seconds\n",
      "**************************************************\n",
      "Training model for CAH\n",
      "Model for CAH trained in 0.25 seconds\n",
      "**************************************************\n",
      "Training model for CI\n",
      "Model for CI trained in 0.36 seconds\n",
      "**************************************************\n",
      "Training model for CNC\n",
      "Model for CNC trained in 0.32 seconds\n",
      "**************************************************\n",
      "Training model for COO\n",
      "Model for COO trained in 0.30 seconds\n",
      "**************************************************\n",
      "Training model for COR\n",
      "Model for COR trained in 0.31 seconds\n",
      "**************************************************\n",
      "Training model for CRL\n",
      "Model for CRL trained in 0.28 seconds\n",
      "**************************************************\n",
      "Training model for CVS\n",
      "Model for CVS trained in 0.34 seconds\n",
      "**************************************************\n",
      "Training model for DGX\n",
      "Model for DGX trained in 0.32 seconds\n",
      "**************************************************\n",
      "Training model for DHR\n",
      "Model for DHR trained in 0.32 seconds\n",
      "**************************************************\n",
      "Training model for DVA\n",
      "Model for DVA trained in 0.30 seconds\n",
      "**************************************************\n",
      "Training model for DXCM\n",
      "Model for DXCM trained in 0.33 seconds\n",
      "**************************************************\n",
      "Training model for ELV\n",
      "Model for ELV trained in 0.36 seconds\n",
      "**************************************************\n",
      "Training model for EW\n",
      "Model for EW trained in 0.34 seconds\n",
      "**************************************************\n",
      "Training model for GILD\n",
      "Model for GILD trained in 0.37 seconds\n",
      "**************************************************\n",
      "Training model for HCA\n",
      "Model for HCA trained in 0.31 seconds\n",
      "**************************************************\n",
      "Training model for HOLX\n",
      "Model for HOLX trained in 0.32 seconds\n",
      "**************************************************\n",
      "Training model for HSIC\n",
      "Model for HSIC trained in 0.34 seconds\n",
      "**************************************************\n",
      "Training model for HUM\n",
      "Model for HUM trained in 0.35 seconds\n",
      "**************************************************\n",
      "Training model for IDXX\n",
      "Model for IDXX trained in 0.36 seconds\n",
      "**************************************************\n",
      "Training model for INCY\n",
      "Model for INCY trained in 0.38 seconds\n",
      "**************************************************\n",
      "Training model for IQV\n",
      "Model for IQV trained in 0.33 seconds\n",
      "**************************************************\n",
      "Training model for ISRG\n",
      "Model for ISRG trained in 0.34 seconds\n",
      "**************************************************\n",
      "Training model for JNJ\n",
      "Model for JNJ trained in 0.26 seconds\n",
      "**************************************************\n",
      "Training model for LH\n",
      "Model for LH trained in 0.32 seconds\n",
      "**************************************************\n",
      "Training model for LLY\n",
      "Model for LLY trained in 0.34 seconds\n",
      "**************************************************\n",
      "Training model for MCK\n",
      "Model for MCK trained in 0.30 seconds\n",
      "**************************************************\n",
      "Training model for MDT\n",
      "Model for MDT trained in 0.33 seconds\n",
      "**************************************************\n",
      "Training model for MOH\n",
      "Model for MOH trained in 0.26 seconds\n",
      "**************************************************\n",
      "Training model for MRK\n",
      "Model for MRK trained in 0.29 seconds\n",
      "**************************************************\n",
      "Training model for MTD\n",
      "Model for MTD trained in 0.31 seconds\n",
      "**************************************************\n",
      "Training model for PFE\n",
      "Model for PFE trained in 0.31 seconds\n",
      "**************************************************\n",
      "Training model for PODD\n",
      "Model for PODD trained in 0.34 seconds\n",
      "**************************************************\n",
      "Training model for REGN\n",
      "Model for REGN trained in 0.37 seconds\n",
      "**************************************************\n",
      "Training model for RMD\n",
      "Model for RMD trained in 0.34 seconds\n",
      "**************************************************\n",
      "Training model for RVTY\n",
      "Model for RVTY trained in 0.30 seconds\n",
      "**************************************************\n",
      "Training model for STE\n",
      "Model for STE trained in 0.44 seconds\n",
      "**************************************************\n",
      "Training model for SYK\n",
      "Model for SYK trained in 0.28 seconds\n",
      "**************************************************\n",
      "Training model for TECH\n",
      "Model for TECH trained in 0.30 seconds\n",
      "**************************************************\n",
      "Training model for TMO\n",
      "Model for TMO trained in 0.32 seconds\n",
      "**************************************************\n",
      "Training model for UHS\n",
      "Model for UHS trained in 0.34 seconds\n",
      "**************************************************\n",
      "Training model for UNH\n",
      "Model for UNH trained in 0.28 seconds\n",
      "**************************************************\n",
      "Training model for VRTX\n",
      "Model for VRTX trained in 0.32 seconds\n",
      "**************************************************\n",
      "Training model for VTRS\n",
      "Model for VTRS trained in 0.27 seconds\n",
      "**************************************************\n",
      "Training model for WAT\n",
      "Model for WAT trained in 0.29 seconds\n",
      "**************************************************\n",
      "Training model for WST\n",
      "Model for WST trained in 0.33 seconds\n",
      "**************************************************\n",
      "Training model for ZBH\n",
      "Model for ZBH trained in 0.33 seconds\n",
      "**************************************************\n",
      "Training model for ZTS\n",
      "Model for ZTS trained in 0.28 seconds\n",
      "**************************************************\n"
     ]
    }
   ],
   "source": [
    "import time\n",
    "models = {}\n",
    "\n",
    "for ticker in data.keys():\n",
    "    print(f\"Training model for {ticker}\")\n",
    "    start = time.time()\n",
    "    model = XGBModel(\n",
    "        lags=15,\n",
    "        lags_past_covariates=1,\n",
    "        lags_future_covariates=[0],\n",
    "        output_chunk_length=1,\n",
    "        random_state=42,\n",
    "        add_encoders={\n",
    "            'datetime_attribute': {\n",
    "                'future': ['month', 'day', 'dayofweek', 'dayofyear', 'quarter', 'year'] # automatically generate future covariates from time series\n",
    "            }\n",
    "        }\n",
    "    )\n",
    "\n",
    "    model.fit(\n",
    "        train[ticker]['close'],\n",
    "        past_covariates=train[ticker][['high', 'low', 'volume', 'open']],\n",
    "        # future_covariates=train[ticker][['month', 'day', 'dayofweek', 'dayofyear', 'quarter', 'year']]\n",
    "    )\n",
    "\n",
    "    end = time.time()\n",
    "    print(f\"Model for {ticker} trained in {end - start:.2f} seconds\")\n",
    "    print(\"*\" * 50)\n",
    "\n",
    "    models[ticker] = model"
   ]
  },
  {
   "cell_type": "code",
   "execution_count": 18,
   "id": "b9f91c14",
   "metadata": {},
   "outputs": [
    {
     "name": "stdout",
     "output_type": "stream",
     "text": [
      "Ticker: A, MAPE: 4.10, MAE: 5.33\n",
      "**************************************************\n",
      "Ticker: ABBV, MAPE: 8.34, MAE: 15.81\n",
      "**************************************************\n",
      "Ticker: ABT, MAPE: 2.70, MAE: 3.26\n",
      "**************************************************\n",
      "Ticker: ALGN, MAPE: 5.17, MAE: 11.60\n",
      "**************************************************\n",
      "Ticker: AMGN, MAPE: 6.07, MAE: 18.82\n",
      "**************************************************\n",
      "Ticker: BAX, MAPE: 4.93, MAE: 1.67\n",
      "**************************************************\n",
      "Ticker: BDX, MAPE: 4.02, MAE: 8.78\n",
      "**************************************************\n",
      "Ticker: BIIB, MAPE: 32.97, MAE: 49.37\n",
      "**************************************************\n",
      "Ticker: BMY, MAPE: 6.48, MAE: 3.53\n",
      "**************************************************\n",
      "Ticker: BSX, MAPE: 18.39, MAE: 17.28\n",
      "**************************************************\n",
      "Ticker: CAH, MAPE: 9.83, MAE: 11.87\n",
      "**************************************************\n",
      "Ticker: CI, MAPE: 2.38, MAE: 7.45\n",
      "**************************************************\n",
      "Ticker: CNC, MAPE: 3.41, MAE: 2.26\n",
      "**************************************************\n",
      "Ticker: COO, MAPE: 4.62, MAE: 4.61\n",
      "**************************************************\n",
      "Ticker: COR, MAPE: 8.55, MAE: 21.08\n",
      "**************************************************\n",
      "Ticker: CRL, MAPE: 5.72, MAE: 9.93\n",
      "**************************************************\n",
      "Ticker: CVS, MAPE: 4.28, MAE: 2.50\n",
      "**************************************************\n",
      "Ticker: DGX, MAPE: 4.49, MAE: 7.26\n",
      "**************************************************\n",
      "Ticker: DHR, MAPE: 7.48, MAE: 18.92\n",
      "**************************************************\n",
      "Ticker: DVA, MAPE: 8.73, MAE: 13.84\n",
      "**************************************************\n",
      "Ticker: DXCM, MAPE: 13.48, MAE: 10.58\n",
      "**************************************************\n",
      "Ticker: ELV, MAPE: 3.99, MAE: 18.54\n",
      "**************************************************\n",
      "Ticker: EW, MAPE: 2.86, MAE: 2.01\n",
      "**************************************************\n",
      "Ticker: GILD, MAPE: 20.70, MAE: 19.74\n",
      "**************************************************\n",
      "Ticker: HCA, MAPE: 8.44, MAE: 30.94\n",
      "**************************************************\n",
      "Ticker: HOLX, MAPE: 6.95, MAE: 5.35\n",
      "**************************************************\n",
      "Ticker: HSIC, MAPE: 3.44, MAE: 2.42\n",
      "**************************************************\n",
      "Ticker: HUM, MAPE: 3.01, MAE: 8.93\n",
      "**************************************************\n",
      "Ticker: IDXX, MAPE: 5.73, MAE: 27.23\n",
      "**************************************************\n",
      "Ticker: INCY, MAPE: 4.61, MAE: 3.02\n",
      "**************************************************\n",
      "Ticker: IQV, MAPE: 5.30, MAE: 10.52\n",
      "**************************************************\n",
      "Ticker: ISRG, MAPE: 22.45, MAE: 115.68\n",
      "**************************************************\n",
      "Ticker: JNJ, MAPE: 2.45, MAE: 3.81\n",
      "**************************************************\n",
      "Ticker: LH, MAPE: 2.49, MAE: 5.68\n",
      "**************************************************\n",
      "Ticker: LLY, MAPE: 9.69, MAE: 85.22\n",
      "**************************************************\n",
      "Ticker: MCK, MAPE: 14.58, MAE: 88.75\n",
      "**************************************************\n",
      "Ticker: MDT, MAPE: 2.64, MAE: 2.24\n",
      "**************************************************\n",
      "Ticker: MOH, MAPE: 3.70, MAE: 11.61\n",
      "**************************************************\n",
      "Ticker: MRK, MAPE: 4.20, MAE: 4.12\n",
      "**************************************************\n",
      "Ticker: MTD, MAPE: 5.04, MAE: 68.90\n",
      "**************************************************\n",
      "Ticker: PFE, MAPE: 2.04, MAE: 0.54\n",
      "**************************************************\n",
      "Ticker: PODD, MAPE: 6.35, MAE: 15.00\n",
      "**************************************************\n",
      "Ticker: REGN, MAPE: 13.24, MAE: 108.29\n",
      "**************************************************\n",
      "Ticker: RMD, MAPE: 4.52, MAE: 10.00\n",
      "**************************************************\n",
      "Ticker: RVTY, MAPE: 2.88, MAE: 3.26\n",
      "**************************************************\n",
      "Ticker: STE, MAPE: 3.67, MAE: 8.26\n",
      "**************************************************\n",
      "Ticker: SYK, MAPE: 4.98, MAE: 18.67\n",
      "**************************************************\n",
      "Ticker: TECH, MAPE: 5.84, MAE: 3.85\n",
      "**************************************************\n",
      "Ticker: TMO, MAPE: 5.93, MAE: 30.45\n",
      "**************************************************\n",
      "Ticker: UHS, MAPE: 11.67, MAE: 24.58\n",
      "**************************************************\n",
      "Ticker: UNH, MAPE: 5.78, MAE: 32.04\n",
      "**************************************************\n",
      "Ticker: VRTX, MAPE: 13.86, MAE: 66.31\n",
      "**************************************************\n",
      "Ticker: VTRS, MAPE: 8.70, MAE: 0.81\n",
      "**************************************************\n",
      "Ticker: WAT, MAPE: 6.41, MAE: 22.89\n",
      "**************************************************\n",
      "Ticker: WST, MAPE: 19.37, MAE: 47.47\n",
      "**************************************************\n",
      "Ticker: ZBH, MAPE: 2.87, MAE: 3.05\n",
      "**************************************************\n",
      "Ticker: ZTS, MAPE: 3.49, MAE: 5.96\n",
      "**************************************************\n"
     ]
    }
   ],
   "source": [
    "mapes = {}\n",
    "maes = {}\n",
    "\n",
    "for ticker in data.keys():\n",
    "    y_test = test[ticker]['close']\n",
    "    y_pred = models[ticker].predict(\n",
    "        n=len(y_test),\n",
    "        past_covariates=test[ticker][['high', 'low', 'volume', 'open']],\n",
    "        show_warnings=False\n",
    "    )\n",
    "    mape_ = mape(y_test, y_pred)\n",
    "    mae_ = mae(y_test, y_pred)\n",
    "    mapes[ticker] = mape_\n",
    "    maes[ticker] = mae_\n",
    "    print(f\"Ticker: {ticker}, MAPE: {mape_:.2f}, MAE: {mae_:.2f}\")\n",
    "    print(\"*\" * 50)"
   ]
  },
  {
   "cell_type": "code",
   "execution_count": 20,
   "id": "225f2cf2",
   "metadata": {},
   "outputs": [
    {
     "data": {
      "text/plain": [
       "(7.3685237134749375, 20.384451794129127)"
      ]
     },
     "execution_count": 20,
     "metadata": {},
     "output_type": "execute_result"
    }
   ],
   "source": [
    "np.mean(list(mapes.values())), np.mean(list(maes.values()))"
   ]
  },
  {
   "cell_type": "markdown",
   "id": "954b34fb",
   "metadata": {},
   "source": [
    "## Prophet model"
   ]
  },
  {
   "cell_type": "code",
   "execution_count": 22,
   "id": "0ca95853",
   "metadata": {},
   "outputs": [
    {
     "name": "stdout",
     "output_type": "stream",
     "text": [
      "Training model for A\n"
     ]
    },
    {
     "name": "stderr",
     "output_type": "stream",
     "text": [
      "17:03:45 - cmdstanpy - INFO - Chain [1] start processing\n",
      "17:03:48 - cmdstanpy - INFO - Chain [1] done processing\n"
     ]
    },
    {
     "name": "stdout",
     "output_type": "stream",
     "text": [
      "Model for A trained in 2.80 seconds\n",
      "**************************************************\n",
      "Training model for ABBV\n"
     ]
    },
    {
     "name": "stderr",
     "output_type": "stream",
     "text": [
      "17:03:48 - cmdstanpy - INFO - Chain [1] start processing\n",
      "17:03:51 - cmdstanpy - INFO - Chain [1] done processing\n"
     ]
    },
    {
     "name": "stdout",
     "output_type": "stream",
     "text": [
      "Model for ABBV trained in 3.22 seconds\n",
      "**************************************************\n",
      "Training model for ABT\n"
     ]
    },
    {
     "name": "stderr",
     "output_type": "stream",
     "text": [
      "17:03:51 - cmdstanpy - INFO - Chain [1] start processing\n",
      "17:03:54 - cmdstanpy - INFO - Chain [1] done processing\n"
     ]
    },
    {
     "name": "stdout",
     "output_type": "stream",
     "text": [
      "Model for ABT trained in 2.69 seconds\n",
      "**************************************************\n",
      "Training model for ALGN\n"
     ]
    },
    {
     "name": "stderr",
     "output_type": "stream",
     "text": [
      "17:03:54 - cmdstanpy - INFO - Chain [1] start processing\n",
      "17:03:57 - cmdstanpy - INFO - Chain [1] done processing\n"
     ]
    },
    {
     "name": "stdout",
     "output_type": "stream",
     "text": [
      "Model for ALGN trained in 3.26 seconds\n",
      "**************************************************\n",
      "Training model for AMGN\n"
     ]
    },
    {
     "name": "stderr",
     "output_type": "stream",
     "text": [
      "17:03:57 - cmdstanpy - INFO - Chain [1] start processing\n",
      "17:04:00 - cmdstanpy - INFO - Chain [1] done processing\n"
     ]
    },
    {
     "name": "stdout",
     "output_type": "stream",
     "text": [
      "Model for AMGN trained in 3.16 seconds\n",
      "**************************************************\n",
      "Training model for BAX\n"
     ]
    },
    {
     "name": "stderr",
     "output_type": "stream",
     "text": [
      "17:04:01 - cmdstanpy - INFO - Chain [1] start processing\n",
      "17:04:02 - cmdstanpy - INFO - Chain [1] done processing\n"
     ]
    },
    {
     "name": "stdout",
     "output_type": "stream",
     "text": [
      "Model for BAX trained in 2.01 seconds\n",
      "**************************************************\n",
      "Training model for BDX\n"
     ]
    },
    {
     "name": "stderr",
     "output_type": "stream",
     "text": [
      "17:04:03 - cmdstanpy - INFO - Chain [1] start processing\n",
      "17:04:05 - cmdstanpy - INFO - Chain [1] done processing\n"
     ]
    },
    {
     "name": "stdout",
     "output_type": "stream",
     "text": [
      "Model for BDX trained in 2.38 seconds\n",
      "**************************************************\n",
      "Training model for BIIB\n"
     ]
    },
    {
     "name": "stderr",
     "output_type": "stream",
     "text": [
      "17:04:05 - cmdstanpy - INFO - Chain [1] start processing\n",
      "17:04:07 - cmdstanpy - INFO - Chain [1] done processing\n"
     ]
    },
    {
     "name": "stdout",
     "output_type": "stream",
     "text": [
      "Model for BIIB trained in 2.14 seconds\n",
      "**************************************************\n",
      "Training model for BMY\n"
     ]
    },
    {
     "name": "stderr",
     "output_type": "stream",
     "text": [
      "17:04:07 - cmdstanpy - INFO - Chain [1] start processing\n",
      "17:04:10 - cmdstanpy - INFO - Chain [1] done processing\n"
     ]
    },
    {
     "name": "stdout",
     "output_type": "stream",
     "text": [
      "Model for BMY trained in 3.16 seconds\n",
      "**************************************************\n",
      "Training model for BSX\n"
     ]
    },
    {
     "name": "stderr",
     "output_type": "stream",
     "text": [
      "17:04:10 - cmdstanpy - INFO - Chain [1] start processing\n",
      "17:04:13 - cmdstanpy - INFO - Chain [1] done processing\n"
     ]
    },
    {
     "name": "stdout",
     "output_type": "stream",
     "text": [
      "Model for BSX trained in 3.09 seconds\n",
      "**************************************************\n",
      "Training model for CAH\n"
     ]
    },
    {
     "name": "stderr",
     "output_type": "stream",
     "text": [
      "17:04:13 - cmdstanpy - INFO - Chain [1] start processing\n",
      "17:04:16 - cmdstanpy - INFO - Chain [1] done processing\n"
     ]
    },
    {
     "name": "stdout",
     "output_type": "stream",
     "text": [
      "Model for CAH trained in 3.47 seconds\n",
      "**************************************************\n",
      "Training model for CI\n"
     ]
    },
    {
     "name": "stderr",
     "output_type": "stream",
     "text": [
      "17:04:17 - cmdstanpy - INFO - Chain [1] start processing\n",
      "17:04:19 - cmdstanpy - INFO - Chain [1] done processing\n"
     ]
    },
    {
     "name": "stdout",
     "output_type": "stream",
     "text": [
      "Model for CI trained in 2.10 seconds\n",
      "**************************************************\n",
      "Training model for CNC\n"
     ]
    },
    {
     "name": "stderr",
     "output_type": "stream",
     "text": [
      "17:04:19 - cmdstanpy - INFO - Chain [1] start processing\n",
      "17:04:21 - cmdstanpy - INFO - Chain [1] done processing\n"
     ]
    },
    {
     "name": "stdout",
     "output_type": "stream",
     "text": [
      "Model for CNC trained in 2.56 seconds\n",
      "**************************************************\n",
      "Training model for COO\n"
     ]
    },
    {
     "name": "stderr",
     "output_type": "stream",
     "text": [
      "17:04:21 - cmdstanpy - INFO - Chain [1] start processing\n",
      "17:04:24 - cmdstanpy - INFO - Chain [1] done processing\n"
     ]
    },
    {
     "name": "stdout",
     "output_type": "stream",
     "text": [
      "Model for COO trained in 2.92 seconds\n",
      "**************************************************\n",
      "Training model for COR\n"
     ]
    },
    {
     "name": "stderr",
     "output_type": "stream",
     "text": [
      "17:04:24 - cmdstanpy - INFO - Chain [1] start processing\n",
      "17:04:27 - cmdstanpy - INFO - Chain [1] done processing\n"
     ]
    },
    {
     "name": "stdout",
     "output_type": "stream",
     "text": [
      "Model for COR trained in 3.03 seconds\n",
      "**************************************************\n",
      "Training model for CRL\n"
     ]
    },
    {
     "name": "stderr",
     "output_type": "stream",
     "text": [
      "17:04:27 - cmdstanpy - INFO - Chain [1] start processing\n",
      "17:04:30 - cmdstanpy - INFO - Chain [1] done processing\n"
     ]
    },
    {
     "name": "stdout",
     "output_type": "stream",
     "text": [
      "Model for CRL trained in 2.98 seconds\n",
      "**************************************************\n",
      "Training model for CVS\n"
     ]
    },
    {
     "name": "stderr",
     "output_type": "stream",
     "text": [
      "17:04:30 - cmdstanpy - INFO - Chain [1] start processing\n",
      "17:04:33 - cmdstanpy - INFO - Chain [1] done processing\n"
     ]
    },
    {
     "name": "stdout",
     "output_type": "stream",
     "text": [
      "Model for CVS trained in 3.09 seconds\n",
      "**************************************************\n",
      "Training model for DGX\n"
     ]
    },
    {
     "name": "stderr",
     "output_type": "stream",
     "text": [
      "17:04:33 - cmdstanpy - INFO - Chain [1] start processing\n",
      "17:04:36 - cmdstanpy - INFO - Chain [1] done processing\n"
     ]
    },
    {
     "name": "stdout",
     "output_type": "stream",
     "text": [
      "Model for DGX trained in 2.73 seconds\n",
      "**************************************************\n",
      "Training model for DHR\n"
     ]
    },
    {
     "name": "stderr",
     "output_type": "stream",
     "text": [
      "17:04:36 - cmdstanpy - INFO - Chain [1] start processing\n",
      "17:04:39 - cmdstanpy - INFO - Chain [1] done processing\n"
     ]
    },
    {
     "name": "stdout",
     "output_type": "stream",
     "text": [
      "Model for DHR trained in 3.29 seconds\n",
      "**************************************************\n",
      "Training model for DVA\n"
     ]
    },
    {
     "name": "stderr",
     "output_type": "stream",
     "text": [
      "17:04:40 - cmdstanpy - INFO - Chain [1] start processing\n",
      "17:04:41 - cmdstanpy - INFO - Chain [1] done processing\n"
     ]
    },
    {
     "name": "stdout",
     "output_type": "stream",
     "text": [
      "Model for DVA trained in 2.27 seconds\n",
      "**************************************************\n",
      "Training model for DXCM\n"
     ]
    },
    {
     "name": "stderr",
     "output_type": "stream",
     "text": [
      "17:04:42 - cmdstanpy - INFO - Chain [1] start processing\n",
      "17:04:45 - cmdstanpy - INFO - Chain [1] done processing\n"
     ]
    },
    {
     "name": "stdout",
     "output_type": "stream",
     "text": [
      "Model for DXCM trained in 3.27 seconds\n",
      "**************************************************\n",
      "Training model for ELV\n"
     ]
    },
    {
     "name": "stderr",
     "output_type": "stream",
     "text": [
      "17:04:45 - cmdstanpy - INFO - Chain [1] start processing\n",
      "17:04:47 - cmdstanpy - INFO - Chain [1] done processing\n"
     ]
    },
    {
     "name": "stdout",
     "output_type": "stream",
     "text": [
      "Model for ELV trained in 2.40 seconds\n",
      "**************************************************\n",
      "Training model for EW\n"
     ]
    },
    {
     "name": "stderr",
     "output_type": "stream",
     "text": [
      "17:04:47 - cmdstanpy - INFO - Chain [1] start processing\n",
      "17:04:50 - cmdstanpy - INFO - Chain [1] done processing\n"
     ]
    },
    {
     "name": "stdout",
     "output_type": "stream",
     "text": [
      "Model for EW trained in 2.82 seconds\n",
      "**************************************************\n",
      "Training model for GILD\n"
     ]
    },
    {
     "name": "stderr",
     "output_type": "stream",
     "text": [
      "17:04:50 - cmdstanpy - INFO - Chain [1] start processing\n",
      "17:04:53 - cmdstanpy - INFO - Chain [1] done processing\n"
     ]
    },
    {
     "name": "stdout",
     "output_type": "stream",
     "text": [
      "Model for GILD trained in 2.65 seconds\n",
      "**************************************************\n",
      "Training model for HCA\n"
     ]
    },
    {
     "name": "stderr",
     "output_type": "stream",
     "text": [
      "17:04:53 - cmdstanpy - INFO - Chain [1] start processing\n",
      "17:04:56 - cmdstanpy - INFO - Chain [1] done processing\n"
     ]
    },
    {
     "name": "stdout",
     "output_type": "stream",
     "text": [
      "Model for HCA trained in 2.96 seconds\n",
      "**************************************************\n",
      "Training model for HOLX\n"
     ]
    },
    {
     "name": "stderr",
     "output_type": "stream",
     "text": [
      "17:04:56 - cmdstanpy - INFO - Chain [1] start processing\n",
      "17:04:58 - cmdstanpy - INFO - Chain [1] done processing\n"
     ]
    },
    {
     "name": "stdout",
     "output_type": "stream",
     "text": [
      "Model for HOLX trained in 2.10 seconds\n",
      "**************************************************\n",
      "Training model for HSIC\n"
     ]
    },
    {
     "name": "stderr",
     "output_type": "stream",
     "text": [
      "17:04:58 - cmdstanpy - INFO - Chain [1] start processing\n",
      "17:05:01 - cmdstanpy - INFO - Chain [1] done processing\n"
     ]
    },
    {
     "name": "stdout",
     "output_type": "stream",
     "text": [
      "Model for HSIC trained in 3.21 seconds\n",
      "**************************************************\n",
      "Training model for HUM\n"
     ]
    },
    {
     "name": "stderr",
     "output_type": "stream",
     "text": [
      "17:05:01 - cmdstanpy - INFO - Chain [1] start processing\n",
      "17:05:04 - cmdstanpy - INFO - Chain [1] done processing\n"
     ]
    },
    {
     "name": "stdout",
     "output_type": "stream",
     "text": [
      "Model for HUM trained in 2.77 seconds\n",
      "**************************************************\n",
      "Training model for IDXX\n"
     ]
    },
    {
     "name": "stderr",
     "output_type": "stream",
     "text": [
      "17:05:04 - cmdstanpy - INFO - Chain [1] start processing\n",
      "17:05:07 - cmdstanpy - INFO - Chain [1] done processing\n"
     ]
    },
    {
     "name": "stdout",
     "output_type": "stream",
     "text": [
      "Model for IDXX trained in 3.24 seconds\n",
      "**************************************************\n",
      "Training model for INCY\n"
     ]
    },
    {
     "name": "stderr",
     "output_type": "stream",
     "text": [
      "17:05:07 - cmdstanpy - INFO - Chain [1] start processing\n",
      "17:05:10 - cmdstanpy - INFO - Chain [1] done processing\n"
     ]
    },
    {
     "name": "stdout",
     "output_type": "stream",
     "text": [
      "Model for INCY trained in 3.18 seconds\n",
      "**************************************************\n",
      "Training model for IQV\n"
     ]
    },
    {
     "name": "stderr",
     "output_type": "stream",
     "text": [
      "17:05:10 - cmdstanpy - INFO - Chain [1] start processing\n",
      "17:05:12 - cmdstanpy - INFO - Chain [1] done processing\n"
     ]
    },
    {
     "name": "stdout",
     "output_type": "stream",
     "text": [
      "Model for IQV trained in 2.20 seconds\n",
      "**************************************************\n",
      "Training model for ISRG\n"
     ]
    },
    {
     "name": "stderr",
     "output_type": "stream",
     "text": [
      "17:05:13 - cmdstanpy - INFO - Chain [1] start processing\n",
      "17:05:15 - cmdstanpy - INFO - Chain [1] done processing\n"
     ]
    },
    {
     "name": "stdout",
     "output_type": "stream",
     "text": [
      "Model for ISRG trained in 2.57 seconds\n",
      "**************************************************\n",
      "Training model for JNJ\n"
     ]
    },
    {
     "name": "stderr",
     "output_type": "stream",
     "text": [
      "17:05:15 - cmdstanpy - INFO - Chain [1] start processing\n",
      "17:05:17 - cmdstanpy - INFO - Chain [1] done processing\n"
     ]
    },
    {
     "name": "stdout",
     "output_type": "stream",
     "text": [
      "Model for JNJ trained in 2.34 seconds\n",
      "**************************************************\n",
      "Training model for LH\n"
     ]
    },
    {
     "name": "stderr",
     "output_type": "stream",
     "text": [
      "17:05:17 - cmdstanpy - INFO - Chain [1] start processing\n",
      "17:05:20 - cmdstanpy - INFO - Chain [1] done processing\n"
     ]
    },
    {
     "name": "stdout",
     "output_type": "stream",
     "text": [
      "Model for LH trained in 3.27 seconds\n",
      "**************************************************\n",
      "Training model for LLY\n"
     ]
    },
    {
     "name": "stderr",
     "output_type": "stream",
     "text": [
      "17:05:21 - cmdstanpy - INFO - Chain [1] start processing\n",
      "17:05:23 - cmdstanpy - INFO - Chain [1] done processing\n"
     ]
    },
    {
     "name": "stdout",
     "output_type": "stream",
     "text": [
      "Model for LLY trained in 2.61 seconds\n",
      "**************************************************\n",
      "Training model for MCK\n"
     ]
    },
    {
     "name": "stderr",
     "output_type": "stream",
     "text": [
      "17:05:23 - cmdstanpy - INFO - Chain [1] start processing\n",
      "17:05:25 - cmdstanpy - INFO - Chain [1] done processing\n"
     ]
    },
    {
     "name": "stdout",
     "output_type": "stream",
     "text": [
      "Model for MCK trained in 2.45 seconds\n",
      "**************************************************\n",
      "Training model for MDT\n"
     ]
    },
    {
     "name": "stderr",
     "output_type": "stream",
     "text": [
      "17:05:26 - cmdstanpy - INFO - Chain [1] start processing\n",
      "17:05:29 - cmdstanpy - INFO - Chain [1] done processing\n"
     ]
    },
    {
     "name": "stdout",
     "output_type": "stream",
     "text": [
      "Model for MDT trained in 3.11 seconds\n",
      "**************************************************\n",
      "Training model for MOH\n"
     ]
    },
    {
     "name": "stderr",
     "output_type": "stream",
     "text": [
      "17:05:29 - cmdstanpy - INFO - Chain [1] start processing\n",
      "17:05:31 - cmdstanpy - INFO - Chain [1] done processing\n"
     ]
    },
    {
     "name": "stdout",
     "output_type": "stream",
     "text": [
      "Model for MOH trained in 2.34 seconds\n",
      "**************************************************\n",
      "Training model for MRK\n"
     ]
    },
    {
     "name": "stderr",
     "output_type": "stream",
     "text": [
      "17:05:31 - cmdstanpy - INFO - Chain [1] start processing\n",
      "17:05:33 - cmdstanpy - INFO - Chain [1] done processing\n"
     ]
    },
    {
     "name": "stdout",
     "output_type": "stream",
     "text": [
      "Model for MRK trained in 1.86 seconds\n",
      "**************************************************\n",
      "Training model for MTD\n"
     ]
    },
    {
     "name": "stderr",
     "output_type": "stream",
     "text": [
      "17:05:33 - cmdstanpy - INFO - Chain [1] start processing\n",
      "17:05:36 - cmdstanpy - INFO - Chain [1] done processing\n"
     ]
    },
    {
     "name": "stdout",
     "output_type": "stream",
     "text": [
      "Model for MTD trained in 2.89 seconds\n",
      "**************************************************\n",
      "Training model for PFE\n"
     ]
    },
    {
     "name": "stderr",
     "output_type": "stream",
     "text": [
      "17:05:36 - cmdstanpy - INFO - Chain [1] start processing\n",
      "17:05:38 - cmdstanpy - INFO - Chain [1] done processing\n"
     ]
    },
    {
     "name": "stdout",
     "output_type": "stream",
     "text": [
      "Model for PFE trained in 2.42 seconds\n",
      "**************************************************\n",
      "Training model for PODD\n"
     ]
    },
    {
     "name": "stderr",
     "output_type": "stream",
     "text": [
      "17:05:38 - cmdstanpy - INFO - Chain [1] start processing\n",
      "17:05:41 - cmdstanpy - INFO - Chain [1] done processing\n"
     ]
    },
    {
     "name": "stdout",
     "output_type": "stream",
     "text": [
      "Model for PODD trained in 3.21 seconds\n",
      "**************************************************\n",
      "Training model for REGN\n"
     ]
    },
    {
     "name": "stderr",
     "output_type": "stream",
     "text": [
      "17:05:42 - cmdstanpy - INFO - Chain [1] start processing\n",
      "17:05:45 - cmdstanpy - INFO - Chain [1] done processing\n"
     ]
    },
    {
     "name": "stdout",
     "output_type": "stream",
     "text": [
      "Model for REGN trained in 3.31 seconds\n",
      "**************************************************\n",
      "Training model for RMD\n"
     ]
    },
    {
     "name": "stderr",
     "output_type": "stream",
     "text": [
      "17:05:45 - cmdstanpy - INFO - Chain [1] start processing\n",
      "17:05:48 - cmdstanpy - INFO - Chain [1] done processing\n"
     ]
    },
    {
     "name": "stdout",
     "output_type": "stream",
     "text": [
      "Model for RMD trained in 3.23 seconds\n",
      "**************************************************\n",
      "Training model for RVTY\n"
     ]
    },
    {
     "name": "stderr",
     "output_type": "stream",
     "text": [
      "17:05:48 - cmdstanpy - INFO - Chain [1] start processing\n",
      "17:05:51 - cmdstanpy - INFO - Chain [1] done processing\n"
     ]
    },
    {
     "name": "stdout",
     "output_type": "stream",
     "text": [
      "Model for RVTY trained in 3.08 seconds\n",
      "**************************************************\n",
      "Training model for STE\n"
     ]
    },
    {
     "name": "stderr",
     "output_type": "stream",
     "text": [
      "17:05:51 - cmdstanpy - INFO - Chain [1] start processing\n",
      "17:05:54 - cmdstanpy - INFO - Chain [1] done processing\n"
     ]
    },
    {
     "name": "stdout",
     "output_type": "stream",
     "text": [
      "Model for STE trained in 3.10 seconds\n",
      "**************************************************\n",
      "Training model for SYK\n"
     ]
    },
    {
     "name": "stderr",
     "output_type": "stream",
     "text": [
      "17:05:54 - cmdstanpy - INFO - Chain [1] start processing\n",
      "17:05:57 - cmdstanpy - INFO - Chain [1] done processing\n"
     ]
    },
    {
     "name": "stdout",
     "output_type": "stream",
     "text": [
      "Model for SYK trained in 3.07 seconds\n",
      "**************************************************\n",
      "Training model for TECH\n"
     ]
    },
    {
     "name": "stderr",
     "output_type": "stream",
     "text": [
      "17:05:57 - cmdstanpy - INFO - Chain [1] start processing\n",
      "17:06:00 - cmdstanpy - INFO - Chain [1] done processing\n"
     ]
    },
    {
     "name": "stdout",
     "output_type": "stream",
     "text": [
      "Model for TECH trained in 3.17 seconds\n",
      "**************************************************\n",
      "Training model for TMO\n"
     ]
    },
    {
     "name": "stderr",
     "output_type": "stream",
     "text": [
      "17:06:01 - cmdstanpy - INFO - Chain [1] start processing\n",
      "17:06:03 - cmdstanpy - INFO - Chain [1] done processing\n"
     ]
    },
    {
     "name": "stdout",
     "output_type": "stream",
     "text": [
      "Model for TMO trained in 3.10 seconds\n",
      "**************************************************\n",
      "Training model for UHS\n"
     ]
    },
    {
     "name": "stderr",
     "output_type": "stream",
     "text": [
      "17:06:04 - cmdstanpy - INFO - Chain [1] start processing\n",
      "17:06:06 - cmdstanpy - INFO - Chain [1] done processing\n"
     ]
    },
    {
     "name": "stdout",
     "output_type": "stream",
     "text": [
      "Model for UHS trained in 2.79 seconds\n",
      "**************************************************\n",
      "Training model for UNH\n"
     ]
    },
    {
     "name": "stderr",
     "output_type": "stream",
     "text": [
      "17:06:06 - cmdstanpy - INFO - Chain [1] start processing\n",
      "17:06:08 - cmdstanpy - INFO - Chain [1] done processing\n"
     ]
    },
    {
     "name": "stdout",
     "output_type": "stream",
     "text": [
      "Model for UNH trained in 1.94 seconds\n",
      "**************************************************\n",
      "Training model for VRTX\n"
     ]
    },
    {
     "name": "stderr",
     "output_type": "stream",
     "text": [
      "17:06:08 - cmdstanpy - INFO - Chain [1] start processing\n",
      "17:06:11 - cmdstanpy - INFO - Chain [1] done processing\n"
     ]
    },
    {
     "name": "stdout",
     "output_type": "stream",
     "text": [
      "Model for VRTX trained in 2.68 seconds\n",
      "**************************************************\n",
      "Training model for VTRS\n"
     ]
    },
    {
     "name": "stderr",
     "output_type": "stream",
     "text": [
      "17:06:11 - cmdstanpy - INFO - Chain [1] start processing\n",
      "17:06:13 - cmdstanpy - INFO - Chain [1] done processing\n"
     ]
    },
    {
     "name": "stdout",
     "output_type": "stream",
     "text": [
      "Model for VTRS trained in 2.33 seconds\n",
      "**************************************************\n",
      "Training model for WAT\n"
     ]
    },
    {
     "name": "stderr",
     "output_type": "stream",
     "text": [
      "17:06:13 - cmdstanpy - INFO - Chain [1] start processing\n",
      "17:06:16 - cmdstanpy - INFO - Chain [1] done processing\n"
     ]
    },
    {
     "name": "stdout",
     "output_type": "stream",
     "text": [
      "Model for WAT trained in 2.80 seconds\n",
      "**************************************************\n",
      "Training model for WST\n"
     ]
    },
    {
     "name": "stderr",
     "output_type": "stream",
     "text": [
      "17:06:16 - cmdstanpy - INFO - Chain [1] start processing\n",
      "17:06:19 - cmdstanpy - INFO - Chain [1] done processing\n"
     ]
    },
    {
     "name": "stdout",
     "output_type": "stream",
     "text": [
      "Model for WST trained in 3.08 seconds\n",
      "**************************************************\n",
      "Training model for ZBH\n"
     ]
    },
    {
     "name": "stderr",
     "output_type": "stream",
     "text": [
      "17:06:19 - cmdstanpy - INFO - Chain [1] start processing\n",
      "17:06:22 - cmdstanpy - INFO - Chain [1] done processing\n"
     ]
    },
    {
     "name": "stdout",
     "output_type": "stream",
     "text": [
      "Model for ZBH trained in 3.15 seconds\n",
      "**************************************************\n",
      "Training model for ZTS\n"
     ]
    },
    {
     "name": "stderr",
     "output_type": "stream",
     "text": [
      "17:06:23 - cmdstanpy - INFO - Chain [1] start processing\n",
      "17:06:25 - cmdstanpy - INFO - Chain [1] done processing\n"
     ]
    },
    {
     "name": "stdout",
     "output_type": "stream",
     "text": [
      "Model for ZTS trained in 3.34 seconds\n",
      "**************************************************\n"
     ]
    }
   ],
   "source": [
    "models_prophet = {}\n",
    "\n",
    "for ticker in data.keys():\n",
    "    print(f\"Training model for {ticker}\")\n",
    "    start = time.time()\n",
    "    model = Prophet(\n",
    "        add_encoders={\n",
    "            'datetime_attribute': {\n",
    "                'future': ['month', 'day', 'dayofweek', 'dayofyear', 'quarter', 'year']  # automatically generate future covariates from time series\n",
    "            }\n",
    "        },\n",
    "        seasonality_mode='multiplicative',\n",
    "    )\n",
    "\n",
    "    model.fit(\n",
    "        train[ticker]['close']\n",
    "    )\n",
    "\n",
    "    end = time.time()\n",
    "    print(f\"Model for {ticker} trained in {end - start:.2f} seconds\")\n",
    "    print(\"*\" * 50)\n",
    "\n",
    "    models_prophet[ticker] = model"
   ]
  },
  {
   "cell_type": "code",
   "execution_count": 23,
   "id": "2ff81861",
   "metadata": {},
   "outputs": [
    {
     "name": "stdout",
     "output_type": "stream",
     "text": [
      "Ticker: A, MAPE: 18.08, MAE: 24.75\n",
      "**************************************************\n",
      "Ticker: ABBV, MAPE: 14.20, MAE: 26.41\n",
      "**************************************************\n",
      "Ticker: ABT, MAPE: 9.73, MAE: 11.76\n",
      "**************************************************\n",
      "Ticker: ALGN, MAPE: 30.36, MAE: 67.21\n",
      "**************************************************\n",
      "Ticker: AMGN, MAPE: 12.17, MAE: 36.99\n",
      "**************************************************\n",
      "Ticker: BAX, MAPE: 14.35, MAE: 4.88\n",
      "**************************************************\n",
      "Ticker: BDX, MAPE: 8.64, MAE: 19.80\n",
      "**************************************************\n",
      "Ticker: BIIB, MAPE: 87.30, MAE: 136.68\n",
      "**************************************************\n",
      "Ticker: BMY, MAPE: 28.48, MAE: 15.34\n",
      "**************************************************\n",
      "Ticker: BSX, MAPE: 17.46, MAE: 15.71\n",
      "**************************************************\n",
      "Ticker: CAH, MAPE: 6.89, MAE: 7.41\n",
      "**************************************************\n",
      "Ticker: CI, MAPE: 9.81, MAE: 31.09\n",
      "**************************************************\n",
      "Ticker: CNC, MAPE: 7.88, MAE: 5.39\n",
      "**************************************************\n",
      "Ticker: COO, MAPE: 12.56, MAE: 12.51\n",
      "**************************************************\n",
      "Ticker: COR, MAPE: 7.10, MAE: 16.79\n",
      "**************************************************\n",
      "Ticker: CRL, MAPE: 21.28, MAE: 32.58\n",
      "**************************************************\n",
      "Ticker: CVS, MAPE: 11.69, MAE: 6.92\n",
      "**************************************************\n",
      "Ticker: DGX, MAPE: 30.56, MAE: 47.93\n",
      "**************************************************\n",
      "Ticker: DHR, MAPE: 12.17, MAE: 29.92\n",
      "**************************************************\n",
      "Ticker: DVA, MAPE: 13.07, MAE: 20.39\n",
      "**************************************************\n",
      "Ticker: DXCM, MAPE: 14.60, MAE: 12.51\n",
      "**************************************************\n",
      "Ticker: ELV, MAPE: 15.75, MAE: 70.77\n",
      "**************************************************\n",
      "Ticker: EW, MAPE: 8.37, MAE: 6.01\n",
      "**************************************************\n",
      "Ticker: GILD, MAPE: 54.76, MAE: 50.63\n",
      "**************************************************\n",
      "Ticker: HCA, MAPE: 24.16, MAE: 84.86\n",
      "**************************************************\n",
      "Ticker: HOLX, MAPE: 26.98, MAE: 20.12\n",
      "**************************************************\n",
      "Ticker: HSIC, MAPE: 18.22, MAE: 13.04\n",
      "**************************************************\n",
      "Ticker: HUM, MAPE: 51.10, MAE: 146.93\n",
      "**************************************************\n",
      "Ticker: IDXX, MAPE: 11.06, MAE: 51.59\n",
      "**************************************************\n",
      "Ticker: INCY, MAPE: 49.40, MAE: 33.07\n",
      "**************************************************\n",
      "Ticker: IQV, MAPE: 14.36, MAE: 26.68\n",
      "**************************************************\n",
      "Ticker: ISRG, MAPE: 15.84, MAE: 82.46\n",
      "**************************************************\n",
      "Ticker: JNJ, MAPE: 6.77, MAE: 10.66\n",
      "**************************************************\n",
      "Ticker: LH, MAPE: 6.27, MAE: 14.47\n",
      "**************************************************\n",
      "Ticker: LLY, MAPE: 13.68, MAE: 112.17\n",
      "**************************************************\n",
      "Ticker: MCK, MAPE: 6.88, MAE: 39.94\n",
      "**************************************************\n",
      "Ticker: MDT, MAPE: 8.35, MAE: 7.23\n",
      "**************************************************\n",
      "Ticker: MOH, MAPE: 21.52, MAE: 65.84\n",
      "**************************************************\n",
      "Ticker: MRK, MAPE: 15.70, MAE: 15.00\n",
      "**************************************************\n",
      "Ticker: MTD, MAPE: 65.43, MAE: 854.95\n",
      "**************************************************\n",
      "Ticker: PFE, MAPE: 30.31, MAE: 8.01\n",
      "**************************************************\n",
      "Ticker: PODD, MAPE: 152.29, MAE: 370.93\n",
      "**************************************************\n",
      "Ticker: REGN, MAPE: 29.86, MAE: 230.74\n",
      "**************************************************\n",
      "Ticker: RMD, MAPE: 52.40, MAE: 121.12\n",
      "**************************************************\n",
      "Ticker: RVTY, MAPE: 33.61, MAE: 38.41\n",
      "**************************************************\n",
      "Ticker: STE, MAPE: 7.37, MAE: 16.10\n",
      "**************************************************\n",
      "Ticker: SYK, MAPE: 9.34, MAE: 34.27\n",
      "**************************************************\n",
      "Ticker: TECH, MAPE: 18.33, MAE: 13.34\n",
      "**************************************************\n",
      "Ticker: TMO, MAPE: 12.80, MAE: 71.40\n",
      "**************************************************\n",
      "Ticker: UHS, MAPE: 19.45, MAE: 40.69\n",
      "**************************************************\n",
      "Ticker: UNH, MAPE: 8.66, MAE: 47.46\n",
      "**************************************************\n",
      "Ticker: VRTX, MAPE: 6.85, MAE: 31.47\n",
      "**************************************************\n",
      "Ticker: VTRS, MAPE: 12.63, MAE: 1.24\n",
      "**************************************************\n",
      "Ticker: WAT, MAPE: 23.40, MAE: 83.89\n",
      "**************************************************\n",
      "Ticker: WST, MAPE: 51.88, MAE: 138.99\n",
      "**************************************************\n",
      "Ticker: ZBH, MAPE: 23.15, MAE: 24.77\n",
      "**************************************************\n",
      "Ticker: ZTS, MAPE: 8.93, MAE: 15.03\n",
      "**************************************************\n"
     ]
    }
   ],
   "source": [
    "mapes_prophet = {}\n",
    "maes_prophet = {}\n",
    "\n",
    "for ticker in data.keys():\n",
    "    y_test = test[ticker]['close']\n",
    "    y_pred = models_prophet[ticker].predict(\n",
    "        n=len(y_test),\n",
    "        show_warnings=False\n",
    "    )\n",
    "    mape_ = mape(y_test, y_pred)\n",
    "    mae_ = mae(y_test, y_pred)\n",
    "    mapes_prophet[ticker] = mape_\n",
    "    maes_prophet[ticker] = mae_\n",
    "    print(f\"Ticker: {ticker}, MAPE: {mape_:.2f}, MAE: {mae_:.2f}\")\n",
    "    print(\"*\" * 50)"
   ]
  },
  {
   "cell_type": "code",
   "execution_count": 24,
   "id": "1f4600c3",
   "metadata": {},
   "outputs": [
    {
     "data": {
      "text/plain": [
       "(23.232248214300924, 62.758901643799355)"
      ]
     },
     "execution_count": 24,
     "metadata": {},
     "output_type": "execute_result"
    }
   ],
   "source": [
    "np.mean(list(mapes_prophet.values())), np.mean(list(maes_prophet.values()))"
   ]
  },
  {
   "cell_type": "markdown",
   "id": "5e177a24",
   "metadata": {},
   "source": [
    "## Theta model"
   ]
  },
  {
   "cell_type": "code",
   "execution_count": 26,
   "id": "92b8127c",
   "metadata": {},
   "outputs": [
    {
     "name": "stdout",
     "output_type": "stream",
     "text": [
      "Training model for A\n",
      "Model for A trained in 1.00 seconds\n",
      "**************************************************\n",
      "Training model for ABBV\n",
      "Model for ABBV trained in 0.73 seconds\n",
      "**************************************************\n",
      "Training model for ABT\n",
      "Model for ABT trained in 1.66 seconds\n",
      "**************************************************\n",
      "Training model for ALGN\n",
      "Model for ALGN trained in 0.71 seconds\n",
      "**************************************************\n",
      "Training model for AMGN\n",
      "Model for AMGN trained in 1.06 seconds\n",
      "**************************************************\n",
      "Training model for BAX\n",
      "Model for BAX trained in 1.57 seconds\n",
      "**************************************************\n",
      "Training model for BDX\n",
      "Model for BDX trained in 1.05 seconds\n",
      "**************************************************\n",
      "Training model for BIIB\n",
      "Model for BIIB trained in 0.96 seconds\n",
      "**************************************************\n",
      "Training model for BMY\n",
      "Model for BMY trained in 0.79 seconds\n",
      "**************************************************\n",
      "Training model for BSX\n",
      "Model for BSX trained in 0.91 seconds\n",
      "**************************************************\n",
      "Training model for CAH\n",
      "Model for CAH trained in 0.92 seconds\n",
      "**************************************************\n",
      "Training model for CI\n",
      "Model for CI trained in 0.97 seconds\n",
      "**************************************************\n",
      "Training model for CNC\n",
      "Model for CNC trained in 0.96 seconds\n",
      "**************************************************\n",
      "Training model for COO\n",
      "Model for COO trained in 0.96 seconds\n",
      "**************************************************\n",
      "Training model for COR\n",
      "Model for COR trained in 0.87 seconds\n",
      "**************************************************\n",
      "Training model for CRL\n",
      "Model for CRL trained in 0.78 seconds\n",
      "**************************************************\n",
      "Training model for CVS\n",
      "Model for CVS trained in 0.75 seconds\n",
      "**************************************************\n",
      "Training model for DGX\n",
      "Model for DGX trained in 0.81 seconds\n",
      "**************************************************\n",
      "Training model for DHR\n",
      "Model for DHR trained in 0.74 seconds\n",
      "**************************************************\n",
      "Training model for DVA\n",
      "Model for DVA trained in 0.99 seconds\n",
      "**************************************************\n",
      "Training model for DXCM\n",
      "Model for DXCM trained in 0.95 seconds\n",
      "**************************************************\n",
      "Training model for ELV\n",
      "Model for ELV trained in 1.09 seconds\n",
      "**************************************************\n",
      "Training model for EW\n",
      "Model for EW trained in 0.76 seconds\n",
      "**************************************************\n",
      "Training model for GILD\n",
      "Model for GILD trained in 1.01 seconds\n",
      "**************************************************\n",
      "Training model for HCA\n",
      "Model for HCA trained in 0.87 seconds\n",
      "**************************************************\n",
      "Training model for HOLX\n",
      "Model for HOLX trained in 0.81 seconds\n",
      "**************************************************\n",
      "Training model for HSIC\n",
      "Model for HSIC trained in 0.77 seconds\n",
      "**************************************************\n",
      "Training model for HUM\n",
      "Model for HUM trained in 0.78 seconds\n",
      "**************************************************\n",
      "Training model for IDXX\n",
      "Model for IDXX trained in 0.74 seconds\n",
      "**************************************************\n",
      "Training model for INCY\n",
      "Model for INCY trained in 0.77 seconds\n",
      "**************************************************\n",
      "Training model for IQV\n",
      "Model for IQV trained in 0.78 seconds\n",
      "**************************************************\n",
      "Training model for ISRG\n",
      "Model for ISRG trained in 0.79 seconds\n",
      "**************************************************\n",
      "Training model for JNJ\n",
      "Model for JNJ trained in 0.99 seconds\n",
      "**************************************************\n",
      "Training model for LH\n",
      "Model for LH trained in 0.79 seconds\n",
      "**************************************************\n",
      "Training model for LLY\n",
      "Model for LLY trained in 0.85 seconds\n",
      "**************************************************\n",
      "Training model for MCK\n",
      "Model for MCK trained in 1.05 seconds\n",
      "**************************************************\n",
      "Training model for MDT\n",
      "Model for MDT trained in 0.91 seconds\n",
      "**************************************************\n",
      "Training model for MOH\n",
      "Model for MOH trained in 0.84 seconds\n",
      "**************************************************\n",
      "Training model for MRK\n",
      "Model for MRK trained in 1.57 seconds\n",
      "**************************************************\n",
      "Training model for MTD\n",
      "Model for MTD trained in 0.77 seconds\n",
      "**************************************************\n",
      "Training model for PFE\n",
      "Model for PFE trained in 0.70 seconds\n",
      "**************************************************\n",
      "Training model for PODD\n",
      "Model for PODD trained in 0.75 seconds\n",
      "**************************************************\n",
      "Training model for REGN\n",
      "Model for REGN trained in 0.74 seconds\n",
      "**************************************************\n",
      "Training model for RMD\n",
      "Model for RMD trained in 0.97 seconds\n",
      "**************************************************\n",
      "Training model for RVTY\n",
      "Model for RVTY trained in 0.76 seconds\n",
      "**************************************************\n",
      "Training model for STE\n",
      "Model for STE trained in 0.74 seconds\n",
      "**************************************************\n",
      "Training model for SYK\n",
      "Model for SYK trained in 0.72 seconds\n",
      "**************************************************\n",
      "Training model for TECH\n",
      "Model for TECH trained in 0.79 seconds\n",
      "**************************************************\n",
      "Training model for TMO\n",
      "Model for TMO trained in 0.82 seconds\n",
      "**************************************************\n",
      "Training model for UHS\n",
      "Model for UHS trained in 0.99 seconds\n",
      "**************************************************\n",
      "Training model for UNH\n",
      "Model for UNH trained in 0.75 seconds\n",
      "**************************************************\n",
      "Training model for VRTX\n",
      "Model for VRTX trained in 2.23 seconds\n",
      "**************************************************\n",
      "Training model for VTRS\n",
      "Model for VTRS trained in 0.74 seconds\n",
      "**************************************************\n",
      "Training model for WAT\n",
      "Model for WAT trained in 0.78 seconds\n",
      "**************************************************\n",
      "Training model for WST\n",
      "Model for WST trained in 0.77 seconds\n",
      "**************************************************\n",
      "Training model for ZBH\n",
      "Model for ZBH trained in 0.78 seconds\n",
      "**************************************************\n",
      "Training model for ZTS\n",
      "Model for ZTS trained in 0.75 seconds\n",
      "**************************************************\n"
     ]
    }
   ],
   "source": [
    "models_theta = {}\n",
    "\n",
    "for ticker in data.keys():\n",
    "    print(f\"Training model for {ticker}\")\n",
    "    start = time.time()\n",
    "    model = AutoTheta(\n",
    "        add_encoders={\n",
    "            'datetime_attribute': {\n",
    "                'future': ['month', 'day', 'dayofweek', 'dayofyear', 'quarter', 'year']  # automatically generate future covariates from time series\n",
    "            }\n",
    "        },\n",
    "        season_length=30\n",
    "    )\n",
    "\n",
    "    model.fit(\n",
    "        train[ticker]['close']\n",
    "    )\n",
    "\n",
    "    end = time.time()\n",
    "    print(f\"Model for {ticker} trained in {end - start:.2f} seconds\")\n",
    "    print(\"*\" * 50)\n",
    "\n",
    "    models_theta[ticker] = model"
   ]
  },
  {
   "cell_type": "code",
   "execution_count": 28,
   "id": "d466fb13",
   "metadata": {},
   "outputs": [
    {
     "name": "stdout",
     "output_type": "stream",
     "text": [
      "Ticker: A, MAPE: 9.96, MAE: 12.08\n",
      "**************************************************\n",
      "Ticker: ABBV, MAPE: 10.84, MAE: 20.41\n",
      "**************************************************\n",
      "Ticker: ABT, MAPE: 6.15, MAE: 7.53\n",
      "**************************************************\n",
      "Ticker: ALGN, MAPE: 39.63, MAE: 78.84\n",
      "**************************************************\n",
      "Ticker: AMGN, MAPE: 8.56, MAE: 26.26\n",
      "**************************************************\n",
      "Ticker: BAX, MAPE: 11.55, MAE: 3.66\n",
      "**************************************************\n",
      "Ticker: BDX, MAPE: 6.39, MAE: 13.85\n",
      "**************************************************\n",
      "Ticker: BIIB, MAPE: 26.75, MAE: 39.85\n",
      "**************************************************\n",
      "Ticker: BMY, MAPE: 16.87, MAE: 9.10\n",
      "**************************************************\n",
      "Ticker: BSX, MAPE: 14.91, MAE: 13.90\n",
      "**************************************************\n",
      "Ticker: CAH, MAPE: 11.63, MAE: 14.11\n",
      "**************************************************\n",
      "Ticker: CI, MAPE: 9.43, MAE: 28.58\n",
      "**************************************************\n",
      "Ticker: CNC, MAPE: 18.62, MAE: 11.46\n",
      "**************************************************\n",
      "Ticker: COO, MAPE: 9.83, MAE: 9.24\n",
      "**************************************************\n",
      "Ticker: COR, MAPE: 5.32, MAE: 13.62\n",
      "**************************************************\n",
      "Ticker: CRL, MAPE: 34.89, MAE: 56.09\n",
      "**************************************************\n",
      "Ticker: CVS, MAPE: 9.23, MAE: 5.42\n",
      "**************************************************\n",
      "Ticker: DGX, MAPE: 9.52, MAE: 15.17\n",
      "**************************************************\n",
      "Ticker: DHR, MAPE: 13.45, MAE: 29.23\n",
      "**************************************************\n",
      "Ticker: DVA, MAPE: 6.03, MAE: 9.52\n",
      "**************************************************\n",
      "Ticker: DXCM, MAPE: 69.17, MAE: 51.93\n",
      "**************************************************\n",
      "Ticker: ELV, MAPE: 20.78, MAE: 84.80\n",
      "**************************************************\n",
      "Ticker: EW, MAPE: 23.26, MAE: 16.30\n",
      "**************************************************\n",
      "Ticker: GILD, MAPE: 24.34, MAE: 23.07\n",
      "**************************************************\n",
      "Ticker: HCA, MAPE: 8.50, MAE: 30.99\n",
      "**************************************************\n",
      "Ticker: HOLX, MAPE: 11.23, MAE: 7.34\n",
      "**************************************************\n",
      "Ticker: HSIC, MAPE: 5.54, MAE: 3.98\n",
      "**************************************************\n",
      "Ticker: HUM, MAPE: 20.77, MAE: 57.76\n",
      "**************************************************\n",
      "Ticker: IDXX, MAPE: 12.93, MAE: 55.90\n",
      "**************************************************\n",
      "Ticker: INCY, MAPE: 23.97, MAE: 16.36\n",
      "**************************************************\n",
      "Ticker: IQV, MAPE: 15.88, MAE: 29.19\n",
      "**************************************************\n",
      "Ticker: ISRG, MAPE: 19.30, MAE: 99.89\n",
      "**************************************************\n",
      "Ticker: JNJ, MAPE: 4.13, MAE: 6.45\n",
      "**************************************************\n",
      "Ticker: LH, MAPE: 9.26, MAE: 21.57\n",
      "**************************************************\n",
      "Ticker: LLY, MAPE: 8.27, MAE: 72.59\n",
      "**************************************************\n",
      "Ticker: MCK, MAPE: 8.98, MAE: 54.61\n",
      "**************************************************\n",
      "Ticker: MDT, MAPE: 5.51, MAE: 4.80\n",
      "**************************************************\n",
      "Ticker: MOH, MAPE: 14.68, MAE: 44.51\n",
      "**************************************************\n",
      "Ticker: MRK, MAPE: 25.54, MAE: 24.00\n",
      "**************************************************\n",
      "Ticker: MTD, MAPE: 10.53, MAE: 134.64\n",
      "**************************************************\n",
      "Ticker: PFE, MAPE: 6.87, MAE: 1.76\n",
      "**************************************************\n",
      "Ticker: PODD, MAPE: 17.93, MAE: 45.23\n",
      "**************************************************\n",
      "Ticker: REGN, MAPE: 26.00, MAE: 194.03\n",
      "**************************************************\n",
      "Ticker: RMD, MAPE: 5.44, MAE: 12.09\n",
      "**************************************************\n",
      "Ticker: RVTY, MAPE: 9.62, MAE: 10.98\n",
      "**************************************************\n",
      "Ticker: STE, MAPE: 5.16, MAE: 11.73\n",
      "**************************************************\n",
      "Ticker: SYK, MAPE: 6.94, MAE: 25.67\n",
      "**************************************************\n",
      "Ticker: TECH, MAPE: 14.40, MAE: 8.71\n",
      "**************************************************\n",
      "Ticker: TMO, MAPE: 11.69, MAE: 58.78\n",
      "**************************************************\n",
      "Ticker: UHS, MAPE: 12.68, MAE: 26.57\n",
      "**************************************************\n",
      "Ticker: UNH, MAPE: 8.40, MAE: 44.99\n",
      "**************************************************\n",
      "Ticker: VRTX, MAPE: 11.50, MAE: 54.93\n",
      "**************************************************\n",
      "Ticker: VTRS, MAPE: 25.34, MAE: 2.91\n",
      "**************************************************\n",
      "Ticker: WAT, MAPE: 9.80, MAE: 35.80\n",
      "**************************************************\n",
      "Ticker: WST, MAPE: 35.58, MAE: 93.17\n",
      "**************************************************\n",
      "Ticker: ZBH, MAPE: 10.42, MAE: 11.00\n",
      "**************************************************\n",
      "Ticker: ZTS, MAPE: 6.82, MAE: 11.39\n",
      "**************************************************\n"
     ]
    }
   ],
   "source": [
    "mapes_theta = {}\n",
    "maes_theta = {}\n",
    "\n",
    "for ticker in data.keys():\n",
    "    y_test = test[ticker]['close']\n",
    "    y_pred = models_theta[ticker].predict(\n",
    "        n=len(y_test),\n",
    "        show_warnings=False\n",
    "    )\n",
    "    mape_ = mape(y_test, y_pred)\n",
    "    mae_ = mae(y_test, y_pred)\n",
    "    mapes_theta[ticker] = mape_\n",
    "    maes_theta[ticker] = mae_\n",
    "    print(f\"Ticker: {ticker}, MAPE: {mape_:.2f}, MAE: {mae_:.2f}\")\n",
    "    print(\"*\" * 50)"
   ]
  },
  {
   "cell_type": "code",
   "execution_count": 29,
   "id": "25979024",
   "metadata": {},
   "outputs": [
    {
     "data": {
      "text/plain": [
       "(14.8552769107906, 33.48006276291571)"
      ]
     },
     "execution_count": 29,
     "metadata": {},
     "output_type": "execute_result"
    }
   ],
   "source": [
    "np.mean(list(mapes_theta.values())), np.mean(list(maes_theta.values()))"
   ]
  },
  {
   "cell_type": "markdown",
   "id": "d147b846",
   "metadata": {},
   "source": [
    "## Linear Regression"
   ]
  },
  {
   "cell_type": "code",
   "execution_count": 32,
   "id": "a98d2d26",
   "metadata": {},
   "outputs": [
    {
     "name": "stdout",
     "output_type": "stream",
     "text": [
      "Training model for A\n",
      "Model for A trained in 0.17 seconds\n",
      "**************************************************\n",
      "Training model for ABBV\n",
      "Model for ABBV trained in 0.14 seconds\n",
      "**************************************************\n",
      "Training model for ABT\n",
      "Model for ABT trained in 0.12 seconds\n",
      "**************************************************\n",
      "Training model for ALGN\n",
      "Model for ALGN trained in 0.13 seconds\n",
      "**************************************************\n",
      "Training model for AMGN\n",
      "Model for AMGN trained in 0.30 seconds\n",
      "**************************************************\n",
      "Training model for BAX\n",
      "Model for BAX trained in 0.15 seconds\n",
      "**************************************************\n",
      "Training model for BDX\n",
      "Model for BDX trained in 0.13 seconds\n",
      "**************************************************\n",
      "Training model for BIIB\n",
      "Model for BIIB trained in 0.13 seconds\n",
      "**************************************************\n",
      "Training model for BMY\n",
      "Model for BMY trained in 0.13 seconds\n",
      "**************************************************\n",
      "Training model for BSX\n",
      "Model for BSX trained in 0.14 seconds\n",
      "**************************************************\n",
      "Training model for CAH\n",
      "Model for CAH trained in 0.13 seconds\n",
      "**************************************************\n",
      "Training model for CI\n",
      "Model for CI trained in 0.13 seconds\n",
      "**************************************************\n",
      "Training model for CNC\n",
      "Model for CNC trained in 0.15 seconds\n",
      "**************************************************\n",
      "Training model for COO\n",
      "Model for COO trained in 0.14 seconds\n",
      "**************************************************\n",
      "Training model for COR\n",
      "Model for COR trained in 0.13 seconds\n",
      "**************************************************\n",
      "Training model for CRL\n",
      "Model for CRL trained in 0.12 seconds\n",
      "**************************************************\n",
      "Training model for CVS\n",
      "Model for CVS trained in 0.12 seconds\n",
      "**************************************************\n",
      "Training model for DGX\n",
      "Model for DGX trained in 0.13 seconds\n",
      "**************************************************\n",
      "Training model for DHR\n",
      "Model for DHR trained in 0.13 seconds\n",
      "**************************************************\n",
      "Training model for DVA\n",
      "Model for DVA trained in 0.13 seconds\n",
      "**************************************************\n",
      "Training model for DXCM\n",
      "Model for DXCM trained in 0.13 seconds\n",
      "**************************************************\n",
      "Training model for ELV\n",
      "Model for ELV trained in 0.13 seconds\n",
      "**************************************************\n",
      "Training model for EW\n",
      "Model for EW trained in 0.13 seconds\n",
      "**************************************************\n",
      "Training model for GILD\n",
      "Model for GILD trained in 0.13 seconds\n",
      "**************************************************\n",
      "Training model for HCA\n",
      "Model for HCA trained in 0.12 seconds\n",
      "**************************************************\n",
      "Training model for HOLX\n",
      "Model for HOLX trained in 0.13 seconds\n",
      "**************************************************\n",
      "Training model for HSIC\n",
      "Model for HSIC trained in 0.13 seconds\n",
      "**************************************************\n",
      "Training model for HUM\n",
      "Model for HUM trained in 0.13 seconds\n",
      "**************************************************\n",
      "Training model for IDXX\n",
      "Model for IDXX trained in 0.14 seconds\n",
      "**************************************************\n",
      "Training model for INCY\n",
      "Model for INCY trained in 0.12 seconds\n",
      "**************************************************\n",
      "Training model for IQV\n",
      "Model for IQV trained in 0.12 seconds\n",
      "**************************************************\n",
      "Training model for ISRG\n",
      "Model for ISRG trained in 0.12 seconds\n",
      "**************************************************\n",
      "Training model for JNJ\n",
      "Model for JNJ trained in 0.12 seconds\n",
      "**************************************************\n",
      "Training model for LH\n",
      "Model for LH trained in 0.13 seconds\n",
      "**************************************************\n",
      "Training model for LLY\n",
      "Model for LLY trained in 0.13 seconds\n",
      "**************************************************\n",
      "Training model for MCK\n",
      "Model for MCK trained in 0.13 seconds\n",
      "**************************************************\n",
      "Training model for MDT\n",
      "Model for MDT trained in 0.15 seconds\n",
      "**************************************************\n",
      "Training model for MOH\n",
      "Model for MOH trained in 0.12 seconds\n",
      "**************************************************\n",
      "Training model for MRK\n",
      "Model for MRK trained in 0.13 seconds\n",
      "**************************************************\n",
      "Training model for MTD\n",
      "Model for MTD trained in 0.12 seconds\n",
      "**************************************************\n",
      "Training model for PFE\n",
      "Model for PFE trained in 0.13 seconds\n",
      "**************************************************\n",
      "Training model for PODD\n",
      "Model for PODD trained in 0.13 seconds\n",
      "**************************************************\n",
      "Training model for REGN\n",
      "Model for REGN trained in 0.19 seconds\n",
      "**************************************************\n",
      "Training model for RMD\n",
      "Model for RMD trained in 0.13 seconds\n",
      "**************************************************\n",
      "Training model for RVTY\n",
      "Model for RVTY trained in 0.13 seconds\n",
      "**************************************************\n",
      "Training model for STE\n",
      "Model for STE trained in 0.12 seconds\n",
      "**************************************************\n",
      "Training model for SYK\n",
      "Model for SYK trained in 0.13 seconds\n",
      "**************************************************\n",
      "Training model for TECH\n",
      "Model for TECH trained in 0.12 seconds\n",
      "**************************************************\n",
      "Training model for TMO\n",
      "Model for TMO trained in 0.13 seconds\n",
      "**************************************************\n",
      "Training model for UHS\n",
      "Model for UHS trained in 0.13 seconds\n",
      "**************************************************\n",
      "Training model for UNH\n",
      "Model for UNH trained in 0.13 seconds\n",
      "**************************************************\n",
      "Training model for VRTX\n",
      "Model for VRTX trained in 0.12 seconds\n",
      "**************************************************\n",
      "Training model for VTRS\n",
      "Model for VTRS trained in 0.13 seconds\n",
      "**************************************************\n",
      "Training model for WAT\n",
      "Model for WAT trained in 0.23 seconds\n",
      "**************************************************\n",
      "Training model for WST\n",
      "Model for WST trained in 0.14 seconds\n",
      "**************************************************\n",
      "Training model for ZBH\n",
      "Model for ZBH trained in 0.13 seconds\n",
      "**************************************************\n",
      "Training model for ZTS\n",
      "Model for ZTS trained in 0.12 seconds\n",
      "**************************************************\n"
     ]
    }
   ],
   "source": [
    "models_lr = {}\n",
    "\n",
    "for ticker in data.keys():\n",
    "    print(f\"Training model for {ticker}\")\n",
    "    start = time.time()\n",
    "    model = LinearRegressionModel(\n",
    "        lags=15,\n",
    "        lags_past_covariates=1,\n",
    "        lags_future_covariates=[0],\n",
    "        output_chunk_length=1,\n",
    "        random_state=42,\n",
    "        add_encoders={\n",
    "            'datetime_attribute': {\n",
    "                'future': ['month', 'day', 'dayofweek', 'dayofyear', 'quarter', 'year'] # automatically generate future covariates from time series\n",
    "            }\n",
    "        }\n",
    "    )\n",
    "\n",
    "    model.fit(\n",
    "        train[ticker]['close'],\n",
    "        past_covariates=train[ticker][['high', 'low', 'volume', 'open']],\n",
    "    )\n",
    "\n",
    "    end = time.time()\n",
    "    print(f\"Model for {ticker} trained in {end - start:.2f} seconds\")\n",
    "    print(\"*\" * 50)\n",
    "\n",
    "    models_lr[ticker] = model"
   ]
  },
  {
   "cell_type": "code",
   "execution_count": 33,
   "id": "79a5002a",
   "metadata": {},
   "outputs": [
    {
     "name": "stdout",
     "output_type": "stream",
     "text": [
      "Ticker: A, MAPE: 3.07, MAE: 3.97\n",
      "**************************************************\n",
      "Ticker: ABBV, MAPE: 2.75, MAE: 4.98\n",
      "**************************************************\n",
      "Ticker: ABT, MAPE: 2.15, MAE: 2.56\n",
      "**************************************************\n",
      "Ticker: ALGN, MAPE: 29254.14, MAE: 51436.61\n",
      "**************************************************\n",
      "Ticker: AMGN, MAPE: 7.21, MAE: 22.08\n",
      "**************************************************\n",
      "Ticker: BAX, MAPE: 3.55, MAE: 1.19\n",
      "**************************************************\n",
      "Ticker: BDX, MAPE: 1.81, MAE: 3.95\n",
      "**************************************************\n",
      "Ticker: BIIB, MAPE: 6.34, MAE: 10.04\n",
      "**************************************************\n",
      "Ticker: BMY, MAPE: 3.52, MAE: 1.75\n",
      "**************************************************\n",
      "Ticker: BSX, MAPE: 2.54, MAE: 2.29\n",
      "**************************************************\n",
      "Ticker: CAH, MAPE: 25.41, MAE: 31.02\n",
      "**************************************************\n",
      "Ticker: CI, MAPE: 3.13, MAE: 9.79\n",
      "**************************************************\n",
      "Ticker: CNC, MAPE: 3.71, MAE: 2.39\n",
      "**************************************************\n",
      "Ticker: COO, MAPE: 6.44, MAE: 5.81\n",
      "**************************************************\n",
      "Ticker: COR, MAPE: 4.09, MAE: 10.30\n",
      "**************************************************\n",
      "Ticker: CRL, MAPE: 16.68, MAE: 27.20\n",
      "**************************************************\n",
      "Ticker: CVS, MAPE: 3.73, MAE: 2.07\n",
      "**************************************************\n",
      "Ticker: DGX, MAPE: 1.80, MAE: 2.83\n",
      "**************************************************\n",
      "Ticker: DHR, MAPE: 2.28, MAE: 5.25\n",
      "**************************************************\n",
      "Ticker: DVA, MAPE: 5.57, MAE: 8.78\n",
      "**************************************************\n",
      "Ticker: DXCM, MAPE: 5.88, MAE: 4.48\n",
      "**************************************************\n",
      "Ticker: ELV, MAPE: 2.31, MAE: 10.11\n",
      "**************************************************\n",
      "Ticker: EW, MAPE: 3.59, MAE: 2.47\n",
      "**************************************************\n",
      "Ticker: GILD, MAPE: 41.34, MAE: 40.14\n",
      "**************************************************\n",
      "Ticker: HCA, MAPE: 12623853.57, MAE: 42242604.10\n",
      "**************************************************\n",
      "Ticker: HOLX, MAPE: 3.52, MAE: 2.39\n",
      "**************************************************\n",
      "Ticker: HSIC, MAPE: 3.79, MAE: 2.64\n",
      "**************************************************\n",
      "Ticker: HUM, MAPE: 4.35, MAE: 12.20\n",
      "**************************************************\n",
      "Ticker: IDXX, MAPE: 242273.02, MAE: 1025434.83\n",
      "**************************************************\n",
      "Ticker: INCY, MAPE: 17.42, MAE: 11.95\n",
      "**************************************************\n",
      "Ticker: IQV, MAPE: 3.43, MAE: 6.64\n",
      "**************************************************\n",
      "Ticker: ISRG, MAPE: 3.47, MAE: 17.52\n",
      "**************************************************\n",
      "Ticker: JNJ, MAPE: 4.75, MAE: 7.09\n",
      "**************************************************\n",
      "Ticker: LH, MAPE: 1.80, MAE: 4.04\n",
      "**************************************************\n",
      "Ticker: LLY, MAPE: 7.28, MAE: 59.08\n",
      "**************************************************\n",
      "Ticker: MCK, MAPE: 5.94, MAE: 34.25\n",
      "**************************************************\n",
      "Ticker: MDT, MAPE: 1.59, MAE: 1.35\n",
      "**************************************************\n",
      "Ticker: MOH, MAPE: 3.39, MAE: 10.45\n",
      "**************************************************\n",
      "Ticker: MRK, MAPE: 3.01, MAE: 2.93\n",
      "**************************************************\n",
      "Ticker: MTD, MAPE: 2.87, MAE: 37.18\n",
      "**************************************************\n",
      "Ticker: PFE, MAPE: 3.25, MAE: 0.83\n",
      "**************************************************\n",
      "Ticker: PODD, MAPE: 2.46, MAE: 5.63\n",
      "**************************************************\n",
      "Ticker: REGN, MAPE: 3.82, MAE: 31.26\n",
      "**************************************************\n",
      "Ticker: RMD, MAPE: 1499394811.37, MAE: 3373055958.39\n",
      "**************************************************\n",
      "Ticker: RVTY, MAPE: 5.19, MAE: 5.73\n",
      "**************************************************\n",
      "Ticker: STE, MAPE: 3.13, MAE: 6.90\n",
      "**************************************************\n",
      "Ticker: SYK, MAPE: 2.12, MAE: 7.71\n",
      "**************************************************\n",
      "Ticker: TECH, MAPE: 3.66, MAE: 2.48\n",
      "**************************************************\n",
      "Ticker: TMO, MAPE: 2.87, MAE: 14.96\n",
      "**************************************************\n",
      "Ticker: UHS, MAPE: 3.00, MAE: 6.01\n",
      "**************************************************\n",
      "Ticker: UNH, MAPE: 2.70, MAE: 13.68\n",
      "**************************************************\n",
      "Ticker: VRTX, MAPE: 1.79, MAE: 8.35\n",
      "**************************************************\n",
      "Ticker: VTRS, MAPE: 14.05, MAE: 1.57\n",
      "**************************************************\n",
      "Ticker: WAT, MAPE: 3.75, MAE: 13.04\n",
      "**************************************************\n",
      "Ticker: WST, MAPE: 4738958.92, MAE: 10224028.01\n",
      "**************************************************\n",
      "Ticker: ZBH, MAPE: 65.71, MAE: 69.61\n",
      "**************************************************\n",
      "Ticker: ZTS, MAPE: 3.01, MAE: 5.04\n",
      "**************************************************\n"
     ]
    }
   ],
   "source": [
    "mapes_lr = {}\n",
    "maes_lr = {}\n",
    "\n",
    "for ticker in data.keys():\n",
    "    y_test = test[ticker]['close']\n",
    "    y_pred = models_lr[ticker].predict(\n",
    "        n=len(y_test),\n",
    "        past_covariates=test[ticker][['high', 'low', 'volume', 'open']],\n",
    "        show_warnings=False\n",
    "    )\n",
    "    mape_ = mape(y_test, y_pred)\n",
    "    mae_ = mae(y_test, y_pred)\n",
    "    mapes_lr[ticker] = mape_\n",
    "    maes_lr[ticker] = mae_\n",
    "    print(f\"Ticker: {ticker}, MAPE: {mape_:.2f}, MAE: {mae_:.2f}\")\n",
    "    print(\"*\" * 50)"
   ]
  },
  {
   "cell_type": "code",
   "execution_count": 34,
   "id": "1a3fbd8d",
   "metadata": {},
   "outputs": [
    {
     "data": {
      "text/plain": [
       "(26614552.579547953, 60115790.875576)"
      ]
     },
     "execution_count": 34,
     "metadata": {},
     "output_type": "execute_result"
    }
   ],
   "source": [
    "np.mean(list(mapes_lr.values())), np.mean(list(maes_lr.values()))"
   ]
  }
 ],
 "metadata": {
  "kernelspec": {
   "display_name": ".venv",
   "language": "python",
   "name": "python3"
  },
  "language_info": {
   "codemirror_mode": {
    "name": "ipython",
    "version": 3
   },
   "file_extension": ".py",
   "mimetype": "text/x-python",
   "name": "python",
   "nbconvert_exporter": "python",
   "pygments_lexer": "ipython3",
   "version": "3.12.1"
  }
 },
 "nbformat": 4,
 "nbformat_minor": 5
}
