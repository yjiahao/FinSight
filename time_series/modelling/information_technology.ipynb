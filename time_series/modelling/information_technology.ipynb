{
 "cells": [
  {
   "cell_type": "markdown",
   "id": "a132de14",
   "metadata": {},
   "source": [
    "## Model training and tuning for the information technology sector"
   ]
  },
  {
   "cell_type": "code",
   "execution_count": 1,
   "id": "d74fe196",
   "metadata": {},
   "outputs": [
    {
     "name": "stderr",
     "output_type": "stream",
     "text": [
      "Importing plotly failed. Interactive plots will not work.\n",
      "d:\\investing-bot\\.venv\\Lib\\site-packages\\fs\\__init__.py:4: UserWarning: pkg_resources is deprecated as an API. See https://setuptools.pypa.io/en/latest/pkg_resources.html. The pkg_resources package is slated for removal as early as 2025-11-30. Refrain from using this package or pin to Setuptools<81.\n",
      "  __import__(\"pkg_resources\").declare_namespace(__name__)  # type: ignore\n"
     ]
    }
   ],
   "source": [
    "import pandas as pd\n",
    "import numpy as np\n",
    "\n",
    "import time\n",
    "\n",
    "from darts import TimeSeries, concatenate\n",
    "from darts.utils.model_selection import train_test_split\n",
    "from darts.models.forecasting.xgboost import XGBModel\n",
    "from darts.dataprocessing.transformers.scaler import Scaler\n",
    "from darts.metrics.metrics import mape, mae\n",
    "from darts.models.forecasting.prophet_model import Prophet\n",
    "from darts.models.forecasting.sf_auto_theta import AutoTheta\n",
    "from darts.models.forecasting.linear_regression_model import LinearRegressionModel\n",
    "from darts.dataprocessing.transformers import StaticCovariatesTransformer\n",
    "from darts.dataprocessing.transformers.boxcox import BoxCox"
   ]
  },
  {
   "cell_type": "code",
   "execution_count": 2,
   "id": "8c7af10f",
   "metadata": {},
   "outputs": [],
   "source": [
    "df = pd.read_csv('../../data/processed/sp500_all_companies_cleaned_with_sector.csv')\n",
    "df['date'] = pd.to_datetime(df['date'])\n",
    "\n",
    "df_tech = df[df['GICS Sector'] == 'Information Technology'].sort_values(by=['ticker', 'date']).reset_index(drop=True)"
   ]
  },
  {
   "cell_type": "code",
   "execution_count": 3,
   "id": "3a82775d",
   "metadata": {},
   "outputs": [
    {
     "data": {
      "text/plain": [
       "array(['AAPL', 'ACN', 'ADBE', 'ADI', 'ADSK', 'AKAM', 'AMAT', 'AMD',\n",
       "       'ANET', 'ANSS', 'APH', 'AVGO', 'CDNS', 'CDW', 'CRM', 'CRWD',\n",
       "       'CSCO', 'CTSH', 'DELL', 'ENPH', 'EPAM', 'FFIV', 'FICO', 'FSLR',\n",
       "       'FTNT', 'GDDY', 'GEN', 'GLW', 'HPE', 'HPQ', 'IBM', 'INTC', 'INTU',\n",
       "       'IT', 'JBL', 'JNPR', 'KEYS', 'KLAC', 'LRCX', 'MCHP', 'MPWR',\n",
       "       'MSFT', 'MSI', 'MU', 'NOW', 'NTAP', 'NVDA', 'NXPI', 'ON', 'ORCL',\n",
       "       'PANW', 'PLTR', 'PTC', 'QCOM', 'ROP', 'SMCI', 'SNPS', 'STX',\n",
       "       'SWKS', 'TDY', 'TEL', 'TER', 'TRMB', 'TXN', 'TYL', 'VRSN', 'WDAY',\n",
       "       'WDC', 'ZBRA'], dtype=object)"
      ]
     },
     "execution_count": 3,
     "metadata": {},
     "output_type": "execute_result"
    }
   ],
   "source": [
    "df_tech['ticker'].unique()"
   ]
  },
  {
   "cell_type": "code",
   "execution_count": 4,
   "id": "92847a29",
   "metadata": {},
   "outputs": [],
   "source": [
    "data = {}\n",
    "static_covs = pd.DataFrame({'ticker': df_tech['ticker'].unique()})\n",
    "\n",
    "for ticker, group in df_tech.groupby('ticker'):\n",
    "    series = TimeSeries.from_dataframe(\n",
    "        group,\n",
    "        time_col='date',\n",
    "        value_cols=['close', 'high', 'low', 'open', 'volume'],\n",
    "        freq='B',\n",
    "        static_covariates=pd.Series(ticker)\n",
    "    )\n",
    "    data[ticker] = series"
   ]
  },
  {
   "cell_type": "code",
   "execution_count": 5,
   "id": "64b0d57f",
   "metadata": {},
   "outputs": [],
   "source": [
    "# encode each ticker as a static covariate\n",
    "transformer = StaticCovariatesTransformer()\n",
    "ts = [d for d in data.values()]\n",
    "transformer.fit(ts)\n",
    "\n",
    "for ticker, series in data.items():\n",
    "    data[ticker] = transformer.transform(series)"
   ]
  },
  {
   "cell_type": "code",
   "execution_count": 6,
   "id": "8ebc137c",
   "metadata": {},
   "outputs": [],
   "source": [
    "train = {}\n",
    "test = {}\n",
    "\n",
    "for ticker, series in data.items():\n",
    "    train[ticker], test[ticker] = train_test_split(series, test_size=0.1)\n",
    "    last_train = train[ticker][-1:]\n",
    "    test_with_context = last_train.append(test[ticker]) # append last point of train to test as our forecast requires it\n",
    "    test[ticker] = test_with_context"
   ]
  },
  {
   "cell_type": "markdown",
   "id": "2ff40656",
   "metadata": {},
   "source": [
    "## Gradient Boosting"
   ]
  },
  {
   "cell_type": "markdown",
   "id": "ab5a6a61",
   "metadata": {},
   "source": [
    "### Train a local model first"
   ]
  },
  {
   "cell_type": "code",
   "execution_count": 7,
   "id": "630b92e0",
   "metadata": {},
   "outputs": [
    {
     "name": "stdout",
     "output_type": "stream",
     "text": [
      "Training model for AAPL\n",
      "Model for AAPL trained in 0.24 seconds\n",
      "**************************************************\n",
      "Training model for ACN\n",
      "Model for ACN trained in 0.25 seconds\n",
      "**************************************************\n",
      "Training model for ADBE\n",
      "Model for ADBE trained in 0.22 seconds\n",
      "**************************************************\n",
      "Training model for ADI\n",
      "Model for ADI trained in 0.27 seconds\n",
      "**************************************************\n",
      "Training model for ADSK\n",
      "Model for ADSK trained in 0.28 seconds\n",
      "**************************************************\n",
      "Training model for AKAM\n",
      "Model for AKAM trained in 0.26 seconds\n",
      "**************************************************\n",
      "Training model for AMAT\n",
      "Model for AMAT trained in 0.23 seconds\n",
      "**************************************************\n",
      "Training model for AMD\n",
      "Model for AMD trained in 0.24 seconds\n",
      "**************************************************\n",
      "Training model for ANET\n",
      "Model for ANET trained in 0.27 seconds\n",
      "**************************************************\n",
      "Training model for ANSS\n",
      "Model for ANSS trained in 0.26 seconds\n",
      "**************************************************\n",
      "Training model for APH\n",
      "Model for APH trained in 0.24 seconds\n",
      "**************************************************\n",
      "Training model for AVGO\n",
      "Model for AVGO trained in 0.25 seconds\n",
      "**************************************************\n",
      "Training model for CDNS\n",
      "Model for CDNS trained in 0.26 seconds\n",
      "**************************************************\n",
      "Training model for CDW\n",
      "Model for CDW trained in 0.23 seconds\n",
      "**************************************************\n",
      "Training model for CRM\n",
      "Model for CRM trained in 0.23 seconds\n",
      "**************************************************\n",
      "Training model for CRWD\n",
      "Model for CRWD trained in 0.21 seconds\n",
      "**************************************************\n",
      "Training model for CSCO\n",
      "Model for CSCO trained in 0.24 seconds\n",
      "**************************************************\n",
      "Training model for CTSH\n",
      "Model for CTSH trained in 0.23 seconds\n",
      "**************************************************\n",
      "Training model for DELL\n",
      "Model for DELL trained in 0.25 seconds\n",
      "**************************************************\n",
      "Training model for ENPH\n",
      "Model for ENPH trained in 0.23 seconds\n",
      "**************************************************\n",
      "Training model for EPAM\n",
      "Model for EPAM trained in 0.30 seconds\n",
      "**************************************************\n",
      "Training model for FFIV\n",
      "Model for FFIV trained in 0.30 seconds\n",
      "**************************************************\n",
      "Training model for FICO\n",
      "Model for FICO trained in 0.31 seconds\n",
      "**************************************************\n",
      "Training model for FSLR\n",
      "Model for FSLR trained in 0.29 seconds\n",
      "**************************************************\n",
      "Training model for FTNT\n",
      "Model for FTNT trained in 0.36 seconds\n",
      "**************************************************\n",
      "Training model for GDDY\n",
      "Model for GDDY trained in 0.33 seconds\n",
      "**************************************************\n",
      "Training model for GEN\n",
      "Model for GEN trained in 0.32 seconds\n",
      "**************************************************\n",
      "Training model for GLW\n",
      "Model for GLW trained in 0.33 seconds\n",
      "**************************************************\n",
      "Training model for HPE\n",
      "Model for HPE trained in 0.34 seconds\n",
      "**************************************************\n",
      "Training model for HPQ\n",
      "Model for HPQ trained in 0.29 seconds\n",
      "**************************************************\n",
      "Training model for IBM\n",
      "Model for IBM trained in 0.30 seconds\n",
      "**************************************************\n",
      "Training model for INTC\n",
      "Model for INTC trained in 0.33 seconds\n",
      "**************************************************\n",
      "Training model for INTU\n",
      "Model for INTU trained in 0.38 seconds\n",
      "**************************************************\n",
      "Training model for IT\n",
      "Model for IT trained in 0.30 seconds\n",
      "**************************************************\n",
      "Training model for JBL\n",
      "Model for JBL trained in 0.31 seconds\n",
      "**************************************************\n",
      "Training model for JNPR\n",
      "Model for JNPR trained in 0.30 seconds\n",
      "**************************************************\n",
      "Training model for KEYS\n",
      "Model for KEYS trained in 0.31 seconds\n",
      "**************************************************\n",
      "Training model for KLAC\n",
      "Model for KLAC trained in 0.27 seconds\n",
      "**************************************************\n",
      "Training model for LRCX\n",
      "Model for LRCX trained in 0.32 seconds\n",
      "**************************************************\n",
      "Training model for MCHP\n",
      "Model for MCHP trained in 0.32 seconds\n",
      "**************************************************\n",
      "Training model for MPWR\n",
      "Model for MPWR trained in 0.28 seconds\n",
      "**************************************************\n",
      "Training model for MSFT\n",
      "Model for MSFT trained in 0.36 seconds\n",
      "**************************************************\n",
      "Training model for MSI\n",
      "Model for MSI trained in 0.32 seconds\n",
      "**************************************************\n",
      "Training model for MU\n",
      "Model for MU trained in 0.29 seconds\n",
      "**************************************************\n",
      "Training model for NOW\n",
      "Model for NOW trained in 0.31 seconds\n",
      "**************************************************\n",
      "Training model for NTAP\n",
      "Model for NTAP trained in 0.32 seconds\n",
      "**************************************************\n",
      "Training model for NVDA\n",
      "Model for NVDA trained in 0.27 seconds\n",
      "**************************************************\n",
      "Training model for NXPI\n",
      "Model for NXPI trained in 0.29 seconds\n",
      "**************************************************\n",
      "Training model for ON\n",
      "Model for ON trained in 0.29 seconds\n",
      "**************************************************\n",
      "Training model for ORCL\n",
      "Model for ORCL trained in 0.26 seconds\n",
      "**************************************************\n",
      "Training model for PANW\n",
      "Model for PANW trained in 0.31 seconds\n",
      "**************************************************\n",
      "Training model for PLTR\n",
      "Model for PLTR trained in 0.25 seconds\n",
      "**************************************************\n",
      "Training model for PTC\n",
      "Model for PTC trained in 0.26 seconds\n",
      "**************************************************\n",
      "Training model for QCOM\n",
      "Model for QCOM trained in 0.32 seconds\n",
      "**************************************************\n",
      "Training model for ROP\n",
      "Model for ROP trained in 0.30 seconds\n",
      "**************************************************\n",
      "Training model for SMCI\n",
      "Model for SMCI trained in 0.26 seconds\n",
      "**************************************************\n",
      "Training model for SNPS\n",
      "Model for SNPS trained in 0.27 seconds\n",
      "**************************************************\n",
      "Training model for STX\n",
      "Model for STX trained in 0.27 seconds\n",
      "**************************************************\n",
      "Training model for SWKS\n",
      "Model for SWKS trained in 0.28 seconds\n",
      "**************************************************\n",
      "Training model for TDY\n",
      "Model for TDY trained in 0.27 seconds\n",
      "**************************************************\n",
      "Training model for TEL\n",
      "Model for TEL trained in 0.27 seconds\n",
      "**************************************************\n",
      "Training model for TER\n",
      "Model for TER trained in 0.31 seconds\n",
      "**************************************************\n",
      "Training model for TRMB\n",
      "Model for TRMB trained in 0.31 seconds\n",
      "**************************************************\n",
      "Training model for TXN\n",
      "Model for TXN trained in 0.28 seconds\n",
      "**************************************************\n",
      "Training model for TYL\n",
      "Model for TYL trained in 0.30 seconds\n",
      "**************************************************\n",
      "Training model for VRSN\n",
      "Model for VRSN trained in 0.32 seconds\n",
      "**************************************************\n",
      "Training model for WDAY\n",
      "Model for WDAY trained in 0.25 seconds\n",
      "**************************************************\n",
      "Training model for WDC\n",
      "Model for WDC trained in 0.32 seconds\n",
      "**************************************************\n",
      "Training model for ZBRA\n",
      "Model for ZBRA trained in 0.29 seconds\n",
      "**************************************************\n"
     ]
    }
   ],
   "source": [
    "models = {}\n",
    "\n",
    "for ticker in data.keys():\n",
    "    print(f\"Training model for {ticker}\")\n",
    "    start = time.time()\n",
    "    model = XGBModel(\n",
    "        lags=15,\n",
    "        lags_past_covariates=1,\n",
    "        lags_future_covariates=[0],\n",
    "        output_chunk_length=1,\n",
    "        random_state=42,\n",
    "        add_encoders={\n",
    "            'datetime_attribute': {\n",
    "                'future': ['month', 'day', 'dayofweek', 'dayofyear', 'quarter', 'year'] # automatically generate future covariates from time series\n",
    "            }\n",
    "        }\n",
    "    )\n",
    "\n",
    "    model.fit(\n",
    "        train[ticker]['close'],\n",
    "        past_covariates=train[ticker][['high', 'low', 'volume', 'open']],\n",
    "    )\n",
    "\n",
    "    end = time.time()\n",
    "    print(f\"Model for {ticker} trained in {end - start:.2f} seconds\")\n",
    "    print(\"*\" * 50)\n",
    "\n",
    "    models[ticker] = model"
   ]
  },
  {
   "cell_type": "code",
   "execution_count": 8,
   "id": "b9f91c14",
   "metadata": {},
   "outputs": [
    {
     "name": "stdout",
     "output_type": "stream",
     "text": [
      "Ticker: AAPL, MAPE: 14.19, MAE: 32.52\n",
      "**************************************************\n",
      "Ticker: ACN, MAPE: 4.27, MAE: 14.40\n",
      "**************************************************\n",
      "Ticker: ADBE, MAPE: 4.36, MAE: 21.15\n",
      "**************************************************\n",
      "Ticker: ADI, MAPE: 12.29, MAE: 27.16\n",
      "**************************************************\n",
      "Ticker: ADSK, MAPE: 25.46, MAE: 70.52\n",
      "**************************************************\n",
      "Ticker: AKAM, MAPE: 4.21, MAE: 3.78\n",
      "**************************************************\n",
      "Ticker: AMAT, MAPE: 13.95, MAE: 24.75\n",
      "**************************************************\n",
      "Ticker: AMD, MAPE: 9.37, MAE: 12.33\n",
      "**************************************************\n",
      "Ticker: ANET, MAPE: 23.06, MAE: 22.78\n",
      "**************************************************\n",
      "Ticker: ANSS, MAPE: 3.41, MAE: 11.27\n",
      "**************************************************\n",
      "Ticker: APH, MAPE: 13.84, MAE: 9.53\n",
      "**************************************************\n",
      "Ticker: AVGO, MAPE: 24.72, MAE: 47.57\n",
      "**************************************************\n",
      "Ticker: CDNS, MAPE: 7.33, MAE: 21.24\n",
      "**************************************************\n",
      "Ticker: CDW, MAPE: 7.08, MAE: 12.78\n",
      "**************************************************\n",
      "Ticker: CRM, MAPE: 7.28, MAE: 22.21\n",
      "**************************************************\n",
      "Ticker: CRWD, MAPE: 8.91, MAE: 33.08\n",
      "**************************************************\n",
      "Ticker: CSCO, MAPE: 4.82, MAE: 2.75\n",
      "**************************************************\n",
      "Ticker: CTSH, MAPE: 2.89, MAE: 2.19\n",
      "**************************************************\n",
      "Ticker: DELL, MAPE: 14.08, MAE: 14.25\n",
      "**************************************************\n",
      "Ticker: ENPH, MAPE: 40.82, MAE: 26.80\n",
      "**************************************************\n",
      "Ticker: EPAM, MAPE: 5.43, MAE: 10.62\n",
      "**************************************************\n",
      "Ticker: FFIV, MAPE: 20.39, MAE: 52.01\n",
      "**************************************************\n",
      "Ticker: FICO, MAPE: 28.86, MAE: 553.73\n",
      "**************************************************\n",
      "Ticker: FSLR, MAPE: 16.82, MAE: 30.21\n",
      "**************************************************\n",
      "Ticker: FTNT, MAPE: 36.10, MAE: 32.58\n",
      "**************************************************\n",
      "Ticker: GDDY, MAPE: 26.11, MAE: 46.77\n",
      "**************************************************\n",
      "Ticker: GEN, MAPE: 9.00, MAE: 2.48\n",
      "**************************************************\n",
      "Ticker: GLW, MAPE: 13.01, MAE: 6.09\n",
      "**************************************************\n",
      "Ticker: HPE, MAPE: 14.50, MAE: 2.96\n",
      "**************************************************\n",
      "Ticker: HPQ, MAPE: 8.57, MAE: 2.88\n",
      "**************************************************\n",
      "Ticker: IBM, MAPE: 21.78, MAE: 49.31\n",
      "**************************************************\n",
      "Ticker: INTC, MAPE: 9.20, MAE: 2.01\n",
      "**************************************************\n",
      "Ticker: INTU, MAPE: 2.84, MAE: 17.42\n",
      "**************************************************\n",
      "Ticker: IT, MAPE: 6.38, MAE: 31.64\n",
      "**************************************************\n",
      "Ticker: JBL, MAPE: 11.14, MAE: 15.43\n",
      "**************************************************\n",
      "Ticker: JNPR, MAPE: 3.53, MAE: 1.33\n",
      "**************************************************\n",
      "Ticker: KEYS, MAPE: 4.16, MAE: 6.29\n",
      "**************************************************\n",
      "Ticker: KLAC, MAPE: 8.25, MAE: 62.73\n",
      "**************************************************\n",
      "Ticker: LRCX, MAPE: 5.89, MAE: 5.16\n",
      "**************************************************\n",
      "Ticker: MCHP, MAPE: 8.67, MAE: 5.79\n",
      "**************************************************\n",
      "Ticker: MPWR, MAPE: 13.24, MAE: 104.69\n",
      "**************************************************\n",
      "Ticker: MSFT, MAPE: 4.22, MAE: 17.83\n",
      "**************************************************\n",
      "Ticker: MSI, MAPE: 19.73, MAE: 87.78\n",
      "**************************************************\n",
      "Ticker: MU, MAPE: 9.37, MAE: 9.79\n",
      "**************************************************\n",
      "Ticker: NOW, MAPE: 17.49, MAE: 169.45\n",
      "**************************************************\n",
      "Ticker: NTAP, MAPE: 15.14, MAE: 17.79\n",
      "**************************************************\n",
      "Ticker: NVDA, MAPE: 31.46, MAE: 40.20\n",
      "**************************************************\n",
      "Ticker: NXPI, MAPE: 5.31, MAE: 12.79\n",
      "**************************************************\n",
      "Ticker: ON, MAPE: 8.13, MAE: 4.55\n",
      "**************************************************\n",
      "Ticker: ORCL, MAPE: 22.82, MAE: 37.17\n",
      "**************************************************\n",
      "Ticker: PANW, MAPE: 13.62, MAE: 24.47\n",
      "**************************************************\n",
      "Ticker: PLTR, MAPE: 40.64, MAE: 37.05\n",
      "**************************************************\n",
      "Ticker: PTC, MAPE: 4.43, MAE: 7.75\n",
      "**************************************************\n",
      "Ticker: QCOM, MAPE: 6.46, MAE: 11.52\n",
      "**************************************************\n",
      "Ticker: ROP, MAPE: 3.23, MAE: 18.04\n",
      "**************************************************\n",
      "Ticker: SMCI, MAPE: 67.33, MAE: 25.11\n",
      "**************************************************\n",
      "Ticker: SNPS, MAPE: 5.45, MAE: 28.77\n",
      "**************************************************\n",
      "Ticker: STX, MAPE: 5.64, MAE: 5.46\n",
      "**************************************************\n",
      "Ticker: SWKS, MAPE: 8.79, MAE: 7.23\n",
      "**************************************************\n",
      "Ticker: TDY, MAPE: 21.28, MAE: 98.14\n",
      "**************************************************\n",
      "Ticker: TEL, MAPE: 2.34, MAE: 3.40\n",
      "**************************************************\n",
      "Ticker: TER, MAPE: 6.52, MAE: 8.12\n",
      "**************************************************\n",
      "Ticker: TRMB, MAPE: 6.57, MAE: 4.25\n",
      "**************************************************\n",
      "Ticker: TXN, MAPE: 11.81, MAE: 22.78\n",
      "**************************************************\n",
      "Ticker: TYL, MAPE: 8.93, MAE: 52.23\n",
      "**************************************************\n",
      "Ticker: VRSN, MAPE: 7.57, MAE: 17.36\n",
      "**************************************************\n",
      "Ticker: WDAY, MAPE: 3.09, MAE: 7.45\n",
      "**************************************************\n",
      "Ticker: WDC, MAPE: 5.60, MAE: 2.59\n",
      "**************************************************\n",
      "Ticker: ZBRA, MAPE: 10.95, MAE: 37.78\n",
      "**************************************************\n"
     ]
    }
   ],
   "source": [
    "mapes = {}\n",
    "maes = {}\n",
    "\n",
    "for ticker in data.keys():\n",
    "    y_test = test[ticker]['close']\n",
    "    y_pred = models[ticker].predict(\n",
    "        n=len(y_test),\n",
    "        past_covariates=test[ticker][['high', 'low', 'volume', 'open']],\n",
    "        show_warnings=False\n",
    "    )\n",
    "    mape_ = mape(y_test, y_pred)\n",
    "    mae_ = mae(y_test, y_pred)\n",
    "    mapes[ticker] = mape_\n",
    "    maes[ticker] = mae_\n",
    "    print(f\"Ticker: {ticker}, MAPE: {mape_:.2f}, MAE: {mae_:.2f}\")\n",
    "    print(\"*\" * 50)"
   ]
  },
  {
   "cell_type": "code",
   "execution_count": 9,
   "id": "225f2cf2",
   "metadata": {},
   "outputs": [
    {
     "data": {
      "text/plain": [
       "(12.958482607062324, 33.217655837182576)"
      ]
     },
     "execution_count": 9,
     "metadata": {},
     "output_type": "execute_result"
    }
   ],
   "source": [
    "np.mean(list(mapes.values())), np.mean(list(maes.values()))"
   ]
  },
  {
   "cell_type": "markdown",
   "id": "cdb475a9",
   "metadata": {},
   "source": [
    "### Global model"
   ]
  },
  {
   "cell_type": "code",
   "execution_count": 10,
   "id": "47343a36",
   "metadata": {},
   "outputs": [
    {
     "name": "stdout",
     "output_type": "stream",
     "text": [
      "Training global model\n",
      "Global model trained in 20.61 seconds\n",
      "**************************************************\n"
     ]
    }
   ],
   "source": [
    "print(f\"Training global model\")\n",
    "start = time.time()\n",
    "model = XGBModel(\n",
    "    lags=15,\n",
    "    lags_past_covariates=1,\n",
    "    lags_future_covariates=[0],\n",
    "    output_chunk_length=1,\n",
    "    random_state=42,\n",
    "    add_encoders={\n",
    "        'datetime_attribute': {\n",
    "            'future': ['month', 'day', 'dayofweek', 'dayofyear', 'quarter', 'year'] # automatically generate future covariates from time series\n",
    "        }\n",
    "    },\n",
    "    use_static_covariates=True,\n",
    "    n_estimators=1000,\n",
    "    eta=0.01,\n",
    "    max_depth=8,\n",
    "    subsample=0.8\n",
    ")\n",
    "\n",
    "model.fit(\n",
    "    [ts['close'] for ts in train.values()],\n",
    "    past_covariates=[ts[['high', 'low', 'volume', 'open']] for ts in train.values()],\n",
    ")\n",
    "\n",
    "end = time.time()\n",
    "print(f\"Global model trained in {end - start:.2f} seconds\")\n",
    "print(\"*\" * 50)"
   ]
  },
  {
   "cell_type": "code",
   "execution_count": 11,
   "id": "e80265b5",
   "metadata": {},
   "outputs": [
    {
     "name": "stdout",
     "output_type": "stream",
     "text": [
      "Global model for AAPL, MAPE: 2.67, MAE: 5.80\n",
      "**************************************************\n",
      "Global model for ACN, MAPE: 2.05, MAE: 6.80\n",
      "**************************************************\n",
      "Global model for ADBE, MAPE: 2.68, MAE: 12.74\n",
      "**************************************************\n",
      "Global model for ADI, MAPE: 3.06, MAE: 6.52\n",
      "**************************************************\n",
      "Global model for ADSK, MAPE: 2.27, MAE: 5.96\n",
      "**************************************************\n",
      "Global model for AKAM, MAPE: 3.32, MAE: 2.93\n",
      "**************************************************\n",
      "Global model for AMAT, MAPE: 3.81, MAE: 7.06\n",
      "**************************************************\n",
      "Global model for AMD, MAPE: 4.72, MAE: 5.99\n",
      "**************************************************\n",
      "Global model for ANET, MAPE: 4.80, MAE: 4.30\n",
      "**************************************************\n",
      "Global model for ANSS, MAPE: 1.59, MAE: 5.14\n",
      "**************************************************\n",
      "Global model for APH, MAPE: 3.09, MAE: 2.09\n",
      "**************************************************\n",
      "Global model for AVGO, MAPE: 5.03, MAE: 9.09\n",
      "**************************************************\n",
      "Global model for CDNS, MAPE: 2.87, MAE: 7.96\n",
      "**************************************************\n",
      "Global model for CDW, MAPE: 2.65, MAE: 5.07\n",
      "**************************************************\n",
      "Global model for CRM, MAPE: 2.56, MAE: 7.22\n",
      "**************************************************\n",
      "Global model for CRWD, MAPE: 4.22, MAE: 15.46\n",
      "**************************************************\n",
      "Global model for CSCO, MAPE: 1.98, MAE: 1.07\n",
      "**************************************************\n",
      "Global model for CTSH, MAPE: 2.56, MAE: 1.93\n",
      "**************************************************\n",
      "Global model for DELL, MAPE: 5.74, MAE: 6.12\n",
      "**************************************************\n",
      "Global model for ENPH, MAPE: 6.10, MAE: 5.07\n",
      "**************************************************\n",
      "Global model for EPAM, MAPE: 3.49, MAE: 7.06\n",
      "**************************************************\n",
      "Global model for FFIV, MAPE: 2.43, MAE: 5.60\n",
      "**************************************************\n",
      "Global model for FICO, MAPE: 33.32, MAE: 632.80\n",
      "**************************************************\n",
      "Global model for FSLR, MAPE: 4.02, MAE: 8.13\n",
      "**************************************************\n",
      "Global model for FTNT, MAPE: 4.32, MAE: 3.70\n",
      "**************************************************\n",
      "Global model for GDDY, MAPE: 2.44, MAE: 4.16\n",
      "**************************************************\n",
      "Global model for GEN, MAPE: 2.24, MAE: 0.59\n",
      "**************************************************\n",
      "Global model for GLW, MAPE: 2.94, MAE: 1.29\n",
      "**************************************************\n",
      "Global model for HPE, MAPE: 4.04, MAE: 0.76\n",
      "**************************************************\n",
      "Global model for HPQ, MAPE: 3.06, MAE: 0.97\n",
      "**************************************************\n",
      "Global model for IBM, MAPE: 2.94, MAE: 6.31\n",
      "**************************************************\n",
      "Global model for INTC, MAPE: 5.25, MAE: 1.18\n",
      "**************************************************\n",
      "Global model for INTU, MAPE: 3.61, MAE: 22.21\n",
      "**************************************************\n",
      "Global model for IT, MAPE: 2.80, MAE: 13.38\n",
      "**************************************************\n",
      "Global model for JBL, MAPE: 3.37, MAE: 4.31\n",
      "**************************************************\n",
      "Global model for JNPR, MAPE: 1.36, MAE: 0.49\n",
      "**************************************************\n",
      "Global model for KEYS, MAPE: 3.31, MAE: 5.00\n",
      "**************************************************\n",
      "Global model for KLAC, MAPE: 7.39, MAE: 56.42\n",
      "**************************************************\n",
      "Global model for LRCX, MAPE: 4.54, MAE: 3.63\n",
      "**************************************************\n",
      "Global model for MCHP, MAPE: 4.25, MAE: 2.68\n",
      "**************************************************\n",
      "Global model for MPWR, MAPE: 11.89, MAE: 93.44\n",
      "**************************************************\n",
      "Global model for MSFT, MAPE: 2.74, MAE: 11.48\n",
      "**************************************************\n",
      "Global model for MSI, MAPE: 2.15, MAE: 9.29\n",
      "**************************************************\n",
      "Global model for MU, MAPE: 6.61, MAE: 6.53\n",
      "**************************************************\n",
      "Global model for NOW, MAPE: 18.04, MAE: 175.05\n",
      "**************************************************\n",
      "Global model for NTAP, MAPE: 3.82, MAE: 4.24\n",
      "**************************************************\n",
      "Global model for NVDA, MAPE: 5.53, MAE: 6.69\n",
      "**************************************************\n",
      "Global model for NXPI, MAPE: 2.82, MAE: 6.26\n",
      "**************************************************\n",
      "Global model for ON, MAPE: 4.18, MAE: 2.47\n",
      "**************************************************\n",
      "Global model for ORCL, MAPE: 3.66, MAE: 5.63\n",
      "**************************************************\n",
      "Global model for PANW, MAPE: 2.98, MAE: 5.25\n",
      "**************************************************\n",
      "Global model for PLTR, MAPE: 7.85, MAE: 7.25\n",
      "**************************************************\n",
      "Global model for PTC, MAPE: 2.17, MAE: 3.77\n",
      "**************************************************\n",
      "Global model for QCOM, MAPE: 3.01, MAE: 5.10\n",
      "**************************************************\n",
      "Global model for ROP, MAPE: 3.04, MAE: 16.90\n",
      "**************************************************\n",
      "Global model for SMCI, MAPE: 11.34, MAE: 4.82\n",
      "**************************************************\n",
      "Global model for SNPS, MAPE: 3.37, MAE: 17.40\n",
      "**************************************************\n",
      "Global model for STX, MAPE: 4.13, MAE: 3.84\n",
      "**************************************************\n",
      "Global model for SWKS, MAPE: 4.30, MAE: 3.57\n",
      "**************************************************\n",
      "Global model for TDY, MAPE: 2.17, MAE: 9.72\n",
      "**************************************************\n",
      "Global model for TEL, MAPE: 2.03, MAE: 2.94\n",
      "**************************************************\n",
      "Global model for TER, MAPE: 4.81, MAE: 5.44\n",
      "**************************************************\n",
      "Global model for TRMB, MAPE: 2.98, MAE: 1.89\n",
      "**************************************************\n",
      "Global model for TXN, MAPE: 2.93, MAE: 5.47\n",
      "**************************************************\n",
      "Global model for TYL, MAPE: 3.37, MAE: 19.51\n",
      "**************************************************\n",
      "Global model for VRSN, MAPE: 1.97, MAE: 4.10\n",
      "**************************************************\n",
      "Global model for WDAY, MAPE: 2.68, MAE: 6.45\n",
      "**************************************************\n",
      "Global model for WDC, MAPE: 3.99, MAE: 1.88\n",
      "**************************************************\n",
      "Global model for ZBRA, MAPE: 2.70, MAE: 8.83\n",
      "**************************************************\n"
     ]
    }
   ],
   "source": [
    "mapes = {}\n",
    "maes = {}\n",
    "\n",
    "for ticker in data.keys():\n",
    "    y_pred = model.predict(\n",
    "        n=len(test[ticker]['close']),\n",
    "        series=train[ticker]['close'],\n",
    "        past_covariates=test[ticker][['high', 'low', 'volume', 'open']],\n",
    "        show_warnings=False\n",
    "    )\n",
    "    y_test = test[ticker]['close']\n",
    "    mape_ = mape(y_test, y_pred)\n",
    "    mae_ = mae(y_test, y_pred)\n",
    "\n",
    "    mapes[ticker] = mape_\n",
    "    maes[ticker] = mae_\n",
    "\n",
    "    print(f\"Global model for {ticker}, MAPE: {mape_:.2f}, MAE: {mae_:.2f}\")\n",
    "    print(\"*\" * 50)"
   ]
  },
  {
   "cell_type": "code",
   "execution_count": 12,
   "id": "954892bf",
   "metadata": {},
   "outputs": [
    {
     "data": {
      "text/plain": [
       "(4.379203092186948, 19.712977762464575)"
      ]
     },
     "execution_count": 12,
     "metadata": {},
     "output_type": "execute_result"
    }
   ],
   "source": [
    "np.mean(list(mapes.values())), np.mean(list(maes.values()))"
   ]
  },
  {
   "cell_type": "markdown",
   "id": "954b34fb",
   "metadata": {},
   "source": [
    "## Prophet model"
   ]
  },
  {
   "cell_type": "code",
   "execution_count": 13,
   "id": "0ca95853",
   "metadata": {},
   "outputs": [
    {
     "name": "stdout",
     "output_type": "stream",
     "text": [
      "Training model for AAPL\n"
     ]
    },
    {
     "name": "stderr",
     "output_type": "stream",
     "text": [
      "21:26:29 - cmdstanpy - INFO - Chain [1] start processing\n",
      "21:26:32 - cmdstanpy - INFO - Chain [1] done processing\n"
     ]
    },
    {
     "name": "stdout",
     "output_type": "stream",
     "text": [
      "Model for AAPL trained in 3.11 seconds\n",
      "**************************************************\n",
      "Training model for ACN\n"
     ]
    },
    {
     "name": "stderr",
     "output_type": "stream",
     "text": [
      "21:26:32 - cmdstanpy - INFO - Chain [1] start processing\n",
      "21:26:34 - cmdstanpy - INFO - Chain [1] done processing\n"
     ]
    },
    {
     "name": "stdout",
     "output_type": "stream",
     "text": [
      "Model for ACN trained in 2.48 seconds\n",
      "**************************************************\n",
      "Training model for ADBE\n"
     ]
    },
    {
     "name": "stderr",
     "output_type": "stream",
     "text": [
      "21:26:35 - cmdstanpy - INFO - Chain [1] start processing\n",
      "21:26:36 - cmdstanpy - INFO - Chain [1] done processing\n"
     ]
    },
    {
     "name": "stdout",
     "output_type": "stream",
     "text": [
      "Model for ADBE trained in 1.76 seconds\n",
      "**************************************************\n",
      "Training model for ADI\n"
     ]
    },
    {
     "name": "stderr",
     "output_type": "stream",
     "text": [
      "21:26:36 - cmdstanpy - INFO - Chain [1] start processing\n",
      "21:26:39 - cmdstanpy - INFO - Chain [1] done processing\n"
     ]
    },
    {
     "name": "stdout",
     "output_type": "stream",
     "text": [
      "Model for ADI trained in 2.67 seconds\n",
      "**************************************************\n",
      "Training model for ADSK\n"
     ]
    },
    {
     "name": "stderr",
     "output_type": "stream",
     "text": [
      "21:26:39 - cmdstanpy - INFO - Chain [1] start processing\n",
      "21:26:42 - cmdstanpy - INFO - Chain [1] done processing\n"
     ]
    },
    {
     "name": "stdout",
     "output_type": "stream",
     "text": [
      "Model for ADSK trained in 2.74 seconds\n",
      "**************************************************\n",
      "Training model for AKAM\n"
     ]
    },
    {
     "name": "stderr",
     "output_type": "stream",
     "text": [
      "21:26:42 - cmdstanpy - INFO - Chain [1] start processing\n",
      "21:26:45 - cmdstanpy - INFO - Chain [1] done processing\n"
     ]
    },
    {
     "name": "stdout",
     "output_type": "stream",
     "text": [
      "Model for AKAM trained in 3.20 seconds\n",
      "**************************************************\n",
      "Training model for AMAT\n"
     ]
    },
    {
     "name": "stderr",
     "output_type": "stream",
     "text": [
      "21:26:45 - cmdstanpy - INFO - Chain [1] start processing\n",
      "21:26:47 - cmdstanpy - INFO - Chain [1] done processing\n"
     ]
    },
    {
     "name": "stdout",
     "output_type": "stream",
     "text": [
      "Model for AMAT trained in 2.25 seconds\n",
      "**************************************************\n",
      "Training model for AMD\n"
     ]
    },
    {
     "name": "stderr",
     "output_type": "stream",
     "text": [
      "21:26:47 - cmdstanpy - INFO - Chain [1] start processing\n",
      "21:26:49 - cmdstanpy - INFO - Chain [1] done processing\n"
     ]
    },
    {
     "name": "stdout",
     "output_type": "stream",
     "text": [
      "Model for AMD trained in 1.83 seconds\n",
      "**************************************************\n",
      "Training model for ANET\n"
     ]
    },
    {
     "name": "stderr",
     "output_type": "stream",
     "text": [
      "21:26:49 - cmdstanpy - INFO - Chain [1] start processing\n",
      "21:26:51 - cmdstanpy - INFO - Chain [1] done processing\n"
     ]
    },
    {
     "name": "stdout",
     "output_type": "stream",
     "text": [
      "Model for ANET trained in 2.60 seconds\n",
      "**************************************************\n",
      "Training model for ANSS\n"
     ]
    },
    {
     "name": "stderr",
     "output_type": "stream",
     "text": [
      "21:26:52 - cmdstanpy - INFO - Chain [1] start processing\n",
      "21:26:54 - cmdstanpy - INFO - Chain [1] done processing\n"
     ]
    },
    {
     "name": "stdout",
     "output_type": "stream",
     "text": [
      "Model for ANSS trained in 3.12 seconds\n",
      "**************************************************\n",
      "Training model for APH\n"
     ]
    },
    {
     "name": "stderr",
     "output_type": "stream",
     "text": [
      "21:26:55 - cmdstanpy - INFO - Chain [1] start processing\n",
      "21:26:57 - cmdstanpy - INFO - Chain [1] done processing\n"
     ]
    },
    {
     "name": "stdout",
     "output_type": "stream",
     "text": [
      "Model for APH trained in 2.66 seconds\n",
      "**************************************************\n",
      "Training model for AVGO\n"
     ]
    },
    {
     "name": "stderr",
     "output_type": "stream",
     "text": [
      "21:26:57 - cmdstanpy - INFO - Chain [1] start processing\n",
      "21:26:59 - cmdstanpy - INFO - Chain [1] done processing\n"
     ]
    },
    {
     "name": "stdout",
     "output_type": "stream",
     "text": [
      "Model for AVGO trained in 2.03 seconds\n",
      "**************************************************\n",
      "Training model for CDNS\n"
     ]
    },
    {
     "name": "stderr",
     "output_type": "stream",
     "text": [
      "21:27:00 - cmdstanpy - INFO - Chain [1] start processing\n",
      "21:27:01 - cmdstanpy - INFO - Chain [1] done processing\n"
     ]
    },
    {
     "name": "stdout",
     "output_type": "stream",
     "text": [
      "Model for CDNS trained in 2.07 seconds\n",
      "**************************************************\n",
      "Training model for CDW\n"
     ]
    },
    {
     "name": "stderr",
     "output_type": "stream",
     "text": [
      "21:27:02 - cmdstanpy - INFO - Chain [1] start processing\n",
      "21:27:03 - cmdstanpy - INFO - Chain [1] done processing\n"
     ]
    },
    {
     "name": "stdout",
     "output_type": "stream",
     "text": [
      "Model for CDW trained in 1.91 seconds\n",
      "**************************************************\n",
      "Training model for CRM\n"
     ]
    },
    {
     "name": "stderr",
     "output_type": "stream",
     "text": [
      "21:27:03 - cmdstanpy - INFO - Chain [1] start processing\n",
      "21:27:06 - cmdstanpy - INFO - Chain [1] done processing\n"
     ]
    },
    {
     "name": "stdout",
     "output_type": "stream",
     "text": [
      "Model for CRM trained in 2.90 seconds\n",
      "**************************************************\n",
      "Training model for CRWD\n"
     ]
    },
    {
     "name": "stderr",
     "output_type": "stream",
     "text": [
      "21:27:06 - cmdstanpy - INFO - Chain [1] start processing\n",
      "21:27:08 - cmdstanpy - INFO - Chain [1] done processing\n"
     ]
    },
    {
     "name": "stdout",
     "output_type": "stream",
     "text": [
      "Model for CRWD trained in 1.96 seconds\n",
      "**************************************************\n",
      "Training model for CSCO\n"
     ]
    },
    {
     "name": "stderr",
     "output_type": "stream",
     "text": [
      "21:27:08 - cmdstanpy - INFO - Chain [1] start processing\n",
      "21:27:11 - cmdstanpy - INFO - Chain [1] done processing\n"
     ]
    },
    {
     "name": "stdout",
     "output_type": "stream",
     "text": [
      "Model for CSCO trained in 3.10 seconds\n",
      "**************************************************\n",
      "Training model for CTSH\n"
     ]
    },
    {
     "name": "stderr",
     "output_type": "stream",
     "text": [
      "21:27:11 - cmdstanpy - INFO - Chain [1] start processing\n",
      "21:27:14 - cmdstanpy - INFO - Chain [1] done processing\n"
     ]
    },
    {
     "name": "stdout",
     "output_type": "stream",
     "text": [
      "Model for CTSH trained in 3.11 seconds\n",
      "**************************************************\n",
      "Training model for DELL\n"
     ]
    },
    {
     "name": "stderr",
     "output_type": "stream",
     "text": [
      "21:27:15 - cmdstanpy - INFO - Chain [1] start processing\n",
      "21:27:16 - cmdstanpy - INFO - Chain [1] done processing\n"
     ]
    },
    {
     "name": "stdout",
     "output_type": "stream",
     "text": [
      "Model for DELL trained in 2.11 seconds\n",
      "**************************************************\n",
      "Training model for ENPH\n"
     ]
    },
    {
     "name": "stderr",
     "output_type": "stream",
     "text": [
      "21:27:17 - cmdstanpy - INFO - Chain [1] start processing\n",
      "21:27:19 - cmdstanpy - INFO - Chain [1] done processing\n"
     ]
    },
    {
     "name": "stdout",
     "output_type": "stream",
     "text": [
      "Model for ENPH trained in 2.33 seconds\n",
      "**************************************************\n",
      "Training model for EPAM\n"
     ]
    },
    {
     "name": "stderr",
     "output_type": "stream",
     "text": [
      "21:27:19 - cmdstanpy - INFO - Chain [1] start processing\n",
      "21:27:22 - cmdstanpy - INFO - Chain [1] done processing\n"
     ]
    },
    {
     "name": "stdout",
     "output_type": "stream",
     "text": [
      "Model for EPAM trained in 2.89 seconds\n",
      "**************************************************\n",
      "Training model for FFIV\n"
     ]
    },
    {
     "name": "stderr",
     "output_type": "stream",
     "text": [
      "21:27:22 - cmdstanpy - INFO - Chain [1] start processing\n",
      "21:27:25 - cmdstanpy - INFO - Chain [1] done processing\n"
     ]
    },
    {
     "name": "stdout",
     "output_type": "stream",
     "text": [
      "Model for FFIV trained in 3.16 seconds\n",
      "**************************************************\n",
      "Training model for FICO\n"
     ]
    },
    {
     "name": "stderr",
     "output_type": "stream",
     "text": [
      "21:27:25 - cmdstanpy - INFO - Chain [1] start processing\n",
      "21:27:27 - cmdstanpy - INFO - Chain [1] done processing\n"
     ]
    },
    {
     "name": "stdout",
     "output_type": "stream",
     "text": [
      "Model for FICO trained in 2.67 seconds\n",
      "**************************************************\n",
      "Training model for FSLR\n"
     ]
    },
    {
     "name": "stderr",
     "output_type": "stream",
     "text": [
      "21:27:28 - cmdstanpy - INFO - Chain [1] start processing\n",
      "21:27:30 - cmdstanpy - INFO - Chain [1] done processing\n"
     ]
    },
    {
     "name": "stdout",
     "output_type": "stream",
     "text": [
      "Model for FSLR trained in 3.05 seconds\n",
      "**************************************************\n",
      "Training model for FTNT\n"
     ]
    },
    {
     "name": "stderr",
     "output_type": "stream",
     "text": [
      "21:27:31 - cmdstanpy - INFO - Chain [1] start processing\n",
      "21:27:33 - cmdstanpy - INFO - Chain [1] done processing\n"
     ]
    },
    {
     "name": "stdout",
     "output_type": "stream",
     "text": [
      "Model for FTNT trained in 2.72 seconds\n",
      "**************************************************\n",
      "Training model for GDDY\n"
     ]
    },
    {
     "name": "stderr",
     "output_type": "stream",
     "text": [
      "21:27:34 - cmdstanpy - INFO - Chain [1] start processing\n",
      "21:27:36 - cmdstanpy - INFO - Chain [1] done processing\n"
     ]
    },
    {
     "name": "stdout",
     "output_type": "stream",
     "text": [
      "Model for GDDY trained in 2.98 seconds\n",
      "**************************************************\n",
      "Training model for GEN\n"
     ]
    },
    {
     "name": "stderr",
     "output_type": "stream",
     "text": [
      "21:27:36 - cmdstanpy - INFO - Chain [1] start processing\n",
      "21:27:39 - cmdstanpy - INFO - Chain [1] done processing\n"
     ]
    },
    {
     "name": "stdout",
     "output_type": "stream",
     "text": [
      "Model for GEN trained in 3.17 seconds\n",
      "**************************************************\n",
      "Training model for GLW\n"
     ]
    },
    {
     "name": "stderr",
     "output_type": "stream",
     "text": [
      "21:27:40 - cmdstanpy - INFO - Chain [1] start processing\n",
      "21:27:42 - cmdstanpy - INFO - Chain [1] done processing\n"
     ]
    },
    {
     "name": "stdout",
     "output_type": "stream",
     "text": [
      "Model for GLW trained in 3.07 seconds\n",
      "**************************************************\n",
      "Training model for HPE\n"
     ]
    },
    {
     "name": "stderr",
     "output_type": "stream",
     "text": [
      "21:27:43 - cmdstanpy - INFO - Chain [1] start processing\n",
      "21:27:45 - cmdstanpy - INFO - Chain [1] done processing\n"
     ]
    },
    {
     "name": "stdout",
     "output_type": "stream",
     "text": [
      "Model for HPE trained in 3.02 seconds\n",
      "**************************************************\n",
      "Training model for HPQ\n"
     ]
    },
    {
     "name": "stderr",
     "output_type": "stream",
     "text": [
      "21:27:46 - cmdstanpy - INFO - Chain [1] start processing\n",
      "21:27:49 - cmdstanpy - INFO - Chain [1] done processing\n"
     ]
    },
    {
     "name": "stdout",
     "output_type": "stream",
     "text": [
      "Model for HPQ trained in 3.08 seconds\n",
      "**************************************************\n",
      "Training model for IBM\n"
     ]
    },
    {
     "name": "stderr",
     "output_type": "stream",
     "text": [
      "21:27:49 - cmdstanpy - INFO - Chain [1] start processing\n",
      "21:27:51 - cmdstanpy - INFO - Chain [1] done processing\n"
     ]
    },
    {
     "name": "stdout",
     "output_type": "stream",
     "text": [
      "Model for IBM trained in 2.23 seconds\n",
      "**************************************************\n",
      "Training model for INTC\n"
     ]
    },
    {
     "name": "stderr",
     "output_type": "stream",
     "text": [
      "21:27:51 - cmdstanpy - INFO - Chain [1] start processing\n",
      "21:27:53 - cmdstanpy - INFO - Chain [1] done processing\n"
     ]
    },
    {
     "name": "stdout",
     "output_type": "stream",
     "text": [
      "Model for INTC trained in 2.23 seconds\n",
      "**************************************************\n",
      "Training model for INTU\n"
     ]
    },
    {
     "name": "stderr",
     "output_type": "stream",
     "text": [
      "21:27:53 - cmdstanpy - INFO - Chain [1] start processing\n",
      "21:27:55 - cmdstanpy - INFO - Chain [1] done processing\n"
     ]
    },
    {
     "name": "stdout",
     "output_type": "stream",
     "text": [
      "Model for INTU trained in 2.51 seconds\n",
      "**************************************************\n",
      "Training model for IT\n"
     ]
    },
    {
     "name": "stderr",
     "output_type": "stream",
     "text": [
      "21:27:56 - cmdstanpy - INFO - Chain [1] start processing\n",
      "21:27:59 - cmdstanpy - INFO - Chain [1] done processing\n"
     ]
    },
    {
     "name": "stdout",
     "output_type": "stream",
     "text": [
      "Model for IT trained in 3.12 seconds\n",
      "**************************************************\n",
      "Training model for JBL\n"
     ]
    },
    {
     "name": "stderr",
     "output_type": "stream",
     "text": [
      "21:27:59 - cmdstanpy - INFO - Chain [1] start processing\n",
      "21:28:01 - cmdstanpy - INFO - Chain [1] done processing\n"
     ]
    },
    {
     "name": "stdout",
     "output_type": "stream",
     "text": [
      "Model for JBL trained in 2.85 seconds\n",
      "**************************************************\n",
      "Training model for JNPR\n"
     ]
    },
    {
     "name": "stderr",
     "output_type": "stream",
     "text": [
      "21:28:02 - cmdstanpy - INFO - Chain [1] start processing\n",
      "21:28:05 - cmdstanpy - INFO - Chain [1] done processing\n"
     ]
    },
    {
     "name": "stdout",
     "output_type": "stream",
     "text": [
      "Model for JNPR trained in 3.16 seconds\n",
      "**************************************************\n",
      "Training model for KEYS\n"
     ]
    },
    {
     "name": "stderr",
     "output_type": "stream",
     "text": [
      "21:28:05 - cmdstanpy - INFO - Chain [1] start processing\n",
      "21:28:08 - cmdstanpy - INFO - Chain [1] done processing\n"
     ]
    },
    {
     "name": "stdout",
     "output_type": "stream",
     "text": [
      "Model for KEYS trained in 3.24 seconds\n",
      "**************************************************\n",
      "Training model for KLAC\n"
     ]
    },
    {
     "name": "stderr",
     "output_type": "stream",
     "text": [
      "21:28:08 - cmdstanpy - INFO - Chain [1] start processing\n",
      "21:28:10 - cmdstanpy - INFO - Chain [1] done processing\n"
     ]
    },
    {
     "name": "stdout",
     "output_type": "stream",
     "text": [
      "Model for KLAC trained in 2.56 seconds\n",
      "**************************************************\n",
      "Training model for LRCX\n"
     ]
    },
    {
     "name": "stderr",
     "output_type": "stream",
     "text": [
      "21:28:11 - cmdstanpy - INFO - Chain [1] start processing\n",
      "21:28:13 - cmdstanpy - INFO - Chain [1] done processing\n"
     ]
    },
    {
     "name": "stdout",
     "output_type": "stream",
     "text": [
      "Model for LRCX trained in 2.11 seconds\n",
      "**************************************************\n",
      "Training model for MCHP\n"
     ]
    },
    {
     "name": "stderr",
     "output_type": "stream",
     "text": [
      "21:28:13 - cmdstanpy - INFO - Chain [1] start processing\n",
      "21:28:15 - cmdstanpy - INFO - Chain [1] done processing\n"
     ]
    },
    {
     "name": "stdout",
     "output_type": "stream",
     "text": [
      "Model for MCHP trained in 2.58 seconds\n",
      "**************************************************\n",
      "Training model for MPWR\n"
     ]
    },
    {
     "name": "stderr",
     "output_type": "stream",
     "text": [
      "21:28:15 - cmdstanpy - INFO - Chain [1] start processing\n",
      "21:28:18 - cmdstanpy - INFO - Chain [1] done processing\n"
     ]
    },
    {
     "name": "stdout",
     "output_type": "stream",
     "text": [
      "Model for MPWR trained in 2.42 seconds\n",
      "**************************************************\n",
      "Training model for MSFT\n"
     ]
    },
    {
     "name": "stderr",
     "output_type": "stream",
     "text": [
      "21:28:18 - cmdstanpy - INFO - Chain [1] start processing\n",
      "21:28:20 - cmdstanpy - INFO - Chain [1] done processing\n"
     ]
    },
    {
     "name": "stdout",
     "output_type": "stream",
     "text": [
      "Model for MSFT trained in 2.71 seconds\n",
      "**************************************************\n",
      "Training model for MSI\n"
     ]
    },
    {
     "name": "stderr",
     "output_type": "stream",
     "text": [
      "21:28:21 - cmdstanpy - INFO - Chain [1] start processing\n",
      "21:28:23 - cmdstanpy - INFO - Chain [1] done processing\n"
     ]
    },
    {
     "name": "stdout",
     "output_type": "stream",
     "text": [
      "Model for MSI trained in 2.97 seconds\n",
      "**************************************************\n",
      "Training model for MU\n"
     ]
    },
    {
     "name": "stderr",
     "output_type": "stream",
     "text": [
      "21:28:23 - cmdstanpy - INFO - Chain [1] start processing\n",
      "21:28:26 - cmdstanpy - INFO - Chain [1] done processing\n"
     ]
    },
    {
     "name": "stdout",
     "output_type": "stream",
     "text": [
      "Model for MU trained in 3.06 seconds\n",
      "**************************************************\n",
      "Training model for NOW\n"
     ]
    },
    {
     "name": "stderr",
     "output_type": "stream",
     "text": [
      "21:28:27 - cmdstanpy - INFO - Chain [1] start processing\n",
      "21:28:28 - cmdstanpy - INFO - Chain [1] done processing\n"
     ]
    },
    {
     "name": "stdout",
     "output_type": "stream",
     "text": [
      "Model for NOW trained in 1.97 seconds\n",
      "**************************************************\n",
      "Training model for NTAP\n"
     ]
    },
    {
     "name": "stderr",
     "output_type": "stream",
     "text": [
      "21:28:29 - cmdstanpy - INFO - Chain [1] start processing\n",
      "21:28:31 - cmdstanpy - INFO - Chain [1] done processing\n"
     ]
    },
    {
     "name": "stdout",
     "output_type": "stream",
     "text": [
      "Model for NTAP trained in 3.25 seconds\n",
      "**************************************************\n",
      "Training model for NVDA\n"
     ]
    },
    {
     "name": "stderr",
     "output_type": "stream",
     "text": [
      "21:28:32 - cmdstanpy - INFO - Chain [1] start processing\n",
      "21:28:33 - cmdstanpy - INFO - Chain [1] done processing\n"
     ]
    },
    {
     "name": "stdout",
     "output_type": "stream",
     "text": [
      "Model for NVDA trained in 1.94 seconds\n",
      "**************************************************\n",
      "Training model for NXPI\n"
     ]
    },
    {
     "name": "stderr",
     "output_type": "stream",
     "text": [
      "21:28:34 - cmdstanpy - INFO - Chain [1] start processing\n",
      "21:28:36 - cmdstanpy - INFO - Chain [1] done processing\n"
     ]
    },
    {
     "name": "stdout",
     "output_type": "stream",
     "text": [
      "Model for NXPI trained in 2.26 seconds\n",
      "**************************************************\n",
      "Training model for ON\n"
     ]
    },
    {
     "name": "stderr",
     "output_type": "stream",
     "text": [
      "21:28:36 - cmdstanpy - INFO - Chain [1] start processing\n",
      "21:28:39 - cmdstanpy - INFO - Chain [1] done processing\n"
     ]
    },
    {
     "name": "stdout",
     "output_type": "stream",
     "text": [
      "Model for ON trained in 3.13 seconds\n",
      "**************************************************\n",
      "Training model for ORCL\n"
     ]
    },
    {
     "name": "stderr",
     "output_type": "stream",
     "text": [
      "21:28:39 - cmdstanpy - INFO - Chain [1] start processing\n",
      "21:28:41 - cmdstanpy - INFO - Chain [1] done processing\n"
     ]
    },
    {
     "name": "stdout",
     "output_type": "stream",
     "text": [
      "Model for ORCL trained in 2.41 seconds\n",
      "**************************************************\n",
      "Training model for PANW\n"
     ]
    },
    {
     "name": "stderr",
     "output_type": "stream",
     "text": [
      "21:28:42 - cmdstanpy - INFO - Chain [1] start processing\n",
      "21:28:44 - cmdstanpy - INFO - Chain [1] done processing\n"
     ]
    },
    {
     "name": "stdout",
     "output_type": "stream",
     "text": [
      "Model for PANW trained in 2.43 seconds\n",
      "**************************************************\n",
      "Training model for PLTR\n"
     ]
    },
    {
     "name": "stderr",
     "output_type": "stream",
     "text": [
      "21:28:44 - cmdstanpy - INFO - Chain [1] start processing\n",
      "21:28:45 - cmdstanpy - INFO - Chain [1] done processing\n"
     ]
    },
    {
     "name": "stdout",
     "output_type": "stream",
     "text": [
      "Model for PLTR trained in 1.17 seconds\n",
      "**************************************************\n",
      "Training model for PTC\n"
     ]
    },
    {
     "name": "stderr",
     "output_type": "stream",
     "text": [
      "21:28:45 - cmdstanpy - INFO - Chain [1] start processing\n",
      "21:28:48 - cmdstanpy - INFO - Chain [1] done processing\n"
     ]
    },
    {
     "name": "stdout",
     "output_type": "stream",
     "text": [
      "Model for PTC trained in 3.00 seconds\n",
      "**************************************************\n",
      "Training model for QCOM\n"
     ]
    },
    {
     "name": "stderr",
     "output_type": "stream",
     "text": [
      "21:28:48 - cmdstanpy - INFO - Chain [1] start processing\n",
      "21:28:51 - cmdstanpy - INFO - Chain [1] done processing\n"
     ]
    },
    {
     "name": "stdout",
     "output_type": "stream",
     "text": [
      "Model for QCOM trained in 2.72 seconds\n",
      "**************************************************\n",
      "Training model for ROP\n"
     ]
    },
    {
     "name": "stderr",
     "output_type": "stream",
     "text": [
      "21:28:51 - cmdstanpy - INFO - Chain [1] start processing\n",
      "21:28:53 - cmdstanpy - INFO - Chain [1] done processing\n"
     ]
    },
    {
     "name": "stdout",
     "output_type": "stream",
     "text": [
      "Model for ROP trained in 2.58 seconds\n",
      "**************************************************\n",
      "Training model for SMCI\n"
     ]
    },
    {
     "name": "stderr",
     "output_type": "stream",
     "text": [
      "21:28:53 - cmdstanpy - INFO - Chain [1] start processing\n",
      "21:28:56 - cmdstanpy - INFO - Chain [1] done processing\n"
     ]
    },
    {
     "name": "stdout",
     "output_type": "stream",
     "text": [
      "Model for SMCI trained in 3.28 seconds\n",
      "**************************************************\n",
      "Training model for SNPS\n"
     ]
    },
    {
     "name": "stderr",
     "output_type": "stream",
     "text": [
      "21:28:57 - cmdstanpy - INFO - Chain [1] start processing\n",
      "21:28:58 - cmdstanpy - INFO - Chain [1] done processing\n"
     ]
    },
    {
     "name": "stdout",
     "output_type": "stream",
     "text": [
      "Model for SNPS trained in 1.72 seconds\n",
      "**************************************************\n",
      "Training model for STX\n"
     ]
    },
    {
     "name": "stderr",
     "output_type": "stream",
     "text": [
      "21:28:58 - cmdstanpy - INFO - Chain [1] start processing\n",
      "21:29:00 - cmdstanpy - INFO - Chain [1] done processing\n"
     ]
    },
    {
     "name": "stdout",
     "output_type": "stream",
     "text": [
      "Model for STX trained in 2.12 seconds\n",
      "**************************************************\n",
      "Training model for SWKS\n"
     ]
    },
    {
     "name": "stderr",
     "output_type": "stream",
     "text": [
      "21:29:01 - cmdstanpy - INFO - Chain [1] start processing\n",
      "21:29:03 - cmdstanpy - INFO - Chain [1] done processing\n"
     ]
    },
    {
     "name": "stdout",
     "output_type": "stream",
     "text": [
      "Model for SWKS trained in 3.28 seconds\n",
      "**************************************************\n",
      "Training model for TDY\n"
     ]
    },
    {
     "name": "stderr",
     "output_type": "stream",
     "text": [
      "21:29:04 - cmdstanpy - INFO - Chain [1] start processing\n",
      "21:29:06 - cmdstanpy - INFO - Chain [1] done processing\n"
     ]
    },
    {
     "name": "stdout",
     "output_type": "stream",
     "text": [
      "Model for TDY trained in 2.64 seconds\n",
      "**************************************************\n",
      "Training model for TEL\n"
     ]
    },
    {
     "name": "stderr",
     "output_type": "stream",
     "text": [
      "21:29:06 - cmdstanpy - INFO - Chain [1] start processing\n",
      "21:29:09 - cmdstanpy - INFO - Chain [1] done processing\n"
     ]
    },
    {
     "name": "stdout",
     "output_type": "stream",
     "text": [
      "Model for TEL trained in 3.17 seconds\n",
      "**************************************************\n",
      "Training model for TER\n"
     ]
    },
    {
     "name": "stderr",
     "output_type": "stream",
     "text": [
      "21:29:10 - cmdstanpy - INFO - Chain [1] start processing\n",
      "21:29:12 - cmdstanpy - INFO - Chain [1] done processing\n"
     ]
    },
    {
     "name": "stdout",
     "output_type": "stream",
     "text": [
      "Model for TER trained in 3.15 seconds\n",
      "**************************************************\n",
      "Training model for TRMB\n"
     ]
    },
    {
     "name": "stderr",
     "output_type": "stream",
     "text": [
      "21:29:13 - cmdstanpy - INFO - Chain [1] start processing\n",
      "21:29:15 - cmdstanpy - INFO - Chain [1] done processing\n"
     ]
    },
    {
     "name": "stdout",
     "output_type": "stream",
     "text": [
      "Model for TRMB trained in 2.91 seconds\n",
      "**************************************************\n",
      "Training model for TXN\n"
     ]
    },
    {
     "name": "stderr",
     "output_type": "stream",
     "text": [
      "21:29:16 - cmdstanpy - INFO - Chain [1] start processing\n",
      "21:29:18 - cmdstanpy - INFO - Chain [1] done processing\n"
     ]
    },
    {
     "name": "stdout",
     "output_type": "stream",
     "text": [
      "Model for TXN trained in 2.52 seconds\n",
      "**************************************************\n",
      "Training model for TYL\n"
     ]
    },
    {
     "name": "stderr",
     "output_type": "stream",
     "text": [
      "21:29:18 - cmdstanpy - INFO - Chain [1] start processing\n",
      "21:29:21 - cmdstanpy - INFO - Chain [1] done processing\n"
     ]
    },
    {
     "name": "stdout",
     "output_type": "stream",
     "text": [
      "Model for TYL trained in 2.96 seconds\n",
      "**************************************************\n",
      "Training model for VRSN\n"
     ]
    },
    {
     "name": "stderr",
     "output_type": "stream",
     "text": [
      "21:29:21 - cmdstanpy - INFO - Chain [1] start processing\n",
      "21:29:24 - cmdstanpy - INFO - Chain [1] done processing\n"
     ]
    },
    {
     "name": "stdout",
     "output_type": "stream",
     "text": [
      "Model for VRSN trained in 2.71 seconds\n",
      "**************************************************\n",
      "Training model for WDAY\n"
     ]
    },
    {
     "name": "stderr",
     "output_type": "stream",
     "text": [
      "21:29:24 - cmdstanpy - INFO - Chain [1] start processing\n",
      "21:29:26 - cmdstanpy - INFO - Chain [1] done processing\n"
     ]
    },
    {
     "name": "stdout",
     "output_type": "stream",
     "text": [
      "Model for WDAY trained in 2.82 seconds\n",
      "**************************************************\n",
      "Training model for WDC\n"
     ]
    },
    {
     "name": "stderr",
     "output_type": "stream",
     "text": [
      "21:29:27 - cmdstanpy - INFO - Chain [1] start processing\n",
      "21:29:29 - cmdstanpy - INFO - Chain [1] done processing\n"
     ]
    },
    {
     "name": "stdout",
     "output_type": "stream",
     "text": [
      "Model for WDC trained in 2.90 seconds\n",
      "**************************************************\n",
      "Training model for ZBRA\n"
     ]
    },
    {
     "name": "stderr",
     "output_type": "stream",
     "text": [
      "21:29:30 - cmdstanpy - INFO - Chain [1] start processing\n",
      "21:29:32 - cmdstanpy - INFO - Chain [1] done processing\n"
     ]
    },
    {
     "name": "stdout",
     "output_type": "stream",
     "text": [
      "Model for ZBRA trained in 2.84 seconds\n",
      "**************************************************\n"
     ]
    }
   ],
   "source": [
    "models_prophet = {}\n",
    "\n",
    "for ticker in data.keys():\n",
    "    print(f\"Training model for {ticker}\")\n",
    "    start = time.time()\n",
    "    model = Prophet(\n",
    "        add_encoders={\n",
    "            'datetime_attribute': {\n",
    "                'future': ['month', 'day', 'dayofweek', 'dayofyear', 'quarter', 'year']  # automatically generate future covariates from time series\n",
    "            }\n",
    "        },\n",
    "        seasonality_mode='multiplicative',\n",
    "    )\n",
    "\n",
    "    model.fit(\n",
    "        train[ticker]['close']\n",
    "    )\n",
    "\n",
    "    end = time.time()\n",
    "    print(f\"Model for {ticker} trained in {end - start:.2f} seconds\")\n",
    "    print(\"*\" * 50)\n",
    "\n",
    "    models_prophet[ticker] = model"
   ]
  },
  {
   "cell_type": "code",
   "execution_count": 14,
   "id": "2ff81861",
   "metadata": {},
   "outputs": [
    {
     "name": "stdout",
     "output_type": "stream",
     "text": [
      "Ticker: AAPL, MAPE: 10.18, MAE: 23.60\n",
      "**************************************************\n",
      "Ticker: ACN, MAPE: 12.60, MAE: 39.40\n",
      "**************************************************\n",
      "Ticker: ADBE, MAPE: 47.09, MAE: 215.19\n",
      "**************************************************\n",
      "Ticker: ADI, MAPE: 17.42, MAE: 38.45\n",
      "**************************************************\n",
      "Ticker: ADSK, MAPE: 8.58, MAE: 23.96\n",
      "**************************************************\n",
      "Ticker: AKAM, MAPE: 34.12, MAE: 30.81\n",
      "**************************************************\n",
      "Ticker: AMAT, MAPE: 27.43, MAE: 45.54\n",
      "**************************************************\n",
      "Ticker: AMD, MAPE: 53.57, MAE: 60.85\n",
      "**************************************************\n",
      "Ticker: ANET, MAPE: 19.79, MAE: 18.46\n",
      "**************************************************\n",
      "Ticker: ANSS, MAPE: 8.56, MAE: 27.81\n",
      "**************************************************\n",
      "Ticker: APH, MAPE: 16.02, MAE: 10.90\n",
      "**************************************************\n",
      "Ticker: AVGO, MAPE: 13.82, MAE: 26.47\n",
      "**************************************************\n",
      "Ticker: CDNS, MAPE: 26.69, MAE: 72.35\n",
      "**************************************************\n",
      "Ticker: CDW, MAPE: 28.69, MAE: 50.78\n",
      "**************************************************\n",
      "Ticker: CRM, MAPE: 18.40, MAE: 48.87\n",
      "**************************************************\n",
      "Ticker: CRWD, MAPE: 28.30, MAE: 104.20\n",
      "**************************************************\n",
      "Ticker: CSCO, MAPE: 21.77, MAE: 12.61\n",
      "**************************************************\n",
      "Ticker: CTSH, MAPE: 4.49, MAE: 3.32\n",
      "**************************************************\n",
      "Ticker: DELL, MAPE: 33.83, MAE: 33.19\n",
      "**************************************************\n",
      "Ticker: ENPH, MAPE: 142.51, MAE: 107.50\n",
      "**************************************************\n",
      "Ticker: EPAM, MAPE: 10.40, MAE: 22.41\n",
      "**************************************************\n",
      "Ticker: FFIV, MAPE: 17.80, MAE: 45.59\n",
      "**************************************************\n",
      "Ticker: FICO, MAPE: 14.95, MAE: 288.85\n",
      "**************************************************\n",
      "Ticker: FSLR, MAPE: 121.03, MAE: 221.70\n",
      "**************************************************\n",
      "Ticker: FTNT, MAPE: 34.77, MAE: 30.34\n",
      "**************************************************\n",
      "Ticker: GDDY, MAPE: 33.57, MAE: 58.00\n",
      "**************************************************\n",
      "Ticker: GEN, MAPE: 27.42, MAE: 7.31\n",
      "**************************************************\n",
      "Ticker: GLW, MAPE: 35.97, MAE: 16.25\n",
      "**************************************************\n",
      "Ticker: HPE, MAPE: 19.51, MAE: 3.98\n",
      "**************************************************\n",
      "Ticker: HPQ, MAPE: 16.62, MAE: 5.57\n",
      "**************************************************\n",
      "Ticker: IBM, MAPE: 13.89, MAE: 31.49\n",
      "**************************************************\n",
      "Ticker: INTC, MAPE: 97.35, MAE: 21.61\n",
      "**************************************************\n",
      "Ticker: INTU, MAPE: 16.72, MAE: 101.64\n",
      "**************************************************\n",
      "Ticker: IT, MAPE: 9.80, MAE: 45.07\n",
      "**************************************************\n",
      "Ticker: JBL, MAPE: 32.33, MAE: 39.48\n",
      "**************************************************\n",
      "Ticker: JNPR, MAPE: 16.65, MAE: 6.19\n",
      "**************************************************\n",
      "Ticker: KEYS, MAPE: 26.26, MAE: 41.14\n",
      "**************************************************\n",
      "Ticker: KLAC, MAPE: 16.04, MAE: 114.25\n",
      "**************************************************\n",
      "Ticker: LRCX, MAPE: 34.23, MAE: 25.90\n",
      "**************************************************\n",
      "Ticker: MCHP, MAPE: 24.94, MAE: 14.11\n",
      "**************************************************\n",
      "Ticker: MPWR, MAPE: 23.45, MAE: 165.01\n",
      "**************************************************\n",
      "Ticker: MSFT, MAPE: 15.10, MAE: 60.75\n",
      "**************************************************\n",
      "Ticker: MSI, MAPE: 17.30, MAE: 76.59\n",
      "**************************************************\n",
      "Ticker: MU, MAPE: 21.12, MAE: 20.64\n",
      "**************************************************\n",
      "Ticker: NOW, MAPE: 10.23, MAE: 92.04\n",
      "**************************************************\n",
      "Ticker: NTAP, MAPE: 18.82, MAE: 21.11\n",
      "**************************************************\n",
      "Ticker: NVDA, MAPE: 25.52, MAE: 32.09\n",
      "**************************************************\n",
      "Ticker: NXPI, MAPE: 17.04, MAE: 35.93\n",
      "**************************************************\n",
      "Ticker: ON, MAPE: 32.96, MAE: 18.58\n",
      "**************************************************\n",
      "Ticker: ORCL, MAPE: 18.57, MAE: 31.02\n",
      "**************************************************\n",
      "Ticker: PANW, MAPE: 7.27, MAE: 12.54\n",
      "**************************************************\n",
      "Ticker: PLTR, MAPE: 16.62, MAE: 15.95\n",
      "**************************************************\n",
      "Ticker: PTC, MAPE: 14.55, MAE: 23.87\n",
      "**************************************************\n",
      "Ticker: QCOM, MAPE: 16.75, MAE: 29.94\n",
      "**************************************************\n",
      "Ticker: ROP, MAPE: 9.92, MAE: 54.00\n",
      "**************************************************\n",
      "Ticker: SMCI, MAPE: 324.56, MAE: 124.60\n",
      "**************************************************\n",
      "Ticker: SNPS, MAPE: 32.52, MAE: 157.01\n",
      "**************************************************\n",
      "Ticker: STX, MAPE: 14.19, MAE: 13.56\n",
      "**************************************************\n",
      "Ticker: SWKS, MAPE: 17.08, MAE: 13.00\n",
      "**************************************************\n",
      "Ticker: TDY, MAPE: 16.79, MAE: 78.43\n",
      "**************************************************\n",
      "Ticker: TEL, MAPE: 5.36, MAE: 7.78\n",
      "**************************************************\n",
      "Ticker: TER, MAPE: 19.64, MAE: 22.78\n",
      "**************************************************\n",
      "Ticker: TRMB, MAPE: 21.12, MAE: 14.25\n",
      "**************************************************\n",
      "Ticker: TXN, MAPE: 27.00, MAE: 51.62\n",
      "**************************************************\n",
      "Ticker: TYL, MAPE: 16.73, MAE: 97.73\n",
      "**************************************************\n",
      "Ticker: VRSN, MAPE: 33.34, MAE: 72.67\n",
      "**************************************************\n",
      "Ticker: WDAY, MAPE: 32.35, MAE: 78.06\n",
      "**************************************************\n",
      "Ticker: WDC, MAPE: 17.63, MAE: 8.69\n",
      "**************************************************\n",
      "Ticker: ZBRA, MAPE: 30.83, MAE: 110.48\n",
      "**************************************************\n"
     ]
    }
   ],
   "source": [
    "mapes_prophet = {}\n",
    "maes_prophet = {}\n",
    "\n",
    "for ticker in data.keys():\n",
    "    y_test = test[ticker]['close']\n",
    "    y_pred = models_prophet[ticker].predict(\n",
    "        n=len(y_test),\n",
    "        show_warnings=False\n",
    "    )\n",
    "    mape_ = mape(y_test, y_pred)\n",
    "    mae_ = mae(y_test, y_pred)\n",
    "    mapes_prophet[ticker] = mape_\n",
    "    maes_prophet[ticker] = mae_\n",
    "    print(f\"Ticker: {ticker}, MAPE: {mape_:.2f}, MAE: {mae_:.2f}\")\n",
    "    print(\"*\" * 50)"
   ]
  },
  {
   "cell_type": "code",
   "execution_count": 15,
   "id": "1f4600c3",
   "metadata": {},
   "outputs": [
    {
     "data": {
      "text/plain": [
       "(29.977753789030036, 53.273638107463555)"
      ]
     },
     "execution_count": 15,
     "metadata": {},
     "output_type": "execute_result"
    }
   ],
   "source": [
    "np.mean(list(mapes_prophet.values())), np.mean(list(maes_prophet.values()))"
   ]
  },
  {
   "cell_type": "markdown",
   "id": "5e177a24",
   "metadata": {},
   "source": [
    "## Theta model"
   ]
  },
  {
   "cell_type": "code",
   "execution_count": 16,
   "id": "92b8127c",
   "metadata": {},
   "outputs": [
    {
     "name": "stdout",
     "output_type": "stream",
     "text": [
      "Training model for AAPL\n",
      "Model for AAPL trained in 0.88 seconds\n",
      "**************************************************\n",
      "Training model for ACN\n",
      "Model for ACN trained in 0.76 seconds\n",
      "**************************************************\n",
      "Training model for ADBE\n",
      "Model for ADBE trained in 1.96 seconds\n",
      "**************************************************\n",
      "Training model for ADI\n",
      "Model for ADI trained in 1.36 seconds\n",
      "**************************************************\n",
      "Training model for ADSK\n",
      "Model for ADSK trained in 0.79 seconds\n",
      "**************************************************\n",
      "Training model for AKAM\n",
      "Model for AKAM trained in 0.69 seconds\n",
      "**************************************************\n",
      "Training model for AMAT\n",
      "Model for AMAT trained in 1.36 seconds\n",
      "**************************************************\n",
      "Training model for AMD\n",
      "Model for AMD trained in 1.14 seconds\n",
      "**************************************************\n",
      "Training model for ANET\n",
      "Model for ANET trained in 1.22 seconds\n",
      "**************************************************\n",
      "Training model for ANSS\n",
      "Model for ANSS trained in 1.64 seconds\n",
      "**************************************************\n",
      "Training model for APH\n",
      "Model for APH trained in 1.08 seconds\n",
      "**************************************************\n",
      "Training model for AVGO\n",
      "Model for AVGO trained in 1.24 seconds\n",
      "**************************************************\n",
      "Training model for CDNS\n",
      "Model for CDNS trained in 1.26 seconds\n",
      "**************************************************\n",
      "Training model for CDW\n",
      "Model for CDW trained in 1.10 seconds\n",
      "**************************************************\n",
      "Training model for CRM\n",
      "Model for CRM trained in 0.93 seconds\n",
      "**************************************************\n",
      "Training model for CRWD\n",
      "Model for CRWD trained in 0.42 seconds\n",
      "**************************************************\n",
      "Training model for CSCO\n",
      "Model for CSCO trained in 1.04 seconds\n",
      "**************************************************\n",
      "Training model for CTSH\n",
      "Model for CTSH trained in 1.27 seconds\n",
      "**************************************************\n",
      "Training model for DELL\n",
      "Model for DELL trained in 1.13 seconds\n",
      "**************************************************\n",
      "Training model for ENPH\n",
      "Model for ENPH trained in 0.80 seconds\n",
      "**************************************************\n",
      "Training model for EPAM\n",
      "Model for EPAM trained in 0.78 seconds\n",
      "**************************************************\n",
      "Training model for FFIV\n",
      "Model for FFIV trained in 0.68 seconds\n",
      "**************************************************\n",
      "Training model for FICO\n",
      "Model for FICO trained in 2.77 seconds\n",
      "**************************************************\n",
      "Training model for FSLR\n",
      "Model for FSLR trained in 0.69 seconds\n",
      "**************************************************\n",
      "Training model for FTNT\n",
      "Model for FTNT trained in 1.23 seconds\n",
      "**************************************************\n",
      "Training model for GDDY\n",
      "Model for GDDY trained in 1.10 seconds\n",
      "**************************************************\n",
      "Training model for GEN\n",
      "Model for GEN trained in 0.69 seconds\n",
      "**************************************************\n",
      "Training model for GLW\n",
      "Model for GLW trained in 0.88 seconds\n",
      "**************************************************\n",
      "Training model for HPE\n",
      "Model for HPE trained in 0.61 seconds\n",
      "**************************************************\n",
      "Training model for HPQ\n",
      "Model for HPQ trained in 0.77 seconds\n",
      "**************************************************\n",
      "Training model for IBM\n",
      "Model for IBM trained in 0.64 seconds\n",
      "**************************************************\n",
      "Training model for INTC\n",
      "Model for INTC trained in 1.40 seconds\n",
      "**************************************************\n",
      "Training model for INTU\n",
      "Model for INTU trained in 1.31 seconds\n",
      "**************************************************\n",
      "Training model for IT\n",
      "Model for IT trained in 1.13 seconds\n",
      "**************************************************\n",
      "Training model for JBL\n",
      "Model for JBL trained in 1.00 seconds\n",
      "**************************************************\n",
      "Training model for JNPR\n",
      "Model for JNPR trained in 0.65 seconds\n",
      "**************************************************\n",
      "Training model for KEYS\n",
      "Model for KEYS trained in 1.87 seconds\n",
      "**************************************************\n",
      "Training model for KLAC\n",
      "Model for KLAC trained in 1.55 seconds\n",
      "**************************************************\n",
      "Training model for LRCX\n",
      "Model for LRCX trained in 1.25 seconds\n",
      "**************************************************\n",
      "Training model for MCHP\n",
      "Model for MCHP trained in 1.24 seconds\n",
      "**************************************************\n",
      "Training model for MPWR\n",
      "Model for MPWR trained in 1.40 seconds\n",
      "**************************************************\n",
      "Training model for MSFT\n",
      "Model for MSFT trained in 2.33 seconds\n",
      "**************************************************\n",
      "Training model for MSI\n",
      "Model for MSI trained in 2.87 seconds\n",
      "**************************************************\n",
      "Training model for MU\n",
      "Model for MU trained in 0.98 seconds\n",
      "**************************************************\n",
      "Training model for NOW\n",
      "Model for NOW trained in 1.45 seconds\n",
      "**************************************************\n",
      "Training model for NTAP\n",
      "Model for NTAP trained in 0.97 seconds\n",
      "**************************************************\n",
      "Training model for NVDA\n",
      "Model for NVDA trained in 1.37 seconds\n",
      "**************************************************\n",
      "Training model for NXPI\n",
      "Model for NXPI trained in 1.87 seconds\n",
      "**************************************************\n",
      "Training model for ON\n",
      "Model for ON trained in 0.66 seconds\n",
      "**************************************************\n",
      "Training model for ORCL\n",
      "Model for ORCL trained in 1.20 seconds\n",
      "**************************************************\n",
      "Training model for PANW\n",
      "Model for PANW trained in 1.06 seconds\n",
      "**************************************************\n",
      "Training model for PLTR\n",
      "Model for PLTR trained in 0.30 seconds\n",
      "**************************************************\n",
      "Training model for PTC\n",
      "Model for PTC trained in 0.93 seconds\n",
      "**************************************************\n",
      "Training model for QCOM\n",
      "Model for QCOM trained in 1.23 seconds\n",
      "**************************************************\n",
      "Training model for ROP\n",
      "Model for ROP trained in 1.55 seconds\n",
      "**************************************************\n",
      "Training model for SMCI\n",
      "Model for SMCI trained in 1.41 seconds\n",
      "**************************************************\n",
      "Training model for SNPS\n",
      "Model for SNPS trained in 1.16 seconds\n",
      "**************************************************\n",
      "Training model for STX\n",
      "Model for STX trained in 0.75 seconds\n",
      "**************************************************\n",
      "Training model for SWKS\n",
      "Model for SWKS trained in 1.44 seconds\n",
      "**************************************************\n",
      "Training model for TDY\n",
      "Model for TDY trained in 0.85 seconds\n",
      "**************************************************\n",
      "Training model for TEL\n",
      "Model for TEL trained in 0.76 seconds\n",
      "**************************************************\n",
      "Training model for TER\n",
      "Model for TER trained in 0.88 seconds\n",
      "**************************************************\n",
      "Training model for TRMB\n",
      "Model for TRMB trained in 0.64 seconds\n",
      "**************************************************\n",
      "Training model for TXN\n",
      "Model for TXN trained in 1.39 seconds\n",
      "**************************************************\n",
      "Training model for TYL\n",
      "Model for TYL trained in 0.89 seconds\n",
      "**************************************************\n",
      "Training model for VRSN\n",
      "Model for VRSN trained in 1.40 seconds\n",
      "**************************************************\n",
      "Training model for WDAY\n",
      "Model for WDAY trained in 0.88 seconds\n",
      "**************************************************\n",
      "Training model for WDC\n",
      "Model for WDC trained in 0.66 seconds\n",
      "**************************************************\n",
      "Training model for ZBRA\n",
      "Model for ZBRA trained in 0.71 seconds\n",
      "**************************************************\n"
     ]
    }
   ],
   "source": [
    "models_theta = {}\n",
    "\n",
    "for ticker in data.keys():\n",
    "    print(f\"Training model for {ticker}\")\n",
    "    start = time.time()\n",
    "    model = AutoTheta(\n",
    "        season_length=30\n",
    "    )\n",
    "\n",
    "    model.fit(\n",
    "        series=train[ticker]['close']\n",
    "    )\n",
    "\n",
    "    end = time.time()\n",
    "    print(f\"Model for {ticker} trained in {end - start:.2f} seconds\")\n",
    "    print(\"*\" * 50)\n",
    "\n",
    "    models_theta[ticker] = model"
   ]
  },
  {
   "cell_type": "code",
   "execution_count": 17,
   "id": "d466fb13",
   "metadata": {},
   "outputs": [
    {
     "name": "stdout",
     "output_type": "stream",
     "text": [
      "Ticker: AAPL, MAPE: 18.69, MAE: 42.56\n",
      "**************************************************\n",
      "Ticker: ACN, MAPE: 9.16, MAE: 31.58\n",
      "**************************************************\n",
      "Ticker: ADBE, MAPE: 13.48, MAE: 59.17\n",
      "**************************************************\n",
      "Ticker: ADI, MAPE: 9.92, MAE: 21.79\n",
      "**************************************************\n",
      "Ticker: ADSK, MAPE: 17.34, MAE: 48.64\n",
      "**************************************************\n",
      "Ticker: AKAM, MAPE: 10.35, MAE: 8.73\n",
      "**************************************************\n",
      "Ticker: AMAT, MAPE: 15.95, MAE: 27.52\n",
      "**************************************************\n",
      "Ticker: AMD, MAPE: 23.58, MAE: 26.88\n",
      "**************************************************\n",
      "Ticker: ANET, MAPE: 25.10, MAE: 24.67\n",
      "**************************************************\n",
      "Ticker: ANSS, MAPE: 3.64, MAE: 11.77\n",
      "**************************************************\n",
      "Ticker: APH, MAPE: 8.16, MAE: 5.67\n",
      "**************************************************\n",
      "Ticker: AVGO, MAPE: 26.93, MAE: 51.13\n",
      "**************************************************\n",
      "Ticker: CDNS, MAPE: 8.00, MAE: 21.74\n",
      "**************************************************\n",
      "Ticker: CDW, MAPE: 15.42, MAE: 26.94\n",
      "**************************************************\n",
      "Ticker: CRM, MAPE: 9.93, MAE: 28.88\n",
      "**************************************************\n",
      "Ticker: CRWD, MAPE: 19.87, MAE: 74.72\n",
      "**************************************************\n",
      "Ticker: CSCO, MAPE: 13.00, MAE: 7.53\n",
      "**************************************************\n",
      "Ticker: CTSH, MAPE: 12.13, MAE: 9.50\n",
      "**************************************************\n",
      "Ticker: DELL, MAPE: 37.60, MAE: 38.83\n",
      "**************************************************\n",
      "Ticker: ENPH, MAPE: 45.15, MAE: 29.78\n",
      "**************************************************\n",
      "Ticker: EPAM, MAPE: 24.14, MAE: 44.15\n",
      "**************************************************\n",
      "Ticker: FFIV, MAPE: 23.72, MAE: 60.19\n",
      "**************************************************\n",
      "Ticker: FICO, MAPE: 31.55, MAE: 599.56\n",
      "**************************************************\n",
      "Ticker: FSLR, MAPE: 19.72, MAE: 37.30\n",
      "**************************************************\n",
      "Ticker: FTNT, MAPE: 20.91, MAE: 18.91\n",
      "**************************************************\n",
      "Ticker: GDDY, MAPE: 24.62, MAE: 44.13\n",
      "**************************************************\n",
      "Ticker: GEN, MAPE: 24.49, MAE: 6.57\n",
      "**************************************************\n",
      "Ticker: GLW, MAPE: 23.43, MAE: 10.75\n",
      "**************************************************\n",
      "Ticker: HPE, MAPE: 13.42, MAE: 2.64\n",
      "**************************************************\n",
      "Ticker: HPQ, MAPE: 17.22, MAE: 5.78\n",
      "**************************************************\n",
      "Ticker: IBM, MAPE: 22.40, MAE: 50.78\n",
      "**************************************************\n",
      "Ticker: INTC, MAPE: 33.19, MAE: 7.08\n",
      "**************************************************\n",
      "Ticker: INTU, MAPE: 4.44, MAE: 27.23\n",
      "**************************************************\n",
      "Ticker: IT, MAPE: 10.84, MAE: 53.34\n",
      "**************************************************\n",
      "Ticker: JBL, MAPE: 10.47, MAE: 14.55\n",
      "**************************************************\n",
      "Ticker: JNPR, MAPE: 6.23, MAE: 2.33\n",
      "**************************************************\n",
      "Ticker: KEYS, MAPE: 7.00, MAE: 10.46\n",
      "**************************************************\n",
      "Ticker: KLAC, MAPE: 8.53, MAE: 64.14\n",
      "**************************************************\n",
      "Ticker: LRCX, MAPE: 16.37, MAE: 12.77\n",
      "**************************************************\n",
      "Ticker: MCHP, MAPE: 38.60, MAE: 21.46\n",
      "**************************************************\n",
      "Ticker: MPWR, MAPE: 19.12, MAE: 130.41\n",
      "**************************************************\n",
      "Ticker: MSFT, MAPE: 5.45, MAE: 22.48\n",
      "**************************************************\n",
      "Ticker: MSI, MAPE: 18.59, MAE: 82.46\n",
      "**************************************************\n",
      "Ticker: MU, MAPE: 19.77, MAE: 18.65\n",
      "**************************************************\n",
      "Ticker: NOW, MAPE: 18.56, MAE: 179.20\n",
      "**************************************************\n",
      "Ticker: NTAP, MAPE: 15.55, MAE: 17.63\n",
      "**************************************************\n",
      "Ticker: NVDA, MAPE: 27.51, MAE: 35.21\n",
      "**************************************************\n",
      "Ticker: NXPI, MAPE: 16.87, MAE: 35.33\n",
      "**************************************************\n",
      "Ticker: ON, MAPE: 24.13, MAE: 11.22\n",
      "**************************************************\n",
      "Ticker: ORCL, MAPE: 22.38, MAE: 36.37\n",
      "**************************************************\n",
      "Ticker: PANW, MAPE: 12.09, MAE: 22.12\n",
      "**************************************************\n",
      "Ticker: PLTR, MAPE: 25.80, MAE: 23.98\n",
      "**************************************************\n",
      "Ticker: PTC, MAPE: 7.04, MAE: 11.82\n",
      "**************************************************\n",
      "Ticker: QCOM, MAPE: 12.40, MAE: 20.28\n",
      "**************************************************\n",
      "Ticker: ROP, MAPE: 4.59, MAE: 25.53\n",
      "**************************************************\n",
      "Ticker: SMCI, MAPE: 82.84, MAE: 30.12\n",
      "**************************************************\n",
      "Ticker: SNPS, MAPE: 12.14, MAE: 58.90\n",
      "**************************************************\n",
      "Ticker: STX, MAPE: 11.69, MAE: 11.36\n",
      "**************************************************\n",
      "Ticker: SWKS, MAPE: 15.99, MAE: 12.37\n",
      "**************************************************\n",
      "Ticker: TDY, MAPE: 11.12, MAE: 52.44\n",
      "**************************************************\n",
      "Ticker: TEL, MAPE: 4.85, MAE: 7.08\n",
      "**************************************************\n",
      "Ticker: TER, MAPE: 17.28, MAE: 18.28\n",
      "**************************************************\n",
      "Ticker: TRMB, MAPE: 9.66, MAE: 6.23\n",
      "**************************************************\n",
      "Ticker: TXN, MAPE: 9.38, MAE: 17.63\n",
      "**************************************************\n",
      "Ticker: TYL, MAPE: 14.34, MAE: 84.22\n",
      "**************************************************\n",
      "Ticker: VRSN, MAPE: 11.84, MAE: 26.34\n",
      "**************************************************\n",
      "Ticker: WDAY, MAPE: 7.85, MAE: 18.12\n",
      "**************************************************\n",
      "Ticker: WDC, MAPE: 11.10, MAE: 4.97\n",
      "**************************************************\n",
      "Ticker: ZBRA, MAPE: 12.87, MAE: 42.28\n",
      "**************************************************\n"
     ]
    }
   ],
   "source": [
    "mapes_theta = {}\n",
    "maes_theta = {}\n",
    "\n",
    "for ticker in data.keys():\n",
    "    y_test = test[ticker]['close']\n",
    "    y_pred = models_theta[ticker].predict(\n",
    "        n=len(y_test),\n",
    "        show_warnings=False\n",
    "    )\n",
    "    mape_ = mape(y_test, y_pred)\n",
    "    mae_ = mae(y_test, y_pred)\n",
    "    mapes_theta[ticker] = mape_\n",
    "    maes_theta[ticker] = mae_\n",
    "    print(f\"Ticker: {ticker}, MAPE: {mape_:.2f}, MAE: {mae_:.2f}\")\n",
    "    print(\"*\" * 50)"
   ]
  },
  {
   "cell_type": "code",
   "execution_count": 18,
   "id": "25979024",
   "metadata": {},
   "outputs": [
    {
     "data": {
      "text/plain": [
       "(17.499806532961372, 39.930300327744135)"
      ]
     },
     "execution_count": 18,
     "metadata": {},
     "output_type": "execute_result"
    }
   ],
   "source": [
    "np.mean(list(mapes_theta.values())), np.mean(list(maes_theta.values()))"
   ]
  },
  {
   "cell_type": "markdown",
   "id": "d147b846",
   "metadata": {},
   "source": [
    "## Linear Regression"
   ]
  },
  {
   "cell_type": "markdown",
   "id": "6df2f493",
   "metadata": {},
   "source": [
    "### Local model"
   ]
  },
  {
   "cell_type": "code",
   "execution_count": 19,
   "id": "a98d2d26",
   "metadata": {},
   "outputs": [
    {
     "name": "stdout",
     "output_type": "stream",
     "text": [
      "Training model for AAPL\n",
      "Model for AAPL trained in 0.14 seconds\n",
      "**************************************************\n",
      "Training model for ACN\n",
      "Model for ACN trained in 0.13 seconds\n",
      "**************************************************\n",
      "Training model for ADBE\n",
      "Model for ADBE trained in 0.13 seconds\n",
      "**************************************************\n",
      "Training model for ADI\n",
      "Model for ADI trained in 0.13 seconds\n",
      "**************************************************\n",
      "Training model for ADSK\n",
      "Model for ADSK trained in 0.13 seconds\n",
      "**************************************************\n",
      "Training model for AKAM\n",
      "Model for AKAM trained in 0.13 seconds\n",
      "**************************************************\n",
      "Training model for AMAT\n",
      "Model for AMAT trained in 0.13 seconds\n",
      "**************************************************\n",
      "Training model for AMD\n",
      "Model for AMD trained in 0.13 seconds\n",
      "**************************************************\n",
      "Training model for ANET\n",
      "Model for ANET trained in 0.13 seconds\n",
      "**************************************************\n",
      "Training model for ANSS\n",
      "Model for ANSS trained in 0.13 seconds\n",
      "**************************************************\n",
      "Training model for APH\n",
      "Model for APH trained in 0.13 seconds\n",
      "**************************************************\n",
      "Training model for AVGO\n",
      "Model for AVGO trained in 0.13 seconds\n",
      "**************************************************\n",
      "Training model for CDNS\n",
      "Model for CDNS trained in 0.13 seconds\n",
      "**************************************************\n",
      "Training model for CDW\n",
      "Model for CDW trained in 0.13 seconds\n",
      "**************************************************\n",
      "Training model for CRM\n",
      "Model for CRM trained in 0.13 seconds\n",
      "**************************************************\n",
      "Training model for CRWD\n",
      "Model for CRWD trained in 0.10 seconds\n",
      "**************************************************\n",
      "Training model for CSCO\n",
      "Model for CSCO trained in 0.12 seconds\n",
      "**************************************************\n",
      "Training model for CTSH\n",
      "Model for CTSH trained in 0.12 seconds\n",
      "**************************************************\n",
      "Training model for DELL\n",
      "Model for DELL trained in 0.12 seconds\n",
      "**************************************************\n",
      "Training model for ENPH\n",
      "Model for ENPH trained in 0.13 seconds\n",
      "**************************************************\n",
      "Training model for EPAM\n",
      "Model for EPAM trained in 0.13 seconds\n",
      "**************************************************\n",
      "Training model for FFIV\n",
      "Model for FFIV trained in 0.13 seconds\n",
      "**************************************************\n",
      "Training model for FICO\n",
      "Model for FICO trained in 0.13 seconds\n",
      "**************************************************\n",
      "Training model for FSLR\n",
      "Model for FSLR trained in 0.12 seconds\n",
      "**************************************************\n",
      "Training model for FTNT\n",
      "Model for FTNT trained in 0.13 seconds\n",
      "**************************************************\n",
      "Training model for GDDY\n",
      "Model for GDDY trained in 0.13 seconds\n",
      "**************************************************\n",
      "Training model for GEN\n",
      "Model for GEN trained in 0.18 seconds\n",
      "**************************************************\n",
      "Training model for GLW\n",
      "Model for GLW trained in 0.14 seconds\n",
      "**************************************************\n",
      "Training model for HPE\n",
      "Model for HPE trained in 0.12 seconds\n",
      "**************************************************\n",
      "Training model for HPQ\n",
      "Model for HPQ trained in 0.13 seconds\n",
      "**************************************************\n",
      "Training model for IBM\n",
      "Model for IBM trained in 0.13 seconds\n",
      "**************************************************\n",
      "Training model for INTC\n",
      "Model for INTC trained in 0.13 seconds\n",
      "**************************************************\n",
      "Training model for INTU\n",
      "Model for INTU trained in 0.13 seconds\n",
      "**************************************************\n",
      "Training model for IT\n",
      "Model for IT trained in 0.13 seconds\n",
      "**************************************************\n",
      "Training model for JBL\n",
      "Model for JBL trained in 0.13 seconds\n",
      "**************************************************\n",
      "Training model for JNPR\n",
      "Model for JNPR trained in 0.13 seconds\n",
      "**************************************************\n",
      "Training model for KEYS\n",
      "Model for KEYS trained in 0.13 seconds\n",
      "**************************************************\n",
      "Training model for KLAC\n",
      "Model for KLAC trained in 0.13 seconds\n",
      "**************************************************\n",
      "Training model for LRCX\n",
      "Model for LRCX trained in 0.13 seconds\n",
      "**************************************************\n",
      "Training model for MCHP\n",
      "Model for MCHP trained in 0.12 seconds\n",
      "**************************************************\n",
      "Training model for MPWR\n",
      "Model for MPWR trained in 0.13 seconds\n",
      "**************************************************\n",
      "Training model for MSFT\n",
      "Model for MSFT trained in 0.13 seconds\n",
      "**************************************************\n",
      "Training model for MSI\n",
      "Model for MSI trained in 0.13 seconds\n",
      "**************************************************\n",
      "Training model for MU\n",
      "Model for MU trained in 0.13 seconds\n",
      "**************************************************\n",
      "Training model for NOW\n",
      "Model for NOW trained in 0.13 seconds\n",
      "**************************************************\n",
      "Training model for NTAP\n",
      "Model for NTAP trained in 0.13 seconds\n",
      "**************************************************\n",
      "Training model for NVDA\n",
      "Model for NVDA trained in 0.13 seconds\n",
      "**************************************************\n",
      "Training model for NXPI\n",
      "Model for NXPI trained in 0.13 seconds\n",
      "**************************************************\n",
      "Training model for ON\n",
      "Model for ON trained in 0.13 seconds\n",
      "**************************************************\n",
      "Training model for ORCL\n",
      "Model for ORCL trained in 0.13 seconds\n",
      "**************************************************\n",
      "Training model for PANW\n",
      "Model for PANW trained in 0.13 seconds\n",
      "**************************************************\n",
      "Training model for PLTR\n",
      "Model for PLTR trained in 0.08 seconds\n",
      "**************************************************\n",
      "Training model for PTC\n",
      "Model for PTC trained in 0.13 seconds\n",
      "**************************************************\n",
      "Training model for QCOM\n",
      "Model for QCOM trained in 0.13 seconds\n",
      "**************************************************\n",
      "Training model for ROP\n",
      "Model for ROP trained in 0.14 seconds\n",
      "**************************************************\n",
      "Training model for SMCI\n",
      "Model for SMCI trained in 0.13 seconds\n",
      "**************************************************\n",
      "Training model for SNPS\n",
      "Model for SNPS trained in 0.12 seconds\n",
      "**************************************************\n",
      "Training model for STX\n",
      "Model for STX trained in 0.13 seconds\n",
      "**************************************************\n",
      "Training model for SWKS\n",
      "Model for SWKS trained in 0.12 seconds\n",
      "**************************************************\n",
      "Training model for TDY\n",
      "Model for TDY trained in 0.12 seconds\n",
      "**************************************************\n",
      "Training model for TEL\n",
      "Model for TEL trained in 0.13 seconds\n",
      "**************************************************\n",
      "Training model for TER\n",
      "Model for TER trained in 0.13 seconds\n",
      "**************************************************\n",
      "Training model for TRMB\n",
      "Model for TRMB trained in 0.13 seconds\n",
      "**************************************************\n",
      "Training model for TXN\n",
      "Model for TXN trained in 0.13 seconds\n",
      "**************************************************\n",
      "Training model for TYL\n",
      "Model for TYL trained in 0.13 seconds\n",
      "**************************************************\n",
      "Training model for VRSN\n",
      "Model for VRSN trained in 0.13 seconds\n",
      "**************************************************\n",
      "Training model for WDAY\n",
      "Model for WDAY trained in 0.13 seconds\n",
      "**************************************************\n",
      "Training model for WDC\n",
      "Model for WDC trained in 0.13 seconds\n",
      "**************************************************\n",
      "Training model for ZBRA\n",
      "Model for ZBRA trained in 0.13 seconds\n",
      "**************************************************\n"
     ]
    }
   ],
   "source": [
    "models_lr = {}\n",
    "\n",
    "for ticker in data.keys():\n",
    "    print(f\"Training model for {ticker}\")\n",
    "    start = time.time()\n",
    "    model = LinearRegressionModel(\n",
    "        lags=15,\n",
    "        lags_past_covariates=1,\n",
    "        lags_future_covariates=[0],\n",
    "        output_chunk_length=1,\n",
    "        random_state=42,\n",
    "        add_encoders={\n",
    "            'datetime_attribute': {\n",
    "                'future': ['month', 'day', 'dayofweek', 'dayofyear', 'quarter', 'year'] # automatically generate future covariates from time series\n",
    "            }\n",
    "        }\n",
    "    )\n",
    "\n",
    "    model.fit(\n",
    "        train[ticker]['close'],\n",
    "        past_covariates=train[ticker][['high', 'low', 'volume', 'open']],\n",
    "    )\n",
    "\n",
    "    end = time.time()\n",
    "    print(f\"Model for {ticker} trained in {end - start:.2f} seconds\")\n",
    "    print(\"*\" * 50)\n",
    "\n",
    "    models_lr[ticker] = model"
   ]
  },
  {
   "cell_type": "code",
   "execution_count": 20,
   "id": "79a5002a",
   "metadata": {},
   "outputs": [
    {
     "name": "stdout",
     "output_type": "stream",
     "text": [
      "Ticker: AAPL, MAPE: 2.16, MAE: 4.71\n",
      "**************************************************\n",
      "Ticker: ACN, MAPE: 58.85, MAE: 182.03\n",
      "**************************************************\n",
      "Ticker: ADBE, MAPE: 2.62, MAE: 12.27\n",
      "**************************************************\n",
      "Ticker: ADI, MAPE: 2.53, MAE: 5.40\n",
      "**************************************************\n",
      "Ticker: ADSK, MAPE: 4.97, MAE: 13.30\n",
      "**************************************************\n",
      "Ticker: AKAM, MAPE: 2.82, MAE: 2.49\n",
      "**************************************************\n",
      "Ticker: AMAT, MAPE: 20.11, MAE: 33.90\n",
      "**************************************************\n",
      "Ticker: AMD, MAPE: 28468403915945.19, MAE: 26823372586897.35\n",
      "**************************************************\n",
      "Ticker: ANET, MAPE: 14.40, MAE: 13.18\n",
      "**************************************************\n",
      "Ticker: ANSS, MAPE: 1.71, MAE: 5.53\n",
      "**************************************************\n",
      "Ticker: APH, MAPE: 2.86, MAE: 1.92\n",
      "**************************************************\n",
      "Ticker: AVGO, MAPE: 796335.71, MAE: 1458764.30\n",
      "**************************************************\n",
      "Ticker: CDNS, MAPE: 3.78, MAE: 10.42\n",
      "**************************************************\n",
      "Ticker: CDW, MAPE: 6.38, MAE: 11.42\n",
      "**************************************************\n",
      "Ticker: CRM, MAPE: 3.04, MAE: 8.49\n",
      "**************************************************\n",
      "Ticker: CRWD, MAPE: 5.88, MAE: 21.68\n",
      "**************************************************\n",
      "Ticker: CSCO, MAPE: 1.60, MAE: 0.85\n",
      "**************************************************\n",
      "Ticker: CTSH, MAPE: 2.02, MAE: 1.53\n",
      "**************************************************\n",
      "Ticker: DELL, MAPE: 3.21, MAE: 3.47\n",
      "**************************************************\n",
      "Ticker: ENPH, MAPE: 88.88, MAE: 57.83\n",
      "**************************************************\n",
      "Ticker: EPAM, MAPE: 5473746745.16, MAE: 8634197990.50\n",
      "**************************************************\n",
      "Ticker: FFIV, MAPE: 1455.13, MAE: 3868.50\n",
      "**************************************************\n",
      "Ticker: FICO, MAPE: 346711.59, MAE: 6535910.89\n",
      "**************************************************\n",
      "Ticker: FSLR, MAPE: 9102.87, MAE: 12732.24\n",
      "**************************************************\n",
      "Ticker: FTNT, MAPE: 508434626.04, MAE: 504261198.57\n",
      "**************************************************\n",
      "Ticker: GDDY, MAPE: 3.68, MAE: 6.42\n",
      "**************************************************\n",
      "Ticker: GEN, MAPE: 6.83, MAE: 1.80\n",
      "**************************************************\n",
      "Ticker: GLW, MAPE: 2.75, MAE: 1.21\n",
      "**************************************************\n",
      "Ticker: HPE, MAPE: 6.07, MAE: 1.12\n",
      "**************************************************\n",
      "Ticker: HPQ, MAPE: 29.84, MAE: 9.91\n",
      "**************************************************\n",
      "Ticker: IBM, MAPE: 6.63, MAE: 14.62\n",
      "**************************************************\n",
      "Ticker: INTC, MAPE: 4.13, MAE: 0.96\n",
      "**************************************************\n",
      "Ticker: INTU, MAPE: 3.45, MAE: 21.16\n",
      "**************************************************\n",
      "Ticker: IT, MAPE: 2.66, MAE: 12.62\n",
      "**************************************************\n",
      "Ticker: JBL, MAPE: 2446.72, MAE: 3441.65\n",
      "**************************************************\n",
      "Ticker: JNPR, MAPE: 2.64, MAE: 0.97\n",
      "**************************************************\n",
      "Ticker: KEYS, MAPE: 4.34, MAE: 6.41\n",
      "**************************************************\n",
      "Ticker: KLAC, MAPE: 5.67, MAE: 40.51\n",
      "**************************************************\n",
      "Ticker: LRCX, MAPE: 7.03, MAE: 5.63\n",
      "**************************************************\n",
      "Ticker: MCHP, MAPE: 6.37, MAE: 3.72\n",
      "**************************************************\n",
      "Ticker: MPWR, MAPE: 5.84, MAE: 39.99\n",
      "**************************************************\n",
      "Ticker: MSFT, MAPE: 1.79, MAE: 7.42\n",
      "**************************************************\n",
      "Ticker: MSI, MAPE: 9.68, MAE: 42.55\n",
      "**************************************************\n",
      "Ticker: MU, MAPE: 5.83, MAE: 5.74\n",
      "**************************************************\n",
      "Ticker: NOW, MAPE: 3.28, MAE: 29.37\n",
      "**************************************************\n",
      "Ticker: NTAP, MAPE: 5.93, MAE: 6.38\n",
      "**************************************************\n",
      "Ticker: NVDA, MAPE: 12.74, MAE: 14.82\n",
      "**************************************************\n",
      "Ticker: NXPI, MAPE: 3.23, MAE: 7.09\n",
      "**************************************************\n",
      "Ticker: ON, MAPE: 8.81, MAE: 4.57\n",
      "**************************************************\n",
      "Ticker: ORCL, MAPE: 3.19, MAE: 4.87\n",
      "**************************************************\n",
      "Ticker: PANW, MAPE: 3.12, MAE: 5.49\n",
      "**************************************************\n",
      "Ticker: PLTR, MAPE: 12.35, MAE: 11.94\n",
      "**************************************************\n",
      "Ticker: PTC, MAPE: 2.40, MAE: 4.13\n",
      "**************************************************\n",
      "Ticker: QCOM, MAPE: 3.01, MAE: 5.04\n",
      "**************************************************\n",
      "Ticker: ROP, MAPE: 2.18, MAE: 11.94\n",
      "**************************************************\n",
      "Ticker: SMCI, MAPE: 3172123131.72, MAE: 1074841526.09\n",
      "**************************************************\n",
      "Ticker: SNPS, MAPE: 7.27, MAE: 35.72\n",
      "**************************************************\n",
      "Ticker: STX, MAPE: 11.14, MAE: 10.63\n",
      "**************************************************\n",
      "Ticker: SWKS, MAPE: 2.68, MAE: 2.19\n",
      "**************************************************\n",
      "Ticker: TDY, MAPE: 1.99, MAE: 8.98\n",
      "**************************************************\n",
      "Ticker: TEL, MAPE: 2.08, MAE: 2.98\n",
      "**************************************************\n",
      "Ticker: TER, MAPE: 4.24, MAE: 4.74\n",
      "**************************************************\n",
      "Ticker: TRMB, MAPE: 9.72, MAE: 6.01\n",
      "**************************************************\n",
      "Ticker: TXN, MAPE: 2.41, MAE: 4.40\n",
      "**************************************************\n",
      "Ticker: TYL, MAPE: 2.96, MAE: 16.84\n",
      "**************************************************\n",
      "Ticker: VRSN, MAPE: 2.46, MAE: 5.27\n",
      "**************************************************\n",
      "Ticker: WDAY, MAPE: 2.93, MAE: 7.00\n",
      "**************************************************\n",
      "Ticker: WDC, MAPE: 414.83, MAE: 178.75\n",
      "**************************************************\n",
      "Ticker: ZBRA, MAPE: 3.24, MAE: 10.28\n",
      "**************************************************\n"
     ]
    }
   ],
   "source": [
    "mapes_lr = {}\n",
    "maes_lr = {}\n",
    "\n",
    "for ticker in data.keys():\n",
    "    y_test = test[ticker]['close']\n",
    "    y_pred = models_lr[ticker].predict(\n",
    "        n=len(y_test),\n",
    "        past_covariates=test[ticker][['high', 'low', 'volume', 'open']],\n",
    "        show_warnings=False\n",
    "    )\n",
    "    mape_ = mape(y_test, y_pred)\n",
    "    mae_ = mae(y_test, y_pred)\n",
    "    mapes_lr[ticker] = mape_\n",
    "    maes_lr[ticker] = mae_\n",
    "    print(f\"Ticker: {ticker}, MAPE: {mape_:.2f}, MAE: {mae_:.2f}\")\n",
    "    print(\"*\" * 50)"
   ]
  },
  {
   "cell_type": "code",
   "execution_count": 21,
   "id": "1a3fbd8d",
   "metadata": {},
   "outputs": [
    {
     "data": {
      "text/plain": [
       "(412718251845.9619, 388892665265.8363)"
      ]
     },
     "execution_count": 21,
     "metadata": {},
     "output_type": "execute_result"
    }
   ],
   "source": [
    "np.mean(list(mapes_lr.values())), np.mean(list(maes_lr.values()))"
   ]
  },
  {
   "cell_type": "markdown",
   "id": "1f27462f",
   "metadata": {},
   "source": [
    "### Global model"
   ]
  },
  {
   "cell_type": "code",
   "execution_count": 22,
   "id": "3879adfb",
   "metadata": {},
   "outputs": [
    {
     "name": "stdout",
     "output_type": "stream",
     "text": [
      "Training global model\n",
      "Global model trained in 8.43 seconds\n",
      "**************************************************\n"
     ]
    }
   ],
   "source": [
    "print(f\"Training global model\")\n",
    "start = time.time()\n",
    "model = LinearRegressionModel(\n",
    "    lags=15,\n",
    "    lags_past_covariates=1,\n",
    "    lags_future_covariates=[0],\n",
    "    output_chunk_length=1,\n",
    "    random_state=42,\n",
    "    add_encoders={\n",
    "        'datetime_attribute': {\n",
    "            'future': ['month', 'day', 'dayofweek', 'dayofyear', 'quarter', 'year'] # automatically generate future covariates from time series\n",
    "        }\n",
    "    }\n",
    ")\n",
    "\n",
    "model.fit(\n",
    "    [ts['close'] for ts in train.values()],\n",
    "    past_covariates=[ts[['high', 'low', 'volume', 'open']] for ts in train.values()],\n",
    ")\n",
    "\n",
    "end = time.time()\n",
    "print(f\"Global model trained in {end - start:.2f} seconds\")\n",
    "print(\"*\" * 50)"
   ]
  },
  {
   "cell_type": "code",
   "execution_count": 23,
   "id": "545bdc45",
   "metadata": {},
   "outputs": [
    {
     "name": "stdout",
     "output_type": "stream",
     "text": [
      "Global model for AAPL, MAPE: 3.28, MAE: 7.06\n",
      "**************************************************\n",
      "Global model for ACN, MAPE: 3.28, MAE: 10.64\n",
      "**************************************************\n",
      "Global model for ADBE, MAPE: 4.59, MAE: 21.16\n",
      "**************************************************\n",
      "Global model for ADI, MAPE: 3.47, MAE: 7.27\n",
      "**************************************************\n",
      "Global model for ADSK, MAPE: 3.09, MAE: 8.15\n",
      "**************************************************\n",
      "Global model for AKAM, MAPE: 4.08, MAE: 3.57\n",
      "**************************************************\n",
      "Global model for AMAT, MAPE: 5.15, MAE: 9.40\n",
      "**************************************************\n",
      "Global model for AMD, MAPE: 5.92, MAE: 7.70\n",
      "**************************************************\n",
      "Global model for ANET, MAPE: 6.00, MAE: 5.30\n",
      "**************************************************\n",
      "Global model for ANSS, MAPE: 2.12, MAE: 6.82\n",
      "**************************************************\n",
      "Global model for APH, MAPE: 3.28, MAE: 2.19\n",
      "**************************************************\n",
      "Global model for AVGO, MAPE: 6.14, MAE: 11.18\n",
      "**************************************************\n",
      "Global model for CDNS, MAPE: 4.14, MAE: 11.36\n",
      "**************************************************\n",
      "Global model for CDW, MAPE: 3.88, MAE: 7.21\n",
      "**************************************************\n",
      "Global model for CRM, MAPE: 4.26, MAE: 11.94\n",
      "**************************************************\n",
      "Global model for CRWD, MAPE: 5.31, MAE: 19.60\n",
      "**************************************************\n",
      "Global model for CSCO, MAPE: 2.34, MAE: 1.23\n",
      "**************************************************\n",
      "Global model for CTSH, MAPE: 2.75, MAE: 2.06\n",
      "**************************************************\n",
      "Global model for DELL, MAPE: 6.60, MAE: 6.96\n",
      "**************************************************\n",
      "Global model for ENPH, MAPE: 7.91, MAE: 6.35\n",
      "**************************************************\n",
      "Global model for EPAM, MAPE: 6.79, MAE: 13.32\n",
      "**************************************************\n",
      "Global model for FFIV, MAPE: 2.98, MAE: 7.19\n",
      "**************************************************\n",
      "Global model for FICO, MAPE: 4.56, MAE: 83.31\n",
      "**************************************************\n",
      "Global model for FSLR, MAPE: 6.71, MAE: 13.22\n",
      "**************************************************\n",
      "Global model for FTNT, MAPE: 3.99, MAE: 3.30\n",
      "**************************************************\n",
      "Global model for GDDY, MAPE: 3.48, MAE: 6.02\n",
      "**************************************************\n",
      "Global model for GEN, MAPE: 4.19, MAE: 1.09\n",
      "**************************************************\n",
      "Global model for GLW, MAPE: 3.57, MAE: 1.55\n",
      "**************************************************\n",
      "Global model for HPE, MAPE: 7.38, MAE: 1.33\n",
      "**************************************************\n",
      "Global model for HPQ, MAPE: 5.59, MAE: 1.74\n",
      "**************************************************\n",
      "Global model for IBM, MAPE: 2.90, MAE: 6.35\n",
      "**************************************************\n",
      "Global model for INTC, MAPE: 9.05, MAE: 1.97\n",
      "**************************************************\n",
      "Global model for INTU, MAPE: 2.98, MAE: 18.42\n",
      "**************************************************\n",
      "Global model for IT, MAPE: 3.04, MAE: 14.28\n",
      "**************************************************\n",
      "Global model for JBL, MAPE: 3.99, MAE: 5.19\n",
      "**************************************************\n",
      "Global model for JNPR, MAPE: 3.06, MAE: 1.12\n",
      "**************************************************\n",
      "Global model for KEYS, MAPE: 4.01, MAE: 5.96\n",
      "**************************************************\n",
      "Global model for KLAC, MAPE: 4.43, MAE: 31.89\n",
      "**************************************************\n",
      "Global model for LRCX, MAPE: 5.25, MAE: 4.19\n",
      "**************************************************\n",
      "Global model for MCHP, MAPE: 6.23, MAE: 3.81\n",
      "**************************************************\n",
      "Global model for MPWR, MAPE: 6.06, MAE: 41.06\n",
      "**************************************************\n",
      "Global model for MSFT, MAPE: 2.77, MAE: 11.43\n",
      "**************************************************\n",
      "Global model for MSI, MAPE: 2.59, MAE: 11.08\n",
      "**************************************************\n",
      "Global model for MU, MAPE: 7.14, MAE: 6.96\n",
      "**************************************************\n",
      "Global model for NOW, MAPE: 4.43, MAE: 39.58\n",
      "**************************************************\n",
      "Global model for NTAP, MAPE: 4.82, MAE: 5.10\n",
      "**************************************************\n",
      "Global model for NVDA, MAPE: 5.82, MAE: 6.95\n",
      "**************************************************\n",
      "Global model for NXPI, MAPE: 3.81, MAE: 8.29\n",
      "**************************************************\n",
      "Global model for ON, MAPE: 5.93, MAE: 3.28\n",
      "**************************************************\n",
      "Global model for ORCL, MAPE: 4.60, MAE: 7.02\n",
      "**************************************************\n",
      "Global model for PANW, MAPE: 3.38, MAE: 5.91\n",
      "**************************************************\n",
      "Global model for PLTR, MAPE: 8.88, MAE: 8.21\n",
      "**************************************************\n",
      "Global model for PTC, MAPE: 2.96, MAE: 5.02\n",
      "**************************************************\n",
      "Global model for QCOM, MAPE: 4.03, MAE: 6.71\n",
      "**************************************************\n",
      "Global model for ROP, MAPE: 2.01, MAE: 10.97\n",
      "**************************************************\n",
      "Global model for SMCI, MAPE: 13.92, MAE: 5.76\n",
      "**************************************************\n",
      "Global model for SNPS, MAPE: 4.27, MAE: 21.43\n",
      "**************************************************\n",
      "Global model for STX, MAPE: 4.88, MAE: 4.44\n",
      "**************************************************\n",
      "Global model for SWKS, MAPE: 5.59, MAE: 4.47\n",
      "**************************************************\n",
      "Global model for TDY, MAPE: 2.01, MAE: 9.14\n",
      "**************************************************\n",
      "Global model for TEL, MAPE: 2.53, MAE: 3.61\n",
      "**************************************************\n",
      "Global model for TER, MAPE: 7.07, MAE: 7.76\n",
      "**************************************************\n",
      "Global model for TRMB, MAPE: 3.56, MAE: 2.21\n",
      "**************************************************\n",
      "Global model for TXN, MAPE: 3.33, MAE: 6.02\n",
      "**************************************************\n",
      "Global model for TYL, MAPE: 2.41, MAE: 13.59\n",
      "**************************************************\n",
      "Global model for VRSN, MAPE: 2.19, MAE: 4.64\n",
      "**************************************************\n",
      "Global model for WDAY, MAPE: 3.63, MAE: 8.62\n",
      "**************************************************\n",
      "Global model for WDC, MAPE: 5.52, MAE: 2.51\n",
      "**************************************************\n",
      "Global model for ZBRA, MAPE: 4.65, MAE: 14.47\n",
      "**************************************************\n"
     ]
    }
   ],
   "source": [
    "mapes = {}\n",
    "maes = {}\n",
    "\n",
    "for ticker in data.keys():\n",
    "    y_pred = model.predict(\n",
    "        n=len(test[ticker]['close']),\n",
    "        series=train[ticker]['close'],\n",
    "        past_covariates=test[ticker][['high', 'low', 'volume', 'open']],\n",
    "        show_warnings=False\n",
    "    )\n",
    "    y_test = test[ticker]['close']\n",
    "    mape_ = mape(y_test, y_pred)\n",
    "    mae_ = mae(y_test, y_pred)\n",
    "\n",
    "    mapes[ticker] = mape_\n",
    "    maes[ticker] = mae_\n",
    "\n",
    "    print(f\"Global model for {ticker}, MAPE: {mape_:.2f}, MAE: {mae_:.2f}\")\n",
    "    print(\"*\" * 50)"
   ]
  },
  {
   "cell_type": "code",
   "execution_count": 24,
   "id": "40364019",
   "metadata": {},
   "outputs": [
    {
     "data": {
      "text/plain": [
       "(4.587321981762914, 9.835426148162545)"
      ]
     },
     "execution_count": 24,
     "metadata": {},
     "output_type": "execute_result"
    }
   ],
   "source": [
    "np.mean(list(mapes.values())), np.mean(list(maes.values()))"
   ]
  }
 ],
 "metadata": {
  "kernelspec": {
   "display_name": ".venv",
   "language": "python",
   "name": "python3"
  },
  "language_info": {
   "codemirror_mode": {
    "name": "ipython",
    "version": 3
   },
   "file_extension": ".py",
   "mimetype": "text/x-python",
   "name": "python",
   "nbconvert_exporter": "python",
   "pygments_lexer": "ipython3",
   "version": "3.12.1"
  }
 },
 "nbformat": 4,
 "nbformat_minor": 5
}
