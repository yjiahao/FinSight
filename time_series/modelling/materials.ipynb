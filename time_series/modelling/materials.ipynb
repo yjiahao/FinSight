{
 "cells": [
  {
   "cell_type": "markdown",
   "id": "a132de14",
   "metadata": {},
   "source": [
    "## Model training and tuning for the materials sector"
   ]
  },
  {
   "cell_type": "code",
   "execution_count": 1,
   "id": "d74fe196",
   "metadata": {},
   "outputs": [
    {
     "name": "stderr",
     "output_type": "stream",
     "text": [
      "Importing plotly failed. Interactive plots will not work.\n",
      "d:\\investing-bot\\.venv\\Lib\\site-packages\\fs\\__init__.py:4: UserWarning: pkg_resources is deprecated as an API. See https://setuptools.pypa.io/en/latest/pkg_resources.html. The pkg_resources package is slated for removal as early as 2025-11-30. Refrain from using this package or pin to Setuptools<81.\n",
      "  __import__(\"pkg_resources\").declare_namespace(__name__)  # type: ignore\n"
     ]
    }
   ],
   "source": [
    "import pandas as pd\n",
    "import numpy as np\n",
    "\n",
    "import time\n",
    "\n",
    "from darts import TimeSeries, concatenate\n",
    "from darts.utils.model_selection import train_test_split\n",
    "from darts.models.forecasting.xgboost import XGBModel\n",
    "from darts.dataprocessing.transformers.scaler import Scaler\n",
    "from darts.metrics.metrics import mape, mae\n",
    "from darts.models.forecasting.prophet_model import Prophet\n",
    "from darts.models.forecasting.sf_auto_theta import AutoTheta\n",
    "from darts.models.forecasting.linear_regression_model import LinearRegressionModel\n",
    "from darts.dataprocessing.transformers import StaticCovariatesTransformer\n",
    "from darts.models.forecasting.sf_auto_arima import AutoARIMA\n",
    "from darts.dataprocessing.transformers.boxcox import BoxCox"
   ]
  },
  {
   "cell_type": "code",
   "execution_count": 2,
   "id": "8c7af10f",
   "metadata": {},
   "outputs": [],
   "source": [
    "df = pd.read_csv('../../data/processed/sp500_all_companies_cleaned_with_sector.csv')\n",
    "df['date'] = pd.to_datetime(df['date'])\n",
    "\n",
    "df_materials = df[df['GICS Sector'] == 'Materials'].sort_values(by=['ticker', 'date']).reset_index(drop=True)"
   ]
  },
  {
   "cell_type": "code",
   "execution_count": 3,
   "id": "ece8cf77",
   "metadata": {},
   "outputs": [
    {
     "data": {
      "text/plain": [
       "GICS Sector\n",
       "Industrials               193459\n",
       "Financials                190485\n",
       "Information Technology    177149\n",
       "Health Care               151348\n",
       "Consumer Discretionary    130185\n",
       "Consumer Staples           96649\n",
       "Real Estate                79757\n",
       "Utilities                  78786\n",
       "Materials                  63394\n",
       "Energy                     58523\n",
       "Communication Services     58017\n",
       "Name: count, dtype: int64"
      ]
     },
     "execution_count": 3,
     "metadata": {},
     "output_type": "execute_result"
    }
   ],
   "source": [
    "df['GICS Sector'].value_counts()"
   ]
  },
  {
   "cell_type": "code",
   "execution_count": 4,
   "id": "3a82775d",
   "metadata": {},
   "outputs": [
    {
     "data": {
      "text/plain": [
       "array(['ALB', 'AMCR', 'APD', 'AVY', 'BALL', 'CF', 'CTVA', 'DD', 'DOW',\n",
       "       'ECL', 'EMN', 'FCX', 'IFF', 'IP', 'LIN', 'LYB', 'MLM', 'MOS',\n",
       "       'NEM', 'NUE', 'PKG', 'PPG', 'SHW', 'STLD', 'SW', 'VMC'],\n",
       "      dtype=object)"
      ]
     },
     "execution_count": 4,
     "metadata": {},
     "output_type": "execute_result"
    }
   ],
   "source": [
    "df_materials['ticker'].unique()"
   ]
  },
  {
   "cell_type": "code",
   "execution_count": 5,
   "id": "92847a29",
   "metadata": {},
   "outputs": [],
   "source": [
    "data = {}\n",
    "static_covs = pd.DataFrame({'ticker': df_materials['ticker'].unique()})\n",
    "\n",
    "for ticker, group in df_materials.groupby('ticker'):\n",
    "    series = TimeSeries.from_dataframe(\n",
    "        group,\n",
    "        time_col='date',\n",
    "        value_cols=['close', 'high', 'low', 'open', 'volume'],\n",
    "        freq='B',\n",
    "        static_covariates=pd.Series(ticker)\n",
    "    )\n",
    "    data[ticker] = series"
   ]
  },
  {
   "cell_type": "code",
   "execution_count": 6,
   "id": "64b0d57f",
   "metadata": {},
   "outputs": [],
   "source": [
    "# encode each ticker as a static covariate\n",
    "transformer = StaticCovariatesTransformer()\n",
    "ts = [d for d in data.values()]\n",
    "transformer.fit(ts)\n",
    "\n",
    "for ticker, series in data.items():\n",
    "    data[ticker] = transformer.transform(series)"
   ]
  },
  {
   "cell_type": "code",
   "execution_count": 7,
   "id": "8ebc137c",
   "metadata": {},
   "outputs": [],
   "source": [
    "train = {}\n",
    "test = {}\n",
    "\n",
    "for ticker, series in data.items():\n",
    "    train[ticker], test[ticker] = train_test_split(series, test_size=0.1)\n",
    "    last_train = train[ticker][-1:]\n",
    "    test_with_context = last_train.append(test[ticker]) # append last point of train to test as our forecast requires it\n",
    "    test[ticker] = test_with_context"
   ]
  },
  {
   "cell_type": "markdown",
   "id": "2ff40656",
   "metadata": {},
   "source": [
    "## Gradient Boosting"
   ]
  },
  {
   "cell_type": "markdown",
   "id": "ab5a6a61",
   "metadata": {},
   "source": [
    "### Train a local model first"
   ]
  },
  {
   "cell_type": "code",
   "execution_count": 8,
   "id": "630b92e0",
   "metadata": {},
   "outputs": [
    {
     "name": "stdout",
     "output_type": "stream",
     "text": [
      "Training model for ALB\n",
      "Model for ALB trained in 0.35 seconds\n",
      "**************************************************\n",
      "Training model for AMCR\n",
      "Model for AMCR trained in 0.33 seconds\n",
      "**************************************************\n",
      "Training model for APD\n",
      "Model for APD trained in 0.39 seconds\n",
      "**************************************************\n",
      "Training model for AVY\n",
      "Model for AVY trained in 0.33 seconds\n",
      "**************************************************\n",
      "Training model for BALL\n",
      "Model for BALL trained in 0.38 seconds\n",
      "**************************************************\n",
      "Training model for CF\n",
      "Model for CF trained in 0.37 seconds\n",
      "**************************************************\n",
      "Training model for CTVA\n",
      "Model for CTVA trained in 0.33 seconds\n",
      "**************************************************\n",
      "Training model for DD\n",
      "Model for DD trained in 0.37 seconds\n",
      "**************************************************\n",
      "Training model for DOW\n",
      "Model for DOW trained in 0.30 seconds\n",
      "**************************************************\n",
      "Training model for ECL\n",
      "Model for ECL trained in 0.33 seconds\n",
      "**************************************************\n",
      "Training model for EMN\n",
      "Model for EMN trained in 0.32 seconds\n",
      "**************************************************\n",
      "Training model for FCX\n",
      "Model for FCX trained in 0.33 seconds\n",
      "**************************************************\n",
      "Training model for IFF\n",
      "Model for IFF trained in 0.34 seconds\n",
      "**************************************************\n",
      "Training model for IP\n",
      "Model for IP trained in 0.37 seconds\n",
      "**************************************************\n",
      "Training model for LIN\n",
      "Model for LIN trained in 0.38 seconds\n",
      "**************************************************\n",
      "Training model for LYB\n",
      "Model for LYB trained in 0.36 seconds\n",
      "**************************************************\n",
      "Training model for MLM\n",
      "Model for MLM trained in 0.44 seconds\n",
      "**************************************************\n",
      "Training model for MOS\n",
      "Model for MOS trained in 0.38 seconds\n",
      "**************************************************\n",
      "Training model for NEM\n",
      "Model for NEM trained in 0.41 seconds\n",
      "**************************************************\n",
      "Training model for NUE\n",
      "Model for NUE trained in 0.32 seconds\n",
      "**************************************************\n",
      "Training model for PKG\n",
      "Model for PKG trained in 0.32 seconds\n",
      "**************************************************\n",
      "Training model for PPG\n",
      "Model for PPG trained in 0.35 seconds\n",
      "**************************************************\n",
      "Training model for SHW\n",
      "Model for SHW trained in 0.35 seconds\n",
      "**************************************************\n",
      "Training model for STLD\n",
      "Model for STLD trained in 0.45 seconds\n",
      "**************************************************\n",
      "Training model for SW\n",
      "Model for SW trained in 0.14 seconds\n",
      "**************************************************\n",
      "Training model for VMC\n",
      "Model for VMC trained in 0.32 seconds\n",
      "**************************************************\n"
     ]
    }
   ],
   "source": [
    "models = {}\n",
    "\n",
    "for ticker in data.keys():\n",
    "    print(f\"Training model for {ticker}\")\n",
    "    start = time.time()\n",
    "    model = XGBModel(\n",
    "        lags=15,\n",
    "        lags_past_covariates=1,\n",
    "        lags_future_covariates=[0],\n",
    "        output_chunk_length=1,\n",
    "        random_state=42,\n",
    "        add_encoders={\n",
    "            'datetime_attribute': {\n",
    "                'future': ['month', 'day', 'dayofweek', 'dayofyear', 'quarter', 'year'] # automatically generate future covariates from time series\n",
    "            }\n",
    "        }\n",
    "    )\n",
    "\n",
    "    model.fit(\n",
    "        train[ticker]['close'],\n",
    "        past_covariates=train[ticker][['high', 'low', 'volume', 'open']],\n",
    "    )\n",
    "\n",
    "    end = time.time()\n",
    "    print(f\"Model for {ticker} trained in {end - start:.2f} seconds\")\n",
    "    print(\"*\" * 50)\n",
    "\n",
    "    models[ticker] = model"
   ]
  },
  {
   "cell_type": "code",
   "execution_count": 9,
   "id": "b9f91c14",
   "metadata": {},
   "outputs": [
    {
     "name": "stdout",
     "output_type": "stream",
     "text": [
      "Ticker: ALB, MAPE: 8.85, MAE: 7.67\n",
      "**************************************************\n",
      "Ticker: AMCR, MAPE: 3.70, MAE: 0.38\n",
      "**************************************************\n",
      "Ticker: APD, MAPE: 13.27, MAE: 39.96\n",
      "**************************************************\n",
      "Ticker: AVY, MAPE: 2.57, MAE: 5.16\n",
      "**************************************************\n",
      "Ticker: BALL, MAPE: 3.00, MAE: 1.72\n",
      "**************************************************\n",
      "Ticker: CF, MAPE: 4.34, MAE: 3.57\n",
      "**************************************************\n",
      "Ticker: CTVA, MAPE: 4.27, MAE: 2.62\n",
      "**************************************************\n",
      "Ticker: DD, MAPE: 6.58, MAE: 5.08\n",
      "**************************************************\n",
      "Ticker: DOW, MAPE: 4.76, MAE: 1.83\n",
      "**************************************************\n",
      "Ticker: ECL, MAPE: 7.96, MAE: 19.80\n",
      "**************************************************\n",
      "Ticker: EMN, MAPE: 3.60, MAE: 3.52\n",
      "**************************************************\n",
      "Ticker: FCX, MAPE: 6.32, MAE: 2.73\n",
      "**************************************************\n",
      "Ticker: IFF, MAPE: 5.22, MAE: 4.75\n",
      "**************************************************\n",
      "Ticker: IP, MAPE: 6.21, MAE: 3.23\n",
      "**************************************************\n",
      "Ticker: LIN, MAPE: 3.54, MAE: 16.12\n",
      "**************************************************\n",
      "Ticker: LYB, MAPE: 9.64, MAE: 8.02\n",
      "**************************************************\n",
      "Ticker: MLM, MAPE: 10.42, MAE: 53.59\n",
      "**************************************************\n",
      "Ticker: MOS, MAPE: 9.49, MAE: 2.44\n",
      "**************************************************\n",
      "Ticker: NEM, MAPE: 7.18, MAE: 3.34\n",
      "**************************************************\n",
      "Ticker: NUE, MAPE: 9.17, MAE: 12.78\n",
      "**************************************************\n",
      "Ticker: PKG, MAPE: 11.21, MAE: 24.59\n",
      "**************************************************\n",
      "Ticker: PPG, MAPE: 2.72, MAE: 3.17\n",
      "**************************************************\n",
      "Ticker: SHW, MAPE: 6.23, MAE: 22.54\n",
      "**************************************************\n",
      "Ticker: STLD, MAPE: 5.28, MAE: 6.37\n",
      "**************************************************\n",
      "Ticker: SW, MAPE: 3.53, MAE: 1.46\n",
      "**************************************************\n",
      "Ticker: VMC, MAPE: 5.24, MAE: 13.06\n",
      "**************************************************\n"
     ]
    }
   ],
   "source": [
    "mapes = {}\n",
    "maes = {}\n",
    "\n",
    "for ticker in data.keys():\n",
    "    y_test = test[ticker]['close']\n",
    "    y_pred = models[ticker].predict(\n",
    "        n=len(y_test),\n",
    "        past_covariates=test[ticker][['high', 'low', 'volume', 'open']],\n",
    "        show_warnings=False\n",
    "    )\n",
    "    mape_ = mape(y_test, y_pred)\n",
    "    mae_ = mae(y_test, y_pred)\n",
    "    mapes[ticker] = mape_\n",
    "    maes[ticker] = mae_\n",
    "    print(f\"Ticker: {ticker}, MAPE: {mape_:.2f}, MAE: {mae_:.2f}\")\n",
    "    print(\"*\" * 50)"
   ]
  },
  {
   "cell_type": "code",
   "execution_count": 10,
   "id": "225f2cf2",
   "metadata": {},
   "outputs": [
    {
     "data": {
      "text/plain": [
       "(6.318322860605256, 10.366251712857887)"
      ]
     },
     "execution_count": 10,
     "metadata": {},
     "output_type": "execute_result"
    }
   ],
   "source": [
    "np.mean(list(mapes.values())), np.mean(list(maes.values()))"
   ]
  },
  {
   "cell_type": "markdown",
   "id": "cdb475a9",
   "metadata": {},
   "source": [
    "### Global model"
   ]
  },
  {
   "cell_type": "code",
   "execution_count": 11,
   "id": "47343a36",
   "metadata": {},
   "outputs": [
    {
     "name": "stdout",
     "output_type": "stream",
     "text": [
      "Training global model\n",
      "Global model trained in 11.22 seconds\n",
      "**************************************************\n"
     ]
    }
   ],
   "source": [
    "print(f\"Training global model\")\n",
    "start = time.time()\n",
    "model = XGBModel(\n",
    "    lags=15,\n",
    "    lags_past_covariates=1,\n",
    "    lags_future_covariates=[0],\n",
    "    output_chunk_length=1,\n",
    "    random_state=42,\n",
    "    add_encoders={\n",
    "        'datetime_attribute': {\n",
    "            'future': ['month', 'day', 'dayofweek', 'dayofyear', 'quarter', 'year'] # automatically generate future covariates from time series\n",
    "        }\n",
    "    },\n",
    "    use_static_covariates=True,\n",
    "    n_estimators=1000,\n",
    "    eta=0.01,\n",
    "    max_depth=8,\n",
    "    subsample=0.8\n",
    ")\n",
    "\n",
    "model.fit(\n",
    "    [ts['close'] for ts in train.values()],\n",
    "    past_covariates=[ts[['high', 'low', 'volume', 'open']] for ts in train.values()],\n",
    ")\n",
    "\n",
    "end = time.time()\n",
    "print(f\"Global model trained in {end - start:.2f} seconds\")\n",
    "print(\"*\" * 50)"
   ]
  },
  {
   "cell_type": "code",
   "execution_count": 12,
   "id": "e80265b5",
   "metadata": {},
   "outputs": [
    {
     "name": "stdout",
     "output_type": "stream",
     "text": [
      "Global model for ALB, MAPE: 9.12, MAE: 7.21\n",
      "**************************************************\n",
      "Global model for AMCR, MAPE: 1.92, MAE: 0.19\n",
      "**************************************************\n",
      "Global model for APD, MAPE: 2.70, MAE: 7.83\n",
      "**************************************************\n",
      "Global model for AVY, MAPE: 1.98, MAE: 3.96\n",
      "**************************************************\n",
      "Global model for BALL, MAPE: 8.78, MAE: 5.00\n",
      "**************************************************\n",
      "Global model for CF, MAPE: 5.63, MAE: 4.44\n",
      "**************************************************\n",
      "Global model for CTVA, MAPE: 2.92, MAE: 1.73\n",
      "**************************************************\n",
      "Global model for DD, MAPE: 3.13, MAE: 2.25\n",
      "**************************************************\n",
      "Global model for DOW, MAPE: 8.02, MAE: 2.88\n",
      "**************************************************\n",
      "Global model for ECL, MAPE: 1.93, MAE: 4.72\n",
      "**************************************************\n",
      "Global model for EMN, MAPE: 4.24, MAE: 3.78\n",
      "**************************************************\n",
      "Global model for FCX, MAPE: 5.08, MAE: 2.08\n",
      "**************************************************\n",
      "Global model for IFF, MAPE: 6.37, MAE: 5.30\n",
      "**************************************************\n",
      "Global model for IP, MAPE: 4.14, MAE: 2.00\n",
      "**************************************************\n",
      "Global model for LIN, MAPE: 7.53, MAE: 34.16\n",
      "**************************************************\n",
      "Global model for LYB, MAPE: 12.01, MAE: 8.74\n",
      "**************************************************\n",
      "Global model for MLM, MAPE: 13.69, MAE: 73.23\n",
      "**************************************************\n",
      "Global model for MOS, MAPE: 4.12, MAE: 1.07\n",
      "**************************************************\n",
      "Global model for NEM, MAPE: 5.12, MAE: 2.34\n",
      "**************************************************\n",
      "Global model for NUE, MAPE: 3.28, MAE: 4.40\n",
      "**************************************************\n",
      "Global model for PKG, MAPE: 2.74, MAE: 5.72\n",
      "**************************************************\n",
      "Global model for PPG, MAPE: 2.99, MAE: 3.46\n",
      "**************************************************\n",
      "Global model for SHW, MAPE: 2.47, MAE: 8.70\n",
      "**************************************************\n",
      "Global model for STLD, MAPE: 3.42, MAE: 4.25\n",
      "**************************************************\n",
      "Global model for SW, MAPE: 2.38, MAE: 0.96\n",
      "**************************************************\n",
      "Global model for VMC, MAPE: 2.09, MAE: 5.32\n",
      "**************************************************\n"
     ]
    }
   ],
   "source": [
    "mapes = {}\n",
    "maes = {}\n",
    "\n",
    "for ticker in data.keys():\n",
    "    y_pred = model.predict(\n",
    "        n=len(test[ticker]['close']),\n",
    "        series=train[ticker]['close'],\n",
    "        past_covariates=test[ticker][['high', 'low', 'volume', 'open']],\n",
    "        show_warnings=False\n",
    "    )\n",
    "    y_test = test[ticker]['close']\n",
    "    mape_ = mape(y_test, y_pred)\n",
    "    mae_ = mae(y_test, y_pred)\n",
    "\n",
    "    mapes[ticker] = mape_\n",
    "    maes[ticker] = mae_\n",
    "\n",
    "    print(f\"Global model for {ticker}, MAPE: {mape_:.2f}, MAE: {mae_:.2f}\")\n",
    "    print(\"*\" * 50)"
   ]
  },
  {
   "cell_type": "code",
   "execution_count": 13,
   "id": "954892bf",
   "metadata": {},
   "outputs": [
    {
     "data": {
      "text/plain": [
       "(4.9154103202791415, 7.912543004498281)"
      ]
     },
     "execution_count": 13,
     "metadata": {},
     "output_type": "execute_result"
    }
   ],
   "source": [
    "np.mean(list(mapes.values())), np.mean(list(maes.values()))"
   ]
  },
  {
   "cell_type": "markdown",
   "id": "954b34fb",
   "metadata": {},
   "source": [
    "## Prophet model"
   ]
  },
  {
   "cell_type": "code",
   "execution_count": 14,
   "id": "0ca95853",
   "metadata": {},
   "outputs": [
    {
     "name": "stdout",
     "output_type": "stream",
     "text": [
      "Training model for ALB\n"
     ]
    },
    {
     "name": "stderr",
     "output_type": "stream",
     "text": [
      "22:08:43 - cmdstanpy - INFO - Chain [1] start processing\n",
      "22:08:45 - cmdstanpy - INFO - Chain [1] done processing\n"
     ]
    },
    {
     "name": "stdout",
     "output_type": "stream",
     "text": [
      "Model for ALB trained in 2.63 seconds\n",
      "**************************************************\n",
      "Training model for AMCR\n"
     ]
    },
    {
     "name": "stderr",
     "output_type": "stream",
     "text": [
      "22:08:46 - cmdstanpy - INFO - Chain [1] start processing\n",
      "22:08:48 - cmdstanpy - INFO - Chain [1] done processing\n"
     ]
    },
    {
     "name": "stdout",
     "output_type": "stream",
     "text": [
      "Model for AMCR trained in 2.93 seconds\n",
      "**************************************************\n",
      "Training model for APD\n"
     ]
    },
    {
     "name": "stderr",
     "output_type": "stream",
     "text": [
      "22:08:49 - cmdstanpy - INFO - Chain [1] start processing\n",
      "22:08:52 - cmdstanpy - INFO - Chain [1] done processing\n"
     ]
    },
    {
     "name": "stdout",
     "output_type": "stream",
     "text": [
      "Model for APD trained in 3.49 seconds\n",
      "**************************************************\n",
      "Training model for AVY\n"
     ]
    },
    {
     "name": "stderr",
     "output_type": "stream",
     "text": [
      "22:08:52 - cmdstanpy - INFO - Chain [1] start processing\n",
      "22:08:55 - cmdstanpy - INFO - Chain [1] done processing\n"
     ]
    },
    {
     "name": "stdout",
     "output_type": "stream",
     "text": [
      "Model for AVY trained in 3.38 seconds\n",
      "**************************************************\n",
      "Training model for BALL\n"
     ]
    },
    {
     "name": "stderr",
     "output_type": "stream",
     "text": [
      "22:08:55 - cmdstanpy - INFO - Chain [1] start processing\n",
      "22:08:58 - cmdstanpy - INFO - Chain [1] done processing\n"
     ]
    },
    {
     "name": "stdout",
     "output_type": "stream",
     "text": [
      "Model for BALL trained in 3.16 seconds\n",
      "**************************************************\n",
      "Training model for CF\n"
     ]
    },
    {
     "name": "stderr",
     "output_type": "stream",
     "text": [
      "22:08:59 - cmdstanpy - INFO - Chain [1] start processing\n",
      "22:09:01 - cmdstanpy - INFO - Chain [1] done processing\n"
     ]
    },
    {
     "name": "stdout",
     "output_type": "stream",
     "text": [
      "Model for CF trained in 2.86 seconds\n",
      "**************************************************\n",
      "Training model for CTVA\n"
     ]
    },
    {
     "name": "stderr",
     "output_type": "stream",
     "text": [
      "22:09:01 - cmdstanpy - INFO - Chain [1] start processing\n",
      "22:09:03 - cmdstanpy - INFO - Chain [1] done processing\n"
     ]
    },
    {
     "name": "stdout",
     "output_type": "stream",
     "text": [
      "Model for CTVA trained in 1.93 seconds\n",
      "**************************************************\n",
      "Training model for DD\n"
     ]
    },
    {
     "name": "stderr",
     "output_type": "stream",
     "text": [
      "22:09:03 - cmdstanpy - INFO - Chain [1] start processing\n",
      "22:09:06 - cmdstanpy - INFO - Chain [1] done processing\n"
     ]
    },
    {
     "name": "stdout",
     "output_type": "stream",
     "text": [
      "Model for DD trained in 3.11 seconds\n",
      "**************************************************\n",
      "Training model for DOW\n"
     ]
    },
    {
     "name": "stderr",
     "output_type": "stream",
     "text": [
      "22:09:06 - cmdstanpy - INFO - Chain [1] start processing\n",
      "22:09:07 - cmdstanpy - INFO - Chain [1] done processing\n"
     ]
    },
    {
     "name": "stdout",
     "output_type": "stream",
     "text": [
      "Model for DOW trained in 0.78 seconds\n",
      "**************************************************\n",
      "Training model for ECL\n"
     ]
    },
    {
     "name": "stderr",
     "output_type": "stream",
     "text": [
      "22:09:07 - cmdstanpy - INFO - Chain [1] start processing\n",
      "22:09:10 - cmdstanpy - INFO - Chain [1] done processing\n"
     ]
    },
    {
     "name": "stdout",
     "output_type": "stream",
     "text": [
      "Model for ECL trained in 3.23 seconds\n",
      "**************************************************\n",
      "Training model for EMN\n"
     ]
    },
    {
     "name": "stderr",
     "output_type": "stream",
     "text": [
      "22:09:11 - cmdstanpy - INFO - Chain [1] start processing\n",
      "22:09:13 - cmdstanpy - INFO - Chain [1] done processing\n"
     ]
    },
    {
     "name": "stdout",
     "output_type": "stream",
     "text": [
      "Model for EMN trained in 2.86 seconds\n",
      "**************************************************\n",
      "Training model for FCX\n"
     ]
    },
    {
     "name": "stderr",
     "output_type": "stream",
     "text": [
      "22:09:13 - cmdstanpy - INFO - Chain [1] start processing\n",
      "22:09:16 - cmdstanpy - INFO - Chain [1] done processing\n"
     ]
    },
    {
     "name": "stdout",
     "output_type": "stream",
     "text": [
      "Model for FCX trained in 3.16 seconds\n",
      "**************************************************\n",
      "Training model for IFF\n"
     ]
    },
    {
     "name": "stderr",
     "output_type": "stream",
     "text": [
      "22:09:17 - cmdstanpy - INFO - Chain [1] start processing\n",
      "22:09:20 - cmdstanpy - INFO - Chain [1] done processing\n"
     ]
    },
    {
     "name": "stdout",
     "output_type": "stream",
     "text": [
      "Model for IFF trained in 3.44 seconds\n",
      "**************************************************\n",
      "Training model for IP\n"
     ]
    },
    {
     "name": "stderr",
     "output_type": "stream",
     "text": [
      "22:09:20 - cmdstanpy - INFO - Chain [1] start processing\n",
      "22:09:23 - cmdstanpy - INFO - Chain [1] done processing\n"
     ]
    },
    {
     "name": "stdout",
     "output_type": "stream",
     "text": [
      "Model for IP trained in 2.98 seconds\n",
      "**************************************************\n",
      "Training model for LIN\n"
     ]
    },
    {
     "name": "stderr",
     "output_type": "stream",
     "text": [
      "22:09:23 - cmdstanpy - INFO - Chain [1] start processing\n",
      "22:09:25 - cmdstanpy - INFO - Chain [1] done processing\n"
     ]
    },
    {
     "name": "stdout",
     "output_type": "stream",
     "text": [
      "Model for LIN trained in 2.29 seconds\n",
      "**************************************************\n",
      "Training model for LYB\n"
     ]
    },
    {
     "name": "stderr",
     "output_type": "stream",
     "text": [
      "22:09:25 - cmdstanpy - INFO - Chain [1] start processing\n",
      "22:09:28 - cmdstanpy - INFO - Chain [1] done processing\n"
     ]
    },
    {
     "name": "stdout",
     "output_type": "stream",
     "text": [
      "Model for LYB trained in 3.19 seconds\n",
      "**************************************************\n",
      "Training model for MLM\n"
     ]
    },
    {
     "name": "stderr",
     "output_type": "stream",
     "text": [
      "22:09:28 - cmdstanpy - INFO - Chain [1] start processing\n",
      "22:09:31 - cmdstanpy - INFO - Chain [1] done processing\n"
     ]
    },
    {
     "name": "stdout",
     "output_type": "stream",
     "text": [
      "Model for MLM trained in 3.03 seconds\n",
      "**************************************************\n",
      "Training model for MOS\n"
     ]
    },
    {
     "name": "stderr",
     "output_type": "stream",
     "text": [
      "22:09:32 - cmdstanpy - INFO - Chain [1] start processing\n",
      "22:09:34 - cmdstanpy - INFO - Chain [1] done processing\n"
     ]
    },
    {
     "name": "stdout",
     "output_type": "stream",
     "text": [
      "Model for MOS trained in 2.88 seconds\n",
      "**************************************************\n",
      "Training model for NEM\n"
     ]
    },
    {
     "name": "stderr",
     "output_type": "stream",
     "text": [
      "22:09:35 - cmdstanpy - INFO - Chain [1] start processing\n",
      "22:09:38 - cmdstanpy - INFO - Chain [1] done processing\n"
     ]
    },
    {
     "name": "stdout",
     "output_type": "stream",
     "text": [
      "Model for NEM trained in 3.44 seconds\n",
      "**************************************************\n",
      "Training model for NUE\n"
     ]
    },
    {
     "name": "stderr",
     "output_type": "stream",
     "text": [
      "22:09:38 - cmdstanpy - INFO - Chain [1] start processing\n",
      "22:09:41 - cmdstanpy - INFO - Chain [1] done processing\n"
     ]
    },
    {
     "name": "stdout",
     "output_type": "stream",
     "text": [
      "Model for NUE trained in 3.32 seconds\n",
      "**************************************************\n",
      "Training model for PKG\n"
     ]
    },
    {
     "name": "stderr",
     "output_type": "stream",
     "text": [
      "22:09:41 - cmdstanpy - INFO - Chain [1] start processing\n",
      "22:09:44 - cmdstanpy - INFO - Chain [1] done processing\n"
     ]
    },
    {
     "name": "stdout",
     "output_type": "stream",
     "text": [
      "Model for PKG trained in 2.91 seconds\n",
      "**************************************************\n",
      "Training model for PPG\n"
     ]
    },
    {
     "name": "stderr",
     "output_type": "stream",
     "text": [
      "22:09:44 - cmdstanpy - INFO - Chain [1] start processing\n",
      "22:09:47 - cmdstanpy - INFO - Chain [1] done processing\n"
     ]
    },
    {
     "name": "stdout",
     "output_type": "stream",
     "text": [
      "Model for PPG trained in 3.11 seconds\n",
      "**************************************************\n",
      "Training model for SHW\n"
     ]
    },
    {
     "name": "stderr",
     "output_type": "stream",
     "text": [
      "22:09:47 - cmdstanpy - INFO - Chain [1] start processing\n",
      "22:09:49 - cmdstanpy - INFO - Chain [1] done processing\n"
     ]
    },
    {
     "name": "stdout",
     "output_type": "stream",
     "text": [
      "Model for SHW trained in 2.06 seconds\n",
      "**************************************************\n",
      "Training model for STLD\n"
     ]
    },
    {
     "name": "stderr",
     "output_type": "stream",
     "text": [
      "22:09:49 - cmdstanpy - INFO - Chain [1] start processing\n",
      "22:09:51 - cmdstanpy - INFO - Chain [1] done processing\n",
      "22:09:51 - cmdstanpy - INFO - Chain [1] start processing\n"
     ]
    },
    {
     "name": "stdout",
     "output_type": "stream",
     "text": [
      "Model for STLD trained in 2.22 seconds\n",
      "**************************************************\n",
      "Training model for SW\n"
     ]
    },
    {
     "name": "stderr",
     "output_type": "stream",
     "text": [
      "22:09:51 - cmdstanpy - INFO - Chain [1] done processing\n"
     ]
    },
    {
     "name": "stdout",
     "output_type": "stream",
     "text": [
      "Model for SW trained in 0.24 seconds\n",
      "**************************************************\n",
      "Training model for VMC\n"
     ]
    },
    {
     "name": "stderr",
     "output_type": "stream",
     "text": [
      "22:09:52 - cmdstanpy - INFO - Chain [1] start processing\n",
      "22:09:54 - cmdstanpy - INFO - Chain [1] done processing\n"
     ]
    },
    {
     "name": "stdout",
     "output_type": "stream",
     "text": [
      "Model for VMC trained in 2.66 seconds\n",
      "**************************************************\n"
     ]
    }
   ],
   "source": [
    "models_prophet = {}\n",
    "\n",
    "for ticker in data.keys():\n",
    "    print(f\"Training model for {ticker}\")\n",
    "    start = time.time()\n",
    "    model = Prophet(\n",
    "        add_encoders={\n",
    "            'datetime_attribute': {\n",
    "                'future': ['month', 'day', 'dayofweek', 'dayofyear', 'quarter', 'year']  # automatically generate future covariates from time series\n",
    "            }\n",
    "        },\n",
    "        seasonality_mode='multiplicative',\n",
    "    )\n",
    "\n",
    "    model.fit(\n",
    "        train[ticker]['close']\n",
    "    )\n",
    "\n",
    "    end = time.time()\n",
    "    print(f\"Model for {ticker} trained in {end - start:.2f} seconds\")\n",
    "    print(\"*\" * 50)\n",
    "\n",
    "    models_prophet[ticker] = model"
   ]
  },
  {
   "cell_type": "code",
   "execution_count": 15,
   "id": "2ff81861",
   "metadata": {},
   "outputs": [
    {
     "name": "stdout",
     "output_type": "stream",
     "text": [
      "Ticker: ALB, MAPE: 48.40, MAE: 40.74\n",
      "**************************************************\n",
      "Ticker: AMCR, MAPE: 27.02, MAE: 2.72\n",
      "**************************************************\n",
      "Ticker: APD, MAPE: 55.24, MAE: 161.97\n",
      "**************************************************\n",
      "Ticker: AVY, MAPE: 12.17, MAE: 23.74\n",
      "**************************************************\n",
      "Ticker: BALL, MAPE: 12.21, MAE: 7.25\n",
      "**************************************************\n",
      "Ticker: CF, MAPE: 18.13, MAE: 14.83\n",
      "**************************************************\n",
      "Ticker: CTVA, MAPE: 9.79, MAE: 5.92\n",
      "**************************************************\n",
      "Ticker: DD, MAPE: 23.36, MAE: 18.46\n",
      "**************************************************\n",
      "Ticker: DOW, MAPE: 35.79, MAE: 12.63\n",
      "**************************************************\n",
      "Ticker: ECL, MAPE: 6.92, MAE: 17.07\n",
      "**************************************************\n",
      "Ticker: EMN, MAPE: 15.29, MAE: 15.01\n",
      "**************************************************\n",
      "Ticker: FCX, MAPE: 22.79, MAE: 10.19\n",
      "**************************************************\n",
      "Ticker: IFF, MAPE: 39.32, MAE: 35.92\n",
      "**************************************************\n",
      "Ticker: IP, MAPE: 33.33, MAE: 16.88\n",
      "**************************************************\n",
      "Ticker: LIN, MAPE: 9.80, MAE: 43.39\n",
      "**************************************************\n",
      "Ticker: LYB, MAPE: 23.19, MAE: 16.48\n",
      "**************************************************\n",
      "Ticker: MLM, MAPE: 19.96, MAE: 102.41\n",
      "**************************************************\n",
      "Ticker: MOS, MAPE: 16.80, MAE: 4.55\n",
      "**************************************************\n",
      "Ticker: NEM, MAPE: 30.93, MAE: 14.63\n",
      "**************************************************\n",
      "Ticker: NUE, MAPE: 30.65, MAE: 39.47\n",
      "**************************************************\n",
      "Ticker: PKG, MAPE: 10.26, MAE: 22.18\n",
      "**************************************************\n",
      "Ticker: PPG, MAPE: 10.82, MAE: 12.73\n",
      "**************************************************\n",
      "Ticker: SHW, MAPE: 6.32, MAE: 22.53\n",
      "**************************************************\n",
      "Ticker: STLD, MAPE: 12.76, MAE: 16.28\n",
      "**************************************************\n",
      "Ticker: SW, MAPE: 5.70, MAE: 2.36\n",
      "**************************************************\n",
      "Ticker: VMC, MAPE: 12.97, MAE: 31.90\n",
      "**************************************************\n"
     ]
    }
   ],
   "source": [
    "mapes_prophet = {}\n",
    "maes_prophet = {}\n",
    "\n",
    "for ticker in data.keys():\n",
    "    y_test = test[ticker]['close']\n",
    "    y_pred = models_prophet[ticker].predict(\n",
    "        n=len(y_test),\n",
    "        show_warnings=False\n",
    "    )\n",
    "    mape_ = mape(y_test, y_pred)\n",
    "    mae_ = mae(y_test, y_pred)\n",
    "    mapes_prophet[ticker] = mape_\n",
    "    maes_prophet[ticker] = mae_\n",
    "    print(f\"Ticker: {ticker}, MAPE: {mape_:.2f}, MAE: {mae_:.2f}\")\n",
    "    print(\"*\" * 50)"
   ]
  },
  {
   "cell_type": "code",
   "execution_count": 16,
   "id": "1f4600c3",
   "metadata": {},
   "outputs": [
    {
     "data": {
      "text/plain": [
       "(21.150606005538062, 27.39301378933326)"
      ]
     },
     "execution_count": 16,
     "metadata": {},
     "output_type": "execute_result"
    }
   ],
   "source": [
    "np.mean(list(mapes_prophet.values())), np.mean(list(maes_prophet.values()))"
   ]
  },
  {
   "cell_type": "markdown",
   "id": "5e177a24",
   "metadata": {},
   "source": [
    "## Theta model"
   ]
  },
  {
   "cell_type": "code",
   "execution_count": 17,
   "id": "92b8127c",
   "metadata": {},
   "outputs": [
    {
     "name": "stdout",
     "output_type": "stream",
     "text": [
      "Training model for ALB\n",
      "Model for ALB trained in 0.59 seconds\n",
      "**************************************************\n",
      "Training model for AMCR\n",
      "Model for AMCR trained in 0.63 seconds\n",
      "**************************************************\n",
      "Training model for APD\n",
      "Model for APD trained in 0.72 seconds\n",
      "**************************************************\n",
      "Training model for AVY\n",
      "Model for AVY trained in 0.82 seconds\n",
      "**************************************************\n",
      "Training model for BALL\n",
      "Model for BALL trained in 0.60 seconds\n",
      "**************************************************\n",
      "Training model for CF\n",
      "Model for CF trained in 0.64 seconds\n",
      "**************************************************\n",
      "Training model for CTVA\n",
      "Model for CTVA trained in 0.27 seconds\n",
      "**************************************************\n",
      "Training model for DD\n",
      "Model for DD trained in 0.59 seconds\n",
      "**************************************************\n",
      "Training model for DOW\n",
      "Model for DOW trained in 0.28 seconds\n",
      "**************************************************\n",
      "Training model for ECL\n",
      "Model for ECL trained in 1.13 seconds\n",
      "**************************************************\n",
      "Training model for EMN\n",
      "Model for EMN trained in 0.72 seconds\n",
      "**************************************************\n",
      "Training model for FCX\n",
      "Model for FCX trained in 0.65 seconds\n",
      "**************************************************\n",
      "Training model for IFF\n",
      "Model for IFF trained in 0.59 seconds\n",
      "**************************************************\n",
      "Training model for IP\n",
      "Model for IP trained in 0.65 seconds\n",
      "**************************************************\n",
      "Training model for LIN\n",
      "Model for LIN trained in 1.73 seconds\n",
      "**************************************************\n",
      "Training model for LYB\n",
      "Model for LYB trained in 0.56 seconds\n",
      "**************************************************\n",
      "Training model for MLM\n",
      "Model for MLM trained in 0.99 seconds\n",
      "**************************************************\n",
      "Training model for MOS\n",
      "Model for MOS trained in 0.57 seconds\n",
      "**************************************************\n",
      "Training model for NEM\n",
      "Model for NEM trained in 0.61 seconds\n",
      "**************************************************\n",
      "Training model for NUE\n",
      "Model for NUE trained in 0.87 seconds\n",
      "**************************************************\n",
      "Training model for PKG\n",
      "Model for PKG trained in 0.88 seconds\n",
      "**************************************************\n",
      "Training model for PPG\n",
      "Model for PPG trained in 0.58 seconds\n",
      "**************************************************\n",
      "Training model for SHW\n",
      "Model for SHW trained in 1.03 seconds\n",
      "**************************************************\n",
      "Training model for STLD\n",
      "Model for STLD trained in 1.06 seconds\n",
      "**************************************************\n",
      "Training model for SW\n",
      "Model for SW trained in 0.01 seconds\n",
      "**************************************************\n",
      "Training model for VMC\n",
      "Model for VMC trained in 0.98 seconds\n",
      "**************************************************\n"
     ]
    }
   ],
   "source": [
    "models_theta = {}\n",
    "\n",
    "for ticker in data.keys():\n",
    "    print(f\"Training model for {ticker}\")\n",
    "    start = time.time()\n",
    "    model = AutoTheta(\n",
    "        season_length=30\n",
    "    )\n",
    "\n",
    "    model.fit(\n",
    "        series=train[ticker]['close']\n",
    "    )\n",
    "\n",
    "    end = time.time()\n",
    "    print(f\"Model for {ticker} trained in {end - start:.2f} seconds\")\n",
    "    print(\"*\" * 50)\n",
    "\n",
    "    models_theta[ticker] = model"
   ]
  },
  {
   "cell_type": "code",
   "execution_count": 18,
   "id": "d466fb13",
   "metadata": {},
   "outputs": [
    {
     "name": "stdout",
     "output_type": "stream",
     "text": [
      "Ticker: ALB, MAPE: 47.39, MAE: 37.60\n",
      "**************************************************\n",
      "Ticker: AMCR, MAPE: 5.22, MAE: 0.54\n",
      "**************************************************\n",
      "Ticker: APD, MAPE: 14.33, MAE: 42.84\n",
      "**************************************************\n",
      "Ticker: AVY, MAPE: 13.79, MAE: 25.65\n",
      "**************************************************\n",
      "Ticker: BALL, MAPE: 18.04, MAE: 9.78\n",
      "**************************************************\n",
      "Ticker: CF, MAPE: 7.86, MAE: 6.63\n",
      "**************************************************\n",
      "Ticker: CTVA, MAPE: 3.29, MAE: 1.98\n",
      "**************************************************\n",
      "Ticker: DD, MAPE: 5.86, MAE: 4.38\n",
      "**************************************************\n",
      "Ticker: DOW, MAPE: 31.27, MAE: 11.10\n",
      "**************************************************\n",
      "Ticker: ECL, MAPE: 6.91, MAE: 17.23\n",
      "**************************************************\n",
      "Ticker: EMN, MAPE: 6.79, MAE: 6.27\n",
      "**************************************************\n",
      "Ticker: FCX, MAPE: 17.90, MAE: 6.93\n",
      "**************************************************\n",
      "Ticker: IFF, MAPE: 9.18, MAE: 8.50\n",
      "**************************************************\n",
      "Ticker: IP, MAPE: 28.42, MAE: 14.46\n",
      "**************************************************\n",
      "Ticker: LIN, MAPE: 4.11, MAE: 18.65\n",
      "**************************************************\n",
      "Ticker: LYB, MAPE: 17.97, MAE: 12.72\n",
      "**************************************************\n",
      "Ticker: MLM, MAPE: 12.94, MAE: 66.52\n",
      "**************************************************\n",
      "Ticker: MOS, MAPE: 6.10, MAE: 1.58\n",
      "**************************************************\n",
      "Ticker: NEM, MAPE: 10.08, MAE: 4.98\n",
      "**************************************************\n",
      "Ticker: NUE, MAPE: 26.99, MAE: 34.91\n",
      "**************************************************\n",
      "Ticker: PKG, MAPE: 13.87, MAE: 30.13\n",
      "**************************************************\n",
      "Ticker: PPG, MAPE: 9.11, MAE: 10.32\n",
      "**************************************************\n",
      "Ticker: SHW, MAPE: 10.71, MAE: 38.67\n",
      "**************************************************\n",
      "Ticker: STLD, MAPE: 8.38, MAE: 10.13\n",
      "**************************************************\n",
      "Ticker: SW, MAPE: 3.78, MAE: 1.53\n",
      "**************************************************\n",
      "Ticker: VMC, MAPE: 6.52, MAE: 16.13\n",
      "**************************************************\n"
     ]
    }
   ],
   "source": [
    "mapes_theta = {}\n",
    "maes_theta = {}\n",
    "\n",
    "for ticker in data.keys():\n",
    "    y_test = test[ticker]['close']\n",
    "    y_pred = models_theta[ticker].predict(\n",
    "        n=len(y_test),\n",
    "        show_warnings=False\n",
    "    )\n",
    "    mape_ = mape(y_test, y_pred)\n",
    "    mae_ = mae(y_test, y_pred)\n",
    "    mapes_theta[ticker] = mape_\n",
    "    maes_theta[ticker] = mae_\n",
    "    print(f\"Ticker: {ticker}, MAPE: {mape_:.2f}, MAE: {mae_:.2f}\")\n",
    "    print(\"*\" * 50)"
   ]
  },
  {
   "cell_type": "code",
   "execution_count": 19,
   "id": "25979024",
   "metadata": {},
   "outputs": [
    {
     "data": {
      "text/plain": [
       "(13.338419316203742, 16.929362164119542)"
      ]
     },
     "execution_count": 19,
     "metadata": {},
     "output_type": "execute_result"
    }
   ],
   "source": [
    "np.mean(list(mapes_theta.values())), np.mean(list(maes_theta.values()))"
   ]
  },
  {
   "cell_type": "markdown",
   "id": "d147b846",
   "metadata": {},
   "source": [
    "## Linear Regression"
   ]
  },
  {
   "cell_type": "markdown",
   "id": "6df2f493",
   "metadata": {},
   "source": [
    "### Local model"
   ]
  },
  {
   "cell_type": "code",
   "execution_count": 20,
   "id": "a98d2d26",
   "metadata": {},
   "outputs": [
    {
     "name": "stdout",
     "output_type": "stream",
     "text": [
      "Training model for ALB\n",
      "Model for ALB trained in 0.13 seconds\n",
      "**************************************************\n",
      "Training model for AMCR\n",
      "Model for AMCR trained in 0.13 seconds\n",
      "**************************************************\n",
      "Training model for APD\n",
      "Model for APD trained in 0.12 seconds\n",
      "**************************************************\n",
      "Training model for AVY\n",
      "Model for AVY trained in 0.12 seconds\n",
      "**************************************************\n",
      "Training model for BALL\n",
      "Model for BALL trained in 0.13 seconds\n",
      "**************************************************\n",
      "Training model for CF\n",
      "Model for CF trained in 0.12 seconds\n",
      "**************************************************\n",
      "Training model for CTVA\n",
      "Model for CTVA trained in 0.09 seconds\n",
      "**************************************************\n",
      "Training model for DD\n",
      "Model for DD trained in 0.12 seconds\n",
      "**************************************************\n",
      "Training model for DOW\n",
      "Model for DOW trained in 0.09 seconds\n",
      "**************************************************\n",
      "Training model for ECL\n",
      "Model for ECL trained in 0.12 seconds\n",
      "**************************************************\n",
      "Training model for EMN\n",
      "Model for EMN trained in 0.12 seconds\n",
      "**************************************************\n",
      "Training model for FCX\n",
      "Model for FCX trained in 0.12 seconds\n",
      "**************************************************\n",
      "Training model for IFF\n",
      "Model for IFF trained in 0.12 seconds\n",
      "**************************************************\n",
      "Training model for IP\n",
      "Model for IP trained in 0.12 seconds\n",
      "**************************************************\n",
      "Training model for LIN\n",
      "Model for LIN trained in 0.13 seconds\n",
      "**************************************************\n",
      "Training model for LYB\n",
      "Model for LYB trained in 0.15 seconds\n",
      "**************************************************\n",
      "Training model for MLM\n",
      "Model for MLM trained in 0.13 seconds\n",
      "**************************************************\n",
      "Training model for MOS\n",
      "Model for MOS trained in 0.12 seconds\n",
      "**************************************************\n",
      "Training model for NEM\n",
      "Model for NEM trained in 0.12 seconds\n",
      "**************************************************\n",
      "Training model for NUE\n",
      "Model for NUE trained in 0.12 seconds\n",
      "**************************************************\n",
      "Training model for PKG\n",
      "Model for PKG trained in 0.12 seconds\n",
      "**************************************************\n",
      "Training model for PPG\n",
      "Model for PPG trained in 0.13 seconds\n",
      "**************************************************\n",
      "Training model for SHW\n",
      "Model for SHW trained in 0.14 seconds\n",
      "**************************************************\n",
      "Training model for STLD\n",
      "Model for STLD trained in 0.14 seconds\n",
      "**************************************************\n",
      "Training model for SW\n",
      "Model for SW trained in 0.05 seconds\n",
      "**************************************************\n",
      "Training model for VMC\n",
      "Model for VMC trained in 0.13 seconds\n",
      "**************************************************\n"
     ]
    }
   ],
   "source": [
    "models_lr = {}\n",
    "\n",
    "for ticker in data.keys():\n",
    "    print(f\"Training model for {ticker}\")\n",
    "    start = time.time()\n",
    "    model = LinearRegressionModel(\n",
    "        lags=15,\n",
    "        lags_past_covariates=1,\n",
    "        lags_future_covariates=[0],\n",
    "        output_chunk_length=1,\n",
    "        random_state=42,\n",
    "        add_encoders={\n",
    "            'datetime_attribute': {\n",
    "                'future': ['month', 'day', 'dayofweek', 'dayofyear', 'quarter', 'year'] # automatically generate future covariates from time series\n",
    "            }\n",
    "        }\n",
    "    )\n",
    "\n",
    "    model.fit(\n",
    "        train[ticker]['close'],\n",
    "        past_covariates=train[ticker][['high', 'low', 'volume', 'open']],\n",
    "    )\n",
    "\n",
    "    end = time.time()\n",
    "    print(f\"Model for {ticker} trained in {end - start:.2f} seconds\")\n",
    "    print(\"*\" * 50)\n",
    "\n",
    "    models_lr[ticker] = model"
   ]
  },
  {
   "cell_type": "code",
   "execution_count": 21,
   "id": "79a5002a",
   "metadata": {},
   "outputs": [
    {
     "name": "stdout",
     "output_type": "stream",
     "text": [
      "Ticker: ALB, MAPE: 18.85, MAE: 15.04\n",
      "**************************************************\n",
      "Ticker: AMCR, MAPE: 1.90, MAE: 0.19\n",
      "**************************************************\n",
      "Ticker: APD, MAPE: 2.53, MAE: 7.32\n",
      "**************************************************\n",
      "Ticker: AVY, MAPE: 2.00, MAE: 3.91\n",
      "**************************************************\n",
      "Ticker: BALL, MAPE: 2.34, MAE: 1.33\n",
      "**************************************************\n",
      "Ticker: CF, MAPE: 3.17, MAE: 2.55\n",
      "**************************************************\n",
      "Ticker: CTVA, MAPE: 2.01, MAE: 1.20\n",
      "**************************************************\n",
      "Ticker: DD, MAPE: 7.08, MAE: 5.50\n",
      "**************************************************\n",
      "Ticker: DOW, MAPE: 13.26, MAE: 4.84\n",
      "**************************************************\n",
      "Ticker: ECL, MAPE: 1.95, MAE: 4.79\n",
      "**************************************************\n",
      "Ticker: EMN, MAPE: 4.28, MAE: 3.93\n",
      "**************************************************\n",
      "Ticker: FCX, MAPE: 4.92, MAE: 2.01\n",
      "**************************************************\n",
      "Ticker: IFF, MAPE: 23536.18, MAE: 18214.88\n",
      "**************************************************\n",
      "Ticker: IP, MAPE: 2.57, MAE: 1.27\n",
      "**************************************************\n",
      "Ticker: LIN, MAPE: 1.52, MAE: 6.78\n",
      "**************************************************\n",
      "Ticker: LYB, MAPE: 36.32, MAE: 24.84\n",
      "**************************************************\n",
      "Ticker: MLM, MAPE: 2.71, MAE: 14.44\n",
      "**************************************************\n",
      "Ticker: MOS, MAPE: 21.81, MAE: 5.66\n",
      "**************************************************\n",
      "Ticker: NEM, MAPE: 6.09, MAE: 2.79\n",
      "**************************************************\n",
      "Ticker: NUE, MAPE: 156485627727.26, MAE: 180993829081.74\n",
      "**************************************************\n",
      "Ticker: PKG, MAPE: 6.80, MAE: 14.41\n",
      "**************************************************\n",
      "Ticker: PPG, MAPE: 3.22, MAE: 3.73\n",
      "**************************************************\n",
      "Ticker: SHW, MAPE: 3.32, MAE: 11.60\n",
      "**************************************************\n",
      "Ticker: STLD, MAPE: 1957837.99, MAE: 2420919.76\n",
      "**************************************************\n",
      "Ticker: SW, MAPE: 16.67, MAE: 6.88\n",
      "**************************************************\n",
      "Ticker: VMC, MAPE: 2.58, MAE: 6.56\n",
      "**************************************************\n"
     ]
    }
   ],
   "source": [
    "mapes_lr = {}\n",
    "maes_lr = {}\n",
    "\n",
    "for ticker in data.keys():\n",
    "    y_test = test[ticker]['close']\n",
    "    y_pred = models_lr[ticker].predict(\n",
    "        n=len(y_test),\n",
    "        past_covariates=test[ticker][['high', 'low', 'volume', 'open']],\n",
    "        show_warnings=False\n",
    "    )\n",
    "    mape_ = mape(y_test, y_pred)\n",
    "    mae_ = mae(y_test, y_pred)\n",
    "    mapes_lr[ticker] = mape_\n",
    "    maes_lr[ticker] = mae_\n",
    "    print(f\"Ticker: {ticker}, MAPE: {mape_:.2f}, MAE: {mae_:.2f}\")\n",
    "    print(\"*\" * 50)"
   ]
  },
  {
   "cell_type": "code",
   "execution_count": 22,
   "id": "1a3fbd8d",
   "metadata": {},
   "outputs": [
    {
     "data": {
      "text/plain": [
       "(6018754202.666317, 6961394937.228497)"
      ]
     },
     "execution_count": 22,
     "metadata": {},
     "output_type": "execute_result"
    }
   ],
   "source": [
    "np.mean(list(mapes_lr.values())), np.mean(list(maes_lr.values()))"
   ]
  },
  {
   "cell_type": "markdown",
   "id": "1f27462f",
   "metadata": {},
   "source": [
    "### Global model"
   ]
  },
  {
   "cell_type": "code",
   "execution_count": 23,
   "id": "3879adfb",
   "metadata": {},
   "outputs": [
    {
     "name": "stdout",
     "output_type": "stream",
     "text": [
      "Training global model\n",
      "Global model trained in 3.11 seconds\n",
      "**************************************************\n"
     ]
    }
   ],
   "source": [
    "print(f\"Training global model\")\n",
    "start = time.time()\n",
    "model = LinearRegressionModel(\n",
    "    lags=15,\n",
    "    lags_past_covariates=1,\n",
    "    lags_future_covariates=[0],\n",
    "    output_chunk_length=1,\n",
    "    random_state=42,\n",
    "    add_encoders={\n",
    "        'datetime_attribute': {\n",
    "            'future': ['month', 'day', 'dayofweek', 'dayofyear', 'quarter', 'year'] # automatically generate future covariates from time series\n",
    "        }\n",
    "    }\n",
    ")\n",
    "\n",
    "model.fit(\n",
    "    [ts['close'] for ts in train.values()],\n",
    "    past_covariates=[ts[['high', 'low', 'volume', 'open']] for ts in train.values()],\n",
    ")\n",
    "\n",
    "end = time.time()\n",
    "print(f\"Global model trained in {end - start:.2f} seconds\")\n",
    "print(\"*\" * 50)"
   ]
  },
  {
   "cell_type": "code",
   "execution_count": 24,
   "id": "545bdc45",
   "metadata": {},
   "outputs": [
    {
     "name": "stdout",
     "output_type": "stream",
     "text": [
      "Global model for ALB, MAPE: 6.89, MAE: 5.76\n",
      "**************************************************\n",
      "Global model for AMCR, MAPE: 4.04, MAE: 0.40\n",
      "**************************************************\n",
      "Global model for APD, MAPE: 3.28, MAE: 9.47\n",
      "**************************************************\n",
      "Global model for AVY, MAPE: 2.14, MAE: 4.21\n",
      "**************************************************\n",
      "Global model for BALL, MAPE: 3.05, MAE: 1.74\n",
      "**************************************************\n",
      "Global model for CF, MAPE: 3.30, MAE: 2.64\n",
      "**************************************************\n",
      "Global model for CTVA, MAPE: 2.76, MAE: 1.65\n",
      "**************************************************\n",
      "Global model for DD, MAPE: 2.88, MAE: 2.11\n",
      "**************************************************\n",
      "Global model for DOW, MAPE: 5.17, MAE: 1.96\n",
      "**************************************************\n",
      "Global model for ECL, MAPE: 2.20, MAE: 5.37\n",
      "**************************************************\n",
      "Global model for EMN, MAPE: 3.52, MAE: 3.25\n",
      "**************************************************\n",
      "Global model for FCX, MAPE: 4.76, MAE: 1.97\n",
      "**************************************************\n",
      "Global model for IFF, MAPE: 2.83, MAE: 2.48\n",
      "**************************************************\n",
      "Global model for IP, MAPE: 3.86, MAE: 1.88\n",
      "**************************************************\n",
      "Global model for LIN, MAPE: 1.77, MAE: 7.89\n",
      "**************************************************\n",
      "Global model for LYB, MAPE: 3.30, MAE: 2.43\n",
      "**************************************************\n",
      "Global model for MLM, MAPE: 3.04, MAE: 16.19\n",
      "**************************************************\n",
      "Global model for MOS, MAPE: 4.09, MAE: 1.08\n",
      "**************************************************\n",
      "Global model for NEM, MAPE: 4.66, MAE: 2.12\n",
      "**************************************************\n",
      "Global model for NUE, MAPE: 4.32, MAE: 5.73\n",
      "**************************************************\n",
      "Global model for PKG, MAPE: 2.76, MAE: 5.69\n",
      "**************************************************\n",
      "Global model for PPG, MAPE: 2.49, MAE: 2.90\n",
      "**************************************************\n",
      "Global model for SHW, MAPE: 2.84, MAE: 9.86\n",
      "**************************************************\n",
      "Global model for STLD, MAPE: 3.90, MAE: 4.79\n",
      "**************************************************\n",
      "Global model for SW, MAPE: 3.34, MAE: 1.34\n",
      "**************************************************\n",
      "Global model for VMC, MAPE: 3.08, MAE: 7.81\n",
      "**************************************************\n"
     ]
    }
   ],
   "source": [
    "mapes_lr_global = {}\n",
    "maes_lr_global = {}\n",
    "\n",
    "for ticker in data.keys():\n",
    "    y_pred = model.predict(\n",
    "        n=len(test[ticker]['close']),\n",
    "        series=train[ticker]['close'],\n",
    "        past_covariates=test[ticker][['high', 'low', 'volume', 'open']],\n",
    "        show_warnings=False\n",
    "    )\n",
    "    y_test = test[ticker]['close']\n",
    "    mape_ = mape(y_test, y_pred)\n",
    "    mae_ = mae(y_test, y_pred)\n",
    "\n",
    "    mapes_lr_global[ticker] = mape_\n",
    "    maes_lr_global[ticker] = mae_\n",
    "\n",
    "    print(f\"Global model for {ticker}, MAPE: {mape_:.2f}, MAE: {mae_:.2f}\")\n",
    "    print(\"*\" * 50)"
   ]
  },
  {
   "cell_type": "code",
   "execution_count": 25,
   "id": "40364019",
   "metadata": {},
   "outputs": [
    {
     "data": {
      "text/plain": [
       "(3.4718968819317078, 4.335975731234646)"
      ]
     },
     "execution_count": 25,
     "metadata": {},
     "output_type": "execute_result"
    }
   ],
   "source": [
    "np.mean(list(mapes_lr_global.values())), np.mean(list(maes_lr_global.values()))"
   ]
  },
  {
   "cell_type": "markdown",
   "id": "aa41ad7a",
   "metadata": {},
   "source": [
    "## ARIMA"
   ]
  },
  {
   "cell_type": "code",
   "execution_count": 26,
   "id": "135ba2a8",
   "metadata": {},
   "outputs": [
    {
     "name": "stdout",
     "output_type": "stream",
     "text": [
      "Training model for ALB\n",
      "Model for ALB trained in 0.53 seconds\n",
      "**************************************************\n",
      "Training model for AMCR\n",
      "Model for AMCR trained in 1.81 seconds\n",
      "**************************************************\n",
      "Training model for APD\n",
      "Model for APD trained in 0.45 seconds\n",
      "**************************************************\n",
      "Training model for AVY\n",
      "Model for AVY trained in 1.48 seconds\n",
      "**************************************************\n",
      "Training model for BALL\n",
      "Model for BALL trained in 3.64 seconds\n",
      "**************************************************\n",
      "Training model for CF\n",
      "Model for CF trained in 0.58 seconds\n",
      "**************************************************\n",
      "Training model for CTVA\n",
      "Model for CTVA trained in 0.14 seconds\n",
      "**************************************************\n",
      "Training model for DD\n",
      "Model for DD trained in 0.21 seconds\n",
      "**************************************************\n",
      "Training model for DOW\n",
      "Model for DOW trained in 0.16 seconds\n",
      "**************************************************\n",
      "Training model for ECL\n",
      "Model for ECL trained in 0.40 seconds\n",
      "**************************************************\n",
      "Training model for EMN\n",
      "Model for EMN trained in 0.18 seconds\n",
      "**************************************************\n",
      "Training model for FCX\n",
      "Model for FCX trained in 1.33 seconds\n",
      "**************************************************\n",
      "Training model for IFF\n",
      "Model for IFF trained in 0.17 seconds\n",
      "**************************************************\n",
      "Training model for IP\n",
      "Model for IP trained in 0.18 seconds\n",
      "**************************************************\n",
      "Training model for LIN\n",
      "Model for LIN trained in 0.43 seconds\n",
      "**************************************************\n",
      "Training model for LYB\n",
      "Model for LYB trained in 0.50 seconds\n",
      "**************************************************\n",
      "Training model for MLM\n",
      "Model for MLM trained in 0.66 seconds\n",
      "**************************************************\n",
      "Training model for MOS\n",
      "Model for MOS trained in 0.18 seconds\n",
      "**************************************************\n",
      "Training model for NEM\n",
      "Model for NEM trained in 0.18 seconds\n",
      "**************************************************\n",
      "Training model for NUE\n",
      "Model for NUE trained in 0.39 seconds\n",
      "**************************************************\n",
      "Training model for PKG\n",
      "Model for PKG trained in 0.31 seconds\n",
      "**************************************************\n",
      "Training model for PPG\n",
      "Model for PPG trained in 0.18 seconds\n",
      "**************************************************\n",
      "Training model for SHW\n",
      "Model for SHW trained in 1.47 seconds\n",
      "**************************************************\n",
      "Training model for STLD\n",
      "Model for STLD trained in 0.31 seconds\n",
      "**************************************************\n",
      "Training model for SW\n",
      "Model for SW trained in 0.07 seconds\n",
      "**************************************************\n",
      "Training model for VMC\n",
      "Model for VMC trained in 0.35 seconds\n",
      "**************************************************\n"
     ]
    }
   ],
   "source": [
    "models_arima = {}\n",
    "\n",
    "for ticker in data.keys():\n",
    "    print(f\"Training model for {ticker}\")\n",
    "    start = time.time()\n",
    "    model = AutoARIMA()\n",
    "\n",
    "    model.fit(\n",
    "        series=train[ticker]['close'],\n",
    "    )\n",
    "\n",
    "    end = time.time()\n",
    "    print(f\"Model for {ticker} trained in {end - start:.2f} seconds\")\n",
    "    print(\"*\" * 50)\n",
    "\n",
    "    models_arima[ticker] = model"
   ]
  },
  {
   "cell_type": "code",
   "execution_count": null,
   "id": "64a5ed9e",
   "metadata": {},
   "outputs": [
    {
     "name": "stdout",
     "output_type": "stream",
     "text": [
      "Ticker: ALB, MAPE: 42.09, MAE: 33.37\n",
      "**************************************************\n",
      "Ticker: AMCR, MAPE: 7.75, MAE: 0.80\n",
      "**************************************************\n",
      "Ticker: APD, MAPE: 16.52, MAE: 49.22\n",
      "**************************************************\n",
      "Ticker: AVY, MAPE: 13.99, MAE: 26.02\n",
      "**************************************************\n",
      "Ticker: BALL, MAPE: 15.30, MAE: 8.27\n",
      "**************************************************\n",
      "Ticker: CF, MAPE: 9.96, MAE: 8.40\n",
      "**************************************************\n",
      "Ticker: CTVA, MAPE: 4.35, MAE: 2.67\n",
      "**************************************************\n",
      "Ticker: DD, MAPE: 6.05, MAE: 4.54\n",
      "**************************************************\n",
      "Ticker: DOW, MAPE: 29.77, MAE: 10.57\n",
      "**************************************************\n",
      "Ticker: ECL, MAPE: 7.99, MAE: 19.90\n",
      "**************************************************\n",
      "Ticker: EMN, MAPE: 6.80, MAE: 6.43\n",
      "**************************************************\n",
      "Ticker: FCX, MAPE: 16.11, MAE: 6.25\n",
      "**************************************************\n",
      "Ticker: IFF, MAPE: 9.24, MAE: 8.55\n",
      "**************************************************\n",
      "Ticker: IP, MAPE: 29.04, MAE: 14.77\n",
      "**************************************************\n",
      "Ticker: LIN, MAPE: 4.19, MAE: 19.00\n",
      "**************************************************\n",
      "Ticker: LYB, MAPE: 17.81, MAE: 12.57\n",
      "**************************************************\n",
      "Ticker: MLM, MAPE: 14.27, MAE: 73.46\n",
      "**************************************************\n",
      "Ticker: MOS, MAPE: 5.78, MAE: 1.50\n",
      "**************************************************\n",
      "Ticker: NEM, MAPE: 11.88, MAE: 5.86\n",
      "**************************************************\n",
      "Ticker: NUE, MAPE: 21.18, MAE: 27.32\n",
      "**************************************************\n",
      "Ticker: PKG, MAPE: 12.43, MAE: 27.09\n",
      "**************************************************\n",
      "Ticker: PPG, MAPE: 8.07, MAE: 9.13\n",
      "**************************************************\n",
      "Ticker: SHW, MAPE: 12.64, MAE: 45.54\n",
      "**************************************************\n",
      "Ticker: STLD, MAPE: 8.97, MAE: 10.84\n",
      "**************************************************\n",
      "Ticker: SW, MAPE: 3.67, MAE: 1.48\n",
      "**************************************************\n",
      "Ticker: VMC, MAPE: 8.17, MAE: 20.05\n",
      "**************************************************\n"
     ]
    }
   ],
   "source": [
    "mapes_arima = {}\n",
    "maes_arima = {}\n",
    "\n",
    "for ticker in data.keys():\n",
    "    y_test = test[ticker]['close']\n",
    "    y_pred = models_arima[ticker].predict(\n",
    "        n=len(y_test),\n",
    "        show_warnings=False\n",
    "    )\n",
    "    mape_ = mape(y_test, y_pred)\n",
    "    mae_ = mae(y_test, y_pred)\n",
    "    mapes_arima[ticker] = mape_\n",
    "    maes_arima[ticker] = mae_\n",
    "    print(f\"Ticker: {ticker}, MAPE: {mape_:.2f}, MAE: {mae_:.2f}\")\n",
    "    print(\"*\" * 50)"
   ]
  },
  {
   "cell_type": "code",
   "execution_count": 28,
   "id": "3540f772",
   "metadata": {},
   "outputs": [
    {
     "data": {
      "text/plain": [
       "(13.231832505432386, 17.446585824120774)"
      ]
     },
     "execution_count": 28,
     "metadata": {},
     "output_type": "execute_result"
    }
   ],
   "source": [
    "np.mean(list(mapes_arima.values())), np.mean(list(maes_arima.values()))"
   ]
  }
 ],
 "metadata": {
  "kernelspec": {
   "display_name": ".venv",
   "language": "python",
   "name": "python3"
  },
  "language_info": {
   "codemirror_mode": {
    "name": "ipython",
    "version": 3
   },
   "file_extension": ".py",
   "mimetype": "text/x-python",
   "name": "python",
   "nbconvert_exporter": "python",
   "pygments_lexer": "ipython3",
   "version": "3.12.1"
  }
 },
 "nbformat": 4,
 "nbformat_minor": 5
}
