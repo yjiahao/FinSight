{
 "cells": [
  {
   "cell_type": "markdown",
   "id": "a132de14",
   "metadata": {},
   "source": [
    "## Model training and tuning for the consumer discretionary sector"
   ]
  },
  {
   "cell_type": "code",
   "execution_count": 1,
   "id": "d74fe196",
   "metadata": {},
   "outputs": [
    {
     "name": "stderr",
     "output_type": "stream",
     "text": [
      "Importing plotly failed. Interactive plots will not work.\n",
      "d:\\investing-bot\\.venv\\Lib\\site-packages\\fs\\__init__.py:4: UserWarning: pkg_resources is deprecated as an API. See https://setuptools.pypa.io/en/latest/pkg_resources.html. The pkg_resources package is slated for removal as early as 2025-11-30. Refrain from using this package or pin to Setuptools<81.\n",
      "  __import__(\"pkg_resources\").declare_namespace(__name__)  # type: ignore\n"
     ]
    }
   ],
   "source": [
    "import pandas as pd\n",
    "import numpy as np\n",
    "\n",
    "import time\n",
    "\n",
    "from darts import TimeSeries, concatenate\n",
    "from darts.utils.model_selection import train_test_split\n",
    "from darts.models.forecasting.xgboost import XGBModel\n",
    "from darts.dataprocessing.transformers.scaler import Scaler\n",
    "from darts.metrics.metrics import mape, mae\n",
    "from darts.models.forecasting.prophet_model import Prophet\n",
    "from darts.models.forecasting.sf_auto_theta import AutoTheta\n",
    "from darts.models.forecasting.linear_regression_model import LinearRegressionModel\n",
    "from darts.dataprocessing.transformers import StaticCovariatesTransformer\n",
    "from darts.models.forecasting.sf_auto_arima import AutoARIMA\n",
    "from darts.dataprocessing.transformers.boxcox import BoxCox"
   ]
  },
  {
   "cell_type": "code",
   "execution_count": 2,
   "id": "8c7af10f",
   "metadata": {},
   "outputs": [],
   "source": [
    "df = pd.read_csv('../../data/processed/sp500_all_companies_cleaned_with_sector.csv')\n",
    "df['date'] = pd.to_datetime(df['date'])\n",
    "\n",
    "df_real_estate = df[df['GICS Sector'] == 'Real Estate'].sort_values(by=['ticker', 'date']).reset_index(drop=True)"
   ]
  },
  {
   "cell_type": "code",
   "execution_count": 3,
   "id": "ece8cf77",
   "metadata": {},
   "outputs": [
    {
     "data": {
      "text/plain": [
       "GICS Sector\n",
       "Industrials               193459\n",
       "Financials                190485\n",
       "Information Technology    177149\n",
       "Health Care               151348\n",
       "Consumer Discretionary    130185\n",
       "Consumer Staples           96649\n",
       "Real Estate                79757\n",
       "Utilities                  78786\n",
       "Materials                  63394\n",
       "Energy                     58523\n",
       "Communication Services     58017\n",
       "Name: count, dtype: int64"
      ]
     },
     "execution_count": 3,
     "metadata": {},
     "output_type": "execute_result"
    }
   ],
   "source": [
    "df['GICS Sector'].value_counts()"
   ]
  },
  {
   "cell_type": "code",
   "execution_count": 4,
   "id": "3a82775d",
   "metadata": {},
   "outputs": [
    {
     "data": {
      "text/plain": [
       "array(['AMT', 'ARE', 'AVB', 'BXP', 'CBRE', 'CCI', 'CPT', 'CSGP', 'DLR',\n",
       "       'DOC', 'EQIX', 'EQR', 'ESS', 'EXR', 'FRT', 'HST', 'INVH', 'IRM',\n",
       "       'KIM', 'MAA', 'O', 'PLD', 'PSA', 'REG', 'SBAC', 'SPG', 'UDR',\n",
       "       'VICI', 'VTR', 'WELL', 'WY'], dtype=object)"
      ]
     },
     "execution_count": 4,
     "metadata": {},
     "output_type": "execute_result"
    }
   ],
   "source": [
    "df_real_estate['ticker'].unique()"
   ]
  },
  {
   "cell_type": "code",
   "execution_count": 5,
   "id": "92847a29",
   "metadata": {},
   "outputs": [],
   "source": [
    "data = {}\n",
    "static_covs = pd.DataFrame({'ticker': df_real_estate['ticker'].unique()})\n",
    "\n",
    "for ticker, group in df_real_estate.groupby('ticker'):\n",
    "    series = TimeSeries.from_dataframe(\n",
    "        group,\n",
    "        time_col='date',\n",
    "        value_cols=['close', 'high', 'low', 'open', 'volume'],\n",
    "        freq='B',\n",
    "        static_covariates=pd.Series(ticker)\n",
    "    )\n",
    "    data[ticker] = series"
   ]
  },
  {
   "cell_type": "code",
   "execution_count": 6,
   "id": "64b0d57f",
   "metadata": {},
   "outputs": [],
   "source": [
    "# encode each ticker as a static covariate\n",
    "transformer = StaticCovariatesTransformer()\n",
    "ts = [d for d in data.values()]\n",
    "transformer.fit(ts)\n",
    "\n",
    "for ticker, series in data.items():\n",
    "    data[ticker] = transformer.transform(series)"
   ]
  },
  {
   "cell_type": "code",
   "execution_count": 7,
   "id": "8ebc137c",
   "metadata": {},
   "outputs": [],
   "source": [
    "train = {}\n",
    "test = {}\n",
    "\n",
    "for ticker, series in data.items():\n",
    "    train[ticker], test[ticker] = train_test_split(series, test_size=0.1)\n",
    "    last_train = train[ticker][-1:]\n",
    "    test_with_context = last_train.append(test[ticker]) # append last point of train to test as our forecast requires it\n",
    "    test[ticker] = test_with_context"
   ]
  },
  {
   "cell_type": "markdown",
   "id": "2ff40656",
   "metadata": {},
   "source": [
    "## Gradient Boosting"
   ]
  },
  {
   "cell_type": "markdown",
   "id": "ab5a6a61",
   "metadata": {},
   "source": [
    "### Train a local model first"
   ]
  },
  {
   "cell_type": "code",
   "execution_count": 8,
   "id": "630b92e0",
   "metadata": {},
   "outputs": [
    {
     "name": "stdout",
     "output_type": "stream",
     "text": [
      "Training model for AMT\n",
      "Model for AMT trained in 0.30 seconds\n",
      "**************************************************\n",
      "Training model for ARE\n",
      "Model for ARE trained in 0.31 seconds\n",
      "**************************************************\n",
      "Training model for AVB\n",
      "Model for AVB trained in 0.29 seconds\n",
      "**************************************************\n",
      "Training model for BXP\n",
      "Model for BXP trained in 0.29 seconds\n",
      "**************************************************\n",
      "Training model for CBRE\n",
      "Model for CBRE trained in 0.29 seconds\n",
      "**************************************************\n",
      "Training model for CCI\n",
      "Model for CCI trained in 0.29 seconds\n",
      "**************************************************\n",
      "Training model for CPT\n",
      "Model for CPT trained in 0.29 seconds\n",
      "**************************************************\n",
      "Training model for CSGP\n",
      "Model for CSGP trained in 0.32 seconds\n",
      "**************************************************\n",
      "Training model for DLR\n",
      "Model for DLR trained in 0.34 seconds\n",
      "**************************************************\n",
      "Training model for DOC\n",
      "Model for DOC trained in 0.32 seconds\n",
      "**************************************************\n",
      "Training model for EQIX\n",
      "Model for EQIX trained in 0.25 seconds\n",
      "**************************************************\n",
      "Training model for EQR\n",
      "Model for EQR trained in 0.31 seconds\n",
      "**************************************************\n",
      "Training model for ESS\n",
      "Model for ESS trained in 0.28 seconds\n",
      "**************************************************\n",
      "Training model for EXR\n",
      "Model for EXR trained in 0.29 seconds\n",
      "**************************************************\n",
      "Training model for FRT\n",
      "Model for FRT trained in 0.26 seconds\n",
      "**************************************************\n",
      "Training model for HST\n",
      "Model for HST trained in 0.29 seconds\n",
      "**************************************************\n",
      "Training model for INVH\n",
      "Model for INVH trained in 0.27 seconds\n",
      "**************************************************\n",
      "Training model for IRM\n",
      "Model for IRM trained in 0.36 seconds\n",
      "**************************************************\n",
      "Training model for KIM\n",
      "Model for KIM trained in 0.33 seconds\n",
      "**************************************************\n",
      "Training model for MAA\n",
      "Model for MAA trained in 0.30 seconds\n",
      "**************************************************\n",
      "Training model for O\n",
      "Model for O trained in 0.26 seconds\n",
      "**************************************************\n",
      "Training model for PLD\n",
      "Model for PLD trained in 0.27 seconds\n",
      "**************************************************\n",
      "Training model for PSA\n",
      "Model for PSA trained in 0.32 seconds\n",
      "**************************************************\n",
      "Training model for REG\n",
      "Model for REG trained in 0.27 seconds\n",
      "**************************************************\n",
      "Training model for SBAC\n",
      "Model for SBAC trained in 0.32 seconds\n",
      "**************************************************\n",
      "Training model for SPG\n",
      "Model for SPG trained in 0.26 seconds\n",
      "**************************************************\n",
      "Training model for UDR\n",
      "Model for UDR trained in 0.26 seconds\n",
      "**************************************************\n",
      "Training model for VICI\n",
      "Model for VICI trained in 0.27 seconds\n",
      "**************************************************\n",
      "Training model for VTR\n",
      "Model for VTR trained in 0.31 seconds\n",
      "**************************************************\n",
      "Training model for WELL\n",
      "Model for WELL trained in 0.27 seconds\n",
      "**************************************************\n",
      "Training model for WY\n",
      "Model for WY trained in 0.26 seconds\n",
      "**************************************************\n"
     ]
    }
   ],
   "source": [
    "models = {}\n",
    "\n",
    "for ticker in data.keys():\n",
    "    print(f\"Training model for {ticker}\")\n",
    "    start = time.time()\n",
    "    model = XGBModel(\n",
    "        lags=15,\n",
    "        lags_past_covariates=1,\n",
    "        lags_future_covariates=[0],\n",
    "        output_chunk_length=1,\n",
    "        random_state=42,\n",
    "        add_encoders={\n",
    "            'datetime_attribute': {\n",
    "                'future': ['month', 'day', 'dayofweek', 'dayofyear', 'quarter', 'year'] # automatically generate future covariates from time series\n",
    "            }\n",
    "        }\n",
    "    )\n",
    "\n",
    "    model.fit(\n",
    "        train[ticker]['close'],\n",
    "        past_covariates=train[ticker][['high', 'low', 'volume', 'open']],\n",
    "    )\n",
    "\n",
    "    end = time.time()\n",
    "    print(f\"Model for {ticker} trained in {end - start:.2f} seconds\")\n",
    "    print(\"*\" * 50)\n",
    "\n",
    "    models[ticker] = model"
   ]
  },
  {
   "cell_type": "code",
   "execution_count": 9,
   "id": "b9f91c14",
   "metadata": {},
   "outputs": [
    {
     "name": "stdout",
     "output_type": "stream",
     "text": [
      "Ticker: AMT, MAPE: 7.54, MAE: 16.10\n",
      "**************************************************\n",
      "Ticker: ARE, MAPE: 6.45, MAE: 6.06\n",
      "**************************************************\n",
      "Ticker: AVB, MAPE: 12.43, MAE: 26.95\n",
      "**************************************************\n",
      "Ticker: BXP, MAPE: 9.02, MAE: 6.23\n",
      "**************************************************\n",
      "Ticker: CBRE, MAPE: 16.71, MAE: 21.51\n",
      "**************************************************\n",
      "Ticker: CCI, MAPE: 3.72, MAE: 3.81\n",
      "**************************************************\n",
      "Ticker: CPT, MAPE: 2.04, MAE: 2.33\n",
      "**************************************************\n",
      "Ticker: CSGP, MAPE: 4.00, MAE: 3.05\n",
      "**************************************************\n",
      "Ticker: DLR, MAPE: 6.81, MAE: 11.68\n",
      "**************************************************\n",
      "Ticker: DOC, MAPE: 2.86, MAE: 0.58\n",
      "**************************************************\n",
      "Ticker: EQIX, MAPE: 9.43, MAE: 79.27\n",
      "**************************************************\n",
      "Ticker: EQR, MAPE: 2.39, MAE: 1.67\n",
      "**************************************************\n",
      "Ticker: ESS, MAPE: 2.91, MAE: 8.21\n",
      "**************************************************\n",
      "Ticker: EXR, MAPE: 10.96, MAE: 17.72\n",
      "**************************************************\n",
      "Ticker: FRT, MAPE: 4.52, MAE: 4.87\n",
      "**************************************************\n",
      "Ticker: HST, MAPE: 4.76, MAE: 0.77\n",
      "**************************************************\n",
      "Ticker: INVH, MAPE: 2.78, MAE: 0.92\n",
      "**************************************************\n",
      "Ticker: IRM, MAPE: 22.80, MAE: 24.36\n",
      "**************************************************\n",
      "Ticker: KIM, MAPE: 5.17, MAE: 1.14\n",
      "**************************************************\n",
      "Ticker: MAA, MAPE: 3.65, MAE: 5.66\n",
      "**************************************************\n",
      "Ticker: O, MAPE: 2.65, MAE: 1.51\n",
      "**************************************************\n",
      "Ticker: PLD, MAPE: 9.81, MAE: 11.51\n",
      "**************************************************\n",
      "Ticker: PSA, MAPE: 3.77, MAE: 11.75\n",
      "**************************************************\n",
      "Ticker: REG, MAPE: 23.72, MAE: 16.87\n",
      "**************************************************\n",
      "Ticker: SBAC, MAPE: 2.73, MAE: 5.92\n",
      "**************************************************\n",
      "Ticker: SPG, MAPE: 10.89, MAE: 18.50\n",
      "**************************************************\n",
      "Ticker: UDR, MAPE: 4.43, MAE: 1.89\n",
      "**************************************************\n",
      "Ticker: VICI, MAPE: 11.23, MAE: 3.53\n",
      "**************************************************\n",
      "Ticker: VTR, MAPE: 12.41, MAE: 7.69\n",
      "**************************************************\n",
      "Ticker: WELL, MAPE: 25.38, MAE: 33.83\n",
      "**************************************************\n",
      "Ticker: WY, MAPE: 3.24, MAE: 0.95\n",
      "**************************************************\n"
     ]
    }
   ],
   "source": [
    "mapes = {}\n",
    "maes = {}\n",
    "\n",
    "for ticker in data.keys():\n",
    "    y_test = test[ticker]['close']\n",
    "    y_pred = models[ticker].predict(\n",
    "        n=len(y_test),\n",
    "        past_covariates=test[ticker][['high', 'low', 'volume', 'open']],\n",
    "        show_warnings=False\n",
    "    )\n",
    "    mape_ = mape(y_test, y_pred)\n",
    "    mae_ = mae(y_test, y_pred)\n",
    "    mapes[ticker] = mape_\n",
    "    maes[ticker] = mae_\n",
    "    print(f\"Ticker: {ticker}, MAPE: {mape_:.2f}, MAE: {mae_:.2f}\")\n",
    "    print(\"*\" * 50)"
   ]
  },
  {
   "cell_type": "code",
   "execution_count": 10,
   "id": "225f2cf2",
   "metadata": {},
   "outputs": [
    {
     "data": {
      "text/plain": [
       "(8.104098871663822, 11.511084274550187)"
      ]
     },
     "execution_count": 10,
     "metadata": {},
     "output_type": "execute_result"
    }
   ],
   "source": [
    "np.mean(list(mapes.values())), np.mean(list(maes.values()))"
   ]
  },
  {
   "cell_type": "markdown",
   "id": "cdb475a9",
   "metadata": {},
   "source": [
    "### Global model"
   ]
  },
  {
   "cell_type": "code",
   "execution_count": 11,
   "id": "47343a36",
   "metadata": {},
   "outputs": [
    {
     "name": "stdout",
     "output_type": "stream",
     "text": [
      "Training global model\n",
      "Global model trained in 11.56 seconds\n",
      "**************************************************\n"
     ]
    }
   ],
   "source": [
    "print(f\"Training global model\")\n",
    "start = time.time()\n",
    "model = XGBModel(\n",
    "    lags=15,\n",
    "    lags_past_covariates=1,\n",
    "    lags_future_covariates=[0],\n",
    "    output_chunk_length=1,\n",
    "    random_state=42,\n",
    "    add_encoders={\n",
    "        'datetime_attribute': {\n",
    "            'future': ['month', 'day', 'dayofweek', 'dayofyear', 'quarter', 'year'] # automatically generate future covariates from time series\n",
    "        }\n",
    "    },\n",
    "    use_static_covariates=True,\n",
    "    n_estimators=1000,\n",
    "    eta=0.01,\n",
    "    max_depth=8,\n",
    "    subsample=0.8\n",
    ")\n",
    "\n",
    "model.fit(\n",
    "    [ts['close'] for ts in train.values()],\n",
    "    past_covariates=[ts[['high', 'low', 'volume', 'open']] for ts in train.values()],\n",
    ")\n",
    "\n",
    "end = time.time()\n",
    "print(f\"Global model trained in {end - start:.2f} seconds\")\n",
    "print(\"*\" * 50)"
   ]
  },
  {
   "cell_type": "code",
   "execution_count": 12,
   "id": "e80265b5",
   "metadata": {},
   "outputs": [
    {
     "name": "stdout",
     "output_type": "stream",
     "text": [
      "Global model for AMT, MAPE: 2.55, MAE: 5.24\n",
      "**************************************************\n",
      "Global model for ARE, MAPE: 3.47, MAE: 3.53\n",
      "**************************************************\n",
      "Global model for AVB, MAPE: 2.44, MAE: 5.20\n",
      "**************************************************\n",
      "Global model for BXP, MAPE: 3.09, MAE: 2.15\n",
      "**************************************************\n",
      "Global model for CBRE, MAPE: 3.47, MAE: 4.17\n",
      "**************************************************\n",
      "Global model for CCI, MAPE: 3.83, MAE: 3.83\n",
      "**************************************************\n",
      "Global model for CPT, MAPE: 2.75, MAE: 3.12\n",
      "**************************************************\n",
      "Global model for CSGP, MAPE: 2.96, MAE: 2.26\n",
      "**************************************************\n",
      "Global model for DLR, MAPE: 2.40, MAE: 3.80\n",
      "**************************************************\n",
      "Global model for DOC, MAPE: 2.23, MAE: 0.45\n",
      "**************************************************\n",
      "Global model for EQIX, MAPE: 10.17, MAE: 89.42\n",
      "**************************************************\n",
      "Global model for EQR, MAPE: 1.97, MAE: 1.36\n",
      "**************************************************\n",
      "Global model for ESS, MAPE: 3.86, MAE: 10.71\n",
      "**************************************************\n",
      "Global model for EXR, MAPE: 2.27, MAE: 3.49\n",
      "**************************************************\n",
      "Global model for FRT, MAPE: 3.43, MAE: 3.59\n",
      "**************************************************\n",
      "Global model for HST, MAPE: 2.11, MAE: 0.34\n",
      "**************************************************\n",
      "Global model for INVH, MAPE: 3.69, MAE: 1.20\n",
      "**************************************************\n",
      "Global model for IRM, MAPE: 4.11, MAE: 4.14\n",
      "**************************************************\n",
      "Global model for KIM, MAPE: 1.86, MAE: 0.40\n",
      "**************************************************\n",
      "Global model for MAA, MAPE: 2.04, MAE: 3.06\n",
      "**************************************************\n",
      "Global model for O, MAPE: 2.21, MAE: 1.23\n",
      "**************************************************\n",
      "Global model for PLD, MAPE: 3.43, MAE: 3.85\n",
      "**************************************************\n",
      "Global model for PSA, MAPE: 2.97, MAE: 9.29\n",
      "**************************************************\n",
      "Global model for REG, MAPE: 1.67, MAE: 1.14\n",
      "**************************************************\n",
      "Global model for SBAC, MAPE: 2.25, MAE: 4.88\n",
      "**************************************************\n",
      "Global model for SPG, MAPE: 2.41, MAE: 3.92\n",
      "**************************************************\n",
      "Global model for UDR, MAPE: 1.72, MAE: 0.71\n",
      "**************************************************\n",
      "Global model for VICI, MAPE: 2.11, MAE: 0.66\n",
      "**************************************************\n",
      "Global model for VTR, MAPE: 3.53, MAE: 2.08\n",
      "**************************************************\n",
      "Global model for WELL, MAPE: 3.17, MAE: 4.04\n",
      "**************************************************\n",
      "Global model for WY, MAPE: 2.37, MAE: 0.69\n",
      "**************************************************\n"
     ]
    }
   ],
   "source": [
    "mapes = {}\n",
    "maes = {}\n",
    "\n",
    "for ticker in data.keys():\n",
    "    y_pred = model.predict(\n",
    "        n=len(test[ticker]['close']),\n",
    "        series=train[ticker]['close'],\n",
    "        past_covariates=test[ticker][['high', 'low', 'volume', 'open']],\n",
    "        show_warnings=False\n",
    "    )\n",
    "    y_test = test[ticker]['close']\n",
    "    mape_ = mape(y_test, y_pred)\n",
    "    mae_ = mae(y_test, y_pred)\n",
    "\n",
    "    mapes[ticker] = mape_\n",
    "    maes[ticker] = mae_\n",
    "\n",
    "    print(f\"Global model for {ticker}, MAPE: {mape_:.2f}, MAE: {mae_:.2f}\")\n",
    "    print(\"*\" * 50)"
   ]
  },
  {
   "cell_type": "code",
   "execution_count": 13,
   "id": "954892bf",
   "metadata": {},
   "outputs": [
    {
     "data": {
      "text/plain": [
       "(2.9846395466417084, 5.933527984840756)"
      ]
     },
     "execution_count": 13,
     "metadata": {},
     "output_type": "execute_result"
    }
   ],
   "source": [
    "np.mean(list(mapes.values())), np.mean(list(maes.values()))"
   ]
  },
  {
   "cell_type": "markdown",
   "id": "954b34fb",
   "metadata": {},
   "source": [
    "## Prophet model"
   ]
  },
  {
   "cell_type": "code",
   "execution_count": 14,
   "id": "0ca95853",
   "metadata": {},
   "outputs": [
    {
     "name": "stdout",
     "output_type": "stream",
     "text": [
      "Training model for AMT\n"
     ]
    },
    {
     "name": "stderr",
     "output_type": "stream",
     "text": [
      "21:51:37 - cmdstanpy - INFO - Chain [1] start processing\n",
      "21:51:40 - cmdstanpy - INFO - Chain [1] done processing\n"
     ]
    },
    {
     "name": "stdout",
     "output_type": "stream",
     "text": [
      "Model for AMT trained in 3.13 seconds\n",
      "**************************************************\n",
      "Training model for ARE\n"
     ]
    },
    {
     "name": "stderr",
     "output_type": "stream",
     "text": [
      "21:51:40 - cmdstanpy - INFO - Chain [1] start processing\n",
      "21:51:43 - cmdstanpy - INFO - Chain [1] done processing\n"
     ]
    },
    {
     "name": "stdout",
     "output_type": "stream",
     "text": [
      "Model for ARE trained in 3.05 seconds\n",
      "**************************************************\n",
      "Training model for AVB\n"
     ]
    },
    {
     "name": "stderr",
     "output_type": "stream",
     "text": [
      "21:51:43 - cmdstanpy - INFO - Chain [1] start processing\n",
      "21:51:46 - cmdstanpy - INFO - Chain [1] done processing\n"
     ]
    },
    {
     "name": "stdout",
     "output_type": "stream",
     "text": [
      "Model for AVB trained in 3.02 seconds\n",
      "**************************************************\n",
      "Training model for BXP\n"
     ]
    },
    {
     "name": "stderr",
     "output_type": "stream",
     "text": [
      "21:51:46 - cmdstanpy - INFO - Chain [1] start processing\n",
      "21:51:49 - cmdstanpy - INFO - Chain [1] done processing\n"
     ]
    },
    {
     "name": "stdout",
     "output_type": "stream",
     "text": [
      "Model for BXP trained in 2.90 seconds\n",
      "**************************************************\n",
      "Training model for CBRE\n"
     ]
    },
    {
     "name": "stderr",
     "output_type": "stream",
     "text": [
      "21:51:49 - cmdstanpy - INFO - Chain [1] start processing\n",
      "21:51:52 - cmdstanpy - INFO - Chain [1] done processing\n"
     ]
    },
    {
     "name": "stdout",
     "output_type": "stream",
     "text": [
      "Model for CBRE trained in 2.67 seconds\n",
      "**************************************************\n",
      "Training model for CCI\n"
     ]
    },
    {
     "name": "stderr",
     "output_type": "stream",
     "text": [
      "21:51:52 - cmdstanpy - INFO - Chain [1] start processing\n",
      "21:51:54 - cmdstanpy - INFO - Chain [1] done processing\n"
     ]
    },
    {
     "name": "stdout",
     "output_type": "stream",
     "text": [
      "Model for CCI trained in 2.08 seconds\n",
      "**************************************************\n",
      "Training model for CPT\n"
     ]
    },
    {
     "name": "stderr",
     "output_type": "stream",
     "text": [
      "21:51:54 - cmdstanpy - INFO - Chain [1] start processing\n",
      "21:51:57 - cmdstanpy - INFO - Chain [1] done processing\n"
     ]
    },
    {
     "name": "stdout",
     "output_type": "stream",
     "text": [
      "Model for CPT trained in 3.16 seconds\n",
      "**************************************************\n",
      "Training model for CSGP\n"
     ]
    },
    {
     "name": "stderr",
     "output_type": "stream",
     "text": [
      "21:51:57 - cmdstanpy - INFO - Chain [1] start processing\n",
      "21:51:59 - cmdstanpy - INFO - Chain [1] done processing\n"
     ]
    },
    {
     "name": "stdout",
     "output_type": "stream",
     "text": [
      "Model for CSGP trained in 2.26 seconds\n",
      "**************************************************\n",
      "Training model for DLR\n"
     ]
    },
    {
     "name": "stderr",
     "output_type": "stream",
     "text": [
      "21:51:59 - cmdstanpy - INFO - Chain [1] start processing\n",
      "21:52:02 - cmdstanpy - INFO - Chain [1] done processing\n"
     ]
    },
    {
     "name": "stdout",
     "output_type": "stream",
     "text": [
      "Model for DLR trained in 3.12 seconds\n",
      "**************************************************\n",
      "Training model for DOC\n"
     ]
    },
    {
     "name": "stderr",
     "output_type": "stream",
     "text": [
      "21:52:03 - cmdstanpy - INFO - Chain [1] start processing\n",
      "21:52:05 - cmdstanpy - INFO - Chain [1] done processing\n"
     ]
    },
    {
     "name": "stdout",
     "output_type": "stream",
     "text": [
      "Model for DOC trained in 2.42 seconds\n",
      "**************************************************\n",
      "Training model for EQIX\n"
     ]
    },
    {
     "name": "stderr",
     "output_type": "stream",
     "text": [
      "21:52:05 - cmdstanpy - INFO - Chain [1] start processing\n",
      "21:52:07 - cmdstanpy - INFO - Chain [1] done processing\n"
     ]
    },
    {
     "name": "stdout",
     "output_type": "stream",
     "text": [
      "Model for EQIX trained in 2.60 seconds\n",
      "**************************************************\n",
      "Training model for EQR\n"
     ]
    },
    {
     "name": "stderr",
     "output_type": "stream",
     "text": [
      "21:52:08 - cmdstanpy - INFO - Chain [1] start processing\n",
      "21:52:10 - cmdstanpy - INFO - Chain [1] done processing\n"
     ]
    },
    {
     "name": "stdout",
     "output_type": "stream",
     "text": [
      "Model for EQR trained in 3.09 seconds\n",
      "**************************************************\n",
      "Training model for ESS\n"
     ]
    },
    {
     "name": "stderr",
     "output_type": "stream",
     "text": [
      "21:52:11 - cmdstanpy - INFO - Chain [1] start processing\n",
      "21:52:13 - cmdstanpy - INFO - Chain [1] done processing\n"
     ]
    },
    {
     "name": "stdout",
     "output_type": "stream",
     "text": [
      "Model for ESS trained in 2.79 seconds\n",
      "**************************************************\n",
      "Training model for EXR\n"
     ]
    },
    {
     "name": "stderr",
     "output_type": "stream",
     "text": [
      "21:52:13 - cmdstanpy - INFO - Chain [1] start processing\n",
      "21:52:16 - cmdstanpy - INFO - Chain [1] done processing\n"
     ]
    },
    {
     "name": "stdout",
     "output_type": "stream",
     "text": [
      "Model for EXR trained in 2.52 seconds\n",
      "**************************************************\n",
      "Training model for FRT\n"
     ]
    },
    {
     "name": "stderr",
     "output_type": "stream",
     "text": [
      "21:52:16 - cmdstanpy - INFO - Chain [1] start processing\n",
      "21:52:19 - cmdstanpy - INFO - Chain [1] done processing\n"
     ]
    },
    {
     "name": "stdout",
     "output_type": "stream",
     "text": [
      "Model for FRT trained in 2.88 seconds\n",
      "**************************************************\n",
      "Training model for HST\n"
     ]
    },
    {
     "name": "stderr",
     "output_type": "stream",
     "text": [
      "21:52:19 - cmdstanpy - INFO - Chain [1] start processing\n",
      "21:52:21 - cmdstanpy - INFO - Chain [1] done processing\n"
     ]
    },
    {
     "name": "stdout",
     "output_type": "stream",
     "text": [
      "Model for HST trained in 2.24 seconds\n",
      "**************************************************\n",
      "Training model for INVH\n"
     ]
    },
    {
     "name": "stderr",
     "output_type": "stream",
     "text": [
      "21:52:21 - cmdstanpy - INFO - Chain [1] start processing\n",
      "21:52:23 - cmdstanpy - INFO - Chain [1] done processing\n"
     ]
    },
    {
     "name": "stdout",
     "output_type": "stream",
     "text": [
      "Model for INVH trained in 2.65 seconds\n",
      "**************************************************\n",
      "Training model for IRM\n"
     ]
    },
    {
     "name": "stderr",
     "output_type": "stream",
     "text": [
      "21:52:24 - cmdstanpy - INFO - Chain [1] start processing\n",
      "21:52:25 - cmdstanpy - INFO - Chain [1] done processing\n"
     ]
    },
    {
     "name": "stdout",
     "output_type": "stream",
     "text": [
      "Model for IRM trained in 1.88 seconds\n",
      "**************************************************\n",
      "Training model for KIM\n"
     ]
    },
    {
     "name": "stderr",
     "output_type": "stream",
     "text": [
      "21:52:26 - cmdstanpy - INFO - Chain [1] start processing\n",
      "21:52:28 - cmdstanpy - INFO - Chain [1] done processing\n"
     ]
    },
    {
     "name": "stdout",
     "output_type": "stream",
     "text": [
      "Model for KIM trained in 2.72 seconds\n",
      "**************************************************\n",
      "Training model for MAA\n"
     ]
    },
    {
     "name": "stderr",
     "output_type": "stream",
     "text": [
      "21:52:28 - cmdstanpy - INFO - Chain [1] start processing\n",
      "21:52:31 - cmdstanpy - INFO - Chain [1] done processing\n"
     ]
    },
    {
     "name": "stdout",
     "output_type": "stream",
     "text": [
      "Model for MAA trained in 3.19 seconds\n",
      "**************************************************\n",
      "Training model for O\n"
     ]
    },
    {
     "name": "stderr",
     "output_type": "stream",
     "text": [
      "21:52:32 - cmdstanpy - INFO - Chain [1] start processing\n",
      "21:52:33 - cmdstanpy - INFO - Chain [1] done processing\n"
     ]
    },
    {
     "name": "stdout",
     "output_type": "stream",
     "text": [
      "Model for O trained in 2.23 seconds\n",
      "**************************************************\n",
      "Training model for PLD\n"
     ]
    },
    {
     "name": "stderr",
     "output_type": "stream",
     "text": [
      "21:52:34 - cmdstanpy - INFO - Chain [1] start processing\n",
      "21:52:37 - cmdstanpy - INFO - Chain [1] done processing\n"
     ]
    },
    {
     "name": "stdout",
     "output_type": "stream",
     "text": [
      "Model for PLD trained in 3.15 seconds\n",
      "**************************************************\n",
      "Training model for PSA\n"
     ]
    },
    {
     "name": "stderr",
     "output_type": "stream",
     "text": [
      "21:52:37 - cmdstanpy - INFO - Chain [1] start processing\n",
      "21:52:40 - cmdstanpy - INFO - Chain [1] done processing\n"
     ]
    },
    {
     "name": "stdout",
     "output_type": "stream",
     "text": [
      "Model for PSA trained in 3.10 seconds\n",
      "**************************************************\n",
      "Training model for REG\n"
     ]
    },
    {
     "name": "stderr",
     "output_type": "stream",
     "text": [
      "21:52:40 - cmdstanpy - INFO - Chain [1] start processing\n",
      "21:52:43 - cmdstanpy - INFO - Chain [1] done processing\n"
     ]
    },
    {
     "name": "stdout",
     "output_type": "stream",
     "text": [
      "Model for REG trained in 3.18 seconds\n",
      "**************************************************\n",
      "Training model for SBAC\n"
     ]
    },
    {
     "name": "stderr",
     "output_type": "stream",
     "text": [
      "21:52:43 - cmdstanpy - INFO - Chain [1] start processing\n",
      "21:52:46 - cmdstanpy - INFO - Chain [1] done processing\n"
     ]
    },
    {
     "name": "stdout",
     "output_type": "stream",
     "text": [
      "Model for SBAC trained in 3.14 seconds\n",
      "**************************************************\n",
      "Training model for SPG\n"
     ]
    },
    {
     "name": "stderr",
     "output_type": "stream",
     "text": [
      "21:52:46 - cmdstanpy - INFO - Chain [1] start processing\n",
      "21:52:49 - cmdstanpy - INFO - Chain [1] done processing\n"
     ]
    },
    {
     "name": "stdout",
     "output_type": "stream",
     "text": [
      "Model for SPG trained in 3.17 seconds\n",
      "**************************************************\n",
      "Training model for UDR\n"
     ]
    },
    {
     "name": "stderr",
     "output_type": "stream",
     "text": [
      "21:52:50 - cmdstanpy - INFO - Chain [1] start processing\n",
      "21:52:52 - cmdstanpy - INFO - Chain [1] done processing\n"
     ]
    },
    {
     "name": "stdout",
     "output_type": "stream",
     "text": [
      "Model for UDR trained in 3.15 seconds\n",
      "**************************************************\n",
      "Training model for VICI\n"
     ]
    },
    {
     "name": "stderr",
     "output_type": "stream",
     "text": [
      "21:52:53 - cmdstanpy - INFO - Chain [1] start processing\n",
      "21:52:54 - cmdstanpy - INFO - Chain [1] done processing\n"
     ]
    },
    {
     "name": "stdout",
     "output_type": "stream",
     "text": [
      "Model for VICI trained in 1.76 seconds\n",
      "**************************************************\n",
      "Training model for VTR\n"
     ]
    },
    {
     "name": "stderr",
     "output_type": "stream",
     "text": [
      "21:52:54 - cmdstanpy - INFO - Chain [1] start processing\n",
      "21:52:57 - cmdstanpy - INFO - Chain [1] done processing\n"
     ]
    },
    {
     "name": "stdout",
     "output_type": "stream",
     "text": [
      "Model for VTR trained in 3.15 seconds\n",
      "**************************************************\n",
      "Training model for WELL\n"
     ]
    },
    {
     "name": "stderr",
     "output_type": "stream",
     "text": [
      "21:52:58 - cmdstanpy - INFO - Chain [1] start processing\n",
      "21:53:01 - cmdstanpy - INFO - Chain [1] done processing\n"
     ]
    },
    {
     "name": "stdout",
     "output_type": "stream",
     "text": [
      "Model for WELL trained in 3.28 seconds\n",
      "**************************************************\n",
      "Training model for WY\n"
     ]
    },
    {
     "name": "stderr",
     "output_type": "stream",
     "text": [
      "21:53:01 - cmdstanpy - INFO - Chain [1] start processing\n",
      "21:53:03 - cmdstanpy - INFO - Chain [1] done processing\n"
     ]
    },
    {
     "name": "stdout",
     "output_type": "stream",
     "text": [
      "Model for WY trained in 2.63 seconds\n",
      "**************************************************\n"
     ]
    }
   ],
   "source": [
    "models_prophet = {}\n",
    "\n",
    "for ticker in data.keys():\n",
    "    print(f\"Training model for {ticker}\")\n",
    "    start = time.time()\n",
    "    model = Prophet(\n",
    "        add_encoders={\n",
    "            'datetime_attribute': {\n",
    "                'future': ['month', 'day', 'dayofweek', 'dayofyear', 'quarter', 'year']  # automatically generate future covariates from time series\n",
    "            }\n",
    "        },\n",
    "        seasonality_mode='multiplicative',\n",
    "    )\n",
    "\n",
    "    model.fit(\n",
    "        train[ticker]['close']\n",
    "    )\n",
    "\n",
    "    end = time.time()\n",
    "    print(f\"Model for {ticker} trained in {end - start:.2f} seconds\")\n",
    "    print(\"*\" * 50)\n",
    "\n",
    "    models_prophet[ticker] = model"
   ]
  },
  {
   "cell_type": "code",
   "execution_count": 15,
   "id": "2ff81861",
   "metadata": {},
   "outputs": [
    {
     "name": "stdout",
     "output_type": "stream",
     "text": [
      "Ticker: AMT, MAPE: 22.74, MAE: 47.30\n",
      "**************************************************\n",
      "Ticker: ARE, MAPE: 17.99, MAE: 19.79\n",
      "**************************************************\n",
      "Ticker: AVB, MAPE: 16.36, MAE: 35.24\n",
      "**************************************************\n",
      "Ticker: BXP, MAPE: 26.43, MAE: 18.98\n",
      "**************************************************\n",
      "Ticker: CBRE, MAPE: 24.62, MAE: 31.31\n",
      "**************************************************\n",
      "Ticker: CCI, MAPE: 30.39, MAE: 30.60\n",
      "**************************************************\n",
      "Ticker: CPT, MAPE: 29.37, MAE: 33.97\n",
      "**************************************************\n",
      "Ticker: CSGP, MAPE: 25.49, MAE: 19.29\n",
      "**************************************************\n",
      "Ticker: DLR, MAPE: 8.72, MAE: 14.69\n",
      "**************************************************\n",
      "Ticker: DOC, MAPE: 35.15, MAE: 7.11\n",
      "**************************************************\n",
      "Ticker: EQIX, MAPE: 8.20, MAE: 68.74\n",
      "**************************************************\n",
      "Ticker: EQR, MAPE: 20.08, MAE: 14.12\n",
      "**************************************************\n",
      "Ticker: ESS, MAPE: 21.27, MAE: 60.67\n",
      "**************************************************\n",
      "Ticker: EXR, MAPE: 29.28, MAE: 45.85\n",
      "**************************************************\n",
      "Ticker: FRT, MAPE: 13.67, MAE: 14.63\n",
      "**************************************************\n",
      "Ticker: HST, MAPE: 10.03, MAE: 1.53\n",
      "**************************************************\n",
      "Ticker: INVH, MAPE: 4.50, MAE: 1.47\n",
      "**************************************************\n",
      "Ticker: IRM, MAPE: 20.44, MAE: 21.84\n",
      "**************************************************\n",
      "Ticker: KIM, MAPE: 20.55, MAE: 4.54\n",
      "**************************************************\n",
      "Ticker: MAA, MAPE: 31.32, MAE: 47.87\n",
      "**************************************************\n",
      "Ticker: O, MAPE: 22.74, MAE: 12.80\n",
      "**************************************************\n",
      "Ticker: PLD, MAPE: 7.36, MAE: 8.30\n",
      "**************************************************\n",
      "Ticker: PSA, MAPE: 18.61, MAE: 58.54\n",
      "**************************************************\n",
      "Ticker: REG, MAPE: 17.00, MAE: 12.02\n",
      "**************************************************\n",
      "Ticker: SBAC, MAPE: 25.55, MAE: 56.07\n",
      "**************************************************\n",
      "Ticker: SPG, MAPE: 14.99, MAE: 24.40\n",
      "**************************************************\n",
      "Ticker: UDR, MAPE: 25.58, MAE: 10.81\n",
      "**************************************************\n",
      "Ticker: VICI, MAPE: 16.44, MAE: 5.15\n",
      "**************************************************\n",
      "Ticker: VTR, MAPE: 27.25, MAE: 16.83\n",
      "**************************************************\n",
      "Ticker: WELL, MAPE: 20.15, MAE: 26.90\n",
      "**************************************************\n",
      "Ticker: WY, MAPE: 10.10, MAE: 2.87\n",
      "**************************************************\n"
     ]
    }
   ],
   "source": [
    "mapes_prophet = {}\n",
    "maes_prophet = {}\n",
    "\n",
    "for ticker in data.keys():\n",
    "    y_test = test[ticker]['close']\n",
    "    y_pred = models_prophet[ticker].predict(\n",
    "        n=len(y_test),\n",
    "        show_warnings=False\n",
    "    )\n",
    "    mape_ = mape(y_test, y_pred)\n",
    "    mae_ = mae(y_test, y_pred)\n",
    "    mapes_prophet[ticker] = mape_\n",
    "    maes_prophet[ticker] = mae_\n",
    "    print(f\"Ticker: {ticker}, MAPE: {mape_:.2f}, MAE: {mae_:.2f}\")\n",
    "    print(\"*\" * 50)"
   ]
  },
  {
   "cell_type": "code",
   "execution_count": 16,
   "id": "1f4600c3",
   "metadata": {},
   "outputs": [
    {
     "data": {
      "text/plain": [
       "(20.076493868362807, 24.9759796692196)"
      ]
     },
     "execution_count": 16,
     "metadata": {},
     "output_type": "execute_result"
    }
   ],
   "source": [
    "np.mean(list(mapes_prophet.values())), np.mean(list(maes_prophet.values()))"
   ]
  },
  {
   "cell_type": "markdown",
   "id": "5e177a24",
   "metadata": {},
   "source": [
    "## Theta model"
   ]
  },
  {
   "cell_type": "code",
   "execution_count": 17,
   "id": "92b8127c",
   "metadata": {},
   "outputs": [
    {
     "name": "stdout",
     "output_type": "stream",
     "text": [
      "Training model for AMT\n",
      "Model for AMT trained in 1.21 seconds\n",
      "**************************************************\n",
      "Training model for ARE\n",
      "Model for ARE trained in 0.69 seconds\n",
      "**************************************************\n",
      "Training model for AVB\n",
      "Model for AVB trained in 0.84 seconds\n",
      "**************************************************\n",
      "Training model for BXP\n",
      "Model for BXP trained in 0.68 seconds\n",
      "**************************************************\n",
      "Training model for CBRE\n",
      "Model for CBRE trained in 0.57 seconds\n",
      "**************************************************\n",
      "Training model for CCI\n",
      "Model for CCI trained in 1.11 seconds\n",
      "**************************************************\n",
      "Training model for CPT\n",
      "Model for CPT trained in 0.79 seconds\n",
      "**************************************************\n",
      "Training model for CSGP\n",
      "Model for CSGP trained in 0.83 seconds\n",
      "**************************************************\n",
      "Training model for DLR\n",
      "Model for DLR trained in 0.91 seconds\n",
      "**************************************************\n",
      "Training model for DOC\n",
      "Model for DOC trained in 0.57 seconds\n",
      "**************************************************\n",
      "Training model for EQIX\n",
      "Model for EQIX trained in 1.39 seconds\n",
      "**************************************************\n",
      "Training model for EQR\n",
      "Model for EQR trained in 0.64 seconds\n",
      "**************************************************\n",
      "Training model for ESS\n",
      "Model for ESS trained in 0.78 seconds\n",
      "**************************************************\n",
      "Training model for EXR\n",
      "Model for EXR trained in 0.65 seconds\n",
      "**************************************************\n",
      "Training model for FRT\n",
      "Model for FRT trained in 0.72 seconds\n",
      "**************************************************\n",
      "Training model for HST\n",
      "Model for HST trained in 0.58 seconds\n",
      "**************************************************\n",
      "Training model for INVH\n",
      "Model for INVH trained in 0.54 seconds\n",
      "**************************************************\n",
      "Training model for IRM\n",
      "Model for IRM trained in 0.77 seconds\n",
      "**************************************************\n",
      "Training model for KIM\n",
      "Model for KIM trained in 0.59 seconds\n",
      "**************************************************\n",
      "Training model for MAA\n",
      "Model for MAA trained in 0.66 seconds\n",
      "**************************************************\n",
      "Training model for O\n",
      "Model for O trained in 0.62 seconds\n",
      "**************************************************\n",
      "Training model for PLD\n",
      "Model for PLD trained in 0.61 seconds\n",
      "**************************************************\n",
      "Training model for PSA\n",
      "Model for PSA trained in 0.69 seconds\n",
      "**************************************************\n",
      "Training model for REG\n",
      "Model for REG trained in 0.60 seconds\n",
      "**************************************************\n",
      "Training model for SBAC\n",
      "Model for SBAC trained in 0.81 seconds\n",
      "**************************************************\n",
      "Training model for SPG\n",
      "Model for SPG trained in 0.59 seconds\n",
      "**************************************************\n",
      "Training model for UDR\n",
      "Model for UDR trained in 0.59 seconds\n",
      "**************************************************\n",
      "Training model for VICI\n",
      "Model for VICI trained in 0.41 seconds\n",
      "**************************************************\n",
      "Training model for VTR\n",
      "Model for VTR trained in 0.59 seconds\n",
      "**************************************************\n",
      "Training model for WELL\n",
      "Model for WELL trained in 0.74 seconds\n",
      "**************************************************\n",
      "Training model for WY\n",
      "Model for WY trained in 0.64 seconds\n",
      "**************************************************\n"
     ]
    }
   ],
   "source": [
    "models_theta = {}\n",
    "\n",
    "for ticker in data.keys():\n",
    "    print(f\"Training model for {ticker}\")\n",
    "    start = time.time()\n",
    "    model = AutoTheta(\n",
    "        season_length=30\n",
    "    )\n",
    "\n",
    "    model.fit(\n",
    "        series=train[ticker]['close']\n",
    "    )\n",
    "\n",
    "    end = time.time()\n",
    "    print(f\"Model for {ticker} trained in {end - start:.2f} seconds\")\n",
    "    print(\"*\" * 50)\n",
    "\n",
    "    models_theta[ticker] = model"
   ]
  },
  {
   "cell_type": "code",
   "execution_count": 18,
   "id": "d466fb13",
   "metadata": {},
   "outputs": [
    {
     "name": "stdout",
     "output_type": "stream",
     "text": [
      "Ticker: AMT, MAPE: 11.63, MAE: 24.67\n",
      "**************************************************\n",
      "Ticker: ARE, MAPE: 12.70, MAE: 11.70\n",
      "**************************************************\n",
      "Ticker: AVB, MAPE: 11.00, MAE: 23.83\n",
      "**************************************************\n",
      "Ticker: BXP, MAPE: 19.06, MAE: 13.93\n",
      "**************************************************\n",
      "Ticker: CBRE, MAPE: 23.90, MAE: 30.65\n",
      "**************************************************\n",
      "Ticker: CCI, MAPE: 8.00, MAE: 8.22\n",
      "**************************************************\n",
      "Ticker: CPT, MAPE: 13.22, MAE: 15.39\n",
      "**************************************************\n",
      "Ticker: CSGP, MAPE: 19.76, MAE: 14.93\n",
      "**************************************************\n",
      "Ticker: DLR, MAPE: 12.25, MAE: 20.49\n",
      "**************************************************\n",
      "Ticker: DOC, MAPE: 10.22, MAE: 2.12\n",
      "**************************************************\n",
      "Ticker: EQIX, MAPE: 16.87, MAE: 147.63\n",
      "**************************************************\n",
      "Ticker: EQR, MAPE: 8.60, MAE: 6.11\n",
      "**************************************************\n",
      "Ticker: ESS, MAPE: 13.82, MAE: 39.64\n",
      "**************************************************\n",
      "Ticker: EXR, MAPE: 10.16, MAE: 16.30\n",
      "**************************************************\n",
      "Ticker: FRT, MAPE: 6.75, MAE: 7.17\n",
      "**************************************************\n",
      "Ticker: HST, MAPE: 7.56, MAE: 1.15\n",
      "**************************************************\n",
      "Ticker: INVH, MAPE: 8.12, MAE: 2.62\n",
      "**************************************************\n",
      "Ticker: IRM, MAPE: 21.08, MAE: 22.63\n",
      "**************************************************\n",
      "Ticker: KIM, MAPE: 14.65, MAE: 3.30\n",
      "**************************************************\n",
      "Ticker: MAA, MAPE: 12.58, MAE: 19.35\n",
      "**************************************************\n",
      "Ticker: O, MAPE: 6.01, MAE: 3.44\n",
      "**************************************************\n",
      "Ticker: PLD, MAPE: 8.46, MAE: 9.87\n",
      "**************************************************\n",
      "Ticker: PSA, MAPE: 13.71, MAE: 43.38\n",
      "**************************************************\n",
      "Ticker: REG, MAPE: 15.11, MAE: 10.74\n",
      "**************************************************\n",
      "Ticker: SBAC, MAPE: 8.19, MAE: 18.42\n",
      "**************************************************\n",
      "Ticker: SPG, MAPE: 16.01, MAE: 26.76\n",
      "**************************************************\n",
      "Ticker: UDR, MAPE: 12.03, MAE: 5.10\n",
      "**************************************************\n",
      "Ticker: VICI, MAPE: 3.91, MAE: 1.20\n",
      "**************************************************\n",
      "Ticker: VTR, MAPE: 23.16, MAE: 14.37\n",
      "**************************************************\n",
      "Ticker: WELL, MAPE: 22.15, MAE: 29.63\n",
      "**************************************************\n",
      "Ticker: WY, MAPE: 5.53, MAE: 1.57\n",
      "**************************************************\n"
     ]
    }
   ],
   "source": [
    "mapes_theta = {}\n",
    "maes_theta = {}\n",
    "\n",
    "for ticker in data.keys():\n",
    "    y_test = test[ticker]['close']\n",
    "    y_pred = models_theta[ticker].predict(\n",
    "        n=len(y_test),\n",
    "        show_warnings=False\n",
    "    )\n",
    "    mape_ = mape(y_test, y_pred)\n",
    "    mae_ = mae(y_test, y_pred)\n",
    "    mapes_theta[ticker] = mape_\n",
    "    maes_theta[ticker] = mae_\n",
    "    print(f\"Ticker: {ticker}, MAPE: {mape_:.2f}, MAE: {mae_:.2f}\")\n",
    "    print(\"*\" * 50)"
   ]
  },
  {
   "cell_type": "code",
   "execution_count": 19,
   "id": "25979024",
   "metadata": {},
   "outputs": [
    {
     "data": {
      "text/plain": [
       "(12.781682044333834, 19.235720154084596)"
      ]
     },
     "execution_count": 19,
     "metadata": {},
     "output_type": "execute_result"
    }
   ],
   "source": [
    "np.mean(list(mapes_theta.values())), np.mean(list(maes_theta.values()))"
   ]
  },
  {
   "cell_type": "markdown",
   "id": "d147b846",
   "metadata": {},
   "source": [
    "## Linear Regression"
   ]
  },
  {
   "cell_type": "markdown",
   "id": "6df2f493",
   "metadata": {},
   "source": [
    "### Local model"
   ]
  },
  {
   "cell_type": "code",
   "execution_count": 20,
   "id": "a98d2d26",
   "metadata": {},
   "outputs": [
    {
     "name": "stdout",
     "output_type": "stream",
     "text": [
      "Training model for AMT\n",
      "Model for AMT trained in 0.13 seconds\n",
      "**************************************************\n",
      "Training model for ARE\n",
      "Model for ARE trained in 0.12 seconds\n",
      "**************************************************\n",
      "Training model for AVB\n",
      "Model for AVB trained in 0.12 seconds\n",
      "**************************************************\n",
      "Training model for BXP\n",
      "Model for BXP trained in 0.13 seconds\n",
      "**************************************************\n",
      "Training model for CBRE\n",
      "Model for CBRE trained in 0.12 seconds\n",
      "**************************************************\n",
      "Training model for CCI\n",
      "Model for CCI trained in 0.12 seconds\n",
      "**************************************************\n",
      "Training model for CPT\n",
      "Model for CPT trained in 0.12 seconds\n",
      "**************************************************\n",
      "Training model for CSGP\n",
      "Model for CSGP trained in 0.12 seconds\n",
      "**************************************************\n",
      "Training model for DLR\n",
      "Model for DLR trained in 0.13 seconds\n",
      "**************************************************\n",
      "Training model for DOC\n",
      "Model for DOC trained in 0.12 seconds\n",
      "**************************************************\n",
      "Training model for EQIX\n",
      "Model for EQIX trained in 0.12 seconds\n",
      "**************************************************\n",
      "Training model for EQR\n",
      "Model for EQR trained in 0.12 seconds\n",
      "**************************************************\n",
      "Training model for ESS\n",
      "Model for ESS trained in 0.12 seconds\n",
      "**************************************************\n",
      "Training model for EXR\n",
      "Model for EXR trained in 0.13 seconds\n",
      "**************************************************\n",
      "Training model for FRT\n",
      "Model for FRT trained in 0.12 seconds\n",
      "**************************************************\n",
      "Training model for HST\n",
      "Model for HST trained in 0.12 seconds\n",
      "**************************************************\n",
      "Training model for INVH\n",
      "Model for INVH trained in 0.11 seconds\n",
      "**************************************************\n",
      "Training model for IRM\n",
      "Model for IRM trained in 0.12 seconds\n",
      "**************************************************\n",
      "Training model for KIM\n",
      "Model for KIM trained in 0.12 seconds\n",
      "**************************************************\n",
      "Training model for MAA\n",
      "Model for MAA trained in 0.12 seconds\n",
      "**************************************************\n",
      "Training model for O\n",
      "Model for O trained in 0.12 seconds\n",
      "**************************************************\n",
      "Training model for PLD\n",
      "Model for PLD trained in 0.12 seconds\n",
      "**************************************************\n",
      "Training model for PSA\n",
      "Model for PSA trained in 0.13 seconds\n",
      "**************************************************\n",
      "Training model for REG\n",
      "Model for REG trained in 0.12 seconds\n",
      "**************************************************\n",
      "Training model for SBAC\n",
      "Model for SBAC trained in 0.12 seconds\n",
      "**************************************************\n",
      "Training model for SPG\n",
      "Model for SPG trained in 0.12 seconds\n",
      "**************************************************\n",
      "Training model for UDR\n",
      "Model for UDR trained in 0.12 seconds\n",
      "**************************************************\n",
      "Training model for VICI\n",
      "Model for VICI trained in 0.10 seconds\n",
      "**************************************************\n",
      "Training model for VTR\n",
      "Model for VTR trained in 0.12 seconds\n",
      "**************************************************\n",
      "Training model for WELL\n",
      "Model for WELL trained in 0.12 seconds\n",
      "**************************************************\n",
      "Training model for WY\n",
      "Model for WY trained in 0.12 seconds\n",
      "**************************************************\n"
     ]
    }
   ],
   "source": [
    "models_lr = {}\n",
    "\n",
    "for ticker in data.keys():\n",
    "    print(f\"Training model for {ticker}\")\n",
    "    start = time.time()\n",
    "    model = LinearRegressionModel(\n",
    "        lags=15,\n",
    "        lags_past_covariates=1,\n",
    "        lags_future_covariates=[0],\n",
    "        output_chunk_length=1,\n",
    "        random_state=42,\n",
    "        add_encoders={\n",
    "            'datetime_attribute': {\n",
    "                'future': ['month', 'day', 'dayofweek', 'dayofyear', 'quarter', 'year'] # automatically generate future covariates from time series\n",
    "            }\n",
    "        }\n",
    "    )\n",
    "\n",
    "    model.fit(\n",
    "        train[ticker]['close'],\n",
    "        past_covariates=train[ticker][['high', 'low', 'volume', 'open']],\n",
    "    )\n",
    "\n",
    "    end = time.time()\n",
    "    print(f\"Model for {ticker} trained in {end - start:.2f} seconds\")\n",
    "    print(\"*\" * 50)\n",
    "\n",
    "    models_lr[ticker] = model"
   ]
  },
  {
   "cell_type": "code",
   "execution_count": 21,
   "id": "79a5002a",
   "metadata": {},
   "outputs": [
    {
     "name": "stdout",
     "output_type": "stream",
     "text": [
      "Ticker: AMT, MAPE: 2217156.37, MAE: 4746344.64\n",
      "**************************************************\n",
      "Ticker: ARE, MAPE: 4.27, MAE: 4.16\n",
      "**************************************************\n",
      "Ticker: AVB, MAPE: 1.29, MAE: 2.71\n",
      "**************************************************\n",
      "Ticker: BXP, MAPE: 2.40, MAE: 1.66\n",
      "**************************************************\n",
      "Ticker: CBRE, MAPE: 3.15, MAE: 3.83\n",
      "**************************************************\n",
      "Ticker: CCI, MAPE: 4.39, MAE: 4.42\n",
      "**************************************************\n",
      "Ticker: CPT, MAPE: 1.85, MAE: 2.09\n",
      "**************************************************\n",
      "Ticker: CSGP, MAPE: 2.70, MAE: 2.03\n",
      "**************************************************\n",
      "Ticker: DLR, MAPE: 18.26, MAE: 30.17\n",
      "**************************************************\n",
      "Ticker: DOC, MAPE: 1.51, MAE: 0.30\n",
      "**************************************************\n",
      "Ticker: EQIX, MAPE: 1.84, MAE: 15.51\n",
      "**************************************************\n",
      "Ticker: EQR, MAPE: 1.66, MAE: 1.15\n",
      "**************************************************\n",
      "Ticker: ESS, MAPE: 1.75, MAE: 4.92\n",
      "**************************************************\n",
      "Ticker: EXR, MAPE: 5.16, MAE: 8.00\n",
      "**************************************************\n",
      "Ticker: FRT, MAPE: 1.61, MAE: 1.66\n",
      "**************************************************\n",
      "Ticker: HST, MAPE: 2.23, MAE: 0.36\n",
      "**************************************************\n",
      "Ticker: INVH, MAPE: 1.55, MAE: 0.51\n",
      "**************************************************\n",
      "Ticker: IRM, MAPE: 33103.47, MAE: 29020.86\n",
      "**************************************************\n",
      "Ticker: KIM, MAPE: 3.29, MAE: 0.72\n",
      "**************************************************\n",
      "Ticker: MAA, MAPE: 1.49, MAE: 2.24\n",
      "**************************************************\n",
      "Ticker: O, MAPE: 1.40, MAE: 0.77\n",
      "**************************************************\n",
      "Ticker: PLD, MAPE: 1.84, MAE: 2.03\n",
      "**************************************************\n",
      "Ticker: PSA, MAPE: 3.69, MAE: 11.45\n",
      "**************************************************\n",
      "Ticker: REG, MAPE: 1.46, MAE: 1.01\n",
      "**************************************************\n",
      "Ticker: SBAC, MAPE: 3.31, MAE: 7.23\n",
      "**************************************************\n",
      "Ticker: SPG, MAPE: 2.14, MAE: 3.45\n",
      "**************************************************\n",
      "Ticker: UDR, MAPE: 1.40, MAE: 0.58\n",
      "**************************************************\n",
      "Ticker: VICI, MAPE: 1.81, MAE: 0.55\n",
      "**************************************************\n",
      "Ticker: VTR, MAPE: 4.50, MAE: 2.75\n",
      "**************************************************\n",
      "Ticker: WELL, MAPE: 4.56, MAE: 5.85\n",
      "**************************************************\n",
      "Ticker: WY, MAPE: 2.00, MAE: 0.58\n",
      "**************************************************\n"
     ]
    }
   ],
   "source": [
    "mapes_lr = {}\n",
    "maes_lr = {}\n",
    "\n",
    "for ticker in data.keys():\n",
    "    y_test = test[ticker]['close']\n",
    "    y_pred = models_lr[ticker].predict(\n",
    "        n=len(y_test),\n",
    "        past_covariates=test[ticker][['high', 'low', 'volume', 'open']],\n",
    "        show_warnings=False\n",
    "    )\n",
    "    mape_ = mape(y_test, y_pred)\n",
    "    mae_ = mae(y_test, y_pred)\n",
    "    mapes_lr[ticker] = mape_\n",
    "    maes_lr[ticker] = mae_\n",
    "    print(f\"Ticker: {ticker}, MAPE: {mape_:.2f}, MAE: {mae_:.2f}\")\n",
    "    print(\"*\" * 50)"
   ]
  },
  {
   "cell_type": "code",
   "execution_count": 22,
   "id": "1a3fbd8d",
   "metadata": {},
   "outputs": [
    {
     "data": {
      "text/plain": [
       "(72591.88226641317, 154048.00663483568)"
      ]
     },
     "execution_count": 22,
     "metadata": {},
     "output_type": "execute_result"
    }
   ],
   "source": [
    "np.mean(list(mapes_lr.values())), np.mean(list(maes_lr.values()))"
   ]
  },
  {
   "cell_type": "markdown",
   "id": "1f27462f",
   "metadata": {},
   "source": [
    "### Global model"
   ]
  },
  {
   "cell_type": "code",
   "execution_count": 23,
   "id": "3879adfb",
   "metadata": {},
   "outputs": [
    {
     "name": "stdout",
     "output_type": "stream",
     "text": [
      "Training global model\n",
      "Global model trained in 3.67 seconds\n",
      "**************************************************\n"
     ]
    }
   ],
   "source": [
    "print(f\"Training global model\")\n",
    "start = time.time()\n",
    "model = LinearRegressionModel(\n",
    "    lags=15,\n",
    "    lags_past_covariates=1,\n",
    "    lags_future_covariates=[0],\n",
    "    output_chunk_length=1,\n",
    "    random_state=42,\n",
    "    add_encoders={\n",
    "        'datetime_attribute': {\n",
    "            'future': ['month', 'day', 'dayofweek', 'dayofyear', 'quarter', 'year'] # automatically generate future covariates from time series\n",
    "        }\n",
    "    }\n",
    ")\n",
    "\n",
    "model.fit(\n",
    "    [ts['close'] for ts in train.values()],\n",
    "    past_covariates=[ts[['high', 'low', 'volume', 'open']] for ts in train.values()],\n",
    ")\n",
    "\n",
    "end = time.time()\n",
    "print(f\"Global model trained in {end - start:.2f} seconds\")\n",
    "print(\"*\" * 50)"
   ]
  },
  {
   "cell_type": "code",
   "execution_count": 24,
   "id": "545bdc45",
   "metadata": {},
   "outputs": [
    {
     "name": "stdout",
     "output_type": "stream",
     "text": [
      "Global model for AMT, MAPE: 2.37, MAE: 4.79\n",
      "**************************************************\n",
      "Global model for ARE, MAPE: 2.64, MAE: 2.65\n",
      "**************************************************\n",
      "Global model for AVB, MAPE: 1.62, MAE: 3.41\n",
      "**************************************************\n",
      "Global model for BXP, MAPE: 2.51, MAE: 1.74\n",
      "**************************************************\n",
      "Global model for CBRE, MAPE: 2.52, MAE: 3.02\n",
      "**************************************************\n",
      "Global model for CCI, MAPE: 2.29, MAE: 2.27\n",
      "**************************************************\n",
      "Global model for CPT, MAPE: 1.86, MAE: 2.11\n",
      "**************************************************\n",
      "Global model for CSGP, MAPE: 2.37, MAE: 1.82\n",
      "**************************************************\n",
      "Global model for DLR, MAPE: 2.21, MAE: 3.53\n",
      "**************************************************\n",
      "Global model for DOC, MAPE: 2.30, MAE: 0.46\n",
      "**************************************************\n",
      "Global model for EQIX, MAPE: 1.91, MAE: 16.08\n",
      "**************************************************\n",
      "Global model for EQR, MAPE: 1.81, MAE: 1.26\n",
      "**************************************************\n",
      "Global model for ESS, MAPE: 2.01, MAE: 5.63\n",
      "**************************************************\n",
      "Global model for EXR, MAPE: 2.17, MAE: 3.32\n",
      "**************************************************\n",
      "Global model for FRT, MAPE: 1.59, MAE: 1.63\n",
      "**************************************************\n",
      "Global model for HST, MAPE: 2.60, MAE: 0.43\n",
      "**************************************************\n",
      "Global model for INVH, MAPE: 1.85, MAE: 0.61\n",
      "**************************************************\n",
      "Global model for IRM, MAPE: 3.08, MAE: 3.05\n",
      "**************************************************\n",
      "Global model for KIM, MAPE: 2.30, MAE: 0.49\n",
      "**************************************************\n",
      "Global model for MAA, MAPE: 1.86, MAE: 2.79\n",
      "**************************************************\n",
      "Global model for O, MAPE: 1.87, MAE: 1.04\n",
      "**************************************************\n",
      "Global model for PLD, MAPE: 2.33, MAE: 2.60\n",
      "**************************************************\n",
      "Global model for PSA, MAPE: 2.12, MAE: 6.47\n",
      "**************************************************\n",
      "Global model for REG, MAPE: 1.62, MAE: 1.11\n",
      "**************************************************\n",
      "Global model for SBAC, MAPE: 2.18, MAE: 4.69\n",
      "**************************************************\n",
      "Global model for SPG, MAPE: 1.94, MAE: 3.11\n",
      "**************************************************\n",
      "Global model for UDR, MAPE: 2.05, MAE: 0.85\n",
      "**************************************************\n",
      "Global model for VICI, MAPE: 2.17, MAE: 0.67\n",
      "**************************************************\n",
      "Global model for VTR, MAPE: 2.18, MAE: 1.29\n",
      "**************************************************\n",
      "Global model for WELL, MAPE: 2.14, MAE: 2.74\n",
      "**************************************************\n",
      "Global model for WY, MAPE: 2.34, MAE: 0.69\n",
      "**************************************************\n"
     ]
    }
   ],
   "source": [
    "mapes_lr_global = {}\n",
    "maes_lr_global = {}\n",
    "\n",
    "for ticker in data.keys():\n",
    "    y_pred = model.predict(\n",
    "        n=len(test[ticker]['close']),\n",
    "        series=train[ticker]['close'],\n",
    "        past_covariates=test[ticker][['high', 'low', 'volume', 'open']],\n",
    "        show_warnings=False\n",
    "    )\n",
    "    y_test = test[ticker]['close']\n",
    "    mape_ = mape(y_test, y_pred)\n",
    "    mae_ = mae(y_test, y_pred)\n",
    "\n",
    "    mapes_lr_global[ticker] = mape_\n",
    "    maes_lr_global[ticker] = mae_\n",
    "\n",
    "    print(f\"Global model for {ticker}, MAPE: {mape_:.2f}, MAE: {mae_:.2f}\")\n",
    "    print(\"*\" * 50)"
   ]
  },
  {
   "cell_type": "code",
   "execution_count": 25,
   "id": "40364019",
   "metadata": {},
   "outputs": [
    {
     "data": {
      "text/plain": [
       "(2.1547877803985362, 2.784613457601903)"
      ]
     },
     "execution_count": 25,
     "metadata": {},
     "output_type": "execute_result"
    }
   ],
   "source": [
    "np.mean(list(mapes_lr_global.values())), np.mean(list(maes_lr_global.values()))"
   ]
  },
  {
   "cell_type": "markdown",
   "id": "aa41ad7a",
   "metadata": {},
   "source": [
    "## ARIMA"
   ]
  },
  {
   "cell_type": "code",
   "execution_count": 26,
   "id": "135ba2a8",
   "metadata": {},
   "outputs": [
    {
     "name": "stdout",
     "output_type": "stream",
     "text": [
      "Training model for AMT\n",
      "Model for AMT trained in 3.60 seconds\n",
      "**************************************************\n",
      "Training model for ARE\n",
      "Model for ARE trained in 2.09 seconds\n",
      "**************************************************\n",
      "Training model for AVB\n",
      "Model for AVB trained in 1.72 seconds\n",
      "**************************************************\n",
      "Training model for BXP\n",
      "Model for BXP trained in 2.50 seconds\n",
      "**************************************************\n",
      "Training model for CBRE\n",
      "Model for CBRE trained in 3.27 seconds\n",
      "**************************************************\n",
      "Training model for CCI\n",
      "Model for CCI trained in 2.83 seconds\n",
      "**************************************************\n",
      "Training model for CPT\n",
      "Model for CPT trained in 1.45 seconds\n",
      "**************************************************\n",
      "Training model for CSGP\n",
      "Model for CSGP trained in 1.20 seconds\n",
      "**************************************************\n",
      "Training model for DLR\n",
      "Model for DLR trained in 1.92 seconds\n",
      "**************************************************\n",
      "Training model for DOC\n",
      "Model for DOC trained in 1.30 seconds\n",
      "**************************************************\n",
      "Training model for EQIX\n",
      "Model for EQIX trained in 1.60 seconds\n",
      "**************************************************\n",
      "Training model for EQR\n",
      "Model for EQR trained in 1.78 seconds\n",
      "**************************************************\n",
      "Training model for ESS\n",
      "Model for ESS trained in 2.30 seconds\n",
      "**************************************************\n",
      "Training model for EXR\n",
      "Model for EXR trained in 1.42 seconds\n",
      "**************************************************\n",
      "Training model for FRT\n",
      "Model for FRT trained in 2.29 seconds\n",
      "**************************************************\n",
      "Training model for HST\n",
      "Model for HST trained in 0.16 seconds\n",
      "**************************************************\n",
      "Training model for INVH\n",
      "Model for INVH trained in 1.92 seconds\n",
      "**************************************************\n",
      "Training model for IRM\n",
      "Model for IRM trained in 0.45 seconds\n",
      "**************************************************\n",
      "Training model for KIM\n",
      "Model for KIM trained in 0.18 seconds\n",
      "**************************************************\n",
      "Training model for MAA\n",
      "Model for MAA trained in 1.43 seconds\n",
      "**************************************************\n",
      "Training model for O\n",
      "Model for O trained in 1.13 seconds\n",
      "**************************************************\n",
      "Training model for PLD\n",
      "Model for PLD trained in 1.39 seconds\n",
      "**************************************************\n",
      "Training model for PSA\n",
      "Model for PSA trained in 0.18 seconds\n",
      "**************************************************\n",
      "Training model for REG\n",
      "Model for REG trained in 0.17 seconds\n",
      "**************************************************\n",
      "Training model for SBAC\n",
      "Model for SBAC trained in 0.21 seconds\n",
      "**************************************************\n",
      "Training model for SPG\n",
      "Model for SPG trained in 0.18 seconds\n",
      "**************************************************\n",
      "Training model for UDR\n",
      "Model for UDR trained in 0.23 seconds\n",
      "**************************************************\n",
      "Training model for VICI\n",
      "Model for VICI trained in 1.27 seconds\n",
      "**************************************************\n",
      "Training model for VTR\n",
      "Model for VTR trained in 1.55 seconds\n",
      "**************************************************\n",
      "Training model for WELL\n",
      "Model for WELL trained in 0.73 seconds\n",
      "**************************************************\n",
      "Training model for WY\n",
      "Model for WY trained in 3.67 seconds\n",
      "**************************************************\n"
     ]
    }
   ],
   "source": [
    "models_arima = {}\n",
    "\n",
    "for ticker in data.keys():\n",
    "    print(f\"Training model for {ticker}\")\n",
    "    start = time.time()\n",
    "    model = AutoARIMA()\n",
    "\n",
    "    model.fit(\n",
    "        series=train[ticker]['close'],\n",
    "    )\n",
    "\n",
    "    end = time.time()\n",
    "    print(f\"Model for {ticker} trained in {end - start:.2f} seconds\")\n",
    "    print(\"*\" * 50)\n",
    "\n",
    "    models_arima[ticker] = model"
   ]
  },
  {
   "cell_type": "code",
   "execution_count": 27,
   "id": "64a5ed9e",
   "metadata": {},
   "outputs": [
    {
     "name": "stdout",
     "output_type": "stream",
     "text": [
      "Ticker: AMT, MAPE: 12.52, MAE: 26.50\n",
      "**************************************************\n",
      "Ticker: ARE, MAPE: 10.96, MAE: 10.11\n",
      "**************************************************\n",
      "Ticker: AVB, MAPE: 11.54, MAE: 24.98\n",
      "**************************************************\n",
      "Ticker: BXP, MAPE: 17.02, MAE: 12.50\n",
      "**************************************************\n",
      "Ticker: CBRE, MAPE: 24.94, MAE: 32.00\n",
      "**************************************************\n",
      "Ticker: CCI, MAPE: 7.92, MAE: 8.13\n",
      "**************************************************\n",
      "Ticker: CPT, MAPE: 14.60, MAE: 16.99\n",
      "**************************************************\n",
      "Ticker: CSGP, MAPE: 22.64, MAE: 17.13\n",
      "**************************************************\n",
      "Ticker: DLR, MAPE: 10.24, MAE: 17.25\n",
      "**************************************************\n",
      "Ticker: DOC, MAPE: 10.16, MAE: 2.10\n",
      "**************************************************\n",
      "Ticker: EQIX, MAPE: 10.56, MAE: 93.27\n",
      "**************************************************\n",
      "Ticker: EQR, MAPE: 8.94, MAE: 6.36\n",
      "**************************************************\n",
      "Ticker: ESS, MAPE: 14.10, MAE: 40.48\n",
      "**************************************************\n",
      "Ticker: EXR, MAPE: 12.82, MAE: 20.44\n",
      "**************************************************\n",
      "Ticker: FRT, MAPE: 6.65, MAE: 7.03\n",
      "**************************************************\n",
      "Ticker: HST, MAPE: 7.04, MAE: 1.07\n",
      "**************************************************\n",
      "Ticker: INVH, MAPE: 6.19, MAE: 1.99\n",
      "**************************************************\n",
      "Ticker: IRM, MAPE: 20.52, MAE: 22.07\n",
      "**************************************************\n",
      "Ticker: KIM, MAPE: 14.90, MAE: 3.36\n",
      "**************************************************\n",
      "Ticker: MAA, MAPE: 14.91, MAE: 22.95\n",
      "**************************************************\n",
      "Ticker: O, MAPE: 4.95, MAE: 2.82\n",
      "**************************************************\n",
      "Ticker: PLD, MAPE: 10.54, MAE: 12.37\n",
      "**************************************************\n",
      "Ticker: PSA, MAPE: 15.94, MAE: 50.18\n",
      "**************************************************\n",
      "Ticker: REG, MAPE: 15.47, MAE: 11.00\n",
      "**************************************************\n",
      "Ticker: SBAC, MAPE: 10.62, MAE: 23.73\n",
      "**************************************************\n",
      "Ticker: SPG, MAPE: 15.90, MAE: 26.58\n",
      "**************************************************\n",
      "Ticker: UDR, MAPE: 12.99, MAE: 5.51\n",
      "**************************************************\n",
      "Ticker: VICI, MAPE: 4.40, MAE: 1.38\n",
      "**************************************************\n",
      "Ticker: VTR, MAPE: 23.80, MAE: 14.78\n",
      "**************************************************\n",
      "Ticker: WELL, MAPE: 23.88, MAE: 31.92\n",
      "**************************************************\n",
      "Ticker: WY, MAPE: 5.08, MAE: 1.45\n",
      "**************************************************\n"
     ]
    }
   ],
   "source": [
    "mapes_arima = {}\n",
    "maes_arima = {}\n",
    "\n",
    "for ticker in data.keys():\n",
    "    y_test = test[ticker]['close']\n",
    "    y_pred = models_arima[ticker].predict(\n",
    "        n=len(y_test),\n",
    "        show_warnings=False\n",
    "    )\n",
    "    mape_ = mape(y_test, y_pred)\n",
    "    mae_ = mae(y_test, y_pred)\n",
    "    mapes_arima[ticker] = mape_\n",
    "    maes_arima[ticker] = mae_\n",
    "    print(f\"Ticker: {ticker}, MAPE: {mape_:.2f}, MAE: {mae_:.2f}\")\n",
    "    print(\"*\" * 50)"
   ]
  },
  {
   "cell_type": "code",
   "execution_count": 28,
   "id": "3540f772",
   "metadata": {},
   "outputs": [
    {
     "data": {
      "text/plain": [
       "(12.991628078432619, 18.336621129127455)"
      ]
     },
     "execution_count": 28,
     "metadata": {},
     "output_type": "execute_result"
    }
   ],
   "source": [
    "np.mean(list(mapes_arima.values())), np.mean(list(maes_arima.values()))"
   ]
  }
 ],
 "metadata": {
  "kernelspec": {
   "display_name": ".venv",
   "language": "python",
   "name": "python3"
  },
  "language_info": {
   "codemirror_mode": {
    "name": "ipython",
    "version": 3
   },
   "file_extension": ".py",
   "mimetype": "text/x-python",
   "name": "python",
   "nbconvert_exporter": "python",
   "pygments_lexer": "ipython3",
   "version": "3.12.1"
  }
 },
 "nbformat": 4,
 "nbformat_minor": 5
}
