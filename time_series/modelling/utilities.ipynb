{
 "cells": [
  {
   "cell_type": "markdown",
   "id": "a132de14",
   "metadata": {},
   "source": [
    "## Model training and tuning for the utilities sector"
   ]
  },
  {
   "cell_type": "code",
   "execution_count": 1,
   "id": "d74fe196",
   "metadata": {},
   "outputs": [
    {
     "name": "stderr",
     "output_type": "stream",
     "text": [
      "Importing plotly failed. Interactive plots will not work.\n",
      "d:\\investing-bot\\.venv\\Lib\\site-packages\\fs\\__init__.py:4: UserWarning: pkg_resources is deprecated as an API. See https://setuptools.pypa.io/en/latest/pkg_resources.html. The pkg_resources package is slated for removal as early as 2025-11-30. Refrain from using this package or pin to Setuptools<81.\n",
      "  __import__(\"pkg_resources\").declare_namespace(__name__)  # type: ignore\n"
     ]
    }
   ],
   "source": [
    "import pandas as pd\n",
    "import numpy as np\n",
    "\n",
    "import time\n",
    "\n",
    "from darts import TimeSeries, concatenate\n",
    "from darts.utils.model_selection import train_test_split\n",
    "from darts.models.forecasting.xgboost import XGBModel\n",
    "from darts.dataprocessing.transformers.scaler import Scaler\n",
    "from darts.metrics.metrics import mape, mae\n",
    "from darts.models.forecasting.prophet_model import Prophet\n",
    "from darts.models.forecasting.sf_auto_theta import AutoTheta\n",
    "from darts.models.forecasting.linear_regression_model import LinearRegressionModel\n",
    "from darts.dataprocessing.transformers import StaticCovariatesTransformer\n",
    "from darts.models.forecasting.sf_auto_arima import AutoARIMA\n",
    "from darts.dataprocessing.transformers.boxcox import BoxCox"
   ]
  },
  {
   "cell_type": "code",
   "execution_count": 2,
   "id": "8c7af10f",
   "metadata": {},
   "outputs": [],
   "source": [
    "df = pd.read_csv('../../data/processed/sp500_all_companies_cleaned_with_sector.csv')\n",
    "df['date'] = pd.to_datetime(df['date'])\n",
    "\n",
    "df_utilities = df[df['GICS Sector'] == 'Utilities'].sort_values(by=['ticker', 'date']).reset_index(drop=True)"
   ]
  },
  {
   "cell_type": "code",
   "execution_count": 3,
   "id": "ece8cf77",
   "metadata": {},
   "outputs": [
    {
     "data": {
      "text/plain": [
       "GICS Sector\n",
       "Industrials               193459\n",
       "Financials                190485\n",
       "Information Technology    177149\n",
       "Health Care               151348\n",
       "Consumer Discretionary    130185\n",
       "Consumer Staples           96649\n",
       "Real Estate                79757\n",
       "Utilities                  78786\n",
       "Materials                  63394\n",
       "Energy                     58523\n",
       "Communication Services     58017\n",
       "Name: count, dtype: int64"
      ]
     },
     "execution_count": 3,
     "metadata": {},
     "output_type": "execute_result"
    }
   ],
   "source": [
    "df['GICS Sector'].value_counts()"
   ]
  },
  {
   "cell_type": "code",
   "execution_count": 4,
   "id": "3a82775d",
   "metadata": {},
   "outputs": [
    {
     "data": {
      "text/plain": [
       "array(['AEE', 'AEP', 'AES', 'ATO', 'AWK', 'CEG', 'CMS', 'CNP', 'D', 'DTE',\n",
       "       'DUK', 'ED', 'EIX', 'ES', 'ETR', 'EVRG', 'EXC', 'FE', 'LNT', 'NEE',\n",
       "       'NI', 'NRG', 'PCG', 'PEG', 'PNW', 'PPL', 'SO', 'SRE', 'VST', 'WEC',\n",
       "       'XEL'], dtype=object)"
      ]
     },
     "execution_count": 4,
     "metadata": {},
     "output_type": "execute_result"
    }
   ],
   "source": [
    "df_utilities['ticker'].unique()"
   ]
  },
  {
   "cell_type": "code",
   "execution_count": 5,
   "id": "92847a29",
   "metadata": {},
   "outputs": [],
   "source": [
    "data = {}\n",
    "static_covs = pd.DataFrame({'ticker': df_utilities['ticker'].unique()})\n",
    "\n",
    "for ticker, group in df_utilities.groupby('ticker'):\n",
    "    series = TimeSeries.from_dataframe(\n",
    "        group,\n",
    "        time_col='date',\n",
    "        value_cols=['close', 'high', 'low', 'open', 'volume'],\n",
    "        freq='B',\n",
    "        static_covariates=pd.Series(ticker)\n",
    "    )\n",
    "    data[ticker] = series"
   ]
  },
  {
   "cell_type": "code",
   "execution_count": 6,
   "id": "64b0d57f",
   "metadata": {},
   "outputs": [],
   "source": [
    "# encode each ticker as a static covariate\n",
    "transformer = StaticCovariatesTransformer()\n",
    "ts = [d for d in data.values()]\n",
    "transformer.fit(ts)\n",
    "\n",
    "for ticker, series in data.items():\n",
    "    data[ticker] = transformer.transform(series)"
   ]
  },
  {
   "cell_type": "code",
   "execution_count": 7,
   "id": "8ebc137c",
   "metadata": {},
   "outputs": [],
   "source": [
    "train = {}\n",
    "test = {}\n",
    "\n",
    "for ticker, series in data.items():\n",
    "    train[ticker], test[ticker] = train_test_split(series, test_size=0.1)\n",
    "    last_train = train[ticker][-1:]\n",
    "    test_with_context = last_train.append(test[ticker]) # append last point of train to test as our forecast requires it\n",
    "    test[ticker] = test_with_context"
   ]
  },
  {
   "cell_type": "markdown",
   "id": "2ff40656",
   "metadata": {},
   "source": [
    "## Gradient Boosting"
   ]
  },
  {
   "cell_type": "markdown",
   "id": "ab5a6a61",
   "metadata": {},
   "source": [
    "### Train a local model first"
   ]
  },
  {
   "cell_type": "code",
   "execution_count": 8,
   "id": "630b92e0",
   "metadata": {},
   "outputs": [
    {
     "name": "stdout",
     "output_type": "stream",
     "text": [
      "Training model for AEE\n",
      "Model for AEE trained in 0.31 seconds\n",
      "**************************************************\n",
      "Training model for AEP\n",
      "Model for AEP trained in 0.34 seconds\n",
      "**************************************************\n",
      "Training model for AES\n",
      "Model for AES trained in 0.33 seconds\n",
      "**************************************************\n",
      "Training model for ATO\n",
      "Model for ATO trained in 0.31 seconds\n",
      "**************************************************\n",
      "Training model for AWK\n",
      "Model for AWK trained in 0.33 seconds\n",
      "**************************************************\n",
      "Training model for CEG\n",
      "Model for CEG trained in 0.23 seconds\n",
      "**************************************************\n",
      "Training model for CMS\n",
      "Model for CMS trained in 0.31 seconds\n",
      "**************************************************\n",
      "Training model for CNP\n",
      "Model for CNP trained in 0.36 seconds\n",
      "**************************************************\n",
      "Training model for D\n",
      "Model for D trained in 0.38 seconds\n",
      "**************************************************\n",
      "Training model for DTE\n",
      "Model for DTE trained in 0.52 seconds\n",
      "**************************************************\n",
      "Training model for DUK\n",
      "Model for DUK trained in 0.35 seconds\n",
      "**************************************************\n",
      "Training model for ED\n",
      "Model for ED trained in 0.38 seconds\n",
      "**************************************************\n",
      "Training model for EIX\n",
      "Model for EIX trained in 0.41 seconds\n",
      "**************************************************\n",
      "Training model for ES\n",
      "Model for ES trained in 0.35 seconds\n",
      "**************************************************\n",
      "Training model for ETR\n",
      "Model for ETR trained in 0.30 seconds\n",
      "**************************************************\n",
      "Training model for EVRG\n",
      "Model for EVRG trained in 0.31 seconds\n",
      "**************************************************\n",
      "Training model for EXC\n",
      "Model for EXC trained in 0.26 seconds\n",
      "**************************************************\n",
      "Training model for FE\n",
      "Model for FE trained in 0.29 seconds\n",
      "**************************************************\n",
      "Training model for LNT\n",
      "Model for LNT trained in 0.27 seconds\n",
      "**************************************************\n",
      "Training model for NEE\n",
      "Model for NEE trained in 0.25 seconds\n",
      "**************************************************\n",
      "Training model for NI\n",
      "Model for NI trained in 0.25 seconds\n",
      "**************************************************\n",
      "Training model for NRG\n",
      "Model for NRG trained in 0.25 seconds\n",
      "**************************************************\n",
      "Training model for PCG\n",
      "Model for PCG trained in 0.35 seconds\n",
      "**************************************************\n",
      "Training model for PEG\n",
      "Model for PEG trained in 0.74 seconds\n",
      "**************************************************\n",
      "Training model for PNW\n",
      "Model for PNW trained in 0.40 seconds\n",
      "**************************************************\n",
      "Training model for PPL\n",
      "Model for PPL trained in 0.45 seconds\n",
      "**************************************************\n",
      "Training model for SO\n",
      "Model for SO trained in 0.49 seconds\n",
      "**************************************************\n",
      "Training model for SRE\n",
      "Model for SRE trained in 0.40 seconds\n",
      "**************************************************\n",
      "Training model for VST\n",
      "Model for VST trained in 0.34 seconds\n",
      "**************************************************\n",
      "Training model for WEC\n",
      "Model for WEC trained in 0.54 seconds\n",
      "**************************************************\n",
      "Training model for XEL\n",
      "Model for XEL trained in 0.33 seconds\n",
      "**************************************************\n"
     ]
    }
   ],
   "source": [
    "models = {}\n",
    "\n",
    "for ticker in data.keys():\n",
    "    print(f\"Training model for {ticker}\")\n",
    "    start = time.time()\n",
    "    model = XGBModel(\n",
    "        lags=15,\n",
    "        lags_past_covariates=1,\n",
    "        lags_future_covariates=[0],\n",
    "        output_chunk_length=1,\n",
    "        random_state=42,\n",
    "        add_encoders={\n",
    "            'datetime_attribute': {\n",
    "                'future': ['month', 'day', 'dayofweek', 'dayofyear', 'quarter', 'year'] # automatically generate future covariates from time series\n",
    "            }\n",
    "        }\n",
    "    )\n",
    "\n",
    "    model.fit(\n",
    "        train[ticker]['close'],\n",
    "        past_covariates=train[ticker][['high', 'low', 'volume', 'open']],\n",
    "    )\n",
    "\n",
    "    end = time.time()\n",
    "    print(f\"Model for {ticker} trained in {end - start:.2f} seconds\")\n",
    "    print(\"*\" * 50)\n",
    "\n",
    "    models[ticker] = model"
   ]
  },
  {
   "cell_type": "code",
   "execution_count": 9,
   "id": "b9f91c14",
   "metadata": {},
   "outputs": [
    {
     "name": "stdout",
     "output_type": "stream",
     "text": [
      "Ticker: AEE, MAPE: 8.16, MAE: 7.33\n",
      "**************************************************\n",
      "Ticker: AEP, MAPE: 7.92, MAE: 7.73\n",
      "**************************************************\n",
      "Ticker: AES, MAPE: 5.73, MAE: 0.82\n",
      "**************************************************\n",
      "Ticker: ATO, MAPE: 14.86, MAE: 21.27\n",
      "**************************************************\n",
      "Ticker: AWK, MAPE: 4.48, MAE: 6.23\n",
      "**************************************************\n",
      "Ticker: CEG, MAPE: 9.53, MAE: 26.43\n",
      "**************************************************\n",
      "Ticker: CMS, MAPE: 19.86, MAE: 13.53\n",
      "**************************************************\n",
      "Ticker: CNP, MAPE: 9.84, MAE: 3.29\n",
      "**************************************************\n",
      "Ticker: D, MAPE: 2.66, MAE: 1.45\n",
      "**************************************************\n",
      "Ticker: DTE, MAPE: 8.87, MAE: 10.93\n",
      "**************************************************\n",
      "Ticker: DUK, MAPE: 9.55, MAE: 10.88\n",
      "**************************************************\n",
      "Ticker: ED, MAPE: 7.36, MAE: 7.54\n",
      "**************************************************\n",
      "Ticker: EIX, MAPE: 12.56, MAE: 9.39\n",
      "**************************************************\n",
      "Ticker: ES, MAPE: 5.54, MAE: 3.42\n",
      "**************************************************\n",
      "Ticker: ETR, MAPE: 16.85, MAE: 12.92\n",
      "**************************************************\n",
      "Ticker: EVRG, MAPE: 13.31, MAE: 8.38\n",
      "**************************************************\n",
      "Ticker: EXC, MAPE: 11.70, MAE: 4.78\n",
      "**************************************************\n",
      "Ticker: FE, MAPE: 4.60, MAE: 1.90\n",
      "**************************************************\n",
      "Ticker: LNT, MAPE: 5.94, MAE: 3.49\n",
      "**************************************************\n",
      "Ticker: NEE, MAPE: 2.42, MAE: 1.76\n",
      "**************************************************\n",
      "Ticker: NI, MAPE: 22.34, MAE: 8.08\n",
      "**************************************************\n",
      "Ticker: NRG, MAPE: 18.36, MAE: 17.43\n",
      "**************************************************\n",
      "Ticker: PCG, MAPE: 4.14, MAE: 0.77\n",
      "**************************************************\n",
      "Ticker: PEG, MAPE: 19.53, MAE: 16.20\n",
      "**************************************************\n",
      "Ticker: PNW, MAPE: 8.85, MAE: 7.87\n",
      "**************************************************\n",
      "Ticker: PPL, MAPE: 12.95, MAE: 4.29\n",
      "**************************************************\n",
      "Ticker: SO, MAPE: 14.83, MAE: 12.80\n",
      "**************************************************\n",
      "Ticker: SRE, MAPE: 7.83, MAE: 6.50\n",
      "**************************************************\n",
      "Ticker: VST, MAPE: 33.84, MAE: 47.05\n",
      "**************************************************\n",
      "Ticker: WEC, MAPE: 9.06, MAE: 8.76\n",
      "**************************************************\n",
      "Ticker: XEL, MAPE: 3.93, MAE: 2.53\n",
      "**************************************************\n"
     ]
    }
   ],
   "source": [
    "mapes = {}\n",
    "maes = {}\n",
    "\n",
    "for ticker in data.keys():\n",
    "    y_test = test[ticker]['close']\n",
    "    y_pred = models[ticker].predict(\n",
    "        n=len(y_test),\n",
    "        past_covariates=test[ticker][['high', 'low', 'volume', 'open']],\n",
    "        show_warnings=False\n",
    "    )\n",
    "    mape_ = mape(y_test, y_pred)\n",
    "    mae_ = mae(y_test, y_pred)\n",
    "    mapes[ticker] = mape_\n",
    "    maes[ticker] = mae_\n",
    "    print(f\"Ticker: {ticker}, MAPE: {mape_:.2f}, MAE: {mae_:.2f}\")\n",
    "    print(\"*\" * 50)"
   ]
  },
  {
   "cell_type": "code",
   "execution_count": 10,
   "id": "225f2cf2",
   "metadata": {},
   "outputs": [
    {
     "data": {
      "text/plain": [
       "(10.883061202967538, 9.540799941432756)"
      ]
     },
     "execution_count": 10,
     "metadata": {},
     "output_type": "execute_result"
    }
   ],
   "source": [
    "np.mean(list(mapes.values())), np.mean(list(maes.values()))"
   ]
  },
  {
   "cell_type": "markdown",
   "id": "cdb475a9",
   "metadata": {},
   "source": [
    "### Global model"
   ]
  },
  {
   "cell_type": "code",
   "execution_count": 11,
   "id": "47343a36",
   "metadata": {},
   "outputs": [
    {
     "name": "stdout",
     "output_type": "stream",
     "text": [
      "Training global model\n",
      "Global model trained in 12.09 seconds\n",
      "**************************************************\n"
     ]
    }
   ],
   "source": [
    "print(f\"Training global model\")\n",
    "start = time.time()\n",
    "model = XGBModel(\n",
    "    lags=15,\n",
    "    lags_past_covariates=1,\n",
    "    lags_future_covariates=[0],\n",
    "    output_chunk_length=1,\n",
    "    random_state=42,\n",
    "    add_encoders={\n",
    "        'datetime_attribute': {\n",
    "            'future': ['month', 'day', 'dayofweek', 'dayofyear', 'quarter', 'year'] # automatically generate future covariates from time series\n",
    "        }\n",
    "    },\n",
    "    use_static_covariates=True,\n",
    "    n_estimators=1000,\n",
    "    eta=0.01,\n",
    "    max_depth=8,\n",
    "    subsample=0.8\n",
    ")\n",
    "\n",
    "model.fit(\n",
    "    [ts['close'] for ts in train.values()],\n",
    "    past_covariates=[ts[['high', 'low', 'volume', 'open']] for ts in train.values()],\n",
    ")\n",
    "\n",
    "end = time.time()\n",
    "print(f\"Global model trained in {end - start:.2f} seconds\")\n",
    "print(\"*\" * 50)"
   ]
  },
  {
   "cell_type": "code",
   "execution_count": 12,
   "id": "e80265b5",
   "metadata": {},
   "outputs": [
    {
     "name": "stdout",
     "output_type": "stream",
     "text": [
      "Global model for AEE, MAPE: 2.52, MAE: 2.15\n",
      "**************************************************\n",
      "Global model for AEP, MAPE: 4.63, MAE: 4.66\n",
      "**************************************************\n",
      "Global model for AES, MAPE: 17.13, MAE: 1.97\n",
      "**************************************************\n",
      "Global model for ATO, MAPE: 4.37, MAE: 6.07\n",
      "**************************************************\n",
      "Global model for AWK, MAPE: 9.37, MAE: 12.74\n",
      "**************************************************\n",
      "Global model for CEG, MAPE: 14.32, MAE: 40.44\n",
      "**************************************************\n",
      "Global model for CMS, MAPE: 4.77, MAE: 3.27\n",
      "**************************************************\n",
      "Global model for CNP, MAPE: 11.72, MAE: 4.01\n",
      "**************************************************\n",
      "Global model for D, MAPE: 6.11, MAE: 3.27\n",
      "**************************************************\n",
      "Global model for DTE, MAPE: 3.10, MAE: 3.91\n",
      "**************************************************\n",
      "Global model for DUK, MAPE: 8.34, MAE: 9.61\n",
      "**************************************************\n",
      "Global model for ED, MAPE: 4.43, MAE: 4.56\n",
      "**************************************************\n",
      "Global model for EIX, MAPE: 15.76, MAE: 9.03\n",
      "**************************************************\n",
      "Global model for ES, MAPE: 4.44, MAE: 2.63\n",
      "**************************************************\n",
      "Global model for ETR, MAPE: 5.36, MAE: 4.03\n",
      "**************************************************\n",
      "Global model for EVRG, MAPE: 5.10, MAE: 3.26\n",
      "**************************************************\n",
      "Global model for EXC, MAPE: 11.40, MAE: 4.78\n",
      "**************************************************\n",
      "Global model for FE, MAPE: 10.93, MAE: 4.38\n",
      "**************************************************\n",
      "Global model for LNT, MAPE: 3.63, MAE: 2.13\n",
      "**************************************************\n",
      "Global model for NEE, MAPE: 11.31, MAE: 7.89\n",
      "**************************************************\n",
      "Global model for NI, MAPE: 11.35, MAE: 4.29\n",
      "**************************************************\n",
      "Global model for NRG, MAPE: 5.74, MAE: 5.32\n",
      "**************************************************\n",
      "Global model for PCG, MAPE: 14.74, MAE: 2.46\n",
      "**************************************************\n",
      "Global model for PEG, MAPE: 4.25, MAE: 3.46\n",
      "**************************************************\n",
      "Global model for PNW, MAPE: 1.93, MAE: 1.63\n",
      "**************************************************\n",
      "Global model for PPL, MAPE: 14.03, MAE: 4.77\n",
      "**************************************************\n",
      "Global model for SO, MAPE: 5.07, MAE: 4.36\n",
      "**************************************************\n",
      "Global model for SRE, MAPE: 8.74, MAE: 6.44\n",
      "**************************************************\n",
      "Global model for VST, MAPE: 27.52, MAE: 36.24\n",
      "**************************************************\n",
      "Global model for WEC, MAPE: 3.34, MAE: 3.24\n",
      "**************************************************\n",
      "Global model for XEL, MAPE: 9.36, MAE: 6.26\n",
      "**************************************************\n"
     ]
    }
   ],
   "source": [
    "mapes = {}\n",
    "maes = {}\n",
    "\n",
    "for ticker in data.keys():\n",
    "    y_pred = model.predict(\n",
    "        n=len(test[ticker]['close']),\n",
    "        series=train[ticker]['close'],\n",
    "        past_covariates=test[ticker][['high', 'low', 'volume', 'open']],\n",
    "        show_warnings=False\n",
    "    )\n",
    "    y_test = test[ticker]['close']\n",
    "    mape_ = mape(y_test, y_pred)\n",
    "    mae_ = mae(y_test, y_pred)\n",
    "\n",
    "    mapes[ticker] = mape_\n",
    "    maes[ticker] = mae_\n",
    "\n",
    "    print(f\"Global model for {ticker}, MAPE: {mape_:.2f}, MAE: {mae_:.2f}\")\n",
    "    print(\"*\" * 50)"
   ]
  },
  {
   "cell_type": "code",
   "execution_count": 13,
   "id": "954892bf",
   "metadata": {},
   "outputs": [
    {
     "data": {
      "text/plain": [
       "(8.542079555821216, 6.87950003636237)"
      ]
     },
     "execution_count": 13,
     "metadata": {},
     "output_type": "execute_result"
    }
   ],
   "source": [
    "np.mean(list(mapes.values())), np.mean(list(maes.values()))"
   ]
  },
  {
   "cell_type": "markdown",
   "id": "954b34fb",
   "metadata": {},
   "source": [
    "## Prophet model"
   ]
  },
  {
   "cell_type": "code",
   "execution_count": 14,
   "id": "0ca95853",
   "metadata": {},
   "outputs": [
    {
     "name": "stdout",
     "output_type": "stream",
     "text": [
      "Training model for AEE\n"
     ]
    },
    {
     "name": "stderr",
     "output_type": "stream",
     "text": [
      "22:04:43 - cmdstanpy - INFO - Chain [1] start processing\n",
      "22:04:46 - cmdstanpy - INFO - Chain [1] done processing\n"
     ]
    },
    {
     "name": "stdout",
     "output_type": "stream",
     "text": [
      "Model for AEE trained in 3.12 seconds\n",
      "**************************************************\n",
      "Training model for AEP\n"
     ]
    },
    {
     "name": "stderr",
     "output_type": "stream",
     "text": [
      "22:04:46 - cmdstanpy - INFO - Chain [1] start processing\n",
      "22:04:49 - cmdstanpy - INFO - Chain [1] done processing\n"
     ]
    },
    {
     "name": "stdout",
     "output_type": "stream",
     "text": [
      "Model for AEP trained in 3.35 seconds\n",
      "**************************************************\n",
      "Training model for AES\n"
     ]
    },
    {
     "name": "stderr",
     "output_type": "stream",
     "text": [
      "22:04:50 - cmdstanpy - INFO - Chain [1] start processing\n",
      "22:04:52 - cmdstanpy - INFO - Chain [1] done processing\n"
     ]
    },
    {
     "name": "stdout",
     "output_type": "stream",
     "text": [
      "Model for AES trained in 3.14 seconds\n",
      "**************************************************\n",
      "Training model for ATO\n"
     ]
    },
    {
     "name": "stderr",
     "output_type": "stream",
     "text": [
      "22:04:53 - cmdstanpy - INFO - Chain [1] start processing\n",
      "22:04:55 - cmdstanpy - INFO - Chain [1] done processing\n"
     ]
    },
    {
     "name": "stdout",
     "output_type": "stream",
     "text": [
      "Model for ATO trained in 3.00 seconds\n",
      "**************************************************\n",
      "Training model for AWK\n"
     ]
    },
    {
     "name": "stderr",
     "output_type": "stream",
     "text": [
      "22:04:56 - cmdstanpy - INFO - Chain [1] start processing\n",
      "22:04:58 - cmdstanpy - INFO - Chain [1] done processing\n",
      "22:04:58 - cmdstanpy - INFO - Chain [1] start processing\n"
     ]
    },
    {
     "name": "stdout",
     "output_type": "stream",
     "text": [
      "Model for AWK trained in 2.62 seconds\n",
      "**************************************************\n",
      "Training model for CEG\n"
     ]
    },
    {
     "name": "stderr",
     "output_type": "stream",
     "text": [
      "22:04:59 - cmdstanpy - INFO - Chain [1] done processing\n"
     ]
    },
    {
     "name": "stdout",
     "output_type": "stream",
     "text": [
      "Model for CEG trained in 1.17 seconds\n",
      "**************************************************\n",
      "Training model for CMS\n"
     ]
    },
    {
     "name": "stderr",
     "output_type": "stream",
     "text": [
      "22:05:00 - cmdstanpy - INFO - Chain [1] start processing\n",
      "22:05:02 - cmdstanpy - INFO - Chain [1] done processing\n"
     ]
    },
    {
     "name": "stdout",
     "output_type": "stream",
     "text": [
      "Model for CMS trained in 2.51 seconds\n",
      "**************************************************\n",
      "Training model for CNP\n"
     ]
    },
    {
     "name": "stderr",
     "output_type": "stream",
     "text": [
      "22:05:02 - cmdstanpy - INFO - Chain [1] start processing\n",
      "22:05:05 - cmdstanpy - INFO - Chain [1] done processing\n"
     ]
    },
    {
     "name": "stdout",
     "output_type": "stream",
     "text": [
      "Model for CNP trained in 3.17 seconds\n",
      "**************************************************\n",
      "Training model for D\n"
     ]
    },
    {
     "name": "stderr",
     "output_type": "stream",
     "text": [
      "22:05:05 - cmdstanpy - INFO - Chain [1] start processing\n",
      "22:05:08 - cmdstanpy - INFO - Chain [1] done processing\n"
     ]
    },
    {
     "name": "stdout",
     "output_type": "stream",
     "text": [
      "Model for D trained in 2.76 seconds\n",
      "**************************************************\n",
      "Training model for DTE\n"
     ]
    },
    {
     "name": "stderr",
     "output_type": "stream",
     "text": [
      "22:05:08 - cmdstanpy - INFO - Chain [1] start processing\n",
      "22:05:11 - cmdstanpy - INFO - Chain [1] done processing\n"
     ]
    },
    {
     "name": "stdout",
     "output_type": "stream",
     "text": [
      "Model for DTE trained in 3.13 seconds\n",
      "**************************************************\n",
      "Training model for DUK\n"
     ]
    },
    {
     "name": "stderr",
     "output_type": "stream",
     "text": [
      "22:05:11 - cmdstanpy - INFO - Chain [1] start processing\n",
      "22:05:14 - cmdstanpy - INFO - Chain [1] done processing\n"
     ]
    },
    {
     "name": "stdout",
     "output_type": "stream",
     "text": [
      "Model for DUK trained in 3.22 seconds\n",
      "**************************************************\n",
      "Training model for ED\n"
     ]
    },
    {
     "name": "stderr",
     "output_type": "stream",
     "text": [
      "22:05:14 - cmdstanpy - INFO - Chain [1] start processing\n",
      "22:05:17 - cmdstanpy - INFO - Chain [1] done processing\n"
     ]
    },
    {
     "name": "stdout",
     "output_type": "stream",
     "text": [
      "Model for ED trained in 3.17 seconds\n",
      "**************************************************\n",
      "Training model for EIX\n"
     ]
    },
    {
     "name": "stderr",
     "output_type": "stream",
     "text": [
      "22:05:17 - cmdstanpy - INFO - Chain [1] start processing\n",
      "22:05:19 - cmdstanpy - INFO - Chain [1] done processing\n"
     ]
    },
    {
     "name": "stdout",
     "output_type": "stream",
     "text": [
      "Model for EIX trained in 2.10 seconds\n",
      "**************************************************\n",
      "Training model for ES\n"
     ]
    },
    {
     "name": "stderr",
     "output_type": "stream",
     "text": [
      "22:05:20 - cmdstanpy - INFO - Chain [1] start processing\n",
      "22:05:22 - cmdstanpy - INFO - Chain [1] done processing\n"
     ]
    },
    {
     "name": "stdout",
     "output_type": "stream",
     "text": [
      "Model for ES trained in 3.13 seconds\n",
      "**************************************************\n",
      "Training model for ETR\n"
     ]
    },
    {
     "name": "stderr",
     "output_type": "stream",
     "text": [
      "22:05:23 - cmdstanpy - INFO - Chain [1] start processing\n",
      "22:05:24 - cmdstanpy - INFO - Chain [1] done processing\n"
     ]
    },
    {
     "name": "stdout",
     "output_type": "stream",
     "text": [
      "Model for ETR trained in 1.93 seconds\n",
      "**************************************************\n",
      "Training model for EVRG\n"
     ]
    },
    {
     "name": "stderr",
     "output_type": "stream",
     "text": [
      "22:05:25 - cmdstanpy - INFO - Chain [1] start processing\n",
      "22:05:27 - cmdstanpy - INFO - Chain [1] done processing\n"
     ]
    },
    {
     "name": "stdout",
     "output_type": "stream",
     "text": [
      "Model for EVRG trained in 2.53 seconds\n",
      "**************************************************\n",
      "Training model for EXC\n"
     ]
    },
    {
     "name": "stderr",
     "output_type": "stream",
     "text": [
      "22:05:27 - cmdstanpy - INFO - Chain [1] start processing\n",
      "22:05:30 - cmdstanpy - INFO - Chain [1] done processing\n"
     ]
    },
    {
     "name": "stdout",
     "output_type": "stream",
     "text": [
      "Model for EXC trained in 3.19 seconds\n",
      "**************************************************\n",
      "Training model for FE\n"
     ]
    },
    {
     "name": "stderr",
     "output_type": "stream",
     "text": [
      "22:05:30 - cmdstanpy - INFO - Chain [1] start processing\n",
      "22:05:33 - cmdstanpy - INFO - Chain [1] done processing\n"
     ]
    },
    {
     "name": "stdout",
     "output_type": "stream",
     "text": [
      "Model for FE trained in 2.56 seconds\n",
      "**************************************************\n",
      "Training model for LNT\n"
     ]
    },
    {
     "name": "stderr",
     "output_type": "stream",
     "text": [
      "22:05:33 - cmdstanpy - INFO - Chain [1] start processing\n",
      "22:05:35 - cmdstanpy - INFO - Chain [1] done processing\n"
     ]
    },
    {
     "name": "stdout",
     "output_type": "stream",
     "text": [
      "Model for LNT trained in 2.67 seconds\n",
      "**************************************************\n",
      "Training model for NEE\n"
     ]
    },
    {
     "name": "stderr",
     "output_type": "stream",
     "text": [
      "22:05:36 - cmdstanpy - INFO - Chain [1] start processing\n",
      "22:05:38 - cmdstanpy - INFO - Chain [1] done processing\n"
     ]
    },
    {
     "name": "stdout",
     "output_type": "stream",
     "text": [
      "Model for NEE trained in 2.32 seconds\n",
      "**************************************************\n",
      "Training model for NI\n"
     ]
    },
    {
     "name": "stderr",
     "output_type": "stream",
     "text": [
      "22:05:38 - cmdstanpy - INFO - Chain [1] start processing\n",
      "22:05:40 - cmdstanpy - INFO - Chain [1] done processing\n"
     ]
    },
    {
     "name": "stdout",
     "output_type": "stream",
     "text": [
      "Model for NI trained in 2.50 seconds\n",
      "**************************************************\n",
      "Training model for NRG\n"
     ]
    },
    {
     "name": "stderr",
     "output_type": "stream",
     "text": [
      "22:05:40 - cmdstanpy - INFO - Chain [1] start processing\n",
      "22:05:42 - cmdstanpy - INFO - Chain [1] done processing\n"
     ]
    },
    {
     "name": "stdout",
     "output_type": "stream",
     "text": [
      "Model for NRG trained in 2.08 seconds\n",
      "**************************************************\n",
      "Training model for PCG\n"
     ]
    },
    {
     "name": "stderr",
     "output_type": "stream",
     "text": [
      "22:05:43 - cmdstanpy - INFO - Chain [1] start processing\n",
      "22:05:46 - cmdstanpy - INFO - Chain [1] done processing\n"
     ]
    },
    {
     "name": "stdout",
     "output_type": "stream",
     "text": [
      "Model for PCG trained in 3.88 seconds\n",
      "**************************************************\n",
      "Training model for PEG\n"
     ]
    },
    {
     "name": "stderr",
     "output_type": "stream",
     "text": [
      "22:05:46 - cmdstanpy - INFO - Chain [1] start processing\n",
      "22:05:48 - cmdstanpy - INFO - Chain [1] done processing\n"
     ]
    },
    {
     "name": "stdout",
     "output_type": "stream",
     "text": [
      "Model for PEG trained in 2.12 seconds\n",
      "**************************************************\n",
      "Training model for PNW\n"
     ]
    },
    {
     "name": "stderr",
     "output_type": "stream",
     "text": [
      "22:05:49 - cmdstanpy - INFO - Chain [1] start processing\n",
      "22:05:52 - cmdstanpy - INFO - Chain [1] done processing\n"
     ]
    },
    {
     "name": "stdout",
     "output_type": "stream",
     "text": [
      "Model for PNW trained in 3.51 seconds\n",
      "**************************************************\n",
      "Training model for PPL\n"
     ]
    },
    {
     "name": "stderr",
     "output_type": "stream",
     "text": [
      "22:05:52 - cmdstanpy - INFO - Chain [1] start processing\n",
      "22:05:55 - cmdstanpy - INFO - Chain [1] done processing\n"
     ]
    },
    {
     "name": "stdout",
     "output_type": "stream",
     "text": [
      "Model for PPL trained in 3.36 seconds\n",
      "**************************************************\n",
      "Training model for SO\n"
     ]
    },
    {
     "name": "stderr",
     "output_type": "stream",
     "text": [
      "22:05:55 - cmdstanpy - INFO - Chain [1] start processing\n",
      "22:05:58 - cmdstanpy - INFO - Chain [1] done processing\n"
     ]
    },
    {
     "name": "stdout",
     "output_type": "stream",
     "text": [
      "Model for SO trained in 2.46 seconds\n",
      "**************************************************\n",
      "Training model for SRE\n"
     ]
    },
    {
     "name": "stderr",
     "output_type": "stream",
     "text": [
      "22:05:58 - cmdstanpy - INFO - Chain [1] start processing\n",
      "22:06:01 - cmdstanpy - INFO - Chain [1] done processing\n"
     ]
    },
    {
     "name": "stdout",
     "output_type": "stream",
     "text": [
      "Model for SRE trained in 3.52 seconds\n",
      "**************************************************\n",
      "Training model for VST\n"
     ]
    },
    {
     "name": "stderr",
     "output_type": "stream",
     "text": [
      "22:06:01 - cmdstanpy - INFO - Chain [1] start processing\n",
      "22:06:03 - cmdstanpy - INFO - Chain [1] done processing\n"
     ]
    },
    {
     "name": "stdout",
     "output_type": "stream",
     "text": [
      "Model for VST trained in 1.95 seconds\n",
      "**************************************************\n",
      "Training model for WEC\n"
     ]
    },
    {
     "name": "stderr",
     "output_type": "stream",
     "text": [
      "22:06:03 - cmdstanpy - INFO - Chain [1] start processing\n",
      "22:06:06 - cmdstanpy - INFO - Chain [1] done processing\n"
     ]
    },
    {
     "name": "stdout",
     "output_type": "stream",
     "text": [
      "Model for WEC trained in 3.25 seconds\n",
      "**************************************************\n",
      "Training model for XEL\n"
     ]
    },
    {
     "name": "stderr",
     "output_type": "stream",
     "text": [
      "22:06:07 - cmdstanpy - INFO - Chain [1] start processing\n",
      "22:06:09 - cmdstanpy - INFO - Chain [1] done processing\n"
     ]
    },
    {
     "name": "stdout",
     "output_type": "stream",
     "text": [
      "Model for XEL trained in 3.24 seconds\n",
      "**************************************************\n"
     ]
    }
   ],
   "source": [
    "models_prophet = {}\n",
    "\n",
    "for ticker in data.keys():\n",
    "    print(f\"Training model for {ticker}\")\n",
    "    start = time.time()\n",
    "    model = Prophet(\n",
    "        add_encoders={\n",
    "            'datetime_attribute': {\n",
    "                'future': ['month', 'day', 'dayofweek', 'dayofyear', 'quarter', 'year']  # automatically generate future covariates from time series\n",
    "            }\n",
    "        },\n",
    "        seasonality_mode='multiplicative',\n",
    "    )\n",
    "\n",
    "    model.fit(\n",
    "        train[ticker]['close']\n",
    "    )\n",
    "\n",
    "    end = time.time()\n",
    "    print(f\"Model for {ticker} trained in {end - start:.2f} seconds\")\n",
    "    print(\"*\" * 50)\n",
    "\n",
    "    models_prophet[ticker] = model"
   ]
  },
  {
   "cell_type": "code",
   "execution_count": 15,
   "id": "2ff81861",
   "metadata": {},
   "outputs": [
    {
     "name": "stdout",
     "output_type": "stream",
     "text": [
      "Ticker: AEE, MAPE: 32.84, MAE: 29.75\n",
      "**************************************************\n",
      "Ticker: AEP, MAPE: 29.55, MAE: 28.88\n",
      "**************************************************\n",
      "Ticker: AES, MAPE: 98.23, MAE: 13.65\n",
      "**************************************************\n",
      "Ticker: ATO, MAPE: 18.22, MAE: 25.99\n",
      "**************************************************\n",
      "Ticker: AWK, MAPE: 38.49, MAE: 52.46\n",
      "**************************************************\n",
      "Ticker: CEG, MAPE: 163.05, MAE: 351.63\n",
      "**************************************************\n",
      "Ticker: CMS, MAPE: 21.93, MAE: 14.95\n",
      "**************************************************\n",
      "Ticker: CNP, MAPE: 16.04, MAE: 5.22\n",
      "**************************************************\n",
      "Ticker: D, MAPE: 41.28, MAE: 22.37\n",
      "**************************************************\n",
      "Ticker: DTE, MAPE: 21.97, MAE: 27.16\n",
      "**************************************************\n",
      "Ticker: DUK, MAPE: 23.83, MAE: 26.64\n",
      "**************************************************\n",
      "Ticker: ED, MAPE: 16.13, MAE: 16.16\n",
      "**************************************************\n",
      "Ticker: EIX, MAPE: 17.27, MAE: 12.93\n",
      "**************************************************\n",
      "Ticker: ES, MAPE: 38.65, MAE: 23.35\n",
      "**************************************************\n",
      "Ticker: ETR, MAPE: 34.25, MAE: 24.87\n",
      "**************************************************\n",
      "Ticker: EVRG, MAPE: 31.31, MAE: 19.45\n",
      "**************************************************\n",
      "Ticker: EXC, MAPE: 16.76, MAE: 6.89\n",
      "**************************************************\n",
      "Ticker: FE, MAPE: 18.41, MAE: 7.52\n",
      "**************************************************\n",
      "Ticker: LNT, MAPE: 22.11, MAE: 13.01\n",
      "**************************************************\n",
      "Ticker: NEE, MAPE: 51.97, MAE: 38.21\n",
      "**************************************************\n",
      "Ticker: NI, MAPE: 26.40, MAE: 9.42\n",
      "**************************************************\n",
      "Ticker: NRG, MAPE: 33.48, MAE: 30.24\n",
      "**************************************************\n",
      "Ticker: PCG, MAPE: 30.08, MAE: 5.53\n",
      "**************************************************\n",
      "Ticker: PEG, MAPE: 23.86, MAE: 19.69\n",
      "**************************************************\n",
      "Ticker: PNW, MAPE: 31.30, MAE: 27.53\n",
      "**************************************************\n",
      "Ticker: PPL, MAPE: 25.89, MAE: 8.38\n",
      "**************************************************\n",
      "Ticker: SO, MAPE: 20.58, MAE: 17.67\n",
      "**************************************************\n",
      "Ticker: SRE, MAPE: 18.85, MAE: 15.25\n",
      "**************************************************\n",
      "Ticker: VST, MAPE: 36.22, MAE: 48.64\n",
      "**************************************************\n",
      "Ticker: WEC, MAPE: 24.85, MAE: 24.34\n",
      "**************************************************\n",
      "Ticker: XEL, MAPE: 28.56, MAE: 18.73\n",
      "**************************************************\n"
     ]
    }
   ],
   "source": [
    "mapes_prophet = {}\n",
    "maes_prophet = {}\n",
    "\n",
    "for ticker in data.keys():\n",
    "    y_test = test[ticker]['close']\n",
    "    y_pred = models_prophet[ticker].predict(\n",
    "        n=len(y_test),\n",
    "        show_warnings=False\n",
    "    )\n",
    "    mape_ = mape(y_test, y_pred)\n",
    "    mae_ = mae(y_test, y_pred)\n",
    "    mapes_prophet[ticker] = mape_\n",
    "    maes_prophet[ticker] = mae_\n",
    "    print(f\"Ticker: {ticker}, MAPE: {mape_:.2f}, MAE: {mae_:.2f}\")\n",
    "    print(\"*\" * 50)"
   ]
  },
  {
   "cell_type": "code",
   "execution_count": 16,
   "id": "1f4600c3",
   "metadata": {},
   "outputs": [
    {
     "data": {
      "text/plain": [
       "(33.94790047574618, 31.823623686722204)"
      ]
     },
     "execution_count": 16,
     "metadata": {},
     "output_type": "execute_result"
    }
   ],
   "source": [
    "np.mean(list(mapes_prophet.values())), np.mean(list(maes_prophet.values()))"
   ]
  },
  {
   "cell_type": "markdown",
   "id": "5e177a24",
   "metadata": {},
   "source": [
    "## Theta model"
   ]
  },
  {
   "cell_type": "code",
   "execution_count": 17,
   "id": "92b8127c",
   "metadata": {},
   "outputs": [
    {
     "name": "stdout",
     "output_type": "stream",
     "text": [
      "Training model for AEE\n",
      "Model for AEE trained in 1.06 seconds\n",
      "**************************************************\n",
      "Training model for AEP\n",
      "Model for AEP trained in 0.61 seconds\n",
      "**************************************************\n",
      "Training model for AES\n",
      "Model for AES trained in 0.60 seconds\n",
      "**************************************************\n",
      "Training model for ATO\n",
      "Model for ATO trained in 1.02 seconds\n",
      "**************************************************\n",
      "Training model for AWK\n",
      "Model for AWK trained in 0.63 seconds\n",
      "**************************************************\n",
      "Training model for CEG\n",
      "Model for CEG trained in 0.16 seconds\n",
      "**************************************************\n",
      "Training model for CMS\n",
      "Model for CMS trained in 0.67 seconds\n",
      "**************************************************\n",
      "Training model for CNP\n",
      "Model for CNP trained in 0.68 seconds\n",
      "**************************************************\n",
      "Training model for D\n",
      "Model for D trained in 1.08 seconds\n",
      "**************************************************\n",
      "Training model for DTE\n",
      "Model for DTE trained in 1.08 seconds\n",
      "**************************************************\n",
      "Training model for DUK\n",
      "Model for DUK trained in 1.02 seconds\n",
      "**************************************************\n",
      "Training model for ED\n",
      "Model for ED trained in 0.66 seconds\n",
      "**************************************************\n",
      "Training model for EIX\n",
      "Model for EIX trained in 0.63 seconds\n",
      "**************************************************\n",
      "Training model for ES\n",
      "Model for ES trained in 1.00 seconds\n",
      "**************************************************\n",
      "Training model for ETR\n",
      "Model for ETR trained in 1.08 seconds\n",
      "**************************************************\n",
      "Training model for EVRG\n",
      "Model for EVRG trained in 0.82 seconds\n",
      "**************************************************\n",
      "Training model for EXC\n",
      "Model for EXC trained in 0.71 seconds\n",
      "**************************************************\n",
      "Training model for FE\n",
      "Model for FE trained in 1.12 seconds\n",
      "**************************************************\n",
      "Training model for LNT\n",
      "Model for LNT trained in 0.72 seconds\n",
      "**************************************************\n",
      "Training model for NEE\n",
      "Model for NEE trained in 0.65 seconds\n",
      "**************************************************\n",
      "Training model for NI\n",
      "Model for NI trained in 0.93 seconds\n",
      "**************************************************\n",
      "Training model for NRG\n",
      "Model for NRG trained in 0.89 seconds\n",
      "**************************************************\n",
      "Training model for PCG\n",
      "Model for PCG trained in 0.73 seconds\n",
      "**************************************************\n",
      "Training model for PEG\n",
      "Model for PEG trained in 0.90 seconds\n",
      "**************************************************\n",
      "Training model for PNW\n",
      "Model for PNW trained in 0.91 seconds\n",
      "**************************************************\n",
      "Training model for PPL\n",
      "Model for PPL trained in 0.64 seconds\n",
      "**************************************************\n",
      "Training model for SO\n",
      "Model for SO trained in 0.79 seconds\n",
      "**************************************************\n",
      "Training model for SRE\n",
      "Model for SRE trained in 0.69 seconds\n",
      "**************************************************\n",
      "Training model for VST\n",
      "Model for VST trained in 0.82 seconds\n",
      "**************************************************\n",
      "Training model for WEC\n",
      "Model for WEC trained in 0.62 seconds\n",
      "**************************************************\n",
      "Training model for XEL\n",
      "Model for XEL trained in 0.99 seconds\n",
      "**************************************************\n"
     ]
    }
   ],
   "source": [
    "models_theta = {}\n",
    "\n",
    "for ticker in data.keys():\n",
    "    print(f\"Training model for {ticker}\")\n",
    "    start = time.time()\n",
    "    model = AutoTheta(\n",
    "        season_length=30\n",
    "    )\n",
    "\n",
    "    model.fit(\n",
    "        series=train[ticker]['close']\n",
    "    )\n",
    "\n",
    "    end = time.time()\n",
    "    print(f\"Model for {ticker} trained in {end - start:.2f} seconds\")\n",
    "    print(\"*\" * 50)\n",
    "\n",
    "    models_theta[ticker] = model"
   ]
  },
  {
   "cell_type": "code",
   "execution_count": 18,
   "id": "d466fb13",
   "metadata": {},
   "outputs": [
    {
     "name": "stdout",
     "output_type": "stream",
     "text": [
      "Ticker: AEE, MAPE: 13.77, MAE: 12.53\n",
      "**************************************************\n",
      "Ticker: AEP, MAPE: 10.03, MAE: 10.03\n",
      "**************************************************\n",
      "Ticker: AES, MAPE: 34.95, MAE: 4.18\n",
      "**************************************************\n",
      "Ticker: ATO, MAPE: 12.90, MAE: 18.43\n",
      "**************************************************\n",
      "Ticker: AWK, MAPE: 7.19, MAE: 10.00\n",
      "**************************************************\n",
      "Ticker: CEG, MAPE: 21.05, MAE: 50.23\n",
      "**************************************************\n",
      "Ticker: CMS, MAPE: 9.51, MAE: 6.57\n",
      "**************************************************\n",
      "Ticker: CNP, MAPE: 8.20, MAE: 2.69\n",
      "**************************************************\n",
      "Ticker: D, MAPE: 8.70, MAE: 4.78\n",
      "**************************************************\n",
      "Ticker: DTE, MAPE: 9.00, MAE: 11.32\n",
      "**************************************************\n",
      "Ticker: DUK, MAPE: 11.42, MAE: 12.94\n",
      "**************************************************\n",
      "Ticker: ED, MAPE: 6.29, MAE: 6.37\n",
      "**************************************************\n",
      "Ticker: EIX, MAPE: 15.42, MAE: 10.31\n",
      "**************************************************\n",
      "Ticker: ES, MAPE: 4.75, MAE: 2.89\n",
      "**************************************************\n",
      "Ticker: ETR, MAPE: 20.82, MAE: 15.79\n",
      "**************************************************\n",
      "Ticker: EVRG, MAPE: 12.75, MAE: 8.04\n",
      "**************************************************\n",
      "Ticker: EXC, MAPE: 6.36, MAE: 2.64\n",
      "**************************************************\n",
      "Ticker: FE, MAPE: 5.93, MAE: 2.46\n",
      "**************************************************\n",
      "Ticker: LNT, MAPE: 12.05, MAE: 7.15\n",
      "**************************************************\n",
      "Ticker: NEE, MAPE: 7.16, MAE: 5.45\n",
      "**************************************************\n",
      "Ticker: NI, MAPE: 17.22, MAE: 6.26\n",
      "**************************************************\n",
      "Ticker: NRG, MAPE: 14.74, MAE: 14.07\n",
      "**************************************************\n",
      "Ticker: PCG, MAPE: 12.74, MAE: 2.43\n",
      "**************************************************\n",
      "Ticker: PEG, MAPE: 14.51, MAE: 12.10\n",
      "**************************************************\n",
      "Ticker: PNW, MAPE: 13.57, MAE: 11.99\n",
      "**************************************************\n",
      "Ticker: PPL, MAPE: 13.94, MAE: 4.61\n",
      "**************************************************\n",
      "Ticker: SO, MAPE: 12.08, MAE: 10.45\n",
      "**************************************************\n",
      "Ticker: SRE, MAPE: 9.36, MAE: 7.68\n",
      "**************************************************\n",
      "Ticker: VST, MAPE: 27.22, MAE: 37.32\n",
      "**************************************************\n",
      "Ticker: WEC, MAPE: 12.82, MAE: 12.62\n",
      "**************************************************\n",
      "Ticker: XEL, MAPE: 14.69, MAE: 9.72\n",
      "**************************************************\n"
     ]
    }
   ],
   "source": [
    "mapes_theta = {}\n",
    "maes_theta = {}\n",
    "\n",
    "for ticker in data.keys():\n",
    "    y_test = test[ticker]['close']\n",
    "    y_pred = models_theta[ticker].predict(\n",
    "        n=len(y_test),\n",
    "        show_warnings=False\n",
    "    )\n",
    "    mape_ = mape(y_test, y_pred)\n",
    "    mae_ = mae(y_test, y_pred)\n",
    "    mapes_theta[ticker] = mape_\n",
    "    maes_theta[ticker] = mae_\n",
    "    print(f\"Ticker: {ticker}, MAPE: {mape_:.2f}, MAE: {mae_:.2f}\")\n",
    "    print(\"*\" * 50)"
   ]
  },
  {
   "cell_type": "code",
   "execution_count": 19,
   "id": "25979024",
   "metadata": {},
   "outputs": [
    {
     "data": {
      "text/plain": [
       "(12.94047385746659, 10.775684431093415)"
      ]
     },
     "execution_count": 19,
     "metadata": {},
     "output_type": "execute_result"
    }
   ],
   "source": [
    "np.mean(list(mapes_theta.values())), np.mean(list(maes_theta.values()))"
   ]
  },
  {
   "cell_type": "markdown",
   "id": "d147b846",
   "metadata": {},
   "source": [
    "## Linear Regression"
   ]
  },
  {
   "cell_type": "markdown",
   "id": "6df2f493",
   "metadata": {},
   "source": [
    "### Local model"
   ]
  },
  {
   "cell_type": "code",
   "execution_count": 20,
   "id": "a98d2d26",
   "metadata": {},
   "outputs": [
    {
     "name": "stdout",
     "output_type": "stream",
     "text": [
      "Training model for AEE\n",
      "Model for AEE trained in 0.13 seconds\n",
      "**************************************************\n",
      "Training model for AEP\n",
      "Model for AEP trained in 0.12 seconds\n",
      "**************************************************\n",
      "Training model for AES\n",
      "Model for AES trained in 0.12 seconds\n",
      "**************************************************\n",
      "Training model for ATO\n",
      "Model for ATO trained in 0.13 seconds\n",
      "**************************************************\n",
      "Training model for AWK\n",
      "Model for AWK trained in 0.16 seconds\n",
      "**************************************************\n",
      "Training model for CEG\n",
      "Model for CEG trained in 0.07 seconds\n",
      "**************************************************\n",
      "Training model for CMS\n",
      "Model for CMS trained in 0.12 seconds\n",
      "**************************************************\n",
      "Training model for CNP\n",
      "Model for CNP trained in 0.12 seconds\n",
      "**************************************************\n",
      "Training model for D\n",
      "Model for D trained in 0.12 seconds\n",
      "**************************************************\n",
      "Training model for DTE\n",
      "Model for DTE trained in 0.12 seconds\n",
      "**************************************************\n",
      "Training model for DUK\n",
      "Model for DUK trained in 0.13 seconds\n",
      "**************************************************\n",
      "Training model for ED\n",
      "Model for ED trained in 0.13 seconds\n",
      "**************************************************\n",
      "Training model for EIX\n",
      "Model for EIX trained in 0.13 seconds\n",
      "**************************************************\n",
      "Training model for ES\n",
      "Model for ES trained in 0.12 seconds\n",
      "**************************************************\n",
      "Training model for ETR\n",
      "Model for ETR trained in 0.12 seconds\n",
      "**************************************************\n",
      "Training model for EVRG\n",
      "Model for EVRG trained in 0.16 seconds\n",
      "**************************************************\n",
      "Training model for EXC\n",
      "Model for EXC trained in 0.13 seconds\n",
      "**************************************************\n",
      "Training model for FE\n",
      "Model for FE trained in 0.12 seconds\n",
      "**************************************************\n",
      "Training model for LNT\n",
      "Model for LNT trained in 0.13 seconds\n",
      "**************************************************\n",
      "Training model for NEE\n",
      "Model for NEE trained in 0.12 seconds\n",
      "**************************************************\n",
      "Training model for NI\n",
      "Model for NI trained in 0.13 seconds\n",
      "**************************************************\n",
      "Training model for NRG\n",
      "Model for NRG trained in 0.13 seconds\n",
      "**************************************************\n",
      "Training model for PCG\n",
      "Model for PCG trained in 0.13 seconds\n",
      "**************************************************\n",
      "Training model for PEG\n",
      "Model for PEG trained in 0.13 seconds\n",
      "**************************************************\n",
      "Training model for PNW\n",
      "Model for PNW trained in 0.12 seconds\n",
      "**************************************************\n",
      "Training model for PPL\n",
      "Model for PPL trained in 0.12 seconds\n",
      "**************************************************\n",
      "Training model for SO\n",
      "Model for SO trained in 0.12 seconds\n",
      "**************************************************\n",
      "Training model for SRE\n",
      "Model for SRE trained in 0.13 seconds\n",
      "**************************************************\n",
      "Training model for VST\n",
      "Model for VST trained in 0.14 seconds\n",
      "**************************************************\n",
      "Training model for WEC\n",
      "Model for WEC trained in 0.13 seconds\n",
      "**************************************************\n",
      "Training model for XEL\n",
      "Model for XEL trained in 0.12 seconds\n",
      "**************************************************\n"
     ]
    }
   ],
   "source": [
    "models_lr = {}\n",
    "\n",
    "for ticker in data.keys():\n",
    "    print(f\"Training model for {ticker}\")\n",
    "    start = time.time()\n",
    "    model = LinearRegressionModel(\n",
    "        lags=15,\n",
    "        lags_past_covariates=1,\n",
    "        lags_future_covariates=[0],\n",
    "        output_chunk_length=1,\n",
    "        random_state=42,\n",
    "        add_encoders={\n",
    "            'datetime_attribute': {\n",
    "                'future': ['month', 'day', 'dayofweek', 'dayofyear', 'quarter', 'year'] # automatically generate future covariates from time series\n",
    "            }\n",
    "        }\n",
    "    )\n",
    "\n",
    "    model.fit(\n",
    "        train[ticker]['close'],\n",
    "        past_covariates=train[ticker][['high', 'low', 'volume', 'open']],\n",
    "    )\n",
    "\n",
    "    end = time.time()\n",
    "    print(f\"Model for {ticker} trained in {end - start:.2f} seconds\")\n",
    "    print(\"*\" * 50)\n",
    "\n",
    "    models_lr[ticker] = model"
   ]
  },
  {
   "cell_type": "code",
   "execution_count": 21,
   "id": "79a5002a",
   "metadata": {},
   "outputs": [
    {
     "name": "stdout",
     "output_type": "stream",
     "text": [
      "Ticker: AEE, MAPE: 488565.07, MAE: 479821.16\n",
      "**************************************************\n",
      "Ticker: AEP, MAPE: 14473.51, MAE: 15211.79\n",
      "**************************************************\n",
      "Ticker: AES, MAPE: 9.98, MAE: 1.31\n",
      "**************************************************\n",
      "Ticker: ATO, MAPE: 311814.96, MAE: 482770.06\n",
      "**************************************************\n",
      "Ticker: AWK, MAPE: 1.45, MAE: 1.95\n",
      "**************************************************\n",
      "Ticker: CEG, MAPE: 4231.06, MAE: 9158.41\n",
      "**************************************************\n",
      "Ticker: CMS, MAPE: 2.29, MAE: 1.53\n",
      "**************************************************\n",
      "Ticker: CNP, MAPE: 1.68, MAE: 0.52\n",
      "**************************************************\n",
      "Ticker: D, MAPE: 1.46, MAE: 0.78\n",
      "**************************************************\n",
      "Ticker: DTE, MAPE: 2.81, MAE: 3.48\n",
      "**************************************************\n",
      "Ticker: DUK, MAPE: 1.93, MAE: 2.16\n",
      "**************************************************\n",
      "Ticker: ED, MAPE: 304553.09, MAE: 331379.75\n",
      "**************************************************\n",
      "Ticker: EIX, MAPE: 3.91, MAE: 2.67\n",
      "**************************************************\n",
      "Ticker: ES, MAPE: 4.06, MAE: 2.44\n",
      "**************************************************\n",
      "Ticker: ETR, MAPE: 4.29, MAE: 3.09\n",
      "**************************************************\n",
      "Ticker: EVRG, MAPE: 1.49, MAE: 0.90\n",
      "**************************************************\n",
      "Ticker: EXC, MAPE: 1.93, MAE: 0.76\n",
      "**************************************************\n",
      "Ticker: FE, MAPE: 4671248676.87, MAE: 1950735427.50\n",
      "**************************************************\n",
      "Ticker: LNT, MAPE: 110.86, MAE: 67.25\n",
      "**************************************************\n",
      "Ticker: NEE, MAPE: 1.93, MAE: 1.41\n",
      "**************************************************\n",
      "Ticker: NI, MAPE: 5.80, MAE: 2.06\n",
      "**************************************************\n",
      "Ticker: NRG, MAPE: 4.11, MAE: 3.75\n",
      "**************************************************\n",
      "Ticker: PCG, MAPE: 7906.70, MAE: 1338.72\n",
      "**************************************************\n",
      "Ticker: PEG, MAPE: 5.92, MAE: 4.91\n",
      "**************************************************\n",
      "Ticker: PNW, MAPE: 2.52, MAE: 2.19\n",
      "**************************************************\n",
      "Ticker: PPL, MAPE: 1.70, MAE: 0.55\n",
      "**************************************************\n",
      "Ticker: SO, MAPE: 1.34, MAE: 1.14\n",
      "**************************************************\n",
      "Ticker: SRE, MAPE: 1.88, MAE: 1.47\n",
      "**************************************************\n",
      "Ticker: VST, MAPE: 5.30, MAE: 6.41\n",
      "**************************************************\n",
      "Ticker: WEC, MAPE: 9.40, MAE: 9.17\n",
      "**************************************************\n",
      "Ticker: XEL, MAPE: 2.78, MAE: 1.76\n",
      "**************************************************\n"
     ]
    }
   ],
   "source": [
    "mapes_lr = {}\n",
    "maes_lr = {}\n",
    "\n",
    "for ticker in data.keys():\n",
    "    y_test = test[ticker]['close']\n",
    "    y_pred = models_lr[ticker].predict(\n",
    "        n=len(y_test),\n",
    "        past_covariates=test[ticker][['high', 'low', 'volume', 'open']],\n",
    "        show_warnings=False\n",
    "    )\n",
    "    mape_ = mape(y_test, y_pred)\n",
    "    mae_ = mae(y_test, y_pred)\n",
    "    mapes_lr[ticker] = mape_\n",
    "    maes_lr[ticker] = mae_\n",
    "    print(f\"Ticker: {ticker}, MAPE: {mape_:.2f}, MAE: {mae_:.2f}\")\n",
    "    print(\"*\" * 50)"
   ]
  },
  {
   "cell_type": "code",
   "execution_count": 22,
   "id": "1a3fbd8d",
   "metadata": {},
   "outputs": [
    {
     "data": {
      "text/plain": [
       "(150721948.77610624, 62969523.58290918)"
      ]
     },
     "execution_count": 22,
     "metadata": {},
     "output_type": "execute_result"
    }
   ],
   "source": [
    "np.mean(list(mapes_lr.values())), np.mean(list(maes_lr.values()))"
   ]
  },
  {
   "cell_type": "markdown",
   "id": "1f27462f",
   "metadata": {},
   "source": [
    "### Global model"
   ]
  },
  {
   "cell_type": "code",
   "execution_count": 23,
   "id": "3879adfb",
   "metadata": {},
   "outputs": [
    {
     "name": "stdout",
     "output_type": "stream",
     "text": [
      "Training global model\n",
      "Global model trained in 3.68 seconds\n",
      "**************************************************\n"
     ]
    }
   ],
   "source": [
    "print(f\"Training global model\")\n",
    "start = time.time()\n",
    "model = LinearRegressionModel(\n",
    "    lags=15,\n",
    "    lags_past_covariates=1,\n",
    "    lags_future_covariates=[0],\n",
    "    output_chunk_length=1,\n",
    "    random_state=42,\n",
    "    add_encoders={\n",
    "        'datetime_attribute': {\n",
    "            'future': ['month', 'day', 'dayofweek', 'dayofyear', 'quarter', 'year'] # automatically generate future covariates from time series\n",
    "        }\n",
    "    }\n",
    ")\n",
    "\n",
    "model.fit(\n",
    "    [ts['close'] for ts in train.values()],\n",
    "    past_covariates=[ts[['high', 'low', 'volume', 'open']] for ts in train.values()],\n",
    ")\n",
    "\n",
    "end = time.time()\n",
    "print(f\"Global model trained in {end - start:.2f} seconds\")\n",
    "print(\"*\" * 50)"
   ]
  },
  {
   "cell_type": "code",
   "execution_count": 24,
   "id": "545bdc45",
   "metadata": {},
   "outputs": [
    {
     "name": "stdout",
     "output_type": "stream",
     "text": [
      "Global model for AEE, MAPE: 2.24, MAE: 1.92\n",
      "**************************************************\n",
      "Global model for AEP, MAPE: 2.28, MAE: 2.21\n",
      "**************************************************\n",
      "Global model for AES, MAPE: 6.69, MAE: 0.92\n",
      "**************************************************\n",
      "Global model for ATO, MAPE: 2.17, MAE: 2.98\n",
      "**************************************************\n",
      "Global model for AWK, MAPE: 2.52, MAE: 3.40\n",
      "**************************************************\n",
      "Global model for CEG, MAPE: 10.44, MAE: 25.74\n",
      "**************************************************\n",
      "Global model for CMS, MAPE: 2.09, MAE: 1.39\n",
      "**************************************************\n",
      "Global model for CNP, MAPE: 2.65, MAE: 0.80\n",
      "**************************************************\n",
      "Global model for D, MAPE: 2.31, MAE: 1.23\n",
      "**************************************************\n",
      "Global model for DTE, MAPE: 2.13, MAE: 2.60\n",
      "**************************************************\n",
      "Global model for DUK, MAPE: 2.15, MAE: 2.38\n",
      "**************************************************\n",
      "Global model for ED, MAPE: 2.75, MAE: 2.67\n",
      "**************************************************\n",
      "Global model for EIX, MAPE: 4.27, MAE: 2.76\n",
      "**************************************************\n",
      "Global model for ES, MAPE: 2.63, MAE: 1.57\n",
      "**************************************************\n",
      "Global model for ETR, MAPE: 3.02, MAE: 2.08\n",
      "**************************************************\n",
      "Global model for EVRG, MAPE: 2.04, MAE: 1.23\n",
      "**************************************************\n",
      "Global model for EXC, MAPE: 2.43, MAE: 0.95\n",
      "**************************************************\n",
      "Global model for FE, MAPE: 2.06, MAE: 0.83\n",
      "**************************************************\n",
      "Global model for LNT, MAPE: 2.20, MAE: 1.27\n",
      "**************************************************\n",
      "Global model for NEE, MAPE: 2.95, MAE: 2.17\n",
      "**************************************************\n",
      "Global model for NI, MAPE: 2.32, MAE: 0.80\n",
      "**************************************************\n",
      "Global model for NRG, MAPE: 4.09, MAE: 3.74\n",
      "**************************************************\n",
      "Global model for PCG, MAPE: 3.03, MAE: 0.54\n",
      "**************************************************\n",
      "Global model for PEG, MAPE: 2.39, MAE: 1.96\n",
      "**************************************************\n",
      "Global model for PNW, MAPE: 2.29, MAE: 1.96\n",
      "**************************************************\n",
      "Global model for PPL, MAPE: 2.12, MAE: 0.68\n",
      "**************************************************\n",
      "Global model for SO, MAPE: 2.03, MAE: 1.73\n",
      "**************************************************\n",
      "Global model for SRE, MAPE: 2.99, MAE: 2.32\n",
      "**************************************************\n",
      "Global model for VST, MAPE: 8.80, MAE: 10.93\n",
      "**************************************************\n",
      "Global model for WEC, MAPE: 2.45, MAE: 2.28\n",
      "**************************************************\n",
      "Global model for XEL, MAPE: 2.33, MAE: 1.47\n",
      "**************************************************\n"
     ]
    }
   ],
   "source": [
    "mapes_lr_global = {}\n",
    "maes_lr_global = {}\n",
    "\n",
    "for ticker in data.keys():\n",
    "    y_pred = model.predict(\n",
    "        n=len(test[ticker]['close']),\n",
    "        series=train[ticker]['close'],\n",
    "        past_covariates=test[ticker][['high', 'low', 'volume', 'open']],\n",
    "        show_warnings=False\n",
    "    )\n",
    "    y_test = test[ticker]['close']\n",
    "    mape_ = mape(y_test, y_pred)\n",
    "    mae_ = mae(y_test, y_pred)\n",
    "\n",
    "    mapes_lr_global[ticker] = mape_\n",
    "    maes_lr_global[ticker] = mae_\n",
    "\n",
    "    print(f\"Global model for {ticker}, MAPE: {mape_:.2f}, MAE: {mae_:.2f}\")\n",
    "    print(\"*\" * 50)"
   ]
  },
  {
   "cell_type": "code",
   "execution_count": 25,
   "id": "40364019",
   "metadata": {},
   "outputs": [
    {
     "data": {
      "text/plain": [
       "(3.124581792018007, 2.887410301610158)"
      ]
     },
     "execution_count": 25,
     "metadata": {},
     "output_type": "execute_result"
    }
   ],
   "source": [
    "np.mean(list(mapes_lr_global.values())), np.mean(list(maes_lr_global.values()))"
   ]
  },
  {
   "cell_type": "markdown",
   "id": "aa41ad7a",
   "metadata": {},
   "source": [
    "## ARIMA"
   ]
  },
  {
   "cell_type": "code",
   "execution_count": 26,
   "id": "135ba2a8",
   "metadata": {},
   "outputs": [
    {
     "name": "stdout",
     "output_type": "stream",
     "text": [
      "Training model for AEE\n",
      "Model for AEE trained in 4.09 seconds\n",
      "**************************************************\n",
      "Training model for AEP\n",
      "Model for AEP trained in 0.17 seconds\n",
      "**************************************************\n",
      "Training model for AES\n",
      "Model for AES trained in 1.02 seconds\n",
      "**************************************************\n",
      "Training model for ATO\n",
      "Model for ATO trained in 2.94 seconds\n",
      "**************************************************\n",
      "Training model for AWK\n",
      "Model for AWK trained in 0.18 seconds\n",
      "**************************************************\n",
      "Training model for CEG\n",
      "Model for CEG trained in 0.52 seconds\n",
      "**************************************************\n",
      "Training model for CMS\n",
      "Model for CMS trained in 4.55 seconds\n",
      "**************************************************\n",
      "Training model for CNP\n",
      "Model for CNP trained in 1.33 seconds\n",
      "**************************************************\n",
      "Training model for D\n",
      "Model for D trained in 3.73 seconds\n",
      "**************************************************\n",
      "Training model for DTE\n",
      "Model for DTE trained in 0.69 seconds\n",
      "**************************************************\n",
      "Training model for DUK\n",
      "Model for DUK trained in 2.54 seconds\n",
      "**************************************************\n",
      "Training model for ED\n",
      "Model for ED trained in 2.30 seconds\n",
      "**************************************************\n",
      "Training model for EIX\n",
      "Model for EIX trained in 0.23 seconds\n",
      "**************************************************\n",
      "Training model for ES\n",
      "Model for ES trained in 2.33 seconds\n",
      "**************************************************\n",
      "Training model for ETR\n",
      "Model for ETR trained in 2.21 seconds\n",
      "**************************************************\n",
      "Training model for EVRG\n",
      "Model for EVRG trained in 0.41 seconds\n",
      "**************************************************\n",
      "Training model for EXC\n",
      "Model for EXC trained in 1.92 seconds\n",
      "**************************************************\n",
      "Training model for FE\n",
      "Model for FE trained in 1.34 seconds\n",
      "**************************************************\n",
      "Training model for LNT\n",
      "Model for LNT trained in 0.17 seconds\n",
      "**************************************************\n",
      "Training model for NEE\n",
      "Model for NEE trained in 0.21 seconds\n",
      "**************************************************\n",
      "Training model for NI\n",
      "Model for NI trained in 0.68 seconds\n",
      "**************************************************\n",
      "Training model for NRG\n",
      "Model for NRG trained in 0.24 seconds\n",
      "**************************************************\n",
      "Training model for PCG\n",
      "Model for PCG trained in 1.40 seconds\n",
      "**************************************************\n",
      "Training model for PEG\n",
      "Model for PEG trained in 0.79 seconds\n",
      "**************************************************\n",
      "Training model for PNW\n",
      "Model for PNW trained in 0.94 seconds\n",
      "**************************************************\n",
      "Training model for PPL\n",
      "Model for PPL trained in 0.20 seconds\n",
      "**************************************************\n",
      "Training model for SO\n",
      "Model for SO trained in 0.20 seconds\n",
      "**************************************************\n",
      "Training model for SRE\n",
      "Model for SRE trained in 0.20 seconds\n",
      "**************************************************\n",
      "Training model for VST\n",
      "Model for VST trained in 0.24 seconds\n",
      "**************************************************\n",
      "Training model for WEC\n",
      "Model for WEC trained in 3.71 seconds\n",
      "**************************************************\n",
      "Training model for XEL\n",
      "Model for XEL trained in 4.57 seconds\n",
      "**************************************************\n"
     ]
    }
   ],
   "source": [
    "models_arima = {}\n",
    "\n",
    "for ticker in data.keys():\n",
    "    print(f\"Training model for {ticker}\")\n",
    "    start = time.time()\n",
    "    model = AutoARIMA()\n",
    "\n",
    "    model.fit(\n",
    "        series=train[ticker]['close'],\n",
    "    )\n",
    "\n",
    "    end = time.time()\n",
    "    print(f\"Model for {ticker} trained in {end - start:.2f} seconds\")\n",
    "    print(\"*\" * 50)\n",
    "\n",
    "    models_arima[ticker] = model"
   ]
  },
  {
   "cell_type": "code",
   "execution_count": 27,
   "id": "64a5ed9e",
   "metadata": {},
   "outputs": [
    {
     "name": "stdout",
     "output_type": "stream",
     "text": [
      "Ticker: AEE, MAPE: 15.33, MAE: 13.99\n",
      "**************************************************\n",
      "Ticker: AEP, MAPE: 11.34, MAE: 11.33\n",
      "**************************************************\n",
      "Ticker: AES, MAPE: 32.02, MAE: 3.83\n",
      "**************************************************\n",
      "Ticker: ATO, MAPE: 11.53, MAE: 16.44\n",
      "**************************************************\n",
      "Ticker: AWK, MAPE: 8.50, MAE: 11.88\n",
      "**************************************************\n",
      "Ticker: CEG, MAPE: 21.81, MAE: 51.82\n",
      "**************************************************\n",
      "Ticker: CMS, MAPE: 12.05, MAE: 8.32\n",
      "**************************************************\n",
      "Ticker: CNP, MAPE: 8.91, MAE: 2.93\n",
      "**************************************************\n",
      "Ticker: D, MAPE: 9.33, MAE: 5.13\n",
      "**************************************************\n",
      "Ticker: DTE, MAPE: 10.34, MAE: 12.99\n",
      "**************************************************\n",
      "Ticker: DUK, MAPE: 12.78, MAE: 14.47\n",
      "**************************************************\n",
      "Ticker: ED, MAPE: 6.24, MAE: 6.32\n",
      "**************************************************\n",
      "Ticker: EIX, MAPE: 15.24, MAE: 10.29\n",
      "**************************************************\n",
      "Ticker: ES, MAPE: 5.08, MAE: 3.14\n",
      "**************************************************\n",
      "Ticker: ETR, MAPE: 21.71, MAE: 16.47\n",
      "**************************************************\n",
      "Ticker: EVRG, MAPE: 13.89, MAE: 8.76\n",
      "**************************************************\n",
      "Ticker: EXC, MAPE: 7.67, MAE: 3.19\n",
      "**************************************************\n",
      "Ticker: FE, MAPE: 6.79, MAE: 2.81\n",
      "**************************************************\n",
      "Ticker: LNT, MAPE: 13.47, MAE: 7.99\n",
      "**************************************************\n",
      "Ticker: NEE, MAPE: 8.76, MAE: 6.71\n",
      "**************************************************\n",
      "Ticker: NI, MAPE: 17.80, MAE: 6.48\n",
      "**************************************************\n",
      "Ticker: NRG, MAPE: 13.53, MAE: 12.92\n",
      "**************************************************\n",
      "Ticker: PCG, MAPE: 7.85, MAE: 1.49\n",
      "**************************************************\n",
      "Ticker: PEG, MAPE: 15.56, MAE: 12.98\n",
      "**************************************************\n",
      "Ticker: PNW, MAPE: 13.97, MAE: 12.34\n",
      "**************************************************\n",
      "Ticker: PPL, MAPE: 14.08, MAE: 4.66\n",
      "**************************************************\n",
      "Ticker: SO, MAPE: 13.43, MAE: 11.62\n",
      "**************************************************\n",
      "Ticker: SRE, MAPE: 10.31, MAE: 8.53\n",
      "**************************************************\n",
      "Ticker: VST, MAPE: 18.42, MAE: 22.13\n",
      "**************************************************\n",
      "Ticker: WEC, MAPE: 14.38, MAE: 14.19\n",
      "**************************************************\n",
      "Ticker: XEL, MAPE: 16.32, MAE: 10.80\n",
      "**************************************************\n"
     ]
    }
   ],
   "source": [
    "mapes_arima = {}\n",
    "maes_arima = {}\n",
    "\n",
    "for ticker in data.keys():\n",
    "    y_test = test[ticker]['close']\n",
    "    y_pred = models_arima[ticker].predict(\n",
    "        n=len(y_test),\n",
    "        show_warnings=False\n",
    "    )\n",
    "    mape_ = mape(y_test, y_pred)\n",
    "    mae_ = mae(y_test, y_pred)\n",
    "    mapes_arima[ticker] = mape_\n",
    "    maes_arima[ticker] = mae_\n",
    "    print(f\"Ticker: {ticker}, MAPE: {mape_:.2f}, MAE: {mae_:.2f}\")\n",
    "    print(\"*\" * 50)"
   ]
  },
  {
   "cell_type": "code",
   "execution_count": 28,
   "id": "3540f772",
   "metadata": {},
   "outputs": [
    {
     "data": {
      "text/plain": [
       "(13.175480744474507, 10.86896206866302)"
      ]
     },
     "execution_count": 28,
     "metadata": {},
     "output_type": "execute_result"
    }
   ],
   "source": [
    "np.mean(list(mapes_arima.values())), np.mean(list(maes_arima.values()))"
   ]
  }
 ],
 "metadata": {
  "kernelspec": {
   "display_name": ".venv",
   "language": "python",
   "name": "python3"
  },
  "language_info": {
   "codemirror_mode": {
    "name": "ipython",
    "version": 3
   },
   "file_extension": ".py",
   "mimetype": "text/x-python",
   "name": "python",
   "nbconvert_exporter": "python",
   "pygments_lexer": "ipython3",
   "version": "3.12.1"
  }
 },
 "nbformat": 4,
 "nbformat_minor": 5
}
